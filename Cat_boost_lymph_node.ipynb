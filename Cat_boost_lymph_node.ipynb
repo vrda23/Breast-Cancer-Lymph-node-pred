{
 "cells": [
  {
   "cell_type": "code",
   "execution_count": 1,
   "id": "c14619d9-60a4-471b-9efb-f0dafffc3ed2",
   "metadata": {},
   "outputs": [],
   "source": [
    "import numpy as np\n",
    "import pandas as pd\n",
    "import seaborn as sns\n",
    "import matplotlib.pyplot as plt\n",
    "from sklearn.metrics import roc_curve, roc_auc_score\n",
    "import optuna\n",
    "from sklearn.model_selection import train_test_split\n",
    "import catboost as cb\n",
    "from catboost import CatBoostClassifier\n",
    "from catboost import Pool, cv\n",
    "from sklearn.ensemble import RandomForestClassifier\n",
    "from sklearn.model_selection import GridSearchCV\n",
    "\n",
    "from sklearn.experimental import enable_halving_search_cv\n",
    "from sklearn.model_selection import HalvingGridSearchCV\n",
    "from sklearn.model_selection import StratifiedKFold\n",
    "from sklearn.model_selection import RepeatedStratifiedKFold\n",
    "from imblearn.ensemble import BalancedRandomForestClassifier\n",
    "\n",
    "import xgboost as xgb"
   ]
  },
  {
   "cell_type": "code",
   "execution_count": 2,
   "id": "002f385d-5ba3-40fa-9592-3fa6a17b3e0f",
   "metadata": {},
   "outputs": [],
   "source": [
    "df= pd.read_csv(r\"C:\\Users\\jvrdo\\Breast Cancer Lymph Node\\ly_pred_clean_3\")"
   ]
  },
  {
   "cell_type": "code",
   "execution_count": 3,
   "id": "de7efe93-61cd-443d-9199-9851d9550fe9",
   "metadata": {},
   "outputs": [
    {
     "data": {
      "text/html": [
       "<div>\n",
       "<style scoped>\n",
       "    .dataframe tbody tr th:only-of-type {\n",
       "        vertical-align: middle;\n",
       "    }\n",
       "\n",
       "    .dataframe tbody tr th {\n",
       "        vertical-align: top;\n",
       "    }\n",
       "\n",
       "    .dataframe thead th {\n",
       "        text-align: right;\n",
       "    }\n",
       "</style>\n",
       "<table border=\"1\" class=\"dataframe\">\n",
       "  <thead>\n",
       "    <tr style=\"text-align: right;\">\n",
       "      <th></th>\n",
       "      <th>Unnamed: 0</th>\n",
       "      <th>Age</th>\n",
       "      <th>Tm_size</th>\n",
       "      <th>??</th>\n",
       "      <th>Hist_type</th>\n",
       "      <th>Gradus</th>\n",
       "      <th>ER</th>\n",
       "      <th>PR</th>\n",
       "      <th>HER-2</th>\n",
       "      <th>Ki-67</th>\n",
       "      <th>Immunohist_type</th>\n",
       "      <th>lymph_meta</th>\n",
       "      <th>Neoadj</th>\n",
       "      <th>Target</th>\n",
       "    </tr>\n",
       "  </thead>\n",
       "  <tbody>\n",
       "    <tr>\n",
       "      <th>0</th>\n",
       "      <td>44</td>\n",
       "      <td>82.0</td>\n",
       "      <td>15.0</td>\n",
       "      <td>difuzno infiltrirajući</td>\n",
       "      <td>lobularni invazivni</td>\n",
       "      <td>2</td>\n",
       "      <td>99.0</td>\n",
       "      <td>95.0</td>\n",
       "      <td>2.0</td>\n",
       "      <td>26.0</td>\n",
       "      <td>luminal B</td>\n",
       "      <td>5</td>\n",
       "      <td>0</td>\n",
       "      <td>1</td>\n",
       "    </tr>\n",
       "    <tr>\n",
       "      <th>1</th>\n",
       "      <td>555</td>\n",
       "      <td>52.0</td>\n",
       "      <td>1.2</td>\n",
       "      <td>solitaran</td>\n",
       "      <td>NOS_invazivni</td>\n",
       "      <td>3</td>\n",
       "      <td>0.0</td>\n",
       "      <td>0.0</td>\n",
       "      <td>3.0</td>\n",
       "      <td>60.0</td>\n",
       "      <td>HER2 pozitivni</td>\n",
       "      <td>0</td>\n",
       "      <td>0</td>\n",
       "      <td>0</td>\n",
       "    </tr>\n",
       "    <tr>\n",
       "      <th>2</th>\n",
       "      <td>645</td>\n",
       "      <td>62.0</td>\n",
       "      <td>1.6</td>\n",
       "      <td>solitaran</td>\n",
       "      <td>NOS_invazivni</td>\n",
       "      <td>1</td>\n",
       "      <td>100.0</td>\n",
       "      <td>70.0</td>\n",
       "      <td>0.0</td>\n",
       "      <td>7.0</td>\n",
       "      <td>luminal A</td>\n",
       "      <td>0</td>\n",
       "      <td>0</td>\n",
       "      <td>0</td>\n",
       "    </tr>\n",
       "    <tr>\n",
       "      <th>3</th>\n",
       "      <td>646</td>\n",
       "      <td>62.0</td>\n",
       "      <td>2.2</td>\n",
       "      <td>solitaran</td>\n",
       "      <td>NOS_invazivni</td>\n",
       "      <td>2</td>\n",
       "      <td>95.0</td>\n",
       "      <td>93.0</td>\n",
       "      <td>1.0</td>\n",
       "      <td>9.0</td>\n",
       "      <td>luminal A</td>\n",
       "      <td>0</td>\n",
       "      <td>0</td>\n",
       "      <td>0</td>\n",
       "    </tr>\n",
       "    <tr>\n",
       "      <th>4</th>\n",
       "      <td>647</td>\n",
       "      <td>72.0</td>\n",
       "      <td>2.5</td>\n",
       "      <td>solitaran</td>\n",
       "      <td>lobularni invazivni</td>\n",
       "      <td>2</td>\n",
       "      <td>80.0</td>\n",
       "      <td>60.0</td>\n",
       "      <td>1.0</td>\n",
       "      <td>12.0</td>\n",
       "      <td>luminal A</td>\n",
       "      <td>0</td>\n",
       "      <td>0</td>\n",
       "      <td>0</td>\n",
       "    </tr>\n",
       "    <tr>\n",
       "      <th>...</th>\n",
       "      <td>...</td>\n",
       "      <td>...</td>\n",
       "      <td>...</td>\n",
       "      <td>...</td>\n",
       "      <td>...</td>\n",
       "      <td>...</td>\n",
       "      <td>...</td>\n",
       "      <td>...</td>\n",
       "      <td>...</td>\n",
       "      <td>...</td>\n",
       "      <td>...</td>\n",
       "      <td>...</td>\n",
       "      <td>...</td>\n",
       "      <td>...</td>\n",
       "    </tr>\n",
       "    <tr>\n",
       "      <th>9704</th>\n",
       "      <td>13567</td>\n",
       "      <td>82.0</td>\n",
       "      <td>3.2</td>\n",
       "      <td>solitaran</td>\n",
       "      <td>NOS_invazivni</td>\n",
       "      <td>2</td>\n",
       "      <td>100.0</td>\n",
       "      <td>100.0</td>\n",
       "      <td>0.0</td>\n",
       "      <td>9.0</td>\n",
       "      <td>luminal A</td>\n",
       "      <td>0</td>\n",
       "      <td>1</td>\n",
       "      <td>0</td>\n",
       "    </tr>\n",
       "    <tr>\n",
       "      <th>9705</th>\n",
       "      <td>13568</td>\n",
       "      <td>60.0</td>\n",
       "      <td>2.7</td>\n",
       "      <td>solitaran</td>\n",
       "      <td>NOS_invazivni</td>\n",
       "      <td>1</td>\n",
       "      <td>90.0</td>\n",
       "      <td>30.0</td>\n",
       "      <td>2.0</td>\n",
       "      <td>60.0</td>\n",
       "      <td>Luminal B HER2poz</td>\n",
       "      <td>0</td>\n",
       "      <td>1</td>\n",
       "      <td>0</td>\n",
       "    </tr>\n",
       "    <tr>\n",
       "      <th>9706</th>\n",
       "      <td>13574</td>\n",
       "      <td>60.0</td>\n",
       "      <td>2.0</td>\n",
       "      <td>multipli</td>\n",
       "      <td>NOS_invazivni</td>\n",
       "      <td>2</td>\n",
       "      <td>100.0</td>\n",
       "      <td>10.0</td>\n",
       "      <td>2.0</td>\n",
       "      <td>18.0</td>\n",
       "      <td>Luminal B HER2poz</td>\n",
       "      <td>3</td>\n",
       "      <td>1</td>\n",
       "      <td>1</td>\n",
       "    </tr>\n",
       "    <tr>\n",
       "      <th>9707</th>\n",
       "      <td>13577</td>\n",
       "      <td>42.0</td>\n",
       "      <td>1.1</td>\n",
       "      <td>solitaran</td>\n",
       "      <td>NOS_invazivni</td>\n",
       "      <td>2</td>\n",
       "      <td>98.0</td>\n",
       "      <td>98.0</td>\n",
       "      <td>1.0</td>\n",
       "      <td>65.0</td>\n",
       "      <td>luminal B</td>\n",
       "      <td>1</td>\n",
       "      <td>1</td>\n",
       "      <td>1</td>\n",
       "    </tr>\n",
       "    <tr>\n",
       "      <th>9708</th>\n",
       "      <td>13578</td>\n",
       "      <td>51.0</td>\n",
       "      <td>3.0</td>\n",
       "      <td>solitaran</td>\n",
       "      <td>drugi rijetki tipovi</td>\n",
       "      <td>3</td>\n",
       "      <td>90.0</td>\n",
       "      <td>20.0</td>\n",
       "      <td>3.0</td>\n",
       "      <td>50.0</td>\n",
       "      <td>Luminal B HER2poz</td>\n",
       "      <td>13</td>\n",
       "      <td>1</td>\n",
       "      <td>1</td>\n",
       "    </tr>\n",
       "  </tbody>\n",
       "</table>\n",
       "<p>9709 rows × 14 columns</p>\n",
       "</div>"
      ],
      "text/plain": [
       "      Unnamed: 0   Age  Tm_size                      ??             Hist_type  \\\n",
       "0             44  82.0     15.0  difuzno infiltrirajući   lobularni invazivni   \n",
       "1            555  52.0      1.2               solitaran         NOS_invazivni   \n",
       "2            645  62.0      1.6               solitaran         NOS_invazivni   \n",
       "3            646  62.0      2.2               solitaran         NOS_invazivni   \n",
       "4            647  72.0      2.5               solitaran   lobularni invazivni   \n",
       "...          ...   ...      ...                     ...                   ...   \n",
       "9704       13567  82.0      3.2               solitaran         NOS_invazivni   \n",
       "9705       13568  60.0      2.7               solitaran         NOS_invazivni   \n",
       "9706       13574  60.0      2.0                multipli         NOS_invazivni   \n",
       "9707       13577  42.0      1.1               solitaran         NOS_invazivni   \n",
       "9708       13578  51.0      3.0               solitaran  drugi rijetki tipovi   \n",
       "\n",
       "      Gradus     ER     PR  HER-2  Ki-67    Immunohist_type  lymph_meta  \\\n",
       "0          2   99.0   95.0    2.0   26.0          luminal B           5   \n",
       "1          3    0.0    0.0    3.0   60.0     HER2 pozitivni           0   \n",
       "2          1  100.0   70.0    0.0    7.0          luminal A           0   \n",
       "3          2   95.0   93.0    1.0    9.0          luminal A           0   \n",
       "4          2   80.0   60.0    1.0   12.0          luminal A           0   \n",
       "...      ...    ...    ...    ...    ...                ...         ...   \n",
       "9704       2  100.0  100.0    0.0    9.0          luminal A           0   \n",
       "9705       1   90.0   30.0    2.0   60.0  Luminal B HER2poz           0   \n",
       "9706       2  100.0   10.0    2.0   18.0  Luminal B HER2poz           3   \n",
       "9707       2   98.0   98.0    1.0   65.0          luminal B           1   \n",
       "9708       3   90.0   20.0    3.0   50.0  Luminal B HER2poz          13   \n",
       "\n",
       "      Neoadj  Target  \n",
       "0          0       1  \n",
       "1          0       0  \n",
       "2          0       0  \n",
       "3          0       0  \n",
       "4          0       0  \n",
       "...      ...     ...  \n",
       "9704       1       0  \n",
       "9705       1       0  \n",
       "9706       1       1  \n",
       "9707       1       1  \n",
       "9708       1       1  \n",
       "\n",
       "[9709 rows x 14 columns]"
      ]
     },
     "execution_count": 3,
     "metadata": {},
     "output_type": "execute_result"
    }
   ],
   "source": [
    "df"
   ]
  },
  {
   "cell_type": "code",
   "execution_count": 4,
   "id": "017a7562-9528-4612-8910-b8ad03c0643b",
   "metadata": {},
   "outputs": [],
   "source": [
    "df.drop([\"lymph_meta\",\"Unnamed: 0\"],axis=1,inplace=True)"
   ]
  },
  {
   "cell_type": "code",
   "execution_count": 5,
   "id": "2a5a93d3-e5c3-413d-858e-047b8132746f",
   "metadata": {},
   "outputs": [
    {
     "data": {
      "text/html": [
       "<div>\n",
       "<style scoped>\n",
       "    .dataframe tbody tr th:only-of-type {\n",
       "        vertical-align: middle;\n",
       "    }\n",
       "\n",
       "    .dataframe tbody tr th {\n",
       "        vertical-align: top;\n",
       "    }\n",
       "\n",
       "    .dataframe thead th {\n",
       "        text-align: right;\n",
       "    }\n",
       "</style>\n",
       "<table border=\"1\" class=\"dataframe\">\n",
       "  <thead>\n",
       "    <tr style=\"text-align: right;\">\n",
       "      <th></th>\n",
       "      <th>Age</th>\n",
       "      <th>Tm_size</th>\n",
       "      <th>??</th>\n",
       "      <th>Hist_type</th>\n",
       "      <th>Gradus</th>\n",
       "      <th>ER</th>\n",
       "      <th>PR</th>\n",
       "      <th>HER-2</th>\n",
       "      <th>Ki-67</th>\n",
       "      <th>Immunohist_type</th>\n",
       "      <th>Neoadj</th>\n",
       "      <th>Target</th>\n",
       "    </tr>\n",
       "  </thead>\n",
       "  <tbody>\n",
       "    <tr>\n",
       "      <th>0</th>\n",
       "      <td>82.0</td>\n",
       "      <td>15.0</td>\n",
       "      <td>difuzno infiltrirajući</td>\n",
       "      <td>lobularni invazivni</td>\n",
       "      <td>2</td>\n",
       "      <td>99.0</td>\n",
       "      <td>95.0</td>\n",
       "      <td>2.0</td>\n",
       "      <td>26.0</td>\n",
       "      <td>luminal B</td>\n",
       "      <td>0</td>\n",
       "      <td>1</td>\n",
       "    </tr>\n",
       "    <tr>\n",
       "      <th>1</th>\n",
       "      <td>52.0</td>\n",
       "      <td>1.2</td>\n",
       "      <td>solitaran</td>\n",
       "      <td>NOS_invazivni</td>\n",
       "      <td>3</td>\n",
       "      <td>0.0</td>\n",
       "      <td>0.0</td>\n",
       "      <td>3.0</td>\n",
       "      <td>60.0</td>\n",
       "      <td>HER2 pozitivni</td>\n",
       "      <td>0</td>\n",
       "      <td>0</td>\n",
       "    </tr>\n",
       "    <tr>\n",
       "      <th>2</th>\n",
       "      <td>62.0</td>\n",
       "      <td>1.6</td>\n",
       "      <td>solitaran</td>\n",
       "      <td>NOS_invazivni</td>\n",
       "      <td>1</td>\n",
       "      <td>100.0</td>\n",
       "      <td>70.0</td>\n",
       "      <td>0.0</td>\n",
       "      <td>7.0</td>\n",
       "      <td>luminal A</td>\n",
       "      <td>0</td>\n",
       "      <td>0</td>\n",
       "    </tr>\n",
       "    <tr>\n",
       "      <th>3</th>\n",
       "      <td>62.0</td>\n",
       "      <td>2.2</td>\n",
       "      <td>solitaran</td>\n",
       "      <td>NOS_invazivni</td>\n",
       "      <td>2</td>\n",
       "      <td>95.0</td>\n",
       "      <td>93.0</td>\n",
       "      <td>1.0</td>\n",
       "      <td>9.0</td>\n",
       "      <td>luminal A</td>\n",
       "      <td>0</td>\n",
       "      <td>0</td>\n",
       "    </tr>\n",
       "    <tr>\n",
       "      <th>4</th>\n",
       "      <td>72.0</td>\n",
       "      <td>2.5</td>\n",
       "      <td>solitaran</td>\n",
       "      <td>lobularni invazivni</td>\n",
       "      <td>2</td>\n",
       "      <td>80.0</td>\n",
       "      <td>60.0</td>\n",
       "      <td>1.0</td>\n",
       "      <td>12.0</td>\n",
       "      <td>luminal A</td>\n",
       "      <td>0</td>\n",
       "      <td>0</td>\n",
       "    </tr>\n",
       "    <tr>\n",
       "      <th>...</th>\n",
       "      <td>...</td>\n",
       "      <td>...</td>\n",
       "      <td>...</td>\n",
       "      <td>...</td>\n",
       "      <td>...</td>\n",
       "      <td>...</td>\n",
       "      <td>...</td>\n",
       "      <td>...</td>\n",
       "      <td>...</td>\n",
       "      <td>...</td>\n",
       "      <td>...</td>\n",
       "      <td>...</td>\n",
       "    </tr>\n",
       "    <tr>\n",
       "      <th>9704</th>\n",
       "      <td>82.0</td>\n",
       "      <td>3.2</td>\n",
       "      <td>solitaran</td>\n",
       "      <td>NOS_invazivni</td>\n",
       "      <td>2</td>\n",
       "      <td>100.0</td>\n",
       "      <td>100.0</td>\n",
       "      <td>0.0</td>\n",
       "      <td>9.0</td>\n",
       "      <td>luminal A</td>\n",
       "      <td>1</td>\n",
       "      <td>0</td>\n",
       "    </tr>\n",
       "    <tr>\n",
       "      <th>9705</th>\n",
       "      <td>60.0</td>\n",
       "      <td>2.7</td>\n",
       "      <td>solitaran</td>\n",
       "      <td>NOS_invazivni</td>\n",
       "      <td>1</td>\n",
       "      <td>90.0</td>\n",
       "      <td>30.0</td>\n",
       "      <td>2.0</td>\n",
       "      <td>60.0</td>\n",
       "      <td>Luminal B HER2poz</td>\n",
       "      <td>1</td>\n",
       "      <td>0</td>\n",
       "    </tr>\n",
       "    <tr>\n",
       "      <th>9706</th>\n",
       "      <td>60.0</td>\n",
       "      <td>2.0</td>\n",
       "      <td>multipli</td>\n",
       "      <td>NOS_invazivni</td>\n",
       "      <td>2</td>\n",
       "      <td>100.0</td>\n",
       "      <td>10.0</td>\n",
       "      <td>2.0</td>\n",
       "      <td>18.0</td>\n",
       "      <td>Luminal B HER2poz</td>\n",
       "      <td>1</td>\n",
       "      <td>1</td>\n",
       "    </tr>\n",
       "    <tr>\n",
       "      <th>9707</th>\n",
       "      <td>42.0</td>\n",
       "      <td>1.1</td>\n",
       "      <td>solitaran</td>\n",
       "      <td>NOS_invazivni</td>\n",
       "      <td>2</td>\n",
       "      <td>98.0</td>\n",
       "      <td>98.0</td>\n",
       "      <td>1.0</td>\n",
       "      <td>65.0</td>\n",
       "      <td>luminal B</td>\n",
       "      <td>1</td>\n",
       "      <td>1</td>\n",
       "    </tr>\n",
       "    <tr>\n",
       "      <th>9708</th>\n",
       "      <td>51.0</td>\n",
       "      <td>3.0</td>\n",
       "      <td>solitaran</td>\n",
       "      <td>drugi rijetki tipovi</td>\n",
       "      <td>3</td>\n",
       "      <td>90.0</td>\n",
       "      <td>20.0</td>\n",
       "      <td>3.0</td>\n",
       "      <td>50.0</td>\n",
       "      <td>Luminal B HER2poz</td>\n",
       "      <td>1</td>\n",
       "      <td>1</td>\n",
       "    </tr>\n",
       "  </tbody>\n",
       "</table>\n",
       "<p>9709 rows × 12 columns</p>\n",
       "</div>"
      ],
      "text/plain": [
       "       Age  Tm_size                      ??             Hist_type  Gradus  \\\n",
       "0     82.0     15.0  difuzno infiltrirajući   lobularni invazivni       2   \n",
       "1     52.0      1.2               solitaran         NOS_invazivni       3   \n",
       "2     62.0      1.6               solitaran         NOS_invazivni       1   \n",
       "3     62.0      2.2               solitaran         NOS_invazivni       2   \n",
       "4     72.0      2.5               solitaran   lobularni invazivni       2   \n",
       "...    ...      ...                     ...                   ...     ...   \n",
       "9704  82.0      3.2               solitaran         NOS_invazivni       2   \n",
       "9705  60.0      2.7               solitaran         NOS_invazivni       1   \n",
       "9706  60.0      2.0                multipli         NOS_invazivni       2   \n",
       "9707  42.0      1.1               solitaran         NOS_invazivni       2   \n",
       "9708  51.0      3.0               solitaran  drugi rijetki tipovi       3   \n",
       "\n",
       "         ER     PR  HER-2  Ki-67    Immunohist_type  Neoadj  Target  \n",
       "0      99.0   95.0    2.0   26.0          luminal B       0       1  \n",
       "1       0.0    0.0    3.0   60.0     HER2 pozitivni       0       0  \n",
       "2     100.0   70.0    0.0    7.0          luminal A       0       0  \n",
       "3      95.0   93.0    1.0    9.0          luminal A       0       0  \n",
       "4      80.0   60.0    1.0   12.0          luminal A       0       0  \n",
       "...     ...    ...    ...    ...                ...     ...     ...  \n",
       "9704  100.0  100.0    0.0    9.0          luminal A       1       0  \n",
       "9705   90.0   30.0    2.0   60.0  Luminal B HER2poz       1       0  \n",
       "9706  100.0   10.0    2.0   18.0  Luminal B HER2poz       1       1  \n",
       "9707   98.0   98.0    1.0   65.0          luminal B       1       1  \n",
       "9708   90.0   20.0    3.0   50.0  Luminal B HER2poz       1       1  \n",
       "\n",
       "[9709 rows x 12 columns]"
      ]
     },
     "execution_count": 5,
     "metadata": {},
     "output_type": "execute_result"
    }
   ],
   "source": [
    "df"
   ]
  },
  {
   "cell_type": "code",
   "execution_count": 6,
   "id": "2eeaa02e-fdc3-40fe-a774-b7dca23b1efe",
   "metadata": {},
   "outputs": [],
   "source": [
    "# Creating X and y\n",
    "X= df.drop([\"Target\"], axis=1)\n",
    "y= df[\"Target\"]"
   ]
  },
  {
   "cell_type": "code",
   "execution_count": 7,
   "id": "b2fce079-ba93-447b-b7b0-378ea2614191",
   "metadata": {},
   "outputs": [],
   "source": [
    "X_train, X_test, y_train, y_test = train_test_split(X, y, test_size = 0.1, random_state=68, stratify=y)"
   ]
  },
  {
   "cell_type": "code",
   "execution_count": 8,
   "id": "8394a1f8-dbde-4a62-8de6-20e0eb4a7e5f",
   "metadata": {},
   "outputs": [],
   "source": [
    "# Picking categorical columns\n",
    "categorical_features_indices = np.where(X_train.dtypes != float)[0]"
   ]
  },
  {
   "cell_type": "code",
   "execution_count": 9,
   "id": "a43326d9-81c0-42df-af22-a93a5dae69a8",
   "metadata": {},
   "outputs": [],
   "source": [
    "train_dataset = cb.Pool(data=X_train,\n",
    "                     label=y_train,\n",
    "                     cat_features = categorical_features_indices) \n",
    "test_dataset = cb.Pool(X_test, y_test,cat_features = categorical_features_indices)"
   ]
  },
  {
   "cell_type": "code",
   "execution_count": 18,
   "id": "4df33b6b-f470-4168-b4ef-9bfd177a218d",
   "metadata": {},
   "outputs": [],
   "source": [
    "# specifying the cv\n",
    "\n",
    "\n",
    "def objective(trial):\n",
    "    param = {\n",
    "        \n",
    "        \"max_depth\":trial.suggest_int(\"max_depth\", 3, 16),\n",
    "        \"n_estimators\":trial.suggest_int(\"n_estimators\", 100, 6000),\n",
    "        \"min_data_in_leaf\": trial.suggest_int(\"min_data_in_leaf\", 1, 100),\n",
    "        'learning_rate':trial.suggest_float(\"learning_rate\", 0.001, 0.2),\n",
    "        'random_strength':trial.suggest_int(\"random_strength\", 1,10),\n",
    "        'bagging_temperature':trial.suggest_int(\"bagging_temperature\", 0,10),\n",
    "        'max_bin':trial.suggest_categorical('max_bin', [10,200,400]),\n",
    "        'grow_policy':trial.suggest_categorical('grow_policy', ['SymmetricTree', 'Depthwise', 'Lossguide']),\n",
    "        \n",
    "        'od_type' : \"Iter\",\n",
    "        'od_wait' : 100,\n",
    "        \"l2_leaf_reg\": trial.suggest_loguniform(\"l2_leaf_reg\", 1e-8, 1),\n",
    "         'one_hot_max_size':trial.suggest_categorical('one_hot_max_size', [5,10,12,100,500,1024]),\n",
    "        'custom_metric' : ['AUC'],\n",
    "        \"loss_function\": \"Logloss\",\n",
    "        \n",
    "        'auto_class_weights':trial.suggest_categorical('auto_class_weights', ['Balanced', 'SqrtBalanced']),\n",
    "        }\n",
    "\n",
    "    scores = cv(train_dataset,\n",
    "            param,\n",
    "            fold_count=5, \n",
    "            early_stopping_rounds=15,         \n",
    "            plot=False, verbose=False)\n",
    "\n",
    "    return scores['test-AUC-mean'].max()"
   ]
  },
  {
   "cell_type": "code",
   "execution_count": 19,
   "id": "81f070e7-57b4-44e1-a4ce-c69502e39c3b",
   "metadata": {},
   "outputs": [
    {
     "name": "stderr",
     "output_type": "stream",
     "text": [
      "\u001b[32m[I 2022-09-20 10:25:21,247]\u001b[0m A new study created in memory with name: no-name-b3aa3ef0-19bf-44c7-a080-d22b0de9acdd\u001b[0m\n"
     ]
    },
    {
     "name": "stdout",
     "output_type": "stream",
     "text": [
      "Training on fold [0/5]\n",
      "\n",
      "bestTest = 0.5956235785\n",
      "bestIteration = 30\n",
      "\n",
      "Training on fold [1/5]\n",
      "\n",
      "bestTest = 0.5930638133\n",
      "bestIteration = 39\n",
      "\n",
      "Training on fold [2/5]\n",
      "\n",
      "bestTest = 0.5933493543\n",
      "bestIteration = 18\n",
      "\n",
      "Training on fold [3/5]\n"
     ]
    },
    {
     "name": "stderr",
     "output_type": "stream",
     "text": [
      "\u001b[32m[I 2022-09-20 10:25:22,160]\u001b[0m Trial 0 finished with value: 0.744361535532417 and parameters: {'max_depth': 7, 'n_estimators': 2393, 'min_data_in_leaf': 28, 'learning_rate': 0.16591876432123395, 'random_strength': 4, 'bagging_temperature': 3, 'max_bin': 400, 'grow_policy': 'Depthwise', 'l2_leaf_reg': 3.8879928024075543e-07, 'one_hot_max_size': 10, 'auto_class_weights': 'Balanced'}. Best is trial 0 with value: 0.744361535532417.\u001b[0m\n"
     ]
    },
    {
     "name": "stdout",
     "output_type": "stream",
     "text": [
      "\n",
      "bestTest = 0.6128463271\n",
      "bestIteration = 17\n",
      "\n",
      "Training on fold [4/5]\n",
      "\n",
      "bestTest = 0.602489082\n",
      "bestIteration = 20\n",
      "\n",
      "Training on fold [0/5]\n",
      "\n",
      "bestTest = 0.5799077864\n",
      "bestIteration = 383\n",
      "\n",
      "Training on fold [1/5]\n",
      "\n",
      "bestTest = 0.5833580789\n",
      "bestIteration = 441\n",
      "\n",
      "Training on fold [2/5]\n",
      "\n",
      "bestTest = 0.5836462904\n",
      "bestIteration = 329\n",
      "\n",
      "Training on fold [3/5]\n",
      "\n",
      "bestTest = 0.6074162264\n",
      "bestIteration = 264\n",
      "\n",
      "Training on fold [4/5]\n"
     ]
    },
    {
     "name": "stderr",
     "output_type": "stream",
     "text": [
      "\u001b[32m[I 2022-09-20 10:25:28,053]\u001b[0m Trial 1 finished with value: 0.7546568242329302 and parameters: {'max_depth': 15, 'n_estimators': 3778, 'min_data_in_leaf': 34, 'learning_rate': 0.013648111706918705, 'random_strength': 4, 'bagging_temperature': 3, 'max_bin': 400, 'grow_policy': 'Lossguide', 'l2_leaf_reg': 0.012197768563438372, 'one_hot_max_size': 10, 'auto_class_weights': 'Balanced'}. Best is trial 1 with value: 0.7546568242329302.\u001b[0m\n"
     ]
    },
    {
     "name": "stdout",
     "output_type": "stream",
     "text": [
      "\n",
      "bestTest = 0.5966079626\n",
      "bestIteration = 310\n",
      "\n",
      "Training on fold [0/5]\n",
      "\n",
      "bestTest = 0.5683323627\n",
      "bestIteration = 58\n",
      "\n",
      "Training on fold [1/5]\n",
      "\n",
      "bestTest = 0.5721945414\n",
      "bestIteration = 24\n",
      "\n",
      "Training on fold [2/5]\n",
      "\n",
      "bestTest = 0.5757065795\n",
      "bestIteration = 45\n",
      "\n",
      "Training on fold [3/5]\n",
      "\n",
      "bestTest = 0.59601347\n"
     ]
    },
    {
     "name": "stderr",
     "output_type": "stream",
     "text": [
      "\u001b[32m[I 2022-09-20 10:25:29,049]\u001b[0m Trial 2 finished with value: 0.7516423581562215 and parameters: {'max_depth': 11, 'n_estimators': 1955, 'min_data_in_leaf': 51, 'learning_rate': 0.1816057283112925, 'random_strength': 3, 'bagging_temperature': 4, 'max_bin': 10, 'grow_policy': 'Lossguide', 'l2_leaf_reg': 0.02917178717777813, 'one_hot_max_size': 500, 'auto_class_weights': 'SqrtBalanced'}. Best is trial 1 with value: 0.7546568242329302.\u001b[0m\n"
     ]
    },
    {
     "name": "stdout",
     "output_type": "stream",
     "text": [
      "bestIteration = 37\n",
      "\n",
      "Training on fold [4/5]\n",
      "\n",
      "bestTest = 0.5877346335\n",
      "bestIteration = 30\n",
      "\n",
      "Training on fold [0/5]\n",
      "\n",
      "bestTest = 0.5670687446\n",
      "bestIteration = 133\n",
      "\n",
      "Training on fold [1/5]\n",
      "\n",
      "bestTest = 0.5774153937\n",
      "bestIteration = 78\n",
      "\n",
      "Training on fold [2/5]\n",
      "\n",
      "bestTest = 0.5727436141\n",
      "bestIteration = 129\n",
      "\n",
      "Training on fold [3/5]\n",
      "\n",
      "bestTest = 0.5951573199\n",
      "bestIteration = 59\n",
      "\n",
      "Training on fold [4/5]\n"
     ]
    },
    {
     "name": "stderr",
     "output_type": "stream",
     "text": [
      "\u001b[32m[I 2022-09-20 10:25:31,040]\u001b[0m Trial 3 finished with value: 0.7516037365564635 and parameters: {'max_depth': 7, 'n_estimators': 749, 'min_data_in_leaf': 23, 'learning_rate': 0.08599444993662501, 'random_strength': 9, 'bagging_temperature': 9, 'max_bin': 200, 'grow_policy': 'Lossguide', 'l2_leaf_reg': 0.3493635816569516, 'one_hot_max_size': 500, 'auto_class_weights': 'SqrtBalanced'}. Best is trial 1 with value: 0.7546568242329302.\u001b[0m\n"
     ]
    },
    {
     "name": "stdout",
     "output_type": "stream",
     "text": [
      "\n",
      "bestTest = 0.5867798234\n",
      "bestIteration = 86\n",
      "\n",
      "Training on fold [0/5]\n",
      "\n",
      "bestTest = 0.5848356237\n",
      "bestIteration = 48\n",
      "\n",
      "Training on fold [1/5]\n",
      "\n",
      "bestTest = 0.587277711\n",
      "bestIteration = 65\n",
      "\n",
      "Training on fold [2/5]\n",
      "\n",
      "bestTest = 0.5948179011\n",
      "bestIteration = 56\n",
      "\n",
      "Training on fold [3/5]\n",
      "\n",
      "bestTest = 0.6121510474\n",
      "bestIteration = 38\n",
      "\n",
      "Training on fold [4/5]\n",
      "\n"
     ]
    },
    {
     "name": "stderr",
     "output_type": "stream",
     "text": [
      "\u001b[32m[I 2022-09-20 10:25:32,332]\u001b[0m Trial 4 finished with value: 0.7479827794543089 and parameters: {'max_depth': 7, 'n_estimators': 1780, 'min_data_in_leaf': 4, 'learning_rate': 0.12230330246199948, 'random_strength': 6, 'bagging_temperature': 0, 'max_bin': 200, 'grow_policy': 'Lossguide', 'l2_leaf_reg': 8.638576272048768e-07, 'one_hot_max_size': 10, 'auto_class_weights': 'Balanced'}. Best is trial 1 with value: 0.7546568242329302.\u001b[0m\n"
     ]
    },
    {
     "name": "stdout",
     "output_type": "stream",
     "text": [
      "bestTest = 0.6025722904\n",
      "bestIteration = 42\n",
      "\n",
      "Training on fold [0/5]\n",
      "\n",
      "bestTest = 0.5761123377\n",
      "bestIteration = 184\n",
      "\n",
      "Training on fold [1/5]\n",
      "\n",
      "bestTest = 0.5801669883\n",
      "bestIteration = 158\n",
      "\n",
      "Training on fold [2/5]\n",
      "\n",
      "bestTest = 0.5814040808\n",
      "bestIteration = 127\n",
      "\n",
      "Training on fold [3/5]\n",
      "\n",
      "bestTest = 0.6028424768\n",
      "bestIteration = 167\n",
      "\n",
      "Training on fold [4/5]\n"
     ]
    },
    {
     "name": "stderr",
     "output_type": "stream",
     "text": [
      "\u001b[32m[I 2022-09-20 10:25:33,985]\u001b[0m Trial 5 finished with value: 0.7569317331448902 and parameters: {'max_depth': 4, 'n_estimators': 5029, 'min_data_in_leaf': 33, 'learning_rate': 0.03811718356957099, 'random_strength': 1, 'bagging_temperature': 6, 'max_bin': 10, 'grow_policy': 'Depthwise', 'l2_leaf_reg': 0.0033690069338789532, 'one_hot_max_size': 10, 'auto_class_weights': 'Balanced'}. Best is trial 5 with value: 0.7569317331448902.\u001b[0m\n"
     ]
    },
    {
     "name": "stdout",
     "output_type": "stream",
     "text": [
      "\n",
      "bestTest = 0.595154189\n",
      "bestIteration = 103\n",
      "\n",
      "Training on fold [0/5]\n",
      "\n",
      "bestTest = 0.5770029287\n",
      "bestIteration = 88\n",
      "\n",
      "Training on fold [1/5]\n",
      "\n",
      "bestTest = 0.5824346949\n",
      "bestIteration = 69\n",
      "\n",
      "Training on fold [2/5]\n",
      "\n",
      "bestTest = 0.5826188904\n",
      "bestIteration = 42\n",
      "\n",
      "Training on fold [3/5]\n",
      "\n",
      "bestTest = 0.6076035541\n",
      "bestIteration = 50\n",
      "\n",
      "Training on fold [4/5]\n"
     ]
    },
    {
     "name": "stderr",
     "output_type": "stream",
     "text": [
      "\u001b[32m[I 2022-09-20 10:25:35,357]\u001b[0m Trial 6 finished with value: 0.7536064135575476 and parameters: {'max_depth': 12, 'n_estimators': 4922, 'min_data_in_leaf': 56, 'learning_rate': 0.1064004650928453, 'random_strength': 3, 'bagging_temperature': 1, 'max_bin': 200, 'grow_policy': 'Lossguide', 'l2_leaf_reg': 0.15027338858202638, 'one_hot_max_size': 1024, 'auto_class_weights': 'Balanced'}. Best is trial 5 with value: 0.7569317331448902.\u001b[0m\n"
     ]
    },
    {
     "name": "stdout",
     "output_type": "stream",
     "text": [
      "\n",
      "bestTest = 0.5990105709\n",
      "bestIteration = 44\n",
      "\n",
      "Training on fold [0/5]\n",
      "\n",
      "bestTest = 0.5666175854\n",
      "bestIteration = 345\n",
      "\n",
      "Training on fold [1/5]\n",
      "\n",
      "bestTest = 0.5697443526\n",
      "bestIteration = 352\n",
      "\n",
      "Training on fold [2/5]\n",
      "\n",
      "bestTest = 0.57088176\n",
      "bestIteration = 370\n",
      "\n",
      "Training on fold [3/5]\n",
      "\n",
      "bestTest = 0.5994006239\n",
      "bestIteration = 158\n",
      "\n",
      "Training on fold [4/5]\n"
     ]
    },
    {
     "name": "stderr",
     "output_type": "stream",
     "text": [
      "\u001b[32m[I 2022-09-20 10:27:04,564]\u001b[0m Trial 7 finished with value: 0.7536027494259145 and parameters: {'max_depth': 4, 'n_estimators': 4015, 'min_data_in_leaf': 1, 'learning_rate': 0.03300080223208224, 'random_strength': 6, 'bagging_temperature': 7, 'max_bin': 400, 'grow_policy': 'Lossguide', 'l2_leaf_reg': 0.0015742119048074215, 'one_hot_max_size': 5, 'auto_class_weights': 'SqrtBalanced'}. Best is trial 5 with value: 0.7569317331448902.\u001b[0m\n"
     ]
    },
    {
     "name": "stdout",
     "output_type": "stream",
     "text": [
      "\n",
      "bestTest = 0.5855627656\n",
      "bestIteration = 281\n",
      "\n",
      "Training on fold [0/5]\n",
      "\n",
      "bestTest = 0.575818025\n",
      "bestIteration = 26\n",
      "\n",
      "Training on fold [1/5]\n",
      "\n",
      "bestTest = 0.5775901555\n",
      "bestIteration = 27\n",
      "\n",
      "Training on fold [2/5]\n",
      "\n",
      "bestTest = 0.5777317829\n",
      "bestIteration = 29\n",
      "\n",
      "Training on fold [3/5]\n"
     ]
    },
    {
     "name": "stderr",
     "output_type": "stream",
     "text": [
      "\u001b[32m[I 2022-09-20 10:27:05,425]\u001b[0m Trial 8 finished with value: 0.7471373393738304 and parameters: {'max_depth': 8, 'n_estimators': 5363, 'min_data_in_leaf': 64, 'learning_rate': 0.15916744940478805, 'random_strength': 6, 'bagging_temperature': 6, 'max_bin': 400, 'grow_policy': 'Lossguide', 'l2_leaf_reg': 2.6114723699890803e-07, 'one_hot_max_size': 10, 'auto_class_weights': 'SqrtBalanced'}. Best is trial 5 with value: 0.7569317331448902.\u001b[0m\n"
     ]
    },
    {
     "name": "stdout",
     "output_type": "stream",
     "text": [
      "\n",
      "bestTest = 0.6064744632\n",
      "bestIteration = 36\n",
      "\n",
      "Training on fold [4/5]\n",
      "\n",
      "bestTest = 0.5891389227\n",
      "bestIteration = 25\n",
      "\n",
      "Training on fold [0/5]\n",
      "\n",
      "bestTest = 0.6005865042\n",
      "bestIteration = 54\n",
      "\n",
      "Training on fold [1/5]\n",
      "\n",
      "bestTest = 0.601512574\n",
      "bestIteration = 46\n",
      "\n",
      "Training on fold [2/5]\n",
      "\n",
      "bestTest = 0.5913395758\n",
      "bestIteration = 82\n",
      "\n",
      "Training on fold [3/5]\n",
      "\n",
      "bestTest = 0.6139058879\n",
      "bestIteration = 39\n",
      "\n",
      "Training on fold [4/5]\n"
     ]
    },
    {
     "name": "stderr",
     "output_type": "stream",
     "text": [
      "\u001b[32m[I 2022-09-20 10:27:30,126]\u001b[0m Trial 9 finished with value: 0.7384021295207841 and parameters: {'max_depth': 16, 'n_estimators': 5133, 'min_data_in_leaf': 30, 'learning_rate': 0.07763444799178314, 'random_strength': 9, 'bagging_temperature': 3, 'max_bin': 400, 'grow_policy': 'SymmetricTree', 'l2_leaf_reg': 0.0008318745034635068, 'one_hot_max_size': 5, 'auto_class_weights': 'Balanced'}. Best is trial 5 with value: 0.7569317331448902.\u001b[0m\n"
     ]
    },
    {
     "name": "stdout",
     "output_type": "stream",
     "text": [
      "\n",
      "bestTest = 0.6179101118\n",
      "bestIteration = 67\n",
      "\n",
      "Training on fold [0/5]\n",
      "\n",
      "bestTest = 0.5745344779\n",
      "bestIteration = 225\n",
      "\n",
      "Training on fold [1/5]\n",
      "\n",
      "bestTest = 0.5829551154\n",
      "bestIteration = 153\n",
      "\n",
      "Training on fold [2/5]\n",
      "\n",
      "bestTest = 0.5828627358\n",
      "bestIteration = 145\n",
      "\n",
      "Training on fold [3/5]\n",
      "\n",
      "bestTest = 0.6054934314\n",
      "bestIteration = 109\n",
      "\n",
      "Training on fold [4/5]\n"
     ]
    },
    {
     "name": "stderr",
     "output_type": "stream",
     "text": [
      "\u001b[32m[I 2022-09-20 10:27:31,533]\u001b[0m Trial 10 finished with value: 0.7550067306483438 and parameters: {'max_depth': 3, 'n_estimators': 3580, 'min_data_in_leaf': 96, 'learning_rate': 0.04820756026189335, 'random_strength': 1, 'bagging_temperature': 9, 'max_bin': 10, 'grow_policy': 'Depthwise', 'l2_leaf_reg': 3.5545797373457836e-05, 'one_hot_max_size': 100, 'auto_class_weights': 'Balanced'}. Best is trial 5 with value: 0.7569317331448902.\u001b[0m\n"
     ]
    },
    {
     "name": "stdout",
     "output_type": "stream",
     "text": [
      "\n",
      "bestTest = 0.5954482057\n",
      "bestIteration = 116\n",
      "\n",
      "Training on fold [0/5]\n",
      "\n",
      "bestTest = 0.5756816325\n",
      "bestIteration = 209\n",
      "\n",
      "Training on fold [1/5]\n",
      "\n",
      "bestTest = 0.5827159583\n",
      "bestIteration = 135\n",
      "\n",
      "Training on fold [2/5]\n",
      "\n",
      "bestTest = 0.5833139187\n",
      "bestIteration = 137\n",
      "\n",
      "Training on fold [3/5]\n",
      "\n",
      "bestTest = 0.606044973\n",
      "bestIteration = 132\n",
      "\n",
      "Training on fold [4/5]\n"
     ]
    },
    {
     "name": "stderr",
     "output_type": "stream",
     "text": [
      "\u001b[32m[I 2022-09-20 10:27:33,037]\u001b[0m Trial 11 finished with value: 0.7553676756382792 and parameters: {'max_depth': 3, 'n_estimators': 3539, 'min_data_in_leaf': 90, 'learning_rate': 0.05319200438385741, 'random_strength': 1, 'bagging_temperature': 10, 'max_bin': 10, 'grow_policy': 'Depthwise', 'l2_leaf_reg': 2.8868732571016922e-05, 'one_hot_max_size': 100, 'auto_class_weights': 'Balanced'}. Best is trial 5 with value: 0.7569317331448902.\u001b[0m\n"
     ]
    },
    {
     "name": "stdout",
     "output_type": "stream",
     "text": [
      "\n",
      "bestTest = 0.5935910928\n",
      "bestIteration = 204\n",
      "\n",
      "Training on fold [0/5]\n",
      "\n",
      "bestTest = 0.574489176\n",
      "bestIteration = 162\n",
      "\n",
      "Training on fold [1/5]\n",
      "\n",
      "bestTest = 0.581642578\n",
      "bestIteration = 190\n",
      "\n",
      "Training on fold [2/5]\n",
      "\n",
      "bestTest = 0.5834089216\n",
      "bestIteration = 87\n",
      "\n",
      "Training on fold [3/5]\n",
      "\n",
      "bestTest = 0.6068638965\n",
      "bestIteration = 88\n",
      "\n",
      "Training on fold [4/5]\n"
     ]
    },
    {
     "name": "stderr",
     "output_type": "stream",
     "text": [
      "\u001b[32m[I 2022-09-20 10:27:34,470]\u001b[0m Trial 12 finished with value: 0.7554483287917255 and parameters: {'max_depth': 4, 'n_estimators': 4281, 'min_data_in_leaf': 82, 'learning_rate': 0.04829731070723649, 'random_strength': 1, 'bagging_temperature': 10, 'max_bin': 10, 'grow_policy': 'Depthwise', 'l2_leaf_reg': 1.8317687920259874e-05, 'one_hot_max_size': 12, 'auto_class_weights': 'Balanced'}. Best is trial 5 with value: 0.7569317331448902.\u001b[0m\n"
     ]
    },
    {
     "name": "stdout",
     "output_type": "stream",
     "text": [
      "\n",
      "bestTest = 0.5927901848\n",
      "bestIteration = 126\n",
      "\n",
      "Training on fold [0/5]\n",
      "\n",
      "bestTest = 0.5774297434\n",
      "bestIteration = 1325\n",
      "\n",
      "Training on fold [1/5]\n",
      "\n",
      "bestTest = 0.5817038977\n",
      "bestIteration = 1298\n",
      "\n",
      "Training on fold [2/5]\n",
      "\n",
      "bestTest = 0.5836175012\n",
      "bestIteration = 1029\n",
      "\n",
      "Training on fold [3/5]\n",
      "\n",
      "bestTest = 0.6053595196\n",
      "bestIteration = 911\n",
      "\n",
      "Training on fold [4/5]\n"
     ]
    },
    {
     "name": "stderr",
     "output_type": "stream",
     "text": [
      "\u001b[32m[I 2022-09-20 10:27:45,862]\u001b[0m Trial 13 finished with value: 0.755907063370626 and parameters: {'max_depth': 5, 'n_estimators': 5951, 'min_data_in_leaf': 79, 'learning_rate': 0.0036149228278438694, 'random_strength': 1, 'bagging_temperature': 7, 'max_bin': 10, 'grow_policy': 'Depthwise', 'l2_leaf_reg': 1.9494024383784375e-08, 'one_hot_max_size': 12, 'auto_class_weights': 'Balanced'}. Best is trial 5 with value: 0.7569317331448902.\u001b[0m\n"
     ]
    },
    {
     "name": "stdout",
     "output_type": "stream",
     "text": [
      "\n",
      "bestTest = 0.5945756781\n",
      "bestIteration = 899\n",
      "\n",
      "Training on fold [0/5]\n",
      "\n",
      "bestTest = 0.5779287981\n",
      "bestIteration = 3585\n",
      "\n",
      "Training on fold [1/5]\n",
      "\n",
      "bestTest = 0.581380649\n",
      "bestIteration = 3773\n",
      "\n",
      "Training on fold [2/5]\n",
      "\n",
      "bestTest = 0.5831773372\n",
      "bestIteration = 2846\n",
      "\n",
      "Training on fold [3/5]\n",
      "\n",
      "bestTest = 0.6055548635\n",
      "bestIteration = 2475\n",
      "\n",
      "Training on fold [4/5]\n"
     ]
    },
    {
     "name": "stderr",
     "output_type": "stream",
     "text": [
      "\u001b[32m[I 2022-09-20 10:28:16,690]\u001b[0m Trial 14 finished with value: 0.7557726434725275 and parameters: {'max_depth': 5, 'n_estimators': 5913, 'min_data_in_leaf': 72, 'learning_rate': 0.0014984298254971666, 'random_strength': 2, 'bagging_temperature': 7, 'max_bin': 10, 'grow_policy': 'Depthwise', 'l2_leaf_reg': 1.3307088829376438e-08, 'one_hot_max_size': 12, 'auto_class_weights': 'Balanced'}. Best is trial 5 with value: 0.7569317331448902.\u001b[0m\n"
     ]
    },
    {
     "name": "stdout",
     "output_type": "stream",
     "text": [
      "\n",
      "bestTest = 0.5968676693\n",
      "bestIteration = 2225\n",
      "\n",
      "Training on fold [0/5]\n",
      "\n",
      "bestTest = 0.5789568539\n",
      "bestIteration = 313\n",
      "\n",
      "Training on fold [1/5]\n",
      "\n",
      "bestTest = 0.5850565405\n",
      "bestIteration = 226\n",
      "\n",
      "Training on fold [2/5]\n",
      "\n",
      "bestTest = 0.5825035424\n",
      "bestIteration = 254\n",
      "\n",
      "Training on fold [3/5]\n",
      "\n",
      "bestTest = 0.6057353144\n",
      "bestIteration = 196\n",
      "\n",
      "Training on fold [4/5]\n"
     ]
    },
    {
     "name": "stderr",
     "output_type": "stream",
     "text": [
      "\u001b[32m[I 2022-09-20 10:28:19,230]\u001b[0m Trial 15 finished with value: 0.7547737892458943 and parameters: {'max_depth': 5, 'n_estimators': 5952, 'min_data_in_leaf': 44, 'learning_rate': 0.021164730359437015, 'random_strength': 3, 'bagging_temperature': 6, 'max_bin': 10, 'grow_policy': 'SymmetricTree', 'l2_leaf_reg': 0.0006178291728158997, 'one_hot_max_size': 12, 'auto_class_weights': 'Balanced'}. Best is trial 5 with value: 0.7569317331448902.\u001b[0m\n"
     ]
    },
    {
     "name": "stdout",
     "output_type": "stream",
     "text": [
      "\n",
      "bestTest = 0.5963236671\n",
      "bestIteration = 256\n",
      "\n",
      "Training on fold [0/5]\n",
      "\n",
      "bestTest = 0.5851373802\n",
      "bestIteration = 70\n",
      "\n",
      "Training on fold [1/5]\n",
      "\n",
      "bestTest = 0.5924849051\n",
      "bestIteration = 42\n",
      "\n",
      "Training on fold [2/5]\n",
      "\n",
      "bestTest = 0.5872802897\n",
      "bestIteration = 54\n",
      "\n",
      "Training on fold [3/5]\n",
      "\n",
      "bestTest = 0.6041744512\n",
      "bestIteration = 48\n",
      "\n",
      "Training on fold [4/5]\n"
     ]
    },
    {
     "name": "stderr",
     "output_type": "stream",
     "text": [
      "\u001b[32m[I 2022-09-20 10:28:20,661]\u001b[0m Trial 16 finished with value: 0.7524066307814309 and parameters: {'max_depth': 9, 'n_estimators': 4626, 'min_data_in_leaf': 74, 'learning_rate': 0.06945475947939814, 'random_strength': 8, 'bagging_temperature': 8, 'max_bin': 10, 'grow_policy': 'Depthwise', 'l2_leaf_reg': 2.92094946923464e-06, 'one_hot_max_size': 1024, 'auto_class_weights': 'Balanced'}. Best is trial 5 with value: 0.7569317331448902.\u001b[0m\n"
     ]
    },
    {
     "name": "stdout",
     "output_type": "stream",
     "text": [
      "\n",
      "bestTest = 0.5939310363\n",
      "bestIteration = 66\n",
      "\n",
      "Training on fold [0/5]\n",
      "\n",
      "bestTest = 0.5790797381\n",
      "bestIteration = 1041\n",
      "\n",
      "Training on fold [1/5]\n",
      "\n",
      "bestTest = 0.5828672257\n",
      "bestIteration = 1053\n",
      "\n",
      "Training on fold [2/5]\n",
      "\n",
      "bestTest = 0.5835531683\n",
      "bestIteration = 944\n",
      "\n",
      "Training on fold [3/5]\n",
      "\n",
      "bestTest = 0.6067143851\n",
      "bestIteration = 651\n",
      "\n",
      "Training on fold [4/5]\n"
     ]
    },
    {
     "name": "stderr",
     "output_type": "stream",
     "text": [
      "\u001b[32m[I 2022-09-20 10:28:32,626]\u001b[0m Trial 17 finished with value: 0.7555172762332549 and parameters: {'max_depth': 6, 'n_estimators': 5569, 'min_data_in_leaf': 19, 'learning_rate': 0.003724065239166365, 'random_strength': 2, 'bagging_temperature': 5, 'max_bin': 10, 'grow_policy': 'Depthwise', 'l2_leaf_reg': 2.7101373030349427e-08, 'one_hot_max_size': 12, 'auto_class_weights': 'Balanced'}. Best is trial 5 with value: 0.7569317331448902.\u001b[0m\n"
     ]
    },
    {
     "name": "stdout",
     "output_type": "stream",
     "text": [
      "\n",
      "bestTest = 0.5961225816\n",
      "bestIteration = 839\n",
      "\n",
      "Training on fold [0/5]\n",
      "\n",
      "bestTest = 0.5698109714\n",
      "bestIteration = 121\n",
      "\n",
      "Training on fold [1/5]\n",
      "\n",
      "bestTest = 0.5731511445\n",
      "bestIteration = 100\n",
      "\n",
      "Training on fold [2/5]\n",
      "\n",
      "bestTest = 0.5761419567\n",
      "bestIteration = 104\n",
      "\n",
      "Training on fold [3/5]\n",
      "\n",
      "bestTest = 0.5952300784\n",
      "bestIteration = 72\n",
      "\n",
      "Training on fold [4/5]\n"
     ]
    },
    {
     "name": "stderr",
     "output_type": "stream",
     "text": [
      "\u001b[32m[I 2022-09-20 10:28:35,523]\u001b[0m Trial 18 finished with value: 0.7524852692381429 and parameters: {'max_depth': 11, 'n_estimators': 2773, 'min_data_in_leaf': 42, 'learning_rate': 0.030715118074520084, 'random_strength': 5, 'bagging_temperature': 5, 'max_bin': 10, 'grow_policy': 'Depthwise', 'l2_leaf_reg': 0.007501161790024733, 'one_hot_max_size': 10, 'auto_class_weights': 'SqrtBalanced'}. Best is trial 5 with value: 0.7569317331448902.\u001b[0m\n"
     ]
    },
    {
     "name": "stdout",
     "output_type": "stream",
     "text": [
      "\n",
      "bestTest = 0.5887574993\n",
      "bestIteration = 91\n",
      "\n",
      "Training on fold [0/5]\n",
      "\n",
      "bestTest = 0.599870241\n",
      "bestIteration = 10\n",
      "\n",
      "Training on fold [1/5]\n",
      "\n",
      "bestTest = 0.5963760832\n",
      "bestIteration = 19\n",
      "\n",
      "Training on fold [2/5]\n",
      "\n",
      "bestTest = 0.5989583477\n",
      "bestIteration = 11\n",
      "\n",
      "Training on fold [3/5]\n"
     ]
    },
    {
     "name": "stderr",
     "output_type": "stream",
     "text": [
      "\u001b[32m[I 2022-09-20 10:28:36,087]\u001b[0m Trial 19 finished with value: 0.7398906590529247 and parameters: {'max_depth': 9, 'n_estimators': 352, 'min_data_in_leaf': 60, 'learning_rate': 0.13364430540522435, 'random_strength': 2, 'bagging_temperature': 7, 'max_bin': 10, 'grow_policy': 'SymmetricTree', 'l2_leaf_reg': 0.0001970830734158339, 'one_hot_max_size': 12, 'auto_class_weights': 'Balanced'}. Best is trial 5 with value: 0.7569317331448902.\u001b[0m\n"
     ]
    },
    {
     "name": "stdout",
     "output_type": "stream",
     "text": [
      "\n",
      "bestTest = 0.6205319214\n",
      "bestIteration = 15\n",
      "\n",
      "Training on fold [4/5]\n",
      "\n",
      "bestTest = 0.6218628042\n",
      "bestIteration = 13\n",
      "\n",
      "Training on fold [0/5]\n",
      "\n",
      "bestTest = 0.5760721598\n",
      "bestIteration = 198\n",
      "\n",
      "Training on fold [1/5]\n",
      "\n",
      "bestTest = 0.5829425439\n",
      "bestIteration = 161\n",
      "\n",
      "Training on fold [2/5]\n",
      "\n",
      "bestTest = 0.5829315555\n",
      "bestIteration = 155\n",
      "\n",
      "Training on fold [3/5]\n",
      "\n",
      "bestTest = 0.6074859982\n",
      "bestIteration = 121\n",
      "\n",
      "Training on fold [4/5]\n"
     ]
    },
    {
     "name": "stderr",
     "output_type": "stream",
     "text": [
      "\u001b[32m[I 2022-09-20 10:28:57,668]\u001b[0m Trial 20 finished with value: 0.7543274719246557 and parameters: {'max_depth': 5, 'n_estimators': 4609, 'min_data_in_leaf': 99, 'learning_rate': 0.06045556190971231, 'random_strength': 7, 'bagging_temperature': 8, 'max_bin': 200, 'grow_policy': 'Depthwise', 'l2_leaf_reg': 6.396115820361628e-08, 'one_hot_max_size': 5, 'auto_class_weights': 'Balanced'}. Best is trial 5 with value: 0.7569317331448902.\u001b[0m\n"
     ]
    },
    {
     "name": "stdout",
     "output_type": "stream",
     "text": [
      "\n",
      "bestTest = 0.5967779359\n",
      "bestIteration = 133\n",
      "\n",
      "Training on fold [0/5]\n",
      "\n",
      "bestTest = 0.5787814258\n",
      "bestIteration = 2546\n",
      "\n",
      "Training on fold [1/5]\n",
      "\n",
      "bestTest = 0.5816544059\n",
      "bestIteration = 2757\n",
      "\n",
      "Training on fold [2/5]\n",
      "\n",
      "bestTest = 0.5827717847\n",
      "bestIteration = 2572\n",
      "\n",
      "Training on fold [3/5]\n",
      "\n",
      "bestTest = 0.6057140605\n",
      "bestIteration = 1859\n",
      "\n",
      "Training on fold [4/5]\n"
     ]
    },
    {
     "name": "stderr",
     "output_type": "stream",
     "text": [
      "\u001b[32m[I 2022-09-20 10:29:22,252]\u001b[0m Trial 21 finished with value: 0.7556882777304743 and parameters: {'max_depth': 5, 'n_estimators': 5994, 'min_data_in_leaf': 73, 'learning_rate': 0.0018921350802482966, 'random_strength': 2, 'bagging_temperature': 7, 'max_bin': 10, 'grow_policy': 'Depthwise', 'l2_leaf_reg': 1.6806546000715214e-08, 'one_hot_max_size': 12, 'auto_class_weights': 'Balanced'}. Best is trial 5 with value: 0.7569317331448902.\u001b[0m\n"
     ]
    },
    {
     "name": "stdout",
     "output_type": "stream",
     "text": [
      "\n",
      "bestTest = 0.596395938\n",
      "bestIteration = 1992\n",
      "\n",
      "Training on fold [0/5]\n",
      "\n",
      "bestTest = 0.5753494068\n",
      "bestIteration = 358\n",
      "\n",
      "Training on fold [1/5]\n",
      "\n",
      "bestTest = 0.5812638386\n",
      "bestIteration = 310\n",
      "\n",
      "Training on fold [2/5]\n",
      "\n",
      "bestTest = 0.5819886225\n",
      "bestIteration = 299\n",
      "\n",
      "Training on fold [3/5]\n",
      "\n",
      "bestTest = 0.606291373\n",
      "bestIteration = 270\n",
      "\n",
      "Training on fold [4/5]\n"
     ]
    },
    {
     "name": "stderr",
     "output_type": "stream",
     "text": [
      "\u001b[32m[I 2022-09-20 10:29:24,742]\u001b[0m Trial 22 finished with value: 0.7558523892280223 and parameters: {'max_depth': 3, 'n_estimators': 5568, 'min_data_in_leaf': 71, 'learning_rate': 0.02856695184918944, 'random_strength': 1, 'bagging_temperature': 6, 'max_bin': 10, 'grow_policy': 'Depthwise', 'l2_leaf_reg': 1.015839948769937e-08, 'one_hot_max_size': 12, 'auto_class_weights': 'Balanced'}. Best is trial 5 with value: 0.7569317331448902.\u001b[0m\n"
     ]
    },
    {
     "name": "stdout",
     "output_type": "stream",
     "text": [
      "\n",
      "bestTest = 0.5947557491\n",
      "bestIteration = 213\n",
      "\n",
      "Training on fold [0/5]\n",
      "\n",
      "bestTest = 0.5779283028\n",
      "bestIteration = 286\n",
      "\n",
      "Training on fold [1/5]\n",
      "\n",
      "bestTest = 0.583009783\n",
      "bestIteration = 243\n",
      "\n",
      "Training on fold [2/5]\n",
      "\n",
      "bestTest = 0.582865172\n",
      "bestIteration = 238\n",
      "\n",
      "Training on fold [3/5]\n",
      "\n",
      "bestTest = 0.6069497612\n",
      "bestIteration = 161\n",
      "\n",
      "Training on fold [4/5]\n"
     ]
    },
    {
     "name": "stderr",
     "output_type": "stream",
     "text": [
      "\u001b[32m[I 2022-09-20 10:29:26,752]\u001b[0m Trial 23 finished with value: 0.7547445245232837 and parameters: {'max_depth': 3, 'n_estimators': 5368, 'min_data_in_leaf': 83, 'learning_rate': 0.028017711727514886, 'random_strength': 1, 'bagging_temperature': 6, 'max_bin': 10, 'grow_policy': 'Depthwise', 'l2_leaf_reg': 2.929039405634772e-06, 'one_hot_max_size': 12, 'auto_class_weights': 'Balanced'}. Best is trial 5 with value: 0.7569317331448902.\u001b[0m\n"
     ]
    },
    {
     "name": "stdout",
     "output_type": "stream",
     "text": [
      "\n",
      "bestTest = 0.5956045623\n",
      "bestIteration = 203\n",
      "\n",
      "Training on fold [0/5]\n",
      "\n",
      "bestTest = 0.5766682438\n",
      "bestIteration = 240\n",
      "\n",
      "Training on fold [1/5]\n",
      "\n",
      "bestTest = 0.5807812819\n",
      "bestIteration = 261\n",
      "\n",
      "Training on fold [2/5]\n",
      "\n",
      "bestTest = 0.5837742048\n",
      "bestIteration = 173\n",
      "\n",
      "Training on fold [3/5]\n",
      "\n",
      "bestTest = 0.6066003526\n",
      "bestIteration = 198\n",
      "\n",
      "Training on fold [4/5]\n"
     ]
    },
    {
     "name": "stderr",
     "output_type": "stream",
     "text": [
      "\u001b[32m[I 2022-09-20 10:29:28,970]\u001b[0m Trial 24 finished with value: 0.7553447150034722 and parameters: {'max_depth': 4, 'n_estimators': 4794, 'min_data_in_leaf': 65, 'learning_rate': 0.04051760985329341, 'random_strength': 4, 'bagging_temperature': 5, 'max_bin': 10, 'grow_policy': 'Depthwise', 'l2_leaf_reg': 1.09463738543686e-07, 'one_hot_max_size': 12, 'auto_class_weights': 'Balanced'}. Best is trial 5 with value: 0.7569317331448902.\u001b[0m\n"
     ]
    },
    {
     "name": "stdout",
     "output_type": "stream",
     "text": [
      "\n",
      "bestTest = 0.595112613\n",
      "bestIteration = 225\n",
      "\n",
      "Training on fold [0/5]\n",
      "\n",
      "bestTest = 0.5849140386\n",
      "bestIteration = 27\n",
      "\n",
      "Training on fold [1/5]\n",
      "\n",
      "bestTest = 0.583565306\n",
      "bestIteration = 27\n",
      "\n",
      "Training on fold [2/5]\n",
      "\n",
      "bestTest = 0.5921027231\n",
      "bestIteration = 21\n",
      "\n",
      "Training on fold [3/5]\n"
     ]
    },
    {
     "name": "stderr",
     "output_type": "stream",
     "text": [
      "\u001b[32m[I 2022-09-20 10:29:29,712]\u001b[0m Trial 25 finished with value: 0.752468100666668 and parameters: {'max_depth': 6, 'n_estimators': 5523, 'min_data_in_leaf': 14, 'learning_rate': 0.08917748164022483, 'random_strength': 1, 'bagging_temperature': 4, 'max_bin': 10, 'grow_policy': 'Depthwise', 'l2_leaf_reg': 2.1215160976620755e-06, 'one_hot_max_size': 500, 'auto_class_weights': 'Balanced'}. Best is trial 5 with value: 0.7569317331448902.\u001b[0m\n"
     ]
    },
    {
     "name": "stdout",
     "output_type": "stream",
     "text": [
      "\n",
      "bestTest = 0.6041258117\n",
      "bestIteration = 29\n",
      "\n",
      "Training on fold [4/5]\n",
      "\n",
      "bestTest = 0.5963260272\n",
      "bestIteration = 32\n",
      "\n",
      "Training on fold [0/5]\n",
      "\n",
      "bestTest = 0.5797543773\n",
      "bestIteration = 656\n",
      "\n",
      "Training on fold [1/5]\n",
      "\n",
      "bestTest = 0.5809506524\n",
      "bestIteration = 750\n",
      "\n",
      "Training on fold [2/5]\n",
      "\n",
      "bestTest = 0.583209151\n",
      "bestIteration = 610\n",
      "\n",
      "Training on fold [3/5]\n",
      "\n",
      "bestTest = 0.6079058269\n",
      "bestIteration = 344\n",
      "\n",
      "Training on fold [4/5]\n"
     ]
    },
    {
     "name": "stderr",
     "output_type": "stream",
     "text": [
      "\u001b[32m[I 2022-09-20 10:29:34,152]\u001b[0m Trial 26 finished with value: 0.7539023505440484 and parameters: {'max_depth': 3, 'n_estimators': 4401, 'min_data_in_leaf': 40, 'learning_rate': 0.016399545785109666, 'random_strength': 3, 'bagging_temperature': 8, 'max_bin': 10, 'grow_policy': 'SymmetricTree', 'l2_leaf_reg': 0.0032211684961407157, 'one_hot_max_size': 100, 'auto_class_weights': 'Balanced'}. Best is trial 5 with value: 0.7569317331448902.\u001b[0m\n"
     ]
    },
    {
     "name": "stdout",
     "output_type": "stream",
     "text": [
      "\n",
      "bestTest = 0.597753927\n",
      "bestIteration = 558\n",
      "\n",
      "Training on fold [0/5]\n",
      "\n",
      "bestTest = 0.5650925271\n",
      "bestIteration = 153\n",
      "\n",
      "Training on fold [1/5]\n",
      "\n",
      "bestTest = 0.5710547601\n",
      "bestIteration = 155\n",
      "\n",
      "Training on fold [2/5]\n",
      "\n",
      "bestTest = 0.5718500213\n",
      "bestIteration = 108\n",
      "\n",
      "Training on fold [3/5]\n",
      "\n",
      "bestTest = 0.5941067364\n",
      "bestIteration = 121\n",
      "\n",
      "Training on fold [4/5]\n"
     ]
    },
    {
     "name": "stderr",
     "output_type": "stream",
     "text": [
      "\u001b[32m[I 2022-09-20 10:29:36,069]\u001b[0m Trial 27 finished with value: 0.7559278386338747 and parameters: {'max_depth': 6, 'n_estimators': 5087, 'min_data_in_leaf': 81, 'learning_rate': 0.0384792212897406, 'random_strength': 2, 'bagging_temperature': 6, 'max_bin': 10, 'grow_policy': 'Depthwise', 'l2_leaf_reg': 0.09075150217008156, 'one_hot_max_size': 1024, 'auto_class_weights': 'SqrtBalanced'}. Best is trial 5 with value: 0.7569317331448902.\u001b[0m\n"
     ]
    },
    {
     "name": "stdout",
     "output_type": "stream",
     "text": [
      "\n",
      "bestTest = 0.5821266093\n",
      "bestIteration = 114\n",
      "\n",
      "Training on fold [0/5]\n",
      "\n",
      "bestTest = 0.5650857353\n",
      "bestIteration = 103\n",
      "\n",
      "Training on fold [1/5]\n",
      "\n",
      "bestTest = 0.568932992\n",
      "bestIteration = 94\n",
      "\n",
      "Training on fold [2/5]\n",
      "\n",
      "bestTest = 0.5696397446\n",
      "bestIteration = 113\n",
      "\n",
      "Training on fold [3/5]\n",
      "\n",
      "bestTest = 0.5941367689\n",
      "bestIteration = 64\n",
      "\n",
      "Training on fold [4/5]\n"
     ]
    },
    {
     "name": "stderr",
     "output_type": "stream",
     "text": [
      "\u001b[32m[I 2022-09-20 10:29:37,617]\u001b[0m Trial 28 finished with value: 0.7560561867339962 and parameters: {'max_depth': 6, 'n_estimators': 3017, 'min_data_in_leaf': 84, 'learning_rate': 0.06605379581227688, 'random_strength': 2, 'bagging_temperature': 4, 'max_bin': 200, 'grow_policy': 'Depthwise', 'l2_leaf_reg': 0.9958153398423625, 'one_hot_max_size': 1024, 'auto_class_weights': 'SqrtBalanced'}. Best is trial 5 with value: 0.7569317331448902.\u001b[0m\n"
     ]
    },
    {
     "name": "stdout",
     "output_type": "stream",
     "text": [
      "\n",
      "bestTest = 0.581184854\n",
      "bestIteration = 85\n",
      "\n",
      "Training on fold [0/5]\n",
      "\n",
      "bestTest = 0.5643308889\n",
      "bestIteration = 127\n",
      "\n",
      "Training on fold [1/5]\n",
      "\n",
      "bestTest = 0.5687888455\n",
      "bestIteration = 153\n",
      "\n",
      "Training on fold [2/5]\n",
      "\n",
      "bestTest = 0.570066619\n",
      "bestIteration = 119\n",
      "\n",
      "Training on fold [3/5]\n",
      "\n",
      "bestTest = 0.5939111536\n",
      "bestIteration = 60\n",
      "\n",
      "Training on fold [4/5]\n"
     ]
    },
    {
     "name": "stderr",
     "output_type": "stream",
     "text": [
      "\u001b[32m[I 2022-09-20 10:29:39,670]\u001b[0m Trial 29 finished with value: 0.7557707655433873 and parameters: {'max_depth': 7, 'n_estimators': 3011, 'min_data_in_leaf': 49, 'learning_rate': 0.06498628623595656, 'random_strength': 5, 'bagging_temperature': 2, 'max_bin': 200, 'grow_policy': 'Depthwise', 'l2_leaf_reg': 0.8828958818026151, 'one_hot_max_size': 1024, 'auto_class_weights': 'SqrtBalanced'}. Best is trial 5 with value: 0.7569317331448902.\u001b[0m\n"
     ]
    },
    {
     "name": "stdout",
     "output_type": "stream",
     "text": [
      "\n",
      "bestTest = 0.5831247714\n",
      "bestIteration = 88\n",
      "\n",
      "Training on fold [0/5]\n",
      "\n",
      "bestTest = 0.5664385721\n",
      "bestIteration = 59\n",
      "\n",
      "Training on fold [1/5]\n",
      "\n",
      "bestTest = 0.5738918587\n",
      "bestIteration = 62\n",
      "\n",
      "Training on fold [2/5]\n",
      "\n",
      "bestTest = 0.5718677107\n",
      "bestIteration = 50\n",
      "\n",
      "Training on fold [3/5]\n",
      "\n",
      "bestTest = 0.5943052228\n",
      "bestIteration = 43\n",
      "\n",
      "Training on fold [4/5]\n"
     ]
    },
    {
     "name": "stderr",
     "output_type": "stream",
     "text": [
      "\u001b[32m[I 2022-09-20 10:29:40,988]\u001b[0m Trial 30 finished with value: 0.7542805784790991 and parameters: {'max_depth': 8, 'n_estimators': 2302, 'min_data_in_leaf': 91, 'learning_rate': 0.09790392514045357, 'random_strength': 4, 'bagging_temperature': 4, 'max_bin': 200, 'grow_policy': 'Depthwise', 'l2_leaf_reg': 0.0801907347888313, 'one_hot_max_size': 1024, 'auto_class_weights': 'SqrtBalanced'}. Best is trial 5 with value: 0.7569317331448902.\u001b[0m\n"
     ]
    },
    {
     "name": "stdout",
     "output_type": "stream",
     "text": [
      "\n",
      "bestTest = 0.5832189187\n",
      "bestIteration = 54\n",
      "\n",
      "Training on fold [0/5]\n",
      "\n",
      "bestTest = 0.5646484236\n",
      "bestIteration = 138\n",
      "\n",
      "Training on fold [1/5]\n",
      "\n",
      "bestTest = 0.5681128809\n",
      "bestIteration = 199\n",
      "\n",
      "Training on fold [2/5]\n",
      "\n",
      "bestTest = 0.5700278214\n",
      "bestIteration = 113\n",
      "\n",
      "Training on fold [3/5]\n",
      "\n",
      "bestTest = 0.5941020751\n",
      "bestIteration = 115\n",
      "\n",
      "Training on fold [4/5]\n"
     ]
    },
    {
     "name": "stderr",
     "output_type": "stream",
     "text": [
      "\u001b[32m[I 2022-09-20 10:29:43,101]\u001b[0m Trial 31 finished with value: 0.7562817080200126 and parameters: {'max_depth': 6, 'n_estimators': 3242, 'min_data_in_leaf': 80, 'learning_rate': 0.0401396098827401, 'random_strength': 2, 'bagging_temperature': 4, 'max_bin': 200, 'grow_policy': 'Depthwise', 'l2_leaf_reg': 0.9797292134547488, 'one_hot_max_size': 1024, 'auto_class_weights': 'SqrtBalanced'}. Best is trial 5 with value: 0.7569317331448902.\u001b[0m\n"
     ]
    },
    {
     "name": "stdout",
     "output_type": "stream",
     "text": [
      "\n",
      "bestTest = 0.582942755\n",
      "bestIteration = 107\n",
      "\n",
      "Training on fold [0/5]\n",
      "\n",
      "bestTest = 0.5632057321\n",
      "bestIteration = 204\n",
      "\n",
      "Training on fold [1/5]\n",
      "\n",
      "bestTest = 0.5687289831\n",
      "bestIteration = 123\n",
      "\n",
      "Training on fold [2/5]\n",
      "\n",
      "bestTest = 0.5705565052\n",
      "bestIteration = 181\n",
      "\n",
      "Training on fold [3/5]\n",
      "\n",
      "bestTest = 0.5944704839\n",
      "bestIteration = 86\n",
      "\n",
      "Training on fold [4/5]\n"
     ]
    },
    {
     "name": "stderr",
     "output_type": "stream",
     "text": [
      "\u001b[32m[I 2022-09-20 10:29:45,283]\u001b[0m Trial 32 finished with value: 0.7570907570397576 and parameters: {'max_depth': 6, 'n_estimators': 3263, 'min_data_in_leaf': 90, 'learning_rate': 0.04217897246018193, 'random_strength': 2, 'bagging_temperature': 3, 'max_bin': 200, 'grow_policy': 'Depthwise', 'l2_leaf_reg': 0.7158672676523132, 'one_hot_max_size': 1024, 'auto_class_weights': 'SqrtBalanced'}. Best is trial 32 with value: 0.7570907570397576.\u001b[0m\n"
     ]
    },
    {
     "name": "stdout",
     "output_type": "stream",
     "text": [
      "\n",
      "bestTest = 0.5800531665\n",
      "bestIteration = 121\n",
      "\n",
      "Training on fold [0/5]\n",
      "\n",
      "bestTest = 0.5673220986\n",
      "bestIteration = 84\n",
      "\n",
      "Training on fold [1/5]\n",
      "\n",
      "bestTest = 0.5709574712\n",
      "bestIteration = 91\n",
      "\n",
      "Training on fold [2/5]\n",
      "\n",
      "bestTest = 0.5744740537\n",
      "bestIteration = 63\n",
      "\n",
      "Training on fold [3/5]\n",
      "\n",
      "bestTest = 0.5943888456\n",
      "bestIteration = 49\n",
      "\n",
      "Training on fold [4/5]\n"
     ]
    },
    {
     "name": "stderr",
     "output_type": "stream",
     "text": [
      "\u001b[32m[I 2022-09-20 10:29:46,884]\u001b[0m Trial 33 finished with value: 0.7536379438650883 and parameters: {'max_depth': 8, 'n_estimators': 3152, 'min_data_in_leaf': 90, 'learning_rate': 0.0747360369925114, 'random_strength': 3, 'bagging_temperature': 2, 'max_bin': 200, 'grow_policy': 'Depthwise', 'l2_leaf_reg': 0.7941673778429766, 'one_hot_max_size': 1024, 'auto_class_weights': 'SqrtBalanced'}. Best is trial 32 with value: 0.7570907570397576.\u001b[0m\n"
     ]
    },
    {
     "name": "stdout",
     "output_type": "stream",
     "text": [
      "\n",
      "bestTest = 0.5847384665\n",
      "bestIteration = 61\n",
      "\n",
      "Training on fold [0/5]\n",
      "\n",
      "bestTest = 0.5702806787\n",
      "bestIteration = 58\n",
      "\n",
      "Training on fold [1/5]\n",
      "\n",
      "bestTest = 0.5701747087\n",
      "bestIteration = 49\n",
      "\n",
      "Training on fold [2/5]\n",
      "\n",
      "bestTest = 0.5731706621\n",
      "bestIteration = 48\n",
      "\n",
      "Training on fold [3/5]\n",
      "\n",
      "bestTest = 0.595607078\n",
      "bestIteration = 32\n",
      "\n",
      "Training on fold [4/5]\n"
     ]
    },
    {
     "name": "stderr",
     "output_type": "stream",
     "text": [
      "\u001b[32m[I 2022-09-20 10:29:48,734]\u001b[0m Trial 34 finished with value: 0.7538193657624861 and parameters: {'max_depth': 13, 'n_estimators': 1452, 'min_data_in_leaf': 87, 'learning_rate': 0.058953306480264714, 'random_strength': 2, 'bagging_temperature': 3, 'max_bin': 200, 'grow_policy': 'Depthwise', 'l2_leaf_reg': 0.03445665717877339, 'one_hot_max_size': 1024, 'auto_class_weights': 'SqrtBalanced'}. Best is trial 32 with value: 0.7570907570397576.\u001b[0m\n"
     ]
    },
    {
     "name": "stdout",
     "output_type": "stream",
     "text": [
      "\n",
      "bestTest = 0.5859614226\n",
      "bestIteration = 40\n",
      "\n",
      "Training on fold [0/5]\n",
      "\n",
      "bestTest = 0.5682693425\n",
      "bestIteration = 178\n",
      "\n",
      "Training on fold [1/5]\n",
      "\n",
      "bestTest = 0.5686255647\n",
      "bestIteration = 270\n",
      "\n",
      "Training on fold [2/5]\n",
      "\n",
      "bestTest = 0.5698107864\n",
      "bestIteration = 255\n",
      "\n",
      "Training on fold [3/5]\n",
      "\n",
      "bestTest = 0.5950992495\n",
      "bestIteration = 148\n",
      "\n",
      "Training on fold [4/5]\n"
     ]
    },
    {
     "name": "stderr",
     "output_type": "stream",
     "text": [
      "\u001b[32m[I 2022-09-20 10:29:51,694]\u001b[0m Trial 35 finished with value: 0.7552508625752509 and parameters: {'max_depth': 6, 'n_estimators': 2701, 'min_data_in_leaf': 99, 'learning_rate': 0.04336808477522031, 'random_strength': 10, 'bagging_temperature': 4, 'max_bin': 200, 'grow_policy': 'Depthwise', 'l2_leaf_reg': 0.3693828372510836, 'one_hot_max_size': 10, 'auto_class_weights': 'SqrtBalanced'}. Best is trial 32 with value: 0.7570907570397576.\u001b[0m\n"
     ]
    },
    {
     "name": "stdout",
     "output_type": "stream",
     "text": [
      "\n",
      "bestTest = 0.583828237\n",
      "bestIteration = 188\n",
      "\n",
      "Training on fold [0/5]\n",
      "\n",
      "bestTest = 0.5709294738\n",
      "bestIteration = 66\n",
      "\n",
      "Training on fold [1/5]\n",
      "\n",
      "bestTest = 0.5751050019\n",
      "bestIteration = 75\n",
      "\n",
      "Training on fold [2/5]\n",
      "\n",
      "bestTest = 0.569793595\n",
      "bestIteration = 48\n",
      "\n",
      "Training on fold [3/5]\n",
      "\n",
      "bestTest = 0.5970428743\n",
      "bestIteration = 57\n",
      "\n",
      "Training on fold [4/5]\n"
     ]
    },
    {
     "name": "stderr",
     "output_type": "stream",
     "text": [
      "\u001b[32m[I 2022-09-20 10:29:52,822]\u001b[0m Trial 36 finished with value: 0.7527154931279597 and parameters: {'max_depth': 7, 'n_estimators': 3238, 'min_data_in_leaf': 32, 'learning_rate': 0.0847029500084244, 'random_strength': 4, 'bagging_temperature': 2, 'max_bin': 200, 'grow_policy': 'SymmetricTree', 'l2_leaf_reg': 0.026209090717567697, 'one_hot_max_size': 1024, 'auto_class_weights': 'SqrtBalanced'}. Best is trial 32 with value: 0.7570907570397576.\u001b[0m\n"
     ]
    },
    {
     "name": "stdout",
     "output_type": "stream",
     "text": [
      "\n",
      "bestTest = 0.5860264474\n",
      "bestIteration = 65\n",
      "\n",
      "Training on fold [0/5]\n",
      "\n",
      "bestTest = 0.5662038435\n",
      "bestIteration = 173\n",
      "\n",
      "Training on fold [1/5]\n",
      "\n",
      "bestTest = 0.5701220321\n",
      "bestIteration = 173\n",
      "\n",
      "Training on fold [2/5]\n",
      "\n",
      "bestTest = 0.5684871256\n",
      "bestIteration = 158\n",
      "\n",
      "Training on fold [3/5]\n",
      "\n",
      "bestTest = 0.5956262811\n",
      "bestIteration = 125\n",
      "\n",
      "Training on fold [4/5]\n"
     ]
    },
    {
     "name": "stderr",
     "output_type": "stream",
     "text": [
      "\u001b[32m[I 2022-09-20 10:29:54,730]\u001b[0m Trial 37 finished with value: 0.7551086380679175 and parameters: {'max_depth': 4, 'n_estimators': 2277, 'min_data_in_leaf': 25, 'learning_rate': 0.058830847353695426, 'random_strength': 3, 'bagging_temperature': 3, 'max_bin': 200, 'grow_policy': 'Lossguide', 'l2_leaf_reg': 0.18838404173461837, 'one_hot_max_size': 1024, 'auto_class_weights': 'SqrtBalanced'}. Best is trial 32 with value: 0.7570907570397576.\u001b[0m\n"
     ]
    },
    {
     "name": "stdout",
     "output_type": "stream",
     "text": [
      "\n",
      "bestTest = 0.5849273539\n",
      "bestIteration = 100\n",
      "\n",
      "Training on fold [0/5]\n",
      "\n",
      "bestTest = 0.5678305665\n",
      "bestIteration = 62\n",
      "\n",
      "Training on fold [1/5]\n",
      "\n",
      "bestTest = 0.5724264951\n",
      "bestIteration = 77\n",
      "\n",
      "Training on fold [2/5]\n",
      "\n",
      "bestTest = 0.5773957111\n",
      "bestIteration = 46\n",
      "\n",
      "Training on fold [3/5]\n",
      "\n",
      "bestTest = 0.5963784924\n",
      "bestIteration = 33\n",
      "\n",
      "Training on fold [4/5]\n"
     ]
    },
    {
     "name": "stderr",
     "output_type": "stream",
     "text": [
      "\u001b[32m[I 2022-09-20 10:29:56,443]\u001b[0m Trial 38 finished with value: 0.7519930021803993 and parameters: {'max_depth': 10, 'n_estimators': 1342, 'min_data_in_leaf': 55, 'learning_rate': 0.10671951219767159, 'random_strength': 5, 'bagging_temperature': 1, 'max_bin': 200, 'grow_policy': 'Depthwise', 'l2_leaf_reg': 0.3955529619563399, 'one_hot_max_size': 10, 'auto_class_weights': 'SqrtBalanced'}. Best is trial 32 with value: 0.7570907570397576.\u001b[0m\n"
     ]
    },
    {
     "name": "stdout",
     "output_type": "stream",
     "text": [
      "\n",
      "bestTest = 0.58353535\n",
      "bestIteration = 53\n",
      "\n",
      "Training on fold [0/5]\n",
      "\n",
      "bestTest = 0.5651065761\n",
      "bestIteration = 264\n",
      "\n",
      "Training on fold [1/5]\n",
      "\n",
      "bestTest = 0.5712024957\n",
      "bestIteration = 254\n",
      "\n",
      "Training on fold [2/5]\n",
      "\n",
      "bestTest = 0.5700274652\n",
      "bestIteration = 256\n",
      "\n",
      "Training on fold [3/5]\n",
      "\n",
      "bestTest = 0.5949607734\n",
      "bestIteration = 184\n",
      "\n",
      "Training on fold [4/5]\n"
     ]
    },
    {
     "name": "stderr",
     "output_type": "stream",
     "text": [
      "\u001b[32m[I 2022-09-20 10:30:00,526]\u001b[0m Trial 39 finished with value: 0.7558482495095377 and parameters: {'max_depth': 7, 'n_estimators': 3965, 'min_data_in_leaf': 78, 'learning_rate': 0.022167497171317274, 'random_strength': 3, 'bagging_temperature': 5, 'max_bin': 200, 'grow_policy': 'Lossguide', 'l2_leaf_reg': 0.008844520558558014, 'one_hot_max_size': 500, 'auto_class_weights': 'SqrtBalanced'}. Best is trial 32 with value: 0.7570907570397576.\u001b[0m\n"
     ]
    },
    {
     "name": "stdout",
     "output_type": "stream",
     "text": [
      "\n",
      "bestTest = 0.5831680893\n",
      "bestIteration = 191\n",
      "\n",
      "Training on fold [0/5]\n",
      "\n",
      "bestTest = 0.5697991035\n",
      "bestIteration = 22\n",
      "\n",
      "Training on fold [1/5]\n",
      "\n",
      "bestTest = 0.5714814125\n",
      "bestIteration = 23\n",
      "\n",
      "Training on fold [2/5]\n",
      "\n",
      "bestTest = 0.5741667065\n",
      "bestIteration = 17\n",
      "\n",
      "Training on fold [3/5]\n",
      "\n",
      "bestTest = 0.5968556566\n",
      "bestIteration = 9\n",
      "\n",
      "Training on fold [4/5]\n"
     ]
    },
    {
     "name": "stderr",
     "output_type": "stream",
     "text": [
      "\u001b[32m[I 2022-09-20 10:30:01,279]\u001b[0m Trial 40 finished with value: 0.7521004664635295 and parameters: {'max_depth': 8, 'n_estimators': 2021, 'min_data_in_leaf': 95, 'learning_rate': 0.19856701268916865, 'random_strength': 2, 'bagging_temperature': 4, 'max_bin': 400, 'grow_policy': 'Depthwise', 'l2_leaf_reg': 0.05211507334069317, 'one_hot_max_size': 1024, 'auto_class_weights': 'SqrtBalanced'}. Best is trial 32 with value: 0.7570907570397576.\u001b[0m\n"
     ]
    },
    {
     "name": "stdout",
     "output_type": "stream",
     "text": [
      "\n",
      "bestTest = 0.587271401\n",
      "bestIteration = 20\n",
      "\n",
      "Training on fold [0/5]\n",
      "\n",
      "bestTest = 0.5647803857\n",
      "bestIteration = 206\n",
      "\n",
      "Training on fold [1/5]\n",
      "\n",
      "bestTest = 0.5694468786\n",
      "bestIteration = 176\n",
      "\n",
      "Training on fold [2/5]\n",
      "\n",
      "bestTest = 0.570018067\n",
      "bestIteration = 150\n",
      "\n",
      "Training on fold [3/5]\n",
      "\n",
      "bestTest = 0.5925545684\n",
      "bestIteration = 127\n",
      "\n",
      "Training on fold [4/5]\n"
     ]
    },
    {
     "name": "stderr",
     "output_type": "stream",
     "text": [
      "\u001b[32m[I 2022-09-20 10:30:03,588]\u001b[0m Trial 41 finished with value: 0.7564371025761132 and parameters: {'max_depth': 6, 'n_estimators': 3453, 'min_data_in_leaf': 85, 'learning_rate': 0.03705859970838593, 'random_strength': 2, 'bagging_temperature': 4, 'max_bin': 200, 'grow_policy': 'Depthwise', 'l2_leaf_reg': 0.16711746385609472, 'one_hot_max_size': 1024, 'auto_class_weights': 'SqrtBalanced'}. Best is trial 32 with value: 0.7570907570397576.\u001b[0m\n"
     ]
    },
    {
     "name": "stdout",
     "output_type": "stream",
     "text": [
      "\n",
      "bestTest = 0.583169038\n",
      "bestIteration = 105\n",
      "\n",
      "Training on fold [0/5]\n",
      "\n",
      "bestTest = 0.5658419698\n",
      "bestIteration = 154\n",
      "\n",
      "Training on fold [1/5]\n",
      "\n",
      "bestTest = 0.5695878069\n",
      "bestIteration = 124\n",
      "\n",
      "Training on fold [2/5]\n",
      "\n",
      "bestTest = 0.5705101436\n",
      "bestIteration = 118\n",
      "\n",
      "Training on fold [3/5]\n",
      "\n",
      "bestTest = 0.5946361177\n",
      "bestIteration = 69\n",
      "\n",
      "Training on fold [4/5]\n"
     ]
    },
    {
     "name": "stderr",
     "output_type": "stream",
     "text": [
      "\u001b[32m[I 2022-09-20 10:30:05,397]\u001b[0m Trial 42 finished with value: 0.7558405868551971 and parameters: {'max_depth': 6, 'n_estimators': 3569, 'min_data_in_leaf': 85, 'learning_rate': 0.04038362279884223, 'random_strength': 2, 'bagging_temperature': 4, 'max_bin': 200, 'grow_policy': 'Depthwise', 'l2_leaf_reg': 0.21145715855242503, 'one_hot_max_size': 1024, 'auto_class_weights': 'SqrtBalanced'}. Best is trial 32 with value: 0.7570907570397576.\u001b[0m\n"
     ]
    },
    {
     "name": "stdout",
     "output_type": "stream",
     "text": [
      "\n",
      "bestTest = 0.5841472981\n",
      "bestIteration = 90\n",
      "\n",
      "Training on fold [0/5]\n",
      "\n",
      "bestTest = 0.5653844743\n",
      "bestIteration = 111\n",
      "\n",
      "Training on fold [1/5]\n",
      "\n",
      "bestTest = 0.5692501876\n",
      "bestIteration = 139\n",
      "\n",
      "Training on fold [2/5]\n",
      "\n",
      "bestTest = 0.5702998993\n",
      "bestIteration = 151\n",
      "\n",
      "Training on fold [3/5]\n",
      "\n",
      "bestTest = 0.5931428375\n",
      "bestIteration = 75\n",
      "\n",
      "Training on fold [4/5]\n"
     ]
    },
    {
     "name": "stderr",
     "output_type": "stream",
     "text": [
      "\u001b[32m[I 2022-09-20 10:30:06,918]\u001b[0m Trial 43 finished with value: 0.7559210235337555 and parameters: {'max_depth': 4, 'n_estimators': 2648, 'min_data_in_leaf': 36, 'learning_rate': 0.052290549357055724, 'random_strength': 1, 'bagging_temperature': 3, 'max_bin': 200, 'grow_policy': 'Depthwise', 'l2_leaf_reg': 0.9887089177575691, 'one_hot_max_size': 1024, 'auto_class_weights': 'SqrtBalanced'}. Best is trial 32 with value: 0.7570907570397576.\u001b[0m\n"
     ]
    },
    {
     "name": "stdout",
     "output_type": "stream",
     "text": [
      "\n",
      "bestTest = 0.5812166428\n",
      "bestIteration = 116\n",
      "\n",
      "Training on fold [0/5]\n",
      "\n",
      "bestTest = 0.5662337052\n",
      "bestIteration = 181\n",
      "\n",
      "Training on fold [1/5]\n",
      "\n",
      "bestTest = 0.5689220799\n",
      "bestIteration = 273\n",
      "\n",
      "Training on fold [2/5]\n",
      "\n",
      "bestTest = 0.5713166455\n",
      "bestIteration = 119\n",
      "\n",
      "Training on fold [3/5]\n",
      "\n",
      "bestTest = 0.5944369265\n",
      "bestIteration = 108\n",
      "\n",
      "Training on fold [4/5]\n"
     ]
    },
    {
     "name": "stderr",
     "output_type": "stream",
     "text": [
      "\u001b[32m[I 2022-09-20 10:30:09,869]\u001b[0m Trial 44 finished with value: 0.7552857776593387 and parameters: {'max_depth': 7, 'n_estimators': 3362, 'min_data_in_leaf': 66, 'learning_rate': 0.03597167519346866, 'random_strength': 4, 'bagging_temperature': 3, 'max_bin': 200, 'grow_policy': 'Depthwise', 'l2_leaf_reg': 0.3080508532480252, 'one_hot_max_size': 10, 'auto_class_weights': 'SqrtBalanced'}. Best is trial 32 with value: 0.7570907570397576.\u001b[0m\n"
     ]
    },
    {
     "name": "stdout",
     "output_type": "stream",
     "text": [
      "\n",
      "bestTest = 0.583455094\n",
      "bestIteration = 182\n",
      "\n",
      "Training on fold [0/5]\n",
      "\n",
      "bestTest = 0.5700266661\n",
      "bestIteration = 115\n",
      "\n",
      "Training on fold [1/5]\n",
      "\n",
      "bestTest = 0.5701987333\n",
      "bestIteration = 156\n",
      "\n",
      "Training on fold [2/5]\n",
      "\n",
      "bestTest = 0.569516259\n",
      "bestIteration = 127\n",
      "\n",
      "Training on fold [3/5]\n",
      "\n",
      "bestTest = 0.5972473567\n",
      "bestIteration = 72\n",
      "\n",
      "Training on fold [4/5]\n"
     ]
    },
    {
     "name": "stderr",
     "output_type": "stream",
     "text": [
      "\u001b[32m[I 2022-09-20 10:30:12,188]\u001b[0m Trial 45 finished with value: 0.7543056599605125 and parameters: {'max_depth': 14, 'n_estimators': 3867, 'min_data_in_leaf': 77, 'learning_rate': 0.05063300497358382, 'random_strength': 3, 'bagging_temperature': 5, 'max_bin': 200, 'grow_policy': 'Lossguide', 'l2_leaf_reg': 0.02506521873777239, 'one_hot_max_size': 1024, 'auto_class_weights': 'SqrtBalanced'}. Best is trial 32 with value: 0.7570907570397576.\u001b[0m\n"
     ]
    },
    {
     "name": "stdout",
     "output_type": "stream",
     "text": [
      "\n",
      "bestTest = 0.5825879883\n",
      "bestIteration = 100\n",
      "\n",
      "Training on fold [0/5]\n",
      "\n",
      "bestTest = 0.5668078982\n",
      "bestIteration = 382\n",
      "\n",
      "Training on fold [1/5]\n",
      "\n",
      "bestTest = 0.5720351665\n",
      "bestIteration = 308\n",
      "\n",
      "Training on fold [2/5]\n",
      "\n",
      "bestTest = 0.5701297414\n",
      "bestIteration = 336\n",
      "\n",
      "Training on fold [3/5]\n",
      "\n",
      "bestTest = 0.5949240477\n",
      "bestIteration = 228\n",
      "\n",
      "Training on fold [4/5]\n"
     ]
    },
    {
     "name": "stderr",
     "output_type": "stream",
     "text": [
      "\u001b[32m[I 2022-09-20 10:30:59,120]\u001b[0m Trial 46 finished with value: 0.755527227752116 and parameters: {'max_depth': 5, 'n_estimators': 4298, 'min_data_in_leaf': 93, 'learning_rate': 0.017938093015795492, 'random_strength': 2, 'bagging_temperature': 1, 'max_bin': 400, 'grow_policy': 'Depthwise', 'l2_leaf_reg': 0.11551967906602748, 'one_hot_max_size': 5, 'auto_class_weights': 'SqrtBalanced'}. Best is trial 32 with value: 0.7570907570397576.\u001b[0m\n"
     ]
    },
    {
     "name": "stdout",
     "output_type": "stream",
     "text": [
      "\n",
      "bestTest = 0.581434891\n",
      "bestIteration = 457\n",
      "\n",
      "Training on fold [0/5]\n",
      "\n",
      "bestTest = 0.5651281345\n",
      "bestIteration = 110\n",
      "\n",
      "Training on fold [1/5]\n",
      "\n",
      "bestTest = 0.5685855358\n",
      "bestIteration = 89\n",
      "\n",
      "Training on fold [2/5]\n",
      "\n",
      "bestTest = 0.5718005785\n",
      "bestIteration = 106\n",
      "\n",
      "Training on fold [3/5]\n",
      "\n",
      "bestTest = 0.5968205257\n",
      "bestIteration = 51\n",
      "\n",
      "Training on fold [4/5]\n"
     ]
    },
    {
     "name": "stderr",
     "output_type": "stream",
     "text": [
      "\u001b[32m[I 2022-09-20 10:31:00,281]\u001b[0m Trial 47 finished with value: 0.7539225159832418 and parameters: {'max_depth': 4, 'n_estimators': 2895, 'min_data_in_leaf': 11, 'learning_rate': 0.07794609822289411, 'random_strength': 1, 'bagging_temperature': 2, 'max_bin': 200, 'grow_policy': 'Depthwise', 'l2_leaf_reg': 0.4674700587841367, 'one_hot_max_size': 1024, 'auto_class_weights': 'SqrtBalanced'}. Best is trial 32 with value: 0.7570907570397576.\u001b[0m\n"
     ]
    },
    {
     "name": "stdout",
     "output_type": "stream",
     "text": [
      "\n",
      "bestTest = 0.5848141271\n",
      "bestIteration = 55\n",
      "\n",
      "Training on fold [0/5]\n",
      "\n",
      "bestTest = 0.569407095\n",
      "bestIteration = 82\n",
      "\n",
      "Training on fold [1/5]\n",
      "\n",
      "bestTest = 0.5718889836\n",
      "bestIteration = 102\n",
      "\n",
      "Training on fold [2/5]\n",
      "\n",
      "bestTest = 0.5702772014\n",
      "bestIteration = 97\n",
      "\n",
      "Training on fold [3/5]\n",
      "\n",
      "bestTest = 0.5981070946\n",
      "bestIteration = 59\n",
      "\n",
      "Training on fold [4/5]\n"
     ]
    },
    {
     "name": "stderr",
     "output_type": "stream",
     "text": [
      "\u001b[32m[I 2022-09-20 10:31:01,598]\u001b[0m Trial 48 finished with value: 0.7530800487317741 and parameters: {'max_depth': 6, 'n_estimators': 3740, 'min_data_in_leaf': 87, 'learning_rate': 0.06852494076977184, 'random_strength': 3, 'bagging_temperature': 4, 'max_bin': 200, 'grow_policy': 'SymmetricTree', 'l2_leaf_reg': 0.016461234352259844, 'one_hot_max_size': 10, 'auto_class_weights': 'SqrtBalanced'}. Best is trial 32 with value: 0.7570907570397576.\u001b[0m\n"
     ]
    },
    {
     "name": "stdout",
     "output_type": "stream",
     "text": [
      "\n",
      "bestTest = 0.5858958003\n",
      "bestIteration = 78\n",
      "\n",
      "Training on fold [0/5]\n",
      "\n",
      "bestTest = 0.5648178942\n",
      "bestIteration = 278\n",
      "\n",
      "Training on fold [1/5]\n",
      "\n",
      "bestTest = 0.5711759672\n",
      "bestIteration = 252\n",
      "\n",
      "Training on fold [2/5]\n",
      "\n",
      "bestTest = 0.5771710544\n",
      "bestIteration = 218\n",
      "\n",
      "Training on fold [3/5]\n",
      "\n",
      "bestTest = 0.5947449881\n",
      "bestIteration = 190\n",
      "\n",
      "Training on fold [4/5]\n"
     ]
    },
    {
     "name": "stderr",
     "output_type": "stream",
     "text": [
      "\u001b[32m[I 2022-09-20 10:31:07,696]\u001b[0m Trial 49 finished with value: 0.7547195097176539 and parameters: {'max_depth': 9, 'n_estimators': 2499, 'min_data_in_leaf': 69, 'learning_rate': 0.0114909695341275, 'random_strength': 1, 'bagging_temperature': 5, 'max_bin': 400, 'grow_policy': 'Depthwise', 'l2_leaf_reg': 0.002169243671167623, 'one_hot_max_size': 100, 'auto_class_weights': 'SqrtBalanced'}. Best is trial 32 with value: 0.7570907570397576.\u001b[0m\n"
     ]
    },
    {
     "name": "stdout",
     "output_type": "stream",
     "text": [
      "\n",
      "bestTest = 0.5833260744\n",
      "bestIteration = 190\n",
      "\n",
      "Training on fold [0/5]\n",
      "\n",
      "bestTest = 0.5663491105\n",
      "bestIteration = 30\n",
      "\n",
      "Training on fold [1/5]\n",
      "\n",
      "bestTest = 0.5704592478\n",
      "bestIteration = 32\n",
      "\n",
      "Training on fold [2/5]\n",
      "\n",
      "bestTest = 0.5752761134\n",
      "bestIteration = 24\n",
      "\n",
      "Training on fold [3/5]\n",
      "\n",
      "bestTest = 0.5993048069\n",
      "bestIteration = 15\n",
      "\n",
      "Training on fold [4/5]\n"
     ]
    },
    {
     "name": "stderr",
     "output_type": "stream",
     "text": [
      "\u001b[32m[I 2022-09-20 10:31:08,721]\u001b[0m Trial 50 finished with value: 0.752573539498905 and parameters: {'max_depth': 8, 'n_estimators': 3393, 'min_data_in_leaf': 87, 'learning_rate': 0.12249735764004319, 'random_strength': 2, 'bagging_temperature': 0, 'max_bin': 200, 'grow_policy': 'Depthwise', 'l2_leaf_reg': 0.00432140874323665, 'one_hot_max_size': 1024, 'auto_class_weights': 'SqrtBalanced'}. Best is trial 32 with value: 0.7570907570397576.\u001b[0m\n"
     ]
    },
    {
     "name": "stdout",
     "output_type": "stream",
     "text": [
      "\n",
      "bestTest = 0.5861856893\n",
      "bestIteration = 27\n",
      "\n",
      "Training on fold [0/5]\n",
      "\n",
      "bestTest = 0.5634227257\n",
      "bestIteration = 208\n",
      "\n",
      "Training on fold [1/5]\n",
      "\n",
      "bestTest = 0.569951409\n",
      "bestIteration = 193\n",
      "\n",
      "Training on fold [2/5]\n",
      "\n",
      "bestTest = 0.5706219393\n",
      "bestIteration = 200\n",
      "\n",
      "Training on fold [3/5]\n",
      "\n",
      "bestTest = 0.5943517764\n",
      "bestIteration = 97\n",
      "\n",
      "Training on fold [4/5]\n"
     ]
    },
    {
     "name": "stderr",
     "output_type": "stream",
     "text": [
      "\u001b[32m[I 2022-09-20 10:31:11,547]\u001b[0m Trial 51 finished with value: 0.7560527672911025 and parameters: {'max_depth': 6, 'n_estimators': 5003, 'min_data_in_leaf': 81, 'learning_rate': 0.03492082900512286, 'random_strength': 2, 'bagging_temperature': 6, 'max_bin': 200, 'grow_policy': 'Depthwise', 'l2_leaf_reg': 0.07144021943534985, 'one_hot_max_size': 1024, 'auto_class_weights': 'SqrtBalanced'}. Best is trial 32 with value: 0.7570907570397576.\u001b[0m\n"
     ]
    },
    {
     "name": "stdout",
     "output_type": "stream",
     "text": [
      "\n",
      "bestTest = 0.5833918597\n",
      "bestIteration = 125\n",
      "\n",
      "Training on fold [0/5]\n",
      "\n",
      "bestTest = 0.5657563989\n",
      "bestIteration = 227\n",
      "\n",
      "Training on fold [1/5]\n",
      "\n",
      "bestTest = 0.5673567404\n",
      "bestIteration = 290\n",
      "\n",
      "Training on fold [2/5]\n",
      "\n",
      "bestTest = 0.56924281\n",
      "bestIteration = 226\n",
      "\n",
      "Training on fold [3/5]\n",
      "\n",
      "bestTest = 0.596063702\n",
      "bestIteration = 157\n",
      "\n",
      "Training on fold [4/5]\n"
     ]
    },
    {
     "name": "stderr",
     "output_type": "stream",
     "text": [
      "\u001b[32m[I 2022-09-20 10:31:14,719]\u001b[0m Trial 52 finished with value: 0.7564139772128993 and parameters: {'max_depth': 5, 'n_estimators': 4135, 'min_data_in_leaf': 78, 'learning_rate': 0.026447054634839255, 'random_strength': 2, 'bagging_temperature': 3, 'max_bin': 200, 'grow_policy': 'Depthwise', 'l2_leaf_reg': 0.05689122400802363, 'one_hot_max_size': 1024, 'auto_class_weights': 'SqrtBalanced'}. Best is trial 32 with value: 0.7570907570397576.\u001b[0m\n"
     ]
    },
    {
     "name": "stdout",
     "output_type": "stream",
     "text": [
      "\n",
      "bestTest = 0.5828188277\n",
      "bestIteration = 157\n",
      "\n",
      "Training on fold [0/5]\n",
      "\n",
      "bestTest = 0.5628853989\n",
      "bestIteration = 287\n",
      "\n",
      "Training on fold [1/5]\n",
      "\n",
      "bestTest = 0.5689911609\n",
      "bestIteration = 186\n",
      "\n",
      "Training on fold [2/5]\n",
      "\n",
      "bestTest = 0.5715363997\n",
      "bestIteration = 251\n",
      "\n",
      "Training on fold [3/5]\n",
      "\n",
      "bestTest = 0.5938427052\n",
      "bestIteration = 145\n",
      "\n",
      "Training on fold [4/5]\n"
     ]
    },
    {
     "name": "stderr",
     "output_type": "stream",
     "text": [
      "\u001b[32m[I 2022-09-20 10:31:17,677]\u001b[0m Trial 53 finished with value: 0.756274418851276 and parameters: {'max_depth': 5, 'n_estimators': 4113, 'min_data_in_leaf': 76, 'learning_rate': 0.023746661259049933, 'random_strength': 1, 'bagging_temperature': 3, 'max_bin': 200, 'grow_policy': 'Depthwise', 'l2_leaf_reg': 0.2131375439188942, 'one_hot_max_size': 1024, 'auto_class_weights': 'SqrtBalanced'}. Best is trial 32 with value: 0.7570907570397576.\u001b[0m\n"
     ]
    },
    {
     "name": "stdout",
     "output_type": "stream",
     "text": [
      "\n",
      "bestTest = 0.5829058614\n",
      "bestIteration = 155\n",
      "\n",
      "Training on fold [0/5]\n",
      "\n",
      "bestTest = 0.5638756117\n",
      "bestIteration = 566\n",
      "\n",
      "Training on fold [1/5]\n",
      "\n",
      "bestTest = 0.5694435488\n",
      "bestIteration = 479\n",
      "\n",
      "Training on fold [2/5]\n",
      "\n",
      "bestTest = 0.5700481903\n",
      "bestIteration = 427\n",
      "\n",
      "Training on fold [3/5]\n",
      "\n",
      "bestTest = 0.5957551961\n",
      "bestIteration = 294\n",
      "\n",
      "Training on fold [4/5]\n"
     ]
    },
    {
     "name": "stderr",
     "output_type": "stream",
     "text": [
      "\u001b[32m[I 2022-09-20 10:31:23,649]\u001b[0m Trial 54 finished with value: 0.7563871323025054 and parameters: {'max_depth': 5, 'n_estimators': 3961, 'min_data_in_leaf': 76, 'learning_rate': 0.010673541420352227, 'random_strength': 1, 'bagging_temperature': 2, 'max_bin': 200, 'grow_policy': 'Depthwise', 'l2_leaf_reg': 0.16723302439677692, 'one_hot_max_size': 1024, 'auto_class_weights': 'SqrtBalanced'}. Best is trial 32 with value: 0.7570907570397576.\u001b[0m\n"
     ]
    },
    {
     "name": "stdout",
     "output_type": "stream",
     "text": [
      "\n",
      "bestTest = 0.5812483849\n",
      "bestIteration = 420\n",
      "\n",
      "Training on fold [0/5]\n",
      "\n",
      "bestTest = 0.564181384\n",
      "bestIteration = 537\n",
      "\n",
      "Training on fold [1/5]\n",
      "\n",
      "bestTest = 0.5702673084\n",
      "bestIteration = 478\n",
      "\n",
      "Training on fold [2/5]\n",
      "\n",
      "bestTest = 0.5705322461\n",
      "bestIteration = 439\n",
      "\n",
      "Training on fold [3/5]\n",
      "\n",
      "bestTest = 0.5940939599\n",
      "bestIteration = 293\n",
      "\n",
      "Training on fold [4/5]\n"
     ]
    },
    {
     "name": "stderr",
     "output_type": "stream",
     "text": [
      "\u001b[32m[I 2022-09-20 10:31:28,827]\u001b[0m Trial 55 finished with value: 0.756204078176863 and parameters: {'max_depth': 4, 'n_estimators': 3634, 'min_data_in_leaf': 58, 'learning_rate': 0.011686368216910645, 'random_strength': 1, 'bagging_temperature': 2, 'max_bin': 200, 'grow_policy': 'Depthwise', 'l2_leaf_reg': 0.00034354503204901324, 'one_hot_max_size': 500, 'auto_class_weights': 'SqrtBalanced'}. Best is trial 32 with value: 0.7570907570397576.\u001b[0m\n"
     ]
    },
    {
     "name": "stdout",
     "output_type": "stream",
     "text": [
      "\n",
      "bestTest = 0.5829920514\n",
      "bestIteration = 344\n",
      "\n",
      "Training on fold [0/5]\n",
      "\n",
      "bestTest = 0.5655929465\n",
      "bestIteration = 903\n",
      "\n",
      "Training on fold [1/5]\n",
      "\n",
      "bestTest = 0.5693178413\n",
      "bestIteration = 1001\n",
      "\n",
      "Training on fold [2/5]\n",
      "\n",
      "bestTest = 0.5702048406\n",
      "bestIteration = 892\n",
      "\n",
      "Training on fold [3/5]\n",
      "\n",
      "bestTest = 0.593386611\n",
      "bestIteration = 957\n",
      "\n",
      "Training on fold [4/5]\n"
     ]
    },
    {
     "name": "stderr",
     "output_type": "stream",
     "text": [
      "\u001b[32m[I 2022-09-20 10:36:26,936]\u001b[0m Trial 56 finished with value: 0.7557563100563618 and parameters: {'max_depth': 5, 'n_estimators': 4104, 'min_data_in_leaf': 62, 'learning_rate': 0.011695877207014673, 'random_strength': 7, 'bagging_temperature': 3, 'max_bin': 200, 'grow_policy': 'Lossguide', 'l2_leaf_reg': 0.04333573198587833, 'one_hot_max_size': 5, 'auto_class_weights': 'SqrtBalanced'}. Best is trial 32 with value: 0.7570907570397576.\u001b[0m\n"
     ]
    },
    {
     "name": "stdout",
     "output_type": "stream",
     "text": [
      "\n",
      "bestTest = 0.5851254886\n",
      "bestIteration = 774\n",
      "\n",
      "Training on fold [0/5]\n",
      "\n",
      "bestTest = 0.5659379343\n",
      "bestIteration = 149\n",
      "\n",
      "Training on fold [1/5]\n",
      "\n",
      "bestTest = 0.5684387705\n",
      "bestIteration = 127\n",
      "\n",
      "Training on fold [2/5]\n",
      "\n",
      "bestTest = 0.5692146782\n",
      "bestIteration = 156\n",
      "\n",
      "Training on fold [3/5]\n",
      "\n",
      "bestTest = 0.5946246719\n",
      "bestIteration = 88\n",
      "\n",
      "Training on fold [4/5]\n"
     ]
    },
    {
     "name": "stderr",
     "output_type": "stream",
     "text": [
      "\u001b[32m[I 2022-09-20 10:36:28,420]\u001b[0m Trial 57 finished with value: 0.7565222624811533 and parameters: {'max_depth': 4, 'n_estimators': 4612, 'min_data_in_leaf': 69, 'learning_rate': 0.04553236701457222, 'random_strength': 1, 'bagging_temperature': 1, 'max_bin': 200, 'grow_policy': 'Depthwise', 'l2_leaf_reg': 0.001046562092928263, 'one_hot_max_size': 10, 'auto_class_weights': 'SqrtBalanced'}. Best is trial 32 with value: 0.7570907570397576.\u001b[0m\n"
     ]
    },
    {
     "name": "stdout",
     "output_type": "stream",
     "text": [
      "\n",
      "bestTest = 0.5811586911\n",
      "bestIteration = 130\n",
      "\n",
      "Training on fold [0/5]\n",
      "\n",
      "bestTest = 0.5648428397\n",
      "bestIteration = 289\n",
      "\n",
      "Training on fold [1/5]\n",
      "\n",
      "bestTest = 0.5699452472\n",
      "bestIteration = 259\n",
      "\n",
      "Training on fold [2/5]\n",
      "\n",
      "bestTest = 0.5693321866\n",
      "bestIteration = 267\n",
      "\n",
      "Training on fold [3/5]\n",
      "\n",
      "bestTest = 0.5957037768\n",
      "bestIteration = 189\n",
      "\n",
      "Training on fold [4/5]\n"
     ]
    },
    {
     "name": "stderr",
     "output_type": "stream",
     "text": [
      "\u001b[32m[I 2022-09-20 10:36:30,558]\u001b[0m Trial 58 finished with value: 0.7553677878610878 and parameters: {'max_depth': 3, 'n_estimators': 4625, 'min_data_in_leaf': 68, 'learning_rate': 0.02835060714905699, 'random_strength': 1, 'bagging_temperature': 0, 'max_bin': 400, 'grow_policy': 'Depthwise', 'l2_leaf_reg': 7.308654486037037e-05, 'one_hot_max_size': 10, 'auto_class_weights': 'SqrtBalanced'}. Best is trial 32 with value: 0.7570907570397576.\u001b[0m\n"
     ]
    },
    {
     "name": "stdout",
     "output_type": "stream",
     "text": [
      "\n",
      "bestTest = 0.5842359046\n",
      "bestIteration = 186\n",
      "\n",
      "Training on fold [0/5]\n",
      "\n",
      "bestTest = 0.5690926605\n",
      "bestIteration = 126\n",
      "\n",
      "Training on fold [1/5]\n",
      "\n",
      "bestTest = 0.5675912333\n",
      "bestIteration = 221\n",
      "\n",
      "Training on fold [2/5]\n",
      "\n",
      "bestTest = 0.568338161\n",
      "bestIteration = 163\n",
      "\n",
      "Training on fold [3/5]\n",
      "\n",
      "bestTest = 0.5968577448\n",
      "bestIteration = 77\n",
      "\n",
      "Training on fold [4/5]\n"
     ]
    },
    {
     "name": "stderr",
     "output_type": "stream",
     "text": [
      "\u001b[32m[I 2022-09-20 10:36:32,056]\u001b[0m Trial 59 finished with value: 0.7551053639959446 and parameters: {'max_depth': 4, 'n_estimators': 4832, 'min_data_in_leaf': 75, 'learning_rate': 0.04626351384994799, 'random_strength': 1, 'bagging_temperature': 1, 'max_bin': 200, 'grow_policy': 'SymmetricTree', 'l2_leaf_reg': 0.0007241905607038929, 'one_hot_max_size': 10, 'auto_class_weights': 'SqrtBalanced'}. Best is trial 32 with value: 0.7570907570397576.\u001b[0m\n"
     ]
    },
    {
     "name": "stdout",
     "output_type": "stream",
     "text": [
      "\n",
      "bestTest = 0.5833159421\n",
      "bestIteration = 148\n",
      "\n",
      "Training on fold [0/5]\n",
      "\n",
      "bestTest = 0.5684064843\n",
      "bestIteration = 43\n",
      "\n",
      "Training on fold [1/5]\n",
      "\n",
      "bestTest = 0.577612451\n",
      "bestIteration = 19\n",
      "\n",
      "Training on fold [2/5]\n",
      "\n",
      "bestTest = 0.573776287\n",
      "bestIteration = 43\n",
      "\n",
      "Training on fold [3/5]\n",
      "\n",
      "bestTest = 0.5944147953\n",
      "bestIteration = 18\n",
      "\n",
      "Training on fold [4/5]\n"
     ]
    },
    {
     "name": "stderr",
     "output_type": "stream",
     "text": [
      "\u001b[32m[I 2022-09-20 10:36:32,720]\u001b[0m Trial 60 finished with value: 0.7512615521330425 and parameters: {'max_depth': 5, 'n_estimators': 4416, 'min_data_in_leaf': 49, 'learning_rate': 0.16165720352458085, 'random_strength': 1, 'bagging_temperature': 1, 'max_bin': 200, 'grow_policy': 'Depthwise', 'l2_leaf_reg': 0.0015353056187354293, 'one_hot_max_size': 10, 'auto_class_weights': 'SqrtBalanced'}. Best is trial 32 with value: 0.7570907570397576.\u001b[0m\n"
     ]
    },
    {
     "name": "stdout",
     "output_type": "stream",
     "text": [
      "\n",
      "bestTest = 0.5857537136\n",
      "bestIteration = 24\n",
      "\n",
      "Training on fold [0/5]\n",
      "\n",
      "bestTest = 0.565707193\n",
      "bestIteration = 283\n",
      "\n",
      "Training on fold [1/5]\n",
      "\n",
      "bestTest = 0.568679143\n",
      "bestIteration = 320\n",
      "\n",
      "Training on fold [2/5]\n",
      "\n",
      "bestTest = 0.5699073111\n",
      "bestIteration = 276\n",
      "\n",
      "Training on fold [3/5]\n",
      "\n",
      "bestTest = 0.5926865268\n",
      "bestIteration = 161\n",
      "\n",
      "Training on fold [4/5]\n"
     ]
    },
    {
     "name": "stderr",
     "output_type": "stream",
     "text": [
      "\u001b[32m[I 2022-09-20 10:36:35,744]\u001b[0m Trial 61 finished with value: 0.756741147692162 and parameters: {'max_depth': 5, 'n_estimators': 3372, 'min_data_in_leaf': 80, 'learning_rate': 0.02339622183629709, 'random_strength': 2, 'bagging_temperature': 2, 'max_bin': 200, 'grow_policy': 'Depthwise', 'l2_leaf_reg': 0.01535474695123002, 'one_hot_max_size': 1024, 'auto_class_weights': 'SqrtBalanced'}. Best is trial 32 with value: 0.7570907570397576.\u001b[0m\n"
     ]
    },
    {
     "name": "stdout",
     "output_type": "stream",
     "text": [
      "\n",
      "bestTest = 0.5824556737\n",
      "bestIteration = 232\n",
      "\n",
      "Training on fold [0/5]\n",
      "\n",
      "bestTest = 0.5650747893\n",
      "bestIteration = 906\n",
      "\n",
      "Training on fold [1/5]\n",
      "\n",
      "bestTest = 0.5691528245\n",
      "bestIteration = 1013\n",
      "\n",
      "Training on fold [2/5]\n",
      "\n",
      "bestTest = 0.5694557079\n",
      "bestIteration = 883\n",
      "\n",
      "Training on fold [3/5]\n",
      "\n",
      "bestTest = 0.5942561907\n",
      "bestIteration = 527\n",
      "\n",
      "Training on fold [4/5]\n"
     ]
    },
    {
     "name": "stderr",
     "output_type": "stream",
     "text": [
      "\u001b[32m[I 2022-09-20 10:36:42,939]\u001b[0m Trial 62 finished with value: 0.7559639036538217 and parameters: {'max_depth': 4, 'n_estimators': 3832, 'min_data_in_leaf': 72, 'learning_rate': 0.008845739949528229, 'random_strength': 2, 'bagging_temperature': 2, 'max_bin': 200, 'grow_policy': 'Depthwise', 'l2_leaf_reg': 0.013277691504450788, 'one_hot_max_size': 10, 'auto_class_weights': 'SqrtBalanced'}. Best is trial 32 with value: 0.7570907570397576.\u001b[0m\n"
     ]
    },
    {
     "name": "stdout",
     "output_type": "stream",
     "text": [
      "\n",
      "bestTest = 0.5845579422\n",
      "bestIteration = 556\n",
      "\n",
      "Training on fold [0/5]\n",
      "\n",
      "bestTest = 0.566799549\n",
      "bestIteration = 243\n",
      "\n",
      "Training on fold [1/5]\n",
      "\n",
      "bestTest = 0.5680120627\n",
      "bestIteration = 311\n",
      "\n",
      "Training on fold [2/5]\n",
      "\n",
      "bestTest = 0.5704792495\n",
      "bestIteration = 329\n",
      "\n",
      "Training on fold [3/5]\n",
      "\n",
      "bestTest = 0.594391768\n",
      "bestIteration = 211\n",
      "\n",
      "Training on fold [4/5]\n"
     ]
    },
    {
     "name": "stderr",
     "output_type": "stream",
     "text": [
      "\u001b[32m[I 2022-09-20 10:36:46,084]\u001b[0m Trial 63 finished with value: 0.7555359573455148 and parameters: {'max_depth': 5, 'n_estimators': 4174, 'min_data_in_leaf': 90, 'learning_rate': 0.023799409500809436, 'random_strength': 2, 'bagging_temperature': 1, 'max_bin': 200, 'grow_policy': 'Depthwise', 'l2_leaf_reg': 0.00813530250018007, 'one_hot_max_size': 1024, 'auto_class_weights': 'SqrtBalanced'}. Best is trial 32 with value: 0.7570907570397576.\u001b[0m\n"
     ]
    },
    {
     "name": "stdout",
     "output_type": "stream",
     "text": [
      "\n",
      "bestTest = 0.584261942\n",
      "bestIteration = 197\n",
      "\n",
      "Training on fold [0/5]\n",
      "\n",
      "bestTest = 0.5792827718\n",
      "bestIteration = 318\n",
      "\n",
      "Training on fold [1/5]\n",
      "\n",
      "bestTest = 0.5793771809\n",
      "bestIteration = 422\n",
      "\n",
      "Training on fold [2/5]\n",
      "\n",
      "bestTest = 0.5810536278\n",
      "bestIteration = 339\n",
      "\n",
      "Training on fold [3/5]\n",
      "\n",
      "bestTest = 0.6052518017\n",
      "bestIteration = 280\n",
      "\n",
      "Training on fold [4/5]\n"
     ]
    },
    {
     "name": "stderr",
     "output_type": "stream",
     "text": [
      "\u001b[32m[I 2022-09-20 10:36:48,834]\u001b[0m Trial 64 finished with value: 0.7552868306812502 and parameters: {'max_depth': 3, 'n_estimators': 4480, 'min_data_in_leaf': 95, 'learning_rate': 0.03284619165469645, 'random_strength': 3, 'bagging_temperature': 2, 'max_bin': 200, 'grow_policy': 'Depthwise', 'l2_leaf_reg': 0.004522974803369953, 'one_hot_max_size': 100, 'auto_class_weights': 'Balanced'}. Best is trial 32 with value: 0.7570907570397576.\u001b[0m\n"
     ]
    },
    {
     "name": "stdout",
     "output_type": "stream",
     "text": [
      "\n",
      "bestTest = 0.5962836771\n",
      "bestIteration = 259\n",
      "\n",
      "Training on fold [0/5]\n",
      "\n",
      "bestTest = 0.5735303172\n",
      "bestIteration = 12\n",
      "\n",
      "Training on fold [1/5]\n",
      "\n",
      "bestTest = 0.5834183063\n",
      "bestIteration = 14\n",
      "\n",
      "Training on fold [2/5]\n",
      "\n",
      "bestTest = 0.5828684442\n",
      "bestIteration = 14\n",
      "\n",
      "Training on fold [3/5]\n",
      "\n",
      "bestTest = 0.6079399442\n",
      "bestIteration = 7\n",
      "\n",
      "Training on fold [4/5]\n",
      "\n"
     ]
    },
    {
     "name": "stderr",
     "output_type": "stream",
     "text": [
      "\u001b[32m[I 2022-09-20 10:36:49,907]\u001b[0m Trial 65 finished with value: 0.7427760058930766 and parameters: {'max_depth': 16, 'n_estimators': 5229, 'min_data_in_leaf': 84, 'learning_rate': 0.14480909775692163, 'random_strength': 1, 'bagging_temperature': 3, 'max_bin': 200, 'grow_policy': 'Depthwise', 'l2_leaf_reg': 0.0015092901281902914, 'one_hot_max_size': 1024, 'auto_class_weights': 'SqrtBalanced'}. Best is trial 32 with value: 0.7570907570397576.\u001b[0m\n"
     ]
    },
    {
     "name": "stdout",
     "output_type": "stream",
     "text": [
      "bestTest = 0.5926617353\n",
      "bestIteration = 10\n",
      "\n",
      "Training on fold [0/5]\n",
      "\n",
      "bestTest = 0.5659699335\n",
      "bestIteration = 279\n",
      "\n",
      "Training on fold [1/5]\n",
      "\n",
      "bestTest = 0.5698878835\n",
      "bestIteration = 314\n",
      "\n",
      "Training on fold [2/5]\n",
      "\n",
      "bestTest = 0.5705209274\n",
      "bestIteration = 280\n",
      "\n",
      "Training on fold [3/5]\n",
      "\n",
      "bestTest = 0.5949432454\n",
      "bestIteration = 189\n",
      "\n",
      "Training on fold [4/5]\n"
     ]
    },
    {
     "name": "stderr",
     "output_type": "stream",
     "text": [
      "\u001b[32m[I 2022-09-20 10:36:53,113]\u001b[0m Trial 66 finished with value: 0.7559755181451693 and parameters: {'max_depth': 5, 'n_estimators': 3534, 'min_data_in_leaf': 79, 'learning_rate': 0.018814531323922877, 'random_strength': 2, 'bagging_temperature': 1, 'max_bin': 200, 'grow_policy': 'Depthwise', 'l2_leaf_reg': 0.0002039151352069136, 'one_hot_max_size': 10, 'auto_class_weights': 'SqrtBalanced'}. Best is trial 32 with value: 0.7570907570397576.\u001b[0m\n"
     ]
    },
    {
     "name": "stdout",
     "output_type": "stream",
     "text": [
      "\n",
      "bestTest = 0.5840884668\n",
      "bestIteration = 207\n",
      "\n",
      "Training on fold [0/5]\n",
      "\n",
      "bestTest = 0.5757431473\n",
      "bestIteration = 310\n",
      "\n",
      "Training on fold [1/5]\n",
      "\n",
      "bestTest = 0.5806919967\n",
      "bestIteration = 254\n",
      "\n",
      "Training on fold [2/5]\n",
      "\n",
      "bestTest = 0.5791398989\n",
      "bestIteration = 223\n",
      "\n",
      "Training on fold [3/5]\n",
      "\n",
      "bestTest = 0.6053910258\n",
      "bestIteration = 179\n",
      "\n",
      "Training on fold [4/5]\n"
     ]
    },
    {
     "name": "stderr",
     "output_type": "stream",
     "text": [
      "\u001b[32m[I 2022-09-20 10:36:55,861]\u001b[0m Trial 67 finished with value: 0.7566922939532619 and parameters: {'max_depth': 4, 'n_estimators': 4741, 'min_data_in_leaf': 53, 'learning_rate': 0.02696609970141487, 'random_strength': 1, 'bagging_temperature': 2, 'max_bin': 200, 'grow_policy': 'Depthwise', 'l2_leaf_reg': 0.12511814782097677, 'one_hot_max_size': 1024, 'auto_class_weights': 'Balanced'}. Best is trial 32 with value: 0.7570907570397576.\u001b[0m\n"
     ]
    },
    {
     "name": "stdout",
     "output_type": "stream",
     "text": [
      "\n",
      "bestTest = 0.5922498345\n",
      "bestIteration = 228\n",
      "\n",
      "Training on fold [0/5]\n",
      "\n",
      "bestTest = 0.5755967254\n",
      "bestIteration = 196\n",
      "\n",
      "Training on fold [1/5]\n",
      "\n",
      "bestTest = 0.581653395\n",
      "bestIteration = 128\n",
      "\n",
      "Training on fold [2/5]\n",
      "\n",
      "bestTest = 0.5830222596\n",
      "bestIteration = 150\n",
      "\n",
      "Training on fold [3/5]\n",
      "\n",
      "bestTest = 0.6075696887\n",
      "bestIteration = 112\n",
      "\n",
      "Training on fold [4/5]\n"
     ]
    },
    {
     "name": "stderr",
     "output_type": "stream",
     "text": [
      "\u001b[32m[I 2022-09-20 10:36:57,555]\u001b[0m Trial 68 finished with value: 0.7544378843654915 and parameters: {'max_depth': 4, 'n_estimators': 5725, 'min_data_in_leaf': 52, 'learning_rate': 0.0553494911137596, 'random_strength': 2, 'bagging_temperature': 0, 'max_bin': 10, 'grow_policy': 'Depthwise', 'l2_leaf_reg': 0.016001072174100472, 'one_hot_max_size': 500, 'auto_class_weights': 'Balanced'}. Best is trial 32 with value: 0.7570907570397576.\u001b[0m\n"
     ]
    },
    {
     "name": "stdout",
     "output_type": "stream",
     "text": [
      "\n",
      "bestTest = 0.5969538067\n",
      "bestIteration = 117\n",
      "\n",
      "Training on fold [0/5]\n",
      "\n",
      "bestTest = 0.5769670425\n",
      "bestIteration = 226\n",
      "\n",
      "Training on fold [1/5]\n",
      "\n",
      "bestTest = 0.5801839515\n",
      "bestIteration = 267\n",
      "\n",
      "Training on fold [2/5]\n",
      "\n",
      "bestTest = 0.5831375064\n",
      "bestIteration = 153\n",
      "\n",
      "Training on fold [3/5]\n",
      "\n",
      "bestTest = 0.6059731839\n",
      "bestIteration = 170\n",
      "\n",
      "Training on fold [4/5]\n"
     ]
    },
    {
     "name": "stderr",
     "output_type": "stream",
     "text": [
      "\u001b[32m[I 2022-09-20 10:36:59,713]\u001b[0m Trial 69 finished with value: 0.7554019139694889 and parameters: {'max_depth': 3, 'n_estimators': 4708, 'min_data_in_leaf': 45, 'learning_rate': 0.04657914554447204, 'random_strength': 3, 'bagging_temperature': 3, 'max_bin': 200, 'grow_policy': 'Depthwise', 'l2_leaf_reg': 0.053307469634989106, 'one_hot_max_size': 1024, 'auto_class_weights': 'Balanced'}. Best is trial 32 with value: 0.7570907570397576.\u001b[0m\n"
     ]
    },
    {
     "name": "stdout",
     "output_type": "stream",
     "text": [
      "\n",
      "bestTest = 0.5952277208\n",
      "bestIteration = 255\n",
      "\n",
      "Training on fold [0/5]\n",
      "\n",
      "bestTest = 0.5796428507\n",
      "bestIteration = 141\n",
      "\n",
      "Training on fold [1/5]\n",
      "\n",
      "bestTest = 0.5802039565\n",
      "bestIteration = 151\n",
      "\n",
      "Training on fold [2/5]\n",
      "\n",
      "bestTest = 0.5825983178\n",
      "bestIteration = 145\n",
      "\n",
      "Training on fold [3/5]\n",
      "\n",
      "bestTest = 0.6059389241\n",
      "bestIteration = 112\n",
      "\n",
      "Training on fold [4/5]\n"
     ]
    },
    {
     "name": "stderr",
     "output_type": "stream",
     "text": [
      "\u001b[32m[I 2022-09-20 10:37:22,619]\u001b[0m Trial 70 finished with value: 0.7553479569394884 and parameters: {'max_depth': 7, 'n_estimators': 5225, 'min_data_in_leaf': 39, 'learning_rate': 0.028706323605563383, 'random_strength': 1, 'bagging_temperature': 2, 'max_bin': 400, 'grow_policy': 'Depthwise', 'l2_leaf_reg': 0.09583123102296343, 'one_hot_max_size': 5, 'auto_class_weights': 'Balanced'}. Best is trial 32 with value: 0.7570907570397576.\u001b[0m\n"
     ]
    },
    {
     "name": "stdout",
     "output_type": "stream",
     "text": [
      "\n",
      "bestTest = 0.5948825979\n",
      "bestIteration = 98\n",
      "\n",
      "Training on fold [0/5]\n",
      "\n",
      "bestTest = 0.5757145171\n",
      "bestIteration = 774\n",
      "\n",
      "Training on fold [1/5]\n",
      "\n",
      "bestTest = 0.5800925439\n",
      "bestIteration = 762\n",
      "\n",
      "Training on fold [2/5]\n",
      "\n",
      "bestTest = 0.5813985533\n",
      "bestIteration = 723\n",
      "\n",
      "Training on fold [3/5]\n",
      "\n",
      "bestTest = 0.6061725759\n",
      "bestIteration = 512\n",
      "\n",
      "Training on fold [4/5]\n"
     ]
    },
    {
     "name": "stderr",
     "output_type": "stream",
     "text": [
      "\u001b[32m[I 2022-09-20 10:37:30,414]\u001b[0m Trial 71 finished with value: 0.7565719612438848 and parameters: {'max_depth': 5, 'n_estimators': 4883, 'min_data_in_leaf': 70, 'learning_rate': 0.006520562767383192, 'random_strength': 1, 'bagging_temperature': 2, 'max_bin': 200, 'grow_policy': 'Depthwise', 'l2_leaf_reg': 0.1524595580026161, 'one_hot_max_size': 1024, 'auto_class_weights': 'Balanced'}. Best is trial 32 with value: 0.7570907570397576.\u001b[0m\n"
     ]
    },
    {
     "name": "stdout",
     "output_type": "stream",
     "text": [
      "\n",
      "bestTest = 0.5929032389\n",
      "bestIteration = 706\n",
      "\n",
      "Training on fold [0/5]\n",
      "\n",
      "bestTest = 0.575422786\n",
      "bestIteration = 319\n",
      "\n",
      "Training on fold [1/5]\n",
      "\n",
      "bestTest = 0.5803380744\n",
      "bestIteration = 301\n",
      "\n",
      "Training on fold [2/5]\n",
      "\n",
      "bestTest = 0.5825936525\n",
      "bestIteration = 203\n",
      "\n",
      "Training on fold [3/5]\n",
      "\n",
      "bestTest = 0.6064589554\n",
      "bestIteration = 142\n",
      "\n",
      "Training on fold [4/5]\n"
     ]
    },
    {
     "name": "stderr",
     "output_type": "stream",
     "text": [
      "\u001b[32m[I 2022-09-20 10:37:32,824]\u001b[0m Trial 72 finished with value: 0.7553430116712606 and parameters: {'max_depth': 4, 'n_estimators': 4841, 'min_data_in_leaf': 68, 'learning_rate': 0.024838810973900807, 'random_strength': 1, 'bagging_temperature': 1, 'max_bin': 200, 'grow_policy': 'Depthwise', 'l2_leaf_reg': 0.024042500550312203, 'one_hot_max_size': 1024, 'auto_class_weights': 'Balanced'}. Best is trial 32 with value: 0.7570907570397576.\u001b[0m\n"
     ]
    },
    {
     "name": "stdout",
     "output_type": "stream",
     "text": [
      "\n",
      "bestTest = 0.5949552294\n",
      "bestIteration = 183\n",
      "\n",
      "Training on fold [0/5]\n",
      "\n",
      "bestTest = 0.576843752\n",
      "bestIteration = 1306\n",
      "\n",
      "Training on fold [1/5]\n",
      "\n",
      "bestTest = 0.5795869652\n",
      "bestIteration = 1276\n",
      "\n",
      "Training on fold [2/5]\n",
      "\n",
      "bestTest = 0.5815896882\n",
      "bestIteration = 999\n",
      "\n",
      "Training on fold [3/5]\n",
      "\n",
      "bestTest = 0.6067849096\n",
      "bestIteration = 775\n",
      "\n",
      "Training on fold [4/5]\n"
     ]
    },
    {
     "name": "stderr",
     "output_type": "stream",
     "text": [
      "\u001b[32m[I 2022-09-20 10:37:41,397]\u001b[0m Trial 73 finished with value: 0.7556861056434648 and parameters: {'max_depth': 3, 'n_estimators': 5345, 'min_data_in_leaf': 62, 'learning_rate': 0.007090869696083373, 'random_strength': 1, 'bagging_temperature': 2, 'max_bin': 200, 'grow_policy': 'Depthwise', 'l2_leaf_reg': 0.5231948213930531, 'one_hot_max_size': 1024, 'auto_class_weights': 'Balanced'}. Best is trial 32 with value: 0.7570907570397576.\u001b[0m\n"
     ]
    },
    {
     "name": "stdout",
     "output_type": "stream",
     "text": [
      "\n",
      "bestTest = 0.5950397886\n",
      "bestIteration = 913\n",
      "\n",
      "Training on fold [0/5]\n",
      "\n",
      "bestTest = 0.5737311935\n",
      "bestIteration = 427\n",
      "\n",
      "Training on fold [1/5]\n",
      "\n",
      "bestTest = 0.579417715\n",
      "bestIteration = 424\n",
      "\n",
      "Training on fold [2/5]\n",
      "\n",
      "bestTest = 0.5791756507\n",
      "bestIteration = 338\n",
      "\n",
      "Training on fold [3/5]\n",
      "\n",
      "bestTest = 0.6065545907\n",
      "bestIteration = 215\n",
      "\n",
      "Training on fold [4/5]\n"
     ]
    },
    {
     "name": "stderr",
     "output_type": "stream",
     "text": [
      "\u001b[32m[I 2022-09-20 10:37:45,459]\u001b[0m Trial 74 finished with value: 0.7567318218122956 and parameters: {'max_depth': 5, 'n_estimators': 4958, 'min_data_in_leaf': 28, 'learning_rate': 0.017626236578277568, 'random_strength': 2, 'bagging_temperature': 3, 'max_bin': 200, 'grow_policy': 'Depthwise', 'l2_leaf_reg': 0.11056560384992177, 'one_hot_max_size': 1024, 'auto_class_weights': 'Balanced'}. Best is trial 32 with value: 0.7570907570397576.\u001b[0m\n"
     ]
    },
    {
     "name": "stdout",
     "output_type": "stream",
     "text": [
      "\n",
      "bestTest = 0.5949683646\n",
      "bestIteration = 278\n",
      "\n",
      "Training on fold [0/5]\n",
      "\n",
      "bestTest = 0.5766562236\n",
      "bestIteration = 500\n",
      "\n",
      "Training on fold [1/5]\n",
      "\n",
      "bestTest = 0.5799678852\n",
      "bestIteration = 499\n",
      "\n",
      "Training on fold [2/5]\n",
      "\n",
      "bestTest = 0.5811730106\n",
      "bestIteration = 381\n",
      "\n",
      "Training on fold [3/5]\n",
      "\n",
      "bestTest = 0.6065025554\n",
      "bestIteration = 249\n",
      "\n",
      "Training on fold [4/5]\n"
     ]
    },
    {
     "name": "stderr",
     "output_type": "stream",
     "text": [
      "\u001b[32m[I 2022-09-20 10:37:49,563]\u001b[0m Trial 75 finished with value: 0.7563750776497699 and parameters: {'max_depth': 4, 'n_estimators': 5066, 'min_data_in_leaf': 33, 'learning_rate': 0.015359253384233447, 'random_strength': 2, 'bagging_temperature': 2, 'max_bin': 200, 'grow_policy': 'Depthwise', 'l2_leaf_reg': 0.14131785699749, 'one_hot_max_size': 1024, 'auto_class_weights': 'Balanced'}. Best is trial 32 with value: 0.7570907570397576.\u001b[0m\n"
     ]
    },
    {
     "name": "stdout",
     "output_type": "stream",
     "text": [
      "\n",
      "bestTest = 0.5942608609\n",
      "bestIteration = 367\n",
      "\n",
      "Training on fold [0/5]\n",
      "\n",
      "bestTest = 0.5766386558\n",
      "bestIteration = 172\n",
      "\n",
      "Training on fold [1/5]\n",
      "\n",
      "bestTest = 0.5813818541\n",
      "bestIteration = 155\n",
      "\n",
      "Training on fold [2/5]\n",
      "\n",
      "bestTest = 0.5829283623\n",
      "bestIteration = 125\n",
      "\n",
      "Training on fold [3/5]\n",
      "\n",
      "bestTest = 0.6035151571\n",
      "bestIteration = 112\n",
      "\n",
      "Training on fold [4/5]\n"
     ]
    },
    {
     "name": "stderr",
     "output_type": "stream",
     "text": [
      "\u001b[32m[I 2022-09-20 10:37:51,244]\u001b[0m Trial 76 finished with value: 0.7563699178044471 and parameters: {'max_depth': 6, 'n_estimators': 5725, 'min_data_in_leaf': 19, 'learning_rate': 0.03390245887771072, 'random_strength': 1, 'bagging_temperature': 4, 'max_bin': 10, 'grow_policy': 'SymmetricTree', 'l2_leaf_reg': 0.26379538932753077, 'one_hot_max_size': 10, 'auto_class_weights': 'Balanced'}. Best is trial 32 with value: 0.7570907570397576.\u001b[0m\n"
     ]
    },
    {
     "name": "stdout",
     "output_type": "stream",
     "text": [
      "\n",
      "bestTest = 0.5953558194\n",
      "bestIteration = 128\n",
      "\n",
      "Training on fold [0/5]\n",
      "\n",
      "bestTest = 0.57701663\n",
      "bestIteration = 1885\n",
      "\n",
      "Training on fold [1/5]\n",
      "\n",
      "bestTest = 0.5814885551\n",
      "bestIteration = 1814\n",
      "\n",
      "Training on fold [2/5]\n",
      "\n",
      "bestTest = 0.5813424317\n",
      "bestIteration = 1741\n",
      "\n",
      "Training on fold [3/5]\n",
      "\n",
      "bestTest = 0.605424352\n",
      "bestIteration = 1390\n",
      "\n",
      "Training on fold [4/5]\n"
     ]
    },
    {
     "name": "stderr",
     "output_type": "stream",
     "text": [
      "\u001b[32m[I 2022-09-20 10:38:09,290]\u001b[0m Trial 77 finished with value: 0.7564642565736788 and parameters: {'max_depth': 4, 'n_estimators': 4937, 'min_data_in_leaf': 28, 'learning_rate': 0.0027834559177756096, 'random_strength': 1, 'bagging_temperature': 3, 'max_bin': 200, 'grow_policy': 'Lossguide', 'l2_leaf_reg': 0.004555278700963052, 'one_hot_max_size': 1024, 'auto_class_weights': 'Balanced'}. Best is trial 32 with value: 0.7570907570397576.\u001b[0m\n"
     ]
    },
    {
     "name": "stdout",
     "output_type": "stream",
     "text": [
      "\n",
      "bestTest = 0.5938610327\n",
      "bestIteration = 1507\n",
      "\n",
      "Training on fold [0/5]\n",
      "\n",
      "bestTest = 0.5808345508\n",
      "bestIteration = 4897\n",
      "\n",
      "Training on fold [1/5]\n",
      "\n",
      "bestTest = 0.5840412388\n",
      "bestIteration = 4897\n",
      "\n",
      "Training on fold [2/5]\n",
      "\n",
      "bestTest = 0.5829473485\n",
      "bestIteration = 4897\n",
      "\n",
      "Training on fold [3/5]\n",
      "\n",
      "bestTest = 0.6068796385\n",
      "bestIteration = 4498\n",
      "\n",
      "Training on fold [4/5]\n"
     ]
    },
    {
     "name": "stderr",
     "output_type": "stream",
     "text": [
      "\u001b[32m[I 2022-09-20 10:38:49,275]\u001b[0m Trial 78 finished with value: 0.7545817825994703 and parameters: {'max_depth': 3, 'n_estimators': 4898, 'min_data_in_leaf': 29, 'learning_rate': 0.0010056860826259074, 'random_strength': 1, 'bagging_temperature': 2, 'max_bin': 200, 'grow_policy': 'Lossguide', 'l2_leaf_reg': 1.3991518245196554e-05, 'one_hot_max_size': 100, 'auto_class_weights': 'Balanced'}. Best is trial 32 with value: 0.7570907570397576.\u001b[0m\n"
     ]
    },
    {
     "name": "stdout",
     "output_type": "stream",
     "text": [
      "\n",
      "bestTest = 0.5966062032\n",
      "bestIteration = 4362\n",
      "\n",
      "Training on fold [0/5]\n",
      "\n",
      "bestTest = 0.5765449469\n",
      "bestIteration = 395\n",
      "\n",
      "Training on fold [1/5]\n",
      "\n",
      "bestTest = 0.5812355228\n",
      "bestIteration = 374\n",
      "\n",
      "Training on fold [2/5]\n",
      "\n",
      "bestTest = 0.5834563723\n",
      "bestIteration = 267\n",
      "\n",
      "Training on fold [3/5]\n",
      "\n",
      "bestTest = 0.6054574402\n",
      "bestIteration = 243\n",
      "\n",
      "Training on fold [4/5]\n"
     ]
    },
    {
     "name": "stderr",
     "output_type": "stream",
     "text": [
      "\u001b[32m[I 2022-09-20 10:38:53,099]\u001b[0m Trial 79 finished with value: 0.7556940423390721 and parameters: {'max_depth': 4, 'n_estimators': 4517, 'min_data_in_leaf': 27, 'learning_rate': 0.0180069954547886, 'random_strength': 1, 'bagging_temperature': 3, 'max_bin': 10, 'grow_policy': 'Lossguide', 'l2_leaf_reg': 0.005653552976866496, 'one_hot_max_size': 1024, 'auto_class_weights': 'Balanced'}. Best is trial 32 with value: 0.7570907570397576.\u001b[0m\n"
     ]
    },
    {
     "name": "stdout",
     "output_type": "stream",
     "text": [
      "\n",
      "bestTest = 0.5939749332\n",
      "bestIteration = 363\n",
      "\n",
      "Training on fold [0/5]\n",
      "\n",
      "bestTest = 0.5767953049\n",
      "bestIteration = 1120\n",
      "\n",
      "Training on fold [1/5]\n",
      "\n",
      "bestTest = 0.5805412011\n",
      "bestIteration = 1262\n",
      "\n",
      "Training on fold [2/5]\n",
      "\n",
      "bestTest = 0.5810608478\n",
      "bestIteration = 1073\n",
      "\n",
      "Training on fold [3/5]\n",
      "\n",
      "bestTest = 0.6062297523\n",
      "bestIteration = 707\n",
      "\n",
      "Training on fold [4/5]\n"
     ]
    },
    {
     "name": "stderr",
     "output_type": "stream",
     "text": [
      "\u001b[32m[I 2022-09-20 10:39:05,832]\u001b[0m Trial 80 finished with value: 0.7563078584647963 and parameters: {'max_depth': 4, 'n_estimators': 5403, 'min_data_in_leaf': 22, 'learning_rate': 0.004894443273659833, 'random_strength': 1, 'bagging_temperature': 0, 'max_bin': 200, 'grow_policy': 'Lossguide', 'l2_leaf_reg': 0.0026094773886535584, 'one_hot_max_size': 1024, 'auto_class_weights': 'Balanced'}. Best is trial 32 with value: 0.7570907570397576.\u001b[0m\n"
     ]
    },
    {
     "name": "stdout",
     "output_type": "stream",
     "text": [
      "\n",
      "bestTest = 0.593577322\n",
      "bestIteration = 990\n",
      "\n",
      "Training on fold [0/5]\n",
      "\n",
      "bestTest = 0.5782826599\n",
      "bestIteration = 124\n",
      "\n",
      "Training on fold [1/5]\n",
      "\n",
      "bestTest = 0.5816799245\n",
      "bestIteration = 144\n",
      "\n",
      "Training on fold [2/5]\n",
      "\n",
      "bestTest = 0.5834571307\n",
      "bestIteration = 107\n",
      "\n",
      "Training on fold [3/5]\n",
      "\n",
      "bestTest = 0.6087000637\n",
      "bestIteration = 73\n",
      "\n",
      "Training on fold [4/5]\n"
     ]
    },
    {
     "name": "stderr",
     "output_type": "stream",
     "text": [
      "\u001b[32m[I 2022-09-20 10:39:07,874]\u001b[0m Trial 81 finished with value: 0.7543487708521713 and parameters: {'max_depth': 5, 'n_estimators': 4976, 'min_data_in_leaf': 21, 'learning_rate': 0.043502894300233144, 'random_strength': 2, 'bagging_temperature': 3, 'max_bin': 200, 'grow_policy': 'Lossguide', 'l2_leaf_reg': 0.0009468124616728499, 'one_hot_max_size': 1024, 'auto_class_weights': 'Balanced'}. Best is trial 32 with value: 0.7570907570397576.\u001b[0m\n"
     ]
    },
    {
     "name": "stdout",
     "output_type": "stream",
     "text": [
      "\n",
      "bestTest = 0.5949705614\n",
      "bestIteration = 133\n",
      "\n",
      "Training on fold [0/5]\n",
      "\n",
      "bestTest = 0.5779922803\n",
      "bestIteration = 185\n",
      "\n",
      "Training on fold [1/5]\n",
      "\n",
      "bestTest = 0.5845093293\n",
      "bestIteration = 128\n",
      "\n",
      "Training on fold [2/5]\n",
      "\n",
      "bestTest = 0.5803224019\n",
      "bestIteration = 156\n",
      "\n",
      "Training on fold [3/5]\n",
      "\n",
      "bestTest = 0.6044566542\n",
      "bestIteration = 117\n",
      "\n",
      "Training on fold [4/5]\n"
     ]
    },
    {
     "name": "stderr",
     "output_type": "stream",
     "text": [
      "\u001b[32m[I 2022-09-20 10:39:10,739]\u001b[0m Trial 82 finished with value: 0.7556257167409519 and parameters: {'max_depth': 6, 'n_estimators': 5208, 'min_data_in_leaf': 36, 'learning_rate': 0.037382736571822166, 'random_strength': 2, 'bagging_temperature': 4, 'max_bin': 200, 'grow_policy': 'Lossguide', 'l2_leaf_reg': 0.010230577903803027, 'one_hot_max_size': 1024, 'auto_class_weights': 'Balanced'}. Best is trial 32 with value: 0.7570907570397576.\u001b[0m\n"
     ]
    },
    {
     "name": "stdout",
     "output_type": "stream",
     "text": [
      "\n",
      "bestTest = 0.5928020514\n",
      "bestIteration = 117\n",
      "\n",
      "Training on fold [0/5]\n",
      "\n",
      "bestTest = 0.5758650521\n",
      "bestIteration = 221\n",
      "\n",
      "Training on fold [1/5]\n",
      "\n",
      "bestTest = 0.5814341243\n",
      "bestIteration = 217\n",
      "\n",
      "Training on fold [2/5]\n",
      "\n",
      "bestTest = 0.5832128569\n",
      "bestIteration = 216\n",
      "\n",
      "Training on fold [3/5]\n",
      "\n",
      "bestTest = 0.6076115388\n",
      "bestIteration = 149\n",
      "\n",
      "Training on fold [4/5]\n"
     ]
    },
    {
     "name": "stderr",
     "output_type": "stream",
     "text": [
      "\u001b[32m[I 2022-09-20 10:39:13,395]\u001b[0m Trial 83 finished with value: 0.7547136438934453 and parameters: {'max_depth': 5, 'n_estimators': 4700, 'min_data_in_leaf': 16, 'learning_rate': 0.020500134513949077, 'random_strength': 1, 'bagging_temperature': 5, 'max_bin': 200, 'grow_policy': 'Depthwise', 'l2_leaf_reg': 0.00044666945992080263, 'one_hot_max_size': 1024, 'auto_class_weights': 'Balanced'}. Best is trial 32 with value: 0.7570907570397576.\u001b[0m\n"
     ]
    },
    {
     "name": "stdout",
     "output_type": "stream",
     "text": [
      "\n",
      "bestTest = 0.5942603503\n",
      "bestIteration = 184\n",
      "\n",
      "Training on fold [0/5]\n",
      "\n",
      "bestTest = 0.5784293944\n",
      "bestIteration = 223\n",
      "\n",
      "Training on fold [1/5]\n",
      "\n",
      "bestTest = 0.584273312\n",
      "bestIteration = 224\n",
      "\n",
      "Training on fold [2/5]\n",
      "\n",
      "bestTest = 0.5859599619\n",
      "bestIteration = 192\n",
      "\n",
      "Training on fold [3/5]\n",
      "\n",
      "bestTest = 0.6073149341\n",
      "bestIteration = 143\n",
      "\n",
      "Training on fold [4/5]\n"
     ]
    },
    {
     "name": "stderr",
     "output_type": "stream",
     "text": [
      "\u001b[32m[I 2022-09-20 10:39:22,311]\u001b[0m Trial 84 finished with value: 0.75379054980459 and parameters: {'max_depth': 11, 'n_estimators': 5485, 'min_data_in_leaf': 7, 'learning_rate': 0.01519617381068828, 'random_strength': 3, 'bagging_temperature': 2, 'max_bin': 200, 'grow_policy': 'Depthwise', 'l2_leaf_reg': 0.5804916301863093, 'one_hot_max_size': 1024, 'auto_class_weights': 'Balanced'}. Best is trial 32 with value: 0.7570907570397576.\u001b[0m\n"
     ]
    },
    {
     "name": "stdout",
     "output_type": "stream",
     "text": [
      "\n",
      "bestTest = 0.5963530508\n",
      "bestIteration = 207\n",
      "\n",
      "Training on fold [0/5]\n",
      "\n",
      "bestTest = 0.5785756881\n",
      "bestIteration = 208\n",
      "\n",
      "Training on fold [1/5]\n",
      "\n",
      "bestTest = 0.5797115337\n",
      "bestIteration = 276\n",
      "\n",
      "Training on fold [2/5]\n",
      "\n",
      "bestTest = 0.5795155491\n",
      "bestIteration = 309\n",
      "\n",
      "Training on fold [3/5]\n",
      "\n",
      "bestTest = 0.6054775738\n",
      "bestIteration = 191\n",
      "\n",
      "Training on fold [4/5]\n"
     ]
    },
    {
     "name": "stderr",
     "output_type": "stream",
     "text": [
      "\u001b[32m[I 2022-09-20 10:39:24,802]\u001b[0m Trial 85 finished with value: 0.7557868800807943 and parameters: {'max_depth': 4, 'n_estimators': 4335, 'min_data_in_leaf': 30, 'learning_rate': 0.031519386394837874, 'random_strength': 2, 'bagging_temperature': 1, 'max_bin': 200, 'grow_policy': 'Depthwise', 'l2_leaf_reg': 0.03258596058928659, 'one_hot_max_size': 10, 'auto_class_weights': 'Balanced'}. Best is trial 32 with value: 0.7570907570397576.\u001b[0m\n"
     ]
    },
    {
     "name": "stdout",
     "output_type": "stream",
     "text": [
      "\n",
      "bestTest = 0.5956158333\n",
      "bestIteration = 168\n",
      "\n",
      "Training on fold [0/5]\n",
      "\n",
      "bestTest = 0.5784106527\n",
      "bestIteration = 1845\n",
      "\n",
      "Training on fold [1/5]\n",
      "\n",
      "bestTest = 0.580219984\n",
      "bestIteration = 1935\n",
      "\n",
      "Training on fold [2/5]\n",
      "\n",
      "bestTest = 0.5821178849\n",
      "bestIteration = 1797\n",
      "\n",
      "Training on fold [3/5]\n",
      "\n",
      "bestTest = 0.6069673372\n",
      "bestIteration = 1427\n",
      "\n",
      "Training on fold [4/5]\n"
     ]
    },
    {
     "name": "stderr",
     "output_type": "stream",
     "text": [
      "\u001b[32m[I 2022-09-20 10:39:38,669]\u001b[0m Trial 86 finished with value: 0.7548227812706232 and parameters: {'max_depth': 3, 'n_estimators': 3139, 'min_data_in_leaf': 45, 'learning_rate': 0.00638249918609423, 'random_strength': 6, 'bagging_temperature': 7, 'max_bin': 200, 'grow_policy': 'Depthwise', 'l2_leaf_reg': 0.11553390088201397, 'one_hot_max_size': 1024, 'auto_class_weights': 'Balanced'}. Best is trial 32 with value: 0.7570907570397576.\u001b[0m\n"
     ]
    },
    {
     "name": "stdout",
     "output_type": "stream",
     "text": [
      "\n",
      "bestTest = 0.5965899102\n",
      "bestIteration = 1637\n",
      "\n",
      "Training on fold [0/5]\n",
      "\n",
      "bestTest = 0.578077588\n",
      "bestIteration = 81\n",
      "\n",
      "Training on fold [1/5]\n",
      "\n",
      "bestTest = 0.5809877731\n",
      "bestIteration = 118\n",
      "\n",
      "Training on fold [2/5]\n",
      "\n",
      "bestTest = 0.5829528011\n",
      "bestIteration = 73\n",
      "\n",
      "Training on fold [3/5]\n",
      "\n",
      "bestTest = 0.6037741453\n",
      "bestIteration = 86\n",
      "\n",
      "Training on fold [4/5]\n"
     ]
    },
    {
     "name": "stderr",
     "output_type": "stream",
     "text": [
      "\u001b[32m[I 2022-09-20 10:39:40,308]\u001b[0m Trial 87 finished with value: 0.7556106175226415 and parameters: {'max_depth': 6, 'n_estimators': 2918, 'min_data_in_leaf': 25, 'learning_rate': 0.04196706184652079, 'random_strength': 1, 'bagging_temperature': 3, 'max_bin': 200, 'grow_policy': 'Depthwise', 'l2_leaf_reg': 0.01791275361778413, 'one_hot_max_size': 1024, 'auto_class_weights': 'Balanced'}. Best is trial 32 with value: 0.7570907570397576.\u001b[0m\n"
     ]
    },
    {
     "name": "stdout",
     "output_type": "stream",
     "text": [
      "\n",
      "bestTest = 0.5943670064\n",
      "bestIteration = 88\n",
      "\n",
      "Training on fold [0/5]\n",
      "\n",
      "bestTest = 0.5786989719\n",
      "bestIteration = 213\n",
      "\n",
      "Training on fold [1/5]\n",
      "\n",
      "bestTest = 0.5839030234\n",
      "bestIteration = 113\n",
      "\n",
      "Training on fold [2/5]\n",
      "\n",
      "bestTest = 0.5827398307\n",
      "bestIteration = 177\n",
      "\n",
      "Training on fold [3/5]\n",
      "\n",
      "bestTest = 0.6016714869\n",
      "bestIteration = 131\n",
      "\n",
      "Training on fold [4/5]\n"
     ]
    },
    {
     "name": "stderr",
     "output_type": "stream",
     "text": [
      "\u001b[32m[I 2022-09-20 10:39:42,684]\u001b[0m Trial 88 finished with value: 0.7550030022447978 and parameters: {'max_depth': 5, 'n_estimators': 4588, 'min_data_in_leaf': 37, 'learning_rate': 0.0629924022981509, 'random_strength': 9, 'bagging_temperature': 4, 'max_bin': 10, 'grow_policy': 'Lossguide', 'l2_leaf_reg': 0.31601215255829745, 'one_hot_max_size': 500, 'auto_class_weights': 'Balanced'}. Best is trial 32 with value: 0.7570907570397576.\u001b[0m\n"
     ]
    },
    {
     "name": "stdout",
     "output_type": "stream",
     "text": [
      "\n",
      "bestTest = 0.5962628086\n",
      "bestIteration = 147\n",
      "\n",
      "Training on fold [0/5]\n",
      "\n",
      "bestTest = 0.5786876933\n",
      "bestIteration = 73\n",
      "\n",
      "Training on fold [1/5]\n",
      "\n",
      "bestTest = 0.583067904\n",
      "bestIteration = 92\n",
      "\n",
      "Training on fold [2/5]\n",
      "\n",
      "bestTest = 0.5836197111\n",
      "bestIteration = 80\n",
      "\n",
      "Training on fold [3/5]\n",
      "\n",
      "bestTest = 0.608107649\n",
      "bestIteration = 55\n",
      "\n",
      "Training on fold [4/5]\n"
     ]
    },
    {
     "name": "stderr",
     "output_type": "stream",
     "text": [
      "\u001b[32m[I 2022-09-20 10:39:44,127]\u001b[0m Trial 89 finished with value: 0.7533695434711623 and parameters: {'max_depth': 7, 'n_estimators': 119, 'min_data_in_leaf': 92, 'learning_rate': 0.055175953668454694, 'random_strength': 2, 'bagging_temperature': 3, 'max_bin': 200, 'grow_policy': 'Depthwise', 'l2_leaf_reg': 0.006408731443958857, 'one_hot_max_size': 12, 'auto_class_weights': 'Balanced'}. Best is trial 32 with value: 0.7570907570397576.\u001b[0m\n"
     ]
    },
    {
     "name": "stdout",
     "output_type": "stream",
     "text": [
      "\n",
      "bestTest = 0.5969481159\n",
      "bestIteration = 63\n",
      "\n",
      "Training on fold [0/5]\n",
      "\n",
      "bestTest = 0.5783067802\n",
      "bestIteration = 376\n",
      "\n",
      "Training on fold [1/5]\n",
      "\n",
      "bestTest = 0.5803249465\n",
      "bestIteration = 380\n",
      "\n",
      "Training on fold [2/5]\n",
      "\n",
      "bestTest = 0.5798382324\n",
      "bestIteration = 351\n",
      "\n",
      "Training on fold [3/5]\n",
      "\n",
      "bestTest = 0.6059759098\n",
      "bestIteration = 261\n",
      "\n",
      "Training on fold [4/5]\n"
     ]
    },
    {
     "name": "stderr",
     "output_type": "stream",
     "text": [
      "\u001b[32m[I 2022-09-20 10:39:47,138]\u001b[0m Trial 90 finished with value: 0.7554006897666753 and parameters: {'max_depth': 4, 'n_estimators': 3374, 'min_data_in_leaf': 54, 'learning_rate': 0.021555906607448272, 'random_strength': 2, 'bagging_temperature': 2, 'max_bin': 200, 'grow_policy': 'SymmetricTree', 'l2_leaf_reg': 0.0010871241731047025, 'one_hot_max_size': 1024, 'auto_class_weights': 'Balanced'}. Best is trial 32 with value: 0.7570907570397576.\u001b[0m\n"
     ]
    },
    {
     "name": "stdout",
     "output_type": "stream",
     "text": [
      "\n",
      "bestTest = 0.5980757811\n",
      "bestIteration = 220\n",
      "\n",
      "Training on fold [0/5]\n",
      "\n",
      "bestTest = 0.5744045854\n",
      "bestIteration = 318\n",
      "\n",
      "Training on fold [1/5]\n",
      "\n",
      "bestTest = 0.577414178\n",
      "bestIteration = 274\n",
      "\n",
      "Training on fold [2/5]\n",
      "\n",
      "bestTest = 0.5807489651\n",
      "bestIteration = 205\n",
      "\n",
      "Training on fold [3/5]\n",
      "\n",
      "bestTest = 0.6045306878\n",
      "bestIteration = 196\n",
      "\n",
      "Training on fold [4/5]\n"
     ]
    },
    {
     "name": "stderr",
     "output_type": "stream",
     "text": [
      "\u001b[32m[I 2022-09-20 10:39:49,959]\u001b[0m Trial 91 finished with value: 0.757051315213993 and parameters: {'max_depth': 5, 'n_estimators': 4208, 'min_data_in_leaf': 70, 'learning_rate': 0.030831478691369804, 'random_strength': 2, 'bagging_temperature': 3, 'max_bin': 200, 'grow_policy': 'Depthwise', 'l2_leaf_reg': 0.0529616106171012, 'one_hot_max_size': 1024, 'auto_class_weights': 'Balanced'}. Best is trial 32 with value: 0.7570907570397576.\u001b[0m\n"
     ]
    },
    {
     "name": "stdout",
     "output_type": "stream",
     "text": [
      "\n",
      "bestTest = 0.5954756578\n",
      "bestIteration = 151\n",
      "\n",
      "Training on fold [0/5]\n",
      "\n",
      "bestTest = 0.5764950168\n",
      "bestIteration = 249\n",
      "\n",
      "Training on fold [1/5]\n",
      "\n",
      "bestTest = 0.5825106404\n",
      "bestIteration = 241\n",
      "\n",
      "Training on fold [2/5]\n",
      "\n",
      "bestTest = 0.5806952372\n",
      "bestIteration = 181\n",
      "\n",
      "Training on fold [3/5]\n",
      "\n",
      "bestTest = 0.6067236144\n",
      "bestIteration = 110\n",
      "\n",
      "Training on fold [4/5]\n"
     ]
    },
    {
     "name": "stderr",
     "output_type": "stream",
     "text": [
      "\u001b[32m[I 2022-09-20 10:39:52,408]\u001b[0m Trial 92 finished with value: 0.7556112642903949 and parameters: {'max_depth': 5, 'n_estimators': 4769, 'min_data_in_leaf': 58, 'learning_rate': 0.030161524642911705, 'random_strength': 3, 'bagging_temperature': 3, 'max_bin': 200, 'grow_policy': 'Depthwise', 'l2_leaf_reg': 0.06286418246064342, 'one_hot_max_size': 1024, 'auto_class_weights': 'Balanced'}. Best is trial 32 with value: 0.7570907570397576.\u001b[0m\n"
     ]
    },
    {
     "name": "stdout",
     "output_type": "stream",
     "text": [
      "\n",
      "bestTest = 0.5957213139\n",
      "bestIteration = 183\n",
      "\n",
      "Training on fold [0/5]\n",
      "\n",
      "bestTest = 0.5753663097\n",
      "bestIteration = 310\n",
      "\n",
      "Training on fold [1/5]\n",
      "\n",
      "bestTest = 0.5805956376\n",
      "bestIteration = 278\n",
      "\n",
      "Training on fold [2/5]\n",
      "\n",
      "bestTest = 0.5834116333\n",
      "bestIteration = 236\n",
      "\n",
      "Training on fold [3/5]\n",
      "\n",
      "bestTest = 0.6050391944\n",
      "bestIteration = 197\n",
      "\n",
      "Training on fold [4/5]\n"
     ]
    },
    {
     "name": "stderr",
     "output_type": "stream",
     "text": [
      "\u001b[32m[I 2022-09-20 10:39:56,095]\u001b[0m Trial 93 finished with value: 0.7563259011595905 and parameters: {'max_depth': 6, 'n_estimators': 5063, 'min_data_in_leaf': 70, 'learning_rate': 0.015244533247188545, 'random_strength': 1, 'bagging_temperature': 4, 'max_bin': 200, 'grow_policy': 'Depthwise', 'l2_leaf_reg': 0.1729480494138292, 'one_hot_max_size': 1024, 'auto_class_weights': 'Balanced'}. Best is trial 32 with value: 0.7570907570397576.\u001b[0m\n"
     ]
    },
    {
     "name": "stdout",
     "output_type": "stream",
     "text": [
      "\n",
      "bestTest = 0.5928573308\n",
      "bestIteration = 250\n",
      "\n",
      "Training on fold [0/5]\n",
      "\n",
      "bestTest = 0.577927517\n",
      "bestIteration = 208\n",
      "\n",
      "Training on fold [1/5]\n",
      "\n",
      "bestTest = 0.5806548676\n",
      "bestIteration = 239\n",
      "\n",
      "Training on fold [2/5]\n",
      "\n",
      "bestTest = 0.5825376057\n",
      "bestIteration = 169\n",
      "\n",
      "Training on fold [3/5]\n",
      "\n",
      "bestTest = 0.604959726\n",
      "bestIteration = 208\n",
      "\n",
      "Training on fold [4/5]\n"
     ]
    },
    {
     "name": "stderr",
     "output_type": "stream",
     "text": [
      "\u001b[32m[I 2022-09-20 10:39:58,587]\u001b[0m Trial 94 finished with value: 0.7553858718012435 and parameters: {'max_depth': 5, 'n_estimators': 4897, 'min_data_in_leaf': 66, 'learning_rate': 0.0496130925650661, 'random_strength': 7, 'bagging_temperature': 3, 'max_bin': 200, 'grow_policy': 'Depthwise', 'l2_leaf_reg': 0.037871248725110426, 'one_hot_max_size': 1024, 'auto_class_weights': 'Balanced'}. Best is trial 32 with value: 0.7570907570397576.\u001b[0m\n"
     ]
    },
    {
     "name": "stdout",
     "output_type": "stream",
     "text": [
      "\n",
      "bestTest = 0.5946909734\n",
      "bestIteration = 166\n",
      "\n",
      "Training on fold [0/5]\n",
      "\n",
      "bestTest = 0.5758767004\n",
      "bestIteration = 329\n",
      "\n",
      "Training on fold [1/5]\n",
      "\n",
      "bestTest = 0.580310414\n",
      "bestIteration = 269\n",
      "\n",
      "Training on fold [2/5]\n",
      "\n",
      "bestTest = 0.5816859396\n",
      "bestIteration = 240\n",
      "\n",
      "Training on fold [3/5]\n",
      "\n",
      "bestTest = 0.6053169019\n",
      "bestIteration = 256\n",
      "\n",
      "Training on fold [4/5]\n"
     ]
    },
    {
     "name": "stderr",
     "output_type": "stream",
     "text": [
      "\u001b[32m[I 2022-09-20 10:40:01,343]\u001b[0m Trial 95 finished with value: 0.7563713874551171 and parameters: {'max_depth': 4, 'n_estimators': 3663, 'min_data_in_leaf': 88, 'learning_rate': 0.025990048331363244, 'random_strength': 2, 'bagging_temperature': 3, 'max_bin': 400, 'grow_policy': 'Depthwise', 'l2_leaf_reg': 0.0037003760568822936, 'one_hot_max_size': 10, 'auto_class_weights': 'Balanced'}. Best is trial 32 with value: 0.7570907570397576.\u001b[0m\n"
     ]
    },
    {
     "name": "stdout",
     "output_type": "stream",
     "text": [
      "\n",
      "bestTest = 0.59477204\n",
      "bestIteration = 230\n",
      "\n",
      "Training on fold [0/5]\n",
      "\n",
      "bestTest = 0.576845409\n",
      "bestIteration = 139\n",
      "\n",
      "Training on fold [1/5]\n",
      "\n",
      "bestTest = 0.5805669526\n",
      "bestIteration = 112\n",
      "\n",
      "Training on fold [2/5]\n",
      "\n",
      "bestTest = 0.5837636793\n",
      "bestIteration = 99\n",
      "\n",
      "Training on fold [3/5]\n",
      "\n",
      "bestTest = 0.6057818297\n",
      "bestIteration = 71\n",
      "\n",
      "Training on fold [4/5]\n"
     ]
    },
    {
     "name": "stderr",
     "output_type": "stream",
     "text": [
      "\u001b[32m[I 2022-09-20 10:40:03,126]\u001b[0m Trial 96 finished with value: 0.7555718868630626 and parameters: {'max_depth': 6, 'n_estimators': 4302, 'min_data_in_leaf': 82, 'learning_rate': 0.03895394645094459, 'random_strength': 1, 'bagging_temperature': 2, 'max_bin': 200, 'grow_policy': 'Depthwise', 'l2_leaf_reg': 0.09030213165866059, 'one_hot_max_size': 1024, 'auto_class_weights': 'Balanced'}. Best is trial 32 with value: 0.7570907570397576.\u001b[0m\n"
     ]
    },
    {
     "name": "stdout",
     "output_type": "stream",
     "text": [
      "\n",
      "bestTest = 0.5941201261\n",
      "bestIteration = 133\n",
      "\n",
      "Training on fold [0/5]\n",
      "\n",
      "bestTest = 0.5800863859\n",
      "bestIteration = 372\n",
      "\n",
      "Training on fold [1/5]\n",
      "\n",
      "bestTest = 0.5814652662\n",
      "bestIteration = 385\n",
      "\n",
      "Training on fold [2/5]\n",
      "\n",
      "bestTest = 0.5812817086\n",
      "bestIteration = 417\n",
      "\n",
      "Training on fold [3/5]\n",
      "\n",
      "bestTest = 0.607183431\n",
      "bestIteration = 336\n",
      "\n",
      "Training on fold [4/5]\n"
     ]
    },
    {
     "name": "stderr",
     "output_type": "stream",
     "text": [
      "\u001b[32m[I 2022-09-20 10:40:31,644]\u001b[0m Trial 97 finished with value: 0.7542593912683139 and parameters: {'max_depth': 3, 'n_estimators': 3473, 'min_data_in_leaf': 72, 'learning_rate': 0.03553303084049304, 'random_strength': 10, 'bagging_temperature': 2, 'max_bin': 200, 'grow_policy': 'Depthwise', 'l2_leaf_reg': 0.5939262340747838, 'one_hot_max_size': 5, 'auto_class_weights': 'Balanced'}. Best is trial 32 with value: 0.7570907570397576.\u001b[0m\n"
     ]
    },
    {
     "name": "stdout",
     "output_type": "stream",
     "text": [
      "\n",
      "bestTest = 0.5960843946\n",
      "bestIteration = 433\n",
      "\n",
      "Training on fold [0/5]\n",
      "\n",
      "bestTest = 0.5752385703\n",
      "bestIteration = 1021\n",
      "\n",
      "Training on fold [1/5]\n",
      "\n",
      "bestTest = 0.5797484228\n",
      "bestIteration = 974\n",
      "\n",
      "Training on fold [2/5]\n",
      "\n",
      "bestTest = 0.5814469501\n",
      "bestIteration = 724\n",
      "\n",
      "Training on fold [3/5]\n",
      "\n",
      "bestTest = 0.6063461717\n",
      "bestIteration = 622\n",
      "\n",
      "Training on fold [4/5]\n"
     ]
    },
    {
     "name": "stderr",
     "output_type": "stream",
     "text": [
      "\u001b[32m[I 2022-09-20 10:40:40,374]\u001b[0m Trial 98 finished with value: 0.7561789892307982 and parameters: {'max_depth': 5, 'n_estimators': 4502, 'min_data_in_leaf': 64, 'learning_rate': 0.008629817673899288, 'random_strength': 3, 'bagging_temperature': 6, 'max_bin': 200, 'grow_policy': 'Depthwise', 'l2_leaf_reg': 0.23171617360945482, 'one_hot_max_size': 1024, 'auto_class_weights': 'Balanced'}. Best is trial 32 with value: 0.7570907570397576.\u001b[0m\n"
     ]
    },
    {
     "name": "stdout",
     "output_type": "stream",
     "text": [
      "\n",
      "bestTest = 0.5954406284\n",
      "bestIteration = 584\n",
      "\n",
      "Training on fold [0/5]\n",
      "\n",
      "bestTest = 0.5784796673\n",
      "bestIteration = 194\n",
      "\n",
      "Training on fold [1/5]\n",
      "\n",
      "bestTest = 0.5825299388\n",
      "bestIteration = 206\n",
      "\n",
      "Training on fold [2/5]\n",
      "\n",
      "bestTest = 0.5836764803\n",
      "bestIteration = 162\n",
      "\n",
      "Training on fold [3/5]\n",
      "\n",
      "bestTest = 0.6058416167\n",
      "bestIteration = 156\n",
      "\n",
      "Training on fold [4/5]\n"
     ]
    },
    {
     "name": "stderr",
     "output_type": "stream",
     "text": [
      "\u001b[32m[I 2022-09-20 10:40:43,304]\u001b[0m Trial 99 finished with value: 0.7553115233681984 and parameters: {'max_depth': 7, 'n_estimators': 5132, 'min_data_in_leaf': 74, 'learning_rate': 0.02099744465317118, 'random_strength': 2, 'bagging_temperature': 1, 'max_bin': 10, 'grow_policy': 'Depthwise', 'l2_leaf_reg': 0.002284080742225496, 'one_hot_max_size': 1024, 'auto_class_weights': 'Balanced'}. Best is trial 32 with value: 0.7570907570397576.\u001b[0m\n"
     ]
    },
    {
     "name": "stdout",
     "output_type": "stream",
     "text": [
      "\n",
      "bestTest = 0.5947988226\n",
      "bestIteration = 227\n",
      "\n",
      "Training on fold [0/5]\n",
      "\n",
      "bestTest = 0.5648298925\n",
      "bestIteration = 187\n",
      "\n",
      "Training on fold [1/5]\n",
      "\n",
      "bestTest = 0.5701515189\n",
      "bestIteration = 138\n",
      "\n",
      "Training on fold [2/5]\n",
      "\n",
      "bestTest = 0.5696134963\n",
      "bestIteration = 138\n",
      "\n",
      "Training on fold [3/5]\n",
      "\n",
      "bestTest = 0.595710014\n",
      "bestIteration = 95\n",
      "\n",
      "Training on fold [4/5]\n"
     ]
    },
    {
     "name": "stderr",
     "output_type": "stream",
     "text": [
      "\u001b[32m[I 2022-09-20 10:40:45,003]\u001b[0m Trial 100 finished with value: 0.7554636501783021 and parameters: {'max_depth': 4, 'n_estimators': 4695, 'min_data_in_leaf': 26, 'learning_rate': 0.04478826046883962, 'random_strength': 1, 'bagging_temperature': 4, 'max_bin': 200, 'grow_policy': 'Depthwise', 'l2_leaf_reg': 0.0229296959743854, 'one_hot_max_size': 10, 'auto_class_weights': 'SqrtBalanced'}. Best is trial 32 with value: 0.7570907570397576.\u001b[0m\n"
     ]
    },
    {
     "name": "stdout",
     "output_type": "stream",
     "text": [
      "\n",
      "bestTest = 0.5821008748\n",
      "bestIteration = 166\n",
      "\n",
      "Training on fold [0/5]\n",
      "\n",
      "bestTest = 0.5638166856\n",
      "bestIteration = 348\n",
      "\n",
      "Training on fold [1/5]\n",
      "\n",
      "bestTest = 0.5679338347\n",
      "bestIteration = 333\n",
      "\n",
      "Training on fold [2/5]\n",
      "\n",
      "bestTest = 0.5692225809\n",
      "bestIteration = 273\n",
      "\n",
      "Training on fold [3/5]\n",
      "\n",
      "bestTest = 0.5934881033\n",
      "bestIteration = 185\n",
      "\n",
      "Training on fold [4/5]\n"
     ]
    },
    {
     "name": "stderr",
     "output_type": "stream",
     "text": [
      "\u001b[32m[I 2022-09-20 10:40:48,244]\u001b[0m Trial 101 finished with value: 0.7564173686949807 and parameters: {'max_depth': 5, 'n_estimators': 4028, 'min_data_in_leaf': 79, 'learning_rate': 0.02601647422298013, 'random_strength': 2, 'bagging_temperature': 3, 'max_bin': 200, 'grow_policy': 'Depthwise', 'l2_leaf_reg': 0.054756449662385354, 'one_hot_max_size': 1024, 'auto_class_weights': 'SqrtBalanced'}. Best is trial 32 with value: 0.7570907570397576.\u001b[0m\n"
     ]
    },
    {
     "name": "stdout",
     "output_type": "stream",
     "text": [
      "\n",
      "bestTest = 0.5834071636\n",
      "bestIteration = 182\n",
      "\n",
      "Training on fold [0/5]\n",
      "\n",
      "bestTest = 0.5667939735\n",
      "bestIteration = 96\n",
      "\n",
      "Training on fold [1/5]\n",
      "\n",
      "bestTest = 0.5720775193\n",
      "bestIteration = 89\n",
      "\n",
      "Training on fold [2/5]\n",
      "\n",
      "bestTest = 0.5725748314\n",
      "bestIteration = 89\n",
      "\n",
      "Training on fold [3/5]\n",
      "\n",
      "bestTest = 0.5962823302\n",
      "bestIteration = 61\n",
      "\n",
      "Training on fold [4/5]\n"
     ]
    },
    {
     "name": "stderr",
     "output_type": "stream",
     "text": [
      "\u001b[32m[I 2022-09-20 10:40:51,432]\u001b[0m Trial 102 finished with value: 0.7541373853383696 and parameters: {'max_depth': 15, 'n_estimators': 3919, 'min_data_in_leaf': 85, 'learning_rate': 0.0322349923238997, 'random_strength': 2, 'bagging_temperature': 3, 'max_bin': 200, 'grow_policy': 'Depthwise', 'l2_leaf_reg': 0.012082235432293446, 'one_hot_max_size': 1024, 'auto_class_weights': 'SqrtBalanced'}. Best is trial 32 with value: 0.7570907570397576.\u001b[0m\n"
     ]
    },
    {
     "name": "stdout",
     "output_type": "stream",
     "text": [
      "\n",
      "bestTest = 0.5855273247\n",
      "bestIteration = 72\n",
      "\n",
      "Training on fold [0/5]\n",
      "\n",
      "bestTest = 0.5631362843\n",
      "bestIteration = 250\n",
      "\n",
      "Training on fold [1/5]\n",
      "\n",
      "bestTest = 0.5671696555\n",
      "bestIteration = 313\n",
      "\n",
      "Training on fold [2/5]\n",
      "\n",
      "bestTest = 0.5711038033\n",
      "bestIteration = 202\n",
      "\n",
      "Training on fold [3/5]\n",
      "\n",
      "bestTest = 0.593490469\n",
      "bestIteration = 156\n",
      "\n",
      "Training on fold [4/5]\n"
     ]
    },
    {
     "name": "stderr",
     "output_type": "stream",
     "text": [
      "\u001b[32m[I 2022-09-20 10:40:54,332]\u001b[0m Trial 103 finished with value: 0.7567960858809902 and parameters: {'max_depth': 5, 'n_estimators': 3717, 'min_data_in_leaf': 31, 'learning_rate': 0.02719078312301809, 'random_strength': 2, 'bagging_temperature': 5, 'max_bin': 200, 'grow_policy': 'Depthwise', 'l2_leaf_reg': 0.12683289695352082, 'one_hot_max_size': 1024, 'auto_class_weights': 'SqrtBalanced'}. Best is trial 32 with value: 0.7570907570397576.\u001b[0m\n"
     ]
    },
    {
     "name": "stdout",
     "output_type": "stream",
     "text": [
      "\n",
      "bestTest = 0.5827382783\n",
      "bestIteration = 158\n",
      "\n",
      "Training on fold [0/5]\n",
      "\n",
      "bestTest = 0.5639499449\n",
      "bestIteration = 476\n",
      "\n",
      "Training on fold [1/5]\n",
      "\n",
      "bestTest = 0.5683004047\n",
      "bestIteration = 477\n",
      "\n",
      "Training on fold [2/5]\n",
      "\n",
      "bestTest = 0.5699504672\n",
      "bestIteration = 378\n",
      "\n",
      "Training on fold [3/5]\n",
      "\n",
      "bestTest = 0.5934211993\n",
      "bestIteration = 290\n",
      "\n",
      "Training on fold [4/5]\n"
     ]
    },
    {
     "name": "stderr",
     "output_type": "stream",
     "text": [
      "\u001b[32m[I 2022-09-20 10:41:00,374]\u001b[0m Trial 104 finished with value: 0.757039392015032 and parameters: {'max_depth': 6, 'n_estimators': 3703, 'min_data_in_leaf': 32, 'learning_rate': 0.012610273761616471, 'random_strength': 2, 'bagging_temperature': 5, 'max_bin': 200, 'grow_policy': 'Depthwise', 'l2_leaf_reg': 0.14359527813191364, 'one_hot_max_size': 1024, 'auto_class_weights': 'SqrtBalanced'}. Best is trial 32 with value: 0.7570907570397576.\u001b[0m\n"
     ]
    },
    {
     "name": "stdout",
     "output_type": "stream",
     "text": [
      "\n",
      "bestTest = 0.5821265873\n",
      "bestIteration = 330\n",
      "\n",
      "Training on fold [0/5]\n",
      "\n",
      "bestTest = 0.5651649064\n",
      "bestIteration = 1382\n",
      "\n",
      "Training on fold [1/5]\n",
      "\n",
      "bestTest = 0.5692994081\n",
      "bestIteration = 1402\n",
      "\n",
      "Training on fold [2/5]\n",
      "\n",
      "bestTest = 0.5708292148\n",
      "bestIteration = 1271\n",
      "\n",
      "Training on fold [3/5]\n",
      "\n",
      "bestTest = 0.594043212\n",
      "bestIteration = 907\n",
      "\n",
      "Training on fold [4/5]\n"
     ]
    },
    {
     "name": "stderr",
     "output_type": "stream",
     "text": [
      "\u001b[32m[I 2022-09-20 10:41:15,601]\u001b[0m Trial 105 finished with value: 0.7564907796184299 and parameters: {'max_depth': 5, 'n_estimators': 3746, 'min_data_in_leaf': 35, 'learning_rate': 0.0033600223148219184, 'random_strength': 1, 'bagging_temperature': 5, 'max_bin': 200, 'grow_policy': 'Depthwise', 'l2_leaf_reg': 0.10757035947621435, 'one_hot_max_size': 1024, 'auto_class_weights': 'SqrtBalanced'}. Best is trial 32 with value: 0.7570907570397576.\u001b[0m\n"
     ]
    },
    {
     "name": "stdout",
     "output_type": "stream",
     "text": [
      "\n",
      "bestTest = 0.5817971137\n",
      "bestIteration = 1265\n",
      "\n",
      "Training on fold [0/5]\n",
      "\n",
      "bestTest = 0.5651971216\n",
      "bestIteration = 369\n",
      "\n",
      "Training on fold [1/5]\n",
      "\n",
      "bestTest = 0.5687129059\n",
      "bestIteration = 466\n",
      "\n",
      "Training on fold [2/5]\n",
      "\n",
      "bestTest = 0.5712013517\n",
      "bestIteration = 309\n",
      "\n",
      "Training on fold [3/5]\n",
      "\n",
      "bestTest = 0.5940875242\n",
      "bestIteration = 250\n",
      "\n",
      "Training on fold [4/5]\n"
     ]
    },
    {
     "name": "stderr",
     "output_type": "stream",
     "text": [
      "\u001b[32m[I 2022-09-20 10:41:20,842]\u001b[0m Trial 106 finished with value: 0.7560905859980271 and parameters: {'max_depth': 6, 'n_estimators': 3193, 'min_data_in_leaf': 32, 'learning_rate': 0.013337202603303339, 'random_strength': 2, 'bagging_temperature': 5, 'max_bin': 200, 'grow_policy': 'Depthwise', 'l2_leaf_reg': 0.10534587597263513, 'one_hot_max_size': 1024, 'auto_class_weights': 'SqrtBalanced'}. Best is trial 32 with value: 0.7570907570397576.\u001b[0m\n"
     ]
    },
    {
     "name": "stdout",
     "output_type": "stream",
     "text": [
      "\n",
      "bestTest = 0.5824573066\n",
      "bestIteration = 292\n",
      "\n",
      "Training on fold [0/5]\n",
      "\n",
      "bestTest = 0.564331092\n",
      "bestIteration = 407\n",
      "\n",
      "Training on fold [1/5]\n",
      "\n",
      "bestTest = 0.5701604242\n",
      "bestIteration = 374\n",
      "\n",
      "Training on fold [2/5]\n",
      "\n",
      "bestTest = 0.5688261934\n",
      "bestIteration = 366\n",
      "\n",
      "Training on fold [3/5]\n",
      "\n",
      "bestTest = 0.5926772549\n",
      "bestIteration = 257\n",
      "\n",
      "Training on fold [4/5]\n"
     ]
    },
    {
     "name": "stderr",
     "output_type": "stream",
     "text": [
      "\u001b[32m[I 2022-09-20 10:41:25,185]\u001b[0m Trial 107 finished with value: 0.7571597677410438 and parameters: {'max_depth': 5, 'n_estimators': 3747, 'min_data_in_leaf': 41, 'learning_rate': 0.016484084665340938, 'random_strength': 2, 'bagging_temperature': 6, 'max_bin': 200, 'grow_policy': 'Depthwise', 'l2_leaf_reg': 0.13343418537730445, 'one_hot_max_size': 1024, 'auto_class_weights': 'SqrtBalanced'}. Best is trial 107 with value: 0.7571597677410438.\u001b[0m\n"
     ]
    },
    {
     "name": "stdout",
     "output_type": "stream",
     "text": [
      "\n",
      "bestTest = 0.5819528412\n",
      "bestIteration = 333\n",
      "\n",
      "Training on fold [0/5]\n",
      "\n",
      "bestTest = 0.5651418508\n",
      "bestIteration = 253\n",
      "\n",
      "Training on fold [1/5]\n",
      "\n",
      "bestTest = 0.5709791324\n",
      "bestIteration = 228\n",
      "\n",
      "Training on fold [2/5]\n",
      "\n",
      "bestTest = 0.5703453422\n",
      "bestIteration = 153\n",
      "\n",
      "Training on fold [3/5]\n",
      "\n",
      "bestTest = 0.5938925639\n",
      "bestIteration = 139\n",
      "\n",
      "Training on fold [4/5]\n"
     ]
    },
    {
     "name": "stderr",
     "output_type": "stream",
     "text": [
      "\u001b[32m[I 2022-09-20 10:41:27,747]\u001b[0m Trial 108 finished with value: 0.7557379131069294 and parameters: {'max_depth': 5, 'n_estimators': 3773, 'min_data_in_leaf': 41, 'learning_rate': 0.029321462176866687, 'random_strength': 2, 'bagging_temperature': 6, 'max_bin': 200, 'grow_policy': 'Depthwise', 'l2_leaf_reg': 0.37638095357963963, 'one_hot_max_size': 100, 'auto_class_weights': 'SqrtBalanced'}. Best is trial 107 with value: 0.7571597677410438.\u001b[0m\n"
     ]
    },
    {
     "name": "stdout",
     "output_type": "stream",
     "text": [
      "\n",
      "bestTest = 0.583143715\n",
      "bestIteration = 187\n",
      "\n",
      "Training on fold [0/5]\n",
      "\n",
      "bestTest = 0.5656898871\n",
      "bestIteration = 327\n",
      "\n",
      "Training on fold [1/5]\n",
      "\n",
      "bestTest = 0.5687224205\n",
      "bestIteration = 458\n",
      "\n",
      "Training on fold [2/5]\n",
      "\n",
      "bestTest = 0.5699304302\n",
      "bestIteration = 447\n",
      "\n",
      "Training on fold [3/5]\n",
      "\n",
      "bestTest = 0.5926576655\n",
      "bestIteration = 322\n",
      "\n",
      "Training on fold [4/5]\n"
     ]
    },
    {
     "name": "stderr",
     "output_type": "stream",
     "text": [
      "\u001b[32m[I 2022-09-20 10:41:32,341]\u001b[0m Trial 109 finished with value: 0.7566161154154527 and parameters: {'max_depth': 5, 'n_estimators': 4214, 'min_data_in_leaf': 31, 'learning_rate': 0.018103492553423244, 'random_strength': 3, 'bagging_temperature': 7, 'max_bin': 200, 'grow_policy': 'Depthwise', 'l2_leaf_reg': 0.07028823821581953, 'one_hot_max_size': 10, 'auto_class_weights': 'SqrtBalanced'}. Best is trial 107 with value: 0.7571597677410438.\u001b[0m\n"
     ]
    },
    {
     "name": "stdout",
     "output_type": "stream",
     "text": [
      "\n",
      "bestTest = 0.5831948396\n",
      "bestIteration = 283\n",
      "\n",
      "Training on fold [0/5]\n",
      "\n",
      "bestTest = 0.5660114816\n",
      "bestIteration = 372\n",
      "\n",
      "Training on fold [1/5]\n",
      "\n",
      "bestTest = 0.5710072664\n",
      "bestIteration = 351\n",
      "\n",
      "Training on fold [2/5]\n",
      "\n",
      "bestTest = 0.5724715854\n",
      "bestIteration = 324\n",
      "\n",
      "Training on fold [3/5]\n",
      "\n",
      "bestTest = 0.5933896247\n",
      "bestIteration = 232\n",
      "\n",
      "Training on fold [4/5]\n"
     ]
    },
    {
     "name": "stderr",
     "output_type": "stream",
     "text": [
      "\u001b[32m[I 2022-09-20 10:41:37,211]\u001b[0m Trial 110 finished with value: 0.7557607868228308 and parameters: {'max_depth': 6, 'n_estimators': 4210, 'min_data_in_leaf': 38, 'learning_rate': 0.016480624690614933, 'random_strength': 4, 'bagging_temperature': 7, 'max_bin': 10, 'grow_policy': 'Depthwise', 'l2_leaf_reg': 0.14290415346587468, 'one_hot_max_size': 12, 'auto_class_weights': 'SqrtBalanced'}. Best is trial 107 with value: 0.7571597677410438.\u001b[0m\n"
     ]
    },
    {
     "name": "stdout",
     "output_type": "stream",
     "text": [
      "\n",
      "bestTest = 0.5829807723\n",
      "bestIteration = 466\n",
      "\n",
      "Training on fold [0/5]\n",
      "\n",
      "bestTest = 0.5663067841\n",
      "bestIteration = 52\n",
      "\n",
      "Training on fold [1/5]\n",
      "\n",
      "bestTest = 0.5746914582\n",
      "bestIteration = 48\n",
      "\n",
      "Training on fold [2/5]\n",
      "\n",
      "bestTest = 0.5723951677\n",
      "bestIteration = 49\n",
      "\n",
      "Training on fold [3/5]\n"
     ]
    },
    {
     "name": "stderr",
     "output_type": "stream",
     "text": [
      "\u001b[32m[I 2022-09-20 10:41:37,998]\u001b[0m Trial 111 finished with value: 0.7525427913349974 and parameters: {'max_depth': 5, 'n_estimators': 4014, 'min_data_in_leaf': 32, 'learning_rate': 0.1774048831195241, 'random_strength': 3, 'bagging_temperature': 8, 'max_bin': 200, 'grow_policy': 'Depthwise', 'l2_leaf_reg': 0.07814808999417765, 'one_hot_max_size': 10, 'auto_class_weights': 'SqrtBalanced'}. Best is trial 107 with value: 0.7571597677410438.\u001b[0m\n"
     ]
    },
    {
     "name": "stdout",
     "output_type": "stream",
     "text": [
      "\n",
      "bestTest = 0.5971505503\n",
      "bestIteration = 14\n",
      "\n",
      "Training on fold [4/5]\n",
      "\n",
      "bestTest = 0.5860449428\n",
      "bestIteration = 28\n",
      "\n",
      "Training on fold [0/5]\n",
      "\n",
      "bestTest = 0.5654301531\n",
      "bestIteration = 243\n",
      "\n",
      "Training on fold [1/5]\n",
      "\n",
      "bestTest = 0.5685795981\n",
      "bestIteration = 275\n",
      "\n",
      "Training on fold [2/5]\n",
      "\n",
      "bestTest = 0.5691345686\n",
      "bestIteration = 291\n",
      "\n",
      "Training on fold [3/5]\n",
      "\n",
      "bestTest = 0.5939238965\n",
      "bestIteration = 192\n",
      "\n",
      "Training on fold [4/5]\n"
     ]
    },
    {
     "name": "stderr",
     "output_type": "stream",
     "text": [
      "\u001b[32m[I 2022-09-20 10:41:41,086]\u001b[0m Trial 112 finished with value: 0.7563763888980087 and parameters: {'max_depth': 5, 'n_estimators': 3626, 'min_data_in_leaf': 42, 'learning_rate': 0.02313219256333039, 'random_strength': 2, 'bagging_temperature': 7, 'max_bin': 200, 'grow_policy': 'Depthwise', 'l2_leaf_reg': 0.039544922581739514, 'one_hot_max_size': 10, 'auto_class_weights': 'SqrtBalanced'}. Best is trial 107 with value: 0.7571597677410438.\u001b[0m\n"
     ]
    },
    {
     "name": "stdout",
     "output_type": "stream",
     "text": [
      "\n",
      "bestTest = 0.5840283109\n",
      "bestIteration = 189\n",
      "\n",
      "Training on fold [0/5]\n",
      "\n",
      "bestTest = 0.5650460855\n",
      "bestIteration = 418\n",
      "\n",
      "Training on fold [1/5]\n",
      "\n",
      "bestTest = 0.5683701868\n",
      "bestIteration = 518\n",
      "\n",
      "Training on fold [2/5]\n",
      "\n",
      "bestTest = 0.5692039724\n",
      "bestIteration = 376\n",
      "\n",
      "Training on fold [3/5]\n",
      "\n",
      "bestTest = 0.5941536851\n",
      "bestIteration = 256\n",
      "\n",
      "Training on fold [4/5]\n"
     ]
    },
    {
     "name": "stderr",
     "output_type": "stream",
     "text": [
      "\u001b[32m[I 2022-09-20 10:41:45,873]\u001b[0m Trial 113 finished with value: 0.7567611874974782 and parameters: {'max_depth': 5, 'n_estimators': 3287, 'min_data_in_leaf': 34, 'learning_rate': 0.017735086163732837, 'random_strength': 3, 'bagging_temperature': 6, 'max_bin': 200, 'grow_policy': 'Depthwise', 'l2_leaf_reg': 0.3202537976959146, 'one_hot_max_size': 10, 'auto_class_weights': 'SqrtBalanced'}. Best is trial 107 with value: 0.7571597677410438.\u001b[0m\n"
     ]
    },
    {
     "name": "stdout",
     "output_type": "stream",
     "text": [
      "\n",
      "bestTest = 0.5821111074\n",
      "bestIteration = 331\n",
      "\n",
      "Training on fold [0/5]\n",
      "\n",
      "bestTest = 0.5652679372\n",
      "bestIteration = 651\n",
      "\n",
      "Training on fold [1/5]\n",
      "\n",
      "bestTest = 0.5692926423\n",
      "bestIteration = 916\n",
      "\n",
      "Training on fold [2/5]\n",
      "\n",
      "bestTest = 0.5693331233\n",
      "bestIteration = 568\n",
      "\n",
      "Training on fold [3/5]\n",
      "\n",
      "bestTest = 0.5941510846\n",
      "bestIteration = 488\n",
      "\n",
      "Training on fold [4/5]\n"
     ]
    },
    {
     "name": "stderr",
     "output_type": "stream",
     "text": [
      "\u001b[32m[I 2022-09-20 10:41:53,510]\u001b[0m Trial 114 finished with value: 0.7563641864704815 and parameters: {'max_depth': 5, 'n_estimators': 3325, 'min_data_in_leaf': 34, 'learning_rate': 0.009822498838162266, 'random_strength': 3, 'bagging_temperature': 6, 'max_bin': 200, 'grow_policy': 'Depthwise', 'l2_leaf_reg': 0.6650093072876454, 'one_hot_max_size': 10, 'auto_class_weights': 'SqrtBalanced'}. Best is trial 107 with value: 0.7571597677410438.\u001b[0m\n"
     ]
    },
    {
     "name": "stdout",
     "output_type": "stream",
     "text": [
      "\n",
      "bestTest = 0.5834761872\n",
      "bestIteration = 459\n",
      "\n",
      "Training on fold [0/5]\n",
      "\n",
      "bestTest = 0.5634581906\n",
      "bestIteration = 431\n",
      "\n",
      "Training on fold [1/5]\n",
      "\n",
      "bestTest = 0.5694629196\n",
      "bestIteration = 413\n",
      "\n",
      "Training on fold [2/5]\n",
      "\n",
      "bestTest = 0.5696592449\n",
      "bestIteration = 361\n",
      "\n",
      "Training on fold [3/5]\n",
      "\n",
      "bestTest = 0.5931074541\n",
      "bestIteration = 350\n",
      "\n",
      "Training on fold [4/5]\n"
     ]
    },
    {
     "name": "stderr",
     "output_type": "stream",
     "text": [
      "\u001b[32m[I 2022-09-20 10:41:59,251]\u001b[0m Trial 115 finished with value: 0.7567871940895752 and parameters: {'max_depth': 6, 'n_estimators': 3512, 'min_data_in_leaf': 30, 'learning_rate': 0.018771816592833633, 'random_strength': 4, 'bagging_temperature': 6, 'max_bin': 200, 'grow_policy': 'Depthwise', 'l2_leaf_reg': 0.27266702597780273, 'one_hot_max_size': 10, 'auto_class_weights': 'SqrtBalanced'}. Best is trial 107 with value: 0.7571597677410438.\u001b[0m\n"
     ]
    },
    {
     "name": "stdout",
     "output_type": "stream",
     "text": [
      "\n",
      "bestTest = 0.5826034318\n",
      "bestIteration = 275\n",
      "\n",
      "Training on fold [0/5]\n",
      "\n",
      "bestTest = 0.5681851374\n",
      "bestIteration = 303\n",
      "\n",
      "Training on fold [1/5]\n",
      "\n",
      "bestTest = 0.5719154185\n",
      "bestIteration = 294\n",
      "\n",
      "Training on fold [2/5]\n",
      "\n",
      "bestTest = 0.5717458433\n",
      "bestIteration = 206\n",
      "\n",
      "Training on fold [3/5]\n",
      "\n",
      "bestTest = 0.5952076574\n",
      "bestIteration = 151\n",
      "\n",
      "Training on fold [4/5]\n"
     ]
    },
    {
     "name": "stderr",
     "output_type": "stream",
     "text": [
      "\u001b[32m[I 2022-09-20 10:42:03,769]\u001b[0m Trial 116 finished with value: 0.7551018559893914 and parameters: {'max_depth': 7, 'n_estimators': 3066, 'min_data_in_leaf': 24, 'learning_rate': 0.020061597431470884, 'random_strength': 4, 'bagging_temperature': 6, 'max_bin': 400, 'grow_policy': 'Depthwise', 'l2_leaf_reg': 0.2885350775755643, 'one_hot_max_size': 10, 'auto_class_weights': 'SqrtBalanced'}. Best is trial 107 with value: 0.7571597677410438.\u001b[0m\n"
     ]
    },
    {
     "name": "stdout",
     "output_type": "stream",
     "text": [
      "\n",
      "bestTest = 0.582591659\n",
      "bestIteration = 263\n",
      "\n",
      "Training on fold [0/5]\n",
      "\n",
      "bestTest = 0.5650361018\n",
      "bestIteration = 527\n",
      "\n",
      "Training on fold [1/5]\n",
      "\n",
      "bestTest = 0.5701916712\n",
      "bestIteration = 428\n",
      "\n",
      "Training on fold [2/5]\n",
      "\n",
      "bestTest = 0.5705615038\n",
      "bestIteration = 339\n",
      "\n",
      "Training on fold [3/5]\n",
      "\n",
      "bestTest = 0.5932777122\n",
      "bestIteration = 350\n",
      "\n",
      "Training on fold [4/5]\n"
     ]
    },
    {
     "name": "stderr",
     "output_type": "stream",
     "text": [
      "\u001b[32m[I 2022-09-20 10:42:09,622]\u001b[0m Trial 117 finished with value: 0.7563428795722366 and parameters: {'max_depth': 6, 'n_estimators': 3291, 'min_data_in_leaf': 30, 'learning_rate': 0.017746105989769927, 'random_strength': 5, 'bagging_temperature': 7, 'max_bin': 200, 'grow_policy': 'Depthwise', 'l2_leaf_reg': 0.4602910974444429, 'one_hot_max_size': 10, 'auto_class_weights': 'SqrtBalanced'}. Best is trial 107 with value: 0.7571597677410438.\u001b[0m\n"
     ]
    },
    {
     "name": "stdout",
     "output_type": "stream",
     "text": [
      "\n",
      "bestTest = 0.5842048877\n",
      "bestIteration = 317\n",
      "\n",
      "Training on fold [0/5]\n",
      "\n",
      "bestTest = 0.5654907946\n",
      "bestIteration = 470\n",
      "\n",
      "Training on fold [1/5]\n",
      "\n",
      "bestTest = 0.5684408025\n",
      "bestIteration = 591\n",
      "\n",
      "Training on fold [2/5]\n",
      "\n",
      "bestTest = 0.5700951437\n",
      "bestIteration = 414\n",
      "\n",
      "Training on fold [3/5]\n",
      "\n",
      "bestTest = 0.5939621107\n",
      "bestIteration = 282\n",
      "\n",
      "Training on fold [4/5]\n"
     ]
    },
    {
     "name": "stderr",
     "output_type": "stream",
     "text": [
      "\u001b[32m[I 2022-09-20 10:42:15,950]\u001b[0m Trial 118 finished with value: 0.7564150556652331 and parameters: {'max_depth': 6, 'n_estimators': 2820, 'min_data_in_leaf': 30, 'learning_rate': 0.012813491585912471, 'random_strength': 3, 'bagging_temperature': 9, 'max_bin': 200, 'grow_policy': 'Depthwise', 'l2_leaf_reg': 0.21302948973977193, 'one_hot_max_size': 10, 'auto_class_weights': 'SqrtBalanced'}. Best is trial 107 with value: 0.7571597677410438.\u001b[0m\n"
     ]
    },
    {
     "name": "stdout",
     "output_type": "stream",
     "text": [
      "\n",
      "bestTest = 0.5822875578\n",
      "bestIteration = 355\n",
      "\n",
      "Training on fold [0/5]\n",
      "\n",
      "bestTest = 0.5665743453\n",
      "bestIteration = 312\n",
      "\n",
      "Training on fold [1/5]\n",
      "\n",
      "bestTest = 0.5722048561\n",
      "bestIteration = 254\n",
      "\n",
      "Training on fold [2/5]\n",
      "\n",
      "bestTest = 0.572983025\n",
      "bestIteration = 217\n",
      "\n",
      "Training on fold [3/5]\n",
      "\n",
      "bestTest = 0.5944262362\n",
      "bestIteration = 185\n",
      "\n",
      "Training on fold [4/5]\n"
     ]
    },
    {
     "name": "stderr",
     "output_type": "stream",
     "text": [
      "\u001b[32m[I 2022-09-20 10:42:18,821]\u001b[0m Trial 119 finished with value: 0.7549752512016474 and parameters: {'max_depth': 6, 'n_estimators': 3515, 'min_data_in_leaf': 44, 'learning_rate': 0.02377990115790718, 'random_strength': 4, 'bagging_temperature': 6, 'max_bin': 200, 'grow_policy': 'SymmetricTree', 'l2_leaf_reg': 0.06591862759466864, 'one_hot_max_size': 10, 'auto_class_weights': 'SqrtBalanced'}. Best is trial 107 with value: 0.7571597677410438.\u001b[0m\n"
     ]
    },
    {
     "name": "stdout",
     "output_type": "stream",
     "text": [
      "\n",
      "bestTest = 0.5848036388\n",
      "bestIteration = 181\n",
      "\n",
      "Training on fold [0/5]\n",
      "\n",
      "bestTest = 0.5633926967\n",
      "bestIteration = 378\n",
      "\n",
      "Training on fold [1/5]\n",
      "\n",
      "bestTest = 0.5667811826\n",
      "bestIteration = 355\n",
      "\n",
      "Training on fold [2/5]\n",
      "\n",
      "bestTest = 0.5688084043\n",
      "bestIteration = 300\n",
      "\n",
      "Training on fold [3/5]\n",
      "\n",
      "bestTest = 0.5940624367\n",
      "bestIteration = 188\n",
      "\n",
      "Training on fold [4/5]\n"
     ]
    },
    {
     "name": "stderr",
     "output_type": "stream",
     "text": [
      "\u001b[32m[I 2022-09-20 10:42:22,586]\u001b[0m Trial 120 finished with value: 0.7570286333016744 and parameters: {'max_depth': 5, 'n_estimators': 3662, 'min_data_in_leaf': 34, 'learning_rate': 0.027835091966163725, 'random_strength': 3, 'bagging_temperature': 6, 'max_bin': 200, 'grow_policy': 'Depthwise', 'l2_leaf_reg': 0.340111928989235, 'one_hot_max_size': 500, 'auto_class_weights': 'SqrtBalanced'}. Best is trial 107 with value: 0.7571597677410438.\u001b[0m\n"
     ]
    },
    {
     "name": "stdout",
     "output_type": "stream",
     "text": [
      "\n",
      "bestTest = 0.5825148439\n",
      "bestIteration = 216\n",
      "\n",
      "Training on fold [0/5]\n",
      "\n",
      "bestTest = 0.5660182733\n",
      "bestIteration = 307\n",
      "\n",
      "Training on fold [1/5]\n",
      "\n",
      "bestTest = 0.5689634941\n",
      "bestIteration = 353\n",
      "\n",
      "Training on fold [2/5]\n",
      "\n",
      "bestTest = 0.5703457473\n",
      "bestIteration = 283\n",
      "\n",
      "Training on fold [3/5]\n",
      "\n",
      "bestTest = 0.5931614592\n",
      "bestIteration = 208\n",
      "\n",
      "Training on fold [4/5]\n"
     ]
    },
    {
     "name": "stderr",
     "output_type": "stream",
     "text": [
      "\u001b[32m[I 2022-09-20 10:42:26,208]\u001b[0m Trial 121 finished with value: 0.7560493873222969 and parameters: {'max_depth': 5, 'n_estimators': 3888, 'min_data_in_leaf': 33, 'learning_rate': 0.028462982348434595, 'random_strength': 3, 'bagging_temperature': 6, 'max_bin': 200, 'grow_policy': 'Depthwise', 'l2_leaf_reg': 0.3776027669743426, 'one_hot_max_size': 10, 'auto_class_weights': 'SqrtBalanced'}. Best is trial 107 with value: 0.7571597677410438.\u001b[0m\n"
     ]
    },
    {
     "name": "stdout",
     "output_type": "stream",
     "text": [
      "\n",
      "bestTest = 0.5832273154\n",
      "bestIteration = 243\n",
      "\n",
      "Training on fold [0/5]\n",
      "\n",
      "bestTest = 0.5650211578\n",
      "bestIteration = 245\n",
      "\n",
      "Training on fold [1/5]\n",
      "\n",
      "bestTest = 0.5699761068\n",
      "bestIteration = 267\n",
      "\n",
      "Training on fold [2/5]\n",
      "\n",
      "bestTest = 0.5695726343\n",
      "bestIteration = 188\n",
      "\n",
      "Training on fold [3/5]\n",
      "\n",
      "bestTest = 0.5941324229\n",
      "bestIteration = 137\n",
      "\n",
      "Training on fold [4/5]\n"
     ]
    },
    {
     "name": "stderr",
     "output_type": "stream",
     "text": [
      "\u001b[32m[I 2022-09-20 10:42:28,905]\u001b[0m Trial 122 finished with value: 0.7555778408713721 and parameters: {'max_depth': 5, 'n_estimators': 3749, 'min_data_in_leaf': 28, 'learning_rate': 0.03446940849217517, 'random_strength': 4, 'bagging_temperature': 5, 'max_bin': 200, 'grow_policy': 'Depthwise', 'l2_leaf_reg': 0.7601303613912993, 'one_hot_max_size': 500, 'auto_class_weights': 'SqrtBalanced'}. Best is trial 107 with value: 0.7571597677410438.\u001b[0m\n"
     ]
    },
    {
     "name": "stdout",
     "output_type": "stream",
     "text": [
      "\n",
      "bestTest = 0.5852336293\n",
      "bestIteration = 157\n",
      "\n",
      "Training on fold [0/5]\n",
      "\n",
      "bestTest = 0.5653568609\n",
      "bestIteration = 472\n",
      "\n",
      "Training on fold [1/5]\n",
      "\n",
      "bestTest = 0.5687060016\n",
      "bestIteration = 514\n",
      "\n",
      "Training on fold [2/5]\n",
      "\n",
      "bestTest = 0.5695507407\n",
      "bestIteration = 425\n",
      "\n",
      "Training on fold [3/5]\n",
      "\n",
      "bestTest = 0.5942676789\n",
      "bestIteration = 294\n",
      "\n",
      "Training on fold [4/5]\n"
     ]
    },
    {
     "name": "stderr",
     "output_type": "stream",
     "text": [
      "\u001b[32m[I 2022-09-20 10:42:33,224]\u001b[0m Trial 123 finished with value: 0.7561515410753634 and parameters: {'max_depth': 4, 'n_estimators': 3649, 'min_data_in_leaf': 39, 'learning_rate': 0.018704890735293977, 'random_strength': 3, 'bagging_temperature': 6, 'max_bin': 200, 'grow_policy': 'Depthwise', 'l2_leaf_reg': 0.23460780690546687, 'one_hot_max_size': 500, 'auto_class_weights': 'SqrtBalanced'}. Best is trial 107 with value: 0.7571597677410438.\u001b[0m\n"
     ]
    },
    {
     "name": "stdout",
     "output_type": "stream",
     "text": [
      "\n",
      "bestTest = 0.5844848271\n",
      "bestIteration = 341\n",
      "\n",
      "Training on fold [0/5]\n",
      "\n",
      "bestTest = 0.5661576424\n",
      "bestIteration = 247\n",
      "\n",
      "Training on fold [1/5]\n",
      "\n",
      "bestTest = 0.569834477\n",
      "bestIteration = 307\n",
      "\n",
      "Training on fold [2/5]\n",
      "\n",
      "bestTest = 0.5704676572\n",
      "bestIteration = 184\n",
      "\n",
      "Training on fold [3/5]\n",
      "\n",
      "bestTest = 0.59349483\n",
      "bestIteration = 187\n",
      "\n",
      "Training on fold [4/5]\n"
     ]
    },
    {
     "name": "stderr",
     "output_type": "stream",
     "text": [
      "\u001b[32m[I 2022-09-20 10:42:36,639]\u001b[0m Trial 124 finished with value: 0.7558879642378931 and parameters: {'max_depth': 6, 'n_estimators': 3510, 'min_data_in_leaf': 47, 'learning_rate': 0.02628845057537444, 'random_strength': 3, 'bagging_temperature': 7, 'max_bin': 200, 'grow_policy': 'Depthwise', 'l2_leaf_reg': 0.13476656576971585, 'one_hot_max_size': 500, 'auto_class_weights': 'SqrtBalanced'}. Best is trial 107 with value: 0.7571597677410438.\u001b[0m\n"
     ]
    },
    {
     "name": "stdout",
     "output_type": "stream",
     "text": [
      "\n",
      "bestTest = 0.5833506923\n",
      "bestIteration = 187\n",
      "\n",
      "Training on fold [0/5]\n",
      "\n",
      "bestTest = 0.563905417\n",
      "bestIteration = 722\n",
      "\n",
      "Training on fold [1/5]\n",
      "\n",
      "bestTest = 0.5696358055\n",
      "bestIteration = 651\n",
      "\n",
      "Training on fold [2/5]\n",
      "\n",
      "bestTest = 0.5715388129\n",
      "bestIteration = 375\n",
      "\n",
      "Training on fold [3/5]\n",
      "\n",
      "bestTest = 0.5943250101\n",
      "bestIteration = 347\n",
      "\n",
      "Training on fold [4/5]\n"
     ]
    },
    {
     "name": "stderr",
     "output_type": "stream",
     "text": [
      "\u001b[32m[I 2022-09-20 10:42:43,120]\u001b[0m Trial 125 finished with value: 0.7562039110445855 and parameters: {'max_depth': 5, 'n_estimators': 2998, 'min_data_in_leaf': 36, 'learning_rate': 0.012813353621741932, 'random_strength': 3, 'bagging_temperature': 6, 'max_bin': 200, 'grow_policy': 'Depthwise', 'l2_leaf_reg': 0.3153664046099036, 'one_hot_max_size': 500, 'auto_class_weights': 'SqrtBalanced'}. Best is trial 107 with value: 0.7571597677410438.\u001b[0m\n"
     ]
    },
    {
     "name": "stdout",
     "output_type": "stream",
     "text": [
      "\n",
      "bestTest = 0.5833692451\n",
      "bestIteration = 499\n",
      "\n",
      "Training on fold [0/5]\n",
      "\n",
      "bestTest = 0.5661743774\n",
      "bestIteration = 98\n",
      "\n",
      "Training on fold [1/5]\n",
      "\n",
      "bestTest = 0.5680434416\n",
      "bestIteration = 109\n",
      "\n",
      "Training on fold [2/5]\n",
      "\n",
      "bestTest = 0.5693075232\n",
      "bestIteration = 115\n",
      "\n",
      "Training on fold [3/5]\n",
      "\n",
      "bestTest = 0.5938958689\n",
      "bestIteration = 55\n",
      "\n",
      "Training on fold [4/5]\n"
     ]
    },
    {
     "name": "stderr",
     "output_type": "stream",
     "text": [
      "\u001b[32m[I 2022-09-20 10:42:53,138]\u001b[0m Trial 126 finished with value: 0.7548553935730441 and parameters: {'max_depth': 4, 'n_estimators': 3263, 'min_data_in_leaf': 34, 'learning_rate': 0.10521019167680155, 'random_strength': 3, 'bagging_temperature': 7, 'max_bin': 200, 'grow_policy': 'Depthwise', 'l2_leaf_reg': 0.08741112258895319, 'one_hot_max_size': 5, 'auto_class_weights': 'SqrtBalanced'}. Best is trial 107 with value: 0.7571597677410438.\u001b[0m\n"
     ]
    },
    {
     "name": "stdout",
     "output_type": "stream",
     "text": [
      "\n",
      "bestTest = 0.5869733522\n",
      "bestIteration = 93\n",
      "\n",
      "Training on fold [0/5]\n",
      "\n",
      "bestTest = 0.5678936221\n",
      "bestIteration = 160\n",
      "\n",
      "Training on fold [1/5]\n",
      "\n",
      "bestTest = 0.5692103392\n",
      "bestIteration = 130\n",
      "\n",
      "Training on fold [2/5]\n",
      "\n",
      "bestTest = 0.5712016834\n",
      "bestIteration = 105\n",
      "\n",
      "Training on fold [3/5]\n",
      "\n",
      "bestTest = 0.5928042098\n",
      "bestIteration = 90\n",
      "\n",
      "Training on fold [4/5]\n"
     ]
    },
    {
     "name": "stderr",
     "output_type": "stream",
     "text": [
      "\u001b[32m[I 2022-09-20 10:42:55,311]\u001b[0m Trial 127 finished with value: 0.7556214546780976 and parameters: {'max_depth': 6, 'n_estimators': 3420, 'min_data_in_leaf': 31, 'learning_rate': 0.04008960032442291, 'random_strength': 2, 'bagging_temperature': 8, 'max_bin': 10, 'grow_policy': 'Depthwise', 'l2_leaf_reg': 0.04611864461139749, 'one_hot_max_size': 10, 'auto_class_weights': 'SqrtBalanced'}. Best is trial 107 with value: 0.7571597677410438.\u001b[0m\n"
     ]
    },
    {
     "name": "stdout",
     "output_type": "stream",
     "text": [
      "\n",
      "bestTest = 0.5824756372\n",
      "bestIteration = 114\n",
      "\n",
      "Training on fold [0/5]\n",
      "\n",
      "bestTest = 0.5651797266\n",
      "bestIteration = 189\n",
      "\n",
      "Training on fold [1/5]\n",
      "\n",
      "bestTest = 0.5688190275\n",
      "bestIteration = 206\n",
      "\n",
      "Training on fold [2/5]\n",
      "\n",
      "bestTest = 0.5698832542\n",
      "bestIteration = 195\n",
      "\n",
      "Training on fold [3/5]\n",
      "\n",
      "bestTest = 0.5945570513\n",
      "bestIteration = 140\n",
      "\n",
      "Training on fold [4/5]\n"
     ]
    },
    {
     "name": "stderr",
     "output_type": "stream",
     "text": [
      "\u001b[32m[I 2022-09-20 10:42:58,208]\u001b[0m Trial 128 finished with value: 0.7565425067420034 and parameters: {'max_depth': 5, 'n_estimators': 3802, 'min_data_in_leaf': 20, 'learning_rate': 0.03171141867027593, 'random_strength': 2, 'bagging_temperature': 5, 'max_bin': 200, 'grow_policy': 'Depthwise', 'l2_leaf_reg': 0.18137549445284343, 'one_hot_max_size': 500, 'auto_class_weights': 'SqrtBalanced'}. Best is trial 107 with value: 0.7571597677410438.\u001b[0m\n"
     ]
    },
    {
     "name": "stdout",
     "output_type": "stream",
     "text": [
      "\n",
      "bestTest = 0.5814024366\n",
      "bestIteration = 180\n",
      "\n",
      "Training on fold [0/5]\n",
      "\n",
      "bestTest = 0.5661043398\n",
      "bestIteration = 314\n",
      "\n",
      "Training on fold [1/5]\n",
      "\n",
      "bestTest = 0.5702670609\n",
      "bestIteration = 330\n",
      "\n",
      "Training on fold [2/5]\n",
      "\n",
      "bestTest = 0.5704408392\n",
      "bestIteration = 259\n",
      "\n",
      "Training on fold [3/5]\n",
      "\n",
      "bestTest = 0.5944223285\n",
      "bestIteration = 146\n",
      "\n",
      "Training on fold [4/5]\n"
     ]
    },
    {
     "name": "stderr",
     "output_type": "stream",
     "text": [
      "\u001b[32m[I 2022-09-20 10:43:03,185]\u001b[0m Trial 129 finished with value: 0.7561286946876772 and parameters: {'max_depth': 7, 'n_estimators': 4117, 'min_data_in_leaf': 27, 'learning_rate': 0.022146832375999577, 'random_strength': 5, 'bagging_temperature': 5, 'max_bin': 200, 'grow_policy': 'Depthwise', 'l2_leaf_reg': 0.5031080984413984, 'one_hot_max_size': 1024, 'auto_class_weights': 'SqrtBalanced'}. Best is trial 107 with value: 0.7571597677410438.\u001b[0m\n"
     ]
    },
    {
     "name": "stdout",
     "output_type": "stream",
     "text": [
      "\n",
      "bestTest = 0.5822605065\n",
      "bestIteration = 251\n",
      "\n",
      "Training on fold [0/5]\n",
      "\n",
      "bestTest = 0.5658855915\n",
      "bestIteration = 708\n",
      "\n",
      "Training on fold [1/5]\n",
      "\n",
      "bestTest = 0.56908483\n",
      "bestIteration = 872\n",
      "\n",
      "Training on fold [2/5]\n",
      "\n",
      "bestTest = 0.5706398887\n",
      "bestIteration = 615\n",
      "\n",
      "Training on fold [3/5]\n",
      "\n",
      "bestTest = 0.5933901591\n",
      "bestIteration = 510\n",
      "\n",
      "Training on fold [4/5]\n"
     ]
    },
    {
     "name": "stderr",
     "output_type": "stream",
     "text": [
      "\u001b[32m[I 2022-09-20 10:43:10,538]\u001b[0m Trial 130 finished with value: 0.7564472165460299 and parameters: {'max_depth': 4, 'n_estimators': 3138, 'min_data_in_leaf': 23, 'learning_rate': 0.009274343716842923, 'random_strength': 2, 'bagging_temperature': 6, 'max_bin': 200, 'grow_policy': 'Depthwise', 'l2_leaf_reg': 0.02899881749027469, 'one_hot_max_size': 100, 'auto_class_weights': 'SqrtBalanced'}. Best is trial 107 with value: 0.7571597677410438.\u001b[0m\n"
     ]
    },
    {
     "name": "stdout",
     "output_type": "stream",
     "text": [
      "\n",
      "bestTest = 0.5834232722\n",
      "bestIteration = 631\n",
      "\n",
      "Training on fold [0/5]\n",
      "\n",
      "bestTest = 0.5648918021\n",
      "bestIteration = 1009\n",
      "\n",
      "Training on fold [1/5]\n",
      "\n",
      "bestTest = 0.5693984646\n",
      "bestIteration = 1082\n",
      "\n",
      "Training on fold [2/5]\n",
      "\n",
      "bestTest = 0.5696042564\n",
      "bestIteration = 932\n",
      "\n",
      "Training on fold [3/5]\n",
      "\n",
      "bestTest = 0.5943912913\n",
      "bestIteration = 622\n",
      "\n",
      "Training on fold [4/5]\n"
     ]
    },
    {
     "name": "stderr",
     "output_type": "stream",
     "text": [
      "\u001b[32m[I 2022-09-20 10:43:21,382]\u001b[0m Trial 131 finished with value: 0.7565519148595538 and parameters: {'max_depth': 5, 'n_estimators': 3431, 'min_data_in_leaf': 40, 'learning_rate': 0.006233507665721411, 'random_strength': 2, 'bagging_temperature': 6, 'max_bin': 200, 'grow_policy': 'Depthwise', 'l2_leaf_reg': 0.12554102056762095, 'one_hot_max_size': 1024, 'auto_class_weights': 'SqrtBalanced'}. Best is trial 107 with value: 0.7571597677410438.\u001b[0m\n"
     ]
    },
    {
     "name": "stdout",
     "output_type": "stream",
     "text": [
      "\n",
      "bestTest = 0.5820460108\n",
      "bestIteration = 815\n",
      "\n",
      "Training on fold [0/5]\n",
      "\n",
      "bestTest = 0.5644426127\n",
      "bestIteration = 400\n",
      "\n",
      "Training on fold [1/5]\n",
      "\n",
      "bestTest = 0.5686774709\n",
      "bestIteration = 381\n",
      "\n",
      "Training on fold [2/5]\n",
      "\n",
      "bestTest = 0.5708037799\n",
      "bestIteration = 272\n",
      "\n",
      "Training on fold [3/5]\n",
      "\n",
      "bestTest = 0.5947432323\n",
      "bestIteration = 197\n",
      "\n",
      "Training on fold [4/5]\n"
     ]
    },
    {
     "name": "stderr",
     "output_type": "stream",
     "text": [
      "\u001b[32m[I 2022-09-20 10:43:26,331]\u001b[0m Trial 132 finished with value: 0.7562773371503765 and parameters: {'max_depth': 6, 'n_estimators': 3614, 'min_data_in_leaf': 37, 'learning_rate': 0.016103545097890935, 'random_strength': 2, 'bagging_temperature': 5, 'max_bin': 200, 'grow_policy': 'Depthwise', 'l2_leaf_reg': 0.23713232630303294, 'one_hot_max_size': 1024, 'auto_class_weights': 'SqrtBalanced'}. Best is trial 107 with value: 0.7571597677410438.\u001b[0m\n"
     ]
    },
    {
     "name": "stdout",
     "output_type": "stream",
     "text": [
      "\n",
      "bestTest = 0.5825347075\n",
      "bestIteration = 294\n",
      "\n",
      "Training on fold [0/5]\n",
      "\n",
      "bestTest = 0.5634612439\n",
      "bestIteration = 523\n",
      "\n",
      "Training on fold [1/5]\n",
      "\n",
      "bestTest = 0.5693704892\n",
      "bestIteration = 428\n",
      "\n",
      "Training on fold [2/5]\n",
      "\n",
      "bestTest = 0.571785979\n",
      "bestIteration = 252\n",
      "\n",
      "Training on fold [3/5]\n",
      "\n",
      "bestTest = 0.5948591937\n",
      "bestIteration = 266\n",
      "\n",
      "Training on fold [4/5]\n"
     ]
    },
    {
     "name": "stderr",
     "output_type": "stream",
     "text": [
      "\u001b[32m[I 2022-09-20 10:43:31,098]\u001b[0m Trial 133 finished with value: 0.7557331793793285 and parameters: {'max_depth': 5, 'n_estimators': 3898, 'min_data_in_leaf': 34, 'learning_rate': 0.020291394076585357, 'random_strength': 4, 'bagging_temperature': 6, 'max_bin': 200, 'grow_policy': 'Depthwise', 'l2_leaf_reg': 0.1568933529292156, 'one_hot_max_size': 1024, 'auto_class_weights': 'SqrtBalanced'}. Best is trial 107 with value: 0.7571597677410438.\u001b[0m\n"
     ]
    },
    {
     "name": "stdout",
     "output_type": "stream",
     "text": [
      "\n",
      "bestTest = 0.5833461096\n",
      "bestIteration = 360\n",
      "\n",
      "Training on fold [0/5]\n",
      "\n",
      "bestTest = 0.5664008428\n",
      "bestIteration = 244\n",
      "\n",
      "Training on fold [1/5]\n",
      "\n",
      "bestTest = 0.5681543264\n",
      "bestIteration = 316\n",
      "\n",
      "Training on fold [2/5]\n",
      "\n",
      "bestTest = 0.5702680144\n",
      "bestIteration = 202\n",
      "\n",
      "Training on fold [3/5]\n",
      "\n",
      "bestTest = 0.5960960721\n",
      "bestIteration = 153\n",
      "\n",
      "Training on fold [4/5]\n"
     ]
    },
    {
     "name": "stderr",
     "output_type": "stream",
     "text": [
      "\u001b[32m[I 2022-09-20 10:43:34,291]\u001b[0m Trial 134 finished with value: 0.7557704912490818 and parameters: {'max_depth': 5, 'n_estimators': 4226, 'min_data_in_leaf': 97, 'learning_rate': 0.027845120489845963, 'random_strength': 3, 'bagging_temperature': 7, 'max_bin': 200, 'grow_policy': 'Depthwise', 'l2_leaf_reg': 0.06834315798489586, 'one_hot_max_size': 1024, 'auto_class_weights': 'SqrtBalanced'}. Best is trial 107 with value: 0.7571597677410438.\u001b[0m\n"
     ]
    },
    {
     "name": "stdout",
     "output_type": "stream",
     "text": [
      "\n",
      "bestTest = 0.5828015097\n",
      "bestIteration = 220\n",
      "\n",
      "Training on fold [0/5]\n",
      "\n",
      "bestTest = 0.5745561224\n",
      "bestIteration = 468\n",
      "\n",
      "Training on fold [1/5]\n",
      "\n",
      "bestTest = 0.5795828503\n",
      "bestIteration = 477\n",
      "\n",
      "Training on fold [2/5]\n",
      "\n",
      "bestTest = 0.5811539676\n",
      "bestIteration = 468\n",
      "\n",
      "Training on fold [3/5]\n",
      "\n",
      "bestTest = 0.6055886513\n",
      "bestIteration = 312\n",
      "\n",
      "Training on fold [4/5]\n"
     ]
    },
    {
     "name": "stderr",
     "output_type": "stream",
     "text": [
      "\u001b[32m[I 2022-09-20 10:43:40,112]\u001b[0m Trial 135 finished with value: 0.7567615728759167 and parameters: {'max_depth': 5, 'n_estimators': 3318, 'min_data_in_leaf': 29, 'learning_rate': 0.0135956053695935, 'random_strength': 2, 'bagging_temperature': 6, 'max_bin': 200, 'grow_policy': 'Depthwise', 'l2_leaf_reg': 0.8431150801530432, 'one_hot_max_size': 1024, 'auto_class_weights': 'Balanced'}. Best is trial 107 with value: 0.7571597677410438.\u001b[0m\n"
     ]
    },
    {
     "name": "stdout",
     "output_type": "stream",
     "text": [
      "\n",
      "bestTest = 0.5944171566\n",
      "bestIteration = 420\n",
      "\n",
      "Training on fold [0/5]\n",
      "\n",
      "bestTest = 0.5651649158\n",
      "bestIteration = 575\n",
      "\n",
      "Training on fold [1/5]\n",
      "\n",
      "bestTest = 0.568551044\n",
      "bestIteration = 616\n",
      "\n",
      "Training on fold [2/5]\n",
      "\n",
      "bestTest = 0.5682080673\n",
      "bestIteration = 600\n",
      "\n",
      "Training on fold [3/5]\n",
      "\n",
      "bestTest = 0.5950815252\n",
      "bestIteration = 356\n",
      "\n",
      "Training on fold [4/5]\n"
     ]
    },
    {
     "name": "stderr",
     "output_type": "stream",
     "text": [
      "\u001b[32m[I 2022-09-20 10:43:45,680]\u001b[0m Trial 136 finished with value: 0.7563585753300537 and parameters: {'max_depth': 4, 'n_estimators': 2607, 'min_data_in_leaf': 29, 'learning_rate': 0.01350745031320914, 'random_strength': 2, 'bagging_temperature': 6, 'max_bin': 200, 'grow_policy': 'Depthwise', 'l2_leaf_reg': 0.802184046758223, 'one_hot_max_size': 1024, 'auto_class_weights': 'SqrtBalanced'}. Best is trial 107 with value: 0.7571597677410438.\u001b[0m\n"
     ]
    },
    {
     "name": "stdout",
     "output_type": "stream",
     "text": [
      "\n",
      "bestTest = 0.5831043382\n",
      "bestIteration = 423\n",
      "\n",
      "Training on fold [0/5]\n",
      "\n",
      "bestTest = 0.5791939596\n",
      "bestIteration = 83\n",
      "\n",
      "Training on fold [1/5]\n",
      "\n",
      "bestTest = 0.5796731056\n",
      "bestIteration = 106\n",
      "\n",
      "Training on fold [2/5]\n",
      "\n",
      "bestTest = 0.5858823242\n",
      "bestIteration = 83\n",
      "\n",
      "Training on fold [3/5]\n",
      "\n",
      "bestTest = 0.6075552685\n",
      "bestIteration = 63\n",
      "\n",
      "Training on fold [4/5]\n"
     ]
    },
    {
     "name": "stderr",
     "output_type": "stream",
     "text": [
      "\u001b[32m[I 2022-09-20 10:43:48,531]\u001b[0m Trial 137 finished with value: 0.7544842819810744 and parameters: {'max_depth': 10, 'n_estimators': 3335, 'min_data_in_leaf': 25, 'learning_rate': 0.036142057065350744, 'random_strength': 2, 'bagging_temperature': 5, 'max_bin': 200, 'grow_policy': 'Depthwise', 'l2_leaf_reg': 0.4302856939955336, 'one_hot_max_size': 10, 'auto_class_weights': 'Balanced'}. Best is trial 107 with value: 0.7571597677410438.\u001b[0m\n"
     ]
    },
    {
     "name": "stdout",
     "output_type": "stream",
     "text": [
      "\n",
      "bestTest = 0.5968644246\n",
      "bestIteration = 52\n",
      "\n",
      "Training on fold [0/5]\n",
      "\n",
      "bestTest = 0.5642288774\n",
      "bestIteration = 297\n",
      "\n",
      "Training on fold [1/5]\n",
      "\n",
      "bestTest = 0.567776619\n",
      "bestIteration = 302\n",
      "\n",
      "Training on fold [2/5]\n",
      "\n",
      "bestTest = 0.5700417678\n",
      "bestIteration = 260\n",
      "\n",
      "Training on fold [3/5]\n",
      "\n",
      "bestTest = 0.5941117252\n",
      "bestIteration = 165\n",
      "\n",
      "Training on fold [4/5]\n"
     ]
    },
    {
     "name": "stderr",
     "output_type": "stream",
     "text": [
      "\u001b[32m[I 2022-09-20 10:43:52,299]\u001b[0m Trial 138 finished with value: 0.7567890559507371 and parameters: {'max_depth': 6, 'n_estimators': 3084, 'min_data_in_leaf': 32, 'learning_rate': 0.02453192346348285, 'random_strength': 3, 'bagging_temperature': 7, 'max_bin': 400, 'grow_policy': 'Depthwise', 'l2_leaf_reg': 0.9757635729170303, 'one_hot_max_size': 1024, 'auto_class_weights': 'SqrtBalanced'}. Best is trial 107 with value: 0.7571597677410438.\u001b[0m\n"
     ]
    },
    {
     "name": "stdout",
     "output_type": "stream",
     "text": [
      "\n",
      "bestTest = 0.5821145969\n",
      "bestIteration = 197\n",
      "\n",
      "Training on fold [0/5]\n",
      "\n",
      "bestTest = 0.5758446254\n",
      "bestIteration = 146\n",
      "\n",
      "Training on fold [1/5]\n",
      "\n",
      "bestTest = 0.5797408253\n",
      "bestIteration = 134\n",
      "\n",
      "Training on fold [2/5]\n",
      "\n",
      "bestTest = 0.5816015615\n",
      "bestIteration = 137\n",
      "\n",
      "Training on fold [3/5]\n",
      "\n",
      "bestTest = 0.6045590474\n",
      "bestIteration = 121\n",
      "\n",
      "Training on fold [4/5]\n"
     ]
    },
    {
     "name": "stderr",
     "output_type": "stream",
     "text": [
      "\u001b[32m[I 2022-09-20 10:43:55,370]\u001b[0m Trial 139 finished with value: 0.7570305877751202 and parameters: {'max_depth': 8, 'n_estimators': 2814, 'min_data_in_leaf': 27, 'learning_rate': 0.030374515328949296, 'random_strength': 2, 'bagging_temperature': 6, 'max_bin': 400, 'grow_policy': 'Depthwise', 'l2_leaf_reg': 0.546389105910824, 'one_hot_max_size': 1024, 'auto_class_weights': 'Balanced'}. Best is trial 107 with value: 0.7571597677410438.\u001b[0m\n"
     ]
    },
    {
     "name": "stdout",
     "output_type": "stream",
     "text": [
      "\n",
      "bestTest = 0.5927297951\n",
      "bestIteration = 112\n",
      "\n",
      "Training on fold [0/5]\n",
      "\n",
      "bestTest = 0.5659143826\n",
      "bestIteration = 162\n",
      "\n",
      "Training on fold [1/5]\n",
      "\n",
      "bestTest = 0.5690307897\n",
      "bestIteration = 181\n",
      "\n",
      "Training on fold [2/5]\n",
      "\n",
      "bestTest = 0.5729820038\n",
      "bestIteration = 147\n",
      "\n",
      "Training on fold [3/5]\n",
      "\n",
      "bestTest = 0.5937201468\n",
      "bestIteration = 140\n",
      "\n",
      "Training on fold [4/5]\n"
     ]
    },
    {
     "name": "stderr",
     "output_type": "stream",
     "text": [
      "\u001b[32m[I 2022-09-20 10:43:58,719]\u001b[0m Trial 140 finished with value: 0.7560309401446176 and parameters: {'max_depth': 9, 'n_estimators': 2505, 'min_data_in_leaf': 26, 'learning_rate': 0.02304411998332824, 'random_strength': 2, 'bagging_temperature': 6, 'max_bin': 400, 'grow_policy': 'SymmetricTree', 'l2_leaf_reg': 0.9292348319190747, 'one_hot_max_size': 1024, 'auto_class_weights': 'SqrtBalanced'}. Best is trial 107 with value: 0.7571597677410438.\u001b[0m\n"
     ]
    },
    {
     "name": "stdout",
     "output_type": "stream",
     "text": [
      "\n",
      "bestTest = 0.5828384529\n",
      "bestIteration = 175\n",
      "\n",
      "Training on fold [0/5]\n",
      "\n",
      "bestTest = 0.5738662028\n",
      "bestIteration = 189\n",
      "\n",
      "Training on fold [1/5]\n",
      "\n",
      "bestTest = 0.5813563777\n",
      "bestIteration = 135\n",
      "\n",
      "Training on fold [2/5]\n",
      "\n",
      "bestTest = 0.5807767522\n",
      "bestIteration = 159\n",
      "\n",
      "Training on fold [3/5]\n",
      "\n",
      "bestTest = 0.6054391901\n",
      "bestIteration = 107\n",
      "\n",
      "Training on fold [4/5]\n"
     ]
    },
    {
     "name": "stderr",
     "output_type": "stream",
     "text": [
      "\u001b[32m[I 2022-09-20 10:44:01,708]\u001b[0m Trial 141 finished with value: 0.7563558979241071 and parameters: {'max_depth': 7, 'n_estimators': 2916, 'min_data_in_leaf': 28, 'learning_rate': 0.03081315654032598, 'random_strength': 2, 'bagging_temperature': 6, 'max_bin': 400, 'grow_policy': 'Depthwise', 'l2_leaf_reg': 0.5658154493426675, 'one_hot_max_size': 1024, 'auto_class_weights': 'Balanced'}. Best is trial 107 with value: 0.7571597677410438.\u001b[0m\n"
     ]
    },
    {
     "name": "stdout",
     "output_type": "stream",
     "text": [
      "\n",
      "bestTest = 0.5951906678\n",
      "bestIteration = 125\n",
      "\n",
      "Training on fold [0/5]\n",
      "\n",
      "bestTest = 0.5772847398\n",
      "bestIteration = 129\n",
      "\n",
      "Training on fold [1/5]\n",
      "\n",
      "bestTest = 0.5834490047\n",
      "bestIteration = 154\n",
      "\n",
      "Training on fold [2/5]\n",
      "\n",
      "bestTest = 0.585881544\n",
      "bestIteration = 103\n",
      "\n",
      "Training on fold [3/5]\n",
      "\n",
      "bestTest = 0.605867759\n",
      "bestIteration = 112\n",
      "\n",
      "Training on fold [4/5]\n"
     ]
    },
    {
     "name": "stderr",
     "output_type": "stream",
     "text": [
      "\u001b[32m[I 2022-09-20 10:44:06,843]\u001b[0m Trial 142 finished with value: 0.7540567496446162 and parameters: {'max_depth': 12, 'n_estimators': 3072, 'min_data_in_leaf': 31, 'learning_rate': 0.025755719223702615, 'random_strength': 2, 'bagging_temperature': 6, 'max_bin': 400, 'grow_policy': 'Depthwise', 'l2_leaf_reg': 0.6994747188100293, 'one_hot_max_size': 1024, 'auto_class_weights': 'Balanced'}. Best is trial 107 with value: 0.7571597677410438.\u001b[0m\n"
     ]
    },
    {
     "name": "stdout",
     "output_type": "stream",
     "text": [
      "\n",
      "bestTest = 0.5949708679\n",
      "bestIteration = 89\n",
      "\n",
      "Training on fold [0/5]\n",
      "\n",
      "bestTest = 0.5816829893\n",
      "bestIteration = 30\n",
      "\n",
      "Training on fold [1/5]\n",
      "\n",
      "bestTest = 0.5791266364\n",
      "bestIteration = 34\n",
      "\n",
      "Training on fold [2/5]\n",
      "\n",
      "bestTest = 0.5833913721\n",
      "bestIteration = 54\n",
      "\n",
      "Training on fold [3/5]\n",
      "\n",
      "bestTest = 0.6099080973\n",
      "bestIteration = 21\n",
      "\n",
      "Training on fold [4/5]\n",
      "\n",
      "bestTest = 0.5975110367\n",
      "bestIteration = 33\n",
      "\n"
     ]
    },
    {
     "name": "stderr",
     "output_type": "stream",
     "text": [
      "\u001b[32m[I 2022-09-20 10:44:07,977]\u001b[0m Trial 143 finished with value: 0.7529810968080379 and parameters: {'max_depth': 8, 'n_estimators': 2782, 'min_data_in_leaf': 35, 'learning_rate': 0.12028562459347433, 'random_strength': 2, 'bagging_temperature': 5, 'max_bin': 400, 'grow_policy': 'Depthwise', 'l2_leaf_reg': 0.9978115376401919, 'one_hot_max_size': 1024, 'auto_class_weights': 'Balanced'}. Best is trial 107 with value: 0.7571597677410438.\u001b[0m\n"
     ]
    },
    {
     "name": "stdout",
     "output_type": "stream",
     "text": [
      "Training on fold [0/5]\n",
      "\n",
      "bestTest = 0.5761990444\n",
      "bestIteration = 172\n",
      "\n",
      "Training on fold [1/5]\n",
      "\n",
      "bestTest = 0.5792776787\n",
      "bestIteration = 196\n",
      "\n",
      "Training on fold [2/5]\n",
      "\n",
      "bestTest = 0.5802395872\n",
      "bestIteration = 212\n",
      "\n",
      "Training on fold [3/5]\n",
      "\n",
      "bestTest = 0.6052355221\n",
      "bestIteration = 125\n",
      "\n",
      "Training on fold [4/5]\n"
     ]
    },
    {
     "name": "stderr",
     "output_type": "stream",
     "text": [
      "\u001b[32m[I 2022-09-20 10:44:10,789]\u001b[0m Trial 144 finished with value: 0.75681877272757 and parameters: {'max_depth': 6, 'n_estimators': 3262, 'min_data_in_leaf': 33, 'learning_rate': 0.03659172074343118, 'random_strength': 3, 'bagging_temperature': 6, 'max_bin': 400, 'grow_policy': 'Depthwise', 'l2_leaf_reg': 0.2980755468827658, 'one_hot_max_size': 1024, 'auto_class_weights': 'Balanced'}. Best is trial 107 with value: 0.7571597677410438.\u001b[0m\n"
     ]
    },
    {
     "name": "stdout",
     "output_type": "stream",
     "text": [
      "\n",
      "bestTest = 0.59489278\n",
      "bestIteration = 139\n",
      "\n",
      "Training on fold [0/5]\n",
      "\n",
      "bestTest = 0.5750747777\n",
      "bestIteration = 143\n",
      "\n",
      "Training on fold [1/5]\n",
      "\n",
      "bestTest = 0.5805670299\n",
      "bestIteration = 143\n",
      "\n",
      "Training on fold [2/5]\n",
      "\n",
      "bestTest = 0.5810382141\n",
      "bestIteration = 154\n",
      "\n",
      "Training on fold [3/5]\n",
      "\n",
      "bestTest = 0.6057515847\n",
      "bestIteration = 94\n",
      "\n",
      "Training on fold [4/5]\n"
     ]
    },
    {
     "name": "stderr",
     "output_type": "stream",
     "text": [
      "\u001b[32m[I 2022-09-20 10:44:13,003]\u001b[0m Trial 145 finished with value: 0.7569070286916272 and parameters: {'max_depth': 6, 'n_estimators': 3155, 'min_data_in_leaf': 23, 'learning_rate': 0.04241283687119046, 'random_strength': 3, 'bagging_temperature': 6, 'max_bin': 400, 'grow_policy': 'Depthwise', 'l2_leaf_reg': 0.31484115794619644, 'one_hot_max_size': 1024, 'auto_class_weights': 'Balanced'}. Best is trial 107 with value: 0.7571597677410438.\u001b[0m\n"
     ]
    },
    {
     "name": "stdout",
     "output_type": "stream",
     "text": [
      "\n",
      "bestTest = 0.5945083773\n",
      "bestIteration = 105\n",
      "\n",
      "Training on fold [0/5]\n",
      "\n",
      "bestTest = 0.5762604204\n",
      "bestIteration = 174\n",
      "\n",
      "Training on fold [1/5]\n",
      "\n",
      "bestTest = 0.5817049257\n",
      "bestIteration = 120\n",
      "\n",
      "Training on fold [2/5]\n",
      "\n",
      "bestTest = 0.5840736199\n",
      "bestIteration = 95\n",
      "\n",
      "Training on fold [3/5]\n",
      "\n",
      "bestTest = 0.6038809268\n",
      "bestIteration = 123\n",
      "\n",
      "Training on fold [4/5]\n"
     ]
    },
    {
     "name": "stderr",
     "output_type": "stream",
     "text": [
      "\u001b[32m[I 2022-09-20 10:44:15,618]\u001b[0m Trial 146 finished with value: 0.7557685723276191 and parameters: {'max_depth': 7, 'n_estimators': 3205, 'min_data_in_leaf': 23, 'learning_rate': 0.04008637317860432, 'random_strength': 3, 'bagging_temperature': 6, 'max_bin': 400, 'grow_policy': 'Depthwise', 'l2_leaf_reg': 0.31650461125843604, 'one_hot_max_size': 1024, 'auto_class_weights': 'Balanced'}. Best is trial 107 with value: 0.7571597677410438.\u001b[0m\n"
     ]
    },
    {
     "name": "stdout",
     "output_type": "stream",
     "text": [
      "\n",
      "bestTest = 0.5952210394\n",
      "bestIteration = 121\n",
      "\n",
      "Training on fold [0/5]\n",
      "\n",
      "bestTest = 0.5751965864\n",
      "bestIteration = 134\n",
      "\n",
      "Training on fold [1/5]\n",
      "\n",
      "bestTest = 0.5802209449\n",
      "bestIteration = 161\n",
      "\n",
      "Training on fold [2/5]\n",
      "\n",
      "bestTest = 0.5802821954\n",
      "bestIteration = 135\n",
      "\n",
      "Training on fold [3/5]\n",
      "\n",
      "bestTest = 0.6050754188\n",
      "bestIteration = 139\n",
      "\n",
      "Training on fold [4/5]\n"
     ]
    },
    {
     "name": "stderr",
     "output_type": "stream",
     "text": [
      "\u001b[32m[I 2022-09-20 10:44:17,904]\u001b[0m Trial 147 finished with value: 0.7565375375615877 and parameters: {'max_depth': 6, 'n_estimators': 2936, 'min_data_in_leaf': 38, 'learning_rate': 0.04928080649060688, 'random_strength': 3, 'bagging_temperature': 6, 'max_bin': 400, 'grow_policy': 'Depthwise', 'l2_leaf_reg': 0.43679008239046685, 'one_hot_max_size': 1024, 'auto_class_weights': 'Balanced'}. Best is trial 107 with value: 0.7571597677410438.\u001b[0m\n"
     ]
    },
    {
     "name": "stdout",
     "output_type": "stream",
     "text": [
      "\n",
      "bestTest = 0.5942491201\n",
      "bestIteration = 119\n",
      "\n",
      "Training on fold [0/5]\n",
      "\n",
      "bestTest = 0.5657083251\n",
      "bestIteration = 241\n",
      "\n",
      "Training on fold [1/5]\n",
      "\n",
      "bestTest = 0.5680224202\n",
      "bestIteration = 252\n",
      "\n",
      "Training on fold [2/5]\n",
      "\n",
      "bestTest = 0.5697400846\n",
      "bestIteration = 170\n",
      "\n",
      "Training on fold [3/5]\n",
      "\n",
      "bestTest = 0.5947370077\n",
      "bestIteration = 148\n",
      "\n",
      "Training on fold [4/5]\n"
     ]
    },
    {
     "name": "stderr",
     "output_type": "stream",
     "text": [
      "\u001b[32m[I 2022-09-20 10:44:21,256]\u001b[0m Trial 148 finished with value: 0.7564338301488942 and parameters: {'max_depth': 6, 'n_estimators': 3155, 'min_data_in_leaf': 17, 'learning_rate': 0.03671741542707635, 'random_strength': 4, 'bagging_temperature': 7, 'max_bin': 400, 'grow_policy': 'Depthwise', 'l2_leaf_reg': 0.2889031187794099, 'one_hot_max_size': 1024, 'auto_class_weights': 'SqrtBalanced'}. Best is trial 107 with value: 0.7571597677410438.\u001b[0m\n"
     ]
    },
    {
     "name": "stdout",
     "output_type": "stream",
     "text": [
      "\n",
      "bestTest = 0.5823243647\n",
      "bestIteration = 237\n",
      "\n",
      "Training on fold [0/5]\n",
      "\n",
      "bestTest = 0.5769729286\n",
      "bestIteration = 145\n",
      "\n",
      "Training on fold [1/5]\n",
      "\n",
      "bestTest = 0.5804099903\n",
      "bestIteration = 141\n",
      "\n",
      "Training on fold [2/5]\n",
      "\n",
      "bestTest = 0.5816937894\n",
      "bestIteration = 108\n",
      "\n",
      "Training on fold [3/5]\n",
      "\n",
      "bestTest = 0.6049571973\n",
      "bestIteration = 83\n",
      "\n",
      "Training on fold [4/5]\n"
     ]
    },
    {
     "name": "stderr",
     "output_type": "stream",
     "text": [
      "\u001b[32m[I 2022-09-20 10:44:23,733]\u001b[0m Trial 149 finished with value: 0.756155417380221 and parameters: {'max_depth': 7, 'n_estimators': 3286, 'min_data_in_leaf': 33, 'learning_rate': 0.04327758584690818, 'random_strength': 3, 'bagging_temperature': 5, 'max_bin': 400, 'grow_policy': 'Depthwise', 'l2_leaf_reg': 0.6001152302322794, 'one_hot_max_size': 1024, 'auto_class_weights': 'Balanced'}. Best is trial 107 with value: 0.7571597677410438.\u001b[0m\n"
     ]
    },
    {
     "name": "stdout",
     "output_type": "stream",
     "text": [
      "\n",
      "bestTest = 0.592948288\n",
      "bestIteration = 107\n",
      "\n"
     ]
    }
   ],
   "source": [
    "sampler_2 = optuna.samplers.TPESampler(seed=42)  # Make the sampler behave in a deterministic way.\n",
    "study_2 = optuna.create_study(direction=\"maximize\", sampler=sampler)\n",
    "study_2.optimize(objective, n_trials=150)"
   ]
  },
  {
   "cell_type": "code",
   "execution_count": null,
   "id": "342cca0f-0065-4656-a833-20e8e5494b42",
   "metadata": {},
   "outputs": [],
   "source": [
    "#Trial 107 finished with value: 0.7571597677410438 and parameters: {'max_depth': 5, 'n_estimators': 3747, 'min_data_in_leaf': 41, \n",
    "#'learning_rate': 0.016484084665340938, 'random_strength': 2, 'bagging_temperature': 6, 'max_bin': 200, 'grow_policy': 'Depthwise', \n",
    "#                   'l2_leaf_reg': 0.13343418537730445, 'one_hot_max_size': 1024, 'auto_class_weights': 'SqrtBalanced'}. Best is trial 107 with value: 0.7571597677410438."
   ]
  },
  {
   "cell_type": "code",
   "execution_count": 69,
   "id": "bcd3df45-f1c4-49b4-850d-874951348bdf",
   "metadata": {},
   "outputs": [],
   "source": [
    "final_model = CatBoostClassifier(verbose=False,  cat_features=categorical_features_indices, \n",
    "                          n_estimators=100,\n",
    "    learning_rate=0.01648408,\n",
    "    random_strength=2,\n",
    "    bagging_temperature=6,\n",
    "    max_bin=200,\n",
    "    grow_policy=\"Depthwise\",\n",
    "    min_data_in_leaf=41,\n",
    "    max_depth=10,\n",
    "    l2_leaf_reg=0.133434,\n",
    "    one_hot_max_size=1024,\n",
    "    auto_class_weights=\"SqrtBalanced\")"
   ]
  },
  {
   "cell_type": "code",
   "execution_count": 70,
   "id": "941200ef-3408-4344-86f8-ddeb891a73d4",
   "metadata": {},
   "outputs": [
    {
     "data": {
      "text/plain": [
       "<catboost.core.CatBoostClassifier at 0x2500fa6ea60>"
      ]
     },
     "execution_count": 70,
     "metadata": {},
     "output_type": "execute_result"
    }
   ],
   "source": [
    "final_model.fit(X_train, y_train)"
   ]
  },
  {
   "cell_type": "code",
   "execution_count": 71,
   "id": "62d25430-e6e7-4c21-8115-7f49a90fb7d9",
   "metadata": {},
   "outputs": [],
   "source": [
    "predictions_h1 = final_model.predict_proba(X_test)"
   ]
  },
  {
   "cell_type": "code",
   "execution_count": 72,
   "id": "65c72898-fee1-41ad-a678-e091afa39164",
   "metadata": {},
   "outputs": [
    {
     "data": {
      "text/plain": [
       "array([[0.7244388 , 0.2755612 ],\n",
       "       [0.672897  , 0.327103  ],\n",
       "       [0.50162042, 0.49837958],\n",
       "       ...,\n",
       "       [0.75038475, 0.24961525],\n",
       "       [0.50584793, 0.49415207],\n",
       "       [0.38701316, 0.61298684]])"
      ]
     },
     "execution_count": 72,
     "metadata": {},
     "output_type": "execute_result"
    }
   ],
   "source": [
    "predictions_h1"
   ]
  },
  {
   "cell_type": "code",
   "execution_count": 73,
   "id": "d945a97c-df80-4b05-86c2-a817c0775831",
   "metadata": {},
   "outputs": [],
   "source": [
    "predictions_h1 = predictions_h1[:,1].reshape(-1,1)"
   ]
  },
  {
   "cell_type": "code",
   "execution_count": 74,
   "id": "235f44b6-6351-48e9-99e1-4660296fffe1",
   "metadata": {},
   "outputs": [
    {
     "data": {
      "text/plain": [
       "0.750725665390252"
      ]
     },
     "execution_count": 74,
     "metadata": {},
     "output_type": "execute_result"
    }
   ],
   "source": [
    "roc_auc_score(y_test, predictions_h1)"
   ]
  },
  {
   "cell_type": "code",
   "execution_count": null,
   "id": "2a47abca-41bb-47b2-8fa3-5601b2b13b0b",
   "metadata": {},
   "outputs": [],
   "source": []
  }
 ],
 "metadata": {
  "kernelspec": {
   "display_name": "Python 3",
   "language": "python",
   "name": "python3"
  },
  "language_info": {
   "codemirror_mode": {
    "name": "ipython",
    "version": 3
   },
   "file_extension": ".py",
   "mimetype": "text/x-python",
   "name": "python",
   "nbconvert_exporter": "python",
   "pygments_lexer": "ipython3",
   "version": "3.8.8"
  }
 },
 "nbformat": 4,
 "nbformat_minor": 5
}
