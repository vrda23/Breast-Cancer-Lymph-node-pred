{
 "cells": [
  {
   "cell_type": "code",
   "execution_count": 1,
   "id": "cfc22b7d-d700-49d8-9d9f-d58f7130b5b5",
   "metadata": {},
   "outputs": [],
   "source": [
    "import numpy as np\n",
    "import pandas as pd\n",
    "import seaborn as sns\n",
    "import matplotlib.pyplot as plt\n",
    "from sklearn.metrics import roc_curve, roc_auc_score\n",
    "import optuna\n",
    "from sklearn.model_selection import train_test_split\n",
    "import catboost as cb\n",
    "from catboost import CatBoostClassifier\n",
    "from catboost import Pool, cv\n",
    "from sklearn.ensemble import RandomForestClassifier\n",
    "from sklearn.model_selection import GridSearchCV\n",
    "\n",
    "from sklearn.experimental import enable_halving_search_cv\n",
    "from sklearn.model_selection import HalvingGridSearchCV\n",
    "from sklearn.model_selection import StratifiedKFold\n",
    "from sklearn.model_selection import RepeatedStratifiedKFold\n",
    "from imblearn.ensemble import BalancedRandomForestClassifier\n",
    "\n",
    "import xgboost as xgb"
   ]
  },
  {
   "cell_type": "code",
   "execution_count": 2,
   "id": "ae89d213-fdf4-461c-abd3-1d85178616a7",
   "metadata": {},
   "outputs": [
    {
     "name": "stdout",
     "output_type": "stream",
     "text": [
      "['2017 2021']\n"
     ]
    }
   ],
   "source": [
    "# Loading the excel file\n",
    "file = r\"C:\\Users\\jvrdo\\Desktop\\Studije, rad\\HRVATSKA BAZA DOJKE 2017 2021 – for study.xlsx\"\n",
    "\n",
    "data = pd.ExcelFile(file)\n",
    "print(data.sheet_names)\n",
    "\n",
    "df=data.parse(0)\n"
   ]
  },
  {
   "cell_type": "code",
   "execution_count": 3,
   "id": "f60750c6-2267-45e5-bc36-f707e8812231",
   "metadata": {},
   "outputs": [
    {
     "data": {
      "text/html": [
       "<div>\n",
       "<style scoped>\n",
       "    .dataframe tbody tr th:only-of-type {\n",
       "        vertical-align: middle;\n",
       "    }\n",
       "\n",
       "    .dataframe tbody tr th {\n",
       "        vertical-align: top;\n",
       "    }\n",
       "\n",
       "    .dataframe thead th {\n",
       "        text-align: right;\n",
       "    }\n",
       "</style>\n",
       "<table border=\"1\" class=\"dataframe\">\n",
       "  <thead>\n",
       "    <tr style=\"text-align: right;\">\n",
       "      <th></th>\n",
       "      <th>Age</th>\n",
       "      <th>Sample_source</th>\n",
       "      <th>Tumour_type</th>\n",
       "      <th>Tm_size</th>\n",
       "      <th>??</th>\n",
       "      <th>Hist_type</th>\n",
       "      <th>Gradus</th>\n",
       "      <th>ER</th>\n",
       "      <th>PR</th>\n",
       "      <th>HER-2</th>\n",
       "      <th>Ki-67</th>\n",
       "      <th>Immunohist_type</th>\n",
       "      <th>lymph_meta</th>\n",
       "    </tr>\n",
       "  </thead>\n",
       "  <tbody>\n",
       "    <tr>\n",
       "      <th>0</th>\n",
       "      <td>58.0</td>\n",
       "      <td>iglena biopsija</td>\n",
       "      <td>inicijalno metastatski tumor</td>\n",
       "      <td>NaN</td>\n",
       "      <td>NaN</td>\n",
       "      <td>NOS - invazivni karcinom</td>\n",
       "      <td>NaN</td>\n",
       "      <td>95</td>\n",
       "      <td>95</td>\n",
       "      <td>0.0</td>\n",
       "      <td>11</td>\n",
       "      <td>luminal A</td>\n",
       "      <td>NaN</td>\n",
       "    </tr>\n",
       "    <tr>\n",
       "      <th>1</th>\n",
       "      <td>76.0</td>\n",
       "      <td>iglena biopsija</td>\n",
       "      <td>inicijalno metastatski tumor</td>\n",
       "      <td>NaN</td>\n",
       "      <td>NaN</td>\n",
       "      <td>lobularni invazivni</td>\n",
       "      <td>NaN</td>\n",
       "      <td>98</td>\n",
       "      <td>98</td>\n",
       "      <td>1.0</td>\n",
       "      <td>43</td>\n",
       "      <td>luminal B</td>\n",
       "      <td>NaN</td>\n",
       "    </tr>\n",
       "    <tr>\n",
       "      <th>2</th>\n",
       "      <td>66.0</td>\n",
       "      <td>iglena biopsija</td>\n",
       "      <td>inicijalno metastatski tumor</td>\n",
       "      <td>NaN</td>\n",
       "      <td>NaN</td>\n",
       "      <td>NOS - invazivni karcinom</td>\n",
       "      <td>NaN</td>\n",
       "      <td>100</td>\n",
       "      <td>0</td>\n",
       "      <td>1.0</td>\n",
       "      <td>19</td>\n",
       "      <td>luminal B</td>\n",
       "      <td>NaN</td>\n",
       "    </tr>\n",
       "    <tr>\n",
       "      <th>3</th>\n",
       "      <td>63.0</td>\n",
       "      <td>iglena biopsija</td>\n",
       "      <td>inicijalno metastatski tumor</td>\n",
       "      <td>NaN</td>\n",
       "      <td>NaN</td>\n",
       "      <td>NOS - invazivni karcinom</td>\n",
       "      <td>2</td>\n",
       "      <td>100</td>\n",
       "      <td>100</td>\n",
       "      <td>1.0</td>\n",
       "      <td>35</td>\n",
       "      <td>luminal B</td>\n",
       "      <td>NaN</td>\n",
       "    </tr>\n",
       "    <tr>\n",
       "      <th>4</th>\n",
       "      <td>70.0</td>\n",
       "      <td>iglena biopsija</td>\n",
       "      <td>inicijalno metastatski tumor</td>\n",
       "      <td>NaN</td>\n",
       "      <td>NaN</td>\n",
       "      <td>lobularni invazivni</td>\n",
       "      <td>1</td>\n",
       "      <td>100</td>\n",
       "      <td>100</td>\n",
       "      <td>0.0</td>\n",
       "      <td>15</td>\n",
       "      <td>luminal A</td>\n",
       "      <td>NaN</td>\n",
       "    </tr>\n",
       "  </tbody>\n",
       "</table>\n",
       "</div>"
      ],
      "text/plain": [
       "    Age    Sample_source                   Tumour_type Tm_size   ??  \\\n",
       "0  58.0  iglena biopsija  inicijalno metastatski tumor     NaN  NaN   \n",
       "1  76.0  iglena biopsija  inicijalno metastatski tumor     NaN  NaN   \n",
       "2  66.0  iglena biopsija  inicijalno metastatski tumor     NaN  NaN   \n",
       "3  63.0  iglena biopsija  inicijalno metastatski tumor     NaN  NaN   \n",
       "4  70.0  iglena biopsija  inicijalno metastatski tumor     NaN  NaN   \n",
       "\n",
       "                   Hist_type Gradus   ER   PR  HER-2 Ki-67 Immunohist_type  \\\n",
       "0  NOS - invazivni karcinom     NaN   95   95    0.0    11       luminal A   \n",
       "1      lobularni invazivni      NaN   98   98    1.0    43       luminal B   \n",
       "2  NOS - invazivni karcinom     NaN  100    0    1.0    19       luminal B   \n",
       "3   NOS - invazivni karcinom      2  100  100    1.0    35       luminal B   \n",
       "4      lobularni invazivni        1  100  100    0.0    15       luminal A   \n",
       "\n",
       "  lymph_meta  \n",
       "0        NaN  \n",
       "1        NaN  \n",
       "2        NaN  \n",
       "3        NaN  \n",
       "4        NaN  "
      ]
     },
     "execution_count": 3,
     "metadata": {},
     "output_type": "execute_result"
    }
   ],
   "source": [
    "# First look into data\n",
    "df.head()"
   ]
  },
  {
   "cell_type": "code",
   "execution_count": 4,
   "id": "776de8a3-c965-4880-9530-cd97f37e55d1",
   "metadata": {},
   "outputs": [
    {
     "data": {
      "text/plain": [
       "Age                  12\n",
       "Sample_source         0\n",
       "Tumour_type           0\n",
       "Tm_size            2644\n",
       "??                 2724\n",
       "Hist_type           310\n",
       "Gradus             2472\n",
       "ER                    5\n",
       "PR                    5\n",
       "HER-2                 7\n",
       "Ki-67                34\n",
       "Immunohist_type       0\n",
       "lymph_meta         3040\n",
       "dtype: int64"
      ]
     },
     "execution_count": 4,
     "metadata": {},
     "output_type": "execute_result"
    }
   ],
   "source": [
    "# Checking for missing values\n",
    "df.isna().sum()"
   ]
  },
  {
   "cell_type": "code",
   "execution_count": 5,
   "id": "c55dd024-cc82-4f0c-8744-22460ad863ba",
   "metadata": {},
   "outputs": [
    {
     "data": {
      "text/plain": [
       "(13580, 13)"
      ]
     },
     "execution_count": 5,
     "metadata": {},
     "output_type": "execute_result"
    }
   ],
   "source": [
    "# Checking shape\n",
    "df.shape"
   ]
  },
  {
   "cell_type": "code",
   "execution_count": 6,
   "id": "ea6cd49e-1810-4cb1-9f65-8b25f5df45a7",
   "metadata": {},
   "outputs": [],
   "source": [
    "# Dropping NaNs\n",
    "df_2= df.dropna()"
   ]
  },
  {
   "cell_type": "code",
   "execution_count": 7,
   "id": "b33f42ac-175b-44a8-8d23-e2aac02bf5cb",
   "metadata": {},
   "outputs": [
    {
     "data": {
      "text/plain": [
       "(9740, 13)"
      ]
     },
     "execution_count": 7,
     "metadata": {},
     "output_type": "execute_result"
    }
   ],
   "source": [
    "# Checking shape after removing NaNs\n",
    "df_2.shape"
   ]
  },
  {
   "cell_type": "code",
   "execution_count": 8,
   "id": "5ee84aec-8f5a-4eee-85b0-505abe848842",
   "metadata": {},
   "outputs": [
    {
     "data": {
      "text/html": [
       "<div>\n",
       "<style scoped>\n",
       "    .dataframe tbody tr th:only-of-type {\n",
       "        vertical-align: middle;\n",
       "    }\n",
       "\n",
       "    .dataframe tbody tr th {\n",
       "        vertical-align: top;\n",
       "    }\n",
       "\n",
       "    .dataframe thead th {\n",
       "        text-align: right;\n",
       "    }\n",
       "</style>\n",
       "<table border=\"1\" class=\"dataframe\">\n",
       "  <thead>\n",
       "    <tr style=\"text-align: right;\">\n",
       "      <th></th>\n",
       "      <th>Age</th>\n",
       "      <th>Sample_source</th>\n",
       "      <th>Tumour_type</th>\n",
       "      <th>Tm_size</th>\n",
       "      <th>??</th>\n",
       "      <th>Hist_type</th>\n",
       "      <th>Gradus</th>\n",
       "      <th>ER</th>\n",
       "      <th>PR</th>\n",
       "      <th>HER-2</th>\n",
       "      <th>Ki-67</th>\n",
       "      <th>Immunohist_type</th>\n",
       "      <th>lymph_meta</th>\n",
       "    </tr>\n",
       "  </thead>\n",
       "  <tbody>\n",
       "    <tr>\n",
       "      <th>44</th>\n",
       "      <td>82.0</td>\n",
       "      <td>mastektomija nakon neoadjuvantnog liječenja</td>\n",
       "      <td>inicijalno metatatski tumor</td>\n",
       "      <td>15</td>\n",
       "      <td>difuzno infiltrirajući</td>\n",
       "      <td>lobularni invazivni</td>\n",
       "      <td>2</td>\n",
       "      <td>99</td>\n",
       "      <td>95</td>\n",
       "      <td>2.0</td>\n",
       "      <td>26</td>\n",
       "      <td>luminal B</td>\n",
       "      <td>5</td>\n",
       "    </tr>\n",
       "    <tr>\n",
       "      <th>555</th>\n",
       "      <td>52.0</td>\n",
       "      <td>mastektomija nakon neoadjuvantnog liječenja</td>\n",
       "      <td>inicijalno metatatski tumor</td>\n",
       "      <td>1.2</td>\n",
       "      <td>solitaran</td>\n",
       "      <td>NOS - invazivni karcinom</td>\n",
       "      <td>3</td>\n",
       "      <td>0</td>\n",
       "      <td>0</td>\n",
       "      <td>3.0</td>\n",
       "      <td>60</td>\n",
       "      <td>HER2 pozitivni</td>\n",
       "      <td>0</td>\n",
       "    </tr>\n",
       "    <tr>\n",
       "      <th>645</th>\n",
       "      <td>62.0</td>\n",
       "      <td>kvadrantektomija</td>\n",
       "      <td>kompletno operiran tumor u vašoj ustanovi</td>\n",
       "      <td>1.6</td>\n",
       "      <td>solitaran</td>\n",
       "      <td>NOS - invazivni karcinom</td>\n",
       "      <td>1</td>\n",
       "      <td>100</td>\n",
       "      <td>70</td>\n",
       "      <td>0.0</td>\n",
       "      <td>7</td>\n",
       "      <td>luminal A</td>\n",
       "      <td>0</td>\n",
       "    </tr>\n",
       "    <tr>\n",
       "      <th>646</th>\n",
       "      <td>62.0</td>\n",
       "      <td>kvadrantektomija</td>\n",
       "      <td>kompletno operiran tumor u vašoj ustanovi</td>\n",
       "      <td>2.2</td>\n",
       "      <td>solitaran</td>\n",
       "      <td>NOS - invazivni karcinom</td>\n",
       "      <td>2</td>\n",
       "      <td>95</td>\n",
       "      <td>93</td>\n",
       "      <td>1.0</td>\n",
       "      <td>9</td>\n",
       "      <td>luminal A</td>\n",
       "      <td>0</td>\n",
       "    </tr>\n",
       "    <tr>\n",
       "      <th>647</th>\n",
       "      <td>72.0</td>\n",
       "      <td>kvadrantektomija</td>\n",
       "      <td>kompletno operiran tumor u vašoj ustanovi</td>\n",
       "      <td>2.5</td>\n",
       "      <td>solitaran</td>\n",
       "      <td>lobularni invazivni</td>\n",
       "      <td>2</td>\n",
       "      <td>80</td>\n",
       "      <td>60</td>\n",
       "      <td>1.0</td>\n",
       "      <td>12</td>\n",
       "      <td>luminal A</td>\n",
       "      <td>0</td>\n",
       "    </tr>\n",
       "    <tr>\n",
       "      <th>...</th>\n",
       "      <td>...</td>\n",
       "      <td>...</td>\n",
       "      <td>...</td>\n",
       "      <td>...</td>\n",
       "      <td>...</td>\n",
       "      <td>...</td>\n",
       "      <td>...</td>\n",
       "      <td>...</td>\n",
       "      <td>...</td>\n",
       "      <td>...</td>\n",
       "      <td>...</td>\n",
       "      <td>...</td>\n",
       "      <td>...</td>\n",
       "    </tr>\n",
       "    <tr>\n",
       "      <th>13567</th>\n",
       "      <td>82.0</td>\n",
       "      <td>mastektomija nakon neoadjuvantnog liječenja</td>\n",
       "      <td>tumor koji se liječio neoadjuvantno</td>\n",
       "      <td>3.2</td>\n",
       "      <td>solitaran</td>\n",
       "      <td>NOS - invazivni karcinom</td>\n",
       "      <td>2</td>\n",
       "      <td>100</td>\n",
       "      <td>100</td>\n",
       "      <td>0.0</td>\n",
       "      <td>9</td>\n",
       "      <td>luminal A</td>\n",
       "      <td>0</td>\n",
       "    </tr>\n",
       "    <tr>\n",
       "      <th>13568</th>\n",
       "      <td>60.0</td>\n",
       "      <td>kvadrantektomija</td>\n",
       "      <td>tumor koji se liječio neoadjuvantno</td>\n",
       "      <td>2.7</td>\n",
       "      <td>solitaran</td>\n",
       "      <td>NOS - invazivni karcinom</td>\n",
       "      <td>1</td>\n",
       "      <td>90</td>\n",
       "      <td>30</td>\n",
       "      <td>2.0</td>\n",
       "      <td>60</td>\n",
       "      <td>Luminal B HER2poz</td>\n",
       "      <td>0</td>\n",
       "    </tr>\n",
       "    <tr>\n",
       "      <th>13574</th>\n",
       "      <td>60.0</td>\n",
       "      <td>mastektomija nakon neoadjuvantnog liječenja</td>\n",
       "      <td>tumor koji se liječio neoadjuvantno</td>\n",
       "      <td>2</td>\n",
       "      <td>multipli</td>\n",
       "      <td>NOS - invazivni karcinom</td>\n",
       "      <td>2</td>\n",
       "      <td>100</td>\n",
       "      <td>10</td>\n",
       "      <td>2.0</td>\n",
       "      <td>18</td>\n",
       "      <td>Luminal B HER2poz</td>\n",
       "      <td>3</td>\n",
       "    </tr>\n",
       "    <tr>\n",
       "      <th>13577</th>\n",
       "      <td>42.0</td>\n",
       "      <td>subkutana mastektomija</td>\n",
       "      <td>tumor koji se liječio neoadjuvantno</td>\n",
       "      <td>1.1</td>\n",
       "      <td>solitaran</td>\n",
       "      <td>NOS - invazivni karcinom</td>\n",
       "      <td>2</td>\n",
       "      <td>98</td>\n",
       "      <td>98</td>\n",
       "      <td>1.0</td>\n",
       "      <td>65</td>\n",
       "      <td>luminal B</td>\n",
       "      <td>1</td>\n",
       "    </tr>\n",
       "    <tr>\n",
       "      <th>13578</th>\n",
       "      <td>51.0</td>\n",
       "      <td>klasična mastektomija</td>\n",
       "      <td>tumor koji se liječio neoadjuvantno</td>\n",
       "      <td>3</td>\n",
       "      <td>solitaran</td>\n",
       "      <td>drugi rijetki tipovi</td>\n",
       "      <td>3</td>\n",
       "      <td>90</td>\n",
       "      <td>20</td>\n",
       "      <td>3.0</td>\n",
       "      <td>50</td>\n",
       "      <td>Luminal B HER2poz</td>\n",
       "      <td>13</td>\n",
       "    </tr>\n",
       "  </tbody>\n",
       "</table>\n",
       "<p>9740 rows × 13 columns</p>\n",
       "</div>"
      ],
      "text/plain": [
       "        Age                                 Sample_source  \\\n",
       "44     82.0  mastektomija nakon neoadjuvantnog liječenja    \n",
       "555    52.0  mastektomija nakon neoadjuvantnog liječenja    \n",
       "645    62.0                              kvadrantektomija   \n",
       "646    62.0                              kvadrantektomija   \n",
       "647    72.0                              kvadrantektomija   \n",
       "...     ...                                           ...   \n",
       "13567  82.0  mastektomija nakon neoadjuvantnog liječenja    \n",
       "13568  60.0                              kvadrantektomija   \n",
       "13574  60.0  mastektomija nakon neoadjuvantnog liječenja    \n",
       "13577  42.0                        subkutana mastektomija   \n",
       "13578  51.0                         klasična mastektomija   \n",
       "\n",
       "                                     Tumour_type Tm_size  \\\n",
       "44                   inicijalno metatatski tumor      15   \n",
       "555                  inicijalno metatatski tumor     1.2   \n",
       "645    kompletno operiran tumor u vašoj ustanovi     1.6   \n",
       "646    kompletno operiran tumor u vašoj ustanovi     2.2   \n",
       "647    kompletno operiran tumor u vašoj ustanovi     2.5   \n",
       "...                                          ...     ...   \n",
       "13567        tumor koji se liječio neoadjuvantno     3.2   \n",
       "13568        tumor koji se liječio neoadjuvantno     2.7   \n",
       "13574        tumor koji se liječio neoadjuvantno       2   \n",
       "13577        tumor koji se liječio neoadjuvantno     1.1   \n",
       "13578       tumor koji se liječio neoadjuvantno        3   \n",
       "\n",
       "                           ??                  Hist_type Gradus   ER   PR  \\\n",
       "44     difuzno infiltrirajući      lobularni invazivni        2   99   95   \n",
       "555                 solitaran  NOS - invazivni karcinom       3    0    0   \n",
       "645                 solitaran  NOS - invazivni karcinom       1  100   70   \n",
       "646                 solitaran  NOS - invazivni karcinom       2   95   93   \n",
       "647                 solitaran      lobularni invazivni        2   80   60   \n",
       "...                       ...                        ...    ...  ...  ...   \n",
       "13567               solitaran  NOS - invazivni karcinom       2  100  100   \n",
       "13568               solitaran  NOS - invazivni karcinom       1   90   30   \n",
       "13574                multipli  NOS - invazivni karcinom       2  100   10   \n",
       "13577               solitaran  NOS - invazivni karcinom       2   98   98   \n",
       "13578               solitaran       drugi rijetki tipovi      3   90   20   \n",
       "\n",
       "       HER-2 Ki-67    Immunohist_type lymph_meta  \n",
       "44       2.0    26         luminal B           5  \n",
       "555      3.0    60     HER2 pozitivni          0  \n",
       "645      0.0     7          luminal A          0  \n",
       "646      1.0     9          luminal A          0  \n",
       "647      1.0    12          luminal A          0  \n",
       "...      ...   ...                ...        ...  \n",
       "13567    0.0     9          luminal A          0  \n",
       "13568    2.0    60  Luminal B HER2poz          0  \n",
       "13574    2.0    18  Luminal B HER2poz          3  \n",
       "13577    1.0    65         luminal B           1  \n",
       "13578    3.0    50  Luminal B HER2poz         13  \n",
       "\n",
       "[9740 rows x 13 columns]"
      ]
     },
     "execution_count": 8,
     "metadata": {},
     "output_type": "execute_result"
    }
   ],
   "source": [
    "df_2"
   ]
  },
  {
   "cell_type": "code",
   "execution_count": 9,
   "id": "ee2b6cf2-77ed-46de-8615-506f27bfc40b",
   "metadata": {},
   "outputs": [
    {
     "name": "stdout",
     "output_type": "stream",
     "text": [
      "Duplicate Rows :\n"
     ]
    },
    {
     "data": {
      "text/plain": [
       "(31, 13)"
      ]
     },
     "execution_count": 9,
     "metadata": {},
     "output_type": "execute_result"
    }
   ],
   "source": [
    "# Selecting duplicate rows except first\n",
    "# occurrence based on all columns\n",
    "duplicate = df_2[df_2.duplicated()]\n",
    " \n",
    "print(\"Duplicate Rows :\")\n",
    " \n",
    "# Print the resultant Dataframe\n",
    "duplicate.shape"
   ]
  },
  {
   "cell_type": "code",
   "execution_count": 10,
   "id": "b668a839-706a-471e-9b8d-11646f6b1591",
   "metadata": {},
   "outputs": [],
   "source": [
    "# Creating new df without duplicates\n",
    "df_3= df_2.drop_duplicates()"
   ]
  },
  {
   "cell_type": "code",
   "execution_count": 11,
   "id": "5bc973de-431c-4156-8800-47aabc966115",
   "metadata": {},
   "outputs": [
    {
     "data": {
      "text/plain": [
       "(9709, 13)"
      ]
     },
     "execution_count": 11,
     "metadata": {},
     "output_type": "execute_result"
    }
   ],
   "source": [
    "# Checking shape\n",
    "df_3.shape"
   ]
  },
  {
   "cell_type": "markdown",
   "id": "106691b3-965b-4ff8-b510-55acfcf9c41a",
   "metadata": {},
   "source": [
    "## EDA"
   ]
  },
  {
   "cell_type": "code",
   "execution_count": 12,
   "id": "e413a6e2-5173-469b-a44d-34b9ed1d8572",
   "metadata": {},
   "outputs": [
    {
     "data": {
      "text/plain": [
       "NOS - invazivni karcinom              6724\n",
       "lobularni invazivni                   1107\n",
       "NOS - invazivni karcinom              1027\n",
       "mucinozni invazivni                    210\n",
       "drugi rijetki tipovi                   118\n",
       "Ca s medularnim karakteristikama        74\n",
       " mikropapilarni invazivni karcinom      71\n",
       "Ca s apokrinom diferencijacijom         61\n",
       "lobularni invazivni                     58\n",
       "tubularni invazivni                     47\n",
       "kribriformni invazivni                  41\n",
       "metaplastični karcinom                  40\n",
       "mucinozni invazivni                     31\n",
       "kribriformni invazivni                  26\n",
       "mikroinvazivni karcinom                 21\n",
       "drugi rijetki tipovi                    16\n",
       "tubularni invazivni                     12\n",
       "mikropapilarni invazivni karcinom        9\n",
       "metaplastični karcinom                   7\n",
       "nOS - invazivni karcinom                 2\n",
       "ne                                       1\n",
       "inflamatorni                             1\n",
       "invazivni mucinozni                      1\n",
       "miješani NOS/lobularni                   1\n",
       "Ca tipa prstena pečatnjaka               1\n",
       " NOS -invazivni karcinom                 1\n",
       "NOS-invazivni karcinom                   1\n",
       "Name: Hist_type, dtype: int64"
      ]
     },
     "execution_count": 12,
     "metadata": {},
     "output_type": "execute_result"
    }
   ],
   "source": [
    "# Checking value counts for Hist_type\n",
    "df_3[\"Hist_type\"].value_counts()"
   ]
  },
  {
   "cell_type": "markdown",
   "id": "77d9cfec-a214-49d6-8b87-dc2e2daa3bd7",
   "metadata": {},
   "source": [
    "Since same Hist_types have multiple entries we will clean up the column."
   ]
  },
  {
   "cell_type": "code",
   "execution_count": 13,
   "id": "f9d774ae-9252-49cb-946d-5d1457f46507",
   "metadata": {},
   "outputs": [
    {
     "data": {
      "text/plain": [
       "array(['lobularni invazivni  ', 'NOS - invazivni karcinom ',\n",
       "       'NOS - invazivni karcinom', 'mucinozni invazivni ',\n",
       "       'drugi rijetki tipovi ', 'Ca s medularnim karakteristikama',\n",
       "       ' mikropapilarni invazivni karcinom', 'mikroinvazivni karcinom',\n",
       "       'Ca s apokrinom diferencijacijom', 'kribriformni invazivni', 'ne',\n",
       "       'metaplastični karcinom ', 'tubularni invazivni ',\n",
       "       'kribriformni invazivni ', 'mucinozni invazivni',\n",
       "       'nOS - invazivni karcinom ', 'drugi rijetki tipovi',\n",
       "       'inflamatorni', 'tubularni invazivni', 'metaplastični karcinom',\n",
       "       'lobularni invazivni', 'invazivni mucinozni',\n",
       "       'mikropapilarni invazivni karcinom', 'miješani NOS/lobularni',\n",
       "       'Ca tipa prstena pečatnjaka', ' NOS -invazivni karcinom',\n",
       "       'NOS-invazivni karcinom'], dtype=object)"
      ]
     },
     "execution_count": 13,
     "metadata": {},
     "output_type": "execute_result"
    }
   ],
   "source": [
    "df_3[\"Hist_type\"].unique()"
   ]
  },
  {
   "cell_type": "code",
   "execution_count": 14,
   "id": "0c30cc6d-00a6-48b6-9e6a-cf43d3a40486",
   "metadata": {},
   "outputs": [
    {
     "name": "stderr",
     "output_type": "stream",
     "text": [
      "<ipython-input-14-69d38c0dd8bc>:2: SettingWithCopyWarning: \n",
      "A value is trying to be set on a copy of a slice from a DataFrame.\n",
      "Try using .loc[row_indexer,col_indexer] = value instead\n",
      "\n",
      "See the caveats in the documentation: https://pandas.pydata.org/pandas-docs/stable/user_guide/indexing.html#returning-a-view-versus-a-copy\n",
      "  df_3['Hist_type'] = df_3['Hist_type'].replace([\"NOS - invazivni karcinom \"],\"NOS_invazivni\")\n",
      "<ipython-input-14-69d38c0dd8bc>:4: SettingWithCopyWarning: \n",
      "A value is trying to be set on a copy of a slice from a DataFrame.\n",
      "Try using .loc[row_indexer,col_indexer] = value instead\n",
      "\n",
      "See the caveats in the documentation: https://pandas.pydata.org/pandas-docs/stable/user_guide/indexing.html#returning-a-view-versus-a-copy\n",
      "  df_3['Hist_type'] = df_3['Hist_type'].replace([\"NOS - invazivni karcinom\"],\"NOS_invazivni\")\n",
      "<ipython-input-14-69d38c0dd8bc>:6: SettingWithCopyWarning: \n",
      "A value is trying to be set on a copy of a slice from a DataFrame.\n",
      "Try using .loc[row_indexer,col_indexer] = value instead\n",
      "\n",
      "See the caveats in the documentation: https://pandas.pydata.org/pandas-docs/stable/user_guide/indexing.html#returning-a-view-versus-a-copy\n",
      "  df_3['Hist_type'] = df_3['Hist_type'].replace([\" NOS -invazivni karcinom\"],\"NOS_invazivni\")\n",
      "<ipython-input-14-69d38c0dd8bc>:8: SettingWithCopyWarning: \n",
      "A value is trying to be set on a copy of a slice from a DataFrame.\n",
      "Try using .loc[row_indexer,col_indexer] = value instead\n",
      "\n",
      "See the caveats in the documentation: https://pandas.pydata.org/pandas-docs/stable/user_guide/indexing.html#returning-a-view-versus-a-copy\n",
      "  df_3['Hist_type'] = df_3['Hist_type'].replace([\"NOS-invazivni karcinom\"],\"NOS_invazivni\")\n",
      "<ipython-input-14-69d38c0dd8bc>:10: SettingWithCopyWarning: \n",
      "A value is trying to be set on a copy of a slice from a DataFrame.\n",
      "Try using .loc[row_indexer,col_indexer] = value instead\n",
      "\n",
      "See the caveats in the documentation: https://pandas.pydata.org/pandas-docs/stable/user_guide/indexing.html#returning-a-view-versus-a-copy\n",
      "  df_3['Hist_type'] = df_3['Hist_type'].replace([\"nOS - invazivni karcinom \"],\"NOS_invazivni\")\n"
     ]
    }
   ],
   "source": [
    "# Cleaning NOS_invazivni category (same category had multiple names)\n",
    "df_3['Hist_type'] = df_3['Hist_type'].replace([\"NOS - invazivni karcinom \"],\"NOS_invazivni\")\n",
    "\n",
    "df_3['Hist_type'] = df_3['Hist_type'].replace([\"NOS - invazivni karcinom\"],\"NOS_invazivni\")\n",
    "\n",
    "df_3['Hist_type'] = df_3['Hist_type'].replace([\" NOS -invazivni karcinom\"],\"NOS_invazivni\")\n",
    "\n",
    "df_3['Hist_type'] = df_3['Hist_type'].replace([\"NOS-invazivni karcinom\"],\"NOS_invazivni\")\n",
    "\n",
    "df_3['Hist_type'] = df_3['Hist_type'].replace([\"nOS - invazivni karcinom \"],\"NOS_invazivni\")"
   ]
  },
  {
   "cell_type": "code",
   "execution_count": 15,
   "id": "b3fd7925-6662-4a6e-b5bc-109b21359f84",
   "metadata": {},
   "outputs": [
    {
     "name": "stderr",
     "output_type": "stream",
     "text": [
      "<ipython-input-15-044d71073f0d>:2: SettingWithCopyWarning: \n",
      "A value is trying to be set on a copy of a slice from a DataFrame.\n",
      "Try using .loc[row_indexer,col_indexer] = value instead\n",
      "\n",
      "See the caveats in the documentation: https://pandas.pydata.org/pandas-docs/stable/user_guide/indexing.html#returning-a-view-versus-a-copy\n",
      "  df_3['Hist_type'] = df_3['Hist_type'].replace([\"invazivni mucinozni\"],\"mucinozni invazivni\")\n"
     ]
    }
   ],
   "source": [
    "# Cleaning mucinozni invazivni category\n",
    "df_3['Hist_type'] = df_3['Hist_type'].replace([\"invazivni mucinozni\"],\"mucinozni invazivni\")"
   ]
  },
  {
   "cell_type": "code",
   "execution_count": 16,
   "id": "01c53439-9b34-4431-9093-ac997b9a1830",
   "metadata": {},
   "outputs": [
    {
     "name": "stderr",
     "output_type": "stream",
     "text": [
      "<ipython-input-16-6272784ec5ca>:1: SettingWithCopyWarning: \n",
      "A value is trying to be set on a copy of a slice from a DataFrame.\n",
      "Try using .loc[row_indexer,col_indexer] = value instead\n",
      "\n",
      "See the caveats in the documentation: https://pandas.pydata.org/pandas-docs/stable/user_guide/indexing.html#returning-a-view-versus-a-copy\n",
      "  df_3['Hist_type'] = df_3['Hist_type'].replace([\"mucinozni invazivni \"],\"mucinozni invazivni\")\n"
     ]
    }
   ],
   "source": [
    "df_3['Hist_type'] = df_3['Hist_type'].replace([\"mucinozni invazivni \"],\"mucinozni invazivni\")"
   ]
  },
  {
   "cell_type": "code",
   "execution_count": 17,
   "id": "8aef9f6d-9a45-4b2c-80a8-05b4d289d810",
   "metadata": {},
   "outputs": [
    {
     "name": "stderr",
     "output_type": "stream",
     "text": [
      "<ipython-input-17-39548555ebea>:2: SettingWithCopyWarning: \n",
      "A value is trying to be set on a copy of a slice from a DataFrame.\n",
      "Try using .loc[row_indexer,col_indexer] = value instead\n",
      "\n",
      "See the caveats in the documentation: https://pandas.pydata.org/pandas-docs/stable/user_guide/indexing.html#returning-a-view-versus-a-copy\n",
      "  df_3['Hist_type'] = df_3['Hist_type'].replace([\"drugi rijetki tipovi \"],\"drugi rijetki tipovi\")\n",
      "<ipython-input-17-39548555ebea>:5: SettingWithCopyWarning: \n",
      "A value is trying to be set on a copy of a slice from a DataFrame.\n",
      "Try using .loc[row_indexer,col_indexer] = value instead\n",
      "\n",
      "See the caveats in the documentation: https://pandas.pydata.org/pandas-docs/stable/user_guide/indexing.html#returning-a-view-versus-a-copy\n",
      "  df_3['Hist_type'] = df_3['Hist_type'].replace([\"tubularni invazivni \"],\"tubularni invazivni\")\n",
      "<ipython-input-17-39548555ebea>:8: SettingWithCopyWarning: \n",
      "A value is trying to be set on a copy of a slice from a DataFrame.\n",
      "Try using .loc[row_indexer,col_indexer] = value instead\n",
      "\n",
      "See the caveats in the documentation: https://pandas.pydata.org/pandas-docs/stable/user_guide/indexing.html#returning-a-view-versus-a-copy\n",
      "  df_3['Hist_type'] = df_3['Hist_type'].replace([\"kribriformni invazivni \"],\"kribriformni invazivni\")\n",
      "<ipython-input-17-39548555ebea>:10: SettingWithCopyWarning: \n",
      "A value is trying to be set on a copy of a slice from a DataFrame.\n",
      "Try using .loc[row_indexer,col_indexer] = value instead\n",
      "\n",
      "See the caveats in the documentation: https://pandas.pydata.org/pandas-docs/stable/user_guide/indexing.html#returning-a-view-versus-a-copy\n",
      "  df_3['Hist_type'] = df_3['Hist_type'].replace([\"lobularni invazivni  \"],\"lobularni invazivni\")\n",
      "<ipython-input-17-39548555ebea>:12: SettingWithCopyWarning: \n",
      "A value is trying to be set on a copy of a slice from a DataFrame.\n",
      "Try using .loc[row_indexer,col_indexer] = value instead\n",
      "\n",
      "See the caveats in the documentation: https://pandas.pydata.org/pandas-docs/stable/user_guide/indexing.html#returning-a-view-versus-a-copy\n",
      "  df_3['Hist_type'] = df_3['Hist_type'].replace([\"metaplastični karcinom \"],\"metaplastični karcinom\")\n",
      "<ipython-input-17-39548555ebea>:14: SettingWithCopyWarning: \n",
      "A value is trying to be set on a copy of a slice from a DataFrame.\n",
      "Try using .loc[row_indexer,col_indexer] = value instead\n",
      "\n",
      "See the caveats in the documentation: https://pandas.pydata.org/pandas-docs/stable/user_guide/indexing.html#returning-a-view-versus-a-copy\n",
      "  df_3['Hist_type'] = df_3['Hist_type'].replace([\" mikropapilarni invazivni karcinom\"],\"mikropapilarni invazivni karcinom\")\n"
     ]
    }
   ],
   "source": [
    "# Cleaning drugi_rijetki_tipovi\n",
    "df_3['Hist_type'] = df_3['Hist_type'].replace([\"drugi rijetki tipovi \"],\"drugi rijetki tipovi\")\n",
    "\n",
    "# Cleaning tubularni_invazivni\n",
    "df_3['Hist_type'] = df_3['Hist_type'].replace([\"tubularni invazivni \"],\"tubularni invazivni\")\n",
    "\n",
    "# Cleaning kribiformni invazivni\n",
    "df_3['Hist_type'] = df_3['Hist_type'].replace([\"kribriformni invazivni \"],\"kribriformni invazivni\")\n",
    "\n",
    "df_3['Hist_type'] = df_3['Hist_type'].replace([\"lobularni invazivni  \"],\"lobularni invazivni\")\n",
    "\n",
    "df_3['Hist_type'] = df_3['Hist_type'].replace([\"metaplastični karcinom \"],\"metaplastični karcinom\")\n",
    "\n",
    "df_3['Hist_type'] = df_3['Hist_type'].replace([\" mikropapilarni invazivni karcinom\"],\"mikropapilarni invazivni karcinom\")"
   ]
  },
  {
   "cell_type": "code",
   "execution_count": 18,
   "id": "89c997d0-a610-48ad-84d4-638925f1c111",
   "metadata": {},
   "outputs": [
    {
     "name": "stderr",
     "output_type": "stream",
     "text": [
      "<ipython-input-18-6957627c7a72>:2: SettingWithCopyWarning: \n",
      "A value is trying to be set on a copy of a slice from a DataFrame.\n",
      "Try using .loc[row_indexer,col_indexer] = value instead\n",
      "\n",
      "See the caveats in the documentation: https://pandas.pydata.org/pandas-docs/stable/user_guide/indexing.html#returning-a-view-versus-a-copy\n",
      "  df_3['Hist_type'] = df_3['Hist_type'].replace([\"inflamatorni\"],\"drugi rijetki tipovi\")\n",
      "<ipython-input-18-6957627c7a72>:4: SettingWithCopyWarning: \n",
      "A value is trying to be set on a copy of a slice from a DataFrame.\n",
      "Try using .loc[row_indexer,col_indexer] = value instead\n",
      "\n",
      "See the caveats in the documentation: https://pandas.pydata.org/pandas-docs/stable/user_guide/indexing.html#returning-a-view-versus-a-copy\n",
      "  df_3['Hist_type'] = df_3['Hist_type'].replace([\"miješani NOS/lobularni\"],\"drugi rijetki tipovi\")\n",
      "<ipython-input-18-6957627c7a72>:6: SettingWithCopyWarning: \n",
      "A value is trying to be set on a copy of a slice from a DataFrame.\n",
      "Try using .loc[row_indexer,col_indexer] = value instead\n",
      "\n",
      "See the caveats in the documentation: https://pandas.pydata.org/pandas-docs/stable/user_guide/indexing.html#returning-a-view-versus-a-copy\n",
      "  df_3['Hist_type'] = df_3['Hist_type'].replace([\"metaplastični karcinom\"],\"drugi rijetki tipovi\")\n",
      "<ipython-input-18-6957627c7a72>:8: SettingWithCopyWarning: \n",
      "A value is trying to be set on a copy of a slice from a DataFrame.\n",
      "Try using .loc[row_indexer,col_indexer] = value instead\n",
      "\n",
      "See the caveats in the documentation: https://pandas.pydata.org/pandas-docs/stable/user_guide/indexing.html#returning-a-view-versus-a-copy\n",
      "  df_3['Hist_type'] = df_3['Hist_type'].replace([\"Ca s apokrinom diferencijacijom\"],\"drugi rijetki tipovi\")\n",
      "<ipython-input-18-6957627c7a72>:10: SettingWithCopyWarning: \n",
      "A value is trying to be set on a copy of a slice from a DataFrame.\n",
      "Try using .loc[row_indexer,col_indexer] = value instead\n",
      "\n",
      "See the caveats in the documentation: https://pandas.pydata.org/pandas-docs/stable/user_guide/indexing.html#returning-a-view-versus-a-copy\n",
      "  df_3['Hist_type'] = df_3['Hist_type'].replace([\"mikroinvazivni karcinom\"],\"drugi rijetki tipovi\")\n",
      "<ipython-input-18-6957627c7a72>:12: SettingWithCopyWarning: \n",
      "A value is trying to be set on a copy of a slice from a DataFrame.\n",
      "Try using .loc[row_indexer,col_indexer] = value instead\n",
      "\n",
      "See the caveats in the documentation: https://pandas.pydata.org/pandas-docs/stable/user_guide/indexing.html#returning-a-view-versus-a-copy\n",
      "  df_3['Hist_type'] = df_3['Hist_type'].replace([\"tubularni invazivni\"],\"drugi rijetki tipovi\")\n"
     ]
    }
   ],
   "source": [
    "# Changing to \"drugi rijetki tipovi\"\n",
    "df_3['Hist_type'] = df_3['Hist_type'].replace([\"inflamatorni\"],\"drugi rijetki tipovi\")\n",
    "\n",
    "df_3['Hist_type'] = df_3['Hist_type'].replace([\"miješani NOS/lobularni\"],\"drugi rijetki tipovi\")\n",
    "\n",
    "df_3['Hist_type'] = df_3['Hist_type'].replace([\"metaplastični karcinom\"],\"drugi rijetki tipovi\")\n",
    "\n",
    "df_3['Hist_type'] = df_3['Hist_type'].replace([\"Ca s apokrinom diferencijacijom\"],\"drugi rijetki tipovi\")\n",
    "\n",
    "df_3['Hist_type'] = df_3['Hist_type'].replace([\"mikroinvazivni karcinom\"],\"drugi rijetki tipovi\")\n",
    "\n",
    "df_3['Hist_type'] = df_3['Hist_type'].replace([\"tubularni invazivni\"],\"drugi rijetki tipovi\")"
   ]
  },
  {
   "cell_type": "code",
   "execution_count": 19,
   "id": "1ed5dc70-53cc-4d0c-87a4-e6816cccc86d",
   "metadata": {},
   "outputs": [
    {
     "name": "stderr",
     "output_type": "stream",
     "text": [
      "<ipython-input-19-32714ce569ad>:1: SettingWithCopyWarning: \n",
      "A value is trying to be set on a copy of a slice from a DataFrame.\n",
      "Try using .loc[row_indexer,col_indexer] = value instead\n",
      "\n",
      "See the caveats in the documentation: https://pandas.pydata.org/pandas-docs/stable/user_guide/indexing.html#returning-a-view-versus-a-copy\n",
      "  df_3['Hist_type'] = df_3['Hist_type'].replace([\"Ca tipa prstena pečatnjaka\"],\"drugi rijetki tipovi\")\n",
      "<ipython-input-19-32714ce569ad>:3: SettingWithCopyWarning: \n",
      "A value is trying to be set on a copy of a slice from a DataFrame.\n",
      "Try using .loc[row_indexer,col_indexer] = value instead\n",
      "\n",
      "See the caveats in the documentation: https://pandas.pydata.org/pandas-docs/stable/user_guide/indexing.html#returning-a-view-versus-a-copy\n",
      "  df_3['Hist_type'] = df_3['Hist_type'].replace([\"ne\"],\"drugi rijetki tipovi\")\n"
     ]
    }
   ],
   "source": [
    "df_3['Hist_type'] = df_3['Hist_type'].replace([\"Ca tipa prstena pečatnjaka\"],\"drugi rijetki tipovi\")\n",
    "\n",
    "df_3['Hist_type'] = df_3['Hist_type'].replace([\"ne\"],\"drugi rijetki tipovi\")"
   ]
  },
  {
   "cell_type": "code",
   "execution_count": 20,
   "id": "675318c8-a432-4cbd-81e2-456d474a6775",
   "metadata": {},
   "outputs": [
    {
     "data": {
      "text/plain": [
       "array(['luminal B ', 'HER2 pozitivni', 'luminal A', 'luminal B',\n",
       "       'trostruko negativni', 'Luminal B HER2poz', 'luminal B HER2poz',\n",
       "       'luminal a', 'luminal A '], dtype=object)"
      ]
     },
     "execution_count": 20,
     "metadata": {},
     "output_type": "execute_result"
    }
   ],
   "source": [
    "# Checking types for \"Immunohist_type\"\n",
    "df_3[\"Immunohist_type\"].unique()"
   ]
  },
  {
   "cell_type": "code",
   "execution_count": 21,
   "id": "adcc5207-0390-428f-96cd-3e9aa5428114",
   "metadata": {},
   "outputs": [
    {
     "data": {
      "text/plain": [
       "luminal B              4046\n",
       "luminal A              2799\n",
       "Luminal B HER2poz       969\n",
       "trostruko negativni     861\n",
       "luminal B               670\n",
       "HER2 pozitivni          361\n",
       "luminal B HER2poz         1\n",
       "luminal a                 1\n",
       "luminal A                 1\n",
       "Name: Immunohist_type, dtype: int64"
      ]
     },
     "execution_count": 21,
     "metadata": {},
     "output_type": "execute_result"
    }
   ],
   "source": [
    "# Value count for \"Immunohist_type\"\n",
    "df_3[\"Immunohist_type\"].value_counts()"
   ]
  },
  {
   "cell_type": "code",
   "execution_count": 22,
   "id": "a1e999d5-3882-455d-b392-816fa1e70c60",
   "metadata": {},
   "outputs": [
    {
     "name": "stderr",
     "output_type": "stream",
     "text": [
      "<ipython-input-22-04d45348cd75>:1: SettingWithCopyWarning: \n",
      "A value is trying to be set on a copy of a slice from a DataFrame.\n",
      "Try using .loc[row_indexer,col_indexer] = value instead\n",
      "\n",
      "See the caveats in the documentation: https://pandas.pydata.org/pandas-docs/stable/user_guide/indexing.html#returning-a-view-versus-a-copy\n",
      "  df_3['Immunohist_type'] = df_3['Immunohist_type'].replace([\"luminal A \"],\"luminal A\")\n",
      "<ipython-input-22-04d45348cd75>:3: SettingWithCopyWarning: \n",
      "A value is trying to be set on a copy of a slice from a DataFrame.\n",
      "Try using .loc[row_indexer,col_indexer] = value instead\n",
      "\n",
      "See the caveats in the documentation: https://pandas.pydata.org/pandas-docs/stable/user_guide/indexing.html#returning-a-view-versus-a-copy\n",
      "  df_3['Immunohist_type'] = df_3['Immunohist_type'].replace([\"luminal a\"],\"luminal A\")\n",
      "<ipython-input-22-04d45348cd75>:5: SettingWithCopyWarning: \n",
      "A value is trying to be set on a copy of a slice from a DataFrame.\n",
      "Try using .loc[row_indexer,col_indexer] = value instead\n",
      "\n",
      "See the caveats in the documentation: https://pandas.pydata.org/pandas-docs/stable/user_guide/indexing.html#returning-a-view-versus-a-copy\n",
      "  df_3['Immunohist_type'] = df_3['Immunohist_type'].replace([\"luminal B \"],\"luminal B\")\n",
      "<ipython-input-22-04d45348cd75>:7: SettingWithCopyWarning: \n",
      "A value is trying to be set on a copy of a slice from a DataFrame.\n",
      "Try using .loc[row_indexer,col_indexer] = value instead\n",
      "\n",
      "See the caveats in the documentation: https://pandas.pydata.org/pandas-docs/stable/user_guide/indexing.html#returning-a-view-versus-a-copy\n",
      "  df_3['Immunohist_type'] = df_3['Immunohist_type'].replace([\"luminal a\"],\"luminal A\")\n",
      "<ipython-input-22-04d45348cd75>:9: SettingWithCopyWarning: \n",
      "A value is trying to be set on a copy of a slice from a DataFrame.\n",
      "Try using .loc[row_indexer,col_indexer] = value instead\n",
      "\n",
      "See the caveats in the documentation: https://pandas.pydata.org/pandas-docs/stable/user_guide/indexing.html#returning-a-view-versus-a-copy\n",
      "  df_3['Immunohist_type'] = df_3['Immunohist_type'].replace([\"luminal B HER2poz\"],\"Luminal B HER2poz\")\n"
     ]
    }
   ],
   "source": [
    "df_3['Immunohist_type'] = df_3['Immunohist_type'].replace([\"luminal A \"],\"luminal A\")\n",
    "\n",
    "df_3['Immunohist_type'] = df_3['Immunohist_type'].replace([\"luminal a\"],\"luminal A\")\n",
    "\n",
    "df_3['Immunohist_type'] = df_3['Immunohist_type'].replace([\"luminal B \"],\"luminal B\")\n",
    "\n",
    "df_3['Immunohist_type'] = df_3['Immunohist_type'].replace([\"luminal a\"],\"luminal A\")\n",
    "\n",
    "df_3['Immunohist_type'] = df_3['Immunohist_type'].replace([\"luminal B HER2poz\"],\"Luminal B HER2poz\")"
   ]
  },
  {
   "cell_type": "code",
   "execution_count": 23,
   "id": "1070ba60-1704-47ef-9d9c-464aedae38a0",
   "metadata": {},
   "outputs": [
    {
     "data": {
      "text/plain": [
       "Age                float64\n",
       "Sample_source       object\n",
       "Tumour_type         object\n",
       "Tm_size             object\n",
       "??                  object\n",
       "Hist_type           object\n",
       "Gradus              object\n",
       "ER                  object\n",
       "PR                  object\n",
       "HER-2              float64\n",
       "Ki-67               object\n",
       "Immunohist_type     object\n",
       "lymph_meta          object\n",
       "dtype: object"
      ]
     },
     "execution_count": 23,
     "metadata": {},
     "output_type": "execute_result"
    }
   ],
   "source": [
    "# Checking datatypes:\n",
    "df_3.dtypes"
   ]
  },
  {
   "cell_type": "code",
   "execution_count": 28,
   "id": "287db3de-d4e5-43fd-8d1a-a133d83d2244",
   "metadata": {},
   "outputs": [
    {
     "data": {
      "text/plain": [
       "array([15.  ,  1.2 ,  1.6 ,  2.2 ,  2.5 ,  4.5 ,  3.  ,  0.2 ,  1.5 ,\n",
       "        0.7 ,  1.4 ,  2.  ,  0.9 ,  1.7 ,  1.9 ,  7.  ,  2.8 ,  1.1 ,\n",
       "        4.2 ,  1.8 ,  2.7 ,  2.3 ,  3.5 ,  5.5 ,  1.3 ,  1.  ,  6.5 ,\n",
       "        2.6 ,  2.4 ,  4.  ,  0.1 ,  9.  ,  0.6 ,  0.8 ,  5.2 ,  2.1 ,\n",
       "        6.6 ,  0.3 ,  3.2 ,  3.8 ,  5.  ,  3.4 , 14.  ,  6.  ,  3.7 ,\n",
       "       12.  ,  0.5 , 10.  ,  0.15,  3.3 ,  0.4 ,  4.7 ,  3.1 ,  4.4 ,\n",
       "        7.8 ,  5.1 ,  8.5 , 11.  ,  0.25,  4.3 ,  2.9 ,  4.8 ,  0.19,\n",
       "        7.2 ,  4.9 ,  5.8 ,  0.38,  7.5 ,  8.  ,  9.5 ,  5.7 ,  3.6 ,\n",
       "       10.5 ,  5.4 ,  6.2 ,  8.4 ,  8.1 ,  3.9 ,  6.3 ,  9.2 , 13.  ,\n",
       "        6.7 ,  0.13, 19.  , 18.5 ,  6.8 , 20.  , 11.5 , 16.  , 12.5 ,\n",
       "        7.6 ,  4.6 ,  5.3 ,  0.12,  4.1 ,  5.6 ,  6.4 ,  7.7 ,  0.18,\n",
       "        0.35,  8.8 , 22.  ,  1.15,  0.  , 18.  ,  0.36,  5.9 ])"
      ]
     },
     "execution_count": 28,
     "metadata": {},
     "output_type": "execute_result"
    }
   ],
   "source": [
    "# Checking unique values for tumour size\n",
    "df_3[\"Tm_size\"].unique()"
   ]
  },
  {
   "cell_type": "code",
   "execution_count": 25,
   "id": "422ca2a6-c2a2-418e-a22a-e23a22857990",
   "metadata": {},
   "outputs": [
    {
     "name": "stderr",
     "output_type": "stream",
     "text": [
      "<ipython-input-25-0fd52b4fad63>:1: SettingWithCopyWarning: \n",
      "A value is trying to be set on a copy of a slice from a DataFrame.\n",
      "Try using .loc[row_indexer,col_indexer] = value instead\n",
      "\n",
      "See the caveats in the documentation: https://pandas.pydata.org/pandas-docs/stable/user_guide/indexing.html#returning-a-view-versus-a-copy\n",
      "  df_3['Tm_size'] = df_3['Tm_size'].replace([\"1,6 cm\"],\"1.6\")\n",
      "<ipython-input-25-0fd52b4fad63>:3: SettingWithCopyWarning: \n",
      "A value is trying to be set on a copy of a slice from a DataFrame.\n",
      "Try using .loc[row_indexer,col_indexer] = value instead\n",
      "\n",
      "See the caveats in the documentation: https://pandas.pydata.org/pandas-docs/stable/user_guide/indexing.html#returning-a-view-versus-a-copy\n",
      "  df_3['Tm_size'] = df_3['Tm_size'].replace([\"1,2 cm\"],\"1.2\")\n"
     ]
    }
   ],
   "source": [
    "df_3['Tm_size'] = df_3['Tm_size'].replace([\"1,6 cm\"],\"1.6\")\n",
    "\n",
    "df_3['Tm_size'] = df_3['Tm_size'].replace([\"1,2 cm\"],\"1.2\")"
   ]
  },
  {
   "cell_type": "code",
   "execution_count": 27,
   "id": "5ca5b9cd-83b9-40a4-8c49-318dc5d2907f",
   "metadata": {},
   "outputs": [
    {
     "name": "stderr",
     "output_type": "stream",
     "text": [
      "<ipython-input-27-954c9540907d>:1: SettingWithCopyWarning: \n",
      "A value is trying to be set on a copy of a slice from a DataFrame.\n",
      "Try using .loc[row_indexer,col_indexer] = value instead\n",
      "\n",
      "See the caveats in the documentation: https://pandas.pydata.org/pandas-docs/stable/user_guide/indexing.html#returning-a-view-versus-a-copy\n",
      "  df_3[\"Tm_size\"] = df_3[\"Tm_size\"].astype(\"float\")\n"
     ]
    }
   ],
   "source": [
    "df_3[\"Tm_size\"] = df_3[\"Tm_size\"].astype(\"float\")"
   ]
  },
  {
   "cell_type": "code",
   "execution_count": 29,
   "id": "7509751e-71ff-4d97-93cd-0625b54eceea",
   "metadata": {},
   "outputs": [
    {
     "data": {
      "text/plain": [
       "array([2, 3, 1, 'NOS - invazivni karcinom ', 'G2'], dtype=object)"
      ]
     },
     "execution_count": 29,
     "metadata": {},
     "output_type": "execute_result"
    }
   ],
   "source": [
    "# Checking unique values for Gradus\n",
    "df_3[\"Gradus\"].unique()"
   ]
  },
  {
   "cell_type": "code",
   "execution_count": 30,
   "id": "e08e46c0-3e41-4d62-b653-854efcd8bf74",
   "metadata": {},
   "outputs": [
    {
     "name": "stderr",
     "output_type": "stream",
     "text": [
      "<ipython-input-30-05b420191cd1>:1: SettingWithCopyWarning: \n",
      "A value is trying to be set on a copy of a slice from a DataFrame.\n",
      "Try using .loc[row_indexer,col_indexer] = value instead\n",
      "\n",
      "See the caveats in the documentation: https://pandas.pydata.org/pandas-docs/stable/user_guide/indexing.html#returning-a-view-versus-a-copy\n",
      "  df_3['Gradus'] = df_3['Gradus'].replace(['G2'],\"2\")\n"
     ]
    }
   ],
   "source": [
    "df_3['Gradus'] = df_3['Gradus'].replace(['G2'],\"2\")"
   ]
  },
  {
   "cell_type": "code",
   "execution_count": 32,
   "id": "2e5a2143-7151-43b2-a5e0-c6ff61503d83",
   "metadata": {},
   "outputs": [
    {
     "name": "stderr",
     "output_type": "stream",
     "text": [
      "<ipython-input-32-bc0e1f665c5f>:1: SettingWithCopyWarning: \n",
      "A value is trying to be set on a copy of a slice from a DataFrame.\n",
      "Try using .loc[row_indexer,col_indexer] = value instead\n",
      "\n",
      "See the caveats in the documentation: https://pandas.pydata.org/pandas-docs/stable/user_guide/indexing.html#returning-a-view-versus-a-copy\n",
      "  df_3['Gradus'] = df_3['Gradus'].replace(['NOS - invazivni karcinom '],\"2\")\n"
     ]
    }
   ],
   "source": [
    "df_3['Gradus'] = df_3['Gradus'].replace(['NOS - invazivni karcinom '],\"2\")"
   ]
  },
  {
   "cell_type": "code",
   "execution_count": 33,
   "id": "d42a9d03-ced7-4b2f-8349-ac9c3a2a8e3d",
   "metadata": {},
   "outputs": [
    {
     "name": "stderr",
     "output_type": "stream",
     "text": [
      "<ipython-input-33-f93ff34d4917>:1: SettingWithCopyWarning: \n",
      "A value is trying to be set on a copy of a slice from a DataFrame.\n",
      "Try using .loc[row_indexer,col_indexer] = value instead\n",
      "\n",
      "See the caveats in the documentation: https://pandas.pydata.org/pandas-docs/stable/user_guide/indexing.html#returning-a-view-versus-a-copy\n",
      "  df_3[\"Gradus\"] = df_3[\"Gradus\"].astype(\"int\")\n"
     ]
    }
   ],
   "source": [
    "df_3[\"Gradus\"] = df_3[\"Gradus\"].astype(\"int\")"
   ]
  },
  {
   "cell_type": "code",
   "execution_count": 34,
   "id": "942d1d80-67aa-4c65-9d90-27e0c630a910",
   "metadata": {},
   "outputs": [
    {
     "data": {
      "text/plain": [
       "array([5, 0, 1, 13, 4, 2, 9, 12, 17, 3, 7, 22, 8, 6, 20, 15, 11, 10, 19,\n",
       "       14, 16, 18, 21, 25, 27, 23, 28, 29, 34, 24, 'T1bN0', 26, 30],\n",
       "      dtype=object)"
      ]
     },
     "execution_count": 34,
     "metadata": {},
     "output_type": "execute_result"
    }
   ],
   "source": [
    "# Checking unique values for lymph_meta\n",
    "df_3[\"lymph_meta\"].unique()"
   ]
  },
  {
   "cell_type": "code",
   "execution_count": 35,
   "id": "f84a0b6e-5be6-4707-b973-dabf8b491516",
   "metadata": {},
   "outputs": [
    {
     "data": {
      "text/html": [
       "<div>\n",
       "<style scoped>\n",
       "    .dataframe tbody tr th:only-of-type {\n",
       "        vertical-align: middle;\n",
       "    }\n",
       "\n",
       "    .dataframe tbody tr th {\n",
       "        vertical-align: top;\n",
       "    }\n",
       "\n",
       "    .dataframe thead th {\n",
       "        text-align: right;\n",
       "    }\n",
       "</style>\n",
       "<table border=\"1\" class=\"dataframe\">\n",
       "  <thead>\n",
       "    <tr style=\"text-align: right;\">\n",
       "      <th></th>\n",
       "      <th>Age</th>\n",
       "      <th>Sample_source</th>\n",
       "      <th>Tumour_type</th>\n",
       "      <th>Tm_size</th>\n",
       "      <th>??</th>\n",
       "      <th>Hist_type</th>\n",
       "      <th>Gradus</th>\n",
       "      <th>ER</th>\n",
       "      <th>PR</th>\n",
       "      <th>HER-2</th>\n",
       "      <th>Ki-67</th>\n",
       "      <th>Immunohist_type</th>\n",
       "      <th>lymph_meta</th>\n",
       "    </tr>\n",
       "  </thead>\n",
       "  <tbody>\n",
       "    <tr>\n",
       "      <th>7435</th>\n",
       "      <td>59.0</td>\n",
       "      <td>kvadrantektomija</td>\n",
       "      <td>kompletno operiran tumor u vašoj ustanovi</td>\n",
       "      <td>1.0</td>\n",
       "      <td>solitaran</td>\n",
       "      <td>lobularni invazivni</td>\n",
       "      <td>2</td>\n",
       "      <td>100</td>\n",
       "      <td>90</td>\n",
       "      <td>1.0</td>\n",
       "      <td>5</td>\n",
       "      <td>luminal A</td>\n",
       "      <td>T1bN0</td>\n",
       "    </tr>\n",
       "  </tbody>\n",
       "</table>\n",
       "</div>"
      ],
      "text/plain": [
       "       Age     Sample_source                                Tumour_type  \\\n",
       "7435  59.0  kvadrantektomija  kompletno operiran tumor u vašoj ustanovi   \n",
       "\n",
       "      Tm_size         ??            Hist_type  Gradus   ER  PR  HER-2 Ki-67  \\\n",
       "7435      1.0  solitaran  lobularni invazivni       2  100  90    1.0     5   \n",
       "\n",
       "     Immunohist_type lymph_meta  \n",
       "7435       luminal A      T1bN0  "
      ]
     },
     "execution_count": 35,
     "metadata": {},
     "output_type": "execute_result"
    }
   ],
   "source": [
    "df_3[df_3[\"lymph_meta\"]==\"T1bN0\"]"
   ]
  },
  {
   "cell_type": "code",
   "execution_count": 36,
   "id": "85d38333-1dfc-463c-987f-8a65bb92896f",
   "metadata": {},
   "outputs": [
    {
     "name": "stderr",
     "output_type": "stream",
     "text": [
      "<ipython-input-36-1096e5fe1237>:1: SettingWithCopyWarning: \n",
      "A value is trying to be set on a copy of a slice from a DataFrame.\n",
      "Try using .loc[row_indexer,col_indexer] = value instead\n",
      "\n",
      "See the caveats in the documentation: https://pandas.pydata.org/pandas-docs/stable/user_guide/indexing.html#returning-a-view-versus-a-copy\n",
      "  df_3['lymph_meta'] = df_3['lymph_meta'].replace(['T1bN0'],\"0\")\n"
     ]
    }
   ],
   "source": [
    "df_3['lymph_meta'] = df_3['lymph_meta'].replace(['T1bN0'],\"0\")"
   ]
  },
  {
   "cell_type": "code",
   "execution_count": 37,
   "id": "836a2547-33ad-4b8a-950f-d1b4eeac853e",
   "metadata": {},
   "outputs": [
    {
     "name": "stderr",
     "output_type": "stream",
     "text": [
      "<ipython-input-37-33ec09edbc45>:1: SettingWithCopyWarning: \n",
      "A value is trying to be set on a copy of a slice from a DataFrame.\n",
      "Try using .loc[row_indexer,col_indexer] = value instead\n",
      "\n",
      "See the caveats in the documentation: https://pandas.pydata.org/pandas-docs/stable/user_guide/indexing.html#returning-a-view-versus-a-copy\n",
      "  df_3[\"lymph_meta\"] = df_3[\"lymph_meta\"].astype(\"int\")\n"
     ]
    }
   ],
   "source": [
    "df_3[\"lymph_meta\"] = df_3[\"lymph_meta\"].astype(\"int\")"
   ]
  },
  {
   "cell_type": "code",
   "execution_count": 38,
   "id": "cfd7f028-7f6b-4724-a7b2-ac7c9d8f819e",
   "metadata": {},
   "outputs": [
    {
     "data": {
      "text/plain": [
       "0     6414\n",
       "1     1413\n",
       "2      594\n",
       "3      295\n",
       "4      203\n",
       "5      169\n",
       "6      128\n",
       "7      100\n",
       "8       71\n",
       "10      51\n",
       "9       48\n",
       "11      39\n",
       "13      38\n",
       "12      29\n",
       "14      25\n",
       "15      21\n",
       "16      17\n",
       "20      11\n",
       "18      10\n",
       "19       7\n",
       "17       6\n",
       "22       3\n",
       "26       3\n",
       "21       3\n",
       "27       2\n",
       "23       2\n",
       "25       2\n",
       "28       1\n",
       "29       1\n",
       "34       1\n",
       "24       1\n",
       "30       1\n",
       "Name: lymph_meta, dtype: int64"
      ]
     },
     "execution_count": 38,
     "metadata": {},
     "output_type": "execute_result"
    }
   ],
   "source": [
    "df_3[\"lymph_meta\"].value_counts()"
   ]
  },
  {
   "cell_type": "code",
   "execution_count": 39,
   "id": "101eb31d-1e09-4c97-a7ee-382bbc4b9053",
   "metadata": {},
   "outputs": [
    {
     "name": "stderr",
     "output_type": "stream",
     "text": [
      "<ipython-input-39-4f4de76c3259>:1: SettingWithCopyWarning: \n",
      "A value is trying to be set on a copy of a slice from a DataFrame.\n",
      "Try using .loc[row_indexer,col_indexer] = value instead\n",
      "\n",
      "See the caveats in the documentation: https://pandas.pydata.org/pandas-docs/stable/user_guide/indexing.html#returning-a-view-versus-a-copy\n",
      "  df_3[\"ER\"] = df_3[\"ER\"].astype(\"float\")\n",
      "<ipython-input-39-4f4de76c3259>:3: SettingWithCopyWarning: \n",
      "A value is trying to be set on a copy of a slice from a DataFrame.\n",
      "Try using .loc[row_indexer,col_indexer] = value instead\n",
      "\n",
      "See the caveats in the documentation: https://pandas.pydata.org/pandas-docs/stable/user_guide/indexing.html#returning-a-view-versus-a-copy\n",
      "  df_3[\"PR\"] = df_3[\"PR\"].astype(\"float\")\n",
      "<ipython-input-39-4f4de76c3259>:5: SettingWithCopyWarning: \n",
      "A value is trying to be set on a copy of a slice from a DataFrame.\n",
      "Try using .loc[row_indexer,col_indexer] = value instead\n",
      "\n",
      "See the caveats in the documentation: https://pandas.pydata.org/pandas-docs/stable/user_guide/indexing.html#returning-a-view-versus-a-copy\n",
      "  df_3[\"HER-2\"] = df_3[\"HER-2\"].astype(\"float\")\n",
      "<ipython-input-39-4f4de76c3259>:7: SettingWithCopyWarning: \n",
      "A value is trying to be set on a copy of a slice from a DataFrame.\n",
      "Try using .loc[row_indexer,col_indexer] = value instead\n",
      "\n",
      "See the caveats in the documentation: https://pandas.pydata.org/pandas-docs/stable/user_guide/indexing.html#returning-a-view-versus-a-copy\n",
      "  df_3[\"Ki-67\"] = df_3[\"Ki-67\"].astype(\"float\")\n"
     ]
    }
   ],
   "source": [
    "# Changing other numerical types to float \n",
    "df_3[\"ER\"] = df_3[\"ER\"].astype(\"float\")\n",
    "\n",
    "df_3[\"PR\"] = df_3[\"PR\"].astype(\"float\")\n",
    "\n",
    "df_3[\"HER-2\"] = df_3[\"HER-2\"].astype(\"float\")\n",
    "\n",
    "df_3[\"Ki-67\"] = df_3[\"Ki-67\"].astype(\"float\")\n",
    "\n"
   ]
  },
  {
   "cell_type": "code",
   "execution_count": 41,
   "id": "e0ad67b7-049d-4fcf-9be9-5b048d6b2bc6",
   "metadata": {},
   "outputs": [
    {
     "data": {
      "text/plain": [
       "Age                float64\n",
       "Sample_source       object\n",
       "Tumour_type         object\n",
       "Tm_size            float64\n",
       "??                  object\n",
       "Hist_type           object\n",
       "Gradus               int32\n",
       "ER                 float64\n",
       "PR                 float64\n",
       "HER-2              float64\n",
       "Ki-67              float64\n",
       "Immunohist_type     object\n",
       "lymph_meta           int32\n",
       "dtype: object"
      ]
     },
     "execution_count": 41,
     "metadata": {},
     "output_type": "execute_result"
    }
   ],
   "source": [
    "df_3.dtypes"
   ]
  },
  {
   "cell_type": "code",
   "execution_count": 42,
   "id": "17aa9a48-5a83-4e6c-a6fa-44583389794b",
   "metadata": {},
   "outputs": [
    {
     "data": {
      "text/plain": [
       "Text(0.5, 1.0, 'Correlation Heatmap')"
      ]
     },
     "execution_count": 42,
     "metadata": {},
     "output_type": "execute_result"
    },
    {
     "data": {
      "image/png": "[encoded data removed]",
      "text/plain": [
       "<Figure size 1440x576 with 2 Axes>"
      ]
     },
     "metadata": {
      "needs_background": "light"
     },
     "output_type": "display_data"
    }
   ],
   "source": [
    "# Increasing the heatmap size\n",
    "plt.figure(figsize=(20, 8))\n",
    "\n",
    "# Plotting correlations\n",
    "heatmap= sns.heatmap(df_3.corr(),annot=True)\n",
    "heatmap.set_title('Correlation Heatmap', fontdict={'fontsize':12}, pad=12)"
   ]
  },
  {
   "cell_type": "code",
   "execution_count": 49,
   "id": "526b9055-9a5a-458e-a748-0cfed3e9e6cc",
   "metadata": {},
   "outputs": [
    {
     "data": {
      "text/plain": [
       "kvadrantektomija                                4978\n",
       "klasična mastektomija                           2978\n",
       "mastektomija nakon neoadjuvantnog liječenja      594\n",
       "subkutana mastektomija                           561\n",
       "tumorektomija                                    492\n",
       "mastektomija nakon neoadjuvantnog liječenja       94\n",
       "radikalna mastektomija                             4\n",
       "parafinski blok                                    3\n",
       "Tumorektomija                                      1\n",
       "otvorena biopsija tumora                           1\n",
       "jednostavna mastektomija                           1\n",
       "mastektomija                                       1\n",
       "Mastektomija nakon neoadjuvantnog liječenja        1\n",
       "Name: Sample_source, dtype: int64"
      ]
     },
     "execution_count": 49,
     "metadata": {},
     "output_type": "execute_result"
    }
   ],
   "source": [
    "# Checking values by sample source\n",
    "df_3[\"Sample_source\"].value_counts()"
   ]
  },
  {
   "cell_type": "code",
   "execution_count": 50,
   "id": "4eaaab18-193c-4965-8c32-da4adbf93769",
   "metadata": {},
   "outputs": [
    {
     "data": {
      "text/plain": [
       "kompletno operiran tumor u vašoj ustanovi    8383\n",
       "tumor koji se liječio neoadjuvantno          1323\n",
       "inicijalno metatatski tumor                     2\n",
       "tumor koji se liječio neoadjuvantno             1\n",
       "Name: Tumour_type, dtype: int64"
      ]
     },
     "execution_count": 50,
     "metadata": {},
     "output_type": "execute_result"
    }
   ],
   "source": [
    "# Checking values by tumour type\n",
    "df_3[\"Tumour_type\"].value_counts()"
   ]
  },
  {
   "cell_type": "code",
   "execution_count": 53,
   "id": "220c7720-2009-453e-9f9f-b41ba372c6a7",
   "metadata": {},
   "outputs": [
    {
     "data": {
      "text/plain": [
       "array(['inicijalno metatatski tumor',\n",
       "       'kompletno operiran tumor u vašoj ustanovi',\n",
       "       'tumor koji se liječio neoadjuvantno'], dtype=object)"
      ]
     },
     "execution_count": 53,
     "metadata": {},
     "output_type": "execute_result"
    }
   ],
   "source": [
    "df_3[\"Tumour_type\"].unique()"
   ]
  },
  {
   "cell_type": "code",
   "execution_count": 43,
   "id": "c8f4f9ee-7da6-4121-a4f2-165a84e47a3d",
   "metadata": {},
   "outputs": [
    {
     "name": "stderr",
     "output_type": "stream",
     "text": [
      "<ipython-input-43-b2a17d8666b4>:1: SettingWithCopyWarning: \n",
      "A value is trying to be set on a copy of a slice from a DataFrame.\n",
      "Try using .loc[row_indexer,col_indexer] = value instead\n",
      "\n",
      "See the caveats in the documentation: https://pandas.pydata.org/pandas-docs/stable/user_guide/indexing.html#returning-a-view-versus-a-copy\n",
      "  df_3['Tumour_type'] = df_3['Tumour_type'].replace([\"tumor koji se liječio neoadjuvantno \"],\"tumor koji se liječio neoadjuvantno\")\n"
     ]
    }
   ],
   "source": [
    "df_3['Tumour_type'] = df_3['Tumour_type'].replace([\"tumor koji se liječio neoadjuvantno \"],\"tumor koji se liječio neoadjuvantno\")"
   ]
  },
  {
   "cell_type": "code",
   "execution_count": 44,
   "id": "acbab1eb-9630-49f8-9943-5dada7cc6e59",
   "metadata": {},
   "outputs": [
    {
     "data": {
      "text/plain": [
       "44       False\n",
       "555      False\n",
       "645      False\n",
       "646      False\n",
       "647      False\n",
       "         ...  \n",
       "13567     True\n",
       "13568     True\n",
       "13574     True\n",
       "13577     True\n",
       "13578     True\n",
       "Name: Tumour_type, Length: 9709, dtype: bool"
      ]
     },
     "execution_count": 44,
     "metadata": {},
     "output_type": "execute_result"
    }
   ],
   "source": [
    "# Exctracting all rows which contain a substring \"Pneumonia\"\n",
    "result = df_3[\"Tumour_type\"].str.contains(pat = 'neoadjuvantno')\n",
    "\n",
    "result"
   ]
  },
  {
   "cell_type": "code",
   "execution_count": 45,
   "id": "eae2fca9-db21-4273-9e1a-e99512afa4de",
   "metadata": {},
   "outputs": [
    {
     "name": "stderr",
     "output_type": "stream",
     "text": [
      "<ipython-input-45-86bb35b43193>:3: SettingWithCopyWarning: \n",
      "A value is trying to be set on a copy of a slice from a DataFrame.\n",
      "Try using .loc[row_indexer,col_indexer] = value instead\n",
      "\n",
      "See the caveats in the documentation: https://pandas.pydata.org/pandas-docs/stable/user_guide/indexing.html#returning-a-view-versus-a-copy\n",
      "  df_3['Neoadj'] = result.map(temp)\n"
     ]
    }
   ],
   "source": [
    "# Creating a dictionary and mapping the values to create a new column in our dataframe\n",
    "temp = {True:1, False:0}\n",
    "df_3['Neoadj'] = result.map(temp)"
   ]
  },
  {
   "cell_type": "code",
   "execution_count": 46,
   "id": "aa871c30-ab4d-4603-b49f-bd8c893e4272",
   "metadata": {},
   "outputs": [
    {
     "data": {
      "text/plain": [
       "luminal B              4716\n",
       "luminal A              2801\n",
       "Luminal B HER2poz       970\n",
       "trostruko negativni     861\n",
       "HER2 pozitivni          361\n",
       "Name: Immunohist_type, dtype: int64"
      ]
     },
     "execution_count": 46,
     "metadata": {},
     "output_type": "execute_result"
    }
   ],
   "source": [
    "# Checking values by tumour type\n",
    "df_3[\"Immunohist_type\"].value_counts()"
   ]
  },
  {
   "cell_type": "code",
   "execution_count": 52,
   "id": "4c084e5f-3a5a-4bf4-8dee-fc39d79d89c6",
   "metadata": {},
   "outputs": [
    {
     "name": "stderr",
     "output_type": "stream",
     "text": [
      "<ipython-input-52-e1427351ab3f>:1: SettingWithCopyWarning: \n",
      "A value is trying to be set on a copy of a slice from a DataFrame\n",
      "\n",
      "See the caveats in the documentation: https://pandas.pydata.org/pandas-docs/stable/user_guide/indexing.html#returning-a-view-versus-a-copy\n",
      "  df_3.drop([\"Sample_source\",\"Tumour_type\"], axis=1, inplace=True)\n"
     ]
    }
   ],
   "source": [
    "df_3.drop([\"Sample_source\",\"Tumour_type\"], axis=1, inplace=True)"
   ]
  },
  {
   "cell_type": "code",
   "execution_count": 53,
   "id": "7ddebb47-9496-40df-9c8a-6377f77fbe39",
   "metadata": {},
   "outputs": [
    {
     "data": {
      "text/html": [
       "<div>\n",
       "<style scoped>\n",
       "    .dataframe tbody tr th:only-of-type {\n",
       "        vertical-align: middle;\n",
       "    }\n",
       "\n",
       "    .dataframe tbody tr th {\n",
       "        vertical-align: top;\n",
       "    }\n",
       "\n",
       "    .dataframe thead th {\n",
       "        text-align: right;\n",
       "    }\n",
       "</style>\n",
       "<table border=\"1\" class=\"dataframe\">\n",
       "  <thead>\n",
       "    <tr style=\"text-align: right;\">\n",
       "      <th></th>\n",
       "      <th>Age</th>\n",
       "      <th>Tm_size</th>\n",
       "      <th>??</th>\n",
       "      <th>Hist_type</th>\n",
       "      <th>Gradus</th>\n",
       "      <th>ER</th>\n",
       "      <th>PR</th>\n",
       "      <th>HER-2</th>\n",
       "      <th>Ki-67</th>\n",
       "      <th>Immunohist_type</th>\n",
       "      <th>lymph_meta</th>\n",
       "      <th>Neoadj</th>\n",
       "      <th>Target</th>\n",
       "    </tr>\n",
       "  </thead>\n",
       "  <tbody>\n",
       "    <tr>\n",
       "      <th>44</th>\n",
       "      <td>82.0</td>\n",
       "      <td>15.0</td>\n",
       "      <td>difuzno infiltrirajući</td>\n",
       "      <td>lobularni invazivni</td>\n",
       "      <td>2</td>\n",
       "      <td>99.0</td>\n",
       "      <td>95.0</td>\n",
       "      <td>2.0</td>\n",
       "      <td>26.0</td>\n",
       "      <td>luminal B</td>\n",
       "      <td>5</td>\n",
       "      <td>0</td>\n",
       "      <td>1</td>\n",
       "    </tr>\n",
       "    <tr>\n",
       "      <th>555</th>\n",
       "      <td>52.0</td>\n",
       "      <td>1.2</td>\n",
       "      <td>solitaran</td>\n",
       "      <td>NOS_invazivni</td>\n",
       "      <td>3</td>\n",
       "      <td>0.0</td>\n",
       "      <td>0.0</td>\n",
       "      <td>3.0</td>\n",
       "      <td>60.0</td>\n",
       "      <td>HER2 pozitivni</td>\n",
       "      <td>0</td>\n",
       "      <td>0</td>\n",
       "      <td>0</td>\n",
       "    </tr>\n",
       "    <tr>\n",
       "      <th>645</th>\n",
       "      <td>62.0</td>\n",
       "      <td>1.6</td>\n",
       "      <td>solitaran</td>\n",
       "      <td>NOS_invazivni</td>\n",
       "      <td>1</td>\n",
       "      <td>100.0</td>\n",
       "      <td>70.0</td>\n",
       "      <td>0.0</td>\n",
       "      <td>7.0</td>\n",
       "      <td>luminal A</td>\n",
       "      <td>0</td>\n",
       "      <td>0</td>\n",
       "      <td>0</td>\n",
       "    </tr>\n",
       "    <tr>\n",
       "      <th>646</th>\n",
       "      <td>62.0</td>\n",
       "      <td>2.2</td>\n",
       "      <td>solitaran</td>\n",
       "      <td>NOS_invazivni</td>\n",
       "      <td>2</td>\n",
       "      <td>95.0</td>\n",
       "      <td>93.0</td>\n",
       "      <td>1.0</td>\n",
       "      <td>9.0</td>\n",
       "      <td>luminal A</td>\n",
       "      <td>0</td>\n",
       "      <td>0</td>\n",
       "      <td>0</td>\n",
       "    </tr>\n",
       "    <tr>\n",
       "      <th>647</th>\n",
       "      <td>72.0</td>\n",
       "      <td>2.5</td>\n",
       "      <td>solitaran</td>\n",
       "      <td>lobularni invazivni</td>\n",
       "      <td>2</td>\n",
       "      <td>80.0</td>\n",
       "      <td>60.0</td>\n",
       "      <td>1.0</td>\n",
       "      <td>12.0</td>\n",
       "      <td>luminal A</td>\n",
       "      <td>0</td>\n",
       "      <td>0</td>\n",
       "      <td>0</td>\n",
       "    </tr>\n",
       "    <tr>\n",
       "      <th>...</th>\n",
       "      <td>...</td>\n",
       "      <td>...</td>\n",
       "      <td>...</td>\n",
       "      <td>...</td>\n",
       "      <td>...</td>\n",
       "      <td>...</td>\n",
       "      <td>...</td>\n",
       "      <td>...</td>\n",
       "      <td>...</td>\n",
       "      <td>...</td>\n",
       "      <td>...</td>\n",
       "      <td>...</td>\n",
       "      <td>...</td>\n",
       "    </tr>\n",
       "    <tr>\n",
       "      <th>13567</th>\n",
       "      <td>82.0</td>\n",
       "      <td>3.2</td>\n",
       "      <td>solitaran</td>\n",
       "      <td>NOS_invazivni</td>\n",
       "      <td>2</td>\n",
       "      <td>100.0</td>\n",
       "      <td>100.0</td>\n",
       "      <td>0.0</td>\n",
       "      <td>9.0</td>\n",
       "      <td>luminal A</td>\n",
       "      <td>0</td>\n",
       "      <td>1</td>\n",
       "      <td>0</td>\n",
       "    </tr>\n",
       "    <tr>\n",
       "      <th>13568</th>\n",
       "      <td>60.0</td>\n",
       "      <td>2.7</td>\n",
       "      <td>solitaran</td>\n",
       "      <td>NOS_invazivni</td>\n",
       "      <td>1</td>\n",
       "      <td>90.0</td>\n",
       "      <td>30.0</td>\n",
       "      <td>2.0</td>\n",
       "      <td>60.0</td>\n",
       "      <td>Luminal B HER2poz</td>\n",
       "      <td>0</td>\n",
       "      <td>1</td>\n",
       "      <td>0</td>\n",
       "    </tr>\n",
       "    <tr>\n",
       "      <th>13574</th>\n",
       "      <td>60.0</td>\n",
       "      <td>2.0</td>\n",
       "      <td>multipli</td>\n",
       "      <td>NOS_invazivni</td>\n",
       "      <td>2</td>\n",
       "      <td>100.0</td>\n",
       "      <td>10.0</td>\n",
       "      <td>2.0</td>\n",
       "      <td>18.0</td>\n",
       "      <td>Luminal B HER2poz</td>\n",
       "      <td>3</td>\n",
       "      <td>1</td>\n",
       "      <td>1</td>\n",
       "    </tr>\n",
       "    <tr>\n",
       "      <th>13577</th>\n",
       "      <td>42.0</td>\n",
       "      <td>1.1</td>\n",
       "      <td>solitaran</td>\n",
       "      <td>NOS_invazivni</td>\n",
       "      <td>2</td>\n",
       "      <td>98.0</td>\n",
       "      <td>98.0</td>\n",
       "      <td>1.0</td>\n",
       "      <td>65.0</td>\n",
       "      <td>luminal B</td>\n",
       "      <td>1</td>\n",
       "      <td>1</td>\n",
       "      <td>1</td>\n",
       "    </tr>\n",
       "    <tr>\n",
       "      <th>13578</th>\n",
       "      <td>51.0</td>\n",
       "      <td>3.0</td>\n",
       "      <td>solitaran</td>\n",
       "      <td>drugi rijetki tipovi</td>\n",
       "      <td>3</td>\n",
       "      <td>90.0</td>\n",
       "      <td>20.0</td>\n",
       "      <td>3.0</td>\n",
       "      <td>50.0</td>\n",
       "      <td>Luminal B HER2poz</td>\n",
       "      <td>13</td>\n",
       "      <td>1</td>\n",
       "      <td>1</td>\n",
       "    </tr>\n",
       "  </tbody>\n",
       "</table>\n",
       "<p>9709 rows × 13 columns</p>\n",
       "</div>"
      ],
      "text/plain": [
       "        Age  Tm_size                      ??             Hist_type  Gradus  \\\n",
       "44     82.0     15.0  difuzno infiltrirajući   lobularni invazivni       2   \n",
       "555    52.0      1.2               solitaran         NOS_invazivni       3   \n",
       "645    62.0      1.6               solitaran         NOS_invazivni       1   \n",
       "646    62.0      2.2               solitaran         NOS_invazivni       2   \n",
       "647    72.0      2.5               solitaran   lobularni invazivni       2   \n",
       "...     ...      ...                     ...                   ...     ...   \n",
       "13567  82.0      3.2               solitaran         NOS_invazivni       2   \n",
       "13568  60.0      2.7               solitaran         NOS_invazivni       1   \n",
       "13574  60.0      2.0                multipli         NOS_invazivni       2   \n",
       "13577  42.0      1.1               solitaran         NOS_invazivni       2   \n",
       "13578  51.0      3.0               solitaran  drugi rijetki tipovi       3   \n",
       "\n",
       "          ER     PR  HER-2  Ki-67    Immunohist_type  lymph_meta  Neoadj  \\\n",
       "44      99.0   95.0    2.0   26.0          luminal B           5       0   \n",
       "555      0.0    0.0    3.0   60.0     HER2 pozitivni           0       0   \n",
       "645    100.0   70.0    0.0    7.0          luminal A           0       0   \n",
       "646     95.0   93.0    1.0    9.0          luminal A           0       0   \n",
       "647     80.0   60.0    1.0   12.0          luminal A           0       0   \n",
       "...      ...    ...    ...    ...                ...         ...     ...   \n",
       "13567  100.0  100.0    0.0    9.0          luminal A           0       1   \n",
       "13568   90.0   30.0    2.0   60.0  Luminal B HER2poz           0       1   \n",
       "13574  100.0   10.0    2.0   18.0  Luminal B HER2poz           3       1   \n",
       "13577   98.0   98.0    1.0   65.0          luminal B           1       1   \n",
       "13578   90.0   20.0    3.0   50.0  Luminal B HER2poz          13       1   \n",
       "\n",
       "       Target  \n",
       "44          1  \n",
       "555         0  \n",
       "645         0  \n",
       "646         0  \n",
       "647         0  \n",
       "...       ...  \n",
       "13567       0  \n",
       "13568       0  \n",
       "13574       1  \n",
       "13577       1  \n",
       "13578       1  \n",
       "\n",
       "[9709 rows x 13 columns]"
      ]
     },
     "execution_count": 53,
     "metadata": {},
     "output_type": "execute_result"
    }
   ],
   "source": [
    "df_3"
   ]
  },
  {
   "cell_type": "code",
   "execution_count": 49,
   "id": "bead5fb2-abc2-4bf9-a21c-405145236c16",
   "metadata": {},
   "outputs": [
    {
     "name": "stderr",
     "output_type": "stream",
     "text": [
      "C:\\Users\\jvrdo\\anaconda3\\lib\\site-packages\\seaborn\\distributions.py:2557: FutureWarning: `distplot` is a deprecated function and will be removed in a future version. Please adapt your code to use either `displot` (a figure-level function with similar flexibility) or `histplot` (an axes-level function for histograms).\n",
      "  warnings.warn(msg, FutureWarning)\n"
     ]
    },
    {
     "data": {
      "text/plain": [
       "<AxesSubplot:xlabel='Tm_size', ylabel='Density'>"
      ]
     },
     "execution_count": 49,
     "metadata": {},
     "output_type": "execute_result"
    },
    {
     "data": {
      "image/png": "[encoded data removed]",
      "text/plain": [
       "<Figure size 432x288 with 1 Axes>"
      ]
     },
     "metadata": {
      "needs_background": "light"
     },
     "output_type": "display_data"
    }
   ],
   "source": [
    "sns.distplot(df_3[\"Tm_size\"])"
   ]
  },
  {
   "cell_type": "code",
   "execution_count": 47,
   "id": "c60f416e-27c7-4c86-981c-00c0a17cce93",
   "metadata": {},
   "outputs": [],
   "source": [
    "# saving the dataframe\n",
    "df_3.to_csv('ly_pred_clean_2')"
   ]
  },
  {
   "cell_type": "code",
   "execution_count": 54,
   "id": "72bc3f29-b18f-446a-91c4-7669181188a2",
   "metadata": {},
   "outputs": [],
   "source": [
    "df_dummies = pd.get_dummies(df_3, columns=['??',\"Hist_type\", \"Immunohist_type\"], drop_first=True)\n",
    "\n",
    "df_dummies.dropna(inplace=True)"
   ]
  },
  {
   "cell_type": "code",
   "execution_count": 50,
   "id": "72c4d05c-1bb6-43f1-a702-34c68722418b",
   "metadata": {},
   "outputs": [
    {
     "name": "stderr",
     "output_type": "stream",
     "text": [
      "<ipython-input-50-809a28196d4a>:10: SettingWithCopyWarning: \n",
      "A value is trying to be set on a copy of a slice from a DataFrame.\n",
      "Try using .loc[row_indexer,col_indexer] = value instead\n",
      "\n",
      "See the caveats in the documentation: https://pandas.pydata.org/pandas-docs/stable/user_guide/indexing.html#returning-a-view-versus-a-copy\n",
      "  df_3[\"Target\"] = df_3.apply(lambda df_3: target(df_3), axis=1)\n"
     ]
    }
   ],
   "source": [
    "# Creating a function that returns 1 if \"broj meta lc\" is >0:\n",
    "def target(df):\n",
    "    if df[\"lymph_meta\"] > 0:\n",
    "        return 1\n",
    "    else:\n",
    "        return 0\n",
    "    \n",
    "    \n",
    "# Applying function to our dataframe\n",
    "df_3[\"Target\"] = df_3.apply(lambda df_3: target(df_3), axis=1)"
   ]
  },
  {
   "cell_type": "code",
   "execution_count": 55,
   "id": "737bb85e-82cf-4fd3-92c0-d5a15e1208d5",
   "metadata": {},
   "outputs": [],
   "source": [
    "# Drop the old column\n",
    "df_dummies.drop(\"lymph_meta\", axis=1, inplace=True)"
   ]
  },
  {
   "cell_type": "code",
   "execution_count": 56,
   "id": "066de057-94b9-46c1-8456-87c0d6b6f32b",
   "metadata": {},
   "outputs": [
    {
     "data": {
      "text/html": [
       "<div>\n",
       "<style scoped>\n",
       "    .dataframe tbody tr th:only-of-type {\n",
       "        vertical-align: middle;\n",
       "    }\n",
       "\n",
       "    .dataframe tbody tr th {\n",
       "        vertical-align: top;\n",
       "    }\n",
       "\n",
       "    .dataframe thead th {\n",
       "        text-align: right;\n",
       "    }\n",
       "</style>\n",
       "<table border=\"1\" class=\"dataframe\">\n",
       "  <thead>\n",
       "    <tr style=\"text-align: right;\">\n",
       "      <th></th>\n",
       "      <th>Age</th>\n",
       "      <th>Tm_size</th>\n",
       "      <th>Gradus</th>\n",
       "      <th>ER</th>\n",
       "      <th>PR</th>\n",
       "      <th>HER-2</th>\n",
       "      <th>Ki-67</th>\n",
       "      <th>Neoadj</th>\n",
       "      <th>Target</th>\n",
       "      <th>??_bifokalan</th>\n",
       "      <th>...</th>\n",
       "      <th>Hist_type_NOS_invazivni</th>\n",
       "      <th>Hist_type_drugi rijetki tipovi</th>\n",
       "      <th>Hist_type_kribriformni invazivni</th>\n",
       "      <th>Hist_type_lobularni invazivni</th>\n",
       "      <th>Hist_type_mikropapilarni invazivni karcinom</th>\n",
       "      <th>Hist_type_mucinozni invazivni</th>\n",
       "      <th>Immunohist_type_Luminal B HER2poz</th>\n",
       "      <th>Immunohist_type_luminal A</th>\n",
       "      <th>Immunohist_type_luminal B</th>\n",
       "      <th>Immunohist_type_trostruko negativni</th>\n",
       "    </tr>\n",
       "  </thead>\n",
       "  <tbody>\n",
       "    <tr>\n",
       "      <th>44</th>\n",
       "      <td>82.0</td>\n",
       "      <td>15.0</td>\n",
       "      <td>2</td>\n",
       "      <td>99.0</td>\n",
       "      <td>95.0</td>\n",
       "      <td>2.0</td>\n",
       "      <td>26.0</td>\n",
       "      <td>0</td>\n",
       "      <td>1</td>\n",
       "      <td>0</td>\n",
       "      <td>...</td>\n",
       "      <td>0</td>\n",
       "      <td>0</td>\n",
       "      <td>0</td>\n",
       "      <td>1</td>\n",
       "      <td>0</td>\n",
       "      <td>0</td>\n",
       "      <td>0</td>\n",
       "      <td>0</td>\n",
       "      <td>1</td>\n",
       "      <td>0</td>\n",
       "    </tr>\n",
       "    <tr>\n",
       "      <th>555</th>\n",
       "      <td>52.0</td>\n",
       "      <td>1.2</td>\n",
       "      <td>3</td>\n",
       "      <td>0.0</td>\n",
       "      <td>0.0</td>\n",
       "      <td>3.0</td>\n",
       "      <td>60.0</td>\n",
       "      <td>0</td>\n",
       "      <td>0</td>\n",
       "      <td>0</td>\n",
       "      <td>...</td>\n",
       "      <td>1</td>\n",
       "      <td>0</td>\n",
       "      <td>0</td>\n",
       "      <td>0</td>\n",
       "      <td>0</td>\n",
       "      <td>0</td>\n",
       "      <td>0</td>\n",
       "      <td>0</td>\n",
       "      <td>0</td>\n",
       "      <td>0</td>\n",
       "    </tr>\n",
       "    <tr>\n",
       "      <th>645</th>\n",
       "      <td>62.0</td>\n",
       "      <td>1.6</td>\n",
       "      <td>1</td>\n",
       "      <td>100.0</td>\n",
       "      <td>70.0</td>\n",
       "      <td>0.0</td>\n",
       "      <td>7.0</td>\n",
       "      <td>0</td>\n",
       "      <td>0</td>\n",
       "      <td>0</td>\n",
       "      <td>...</td>\n",
       "      <td>1</td>\n",
       "      <td>0</td>\n",
       "      <td>0</td>\n",
       "      <td>0</td>\n",
       "      <td>0</td>\n",
       "      <td>0</td>\n",
       "      <td>0</td>\n",
       "      <td>1</td>\n",
       "      <td>0</td>\n",
       "      <td>0</td>\n",
       "    </tr>\n",
       "    <tr>\n",
       "      <th>646</th>\n",
       "      <td>62.0</td>\n",
       "      <td>2.2</td>\n",
       "      <td>2</td>\n",
       "      <td>95.0</td>\n",
       "      <td>93.0</td>\n",
       "      <td>1.0</td>\n",
       "      <td>9.0</td>\n",
       "      <td>0</td>\n",
       "      <td>0</td>\n",
       "      <td>0</td>\n",
       "      <td>...</td>\n",
       "      <td>1</td>\n",
       "      <td>0</td>\n",
       "      <td>0</td>\n",
       "      <td>0</td>\n",
       "      <td>0</td>\n",
       "      <td>0</td>\n",
       "      <td>0</td>\n",
       "      <td>1</td>\n",
       "      <td>0</td>\n",
       "      <td>0</td>\n",
       "    </tr>\n",
       "    <tr>\n",
       "      <th>647</th>\n",
       "      <td>72.0</td>\n",
       "      <td>2.5</td>\n",
       "      <td>2</td>\n",
       "      <td>80.0</td>\n",
       "      <td>60.0</td>\n",
       "      <td>1.0</td>\n",
       "      <td>12.0</td>\n",
       "      <td>0</td>\n",
       "      <td>0</td>\n",
       "      <td>0</td>\n",
       "      <td>...</td>\n",
       "      <td>0</td>\n",
       "      <td>0</td>\n",
       "      <td>0</td>\n",
       "      <td>1</td>\n",
       "      <td>0</td>\n",
       "      <td>0</td>\n",
       "      <td>0</td>\n",
       "      <td>1</td>\n",
       "      <td>0</td>\n",
       "      <td>0</td>\n",
       "    </tr>\n",
       "    <tr>\n",
       "      <th>...</th>\n",
       "      <td>...</td>\n",
       "      <td>...</td>\n",
       "      <td>...</td>\n",
       "      <td>...</td>\n",
       "      <td>...</td>\n",
       "      <td>...</td>\n",
       "      <td>...</td>\n",
       "      <td>...</td>\n",
       "      <td>...</td>\n",
       "      <td>...</td>\n",
       "      <td>...</td>\n",
       "      <td>...</td>\n",
       "      <td>...</td>\n",
       "      <td>...</td>\n",
       "      <td>...</td>\n",
       "      <td>...</td>\n",
       "      <td>...</td>\n",
       "      <td>...</td>\n",
       "      <td>...</td>\n",
       "      <td>...</td>\n",
       "      <td>...</td>\n",
       "    </tr>\n",
       "    <tr>\n",
       "      <th>13567</th>\n",
       "      <td>82.0</td>\n",
       "      <td>3.2</td>\n",
       "      <td>2</td>\n",
       "      <td>100.0</td>\n",
       "      <td>100.0</td>\n",
       "      <td>0.0</td>\n",
       "      <td>9.0</td>\n",
       "      <td>1</td>\n",
       "      <td>0</td>\n",
       "      <td>0</td>\n",
       "      <td>...</td>\n",
       "      <td>1</td>\n",
       "      <td>0</td>\n",
       "      <td>0</td>\n",
       "      <td>0</td>\n",
       "      <td>0</td>\n",
       "      <td>0</td>\n",
       "      <td>0</td>\n",
       "      <td>1</td>\n",
       "      <td>0</td>\n",
       "      <td>0</td>\n",
       "    </tr>\n",
       "    <tr>\n",
       "      <th>13568</th>\n",
       "      <td>60.0</td>\n",
       "      <td>2.7</td>\n",
       "      <td>1</td>\n",
       "      <td>90.0</td>\n",
       "      <td>30.0</td>\n",
       "      <td>2.0</td>\n",
       "      <td>60.0</td>\n",
       "      <td>1</td>\n",
       "      <td>0</td>\n",
       "      <td>0</td>\n",
       "      <td>...</td>\n",
       "      <td>1</td>\n",
       "      <td>0</td>\n",
       "      <td>0</td>\n",
       "      <td>0</td>\n",
       "      <td>0</td>\n",
       "      <td>0</td>\n",
       "      <td>1</td>\n",
       "      <td>0</td>\n",
       "      <td>0</td>\n",
       "      <td>0</td>\n",
       "    </tr>\n",
       "    <tr>\n",
       "      <th>13574</th>\n",
       "      <td>60.0</td>\n",
       "      <td>2.0</td>\n",
       "      <td>2</td>\n",
       "      <td>100.0</td>\n",
       "      <td>10.0</td>\n",
       "      <td>2.0</td>\n",
       "      <td>18.0</td>\n",
       "      <td>1</td>\n",
       "      <td>1</td>\n",
       "      <td>0</td>\n",
       "      <td>...</td>\n",
       "      <td>1</td>\n",
       "      <td>0</td>\n",
       "      <td>0</td>\n",
       "      <td>0</td>\n",
       "      <td>0</td>\n",
       "      <td>0</td>\n",
       "      <td>1</td>\n",
       "      <td>0</td>\n",
       "      <td>0</td>\n",
       "      <td>0</td>\n",
       "    </tr>\n",
       "    <tr>\n",
       "      <th>13577</th>\n",
       "      <td>42.0</td>\n",
       "      <td>1.1</td>\n",
       "      <td>2</td>\n",
       "      <td>98.0</td>\n",
       "      <td>98.0</td>\n",
       "      <td>1.0</td>\n",
       "      <td>65.0</td>\n",
       "      <td>1</td>\n",
       "      <td>1</td>\n",
       "      <td>0</td>\n",
       "      <td>...</td>\n",
       "      <td>1</td>\n",
       "      <td>0</td>\n",
       "      <td>0</td>\n",
       "      <td>0</td>\n",
       "      <td>0</td>\n",
       "      <td>0</td>\n",
       "      <td>0</td>\n",
       "      <td>0</td>\n",
       "      <td>1</td>\n",
       "      <td>0</td>\n",
       "    </tr>\n",
       "    <tr>\n",
       "      <th>13578</th>\n",
       "      <td>51.0</td>\n",
       "      <td>3.0</td>\n",
       "      <td>3</td>\n",
       "      <td>90.0</td>\n",
       "      <td>20.0</td>\n",
       "      <td>3.0</td>\n",
       "      <td>50.0</td>\n",
       "      <td>1</td>\n",
       "      <td>1</td>\n",
       "      <td>0</td>\n",
       "      <td>...</td>\n",
       "      <td>0</td>\n",
       "      <td>1</td>\n",
       "      <td>0</td>\n",
       "      <td>0</td>\n",
       "      <td>0</td>\n",
       "      <td>0</td>\n",
       "      <td>1</td>\n",
       "      <td>0</td>\n",
       "      <td>0</td>\n",
       "      <td>0</td>\n",
       "    </tr>\n",
       "  </tbody>\n",
       "</table>\n",
       "<p>9709 rows × 25 columns</p>\n",
       "</div>"
      ],
      "text/plain": [
       "        Age  Tm_size  Gradus     ER     PR  HER-2  Ki-67  Neoadj  Target  \\\n",
       "44     82.0     15.0       2   99.0   95.0    2.0   26.0       0       1   \n",
       "555    52.0      1.2       3    0.0    0.0    3.0   60.0       0       0   \n",
       "645    62.0      1.6       1  100.0   70.0    0.0    7.0       0       0   \n",
       "646    62.0      2.2       2   95.0   93.0    1.0    9.0       0       0   \n",
       "647    72.0      2.5       2   80.0   60.0    1.0   12.0       0       0   \n",
       "...     ...      ...     ...    ...    ...    ...    ...     ...     ...   \n",
       "13567  82.0      3.2       2  100.0  100.0    0.0    9.0       1       0   \n",
       "13568  60.0      2.7       1   90.0   30.0    2.0   60.0       1       0   \n",
       "13574  60.0      2.0       2  100.0   10.0    2.0   18.0       1       1   \n",
       "13577  42.0      1.1       2   98.0   98.0    1.0   65.0       1       1   \n",
       "13578  51.0      3.0       3   90.0   20.0    3.0   50.0       1       1   \n",
       "\n",
       "       ??_bifokalan  ...  Hist_type_NOS_invazivni  \\\n",
       "44                0  ...                        0   \n",
       "555               0  ...                        1   \n",
       "645               0  ...                        1   \n",
       "646               0  ...                        1   \n",
       "647               0  ...                        0   \n",
       "...             ...  ...                      ...   \n",
       "13567             0  ...                        1   \n",
       "13568             0  ...                        1   \n",
       "13574             0  ...                        1   \n",
       "13577             0  ...                        1   \n",
       "13578             0  ...                        0   \n",
       "\n",
       "       Hist_type_drugi rijetki tipovi  Hist_type_kribriformni invazivni  \\\n",
       "44                                  0                                 0   \n",
       "555                                 0                                 0   \n",
       "645                                 0                                 0   \n",
       "646                                 0                                 0   \n",
       "647                                 0                                 0   \n",
       "...                               ...                               ...   \n",
       "13567                               0                                 0   \n",
       "13568                               0                                 0   \n",
       "13574                               0                                 0   \n",
       "13577                               0                                 0   \n",
       "13578                               1                                 0   \n",
       "\n",
       "       Hist_type_lobularni invazivni  \\\n",
       "44                                 1   \n",
       "555                                0   \n",
       "645                                0   \n",
       "646                                0   \n",
       "647                                1   \n",
       "...                              ...   \n",
       "13567                              0   \n",
       "13568                              0   \n",
       "13574                              0   \n",
       "13577                              0   \n",
       "13578                              0   \n",
       "\n",
       "       Hist_type_mikropapilarni invazivni karcinom  \\\n",
       "44                                               0   \n",
       "555                                              0   \n",
       "645                                              0   \n",
       "646                                              0   \n",
       "647                                              0   \n",
       "...                                            ...   \n",
       "13567                                            0   \n",
       "13568                                            0   \n",
       "13574                                            0   \n",
       "13577                                            0   \n",
       "13578                                            0   \n",
       "\n",
       "       Hist_type_mucinozni invazivni  Immunohist_type_Luminal B HER2poz  \\\n",
       "44                                 0                                  0   \n",
       "555                                0                                  0   \n",
       "645                                0                                  0   \n",
       "646                                0                                  0   \n",
       "647                                0                                  0   \n",
       "...                              ...                                ...   \n",
       "13567                              0                                  0   \n",
       "13568                              0                                  1   \n",
       "13574                              0                                  1   \n",
       "13577                              0                                  0   \n",
       "13578                              0                                  1   \n",
       "\n",
       "       Immunohist_type_luminal A  Immunohist_type_luminal B  \\\n",
       "44                             0                          1   \n",
       "555                            0                          0   \n",
       "645                            1                          0   \n",
       "646                            1                          0   \n",
       "647                            1                          0   \n",
       "...                          ...                        ...   \n",
       "13567                          1                          0   \n",
       "13568                          0                          0   \n",
       "13574                          0                          0   \n",
       "13577                          0                          1   \n",
       "13578                          0                          0   \n",
       "\n",
       "       Immunohist_type_trostruko negativni  \n",
       "44                                       0  \n",
       "555                                      0  \n",
       "645                                      0  \n",
       "646                                      0  \n",
       "647                                      0  \n",
       "...                                    ...  \n",
       "13567                                    0  \n",
       "13568                                    0  \n",
       "13574                                    0  \n",
       "13577                                    0  \n",
       "13578                                    0  \n",
       "\n",
       "[9709 rows x 25 columns]"
      ]
     },
     "execution_count": 56,
     "metadata": {},
     "output_type": "execute_result"
    }
   ],
   "source": [
    "df_dummies"
   ]
  },
  {
   "cell_type": "code",
   "execution_count": 57,
   "id": "ead1b24d-a792-4fef-b592-76b80d451019",
   "metadata": {},
   "outputs": [],
   "source": [
    "X= df_dummies.drop([\"Target\"], axis=1)\n",
    "y= df_dummies[\"Target\"]"
   ]
  },
  {
   "cell_type": "code",
   "execution_count": 102,
   "id": "2c9d79b5-1ac3-4951-9145-8f22db38bd1f",
   "metadata": {},
   "outputs": [],
   "source": [
    "# New train test split after encoding categorical variables\n",
    "X_train, X_test, y_train, y_test = train_test_split(X, y, test_size = 0.1, random_state=68, stratify=y)"
   ]
  },
  {
   "cell_type": "code",
   "execution_count": 103,
   "id": "fe42e1f5-b80d-487d-9fb5-d770f82b0afb",
   "metadata": {},
   "outputs": [
    {
     "data": {
      "text/html": [
       "<style>#sk-container-id-12 {color: black;background-color: white;}#sk-container-id-12 pre{padding: 0;}#sk-container-id-12 div.sk-toggleable {background-color: white;}#sk-container-id-12 label.sk-toggleable__label {cursor: pointer;display: block;width: 100%;margin-bottom: 0;padding: 0.3em;box-sizing: border-box;text-align: center;}#sk-container-id-12 label.sk-toggleable__label-arrow:before {content: \"▸\";float: left;margin-right: 0.25em;color: #696969;}#sk-container-id-12 label.sk-toggleable__label-arrow:hover:before {color: black;}#sk-container-id-12 div.sk-estimator:hover label.sk-toggleable__label-arrow:before {color: black;}#sk-container-id-12 div.sk-toggleable__content {max-height: 0;max-width: 0;overflow: hidden;text-align: left;background-color: #f0f8ff;}#sk-container-id-12 div.sk-toggleable__content pre {margin: 0.2em;color: black;border-radius: 0.25em;background-color: #f0f8ff;}#sk-container-id-12 input.sk-toggleable__control:checked~div.sk-toggleable__content {max-height: 200px;max-width: 100%;overflow: auto;}#sk-container-id-12 input.sk-toggleable__control:checked~label.sk-toggleable__label-arrow:before {content: \"▾\";}#sk-container-id-12 div.sk-estimator input.sk-toggleable__control:checked~label.sk-toggleable__label {background-color: #d4ebff;}#sk-container-id-12 div.sk-label input.sk-toggleable__control:checked~label.sk-toggleable__label {background-color: #d4ebff;}#sk-container-id-12 input.sk-hidden--visually {border: 0;clip: rect(1px 1px 1px 1px);clip: rect(1px, 1px, 1px, 1px);height: 1px;margin: -1px;overflow: hidden;padding: 0;position: absolute;width: 1px;}#sk-container-id-12 div.sk-estimator {font-family: monospace;background-color: #f0f8ff;border: 1px dotted black;border-radius: 0.25em;box-sizing: border-box;margin-bottom: 0.5em;}#sk-container-id-12 div.sk-estimator:hover {background-color: #d4ebff;}#sk-container-id-12 div.sk-parallel-item::after {content: \"\";width: 100%;border-bottom: 1px solid gray;flex-grow: 1;}#sk-container-id-12 div.sk-label:hover label.sk-toggleable__label {background-color: #d4ebff;}#sk-container-id-12 div.sk-serial::before {content: \"\";position: absolute;border-left: 1px solid gray;box-sizing: border-box;top: 0;bottom: 0;left: 50%;z-index: 0;}#sk-container-id-12 div.sk-serial {display: flex;flex-direction: column;align-items: center;background-color: white;padding-right: 0.2em;padding-left: 0.2em;position: relative;}#sk-container-id-12 div.sk-item {position: relative;z-index: 1;}#sk-container-id-12 div.sk-parallel {display: flex;align-items: stretch;justify-content: center;background-color: white;position: relative;}#sk-container-id-12 div.sk-item::before, #sk-container-id-12 div.sk-parallel-item::before {content: \"\";position: absolute;border-left: 1px solid gray;box-sizing: border-box;top: 0;bottom: 0;left: 50%;z-index: -1;}#sk-container-id-12 div.sk-parallel-item {display: flex;flex-direction: column;z-index: 1;position: relative;background-color: white;}#sk-container-id-12 div.sk-parallel-item:first-child::after {align-self: flex-end;width: 50%;}#sk-container-id-12 div.sk-parallel-item:last-child::after {align-self: flex-start;width: 50%;}#sk-container-id-12 div.sk-parallel-item:only-child::after {width: 0;}#sk-container-id-12 div.sk-dashed-wrapped {border: 1px dashed gray;margin: 0 0.4em 0.5em 0.4em;box-sizing: border-box;padding-bottom: 0.4em;background-color: white;}#sk-container-id-12 div.sk-label label {font-family: monospace;font-weight: bold;display: inline-block;line-height: 1.2em;}#sk-container-id-12 div.sk-label-container {text-align: center;}#sk-container-id-12 div.sk-container {/* jupyter's `normalize.less` sets `[hidden] { display: none; }` but bootstrap.min.css set `[hidden] { display: none !important; }` so we also need the `!important` here to be able to override the default hidden behavior on the sphinx rendered scikit-learn.org. See: https://github.com/scikit-learn/scikit-learn/issues/21755 */display: inline-block !important;position: relative;}#sk-container-id-12 div.sk-text-repr-fallback {display: none;}</style><div id=\"sk-container-id-12\" class=\"sk-top-container\"><div class=\"sk-text-repr-fallback\"><pre>RandomForestClassifier(random_state=68)</pre><b>In a Jupyter environment, please rerun this cell to show the HTML representation or trust the notebook. <br />On GitHub, the HTML representation is unable to render, please try loading this page with nbviewer.org.</b></div><div class=\"sk-container\" hidden><div class=\"sk-item\"><div class=\"sk-estimator sk-toggleable\"><input class=\"sk-toggleable__control sk-hidden--visually\" id=\"sk-estimator-id-12\" type=\"checkbox\" checked><label for=\"sk-estimator-id-12\" class=\"sk-toggleable__label sk-toggleable__label-arrow\">RandomForestClassifier</label><div class=\"sk-toggleable__content\"><pre>RandomForestClassifier(random_state=68)</pre></div></div></div></div></div>"
      ],
      "text/plain": [
       "RandomForestClassifier(random_state=68)"
      ]
     },
     "execution_count": 103,
     "metadata": {},
     "output_type": "execute_result"
    }
   ],
   "source": [
    "clf = RandomForestClassifier( random_state=68)\n",
    "clf.fit(X_train, y_train)"
   ]
  },
  {
   "cell_type": "code",
   "execution_count": 104,
   "id": "fa6b7d58-1801-4513-ba3c-adfc2c44e005",
   "metadata": {},
   "outputs": [],
   "source": [
    "y_pred = clf.predict_proba(X_test)\n",
    "\n",
    "y_pred= y_pred[:,1].reshape(-1,1)\n",
    "\n"
   ]
  },
  {
   "cell_type": "code",
   "execution_count": 105,
   "id": "155ecd8a-11d4-418d-839f-b4dca332c480",
   "metadata": {},
   "outputs": [
    {
     "data": {
      "text/plain": [
       "0.7140783813170708"
      ]
     },
     "execution_count": 105,
     "metadata": {},
     "output_type": "execute_result"
    }
   ],
   "source": [
    "roc_auc_score(y_test, y_pred)"
   ]
  },
  {
   "cell_type": "markdown",
   "id": "d0dbb5d5-f257-4404-84d1-f41a70712c13",
   "metadata": {},
   "source": [
    "## Optimizing with StratifiedKFold and HalvingGridSearchCV"
   ]
  },
  {
   "cell_type": "code",
   "execution_count": 106,
   "id": "c3b4e48e-67e1-4311-afad-5d211f010ace",
   "metadata": {},
   "outputs": [
    {
     "name": "stdout",
     "output_type": "stream",
     "text": [
      "n_iterations: 5\n",
      "n_required_iterations: 5\n",
      "n_possible_iterations: 5\n",
      "min_resources_: 107\n",
      "max_resources_: 8738\n",
      "aggressive_elimination: False\n",
      "factor: 3\n",
      "----------\n",
      "iter: 0\n",
      "n_candidates: 120\n",
      "n_resources: 107\n",
      "Fitting 5 folds for each of 120 candidates, totalling 600 fits\n",
      "----------\n",
      "iter: 1\n",
      "n_candidates: 40\n",
      "n_resources: 321\n",
      "Fitting 5 folds for each of 40 candidates, totalling 200 fits\n",
      "----------\n",
      "iter: 2\n",
      "n_candidates: 14\n",
      "n_resources: 963\n",
      "Fitting 5 folds for each of 14 candidates, totalling 70 fits\n",
      "----------\n",
      "iter: 3\n",
      "n_candidates: 5\n",
      "n_resources: 2889\n",
      "Fitting 5 folds for each of 5 candidates, totalling 25 fits\n",
      "----------\n",
      "iter: 4\n",
      "n_candidates: 2\n",
      "n_resources: 8667\n",
      "Fitting 5 folds for each of 2 candidates, totalling 10 fits\n"
     ]
    }
   ],
   "source": [
    "# parameter grid\n",
    "pgrid = {    \n",
    "    'max_depth' : [50,200,300],    \n",
    "    'min_samples_split' : [3, 10,20,30],\n",
    "    'min_samples_leaf' : [1,2,5,7,20],\n",
    "    'class_weight': ['balanced','balanced_subsample']\n",
    "}\n",
    "\n",
    "# specifying the cv\n",
    "cv_skf = StratifiedKFold(n_splits=5, random_state=68, shuffle=True)\n",
    "\n",
    "# specifying the model \n",
    "rfgs = BalancedRandomForestClassifier(n_jobs=-1)\n",
    "\n",
    "\n",
    "\n",
    "# specify the grid search cv\n",
    "cv = HalvingGridSearchCV(estimator=rfgs,param_grid=pgrid,cv=cv_skf,n_jobs=-1,verbose=10, scoring='roc_auc',random_state=68)\n",
    "\n",
    "cc= cv.fit(X_train,y_train)"
   ]
  },
  {
   "cell_type": "code",
   "execution_count": 107,
   "id": "db08c88a-2bae-407b-aa1d-94cffc1fa715",
   "metadata": {},
   "outputs": [
    {
     "data": {
      "text/plain": [
       "{'class_weight': 'balanced_subsample',\n",
       " 'max_depth': 300,\n",
       " 'min_samples_leaf': 2,\n",
       " 'min_samples_split': 30}"
      ]
     },
     "execution_count": 107,
     "metadata": {},
     "output_type": "execute_result"
    }
   ],
   "source": [
    "cc.best_params_"
   ]
  },
  {
   "cell_type": "code",
   "execution_count": 108,
   "id": "38087bcb-8c9b-4ab9-b23b-e16ec603186f",
   "metadata": {},
   "outputs": [],
   "source": [
    "y_pred= cc.predict_proba(X_test)\n",
    "y_pred= y_pred[:,1].reshape(-1,1)\n",
    "\n"
   ]
  },
  {
   "cell_type": "code",
   "execution_count": 109,
   "id": "e65dd01a-cc61-427c-ae58-96bd6ebcf787",
   "metadata": {},
   "outputs": [
    {
     "data": {
      "text/plain": [
       "0.7420696827873114"
      ]
     },
     "execution_count": 109,
     "metadata": {},
     "output_type": "execute_result"
    }
   ],
   "source": [
    "test_score= roc_auc_score(y_test, y_pred)\n",
    "\n",
    "test_score"
   ]
  },
  {
   "cell_type": "code",
   "execution_count": 116,
   "id": "f3b6d2f9-14be-4262-b6b7-8103d25e819e",
   "metadata": {},
   "outputs": [
    {
     "data": {
      "text/html": [
       "<style>#sk-container-id-15 {color: black;background-color: white;}#sk-container-id-15 pre{padding: 0;}#sk-container-id-15 div.sk-toggleable {background-color: white;}#sk-container-id-15 label.sk-toggleable__label {cursor: pointer;display: block;width: 100%;margin-bottom: 0;padding: 0.3em;box-sizing: border-box;text-align: center;}#sk-container-id-15 label.sk-toggleable__label-arrow:before {content: \"▸\";float: left;margin-right: 0.25em;color: #696969;}#sk-container-id-15 label.sk-toggleable__label-arrow:hover:before {color: black;}#sk-container-id-15 div.sk-estimator:hover label.sk-toggleable__label-arrow:before {color: black;}#sk-container-id-15 div.sk-toggleable__content {max-height: 0;max-width: 0;overflow: hidden;text-align: left;background-color: #f0f8ff;}#sk-container-id-15 div.sk-toggleable__content pre {margin: 0.2em;color: black;border-radius: 0.25em;background-color: #f0f8ff;}#sk-container-id-15 input.sk-toggleable__control:checked~div.sk-toggleable__content {max-height: 200px;max-width: 100%;overflow: auto;}#sk-container-id-15 input.sk-toggleable__control:checked~label.sk-toggleable__label-arrow:before {content: \"▾\";}#sk-container-id-15 div.sk-estimator input.sk-toggleable__control:checked~label.sk-toggleable__label {background-color: #d4ebff;}#sk-container-id-15 div.sk-label input.sk-toggleable__control:checked~label.sk-toggleable__label {background-color: #d4ebff;}#sk-container-id-15 input.sk-hidden--visually {border: 0;clip: rect(1px 1px 1px 1px);clip: rect(1px, 1px, 1px, 1px);height: 1px;margin: -1px;overflow: hidden;padding: 0;position: absolute;width: 1px;}#sk-container-id-15 div.sk-estimator {font-family: monospace;background-color: #f0f8ff;border: 1px dotted black;border-radius: 0.25em;box-sizing: border-box;margin-bottom: 0.5em;}#sk-container-id-15 div.sk-estimator:hover {background-color: #d4ebff;}#sk-container-id-15 div.sk-parallel-item::after {content: \"\";width: 100%;border-bottom: 1px solid gray;flex-grow: 1;}#sk-container-id-15 div.sk-label:hover label.sk-toggleable__label {background-color: #d4ebff;}#sk-container-id-15 div.sk-serial::before {content: \"\";position: absolute;border-left: 1px solid gray;box-sizing: border-box;top: 0;bottom: 0;left: 50%;z-index: 0;}#sk-container-id-15 div.sk-serial {display: flex;flex-direction: column;align-items: center;background-color: white;padding-right: 0.2em;padding-left: 0.2em;position: relative;}#sk-container-id-15 div.sk-item {position: relative;z-index: 1;}#sk-container-id-15 div.sk-parallel {display: flex;align-items: stretch;justify-content: center;background-color: white;position: relative;}#sk-container-id-15 div.sk-item::before, #sk-container-id-15 div.sk-parallel-item::before {content: \"\";position: absolute;border-left: 1px solid gray;box-sizing: border-box;top: 0;bottom: 0;left: 50%;z-index: -1;}#sk-container-id-15 div.sk-parallel-item {display: flex;flex-direction: column;z-index: 1;position: relative;background-color: white;}#sk-container-id-15 div.sk-parallel-item:first-child::after {align-self: flex-end;width: 50%;}#sk-container-id-15 div.sk-parallel-item:last-child::after {align-self: flex-start;width: 50%;}#sk-container-id-15 div.sk-parallel-item:only-child::after {width: 0;}#sk-container-id-15 div.sk-dashed-wrapped {border: 1px dashed gray;margin: 0 0.4em 0.5em 0.4em;box-sizing: border-box;padding-bottom: 0.4em;background-color: white;}#sk-container-id-15 div.sk-label label {font-family: monospace;font-weight: bold;display: inline-block;line-height: 1.2em;}#sk-container-id-15 div.sk-label-container {text-align: center;}#sk-container-id-15 div.sk-container {/* jupyter's `normalize.less` sets `[hidden] { display: none; }` but bootstrap.min.css set `[hidden] { display: none !important; }` so we also need the `!important` here to be able to override the default hidden behavior on the sphinx rendered scikit-learn.org. See: https://github.com/scikit-learn/scikit-learn/issues/21755 */display: inline-block !important;position: relative;}#sk-container-id-15 div.sk-text-repr-fallback {display: none;}</style><div id=\"sk-container-id-15\" class=\"sk-top-container\"><div class=\"sk-text-repr-fallback\"><pre>RandomForestClassifier(class_weight=&#x27;balanced_subsample&#x27;, max_depth=300,\n",
       "                       min_samples_leaf=2, min_samples_split=30,\n",
       "                       n_estimators=150, random_state=68)</pre><b>In a Jupyter environment, please rerun this cell to show the HTML representation or trust the notebook. <br />On GitHub, the HTML representation is unable to render, please try loading this page with nbviewer.org.</b></div><div class=\"sk-container\" hidden><div class=\"sk-item\"><div class=\"sk-estimator sk-toggleable\"><input class=\"sk-toggleable__control sk-hidden--visually\" id=\"sk-estimator-id-15\" type=\"checkbox\" checked><label for=\"sk-estimator-id-15\" class=\"sk-toggleable__label sk-toggleable__label-arrow\">RandomForestClassifier</label><div class=\"sk-toggleable__content\"><pre>RandomForestClassifier(class_weight=&#x27;balanced_subsample&#x27;, max_depth=300,\n",
       "                       min_samples_leaf=2, min_samples_split=30,\n",
       "                       n_estimators=150, random_state=68)</pre></div></div></div></div></div>"
      ],
      "text/plain": [
       "RandomForestClassifier(class_weight='balanced_subsample', max_depth=300,\n",
       "                       min_samples_leaf=2, min_samples_split=30,\n",
       "                       n_estimators=150, random_state=68)"
      ]
     },
     "execution_count": 116,
     "metadata": {},
     "output_type": "execute_result"
    }
   ],
   "source": [
    "# Running the optimized randomforrest\n",
    "clf_optimized = RandomForestClassifier(max_depth=300, min_samples_leaf=2, n_estimators=150, min_samples_split=30, random_state=68,\n",
    "                                      class_weight=\"balanced_subsample\")\n",
    "clf_optimized.fit(X_train, y_train)"
   ]
  },
  {
   "cell_type": "code",
   "execution_count": 117,
   "id": "c430322b-b7f7-49bb-a2cb-009b5b3bcef3",
   "metadata": {},
   "outputs": [],
   "source": [
    "y_pred_o = clf_optimized.predict_proba(X_test)\n",
    "\n",
    "y_pred_o= y_pred_o[:,1].reshape(-1,1)\n"
   ]
  },
  {
   "cell_type": "code",
   "execution_count": 118,
   "id": "50c063a3-75c4-471e-8f80-65fe6365eb67",
   "metadata": {},
   "outputs": [
    {
     "data": {
      "text/plain": [
       "0.7453930884508108"
      ]
     },
     "execution_count": 118,
     "metadata": {},
     "output_type": "execute_result"
    }
   ],
   "source": [
    "roc_auc_score(y_test, y_pred_o)"
   ]
  },
  {
   "cell_type": "code",
   "execution_count": null,
   "id": "29acb0f7-ccae-42d2-9983-4001f5ec6e98",
   "metadata": {},
   "outputs": [],
   "source": []
  }
 ],
 "metadata": {
  "kernelspec": {
   "display_name": "Python 3",
   "language": "python",
   "name": "python3"
  },
  "language_info": {
   "codemirror_mode": {
    "name": "ipython",
    "version": 3
   },
   "file_extension": ".py",
   "mimetype": "text/x-python",
   "name": "python",
   "nbconvert_exporter": "python",
   "pygments_lexer": "ipython3",
   "version": "3.8.8"
  }
 },
 "nbformat": 4,
 "nbformat_minor": 5
}
