{
 "cells": [
  {
   "cell_type": "code",
   "execution_count": 1,
   "id": "a06ec641",
   "metadata": {},
   "outputs": [],
   "source": [
    "# Importing data and reading libraries\n",
    "import numpy as np\n",
    "import pandas as pd\n",
    "\n",
    "df = pd.read_csv(r\"C:\\Users\\jvrdo\\Downloads\\tidy_table.csv\")"
   ]
  },
  {
   "cell_type": "code",
   "execution_count": 2,
   "id": "cacf54c1",
   "metadata": {},
   "outputs": [
    {
     "data": {
      "text/html": [
       "<div>\n",
       "<style scoped>\n",
       "    .dataframe tbody tr th:only-of-type {\n",
       "        vertical-align: middle;\n",
       "    }\n",
       "\n",
       "    .dataframe tbody tr th {\n",
       "        vertical-align: top;\n",
       "    }\n",
       "\n",
       "    .dataframe thead th {\n",
       "        text-align: right;\n",
       "    }\n",
       "</style>\n",
       "<table border=\"1\" class=\"dataframe\">\n",
       "  <thead>\n",
       "    <tr style=\"text-align: right;\">\n",
       "      <th></th>\n",
       "      <th>dob</th>\n",
       "      <th>velicina_mm</th>\n",
       "      <th>hist_tip</th>\n",
       "      <th>gradus</th>\n",
       "      <th>er</th>\n",
       "      <th>pr</th>\n",
       "      <th>her2</th>\n",
       "      <th>ki67</th>\n",
       "      <th>imunofenotip</th>\n",
       "      <th>broj_meta</th>\n",
       "    </tr>\n",
       "  </thead>\n",
       "  <tbody>\n",
       "    <tr>\n",
       "      <th>0</th>\n",
       "      <td>61</td>\n",
       "      <td>0.8</td>\n",
       "      <td>NOSinvazivnikarcinom</td>\n",
       "      <td>2</td>\n",
       "      <td>95.0</td>\n",
       "      <td>70</td>\n",
       "      <td>0</td>\n",
       "      <td>95.0</td>\n",
       "      <td>luminal_B</td>\n",
       "      <td>0</td>\n",
       "    </tr>\n",
       "    <tr>\n",
       "      <th>1</th>\n",
       "      <td>75</td>\n",
       "      <td>1.8</td>\n",
       "      <td>NOSinvazivnikarcinom</td>\n",
       "      <td>2</td>\n",
       "      <td>100.0</td>\n",
       "      <td>100</td>\n",
       "      <td>3</td>\n",
       "      <td>35.0</td>\n",
       "      <td>luminal_B_Hp</td>\n",
       "      <td>1</td>\n",
       "    </tr>\n",
       "    <tr>\n",
       "      <th>2</th>\n",
       "      <td>65</td>\n",
       "      <td>1.2</td>\n",
       "      <td>NOSinvazivnikarcinom</td>\n",
       "      <td>2</td>\n",
       "      <td>100.0</td>\n",
       "      <td>15</td>\n",
       "      <td>3</td>\n",
       "      <td>20.0</td>\n",
       "      <td>luminal_B_Hp</td>\n",
       "      <td>0</td>\n",
       "    </tr>\n",
       "    <tr>\n",
       "      <th>3</th>\n",
       "      <td>71</td>\n",
       "      <td>3.0</td>\n",
       "      <td>NOSinvazivnikarcinom</td>\n",
       "      <td>2</td>\n",
       "      <td>85.0</td>\n",
       "      <td>3</td>\n",
       "      <td>2</td>\n",
       "      <td>35.0</td>\n",
       "      <td>luminal_B</td>\n",
       "      <td>4</td>\n",
       "    </tr>\n",
       "    <tr>\n",
       "      <th>4</th>\n",
       "      <td>82</td>\n",
       "      <td>3.0</td>\n",
       "      <td>NOSinvazivnikarcinom</td>\n",
       "      <td>2</td>\n",
       "      <td>0.0</td>\n",
       "      <td>0</td>\n",
       "      <td>0</td>\n",
       "      <td>50.0</td>\n",
       "      <td>3n</td>\n",
       "      <td>1</td>\n",
       "    </tr>\n",
       "    <tr>\n",
       "      <th>...</th>\n",
       "      <td>...</td>\n",
       "      <td>...</td>\n",
       "      <td>...</td>\n",
       "      <td>...</td>\n",
       "      <td>...</td>\n",
       "      <td>...</td>\n",
       "      <td>...</td>\n",
       "      <td>...</td>\n",
       "      <td>...</td>\n",
       "      <td>...</td>\n",
       "    </tr>\n",
       "    <tr>\n",
       "      <th>9957</th>\n",
       "      <td>43</td>\n",
       "      <td>0.5</td>\n",
       "      <td>NOSinvazivnikarcinom</td>\n",
       "      <td>2</td>\n",
       "      <td>100.0</td>\n",
       "      <td>35</td>\n",
       "      <td>1</td>\n",
       "      <td>42.0</td>\n",
       "      <td>luminal_B</td>\n",
       "      <td>5</td>\n",
       "    </tr>\n",
       "    <tr>\n",
       "      <th>9958</th>\n",
       "      <td>66</td>\n",
       "      <td>4.8</td>\n",
       "      <td>NOSinvazivnikarcinom</td>\n",
       "      <td>2</td>\n",
       "      <td>100.0</td>\n",
       "      <td>90</td>\n",
       "      <td>0</td>\n",
       "      <td>44.0</td>\n",
       "      <td>luminal_B</td>\n",
       "      <td>2</td>\n",
       "    </tr>\n",
       "    <tr>\n",
       "      <th>9959</th>\n",
       "      <td>57</td>\n",
       "      <td>0.8</td>\n",
       "      <td>NOSinvazivnikarcinom</td>\n",
       "      <td>2</td>\n",
       "      <td>25.0</td>\n",
       "      <td>25</td>\n",
       "      <td>1</td>\n",
       "      <td>34.0</td>\n",
       "      <td>luminal_B</td>\n",
       "      <td>3</td>\n",
       "    </tr>\n",
       "    <tr>\n",
       "      <th>9960</th>\n",
       "      <td>46</td>\n",
       "      <td>1.6</td>\n",
       "      <td>NOSinvazivnikarcinom</td>\n",
       "      <td>2</td>\n",
       "      <td>100.0</td>\n",
       "      <td>1</td>\n",
       "      <td>0</td>\n",
       "      <td>42.0</td>\n",
       "      <td>luminal_B</td>\n",
       "      <td>2</td>\n",
       "    </tr>\n",
       "    <tr>\n",
       "      <th>9961</th>\n",
       "      <td>43</td>\n",
       "      <td>1.5</td>\n",
       "      <td>NOSinvazivnikarcinom</td>\n",
       "      <td>3</td>\n",
       "      <td>0.0</td>\n",
       "      <td>0</td>\n",
       "      <td>3</td>\n",
       "      <td>85.0</td>\n",
       "      <td>Hp</td>\n",
       "      <td>0</td>\n",
       "    </tr>\n",
       "  </tbody>\n",
       "</table>\n",
       "<p>9962 rows × 10 columns</p>\n",
       "</div>"
      ],
      "text/plain": [
       "      dob  velicina_mm              hist_tip  gradus     er   pr  her2  ki67  \\\n",
       "0      61          0.8  NOSinvazivnikarcinom       2   95.0   70     0  95.0   \n",
       "1      75          1.8  NOSinvazivnikarcinom       2  100.0  100     3  35.0   \n",
       "2      65          1.2  NOSinvazivnikarcinom       2  100.0   15     3  20.0   \n",
       "3      71          3.0  NOSinvazivnikarcinom       2   85.0    3     2  35.0   \n",
       "4      82          3.0  NOSinvazivnikarcinom       2    0.0    0     0  50.0   \n",
       "...   ...          ...                   ...     ...    ...  ...   ...   ...   \n",
       "9957   43          0.5  NOSinvazivnikarcinom       2  100.0   35     1  42.0   \n",
       "9958   66          4.8  NOSinvazivnikarcinom       2  100.0   90     0  44.0   \n",
       "9959   57          0.8  NOSinvazivnikarcinom       2   25.0   25     1  34.0   \n",
       "9960   46          1.6  NOSinvazivnikarcinom       2  100.0    1     0  42.0   \n",
       "9961   43          1.5  NOSinvazivnikarcinom       3    0.0    0     3  85.0   \n",
       "\n",
       "      imunofenotip  broj_meta  \n",
       "0        luminal_B          0  \n",
       "1     luminal_B_Hp          1  \n",
       "2     luminal_B_Hp          0  \n",
       "3        luminal_B          4  \n",
       "4               3n          1  \n",
       "...            ...        ...  \n",
       "9957     luminal_B          5  \n",
       "9958     luminal_B          2  \n",
       "9959     luminal_B          3  \n",
       "9960     luminal_B          2  \n",
       "9961            Hp          0  \n",
       "\n",
       "[9962 rows x 10 columns]"
      ]
     },
     "execution_count": 2,
     "metadata": {},
     "output_type": "execute_result"
    }
   ],
   "source": [
    "# First look into data\n",
    "df"
   ]
  },
  {
   "cell_type": "code",
   "execution_count": 3,
   "id": "a2b57208",
   "metadata": {},
   "outputs": [],
   "source": [
    "# Creating a dataframe copy to work on\n",
    "df_c = df.copy()"
   ]
  },
  {
   "cell_type": "code",
   "execution_count": 6,
   "id": "48915c58",
   "metadata": {},
   "outputs": [],
   "source": [
    "# Creating a function that returns 1 if \"broj meta lc\" is >0:\n",
    "def target(df_c):\n",
    "    if df_c[\"broj_meta\"] > 0:\n",
    "        return 1\n",
    "    else:\n",
    "        return 0"
   ]
  },
  {
   "cell_type": "code",
   "execution_count": 7,
   "id": "4338236e",
   "metadata": {},
   "outputs": [],
   "source": [
    "# Applying function to our dataframe\n",
    "df_c[\"Target\"] = df_c.apply(lambda df_c: target(df_c), axis=1)"
   ]
  },
  {
   "cell_type": "code",
   "execution_count": 9,
   "id": "af6c1c3d",
   "metadata": {},
   "outputs": [],
   "source": [
    "# Drop the old column\n",
    "df_c.drop(\"broj_meta\", axis=1, inplace=True)"
   ]
  },
  {
   "cell_type": "code",
   "execution_count": 8,
   "id": "5f8718fd",
   "metadata": {},
   "outputs": [
    {
     "data": {
      "text/html": [
       "<div>\n",
       "<style scoped>\n",
       "    .dataframe tbody tr th:only-of-type {\n",
       "        vertical-align: middle;\n",
       "    }\n",
       "\n",
       "    .dataframe tbody tr th {\n",
       "        vertical-align: top;\n",
       "    }\n",
       "\n",
       "    .dataframe thead th {\n",
       "        text-align: right;\n",
       "    }\n",
       "</style>\n",
       "<table border=\"1\" class=\"dataframe\">\n",
       "  <thead>\n",
       "    <tr style=\"text-align: right;\">\n",
       "      <th></th>\n",
       "      <th>Unnamed: 0</th>\n",
       "      <th>dob pri dg</th>\n",
       "      <th>velicina_tumora (mm)</th>\n",
       "      <th>gradus</th>\n",
       "      <th>er</th>\n",
       "      <th>pr</th>\n",
       "      <th>her2</th>\n",
       "      <th>ki67</th>\n",
       "      <th>broj_meta_lc</th>\n",
       "    </tr>\n",
       "  </thead>\n",
       "  <tbody>\n",
       "    <tr>\n",
       "      <th>Unnamed: 0</th>\n",
       "      <td>1.000000</td>\n",
       "      <td>-0.073748</td>\n",
       "      <td>-0.003986</td>\n",
       "      <td>-0.027261</td>\n",
       "      <td>-0.024805</td>\n",
       "      <td>-0.048821</td>\n",
       "      <td>-0.033948</td>\n",
       "      <td>0.084308</td>\n",
       "      <td>0.033431</td>\n",
       "    </tr>\n",
       "    <tr>\n",
       "      <th>dob pri dg</th>\n",
       "      <td>-0.073748</td>\n",
       "      <td>1.000000</td>\n",
       "      <td>0.080130</td>\n",
       "      <td>-0.031846</td>\n",
       "      <td>0.088897</td>\n",
       "      <td>0.010167</td>\n",
       "      <td>-0.077028</td>\n",
       "      <td>-0.101726</td>\n",
       "      <td>0.026267</td>\n",
       "    </tr>\n",
       "    <tr>\n",
       "      <th>velicina_tumora (mm)</th>\n",
       "      <td>-0.003986</td>\n",
       "      <td>0.080130</td>\n",
       "      <td>1.000000</td>\n",
       "      <td>0.230260</td>\n",
       "      <td>-0.128798</td>\n",
       "      <td>-0.101498</td>\n",
       "      <td>0.021683</td>\n",
       "      <td>0.188907</td>\n",
       "      <td>0.344926</td>\n",
       "    </tr>\n",
       "    <tr>\n",
       "      <th>gradus</th>\n",
       "      <td>-0.027261</td>\n",
       "      <td>-0.031846</td>\n",
       "      <td>0.230260</td>\n",
       "      <td>1.000000</td>\n",
       "      <td>-0.373753</td>\n",
       "      <td>-0.305029</td>\n",
       "      <td>0.182628</td>\n",
       "      <td>0.540072</td>\n",
       "      <td>0.147838</td>\n",
       "    </tr>\n",
       "    <tr>\n",
       "      <th>er</th>\n",
       "      <td>-0.024805</td>\n",
       "      <td>0.088897</td>\n",
       "      <td>-0.128798</td>\n",
       "      <td>-0.373753</td>\n",
       "      <td>1.000000</td>\n",
       "      <td>0.533571</td>\n",
       "      <td>-0.104222</td>\n",
       "      <td>-0.477567</td>\n",
       "      <td>-0.058308</td>\n",
       "    </tr>\n",
       "    <tr>\n",
       "      <th>pr</th>\n",
       "      <td>-0.048821</td>\n",
       "      <td>0.010167</td>\n",
       "      <td>-0.101498</td>\n",
       "      <td>-0.305029</td>\n",
       "      <td>0.533571</td>\n",
       "      <td>1.000000</td>\n",
       "      <td>-0.164716</td>\n",
       "      <td>-0.318077</td>\n",
       "      <td>-0.086295</td>\n",
       "    </tr>\n",
       "    <tr>\n",
       "      <th>her2</th>\n",
       "      <td>-0.033948</td>\n",
       "      <td>-0.077028</td>\n",
       "      <td>0.021683</td>\n",
       "      <td>0.182628</td>\n",
       "      <td>-0.104222</td>\n",
       "      <td>-0.164716</td>\n",
       "      <td>1.000000</td>\n",
       "      <td>0.115634</td>\n",
       "      <td>0.023045</td>\n",
       "    </tr>\n",
       "    <tr>\n",
       "      <th>ki67</th>\n",
       "      <td>0.084308</td>\n",
       "      <td>-0.101726</td>\n",
       "      <td>0.188907</td>\n",
       "      <td>0.540072</td>\n",
       "      <td>-0.477567</td>\n",
       "      <td>-0.318077</td>\n",
       "      <td>0.115634</td>\n",
       "      <td>1.000000</td>\n",
       "      <td>0.109219</td>\n",
       "    </tr>\n",
       "    <tr>\n",
       "      <th>broj_meta_lc</th>\n",
       "      <td>0.033431</td>\n",
       "      <td>0.026267</td>\n",
       "      <td>0.344926</td>\n",
       "      <td>0.147838</td>\n",
       "      <td>-0.058308</td>\n",
       "      <td>-0.086295</td>\n",
       "      <td>0.023045</td>\n",
       "      <td>0.109219</td>\n",
       "      <td>1.000000</td>\n",
       "    </tr>\n",
       "  </tbody>\n",
       "</table>\n",
       "</div>"
      ],
      "text/plain": [
       "                      Unnamed: 0  dob pri dg  velicina_tumora (mm)    gradus  \\\n",
       "Unnamed: 0              1.000000   -0.073748             -0.003986 -0.027261   \n",
       "dob pri dg             -0.073748    1.000000              0.080130 -0.031846   \n",
       "velicina_tumora (mm)   -0.003986    0.080130              1.000000  0.230260   \n",
       "gradus                 -0.027261   -0.031846              0.230260  1.000000   \n",
       "er                     -0.024805    0.088897             -0.128798 -0.373753   \n",
       "pr                     -0.048821    0.010167             -0.101498 -0.305029   \n",
       "her2                   -0.033948   -0.077028              0.021683  0.182628   \n",
       "ki67                    0.084308   -0.101726              0.188907  0.540072   \n",
       "broj_meta_lc            0.033431    0.026267              0.344926  0.147838   \n",
       "\n",
       "                            er        pr      her2      ki67  broj_meta_lc  \n",
       "Unnamed: 0           -0.024805 -0.048821 -0.033948  0.084308      0.033431  \n",
       "dob pri dg            0.088897  0.010167 -0.077028 -0.101726      0.026267  \n",
       "velicina_tumora (mm) -0.128798 -0.101498  0.021683  0.188907      0.344926  \n",
       "gradus               -0.373753 -0.305029  0.182628  0.540072      0.147838  \n",
       "er                    1.000000  0.533571 -0.104222 -0.477567     -0.058308  \n",
       "pr                    0.533571  1.000000 -0.164716 -0.318077     -0.086295  \n",
       "her2                 -0.104222 -0.164716  1.000000  0.115634      0.023045  \n",
       "ki67                 -0.477567 -0.318077  0.115634  1.000000      0.109219  \n",
       "broj_meta_lc         -0.058308 -0.086295  0.023045  0.109219      1.000000  "
      ]
     },
     "execution_count": 8,
     "metadata": {},
     "output_type": "execute_result"
    }
   ],
   "source": [
    "# Check the correlation matrix\n",
    "df.corr()"
   ]
  },
  {
   "cell_type": "code",
   "execution_count": 9,
   "id": "64b94455",
   "metadata": {},
   "outputs": [],
   "source": [
    "# Creating a new df in which we drop \"imunofenotip_txt\" (since it can be discerned from er pr and her2)\n",
    "#df_2= df_c.drop(\"imunofenotip_txt\", axis=1)"
   ]
  },
  {
   "cell_type": "code",
   "execution_count": 10,
   "id": "7dcceaf4",
   "metadata": {},
   "outputs": [],
   "source": [
    "# Dropping the name_index\n",
    "#df_2.drop(\"Unnamed: 0\", axis=1, inplace=True)\n"
   ]
  },
  {
   "cell_type": "code",
   "execution_count": 30,
   "id": "332a2c14",
   "metadata": {},
   "outputs": [],
   "source": [
    "# Dropping the name_index\n",
    "#df_c.drop(\"Unnamed: 0\", axis=1, inplace=True)"
   ]
  },
  {
   "cell_type": "code",
   "execution_count": 10,
   "id": "24cde7f6",
   "metadata": {},
   "outputs": [
    {
     "data": {
      "text/plain": [
       "array(['NOSinvazivnikarcinom', 'lobularniinvazivni', 'mucinozniinvazivni',\n",
       "       'tubularniinvazivni', 'drugirijetkitipovi',\n",
       "       'Casmedularnimkarakteristikama', 'metaplastičnikarcinom',\n",
       "       'mikropapilarniinvazivnikarcinom', 'Casapokrinomdiferencijacijom',\n",
       "       'mikroinvazivnikarcinom', 'kribriformniinvazivni'], dtype=object)"
      ]
     },
     "execution_count": 10,
     "metadata": {},
     "output_type": "execute_result"
    }
   ],
   "source": [
    "# Checking \"histoloski_tip\" unique values\n",
    "df_c[\"hist_tip\"].unique()"
   ]
  },
  {
   "cell_type": "code",
   "execution_count": 11,
   "id": "b1e5b303",
   "metadata": {},
   "outputs": [
    {
     "data": {
      "text/plain": [
       "luminal_B       4843\n",
       "luminal_A       2694\n",
       "luminal_B_Hp    1078\n",
       "3n               950\n",
       "Hp               397\n",
       "Name: imunofenotip, dtype: int64"
      ]
     },
     "execution_count": 11,
     "metadata": {},
     "output_type": "execute_result"
    }
   ],
   "source": [
    "# Checking result\n",
    "df_c[\"imunofenotip\"].value_counts()"
   ]
  },
  {
   "cell_type": "code",
   "execution_count": 25,
   "id": "7a4ec4ce",
   "metadata": {},
   "outputs": [
    {
     "data": {
      "text/plain": [
       "array(['NOS_invazivni', 'lobularni invazivni', 'mucinozni invazivni',\n",
       "       'tubularni invazivni', 'drugi rijetki tipovi',\n",
       "       'Ca s medularnim karakteristikama', 'metaplastični karcinom',\n",
       "       'mikropapilarni invazivni karcinom',\n",
       "       'Ca s apokrinom diferencijacijom', 'mikroinvazivni karcinom',\n",
       "       'kribriformni invazivni', 'inflamatorni', 'miješani NOS/lobularni'],\n",
       "      dtype=object)"
      ]
     },
     "execution_count": 25,
     "metadata": {},
     "output_type": "execute_result"
    }
   ],
   "source": [
    "# Checking result\n",
    "df_c[\"histoloski_tip_txt\"].unique()"
   ]
  },
  {
   "cell_type": "code",
   "execution_count": 26,
   "id": "b32abccd",
   "metadata": {},
   "outputs": [
    {
     "data": {
      "text/plain": [
       "NOS_invazivni                        8053\n",
       "lobularni invazivni                  1170\n",
       "mucinozni invazivni                   218\n",
       "drugi rijetki tipovi                  131\n",
       "Ca s medularnim karakteristikama       72\n",
       "mikropapilarni invazivni karcinom      71\n",
       "kribriformni invazivni                 68\n",
       "metaplastični karcinom                 55\n",
       "Ca s apokrinom diferencijacijom        52\n",
       "tubularni invazivni                    49\n",
       "mikroinvazivni karcinom                21\n",
       "inflamatorni                            1\n",
       "miješani NOS/lobularni                  1\n",
       "Name: histoloski_tip_txt, dtype: int64"
      ]
     },
     "execution_count": 26,
     "metadata": {},
     "output_type": "execute_result"
    }
   ],
   "source": [
    "# Value count on \"histoloski_tip\"\n",
    "df_c[\"histoloski_tip_txt\"].value_counts()"
   ]
  },
  {
   "cell_type": "markdown",
   "id": "50dbdabc",
   "metadata": {},
   "source": [
    "Since \"inflamatorni\" and \"miješani NOS/lobularni\" have just 1 row each, we will add them to \"drugi rijetki tipovi\"."
   ]
  },
  {
   "cell_type": "code",
   "execution_count": 97,
   "id": "4828ef91",
   "metadata": {},
   "outputs": [],
   "source": [
    "# Changing to \"drugi rijetki tipovi\"\n",
    "df_c['histoloski_tip_txt'] = df_c['histoloski_tip_txt'].replace([\"inflamatorni\"],\"drugi rijetki tipovi\")\n",
    "\n",
    "df_c['histoloski_tip_txt'] = df_c['histoloski_tip_txt'].replace([\"miješani NOS/lobularni\"],\"drugi rijetki tipovi\")\n",
    "\n",
    "df_c['histoloski_tip_txt'] = df_c['histoloski_tip_txt'].replace([\"metaplastični karcinom\"],\"drugi rijetki tipovi\")\n",
    "\n",
    "df_c['histoloski_tip_txt'] = df_c['histoloski_tip_txt'].replace([\"Ca s apokrinom diferencijacijom\"],\"drugi rijetki tipovi\")\n",
    "\n",
    "df_c['histoloski_tip_txt'] = df_c['histoloski_tip_txt'].replace([\"mikroinvazivni karcinom\"],\"drugi rijetki tipovi\")\n",
    "\n",
    "df_c['histoloski_tip_txt'] = df_c['histoloski_tip_txt'].replace([\"tubularni invazivni\"],\"drugi rijetki tipovi\")"
   ]
  },
  {
   "cell_type": "code",
   "execution_count": 98,
   "id": "c09fdc68",
   "metadata": {},
   "outputs": [
    {
     "data": {
      "text/plain": [
       "NOS_invazivni                        8053\n",
       "lobularni invazivni                  1170\n",
       "drugi rijetki tipovi                  310\n",
       "mucinozni invazivni                   218\n",
       "Ca s medularnim karakteristikama       72\n",
       "mikropapilarni invazivni karcinom      71\n",
       "kribriformni invazivni                 68\n",
       "Name: histoloski_tip_txt, dtype: int64"
      ]
     },
     "execution_count": 98,
     "metadata": {},
     "output_type": "execute_result"
    }
   ],
   "source": [
    "# Checking result\n",
    "df_c[\"histoloski_tip_txt\"].value_counts()"
   ]
  },
  {
   "cell_type": "code",
   "execution_count": 24,
   "id": "4497a55c",
   "metadata": {},
   "outputs": [
    {
     "data": {
      "text/plain": [
       "histoloski_tip_txt\n",
       "tubularni invazivni                  10.306122\n",
       "miješani NOS/lobularni               15.000000\n",
       "kribriformni invazivni               17.808824\n",
       "lobularni invazivni                  19.590034\n",
       "mucinozni invazivni                  21.731193\n",
       "Ca s apokrinom diferencijacijom      24.846154\n",
       "mikroinvazivni karcinom              26.809524\n",
       "drugi rijetki tipovi                 27.114504\n",
       "mikropapilarni invazivni karcinom    27.295775\n",
       "inflamatorni                         30.000000\n",
       "NOS_invazivni                        30.220887\n",
       "metaplastični karcinom               58.163636\n",
       "Ca s medularnim karakteristikama     62.402778\n",
       "Name: ki67, dtype: float64"
      ]
     },
     "execution_count": 24,
     "metadata": {},
     "output_type": "execute_result"
    }
   ],
   "source": [
    "# Performing group by on \"ki-67\" and calculating the mean (for future feature engineering)\n",
    "#ki_67_gr= df_c.groupby(\"histoloski_tip_txt\")[\"ki67\"].mean()\n",
    "\n",
    "#ki_67_gr.sort_values()"
   ]
  },
  {
   "cell_type": "code",
   "execution_count": 25,
   "id": "1370d282",
   "metadata": {},
   "outputs": [],
   "source": [
    "# Encoding categorical column \"histoloski_tip_txt\"\n",
    "#df_dummies = pd.get_dummies(df_c, columns=['histoloski_tip_txt'])"
   ]
  },
  {
   "cell_type": "code",
   "execution_count": 26,
   "id": "1099189e",
   "metadata": {},
   "outputs": [
    {
     "data": {
      "text/html": [
       "<div>\n",
       "<style scoped>\n",
       "    .dataframe tbody tr th:only-of-type {\n",
       "        vertical-align: middle;\n",
       "    }\n",
       "\n",
       "    .dataframe tbody tr th {\n",
       "        vertical-align: top;\n",
       "    }\n",
       "\n",
       "    .dataframe thead th {\n",
       "        text-align: right;\n",
       "    }\n",
       "</style>\n",
       "<table border=\"1\" class=\"dataframe\">\n",
       "  <thead>\n",
       "    <tr style=\"text-align: right;\">\n",
       "      <th></th>\n",
       "      <th>Unnamed: 0</th>\n",
       "      <th>dob pri dg</th>\n",
       "      <th>velicina_tumora (mm)</th>\n",
       "      <th>gradus</th>\n",
       "      <th>er</th>\n",
       "      <th>pr</th>\n",
       "      <th>her2</th>\n",
       "      <th>ki67</th>\n",
       "      <th>imunofenotip_txt</th>\n",
       "      <th>Target</th>\n",
       "      <th>...</th>\n",
       "      <th>histoloski_tip_txt_drugi rijetki tipovi</th>\n",
       "      <th>histoloski_tip_txt_inflamatorni</th>\n",
       "      <th>histoloski_tip_txt_kribriformni invazivni</th>\n",
       "      <th>histoloski_tip_txt_lobularni invazivni</th>\n",
       "      <th>histoloski_tip_txt_metaplastični karcinom</th>\n",
       "      <th>histoloski_tip_txt_miješani NOS/lobularni</th>\n",
       "      <th>histoloski_tip_txt_mikroinvazivni karcinom</th>\n",
       "      <th>histoloski_tip_txt_mikropapilarni invazivni karcinom</th>\n",
       "      <th>histoloski_tip_txt_mucinozni invazivni</th>\n",
       "      <th>histoloski_tip_txt_tubularni invazivni</th>\n",
       "    </tr>\n",
       "  </thead>\n",
       "  <tbody>\n",
       "    <tr>\n",
       "      <th>0</th>\n",
       "      <td>0</td>\n",
       "      <td>61.0</td>\n",
       "      <td>0.8</td>\n",
       "      <td>2.0</td>\n",
       "      <td>95.0</td>\n",
       "      <td>70.0</td>\n",
       "      <td>0.0</td>\n",
       "      <td>95.0</td>\n",
       "      <td>luminal B</td>\n",
       "      <td>0</td>\n",
       "      <td>...</td>\n",
       "      <td>0</td>\n",
       "      <td>0</td>\n",
       "      <td>0</td>\n",
       "      <td>0</td>\n",
       "      <td>0</td>\n",
       "      <td>0</td>\n",
       "      <td>0</td>\n",
       "      <td>0</td>\n",
       "      <td>0</td>\n",
       "      <td>0</td>\n",
       "    </tr>\n",
       "    <tr>\n",
       "      <th>1</th>\n",
       "      <td>7</td>\n",
       "      <td>75.0</td>\n",
       "      <td>1.8</td>\n",
       "      <td>2.0</td>\n",
       "      <td>100.0</td>\n",
       "      <td>100.0</td>\n",
       "      <td>3.0</td>\n",
       "      <td>35.0</td>\n",
       "      <td>Luminal B HER2poz</td>\n",
       "      <td>1</td>\n",
       "      <td>...</td>\n",
       "      <td>0</td>\n",
       "      <td>0</td>\n",
       "      <td>0</td>\n",
       "      <td>0</td>\n",
       "      <td>0</td>\n",
       "      <td>0</td>\n",
       "      <td>0</td>\n",
       "      <td>0</td>\n",
       "      <td>0</td>\n",
       "      <td>0</td>\n",
       "    </tr>\n",
       "    <tr>\n",
       "      <th>2</th>\n",
       "      <td>8</td>\n",
       "      <td>65.0</td>\n",
       "      <td>1.2</td>\n",
       "      <td>2.0</td>\n",
       "      <td>100.0</td>\n",
       "      <td>15.0</td>\n",
       "      <td>3.0</td>\n",
       "      <td>20.0</td>\n",
       "      <td>Luminal B HER2poz</td>\n",
       "      <td>0</td>\n",
       "      <td>...</td>\n",
       "      <td>0</td>\n",
       "      <td>0</td>\n",
       "      <td>0</td>\n",
       "      <td>0</td>\n",
       "      <td>0</td>\n",
       "      <td>0</td>\n",
       "      <td>0</td>\n",
       "      <td>0</td>\n",
       "      <td>0</td>\n",
       "      <td>0</td>\n",
       "    </tr>\n",
       "    <tr>\n",
       "      <th>3</th>\n",
       "      <td>9</td>\n",
       "      <td>71.0</td>\n",
       "      <td>3.0</td>\n",
       "      <td>2.0</td>\n",
       "      <td>85.0</td>\n",
       "      <td>3.0</td>\n",
       "      <td>2.0</td>\n",
       "      <td>35.0</td>\n",
       "      <td>luminal B</td>\n",
       "      <td>1</td>\n",
       "      <td>...</td>\n",
       "      <td>0</td>\n",
       "      <td>0</td>\n",
       "      <td>0</td>\n",
       "      <td>0</td>\n",
       "      <td>0</td>\n",
       "      <td>0</td>\n",
       "      <td>0</td>\n",
       "      <td>0</td>\n",
       "      <td>0</td>\n",
       "      <td>0</td>\n",
       "    </tr>\n",
       "    <tr>\n",
       "      <th>4</th>\n",
       "      <td>10</td>\n",
       "      <td>82.0</td>\n",
       "      <td>3.0</td>\n",
       "      <td>2.0</td>\n",
       "      <td>0.0</td>\n",
       "      <td>0.0</td>\n",
       "      <td>0.0</td>\n",
       "      <td>50.0</td>\n",
       "      <td>trostruko negativni</td>\n",
       "      <td>1</td>\n",
       "      <td>...</td>\n",
       "      <td>0</td>\n",
       "      <td>0</td>\n",
       "      <td>0</td>\n",
       "      <td>0</td>\n",
       "      <td>0</td>\n",
       "      <td>0</td>\n",
       "      <td>0</td>\n",
       "      <td>0</td>\n",
       "      <td>0</td>\n",
       "      <td>0</td>\n",
       "    </tr>\n",
       "    <tr>\n",
       "      <th>...</th>\n",
       "      <td>...</td>\n",
       "      <td>...</td>\n",
       "      <td>...</td>\n",
       "      <td>...</td>\n",
       "      <td>...</td>\n",
       "      <td>...</td>\n",
       "      <td>...</td>\n",
       "      <td>...</td>\n",
       "      <td>...</td>\n",
       "      <td>...</td>\n",
       "      <td>...</td>\n",
       "      <td>...</td>\n",
       "      <td>...</td>\n",
       "      <td>...</td>\n",
       "      <td>...</td>\n",
       "      <td>...</td>\n",
       "      <td>...</td>\n",
       "      <td>...</td>\n",
       "      <td>...</td>\n",
       "      <td>...</td>\n",
       "      <td>...</td>\n",
       "    </tr>\n",
       "    <tr>\n",
       "      <th>9957</th>\n",
       "      <td>13678</td>\n",
       "      <td>43.0</td>\n",
       "      <td>0.5</td>\n",
       "      <td>2.0</td>\n",
       "      <td>100.0</td>\n",
       "      <td>35.0</td>\n",
       "      <td>1.0</td>\n",
       "      <td>42.0</td>\n",
       "      <td>luminal B</td>\n",
       "      <td>1</td>\n",
       "      <td>...</td>\n",
       "      <td>0</td>\n",
       "      <td>0</td>\n",
       "      <td>0</td>\n",
       "      <td>0</td>\n",
       "      <td>0</td>\n",
       "      <td>0</td>\n",
       "      <td>0</td>\n",
       "      <td>0</td>\n",
       "      <td>0</td>\n",
       "      <td>0</td>\n",
       "    </tr>\n",
       "    <tr>\n",
       "      <th>9958</th>\n",
       "      <td>13679</td>\n",
       "      <td>66.0</td>\n",
       "      <td>4.8</td>\n",
       "      <td>2.0</td>\n",
       "      <td>100.0</td>\n",
       "      <td>90.0</td>\n",
       "      <td>0.0</td>\n",
       "      <td>44.0</td>\n",
       "      <td>luminal B</td>\n",
       "      <td>1</td>\n",
       "      <td>...</td>\n",
       "      <td>0</td>\n",
       "      <td>0</td>\n",
       "      <td>0</td>\n",
       "      <td>0</td>\n",
       "      <td>0</td>\n",
       "      <td>0</td>\n",
       "      <td>0</td>\n",
       "      <td>0</td>\n",
       "      <td>0</td>\n",
       "      <td>0</td>\n",
       "    </tr>\n",
       "    <tr>\n",
       "      <th>9959</th>\n",
       "      <td>13680</td>\n",
       "      <td>57.0</td>\n",
       "      <td>0.8</td>\n",
       "      <td>2.0</td>\n",
       "      <td>25.0</td>\n",
       "      <td>25.0</td>\n",
       "      <td>1.0</td>\n",
       "      <td>34.0</td>\n",
       "      <td>luminal B</td>\n",
       "      <td>1</td>\n",
       "      <td>...</td>\n",
       "      <td>0</td>\n",
       "      <td>0</td>\n",
       "      <td>0</td>\n",
       "      <td>0</td>\n",
       "      <td>0</td>\n",
       "      <td>0</td>\n",
       "      <td>0</td>\n",
       "      <td>0</td>\n",
       "      <td>0</td>\n",
       "      <td>0</td>\n",
       "    </tr>\n",
       "    <tr>\n",
       "      <th>9960</th>\n",
       "      <td>13681</td>\n",
       "      <td>46.0</td>\n",
       "      <td>1.6</td>\n",
       "      <td>2.0</td>\n",
       "      <td>100.0</td>\n",
       "      <td>1.0</td>\n",
       "      <td>0.0</td>\n",
       "      <td>42.0</td>\n",
       "      <td>luminal B</td>\n",
       "      <td>1</td>\n",
       "      <td>...</td>\n",
       "      <td>0</td>\n",
       "      <td>0</td>\n",
       "      <td>0</td>\n",
       "      <td>0</td>\n",
       "      <td>0</td>\n",
       "      <td>0</td>\n",
       "      <td>0</td>\n",
       "      <td>0</td>\n",
       "      <td>0</td>\n",
       "      <td>0</td>\n",
       "    </tr>\n",
       "    <tr>\n",
       "      <th>9961</th>\n",
       "      <td>13682</td>\n",
       "      <td>43.0</td>\n",
       "      <td>1.5</td>\n",
       "      <td>3.0</td>\n",
       "      <td>0.0</td>\n",
       "      <td>0.0</td>\n",
       "      <td>3.0</td>\n",
       "      <td>85.0</td>\n",
       "      <td>HER2 pozitivni</td>\n",
       "      <td>0</td>\n",
       "      <td>...</td>\n",
       "      <td>0</td>\n",
       "      <td>0</td>\n",
       "      <td>0</td>\n",
       "      <td>0</td>\n",
       "      <td>0</td>\n",
       "      <td>0</td>\n",
       "      <td>0</td>\n",
       "      <td>0</td>\n",
       "      <td>0</td>\n",
       "      <td>0</td>\n",
       "    </tr>\n",
       "  </tbody>\n",
       "</table>\n",
       "<p>9962 rows × 23 columns</p>\n",
       "</div>"
      ],
      "text/plain": [
       "      Unnamed: 0  dob pri dg  velicina_tumora (mm)  gradus     er     pr  \\\n",
       "0              0        61.0                   0.8     2.0   95.0   70.0   \n",
       "1              7        75.0                   1.8     2.0  100.0  100.0   \n",
       "2              8        65.0                   1.2     2.0  100.0   15.0   \n",
       "3              9        71.0                   3.0     2.0   85.0    3.0   \n",
       "4             10        82.0                   3.0     2.0    0.0    0.0   \n",
       "...          ...         ...                   ...     ...    ...    ...   \n",
       "9957       13678        43.0                   0.5     2.0  100.0   35.0   \n",
       "9958       13679        66.0                   4.8     2.0  100.0   90.0   \n",
       "9959       13680        57.0                   0.8     2.0   25.0   25.0   \n",
       "9960       13681        46.0                   1.6     2.0  100.0    1.0   \n",
       "9961       13682        43.0                   1.5     3.0    0.0    0.0   \n",
       "\n",
       "      her2  ki67     imunofenotip_txt  Target  ...  \\\n",
       "0      0.0  95.0           luminal B        0  ...   \n",
       "1      3.0  35.0    Luminal B HER2poz       1  ...   \n",
       "2      3.0  20.0    Luminal B HER2poz       0  ...   \n",
       "3      2.0  35.0           luminal B        1  ...   \n",
       "4      0.0  50.0  trostruko negativni       1  ...   \n",
       "...    ...   ...                  ...     ...  ...   \n",
       "9957   1.0  42.0           luminal B        1  ...   \n",
       "9958   0.0  44.0           luminal B        1  ...   \n",
       "9959   1.0  34.0           luminal B        1  ...   \n",
       "9960   0.0  42.0           luminal B        1  ...   \n",
       "9961   3.0  85.0       HER2 pozitivni       0  ...   \n",
       "\n",
       "      histoloski_tip_txt_drugi rijetki tipovi  \\\n",
       "0                                           0   \n",
       "1                                           0   \n",
       "2                                           0   \n",
       "3                                           0   \n",
       "4                                           0   \n",
       "...                                       ...   \n",
       "9957                                        0   \n",
       "9958                                        0   \n",
       "9959                                        0   \n",
       "9960                                        0   \n",
       "9961                                        0   \n",
       "\n",
       "      histoloski_tip_txt_inflamatorni  \\\n",
       "0                                   0   \n",
       "1                                   0   \n",
       "2                                   0   \n",
       "3                                   0   \n",
       "4                                   0   \n",
       "...                               ...   \n",
       "9957                                0   \n",
       "9958                                0   \n",
       "9959                                0   \n",
       "9960                                0   \n",
       "9961                                0   \n",
       "\n",
       "      histoloski_tip_txt_kribriformni invazivni  \\\n",
       "0                                             0   \n",
       "1                                             0   \n",
       "2                                             0   \n",
       "3                                             0   \n",
       "4                                             0   \n",
       "...                                         ...   \n",
       "9957                                          0   \n",
       "9958                                          0   \n",
       "9959                                          0   \n",
       "9960                                          0   \n",
       "9961                                          0   \n",
       "\n",
       "      histoloski_tip_txt_lobularni invazivni  \\\n",
       "0                                          0   \n",
       "1                                          0   \n",
       "2                                          0   \n",
       "3                                          0   \n",
       "4                                          0   \n",
       "...                                      ...   \n",
       "9957                                       0   \n",
       "9958                                       0   \n",
       "9959                                       0   \n",
       "9960                                       0   \n",
       "9961                                       0   \n",
       "\n",
       "      histoloski_tip_txt_metaplastični karcinom  \\\n",
       "0                                             0   \n",
       "1                                             0   \n",
       "2                                             0   \n",
       "3                                             0   \n",
       "4                                             0   \n",
       "...                                         ...   \n",
       "9957                                          0   \n",
       "9958                                          0   \n",
       "9959                                          0   \n",
       "9960                                          0   \n",
       "9961                                          0   \n",
       "\n",
       "      histoloski_tip_txt_miješani NOS/lobularni  \\\n",
       "0                                             0   \n",
       "1                                             0   \n",
       "2                                             0   \n",
       "3                                             0   \n",
       "4                                             0   \n",
       "...                                         ...   \n",
       "9957                                          0   \n",
       "9958                                          0   \n",
       "9959                                          0   \n",
       "9960                                          0   \n",
       "9961                                          0   \n",
       "\n",
       "      histoloski_tip_txt_mikroinvazivni karcinom  \\\n",
       "0                                              0   \n",
       "1                                              0   \n",
       "2                                              0   \n",
       "3                                              0   \n",
       "4                                              0   \n",
       "...                                          ...   \n",
       "9957                                           0   \n",
       "9958                                           0   \n",
       "9959                                           0   \n",
       "9960                                           0   \n",
       "9961                                           0   \n",
       "\n",
       "      histoloski_tip_txt_mikropapilarni invazivni karcinom  \\\n",
       "0                                                     0      \n",
       "1                                                     0      \n",
       "2                                                     0      \n",
       "3                                                     0      \n",
       "4                                                     0      \n",
       "...                                                 ...      \n",
       "9957                                                  0      \n",
       "9958                                                  0      \n",
       "9959                                                  0      \n",
       "9960                                                  0      \n",
       "9961                                                  0      \n",
       "\n",
       "      histoloski_tip_txt_mucinozni invazivni  \\\n",
       "0                                          0   \n",
       "1                                          0   \n",
       "2                                          0   \n",
       "3                                          0   \n",
       "4                                          0   \n",
       "...                                      ...   \n",
       "9957                                       0   \n",
       "9958                                       0   \n",
       "9959                                       0   \n",
       "9960                                       0   \n",
       "9961                                       0   \n",
       "\n",
       "      histoloski_tip_txt_tubularni invazivni  \n",
       "0                                          0  \n",
       "1                                          0  \n",
       "2                                          0  \n",
       "3                                          0  \n",
       "4                                          0  \n",
       "...                                      ...  \n",
       "9957                                       0  \n",
       "9958                                       0  \n",
       "9959                                       0  \n",
       "9960                                       0  \n",
       "9961                                       0  \n",
       "\n",
       "[9962 rows x 23 columns]"
      ]
     },
     "execution_count": 26,
     "metadata": {},
     "output_type": "execute_result"
    }
   ],
   "source": [
    "#df_dummies"
   ]
  },
  {
   "cell_type": "code",
   "execution_count": 21,
   "id": "cdbb3359",
   "metadata": {},
   "outputs": [
    {
     "data": {
      "text/html": [
       "<div>\n",
       "<style scoped>\n",
       "    .dataframe tbody tr th:only-of-type {\n",
       "        vertical-align: middle;\n",
       "    }\n",
       "\n",
       "    .dataframe tbody tr th {\n",
       "        vertical-align: top;\n",
       "    }\n",
       "\n",
       "    .dataframe thead th {\n",
       "        text-align: right;\n",
       "    }\n",
       "</style>\n",
       "<table border=\"1\" class=\"dataframe\">\n",
       "  <thead>\n",
       "    <tr style=\"text-align: right;\">\n",
       "      <th></th>\n",
       "      <th>dob</th>\n",
       "      <th>velicina_mm</th>\n",
       "      <th>hist_tip</th>\n",
       "      <th>gradus</th>\n",
       "      <th>er</th>\n",
       "      <th>pr</th>\n",
       "      <th>her2</th>\n",
       "      <th>ki67</th>\n",
       "      <th>imunofenotip</th>\n",
       "      <th>Target</th>\n",
       "    </tr>\n",
       "  </thead>\n",
       "  <tbody>\n",
       "    <tr>\n",
       "      <th>0</th>\n",
       "      <td>61</td>\n",
       "      <td>0.8</td>\n",
       "      <td>NOSinvazivnikarcinom</td>\n",
       "      <td>2</td>\n",
       "      <td>95.0</td>\n",
       "      <td>70</td>\n",
       "      <td>0</td>\n",
       "      <td>95.0</td>\n",
       "      <td>luminal_B</td>\n",
       "      <td>0</td>\n",
       "    </tr>\n",
       "    <tr>\n",
       "      <th>1</th>\n",
       "      <td>75</td>\n",
       "      <td>1.8</td>\n",
       "      <td>NOSinvazivnikarcinom</td>\n",
       "      <td>2</td>\n",
       "      <td>100.0</td>\n",
       "      <td>100</td>\n",
       "      <td>3</td>\n",
       "      <td>35.0</td>\n",
       "      <td>luminal_B_Hp</td>\n",
       "      <td>1</td>\n",
       "    </tr>\n",
       "    <tr>\n",
       "      <th>2</th>\n",
       "      <td>65</td>\n",
       "      <td>1.2</td>\n",
       "      <td>NOSinvazivnikarcinom</td>\n",
       "      <td>2</td>\n",
       "      <td>100.0</td>\n",
       "      <td>15</td>\n",
       "      <td>3</td>\n",
       "      <td>20.0</td>\n",
       "      <td>luminal_B_Hp</td>\n",
       "      <td>0</td>\n",
       "    </tr>\n",
       "    <tr>\n",
       "      <th>3</th>\n",
       "      <td>71</td>\n",
       "      <td>3.0</td>\n",
       "      <td>NOSinvazivnikarcinom</td>\n",
       "      <td>2</td>\n",
       "      <td>85.0</td>\n",
       "      <td>3</td>\n",
       "      <td>2</td>\n",
       "      <td>35.0</td>\n",
       "      <td>luminal_B</td>\n",
       "      <td>1</td>\n",
       "    </tr>\n",
       "    <tr>\n",
       "      <th>4</th>\n",
       "      <td>82</td>\n",
       "      <td>3.0</td>\n",
       "      <td>NOSinvazivnikarcinom</td>\n",
       "      <td>2</td>\n",
       "      <td>0.0</td>\n",
       "      <td>0</td>\n",
       "      <td>0</td>\n",
       "      <td>50.0</td>\n",
       "      <td>3n</td>\n",
       "      <td>1</td>\n",
       "    </tr>\n",
       "    <tr>\n",
       "      <th>...</th>\n",
       "      <td>...</td>\n",
       "      <td>...</td>\n",
       "      <td>...</td>\n",
       "      <td>...</td>\n",
       "      <td>...</td>\n",
       "      <td>...</td>\n",
       "      <td>...</td>\n",
       "      <td>...</td>\n",
       "      <td>...</td>\n",
       "      <td>...</td>\n",
       "    </tr>\n",
       "    <tr>\n",
       "      <th>9957</th>\n",
       "      <td>43</td>\n",
       "      <td>0.5</td>\n",
       "      <td>NOSinvazivnikarcinom</td>\n",
       "      <td>2</td>\n",
       "      <td>100.0</td>\n",
       "      <td>35</td>\n",
       "      <td>1</td>\n",
       "      <td>42.0</td>\n",
       "      <td>luminal_B</td>\n",
       "      <td>1</td>\n",
       "    </tr>\n",
       "    <tr>\n",
       "      <th>9958</th>\n",
       "      <td>66</td>\n",
       "      <td>4.8</td>\n",
       "      <td>NOSinvazivnikarcinom</td>\n",
       "      <td>2</td>\n",
       "      <td>100.0</td>\n",
       "      <td>90</td>\n",
       "      <td>0</td>\n",
       "      <td>44.0</td>\n",
       "      <td>luminal_B</td>\n",
       "      <td>1</td>\n",
       "    </tr>\n",
       "    <tr>\n",
       "      <th>9959</th>\n",
       "      <td>57</td>\n",
       "      <td>0.8</td>\n",
       "      <td>NOSinvazivnikarcinom</td>\n",
       "      <td>2</td>\n",
       "      <td>25.0</td>\n",
       "      <td>25</td>\n",
       "      <td>1</td>\n",
       "      <td>34.0</td>\n",
       "      <td>luminal_B</td>\n",
       "      <td>1</td>\n",
       "    </tr>\n",
       "    <tr>\n",
       "      <th>9960</th>\n",
       "      <td>46</td>\n",
       "      <td>1.6</td>\n",
       "      <td>NOSinvazivnikarcinom</td>\n",
       "      <td>2</td>\n",
       "      <td>100.0</td>\n",
       "      <td>1</td>\n",
       "      <td>0</td>\n",
       "      <td>42.0</td>\n",
       "      <td>luminal_B</td>\n",
       "      <td>1</td>\n",
       "    </tr>\n",
       "    <tr>\n",
       "      <th>9961</th>\n",
       "      <td>43</td>\n",
       "      <td>1.5</td>\n",
       "      <td>NOSinvazivnikarcinom</td>\n",
       "      <td>3</td>\n",
       "      <td>0.0</td>\n",
       "      <td>0</td>\n",
       "      <td>3</td>\n",
       "      <td>85.0</td>\n",
       "      <td>Hp</td>\n",
       "      <td>0</td>\n",
       "    </tr>\n",
       "  </tbody>\n",
       "</table>\n",
       "<p>9962 rows × 10 columns</p>\n",
       "</div>"
      ],
      "text/plain": [
       "      dob  velicina_mm              hist_tip  gradus     er   pr  her2  ki67  \\\n",
       "0      61          0.8  NOSinvazivnikarcinom       2   95.0   70     0  95.0   \n",
       "1      75          1.8  NOSinvazivnikarcinom       2  100.0  100     3  35.0   \n",
       "2      65          1.2  NOSinvazivnikarcinom       2  100.0   15     3  20.0   \n",
       "3      71          3.0  NOSinvazivnikarcinom       2   85.0    3     2  35.0   \n",
       "4      82          3.0  NOSinvazivnikarcinom       2    0.0    0     0  50.0   \n",
       "...   ...          ...                   ...     ...    ...  ...   ...   ...   \n",
       "9957   43          0.5  NOSinvazivnikarcinom       2  100.0   35     1  42.0   \n",
       "9958   66          4.8  NOSinvazivnikarcinom       2  100.0   90     0  44.0   \n",
       "9959   57          0.8  NOSinvazivnikarcinom       2   25.0   25     1  34.0   \n",
       "9960   46          1.6  NOSinvazivnikarcinom       2  100.0    1     0  42.0   \n",
       "9961   43          1.5  NOSinvazivnikarcinom       3    0.0    0     3  85.0   \n",
       "\n",
       "      imunofenotip  Target  \n",
       "0        luminal_B       0  \n",
       "1     luminal_B_Hp       1  \n",
       "2     luminal_B_Hp       0  \n",
       "3        luminal_B       1  \n",
       "4               3n       1  \n",
       "...            ...     ...  \n",
       "9957     luminal_B       1  \n",
       "9958     luminal_B       1  \n",
       "9959     luminal_B       1  \n",
       "9960     luminal_B       1  \n",
       "9961            Hp       0  \n",
       "\n",
       "[9962 rows x 10 columns]"
      ]
     },
     "execution_count": 21,
     "metadata": {},
     "output_type": "execute_result"
    }
   ],
   "source": [
    "df_c"
   ]
  },
  {
   "cell_type": "code",
   "execution_count": 13,
   "id": "41300418",
   "metadata": {},
   "outputs": [],
   "source": [
    "# Importing libraries\n",
    "import catboost as cb\n",
    "from sklearn.model_selection import train_test_split\n",
    "from sklearn.pipeline import Pipeline\n",
    "from sklearn.preprocessing import MinMaxScaler, StandardScaler, OneHotEncoder\n",
    "from sklearn.impute import SimpleImputer\n",
    "from sklearn.compose import ColumnTransformer\n",
    "from catboost import CatBoostClassifier\n",
    "from catboost import Pool, cv\n",
    "from sklearn.metrics import roc_curve, roc_auc_score\n",
    "import optuna\n",
    "from sklearn.preprocessing import OrdinalEncoder\n",
    "\n",
    "\n",
    "X= df_c.drop([\"Target\"], axis=1)\n",
    "y= df_c[\"Target\"]\n"
   ]
  },
  {
   "cell_type": "code",
   "execution_count": 24,
   "id": "947e203e",
   "metadata": {},
   "outputs": [],
   "source": [
    "# Picking numerical columns\n",
    "num_cols = [\"dob\", \"velicina_mm\", \"er\", \"pr\", \"her2\", \"ki67\", \"gradus\"]"
   ]
  },
  {
   "cell_type": "code",
   "execution_count": 25,
   "id": "15a8ef5c",
   "metadata": {},
   "outputs": [],
   "source": [
    "X_train, X_test, y_train, y_test = train_test_split(X, y, test_size = 0.1, random_state=68, stratify=y)"
   ]
  },
  {
   "cell_type": "code",
   "execution_count": 26,
   "id": "cf8423e1",
   "metadata": {},
   "outputs": [],
   "source": [
    "# Scaling numerical data\n",
    "scaler= StandardScaler()\n",
    "X[num_cols]= scaler.fit_transform(X[num_cols])\n"
   ]
  },
  {
   "cell_type": "code",
   "execution_count": 27,
   "id": "e7c0dfa7",
   "metadata": {},
   "outputs": [
    {
     "data": {
      "text/html": [
       "<div>\n",
       "<style scoped>\n",
       "    .dataframe tbody tr th:only-of-type {\n",
       "        vertical-align: middle;\n",
       "    }\n",
       "\n",
       "    .dataframe tbody tr th {\n",
       "        vertical-align: top;\n",
       "    }\n",
       "\n",
       "    .dataframe thead th {\n",
       "        text-align: right;\n",
       "    }\n",
       "</style>\n",
       "<table border=\"1\" class=\"dataframe\">\n",
       "  <thead>\n",
       "    <tr style=\"text-align: right;\">\n",
       "      <th></th>\n",
       "      <th>dob</th>\n",
       "      <th>velicina_mm</th>\n",
       "      <th>hist_tip</th>\n",
       "      <th>gradus</th>\n",
       "      <th>er</th>\n",
       "      <th>pr</th>\n",
       "      <th>her2</th>\n",
       "      <th>ki67</th>\n",
       "      <th>imunofenotip</th>\n",
       "    </tr>\n",
       "  </thead>\n",
       "  <tbody>\n",
       "    <tr>\n",
       "      <th>0</th>\n",
       "      <td>-0.020013</td>\n",
       "      <td>-0.757949</td>\n",
       "      <td>NOSinvazivnikarcinom</td>\n",
       "      <td>-0.004670</td>\n",
       "      <td>0.425624</td>\n",
       "      <td>0.498644</td>\n",
       "      <td>-0.891545</td>\n",
       "      <td>3.281509</td>\n",
       "      <td>luminal_B</td>\n",
       "    </tr>\n",
       "    <tr>\n",
       "      <th>1</th>\n",
       "      <td>1.087613</td>\n",
       "      <td>-0.173603</td>\n",
       "      <td>NOSinvazivnikarcinom</td>\n",
       "      <td>-0.004670</td>\n",
       "      <td>0.572657</td>\n",
       "      <td>1.255326</td>\n",
       "      <td>2.098548</td>\n",
       "      <td>0.303182</td>\n",
       "      <td>luminal_B_Hp</td>\n",
       "    </tr>\n",
       "    <tr>\n",
       "      <th>2</th>\n",
       "      <td>0.296451</td>\n",
       "      <td>-0.524210</td>\n",
       "      <td>NOSinvazivnikarcinom</td>\n",
       "      <td>-0.004670</td>\n",
       "      <td>0.572657</td>\n",
       "      <td>-0.888606</td>\n",
       "      <td>2.098548</td>\n",
       "      <td>-0.441400</td>\n",
       "      <td>luminal_B_Hp</td>\n",
       "    </tr>\n",
       "    <tr>\n",
       "      <th>3</th>\n",
       "      <td>0.771148</td>\n",
       "      <td>0.527612</td>\n",
       "      <td>NOSinvazivnikarcinom</td>\n",
       "      <td>-0.004670</td>\n",
       "      <td>0.131558</td>\n",
       "      <td>-1.191279</td>\n",
       "      <td>1.101850</td>\n",
       "      <td>0.303182</td>\n",
       "      <td>luminal_B</td>\n",
       "    </tr>\n",
       "    <tr>\n",
       "      <th>4</th>\n",
       "      <td>1.641426</td>\n",
       "      <td>0.527612</td>\n",
       "      <td>NOSinvazivnikarcinom</td>\n",
       "      <td>-0.004670</td>\n",
       "      <td>-2.368004</td>\n",
       "      <td>-1.266947</td>\n",
       "      <td>-0.891545</td>\n",
       "      <td>1.047763</td>\n",
       "      <td>3n</td>\n",
       "    </tr>\n",
       "    <tr>\n",
       "      <th>...</th>\n",
       "      <td>...</td>\n",
       "      <td>...</td>\n",
       "      <td>...</td>\n",
       "      <td>...</td>\n",
       "      <td>...</td>\n",
       "      <td>...</td>\n",
       "      <td>...</td>\n",
       "      <td>...</td>\n",
       "      <td>...</td>\n",
       "    </tr>\n",
       "    <tr>\n",
       "      <th>9957</th>\n",
       "      <td>-1.444104</td>\n",
       "      <td>-0.933252</td>\n",
       "      <td>NOSinvazivnikarcinom</td>\n",
       "      <td>-0.004670</td>\n",
       "      <td>0.572657</td>\n",
       "      <td>-0.384152</td>\n",
       "      <td>0.105153</td>\n",
       "      <td>0.650653</td>\n",
       "      <td>luminal_B</td>\n",
       "    </tr>\n",
       "    <tr>\n",
       "      <th>9958</th>\n",
       "      <td>0.375568</td>\n",
       "      <td>1.579435</td>\n",
       "      <td>NOSinvazivnikarcinom</td>\n",
       "      <td>-0.004670</td>\n",
       "      <td>0.572657</td>\n",
       "      <td>1.003098</td>\n",
       "      <td>-0.891545</td>\n",
       "      <td>0.749931</td>\n",
       "      <td>luminal_B</td>\n",
       "    </tr>\n",
       "    <tr>\n",
       "      <th>9959</th>\n",
       "      <td>-0.336478</td>\n",
       "      <td>-0.757949</td>\n",
       "      <td>NOSinvazivnikarcinom</td>\n",
       "      <td>-0.004670</td>\n",
       "      <td>-1.632838</td>\n",
       "      <td>-0.636379</td>\n",
       "      <td>0.105153</td>\n",
       "      <td>0.253543</td>\n",
       "      <td>luminal_B</td>\n",
       "    </tr>\n",
       "    <tr>\n",
       "      <th>9960</th>\n",
       "      <td>-1.206756</td>\n",
       "      <td>-0.290472</td>\n",
       "      <td>NOSinvazivnikarcinom</td>\n",
       "      <td>-0.004670</td>\n",
       "      <td>0.572657</td>\n",
       "      <td>-1.241724</td>\n",
       "      <td>-0.891545</td>\n",
       "      <td>0.650653</td>\n",
       "      <td>luminal_B</td>\n",
       "    </tr>\n",
       "    <tr>\n",
       "      <th>9961</th>\n",
       "      <td>-1.444104</td>\n",
       "      <td>-0.348907</td>\n",
       "      <td>NOSinvazivnikarcinom</td>\n",
       "      <td>1.496118</td>\n",
       "      <td>-2.368004</td>\n",
       "      <td>-1.266947</td>\n",
       "      <td>2.098548</td>\n",
       "      <td>2.785121</td>\n",
       "      <td>Hp</td>\n",
       "    </tr>\n",
       "  </tbody>\n",
       "</table>\n",
       "<p>9962 rows × 9 columns</p>\n",
       "</div>"
      ],
      "text/plain": [
       "           dob  velicina_mm              hist_tip    gradus        er  \\\n",
       "0    -0.020013    -0.757949  NOSinvazivnikarcinom -0.004670  0.425624   \n",
       "1     1.087613    -0.173603  NOSinvazivnikarcinom -0.004670  0.572657   \n",
       "2     0.296451    -0.524210  NOSinvazivnikarcinom -0.004670  0.572657   \n",
       "3     0.771148     0.527612  NOSinvazivnikarcinom -0.004670  0.131558   \n",
       "4     1.641426     0.527612  NOSinvazivnikarcinom -0.004670 -2.368004   \n",
       "...        ...          ...                   ...       ...       ...   \n",
       "9957 -1.444104    -0.933252  NOSinvazivnikarcinom -0.004670  0.572657   \n",
       "9958  0.375568     1.579435  NOSinvazivnikarcinom -0.004670  0.572657   \n",
       "9959 -0.336478    -0.757949  NOSinvazivnikarcinom -0.004670 -1.632838   \n",
       "9960 -1.206756    -0.290472  NOSinvazivnikarcinom -0.004670  0.572657   \n",
       "9961 -1.444104    -0.348907  NOSinvazivnikarcinom  1.496118 -2.368004   \n",
       "\n",
       "            pr      her2      ki67  imunofenotip  \n",
       "0     0.498644 -0.891545  3.281509     luminal_B  \n",
       "1     1.255326  2.098548  0.303182  luminal_B_Hp  \n",
       "2    -0.888606  2.098548 -0.441400  luminal_B_Hp  \n",
       "3    -1.191279  1.101850  0.303182     luminal_B  \n",
       "4    -1.266947 -0.891545  1.047763            3n  \n",
       "...        ...       ...       ...           ...  \n",
       "9957 -0.384152  0.105153  0.650653     luminal_B  \n",
       "9958  1.003098 -0.891545  0.749931     luminal_B  \n",
       "9959 -0.636379  0.105153  0.253543     luminal_B  \n",
       "9960 -1.241724 -0.891545  0.650653     luminal_B  \n",
       "9961 -1.266947  2.098548  2.785121            Hp  \n",
       "\n",
       "[9962 rows x 9 columns]"
      ]
     },
     "execution_count": 27,
     "metadata": {},
     "output_type": "execute_result"
    }
   ],
   "source": [
    "X"
   ]
  },
  {
   "cell_type": "code",
   "execution_count": 62,
   "id": "0f8af918",
   "metadata": {},
   "outputs": [],
   "source": [
    "X_train, X_test, y_train, y_test = train_test_split(X, y, test_size = 0.1, random_state=68, stratify=y)"
   ]
  },
  {
   "cell_type": "code",
   "execution_count": 63,
   "id": "dcae9073",
   "metadata": {},
   "outputs": [],
   "source": [
    "# Picking categorical columns\n",
    "categorical_features_indices = np.where(X_train.dtypes != float)[0]"
   ]
  },
  {
   "cell_type": "code",
   "execution_count": 54,
   "id": "8733f2f3",
   "metadata": {},
   "outputs": [
    {
     "ename": "ValueError",
     "evalue": "The least populated class in y has only 1 member, which is too few. The minimum number of groups for any class cannot be less than 2.",
     "output_type": "error",
     "traceback": [
      "\u001b[1;31m---------------------------------------------------------------------------\u001b[0m",
      "\u001b[1;31mValueError\u001b[0m                                Traceback (most recent call last)",
      "\u001b[1;32m<ipython-input-54-ef03e7d8f587>\u001b[0m in \u001b[0;36m<module>\u001b[1;34m\u001b[0m\n\u001b[1;32m----> 1\u001b[1;33m X_train, X_test, y_train, y_test = train_test_split(\n\u001b[0m\u001b[0;32m      2\u001b[0m     X, pd.concat([X[\"histoloski_tip_txt\"], y], axis=1), stratify=pd.concat([X[\"histoloski_tip_txt\"], y], axis=1))\n",
      "\u001b[1;32m~\\anaconda3\\lib\\site-packages\\sklearn\\model_selection\\_split.py\u001b[0m in \u001b[0;36mtrain_test_split\u001b[1;34m(test_size, train_size, random_state, shuffle, stratify, *arrays)\u001b[0m\n\u001b[0;32m   2467\u001b[0m         \u001b[0mcv\u001b[0m \u001b[1;33m=\u001b[0m \u001b[0mCVClass\u001b[0m\u001b[1;33m(\u001b[0m\u001b[0mtest_size\u001b[0m\u001b[1;33m=\u001b[0m\u001b[0mn_test\u001b[0m\u001b[1;33m,\u001b[0m \u001b[0mtrain_size\u001b[0m\u001b[1;33m=\u001b[0m\u001b[0mn_train\u001b[0m\u001b[1;33m,\u001b[0m \u001b[0mrandom_state\u001b[0m\u001b[1;33m=\u001b[0m\u001b[0mrandom_state\u001b[0m\u001b[1;33m)\u001b[0m\u001b[1;33m\u001b[0m\u001b[1;33m\u001b[0m\u001b[0m\n\u001b[0;32m   2468\u001b[0m \u001b[1;33m\u001b[0m\u001b[0m\n\u001b[1;32m-> 2469\u001b[1;33m         \u001b[0mtrain\u001b[0m\u001b[1;33m,\u001b[0m \u001b[0mtest\u001b[0m \u001b[1;33m=\u001b[0m \u001b[0mnext\u001b[0m\u001b[1;33m(\u001b[0m\u001b[0mcv\u001b[0m\u001b[1;33m.\u001b[0m\u001b[0msplit\u001b[0m\u001b[1;33m(\u001b[0m\u001b[0mX\u001b[0m\u001b[1;33m=\u001b[0m\u001b[0marrays\u001b[0m\u001b[1;33m[\u001b[0m\u001b[1;36m0\u001b[0m\u001b[1;33m]\u001b[0m\u001b[1;33m,\u001b[0m \u001b[0my\u001b[0m\u001b[1;33m=\u001b[0m\u001b[0mstratify\u001b[0m\u001b[1;33m)\u001b[0m\u001b[1;33m)\u001b[0m\u001b[1;33m\u001b[0m\u001b[1;33m\u001b[0m\u001b[0m\n\u001b[0m\u001b[0;32m   2470\u001b[0m \u001b[1;33m\u001b[0m\u001b[0m\n\u001b[0;32m   2471\u001b[0m     return list(\n",
      "\u001b[1;32m~\\anaconda3\\lib\\site-packages\\sklearn\\model_selection\\_split.py\u001b[0m in \u001b[0;36msplit\u001b[1;34m(self, X, y, groups)\u001b[0m\n\u001b[0;32m   1620\u001b[0m         \"\"\"\n\u001b[0;32m   1621\u001b[0m         \u001b[0mX\u001b[0m\u001b[1;33m,\u001b[0m \u001b[0my\u001b[0m\u001b[1;33m,\u001b[0m \u001b[0mgroups\u001b[0m \u001b[1;33m=\u001b[0m \u001b[0mindexable\u001b[0m\u001b[1;33m(\u001b[0m\u001b[0mX\u001b[0m\u001b[1;33m,\u001b[0m \u001b[0my\u001b[0m\u001b[1;33m,\u001b[0m \u001b[0mgroups\u001b[0m\u001b[1;33m)\u001b[0m\u001b[1;33m\u001b[0m\u001b[1;33m\u001b[0m\u001b[0m\n\u001b[1;32m-> 1622\u001b[1;33m         \u001b[1;32mfor\u001b[0m \u001b[0mtrain\u001b[0m\u001b[1;33m,\u001b[0m \u001b[0mtest\u001b[0m \u001b[1;32min\u001b[0m \u001b[0mself\u001b[0m\u001b[1;33m.\u001b[0m\u001b[0m_iter_indices\u001b[0m\u001b[1;33m(\u001b[0m\u001b[0mX\u001b[0m\u001b[1;33m,\u001b[0m \u001b[0my\u001b[0m\u001b[1;33m,\u001b[0m \u001b[0mgroups\u001b[0m\u001b[1;33m)\u001b[0m\u001b[1;33m:\u001b[0m\u001b[1;33m\u001b[0m\u001b[1;33m\u001b[0m\u001b[0m\n\u001b[0m\u001b[0;32m   1623\u001b[0m             \u001b[1;32myield\u001b[0m \u001b[0mtrain\u001b[0m\u001b[1;33m,\u001b[0m \u001b[0mtest\u001b[0m\u001b[1;33m\u001b[0m\u001b[1;33m\u001b[0m\u001b[0m\n\u001b[0;32m   1624\u001b[0m \u001b[1;33m\u001b[0m\u001b[0m\n",
      "\u001b[1;32m~\\anaconda3\\lib\\site-packages\\sklearn\\model_selection\\_split.py\u001b[0m in \u001b[0;36m_iter_indices\u001b[1;34m(self, X, y, groups)\u001b[0m\n\u001b[0;32m   1966\u001b[0m         \u001b[0mclass_counts\u001b[0m \u001b[1;33m=\u001b[0m \u001b[0mnp\u001b[0m\u001b[1;33m.\u001b[0m\u001b[0mbincount\u001b[0m\u001b[1;33m(\u001b[0m\u001b[0my_indices\u001b[0m\u001b[1;33m)\u001b[0m\u001b[1;33m\u001b[0m\u001b[1;33m\u001b[0m\u001b[0m\n\u001b[0;32m   1967\u001b[0m         \u001b[1;32mif\u001b[0m \u001b[0mnp\u001b[0m\u001b[1;33m.\u001b[0m\u001b[0mmin\u001b[0m\u001b[1;33m(\u001b[0m\u001b[0mclass_counts\u001b[0m\u001b[1;33m)\u001b[0m \u001b[1;33m<\u001b[0m \u001b[1;36m2\u001b[0m\u001b[1;33m:\u001b[0m\u001b[1;33m\u001b[0m\u001b[1;33m\u001b[0m\u001b[0m\n\u001b[1;32m-> 1968\u001b[1;33m             raise ValueError(\n\u001b[0m\u001b[0;32m   1969\u001b[0m                 \u001b[1;34m\"The least populated class in y has only 1\"\u001b[0m\u001b[1;33m\u001b[0m\u001b[1;33m\u001b[0m\u001b[0m\n\u001b[0;32m   1970\u001b[0m                 \u001b[1;34m\" member, which is too few. The minimum\"\u001b[0m\u001b[1;33m\u001b[0m\u001b[1;33m\u001b[0m\u001b[0m\n",
      "\u001b[1;31mValueError\u001b[0m: The least populated class in y has only 1 member, which is too few. The minimum number of groups for any class cannot be less than 2."
     ]
    }
   ],
   "source": [
    "X_train, X_test, y_train, y_test = train_test_split(\n",
    "    X, pd.concat([X[\"histoloski_tip_txt\"], y], axis=1), stratify=pd.concat([X[\"histoloski_tip_txt\"], y], axis=1))"
   ]
  },
  {
   "cell_type": "code",
   "execution_count": 64,
   "id": "a006b1e2",
   "metadata": {},
   "outputs": [],
   "source": [
    "train_dataset = cb.Pool(data=X_train,\n",
    "                     label=y_train,\n",
    "                     cat_features = categorical_features_indices) \n",
    "test_dataset = cb.Pool(X_test, y_test,cat_features = categorical_features_indices)"
   ]
  },
  {
   "cell_type": "code",
   "execution_count": 67,
   "id": "38c26e77",
   "metadata": {},
   "outputs": [],
   "source": [
    "import optuna\n",
    "from catboost import Pool, cv\n",
    "def objective(trial):\n",
    "    param = {\n",
    "        'iterations':trial.suggest_categorical('iterations', [100,200,300,500,700,1000,1200,1300,1500]),\n",
    "        'learning_rate':trial.suggest_float(\"learning_rate\", 0.001, 0.3),\n",
    "        'random_strength':trial.suggest_int(\"random_strength\", 1,10),\n",
    "        'bagging_temperature':trial.suggest_int(\"bagging_temperature\", 0,10),\n",
    "        'max_bin':trial.suggest_categorical('max_bin', [4,5,6,8,10,20,30]),\n",
    "        'grow_policy':trial.suggest_categorical('grow_policy', ['SymmetricTree', 'Depthwise', 'Lossguide']),\n",
    "        'min_data_in_leaf':trial.suggest_int(\"min_data_in_leaf\", 1,10,20),\n",
    "        'od_type' : \"Iter\",\n",
    "        'od_wait' : 100,\n",
    "        \"depth\": trial.suggest_int(\"max_depth\", 2,10,15),\n",
    "        \"l2_leaf_reg\": trial.suggest_loguniform(\"l2_leaf_reg\", 1e-8, 100),\n",
    "         'one_hot_max_size':trial.suggest_categorical('one_hot_max_size', [5,10,12,100,500,1024]),\n",
    "        'custom_metric' : ['AUC'],\n",
    "        \"loss_function\": \"Logloss\",\n",
    "        'auto_class_weights':trial.suggest_categorical('auto_class_weights', ['Balanced', 'SqrtBalanced']),\n",
    "        }\n",
    "\n",
    "    scores = cv(train_dataset,\n",
    "            param,\n",
    "            fold_count=5, \n",
    "            early_stopping_rounds=10,         \n",
    "            plot=False, verbose=False)\n",
    "\n",
    "    return scores['test-AUC-mean'].max()"
   ]
  },
  {
   "cell_type": "code",
   "execution_count": 68,
   "id": "430c3fa7",
   "metadata": {},
   "outputs": [
    {
     "name": "stderr",
     "output_type": "stream",
     "text": [
      "\u001b[32m[I 2022-08-25 21:18:12,193]\u001b[0m A new study created in memory with name: no-name-97e0a185-e7c2-4253-81a5-0443933ae7c8\u001b[0m\n",
      "C:\\Users\\jvrdo\\anaconda3\\lib\\site-packages\\optuna\\distributions.py:560: UserWarning: The distribution is specified by [1, 10] and step=20, but the range is not divisible by `step`. It will be replaced by [1, 1].\n",
      "  warnings.warn(\n",
      "C:\\Users\\jvrdo\\anaconda3\\lib\\site-packages\\optuna\\distributions.py:560: UserWarning: The distribution is specified by [2, 10] and step=15, but the range is not divisible by `step`. It will be replaced by [2, 2].\n",
      "  warnings.warn(\n"
     ]
    },
    {
     "name": "stdout",
     "output_type": "stream",
     "text": [
      "Training on fold [0/5]\n",
      "\n",
      "bestTest = 0.631337251\n",
      "bestIteration = 70\n",
      "\n",
      "Training on fold [1/5]\n",
      "\n",
      "bestTest = 0.6193528955\n",
      "bestIteration = 168\n",
      "\n",
      "Training on fold [2/5]\n",
      "\n",
      "bestTest = 0.6121598233\n",
      "bestIteration = 160\n",
      "\n",
      "Training on fold [3/5]\n",
      "\n",
      "bestTest = 0.6280145608\n",
      "bestIteration = 134\n",
      "\n",
      "Training on fold [4/5]\n"
     ]
    },
    {
     "name": "stderr",
     "output_type": "stream",
     "text": [
      "\u001b[32m[I 2022-08-25 21:18:13,562]\u001b[0m Trial 0 finished with value: 0.711416465578196 and parameters: {'iterations': 500, 'learning_rate': 0.057128647369714236, 'random_strength': 1, 'bagging_temperature': 8, 'max_bin': 6, 'grow_policy': 'Depthwise', 'min_data_in_leaf': 1, 'max_depth': 2, 'l2_leaf_reg': 7.028437810203034e-06, 'one_hot_max_size': 500, 'auto_class_weights': 'Balanced'}. Best is trial 0 with value: 0.711416465578196.\u001b[0m\n"
     ]
    },
    {
     "name": "stdout",
     "output_type": "stream",
     "text": [
      "\n",
      "bestTest = 0.6191833656\n",
      "bestIteration = 139\n",
      "\n",
      "Training on fold [0/5]\n"
     ]
    },
    {
     "name": "stderr",
     "output_type": "stream",
     "text": [
      "C:\\Users\\jvrdo\\anaconda3\\lib\\site-packages\\optuna\\distributions.py:560: UserWarning: The distribution is specified by [1, 10] and step=20, but the range is not divisible by `step`. It will be replaced by [1, 1].\n",
      "  warnings.warn(\n",
      "C:\\Users\\jvrdo\\anaconda3\\lib\\site-packages\\optuna\\distributions.py:560: UserWarning: The distribution is specified by [2, 10] and step=15, but the range is not divisible by `step`. It will be replaced by [2, 2].\n",
      "  warnings.warn(\n"
     ]
    },
    {
     "name": "stdout",
     "output_type": "stream",
     "text": [
      "\n",
      "bestTest = 0.6190667134\n",
      "bestIteration = 198\n",
      "\n",
      "Training on fold [1/5]\n",
      "\n",
      "bestTest = 0.6044088698\n",
      "bestIteration = 311\n",
      "\n",
      "Training on fold [2/5]\n",
      "\n",
      "bestTest = 0.5985989142\n",
      "bestIteration = 275\n",
      "\n",
      "Training on fold [3/5]\n",
      "\n",
      "bestTest = 0.6162533608\n",
      "bestIteration = 259\n",
      "\n",
      "Training on fold [4/5]\n"
     ]
    },
    {
     "name": "stderr",
     "output_type": "stream",
     "text": [
      "\u001b[32m[I 2022-08-25 21:18:29,161]\u001b[0m Trial 1 finished with value: 0.7183688135945712 and parameters: {'iterations': 1500, 'learning_rate': 0.07847018132692062, 'random_strength': 9, 'bagging_temperature': 9, 'max_bin': 8, 'grow_policy': 'SymmetricTree', 'min_data_in_leaf': 1, 'max_depth': 2, 'l2_leaf_reg': 7.332581251077417e-08, 'one_hot_max_size': 12, 'auto_class_weights': 'SqrtBalanced'}. Best is trial 1 with value: 0.7183688135945712.\u001b[0m\n"
     ]
    },
    {
     "name": "stdout",
     "output_type": "stream",
     "text": [
      "\n",
      "bestTest = 0.6027351757\n",
      "bestIteration = 255\n",
      "\n",
      "Training on fold [0/5]\n"
     ]
    },
    {
     "name": "stderr",
     "output_type": "stream",
     "text": [
      "C:\\Users\\jvrdo\\anaconda3\\lib\\site-packages\\optuna\\distributions.py:560: UserWarning: The distribution is specified by [1, 10] and step=20, but the range is not divisible by `step`. It will be replaced by [1, 1].\n",
      "  warnings.warn(\n",
      "C:\\Users\\jvrdo\\anaconda3\\lib\\site-packages\\optuna\\distributions.py:560: UserWarning: The distribution is specified by [2, 10] and step=15, but the range is not divisible by `step`. It will be replaced by [2, 2].\n",
      "  warnings.warn(\n"
     ]
    },
    {
     "name": "stdout",
     "output_type": "stream",
     "text": [
      "\n",
      "bestTest = 0.6199461423\n",
      "bestIteration = 95\n",
      "\n",
      "Training on fold [1/5]\n",
      "\n",
      "bestTest = 0.6176664883\n",
      "bestIteration = 99\n",
      "\n",
      "Training on fold [2/5]\n",
      "\n",
      "bestTest = 0.610582938\n",
      "bestIteration = 99\n",
      "\n",
      "Training on fold [3/5]\n",
      "\n",
      "bestTest = 0.6214914234\n",
      "bestIteration = 99\n",
      "\n",
      "Training on fold [4/5]\n"
     ]
    },
    {
     "name": "stderr",
     "output_type": "stream",
     "text": [
      "\u001b[32m[I 2022-08-25 21:18:34,512]\u001b[0m Trial 2 finished with value: 0.7104376920461165 and parameters: {'iterations': 100, 'learning_rate': 0.05741165300213927, 'random_strength': 4, 'bagging_temperature': 2, 'max_bin': 30, 'grow_policy': 'Depthwise', 'min_data_in_leaf': 1, 'max_depth': 2, 'l2_leaf_reg': 1.0192312448477406e-07, 'one_hot_max_size': 12, 'auto_class_weights': 'SqrtBalanced'}. Best is trial 1 with value: 0.7183688135945712.\u001b[0m\n"
     ]
    },
    {
     "name": "stdout",
     "output_type": "stream",
     "text": [
      "\n",
      "bestTest = 0.6164600893\n",
      "bestIteration = 96\n",
      "\n",
      "Training on fold [0/5]\n"
     ]
    },
    {
     "name": "stderr",
     "output_type": "stream",
     "text": [
      "C:\\Users\\jvrdo\\anaconda3\\lib\\site-packages\\optuna\\distributions.py:560: UserWarning: The distribution is specified by [1, 10] and step=20, but the range is not divisible by `step`. It will be replaced by [1, 1].\n",
      "  warnings.warn(\n",
      "C:\\Users\\jvrdo\\anaconda3\\lib\\site-packages\\optuna\\distributions.py:560: UserWarning: The distribution is specified by [2, 10] and step=15, but the range is not divisible by `step`. It will be replaced by [2, 2].\n",
      "  warnings.warn(\n"
     ]
    },
    {
     "name": "stdout",
     "output_type": "stream",
     "text": [
      "\n",
      "bestTest = 0.6188759511\n",
      "bestIteration = 455\n",
      "\n",
      "Training on fold [1/5]\n",
      "\n",
      "bestTest = 0.6083453362\n",
      "bestIteration = 1018\n",
      "\n",
      "Training on fold [2/5]\n",
      "\n",
      "bestTest = 0.6038643712\n",
      "bestIteration = 737\n",
      "\n",
      "Training on fold [3/5]\n",
      "\n",
      "bestTest = 0.6183589078\n",
      "bestIteration = 568\n",
      "\n",
      "Training on fold [4/5]\n"
     ]
    },
    {
     "ename": "KeyboardInterrupt",
     "evalue": "",
     "output_type": "error",
     "traceback": [
      "\u001b[1;31m---------------------------------------------------------------------------\u001b[0m",
      "\u001b[1;31mKeyboardInterrupt\u001b[0m                         Traceback (most recent call last)",
      "\u001b[1;32m<ipython-input-68-a3e7452c03a0>\u001b[0m in \u001b[0;36m<module>\u001b[1;34m\u001b[0m\n\u001b[0;32m      1\u001b[0m \u001b[0msampler\u001b[0m \u001b[1;33m=\u001b[0m \u001b[0moptuna\u001b[0m\u001b[1;33m.\u001b[0m\u001b[0msamplers\u001b[0m\u001b[1;33m.\u001b[0m\u001b[0mTPESampler\u001b[0m\u001b[1;33m(\u001b[0m\u001b[0mseed\u001b[0m\u001b[1;33m=\u001b[0m\u001b[1;36m5\u001b[0m\u001b[1;33m)\u001b[0m  \u001b[1;31m# Make the sampler behave in a deterministic way.\u001b[0m\u001b[1;33m\u001b[0m\u001b[1;33m\u001b[0m\u001b[0m\n\u001b[0;32m      2\u001b[0m \u001b[0mstudy\u001b[0m \u001b[1;33m=\u001b[0m \u001b[0moptuna\u001b[0m\u001b[1;33m.\u001b[0m\u001b[0mcreate_study\u001b[0m\u001b[1;33m(\u001b[0m\u001b[0mdirection\u001b[0m\u001b[1;33m=\u001b[0m\u001b[1;34m\"maximize\"\u001b[0m\u001b[1;33m,\u001b[0m \u001b[0msampler\u001b[0m\u001b[1;33m=\u001b[0m\u001b[0msampler\u001b[0m\u001b[1;33m)\u001b[0m\u001b[1;33m\u001b[0m\u001b[1;33m\u001b[0m\u001b[0m\n\u001b[1;32m----> 3\u001b[1;33m \u001b[0mstudy\u001b[0m\u001b[1;33m.\u001b[0m\u001b[0moptimize\u001b[0m\u001b[1;33m(\u001b[0m\u001b[0mobjective\u001b[0m\u001b[1;33m,\u001b[0m \u001b[0mn_trials\u001b[0m\u001b[1;33m=\u001b[0m\u001b[1;36m150\u001b[0m\u001b[1;33m)\u001b[0m\u001b[1;33m\u001b[0m\u001b[1;33m\u001b[0m\u001b[0m\n\u001b[0m",
      "\u001b[1;32m~\\anaconda3\\lib\\site-packages\\optuna\\study\\study.py\u001b[0m in \u001b[0;36moptimize\u001b[1;34m(self, func, n_trials, timeout, n_jobs, catch, callbacks, gc_after_trial, show_progress_bar)\u001b[0m\n\u001b[0;32m    398\u001b[0m             )\n\u001b[0;32m    399\u001b[0m \u001b[1;33m\u001b[0m\u001b[0m\n\u001b[1;32m--> 400\u001b[1;33m         _optimize(\n\u001b[0m\u001b[0;32m    401\u001b[0m             \u001b[0mstudy\u001b[0m\u001b[1;33m=\u001b[0m\u001b[0mself\u001b[0m\u001b[1;33m,\u001b[0m\u001b[1;33m\u001b[0m\u001b[1;33m\u001b[0m\u001b[0m\n\u001b[0;32m    402\u001b[0m             \u001b[0mfunc\u001b[0m\u001b[1;33m=\u001b[0m\u001b[0mfunc\u001b[0m\u001b[1;33m,\u001b[0m\u001b[1;33m\u001b[0m\u001b[1;33m\u001b[0m\u001b[0m\n",
      "\u001b[1;32m~\\anaconda3\\lib\\site-packages\\optuna\\study\\_optimize.py\u001b[0m in \u001b[0;36m_optimize\u001b[1;34m(study, func, n_trials, timeout, n_jobs, catch, callbacks, gc_after_trial, show_progress_bar)\u001b[0m\n\u001b[0;32m     64\u001b[0m     \u001b[1;32mtry\u001b[0m\u001b[1;33m:\u001b[0m\u001b[1;33m\u001b[0m\u001b[1;33m\u001b[0m\u001b[0m\n\u001b[0;32m     65\u001b[0m         \u001b[1;32mif\u001b[0m \u001b[0mn_jobs\u001b[0m \u001b[1;33m==\u001b[0m \u001b[1;36m1\u001b[0m\u001b[1;33m:\u001b[0m\u001b[1;33m\u001b[0m\u001b[1;33m\u001b[0m\u001b[0m\n\u001b[1;32m---> 66\u001b[1;33m             _optimize_sequential(\n\u001b[0m\u001b[0;32m     67\u001b[0m                 \u001b[0mstudy\u001b[0m\u001b[1;33m,\u001b[0m\u001b[1;33m\u001b[0m\u001b[1;33m\u001b[0m\u001b[0m\n\u001b[0;32m     68\u001b[0m                 \u001b[0mfunc\u001b[0m\u001b[1;33m,\u001b[0m\u001b[1;33m\u001b[0m\u001b[1;33m\u001b[0m\u001b[0m\n",
      "\u001b[1;32m~\\anaconda3\\lib\\site-packages\\optuna\\study\\_optimize.py\u001b[0m in \u001b[0;36m_optimize_sequential\u001b[1;34m(study, func, n_trials, timeout, catch, callbacks, gc_after_trial, reseed_sampler_rng, time_start, progress_bar)\u001b[0m\n\u001b[0;32m    161\u001b[0m \u001b[1;33m\u001b[0m\u001b[0m\n\u001b[0;32m    162\u001b[0m         \u001b[1;32mtry\u001b[0m\u001b[1;33m:\u001b[0m\u001b[1;33m\u001b[0m\u001b[1;33m\u001b[0m\u001b[0m\n\u001b[1;32m--> 163\u001b[1;33m             \u001b[0mtrial\u001b[0m \u001b[1;33m=\u001b[0m \u001b[0m_run_trial\u001b[0m\u001b[1;33m(\u001b[0m\u001b[0mstudy\u001b[0m\u001b[1;33m,\u001b[0m \u001b[0mfunc\u001b[0m\u001b[1;33m,\u001b[0m \u001b[0mcatch\u001b[0m\u001b[1;33m)\u001b[0m\u001b[1;33m\u001b[0m\u001b[1;33m\u001b[0m\u001b[0m\n\u001b[0m\u001b[0;32m    164\u001b[0m         \u001b[1;32mexcept\u001b[0m \u001b[0mException\u001b[0m\u001b[1;33m:\u001b[0m\u001b[1;33m\u001b[0m\u001b[1;33m\u001b[0m\u001b[0m\n\u001b[0;32m    165\u001b[0m             \u001b[1;32mraise\u001b[0m\u001b[1;33m\u001b[0m\u001b[1;33m\u001b[0m\u001b[0m\n",
      "\u001b[1;32m~\\anaconda3\\lib\\site-packages\\optuna\\study\\_optimize.py\u001b[0m in \u001b[0;36m_run_trial\u001b[1;34m(study, func, catch)\u001b[0m\n\u001b[0;32m    211\u001b[0m \u001b[1;33m\u001b[0m\u001b[0m\n\u001b[0;32m    212\u001b[0m     \u001b[1;32mtry\u001b[0m\u001b[1;33m:\u001b[0m\u001b[1;33m\u001b[0m\u001b[1;33m\u001b[0m\u001b[0m\n\u001b[1;32m--> 213\u001b[1;33m         \u001b[0mvalue_or_values\u001b[0m \u001b[1;33m=\u001b[0m \u001b[0mfunc\u001b[0m\u001b[1;33m(\u001b[0m\u001b[0mtrial\u001b[0m\u001b[1;33m)\u001b[0m\u001b[1;33m\u001b[0m\u001b[1;33m\u001b[0m\u001b[0m\n\u001b[0m\u001b[0;32m    214\u001b[0m     \u001b[1;32mexcept\u001b[0m \u001b[0mexceptions\u001b[0m\u001b[1;33m.\u001b[0m\u001b[0mTrialPruned\u001b[0m \u001b[1;32mas\u001b[0m \u001b[0me\u001b[0m\u001b[1;33m:\u001b[0m\u001b[1;33m\u001b[0m\u001b[1;33m\u001b[0m\u001b[0m\n\u001b[0;32m    215\u001b[0m         \u001b[1;31m# TODO(mamu): Handle multi-objective cases.\u001b[0m\u001b[1;33m\u001b[0m\u001b[1;33m\u001b[0m\u001b[1;33m\u001b[0m\u001b[0m\n",
      "\u001b[1;32m<ipython-input-67-a69fc188c38b>\u001b[0m in \u001b[0;36mobjective\u001b[1;34m(trial)\u001b[0m\n\u001b[0;32m     20\u001b[0m         }\n\u001b[0;32m     21\u001b[0m \u001b[1;33m\u001b[0m\u001b[0m\n\u001b[1;32m---> 22\u001b[1;33m     scores = cv(train_dataset,\n\u001b[0m\u001b[0;32m     23\u001b[0m             \u001b[0mparam\u001b[0m\u001b[1;33m,\u001b[0m\u001b[1;33m\u001b[0m\u001b[1;33m\u001b[0m\u001b[0m\n\u001b[0;32m     24\u001b[0m             \u001b[0mfold_count\u001b[0m\u001b[1;33m=\u001b[0m\u001b[1;36m5\u001b[0m\u001b[1;33m,\u001b[0m\u001b[1;33m\u001b[0m\u001b[1;33m\u001b[0m\u001b[0m\n",
      "\u001b[1;32m~\\anaconda3\\lib\\site-packages\\catboost\\core.py\u001b[0m in \u001b[0;36mcv\u001b[1;34m(pool, params, dtrain, iterations, num_boost_round, fold_count, nfold, inverted, partition_random_seed, seed, shuffle, logging_level, stratified, as_pandas, metric_period, verbose, verbose_eval, plot, early_stopping_rounds, save_snapshot, snapshot_file, snapshot_interval, metric_update_interval, folds, type, return_models, log_cout, log_cerr)\u001b[0m\n\u001b[0;32m   6499\u001b[0m     \u001b[1;32mwith\u001b[0m \u001b[0mlog_fixup\u001b[0m\u001b[1;33m(\u001b[0m\u001b[0mlog_cout\u001b[0m\u001b[1;33m,\u001b[0m \u001b[0mlog_cerr\u001b[0m\u001b[1;33m)\u001b[0m\u001b[1;33m,\u001b[0m \u001b[0mplot_wrapper\u001b[0m\u001b[1;33m(\u001b[0m\u001b[0mplot\u001b[0m\u001b[1;33m,\u001b[0m \u001b[0mplot_dirs\u001b[0m\u001b[1;33m)\u001b[0m\u001b[1;33m:\u001b[0m\u001b[1;33m\u001b[0m\u001b[1;33m\u001b[0m\u001b[0m\n\u001b[0;32m   6500\u001b[0m         \u001b[1;32mif\u001b[0m \u001b[1;32mnot\u001b[0m \u001b[0mreturn_models\u001b[0m\u001b[1;33m:\u001b[0m\u001b[1;33m\u001b[0m\u001b[1;33m\u001b[0m\u001b[0m\n\u001b[1;32m-> 6501\u001b[1;33m             return _cv(params, pool, fold_count, inverted, partition_random_seed, shuffle, stratified,\n\u001b[0m\u001b[0;32m   6502\u001b[0m                     metric_update_interval, as_pandas, folds, type, return_models)\n\u001b[0;32m   6503\u001b[0m         \u001b[1;32melse\u001b[0m\u001b[1;33m:\u001b[0m\u001b[1;33m\u001b[0m\u001b[1;33m\u001b[0m\u001b[0m\n",
      "\u001b[1;32m_catboost.pyx\u001b[0m in \u001b[0;36m_catboost._cv\u001b[1;34m()\u001b[0m\n",
      "\u001b[1;32m_catboost.pyx\u001b[0m in \u001b[0;36m_catboost._cv\u001b[1;34m()\u001b[0m\n",
      "\u001b[1;31mKeyboardInterrupt\u001b[0m: "
     ]
    }
   ],
   "source": [
    "sampler = optuna.samplers.TPESampler(seed=5)  # Make the sampler behave in a deterministic way.\n",
    "study = optuna.create_study(direction=\"maximize\", sampler=sampler)\n",
    "study.optimize(objective, n_trials=150)"
   ]
  },
  {
   "cell_type": "code",
   "execution_count": null,
   "id": "c31c0522",
   "metadata": {},
   "outputs": [],
   "source": [
    "'iterations': 1300, 'learning_rate': 0.20147723807407036, 'random_strength': 2, 'bagging_temperature': 0, 'max_bin': 30, 'grow_policy': 'SymmetricTree', \n",
    "                        'min_data_in_leaf': 1, 'max_depth': 2, \n",
    "                                'l2_leaf_reg': 0.0010932028383834717, 'one_hot_max_size': 1024, 'auto_class_weights': 'Balanced'}"
   ]
  },
  {
   "cell_type": "code",
   "execution_count": null,
   "id": "23e70d62",
   "metadata": {},
   "outputs": [],
   "source": [
    "'iterations': 1500, 'learning_rate': 0.20019667289466542, 'random_strength': 9, 'bagging_temperature': 5, 'max_bin': 30, 'grow_policy': 'Lossguide', \n",
    "                        'min_data_in_leaf': 1, 'max_depth': 2, 'l2_leaf_reg': 1.745761125384256, 'one_hot_max_size': 100, 'auto_class_weights': 'SqrtBalanced'"
   ]
  },
  {
   "cell_type": "code",
   "execution_count": 116,
   "id": "5707b275",
   "metadata": {},
   "outputs": [],
   "source": [
    "final_model = CatBoostClassifier(verbose=False,  cat_features=categorical_features_indices, \n",
    "                          iterations=1500,\n",
    "    learning_rate=0.20019667289466542,\n",
    "    random_strength=2,\n",
    "    bagging_temperature=5,\n",
    "    max_bin=30,\n",
    "    grow_policy=\"Lossguide\",\n",
    "    min_data_in_leaf=1,\n",
    "    max_depth=2,\n",
    "    l2_leaf_reg=1.6169660343823704,\n",
    "    one_hot_max_size=1024,\n",
    "    auto_class_weights=\"SqrtBalanced\")"
   ]
  },
  {
   "cell_type": "code",
   "execution_count": 117,
   "id": "57bcc79f",
   "metadata": {},
   "outputs": [
    {
     "data": {
      "text/plain": [
       "<catboost.core.CatBoostClassifier at 0x1d4cda9a910>"
      ]
     },
     "execution_count": 117,
     "metadata": {},
     "output_type": "execute_result"
    }
   ],
   "source": [
    "final_model.fit(X_train, y_train)"
   ]
  },
  {
   "cell_type": "code",
   "execution_count": 118,
   "id": "0545684c",
   "metadata": {},
   "outputs": [],
   "source": [
    "predictions_h1 = final_model.predict_proba(X_test)"
   ]
  },
  {
   "cell_type": "code",
   "execution_count": 119,
   "id": "ac36a4c2",
   "metadata": {},
   "outputs": [
    {
     "data": {
      "text/plain": [
       "array([[0.85632266, 0.14367734],\n",
       "       [0.2925539 , 0.7074461 ],\n",
       "       [0.86076846, 0.13923154],\n",
       "       ...,\n",
       "       [0.79081705, 0.20918295],\n",
       "       [0.42079963, 0.57920037],\n",
       "       [0.86242343, 0.13757657]])"
      ]
     },
     "execution_count": 119,
     "metadata": {},
     "output_type": "execute_result"
    }
   ],
   "source": [
    "predictions_h1"
   ]
  },
  {
   "cell_type": "code",
   "execution_count": 120,
   "id": "d68bce74",
   "metadata": {},
   "outputs": [],
   "source": [
    "predictions_h1 = predictions_h1[:,1].reshape(-1,1)"
   ]
  },
  {
   "cell_type": "code",
   "execution_count": 69,
   "id": "62fa86a1",
   "metadata": {},
   "outputs": [],
   "source": [
    "from sklearn.metrics import roc_curve, roc_auc_score\n",
    "import matplotlib.pyplot as plt\n",
    "\n",
    "def plot_roc(y_true, y_score, label_name, ax):\n",
    "    fpr, tpr, thresholds = roc_curve(y_true, y_score)\n",
    "    ax.plot(fpr, tpr)\n",
    "    ax.plot([0, 1], [0, 1], color='grey', linestyle='--')\n",
    "    ax.set_ylabel('TPR')\n",
    "    ax.set_xlabel('FPR')\n",
    "    ax.set_title(\n",
    "        f\"{label_name}: AUC = {roc_auc_score(y_true, y_score):.4f}\"\n",
    "    )"
   ]
  },
  {
   "cell_type": "code",
   "execution_count": 122,
   "id": "c36a7200",
   "metadata": {},
   "outputs": [
    {
     "data": {
      "image/png": "[encoded data removed]",
      "text/plain": [
       "<Figure size 720x576 with 1 Axes>"
      ]
     },
     "metadata": {
      "needs_background": "light"
     },
     "output_type": "display_data"
    }
   ],
   "source": [
    "fig, ax = plt.subplots(1, 1, figsize=(10, 8))\n",
    "plot_roc(\n",
    "    y_test, \n",
    "    predictions_h1, \n",
    "    'Target',\n",
    "    ax=ax\n",
    ")"
   ]
  },
  {
   "cell_type": "markdown",
   "id": "d30e89a7",
   "metadata": {},
   "source": [
    "## Random Forrest"
   ]
  },
  {
   "cell_type": "code",
   "execution_count": 34,
   "id": "f4f9dabb",
   "metadata": {},
   "outputs": [],
   "source": [
    "df_dummies = pd.get_dummies(df_c, columns=['hist_tip'])"
   ]
  },
  {
   "cell_type": "code",
   "execution_count": 39,
   "id": "6a10975b",
   "metadata": {},
   "outputs": [],
   "source": [
    "# Checking result\n",
    "df_dummies.drop(\"imunofenotip\", axis=1, inplace=True)\n"
   ]
  },
  {
   "cell_type": "code",
   "execution_count": 40,
   "id": "a7133efa",
   "metadata": {},
   "outputs": [
    {
     "data": {
      "text/html": [
       "<div>\n",
       "<style scoped>\n",
       "    .dataframe tbody tr th:only-of-type {\n",
       "        vertical-align: middle;\n",
       "    }\n",
       "\n",
       "    .dataframe tbody tr th {\n",
       "        vertical-align: top;\n",
       "    }\n",
       "\n",
       "    .dataframe thead th {\n",
       "        text-align: right;\n",
       "    }\n",
       "</style>\n",
       "<table border=\"1\" class=\"dataframe\">\n",
       "  <thead>\n",
       "    <tr style=\"text-align: right;\">\n",
       "      <th></th>\n",
       "      <th>dob</th>\n",
       "      <th>velicina_mm</th>\n",
       "      <th>gradus</th>\n",
       "      <th>er</th>\n",
       "      <th>pr</th>\n",
       "      <th>her2</th>\n",
       "      <th>ki67</th>\n",
       "      <th>Target</th>\n",
       "      <th>hist_tip_Casapokrinomdiferencijacijom</th>\n",
       "      <th>hist_tip_Casmedularnimkarakteristikama</th>\n",
       "      <th>hist_tip_NOSinvazivnikarcinom</th>\n",
       "      <th>hist_tip_drugirijetkitipovi</th>\n",
       "      <th>hist_tip_kribriformniinvazivni</th>\n",
       "      <th>hist_tip_lobularniinvazivni</th>\n",
       "      <th>hist_tip_metaplastičnikarcinom</th>\n",
       "      <th>hist_tip_mikroinvazivnikarcinom</th>\n",
       "      <th>hist_tip_mikropapilarniinvazivnikarcinom</th>\n",
       "      <th>hist_tip_mucinozniinvazivni</th>\n",
       "      <th>hist_tip_tubularniinvazivni</th>\n",
       "    </tr>\n",
       "  </thead>\n",
       "  <tbody>\n",
       "    <tr>\n",
       "      <th>0</th>\n",
       "      <td>61</td>\n",
       "      <td>0.8</td>\n",
       "      <td>2</td>\n",
       "      <td>95.0</td>\n",
       "      <td>70</td>\n",
       "      <td>0</td>\n",
       "      <td>95.0</td>\n",
       "      <td>0</td>\n",
       "      <td>0</td>\n",
       "      <td>0</td>\n",
       "      <td>1</td>\n",
       "      <td>0</td>\n",
       "      <td>0</td>\n",
       "      <td>0</td>\n",
       "      <td>0</td>\n",
       "      <td>0</td>\n",
       "      <td>0</td>\n",
       "      <td>0</td>\n",
       "      <td>0</td>\n",
       "    </tr>\n",
       "    <tr>\n",
       "      <th>1</th>\n",
       "      <td>75</td>\n",
       "      <td>1.8</td>\n",
       "      <td>2</td>\n",
       "      <td>100.0</td>\n",
       "      <td>100</td>\n",
       "      <td>3</td>\n",
       "      <td>35.0</td>\n",
       "      <td>1</td>\n",
       "      <td>0</td>\n",
       "      <td>0</td>\n",
       "      <td>1</td>\n",
       "      <td>0</td>\n",
       "      <td>0</td>\n",
       "      <td>0</td>\n",
       "      <td>0</td>\n",
       "      <td>0</td>\n",
       "      <td>0</td>\n",
       "      <td>0</td>\n",
       "      <td>0</td>\n",
       "    </tr>\n",
       "    <tr>\n",
       "      <th>2</th>\n",
       "      <td>65</td>\n",
       "      <td>1.2</td>\n",
       "      <td>2</td>\n",
       "      <td>100.0</td>\n",
       "      <td>15</td>\n",
       "      <td>3</td>\n",
       "      <td>20.0</td>\n",
       "      <td>0</td>\n",
       "      <td>0</td>\n",
       "      <td>0</td>\n",
       "      <td>1</td>\n",
       "      <td>0</td>\n",
       "      <td>0</td>\n",
       "      <td>0</td>\n",
       "      <td>0</td>\n",
       "      <td>0</td>\n",
       "      <td>0</td>\n",
       "      <td>0</td>\n",
       "      <td>0</td>\n",
       "    </tr>\n",
       "    <tr>\n",
       "      <th>3</th>\n",
       "      <td>71</td>\n",
       "      <td>3.0</td>\n",
       "      <td>2</td>\n",
       "      <td>85.0</td>\n",
       "      <td>3</td>\n",
       "      <td>2</td>\n",
       "      <td>35.0</td>\n",
       "      <td>1</td>\n",
       "      <td>0</td>\n",
       "      <td>0</td>\n",
       "      <td>1</td>\n",
       "      <td>0</td>\n",
       "      <td>0</td>\n",
       "      <td>0</td>\n",
       "      <td>0</td>\n",
       "      <td>0</td>\n",
       "      <td>0</td>\n",
       "      <td>0</td>\n",
       "      <td>0</td>\n",
       "    </tr>\n",
       "    <tr>\n",
       "      <th>4</th>\n",
       "      <td>82</td>\n",
       "      <td>3.0</td>\n",
       "      <td>2</td>\n",
       "      <td>0.0</td>\n",
       "      <td>0</td>\n",
       "      <td>0</td>\n",
       "      <td>50.0</td>\n",
       "      <td>1</td>\n",
       "      <td>0</td>\n",
       "      <td>0</td>\n",
       "      <td>1</td>\n",
       "      <td>0</td>\n",
       "      <td>0</td>\n",
       "      <td>0</td>\n",
       "      <td>0</td>\n",
       "      <td>0</td>\n",
       "      <td>0</td>\n",
       "      <td>0</td>\n",
       "      <td>0</td>\n",
       "    </tr>\n",
       "    <tr>\n",
       "      <th>...</th>\n",
       "      <td>...</td>\n",
       "      <td>...</td>\n",
       "      <td>...</td>\n",
       "      <td>...</td>\n",
       "      <td>...</td>\n",
       "      <td>...</td>\n",
       "      <td>...</td>\n",
       "      <td>...</td>\n",
       "      <td>...</td>\n",
       "      <td>...</td>\n",
       "      <td>...</td>\n",
       "      <td>...</td>\n",
       "      <td>...</td>\n",
       "      <td>...</td>\n",
       "      <td>...</td>\n",
       "      <td>...</td>\n",
       "      <td>...</td>\n",
       "      <td>...</td>\n",
       "      <td>...</td>\n",
       "    </tr>\n",
       "    <tr>\n",
       "      <th>9957</th>\n",
       "      <td>43</td>\n",
       "      <td>0.5</td>\n",
       "      <td>2</td>\n",
       "      <td>100.0</td>\n",
       "      <td>35</td>\n",
       "      <td>1</td>\n",
       "      <td>42.0</td>\n",
       "      <td>1</td>\n",
       "      <td>0</td>\n",
       "      <td>0</td>\n",
       "      <td>1</td>\n",
       "      <td>0</td>\n",
       "      <td>0</td>\n",
       "      <td>0</td>\n",
       "      <td>0</td>\n",
       "      <td>0</td>\n",
       "      <td>0</td>\n",
       "      <td>0</td>\n",
       "      <td>0</td>\n",
       "    </tr>\n",
       "    <tr>\n",
       "      <th>9958</th>\n",
       "      <td>66</td>\n",
       "      <td>4.8</td>\n",
       "      <td>2</td>\n",
       "      <td>100.0</td>\n",
       "      <td>90</td>\n",
       "      <td>0</td>\n",
       "      <td>44.0</td>\n",
       "      <td>1</td>\n",
       "      <td>0</td>\n",
       "      <td>0</td>\n",
       "      <td>1</td>\n",
       "      <td>0</td>\n",
       "      <td>0</td>\n",
       "      <td>0</td>\n",
       "      <td>0</td>\n",
       "      <td>0</td>\n",
       "      <td>0</td>\n",
       "      <td>0</td>\n",
       "      <td>0</td>\n",
       "    </tr>\n",
       "    <tr>\n",
       "      <th>9959</th>\n",
       "      <td>57</td>\n",
       "      <td>0.8</td>\n",
       "      <td>2</td>\n",
       "      <td>25.0</td>\n",
       "      <td>25</td>\n",
       "      <td>1</td>\n",
       "      <td>34.0</td>\n",
       "      <td>1</td>\n",
       "      <td>0</td>\n",
       "      <td>0</td>\n",
       "      <td>1</td>\n",
       "      <td>0</td>\n",
       "      <td>0</td>\n",
       "      <td>0</td>\n",
       "      <td>0</td>\n",
       "      <td>0</td>\n",
       "      <td>0</td>\n",
       "      <td>0</td>\n",
       "      <td>0</td>\n",
       "    </tr>\n",
       "    <tr>\n",
       "      <th>9960</th>\n",
       "      <td>46</td>\n",
       "      <td>1.6</td>\n",
       "      <td>2</td>\n",
       "      <td>100.0</td>\n",
       "      <td>1</td>\n",
       "      <td>0</td>\n",
       "      <td>42.0</td>\n",
       "      <td>1</td>\n",
       "      <td>0</td>\n",
       "      <td>0</td>\n",
       "      <td>1</td>\n",
       "      <td>0</td>\n",
       "      <td>0</td>\n",
       "      <td>0</td>\n",
       "      <td>0</td>\n",
       "      <td>0</td>\n",
       "      <td>0</td>\n",
       "      <td>0</td>\n",
       "      <td>0</td>\n",
       "    </tr>\n",
       "    <tr>\n",
       "      <th>9961</th>\n",
       "      <td>43</td>\n",
       "      <td>1.5</td>\n",
       "      <td>3</td>\n",
       "      <td>0.0</td>\n",
       "      <td>0</td>\n",
       "      <td>3</td>\n",
       "      <td>85.0</td>\n",
       "      <td>0</td>\n",
       "      <td>0</td>\n",
       "      <td>0</td>\n",
       "      <td>1</td>\n",
       "      <td>0</td>\n",
       "      <td>0</td>\n",
       "      <td>0</td>\n",
       "      <td>0</td>\n",
       "      <td>0</td>\n",
       "      <td>0</td>\n",
       "      <td>0</td>\n",
       "      <td>0</td>\n",
       "    </tr>\n",
       "  </tbody>\n",
       "</table>\n",
       "<p>9962 rows × 19 columns</p>\n",
       "</div>"
      ],
      "text/plain": [
       "      dob  velicina_mm  gradus     er   pr  her2  ki67  Target  \\\n",
       "0      61          0.8       2   95.0   70     0  95.0       0   \n",
       "1      75          1.8       2  100.0  100     3  35.0       1   \n",
       "2      65          1.2       2  100.0   15     3  20.0       0   \n",
       "3      71          3.0       2   85.0    3     2  35.0       1   \n",
       "4      82          3.0       2    0.0    0     0  50.0       1   \n",
       "...   ...          ...     ...    ...  ...   ...   ...     ...   \n",
       "9957   43          0.5       2  100.0   35     1  42.0       1   \n",
       "9958   66          4.8       2  100.0   90     0  44.0       1   \n",
       "9959   57          0.8       2   25.0   25     1  34.0       1   \n",
       "9960   46          1.6       2  100.0    1     0  42.0       1   \n",
       "9961   43          1.5       3    0.0    0     3  85.0       0   \n",
       "\n",
       "      hist_tip_Casapokrinomdiferencijacijom  \\\n",
       "0                                         0   \n",
       "1                                         0   \n",
       "2                                         0   \n",
       "3                                         0   \n",
       "4                                         0   \n",
       "...                                     ...   \n",
       "9957                                      0   \n",
       "9958                                      0   \n",
       "9959                                      0   \n",
       "9960                                      0   \n",
       "9961                                      0   \n",
       "\n",
       "      hist_tip_Casmedularnimkarakteristikama  hist_tip_NOSinvazivnikarcinom  \\\n",
       "0                                          0                              1   \n",
       "1                                          0                              1   \n",
       "2                                          0                              1   \n",
       "3                                          0                              1   \n",
       "4                                          0                              1   \n",
       "...                                      ...                            ...   \n",
       "9957                                       0                              1   \n",
       "9958                                       0                              1   \n",
       "9959                                       0                              1   \n",
       "9960                                       0                              1   \n",
       "9961                                       0                              1   \n",
       "\n",
       "      hist_tip_drugirijetkitipovi  hist_tip_kribriformniinvazivni  \\\n",
       "0                               0                               0   \n",
       "1                               0                               0   \n",
       "2                               0                               0   \n",
       "3                               0                               0   \n",
       "4                               0                               0   \n",
       "...                           ...                             ...   \n",
       "9957                            0                               0   \n",
       "9958                            0                               0   \n",
       "9959                            0                               0   \n",
       "9960                            0                               0   \n",
       "9961                            0                               0   \n",
       "\n",
       "      hist_tip_lobularniinvazivni  hist_tip_metaplastičnikarcinom  \\\n",
       "0                               0                               0   \n",
       "1                               0                               0   \n",
       "2                               0                               0   \n",
       "3                               0                               0   \n",
       "4                               0                               0   \n",
       "...                           ...                             ...   \n",
       "9957                            0                               0   \n",
       "9958                            0                               0   \n",
       "9959                            0                               0   \n",
       "9960                            0                               0   \n",
       "9961                            0                               0   \n",
       "\n",
       "      hist_tip_mikroinvazivnikarcinom  \\\n",
       "0                                   0   \n",
       "1                                   0   \n",
       "2                                   0   \n",
       "3                                   0   \n",
       "4                                   0   \n",
       "...                               ...   \n",
       "9957                                0   \n",
       "9958                                0   \n",
       "9959                                0   \n",
       "9960                                0   \n",
       "9961                                0   \n",
       "\n",
       "      hist_tip_mikropapilarniinvazivnikarcinom  hist_tip_mucinozniinvazivni  \\\n",
       "0                                            0                            0   \n",
       "1                                            0                            0   \n",
       "2                                            0                            0   \n",
       "3                                            0                            0   \n",
       "4                                            0                            0   \n",
       "...                                        ...                          ...   \n",
       "9957                                         0                            0   \n",
       "9958                                         0                            0   \n",
       "9959                                         0                            0   \n",
       "9960                                         0                            0   \n",
       "9961                                         0                            0   \n",
       "\n",
       "      hist_tip_tubularniinvazivni  \n",
       "0                               0  \n",
       "1                               0  \n",
       "2                               0  \n",
       "3                               0  \n",
       "4                               0  \n",
       "...                           ...  \n",
       "9957                            0  \n",
       "9958                            0  \n",
       "9959                            0  \n",
       "9960                            0  \n",
       "9961                            0  \n",
       "\n",
       "[9962 rows x 19 columns]"
      ]
     },
     "execution_count": 40,
     "metadata": {},
     "output_type": "execute_result"
    }
   ],
   "source": [
    "df_dummies"
   ]
  },
  {
   "cell_type": "code",
   "execution_count": 41,
   "id": "13592965",
   "metadata": {},
   "outputs": [],
   "source": [
    "# New train test split after encoding categorical variables\n",
    "X_train, X_test, y_train, y_test = train_test_split(df_dummies.drop(\"Target\", axis=1), y, test_size = 0.1, random_state=68, stratify=y)"
   ]
  },
  {
   "cell_type": "code",
   "execution_count": 42,
   "id": "52c29056",
   "metadata": {},
   "outputs": [
    {
     "data": {
      "text/html": [
       "<style>#sk-container-id-1 {color: black;background-color: white;}#sk-container-id-1 pre{padding: 0;}#sk-container-id-1 div.sk-toggleable {background-color: white;}#sk-container-id-1 label.sk-toggleable__label {cursor: pointer;display: block;width: 100%;margin-bottom: 0;padding: 0.3em;box-sizing: border-box;text-align: center;}#sk-container-id-1 label.sk-toggleable__label-arrow:before {content: \"▸\";float: left;margin-right: 0.25em;color: #696969;}#sk-container-id-1 label.sk-toggleable__label-arrow:hover:before {color: black;}#sk-container-id-1 div.sk-estimator:hover label.sk-toggleable__label-arrow:before {color: black;}#sk-container-id-1 div.sk-toggleable__content {max-height: 0;max-width: 0;overflow: hidden;text-align: left;background-color: #f0f8ff;}#sk-container-id-1 div.sk-toggleable__content pre {margin: 0.2em;color: black;border-radius: 0.25em;background-color: #f0f8ff;}#sk-container-id-1 input.sk-toggleable__control:checked~div.sk-toggleable__content {max-height: 200px;max-width: 100%;overflow: auto;}#sk-container-id-1 input.sk-toggleable__control:checked~label.sk-toggleable__label-arrow:before {content: \"▾\";}#sk-container-id-1 div.sk-estimator input.sk-toggleable__control:checked~label.sk-toggleable__label {background-color: #d4ebff;}#sk-container-id-1 div.sk-label input.sk-toggleable__control:checked~label.sk-toggleable__label {background-color: #d4ebff;}#sk-container-id-1 input.sk-hidden--visually {border: 0;clip: rect(1px 1px 1px 1px);clip: rect(1px, 1px, 1px, 1px);height: 1px;margin: -1px;overflow: hidden;padding: 0;position: absolute;width: 1px;}#sk-container-id-1 div.sk-estimator {font-family: monospace;background-color: #f0f8ff;border: 1px dotted black;border-radius: 0.25em;box-sizing: border-box;margin-bottom: 0.5em;}#sk-container-id-1 div.sk-estimator:hover {background-color: #d4ebff;}#sk-container-id-1 div.sk-parallel-item::after {content: \"\";width: 100%;border-bottom: 1px solid gray;flex-grow: 1;}#sk-container-id-1 div.sk-label:hover label.sk-toggleable__label {background-color: #d4ebff;}#sk-container-id-1 div.sk-serial::before {content: \"\";position: absolute;border-left: 1px solid gray;box-sizing: border-box;top: 0;bottom: 0;left: 50%;z-index: 0;}#sk-container-id-1 div.sk-serial {display: flex;flex-direction: column;align-items: center;background-color: white;padding-right: 0.2em;padding-left: 0.2em;position: relative;}#sk-container-id-1 div.sk-item {position: relative;z-index: 1;}#sk-container-id-1 div.sk-parallel {display: flex;align-items: stretch;justify-content: center;background-color: white;position: relative;}#sk-container-id-1 div.sk-item::before, #sk-container-id-1 div.sk-parallel-item::before {content: \"\";position: absolute;border-left: 1px solid gray;box-sizing: border-box;top: 0;bottom: 0;left: 50%;z-index: -1;}#sk-container-id-1 div.sk-parallel-item {display: flex;flex-direction: column;z-index: 1;position: relative;background-color: white;}#sk-container-id-1 div.sk-parallel-item:first-child::after {align-self: flex-end;width: 50%;}#sk-container-id-1 div.sk-parallel-item:last-child::after {align-self: flex-start;width: 50%;}#sk-container-id-1 div.sk-parallel-item:only-child::after {width: 0;}#sk-container-id-1 div.sk-dashed-wrapped {border: 1px dashed gray;margin: 0 0.4em 0.5em 0.4em;box-sizing: border-box;padding-bottom: 0.4em;background-color: white;}#sk-container-id-1 div.sk-label label {font-family: monospace;font-weight: bold;display: inline-block;line-height: 1.2em;}#sk-container-id-1 div.sk-label-container {text-align: center;}#sk-container-id-1 div.sk-container {/* jupyter's `normalize.less` sets `[hidden] { display: none; }` but bootstrap.min.css set `[hidden] { display: none !important; }` so we also need the `!important` here to be able to override the default hidden behavior on the sphinx rendered scikit-learn.org. See: https://github.com/scikit-learn/scikit-learn/issues/21755 */display: inline-block !important;position: relative;}#sk-container-id-1 div.sk-text-repr-fallback {display: none;}</style><div id=\"sk-container-id-1\" class=\"sk-top-container\"><div class=\"sk-text-repr-fallback\"><pre>RandomForestClassifier(max_depth=2, random_state=0)</pre><b>In a Jupyter environment, please rerun this cell to show the HTML representation or trust the notebook. <br />On GitHub, the HTML representation is unable to render, please try loading this page with nbviewer.org.</b></div><div class=\"sk-container\" hidden><div class=\"sk-item\"><div class=\"sk-estimator sk-toggleable\"><input class=\"sk-toggleable__control sk-hidden--visually\" id=\"sk-estimator-id-1\" type=\"checkbox\" checked><label for=\"sk-estimator-id-1\" class=\"sk-toggleable__label sk-toggleable__label-arrow\">RandomForestClassifier</label><div class=\"sk-toggleable__content\"><pre>RandomForestClassifier(max_depth=2, random_state=0)</pre></div></div></div></div></div>"
      ],
      "text/plain": [
       "RandomForestClassifier(max_depth=2, random_state=0)"
      ]
     },
     "execution_count": 42,
     "metadata": {},
     "output_type": "execute_result"
    }
   ],
   "source": [
    "from sklearn.ensemble import RandomForestClassifier\n",
    "clf = RandomForestClassifier(max_depth=2, random_state=0)\n",
    "clf.fit(X_train, y_train)"
   ]
  },
  {
   "cell_type": "code",
   "execution_count": 43,
   "id": "bc54ba2e",
   "metadata": {},
   "outputs": [
    {
     "data": {
      "text/plain": [
       "array([[0.48246506],\n",
       "       [0.33545081],\n",
       "       [0.33801283],\n",
       "       [0.47907013],\n",
       "       [0.37016736],\n",
       "       [0.49059538],\n",
       "       [0.31496295],\n",
       "       [0.36154947],\n",
       "       [0.24933761],\n",
       "       [0.26839083],\n",
       "       [0.32793969],\n",
       "       [0.47982887],\n",
       "       [0.37350681],\n",
       "       [0.33793241],\n",
       "       [0.32501809],\n",
       "       [0.3026691 ],\n",
       "       [0.33091064],\n",
       "       [0.31720919],\n",
       "       [0.35223546],\n",
       "       [0.3102294 ],\n",
       "       [0.26345645],\n",
       "       [0.35505067],\n",
       "       [0.47798605],\n",
       "       [0.33089898],\n",
       "       [0.48661283],\n",
       "       [0.47994722],\n",
       "       [0.27593629],\n",
       "       [0.42170839],\n",
       "       [0.48067679],\n",
       "       [0.34427138],\n",
       "       [0.34188196],\n",
       "       [0.34733539],\n",
       "       [0.29772069],\n",
       "       [0.35484746],\n",
       "       [0.33785935],\n",
       "       [0.4832179 ],\n",
       "       [0.33287131],\n",
       "       [0.48684547],\n",
       "       [0.33914589],\n",
       "       [0.28327043],\n",
       "       [0.33700108],\n",
       "       [0.44809212],\n",
       "       [0.31303641],\n",
       "       [0.23583672],\n",
       "       [0.47374919],\n",
       "       [0.33405203],\n",
       "       [0.48318789],\n",
       "       [0.32670543],\n",
       "       [0.34380841],\n",
       "       [0.33508536],\n",
       "       [0.3461557 ],\n",
       "       [0.34921971],\n",
       "       [0.34389353],\n",
       "       [0.4832179 ],\n",
       "       [0.34378247],\n",
       "       [0.30835284],\n",
       "       [0.39834106],\n",
       "       [0.29590892],\n",
       "       [0.31424679],\n",
       "       [0.49641015],\n",
       "       [0.47281855],\n",
       "       [0.47076141],\n",
       "       [0.34135056],\n",
       "       [0.34427138],\n",
       "       [0.34664099],\n",
       "       [0.36366979],\n",
       "       [0.35225237],\n",
       "       [0.32830514],\n",
       "       [0.45813336],\n",
       "       [0.33766974],\n",
       "       [0.25345794],\n",
       "       [0.28361202],\n",
       "       [0.31563025],\n",
       "       [0.29080087],\n",
       "       [0.34837169],\n",
       "       [0.42947101],\n",
       "       [0.3044296 ],\n",
       "       [0.36736617],\n",
       "       [0.34733539],\n",
       "       [0.34427138],\n",
       "       [0.34144106],\n",
       "       [0.33511749],\n",
       "       [0.34352807],\n",
       "       [0.33906442],\n",
       "       [0.35088006],\n",
       "       [0.30761977],\n",
       "       [0.49572882],\n",
       "       [0.30723075],\n",
       "       [0.30725431],\n",
       "       [0.34447579],\n",
       "       [0.35122429],\n",
       "       [0.33900483],\n",
       "       [0.33742263],\n",
       "       [0.31340187],\n",
       "       [0.3415598 ],\n",
       "       [0.34069249],\n",
       "       [0.31868831],\n",
       "       [0.38034759],\n",
       "       [0.30845245],\n",
       "       [0.47805313],\n",
       "       [0.33865384],\n",
       "       [0.2848061 ],\n",
       "       [0.4458576 ],\n",
       "       [0.48640984],\n",
       "       [0.48050063],\n",
       "       [0.29762612],\n",
       "       [0.31340058],\n",
       "       [0.48376884],\n",
       "       [0.34704705],\n",
       "       [0.34478552],\n",
       "       [0.34665331],\n",
       "       [0.47701804],\n",
       "       [0.38303944],\n",
       "       [0.26466993],\n",
       "       [0.34221199],\n",
       "       [0.32840321],\n",
       "       [0.49466219],\n",
       "       [0.48460117],\n",
       "       [0.48246506],\n",
       "       [0.39707644],\n",
       "       [0.48467807],\n",
       "       [0.4212832 ],\n",
       "       [0.33469088],\n",
       "       [0.47663212],\n",
       "       [0.32830514],\n",
       "       [0.31290807],\n",
       "       [0.47772184],\n",
       "       [0.34285158],\n",
       "       [0.38193566],\n",
       "       [0.48467807],\n",
       "       [0.22465273],\n",
       "       [0.45240317],\n",
       "       [0.33526869],\n",
       "       [0.47238002],\n",
       "       [0.40776256],\n",
       "       [0.3480787 ],\n",
       "       [0.34022754],\n",
       "       [0.48083667],\n",
       "       [0.3102294 ],\n",
       "       [0.46802679],\n",
       "       [0.30917183],\n",
       "       [0.49555319],\n",
       "       [0.3312761 ],\n",
       "       [0.46937374],\n",
       "       [0.3802164 ],\n",
       "       [0.2680187 ],\n",
       "       [0.31496295],\n",
       "       [0.47693481],\n",
       "       [0.29726997],\n",
       "       [0.46876235],\n",
       "       [0.34311811],\n",
       "       [0.47215728],\n",
       "       [0.331747  ],\n",
       "       [0.46418113],\n",
       "       [0.35206334],\n",
       "       [0.49544516],\n",
       "       [0.3034294 ],\n",
       "       [0.47936659],\n",
       "       [0.30054425],\n",
       "       [0.34461399],\n",
       "       [0.3577238 ],\n",
       "       [0.4073511 ],\n",
       "       [0.35184796],\n",
       "       [0.47006983],\n",
       "       [0.3546324 ],\n",
       "       [0.42262137],\n",
       "       [0.34874954],\n",
       "       [0.30189022],\n",
       "       [0.37002179],\n",
       "       [0.48655584],\n",
       "       [0.27863176],\n",
       "       [0.30956033],\n",
       "       [0.34352807],\n",
       "       [0.35269493],\n",
       "       [0.28766983],\n",
       "       [0.26323506],\n",
       "       [0.34135056],\n",
       "       [0.45764182],\n",
       "       [0.25852653],\n",
       "       [0.26822047],\n",
       "       [0.4856911 ],\n",
       "       [0.29469452],\n",
       "       [0.259657  ],\n",
       "       [0.41130204],\n",
       "       [0.34552333],\n",
       "       [0.47936659],\n",
       "       [0.30525597],\n",
       "       [0.30423573],\n",
       "       [0.47397421],\n",
       "       [0.38172375],\n",
       "       [0.37041923],\n",
       "       [0.48595501],\n",
       "       [0.33974657],\n",
       "       [0.30299315],\n",
       "       [0.3502051 ],\n",
       "       [0.34171601],\n",
       "       [0.32580324],\n",
       "       [0.25856848],\n",
       "       [0.3502051 ],\n",
       "       [0.29246309],\n",
       "       [0.3385813 ],\n",
       "       [0.42410482],\n",
       "       [0.47353988],\n",
       "       [0.47663212],\n",
       "       [0.33980773],\n",
       "       [0.34933997],\n",
       "       [0.37998214],\n",
       "       [0.25345794],\n",
       "       [0.35300052],\n",
       "       [0.31149275],\n",
       "       [0.34439835],\n",
       "       [0.46902306],\n",
       "       [0.33148496],\n",
       "       [0.2931188 ],\n",
       "       [0.331747  ],\n",
       "       [0.44983778],\n",
       "       [0.47846508],\n",
       "       [0.26122807],\n",
       "       [0.40251466],\n",
       "       [0.4858157 ],\n",
       "       [0.25241968],\n",
       "       [0.47720739],\n",
       "       [0.48503328],\n",
       "       [0.26596209],\n",
       "       [0.31813039],\n",
       "       [0.36177102],\n",
       "       [0.48436446],\n",
       "       [0.28568977],\n",
       "       [0.3413605 ],\n",
       "       [0.46374757],\n",
       "       [0.3537614 ],\n",
       "       [0.34693751],\n",
       "       [0.35506396],\n",
       "       [0.47260128],\n",
       "       [0.37521795],\n",
       "       [0.34038552],\n",
       "       [0.48545272],\n",
       "       [0.36366979],\n",
       "       [0.26323506],\n",
       "       [0.30848501],\n",
       "       [0.34171601],\n",
       "       [0.31980983],\n",
       "       [0.28856836],\n",
       "       [0.49152745],\n",
       "       [0.34716245],\n",
       "       [0.48256166],\n",
       "       [0.44033879],\n",
       "       [0.26123475],\n",
       "       [0.45090686],\n",
       "       [0.2538234 ],\n",
       "       [0.30090638],\n",
       "       [0.34590118],\n",
       "       [0.25537546],\n",
       "       [0.40829577],\n",
       "       [0.31403488],\n",
       "       [0.33479969],\n",
       "       [0.32648801],\n",
       "       [0.33995975],\n",
       "       [0.33501129],\n",
       "       [0.46565261],\n",
       "       [0.47639033],\n",
       "       [0.25383008],\n",
       "       [0.33512244],\n",
       "       [0.26822047],\n",
       "       [0.32828713],\n",
       "       [0.29100526],\n",
       "       [0.34131526],\n",
       "       [0.2913665 ],\n",
       "       [0.3389292 ],\n",
       "       [0.34612191],\n",
       "       [0.49403708],\n",
       "       [0.46563689],\n",
       "       [0.48499002],\n",
       "       [0.34005101],\n",
       "       [0.28067207],\n",
       "       [0.34533329],\n",
       "       [0.49197284],\n",
       "       [0.33696359],\n",
       "       [0.33405203],\n",
       "       [0.30515379],\n",
       "       [0.29626334],\n",
       "       [0.31717335],\n",
       "       [0.34238091],\n",
       "       [0.38115512],\n",
       "       [0.331747  ],\n",
       "       [0.4729954 ],\n",
       "       [0.49365652],\n",
       "       [0.33474447],\n",
       "       [0.34693213],\n",
       "       [0.31007392],\n",
       "       [0.33326267],\n",
       "       [0.34859666],\n",
       "       [0.33725565],\n",
       "       [0.3467846 ],\n",
       "       [0.33300827],\n",
       "       [0.36054401],\n",
       "       [0.44780481],\n",
       "       [0.32793969],\n",
       "       [0.46937593],\n",
       "       [0.46321689],\n",
       "       [0.26160021],\n",
       "       [0.36548185],\n",
       "       [0.29626334],\n",
       "       [0.28792292],\n",
       "       [0.34975111],\n",
       "       [0.40955555],\n",
       "       [0.27854418],\n",
       "       [0.30797498],\n",
       "       [0.30027164],\n",
       "       [0.31291876],\n",
       "       [0.34929443],\n",
       "       [0.27468029],\n",
       "       [0.47693481],\n",
       "       [0.33547689],\n",
       "       [0.26280377],\n",
       "       [0.32797747],\n",
       "       [0.34526643],\n",
       "       [0.33862525],\n",
       "       [0.49787801],\n",
       "       [0.37006308],\n",
       "       [0.27459006],\n",
       "       [0.48545272],\n",
       "       [0.36881417],\n",
       "       [0.33829787],\n",
       "       [0.30761977],\n",
       "       [0.44376228],\n",
       "       [0.30901641],\n",
       "       [0.48611586],\n",
       "       [0.49316698],\n",
       "       [0.34725528],\n",
       "       [0.34134771],\n",
       "       [0.30703003],\n",
       "       [0.49547223],\n",
       "       [0.44101946],\n",
       "       [0.34486506],\n",
       "       [0.26086262],\n",
       "       [0.26818487],\n",
       "       [0.47693481],\n",
       "       [0.3220198 ],\n",
       "       [0.26838415],\n",
       "       [0.37148897],\n",
       "       [0.44515319],\n",
       "       [0.33211246],\n",
       "       [0.48225923],\n",
       "       [0.34826965],\n",
       "       [0.45462939],\n",
       "       [0.3172264 ],\n",
       "       [0.34335762],\n",
       "       [0.33641099],\n",
       "       [0.45475081],\n",
       "       [0.32068962],\n",
       "       [0.32876612],\n",
       "       [0.39599895],\n",
       "       [0.34088459],\n",
       "       [0.33789655],\n",
       "       [0.34077168],\n",
       "       [0.47597965],\n",
       "       [0.36882096],\n",
       "       [0.33382161],\n",
       "       [0.29486211],\n",
       "       [0.4769244 ],\n",
       "       [0.33484157],\n",
       "       [0.30610607],\n",
       "       [0.33441749],\n",
       "       [0.25998686],\n",
       "       [0.29928374],\n",
       "       [0.3279525 ],\n",
       "       [0.33250585],\n",
       "       [0.42088871],\n",
       "       [0.38195031],\n",
       "       [0.48897636],\n",
       "       [0.31409707],\n",
       "       [0.34642071],\n",
       "       [0.33948608],\n",
       "       [0.46192175],\n",
       "       [0.32465346],\n",
       "       [0.25966129],\n",
       "       [0.36366653],\n",
       "       [0.45437959],\n",
       "       [0.23269847],\n",
       "       [0.41914241],\n",
       "       [0.26822047],\n",
       "       [0.48049697],\n",
       "       [0.44776755],\n",
       "       [0.28127374],\n",
       "       [0.41846232],\n",
       "       [0.27988071],\n",
       "       [0.35993177],\n",
       "       [0.27962627],\n",
       "       [0.29248558],\n",
       "       [0.26940706],\n",
       "       [0.36665484],\n",
       "       [0.47721236],\n",
       "       [0.33401739],\n",
       "       [0.26134917],\n",
       "       [0.47786521],\n",
       "       [0.25345794],\n",
       "       [0.31826338],\n",
       "       [0.32731219],\n",
       "       [0.34378247],\n",
       "       [0.34413301],\n",
       "       [0.29306721],\n",
       "       [0.34389353],\n",
       "       [0.34427138],\n",
       "       [0.35392856],\n",
       "       [0.2646398 ],\n",
       "       [0.32793969],\n",
       "       [0.34628316],\n",
       "       [0.33954244],\n",
       "       [0.40304498],\n",
       "       [0.26241467],\n",
       "       [0.34389353],\n",
       "       [0.47627699],\n",
       "       [0.45144378],\n",
       "       [0.47373575],\n",
       "       [0.26875854],\n",
       "       [0.32830514],\n",
       "       [0.35740459],\n",
       "       [0.33337373],\n",
       "       [0.38032474],\n",
       "       [0.33942988],\n",
       "       [0.43692253],\n",
       "       [0.33534788],\n",
       "       [0.34427138],\n",
       "       [0.30761977],\n",
       "       [0.27098352],\n",
       "       [0.49207545],\n",
       "       [0.47936659],\n",
       "       [0.33847933],\n",
       "       [0.25979988],\n",
       "       [0.4102881 ],\n",
       "       [0.35188616],\n",
       "       [0.34352807],\n",
       "       [0.48847809],\n",
       "       [0.30540419],\n",
       "       [0.31686642],\n",
       "       [0.48280409],\n",
       "       [0.38104536],\n",
       "       [0.3119033 ],\n",
       "       [0.30761977],\n",
       "       [0.29726997],\n",
       "       [0.49572882],\n",
       "       [0.49056665],\n",
       "       [0.34411285],\n",
       "       [0.36736617],\n",
       "       [0.32990602],\n",
       "       [0.33405203],\n",
       "       [0.39260927],\n",
       "       [0.34833352],\n",
       "       [0.43167539],\n",
       "       [0.34427138],\n",
       "       [0.34188196],\n",
       "       [0.35048098],\n",
       "       [0.42596416],\n",
       "       [0.33533017],\n",
       "       [0.27173461],\n",
       "       [0.34936047],\n",
       "       [0.33405203],\n",
       "       [0.31689546],\n",
       "       [0.48755583],\n",
       "       [0.31340187],\n",
       "       [0.47444183],\n",
       "       [0.34352807],\n",
       "       [0.33948608],\n",
       "       [0.36268571],\n",
       "       [0.46597881],\n",
       "       [0.48467807],\n",
       "       [0.49058476],\n",
       "       [0.45220127],\n",
       "       [0.41228863],\n",
       "       [0.22501818],\n",
       "       [0.34171571],\n",
       "       [0.4864668 ],\n",
       "       [0.33401568],\n",
       "       [0.34958517],\n",
       "       [0.31388123],\n",
       "       [0.33811374],\n",
       "       [0.47447028],\n",
       "       [0.26207927],\n",
       "       [0.30367703],\n",
       "       [0.36179471],\n",
       "       [0.44352213],\n",
       "       [0.42333198],\n",
       "       [0.3407158 ],\n",
       "       [0.30761977],\n",
       "       [0.31142243],\n",
       "       [0.32985704],\n",
       "       [0.25680173],\n",
       "       [0.26086262],\n",
       "       [0.32789578],\n",
       "       [0.28362427],\n",
       "       [0.48131002],\n",
       "       [0.48126603],\n",
       "       [0.37006308],\n",
       "       [0.45272044],\n",
       "       [0.48676336],\n",
       "       [0.30778116],\n",
       "       [0.40029284],\n",
       "       [0.36736617],\n",
       "       [0.50240079],\n",
       "       [0.30471952],\n",
       "       [0.34370007],\n",
       "       [0.48080191],\n",
       "       [0.36905061],\n",
       "       [0.30932852],\n",
       "       [0.33047251],\n",
       "       [0.34793692],\n",
       "       [0.29526021],\n",
       "       [0.34454805],\n",
       "       [0.48280049],\n",
       "       [0.48917582],\n",
       "       [0.298298  ],\n",
       "       [0.37934075],\n",
       "       [0.2944275 ],\n",
       "       [0.34162288],\n",
       "       [0.33664587],\n",
       "       [0.48041185],\n",
       "       [0.33550488],\n",
       "       [0.29726997],\n",
       "       [0.35247   ],\n",
       "       [0.30885046],\n",
       "       [0.34352807],\n",
       "       [0.32206339],\n",
       "       [0.46751194],\n",
       "       [0.32906127],\n",
       "       [0.31027076],\n",
       "       [0.4624104 ],\n",
       "       [0.48640984],\n",
       "       [0.27063974],\n",
       "       [0.34244908],\n",
       "       [0.35085068],\n",
       "       [0.30133193],\n",
       "       [0.33873754],\n",
       "       [0.48420705],\n",
       "       [0.47937472],\n",
       "       [0.28970203],\n",
       "       [0.48640984],\n",
       "       [0.26415177],\n",
       "       [0.29950345],\n",
       "       [0.34859666],\n",
       "       [0.26822047],\n",
       "       [0.37002179],\n",
       "       [0.30799803],\n",
       "       [0.48281067],\n",
       "       [0.36625415],\n",
       "       [0.33355581],\n",
       "       [0.34389353],\n",
       "       [0.3502051 ],\n",
       "       [0.40812801],\n",
       "       [0.27911993],\n",
       "       [0.46530179],\n",
       "       [0.2804217 ],\n",
       "       [0.4784424 ],\n",
       "       [0.4808419 ],\n",
       "       [0.40069458],\n",
       "       [0.30725431],\n",
       "       [0.42921948],\n",
       "       [0.34733539],\n",
       "       [0.33912062],\n",
       "       [0.22465273],\n",
       "       [0.47939504],\n",
       "       [0.3356239 ],\n",
       "       [0.34656486],\n",
       "       [0.30994404],\n",
       "       [0.30144865],\n",
       "       [0.47398445],\n",
       "       [0.26207927],\n",
       "       [0.29229587],\n",
       "       [0.27549359],\n",
       "       [0.26215478],\n",
       "       [0.48022008],\n",
       "       [0.30058712],\n",
       "       [0.35326532],\n",
       "       [0.29693405],\n",
       "       [0.32793969],\n",
       "       [0.28030728],\n",
       "       [0.28667362],\n",
       "       [0.48246506],\n",
       "       [0.49059538],\n",
       "       [0.30299319],\n",
       "       [0.34417113],\n",
       "       [0.26419404],\n",
       "       [0.3512562 ],\n",
       "       [0.34414572],\n",
       "       [0.33372251],\n",
       "       [0.39275423],\n",
       "       [0.47281855],\n",
       "       [0.30148829],\n",
       "       [0.34449847],\n",
       "       [0.37436833],\n",
       "       [0.34188196],\n",
       "       [0.47509427],\n",
       "       [0.49114445],\n",
       "       [0.34641914],\n",
       "       [0.30889891],\n",
       "       [0.29100526],\n",
       "       [0.30258413],\n",
       "       [0.48246506],\n",
       "       [0.34157241],\n",
       "       [0.50804717],\n",
       "       [0.33636156],\n",
       "       [0.26785501],\n",
       "       [0.33830423],\n",
       "       [0.32240717],\n",
       "       [0.3461557 ],\n",
       "       [0.30247667],\n",
       "       [0.28380848],\n",
       "       [0.40291523],\n",
       "       [0.31438188],\n",
       "       [0.26574666],\n",
       "       [0.46408197],\n",
       "       [0.30186982],\n",
       "       [0.48744109],\n",
       "       [0.48060728],\n",
       "       [0.28466344],\n",
       "       [0.41572563],\n",
       "       [0.33474447],\n",
       "       [0.33942988],\n",
       "       [0.29427621],\n",
       "       [0.4855998 ],\n",
       "       [0.35438112],\n",
       "       [0.33300827],\n",
       "       [0.47571038],\n",
       "       [0.36853916],\n",
       "       [0.34072604],\n",
       "       [0.42476881],\n",
       "       [0.30251176],\n",
       "       [0.48460117],\n",
       "       [0.30848501],\n",
       "       [0.48654459],\n",
       "       [0.47482075],\n",
       "       [0.33751819],\n",
       "       [0.47907013],\n",
       "       [0.49039667],\n",
       "       [0.42819393],\n",
       "       [0.35684367],\n",
       "       [0.27501109],\n",
       "       [0.37223339],\n",
       "       [0.26829698],\n",
       "       [0.4903766 ],\n",
       "       [0.30984815],\n",
       "       [0.31367219],\n",
       "       [0.45117348],\n",
       "       [0.26840187],\n",
       "       [0.32971612],\n",
       "       [0.28855895],\n",
       "       [0.31457729],\n",
       "       [0.34184153],\n",
       "       [0.45345785],\n",
       "       [0.46597881],\n",
       "       [0.44548739],\n",
       "       [0.48847809],\n",
       "       [0.30723075],\n",
       "       [0.41473293],\n",
       "       [0.35296341],\n",
       "       [0.4856142 ],\n",
       "       [0.28275589],\n",
       "       [0.36701878],\n",
       "       [0.4624104 ],\n",
       "       [0.46199034],\n",
       "       [0.34539653],\n",
       "       [0.27829549],\n",
       "       [0.23215423],\n",
       "       [0.32256857],\n",
       "       [0.48246506],\n",
       "       [0.27118644],\n",
       "       [0.34083913],\n",
       "       [0.32793969],\n",
       "       [0.31133836],\n",
       "       [0.36619696],\n",
       "       [0.33948608],\n",
       "       [0.3010832 ],\n",
       "       [0.26420641],\n",
       "       [0.34590118],\n",
       "       [0.31303641],\n",
       "       [0.3446877 ],\n",
       "       [0.34352807],\n",
       "       [0.47617079],\n",
       "       [0.34716245],\n",
       "       [0.39932626],\n",
       "       [0.29866942],\n",
       "       [0.49103637],\n",
       "       [0.30036869],\n",
       "       [0.37884775],\n",
       "       [0.34830238],\n",
       "       [0.41172699],\n",
       "       [0.32187333],\n",
       "       [0.30352161],\n",
       "       [0.36330433],\n",
       "       [0.30683591],\n",
       "       [0.29230092],\n",
       "       [0.26757001],\n",
       "       [0.34577848],\n",
       "       [0.29477062],\n",
       "       [0.3409253 ],\n",
       "       [0.3819766 ],\n",
       "       [0.35834866],\n",
       "       [0.34863908],\n",
       "       [0.31067261],\n",
       "       [0.31929915],\n",
       "       [0.49787801],\n",
       "       [0.29962209],\n",
       "       [0.34171601],\n",
       "       [0.49351582],\n",
       "       [0.34257392],\n",
       "       [0.33089898],\n",
       "       [0.35279579],\n",
       "       [0.30576965],\n",
       "       [0.46479174],\n",
       "       [0.34933997],\n",
       "       [0.45115979],\n",
       "       [0.49605494],\n",
       "       [0.25345794],\n",
       "       [0.30761977],\n",
       "       [0.34056066],\n",
       "       [0.25975238],\n",
       "       [0.34135056],\n",
       "       [0.36535887],\n",
       "       [0.31112111],\n",
       "       [0.32975263],\n",
       "       [0.44218431],\n",
       "       [0.48460117],\n",
       "       [0.33296366],\n",
       "       [0.40725797],\n",
       "       [0.33757626],\n",
       "       [0.34135056],\n",
       "       [0.34394439],\n",
       "       [0.35154647],\n",
       "       [0.34352807],\n",
       "       [0.48067679],\n",
       "       [0.44536152],\n",
       "       [0.26086262],\n",
       "       [0.48259089],\n",
       "       [0.31624415],\n",
       "       [0.34617482],\n",
       "       [0.3013078 ],\n",
       "       [0.4428028 ],\n",
       "       [0.34868949],\n",
       "       [0.34287174],\n",
       "       [0.34686522],\n",
       "       [0.4120822 ],\n",
       "       [0.34837169],\n",
       "       [0.47472718],\n",
       "       [0.26335244],\n",
       "       [0.34647789],\n",
       "       [0.49465197],\n",
       "       [0.33211246],\n",
       "       [0.48998939],\n",
       "       [0.33547689],\n",
       "       [0.39468992],\n",
       "       [0.32793969],\n",
       "       [0.34183479],\n",
       "       [0.31929915],\n",
       "       [0.32887775],\n",
       "       [0.31962051],\n",
       "       [0.4856911 ],\n",
       "       [0.31859823],\n",
       "       [0.33498243],\n",
       "       [0.32915634],\n",
       "       [0.34693213],\n",
       "       [0.31403672],\n",
       "       [0.27919053],\n",
       "       [0.47252685],\n",
       "       [0.30970757],\n",
       "       [0.3409621 ],\n",
       "       [0.26906622],\n",
       "       [0.3071991 ],\n",
       "       [0.29129038],\n",
       "       [0.34282572],\n",
       "       [0.29326596],\n",
       "       [0.47306233],\n",
       "       [0.4902853 ],\n",
       "       [0.47822135],\n",
       "       [0.259657  ],\n",
       "       [0.29589788],\n",
       "       [0.35084644],\n",
       "       [0.48246506],\n",
       "       [0.33675613],\n",
       "       [0.34429961],\n",
       "       [0.35933797],\n",
       "       [0.34010309],\n",
       "       [0.45728901],\n",
       "       [0.33449693],\n",
       "       [0.34612191],\n",
       "       [0.26466993],\n",
       "       [0.35653184],\n",
       "       [0.32909705],\n",
       "       [0.2680187 ],\n",
       "       [0.48467807],\n",
       "       [0.29599549],\n",
       "       [0.30772081],\n",
       "       [0.40196359],\n",
       "       [0.31644556],\n",
       "       [0.38032474],\n",
       "       [0.4696181 ],\n",
       "       [0.36548185],\n",
       "       [0.34331997],\n",
       "       [0.34207123],\n",
       "       [0.46824064],\n",
       "       [0.27716788],\n",
       "       [0.29481257],\n",
       "       [0.48913538],\n",
       "       [0.47288207],\n",
       "       [0.34127592],\n",
       "       [0.25415326],\n",
       "       [0.49187357],\n",
       "       [0.48545272],\n",
       "       [0.34526643],\n",
       "       [0.48237785],\n",
       "       [0.4827215 ],\n",
       "       [0.47592178],\n",
       "       [0.25826833],\n",
       "       [0.4611797 ],\n",
       "       [0.32340422],\n",
       "       [0.33463963],\n",
       "       [0.476165  ],\n",
       "       [0.26505666],\n",
       "       [0.34049999],\n",
       "       [0.34107317],\n",
       "       [0.38169153],\n",
       "       [0.34421578],\n",
       "       [0.46937374],\n",
       "       [0.30027875],\n",
       "       [0.30159054],\n",
       "       [0.27926895],\n",
       "       [0.34427138],\n",
       "       [0.31595176],\n",
       "       [0.33536656],\n",
       "       [0.33675436],\n",
       "       [0.26123475],\n",
       "       [0.46145633],\n",
       "       [0.34921971],\n",
       "       [0.42529069],\n",
       "       [0.42824654],\n",
       "       [0.34144106],\n",
       "       [0.27754207],\n",
       "       [0.47672341],\n",
       "       [0.34716245],\n",
       "       [0.4897517 ],\n",
       "       [0.47921976],\n",
       "       [0.3382248 ],\n",
       "       [0.27820138],\n",
       "       [0.50133606],\n",
       "       [0.34352807],\n",
       "       [0.37425291],\n",
       "       [0.4832179 ],\n",
       "       [0.40712501],\n",
       "       [0.31806845],\n",
       "       [0.47575115],\n",
       "       [0.32830514],\n",
       "       [0.37593862],\n",
       "       [0.33996305],\n",
       "       [0.29469227],\n",
       "       [0.38107644],\n",
       "       [0.4098373 ],\n",
       "       [0.2749094 ],\n",
       "       [0.29230952],\n",
       "       [0.39253857],\n",
       "       [0.37558341],\n",
       "       [0.29962209],\n",
       "       [0.45885107],\n",
       "       [0.32890324],\n",
       "       [0.33582867],\n",
       "       [0.39098411],\n",
       "       [0.34135056],\n",
       "       [0.30986395],\n",
       "       [0.25981768],\n",
       "       [0.34800623],\n",
       "       [0.34859666],\n",
       "       [0.33829787],\n",
       "       [0.32731219],\n",
       "       [0.41409451],\n",
       "       [0.4855998 ],\n",
       "       [0.33443684],\n",
       "       [0.33545081],\n",
       "       [0.30058712],\n",
       "       [0.36248418],\n",
       "       [0.33731187],\n",
       "       [0.33583581],\n",
       "       [0.32830514],\n",
       "       [0.39919695],\n",
       "       [0.34590118],\n",
       "       [0.33701133],\n",
       "       [0.34733539],\n",
       "       [0.48246506],\n",
       "       [0.49114445],\n",
       "       [0.30797498],\n",
       "       [0.31350348],\n",
       "       [0.34933997],\n",
       "       [0.3449378 ],\n",
       "       [0.34473652],\n",
       "       [0.3546983 ],\n",
       "       [0.33530659],\n",
       "       [0.33200139],\n",
       "       [0.39270738],\n",
       "       [0.40749047],\n",
       "       [0.43385492],\n",
       "       [0.46192426],\n",
       "       [0.49174007],\n",
       "       [0.29326596],\n",
       "       [0.31448676],\n",
       "       [0.34135056],\n",
       "       [0.33337373],\n",
       "       [0.33641099],\n",
       "       [0.34171601],\n",
       "       [0.33296366],\n",
       "       [0.29939239],\n",
       "       [0.41474685],\n",
       "       [0.27011635],\n",
       "       [0.32830514],\n",
       "       [0.30085278],\n",
       "       [0.36913268],\n",
       "       [0.34868949],\n",
       "       [0.49373012],\n",
       "       [0.32833805],\n",
       "       [0.44036741],\n",
       "       [0.33441749],\n",
       "       [0.33903623],\n",
       "       [0.34590118],\n",
       "       [0.47303783],\n",
       "       [0.34135056],\n",
       "       [0.30181782],\n",
       "       [0.45747703],\n",
       "       [0.34515787],\n",
       "       [0.29892604],\n",
       "       [0.34568927],\n",
       "       [0.26124794],\n",
       "       [0.34240157],\n",
       "       [0.31045185],\n",
       "       [0.49622095],\n",
       "       [0.23575159],\n",
       "       [0.48100743],\n",
       "       [0.36330433],\n",
       "       [0.34321704],\n",
       "       [0.44259961],\n",
       "       [0.3434853 ],\n",
       "       [0.32328345],\n",
       "       [0.48904008],\n",
       "       [0.49465197],\n",
       "       [0.45750935],\n",
       "       [0.31981171],\n",
       "       [0.49461822],\n",
       "       [0.30673468],\n",
       "       [0.35326107],\n",
       "       [0.35456638],\n",
       "       [0.34248322],\n",
       "       [0.46048818],\n",
       "       [0.22465273],\n",
       "       [0.33276796],\n",
       "       [0.33933053],\n",
       "       [0.34074073],\n",
       "       [0.45416938],\n",
       "       [0.34070771],\n",
       "       [0.34334481],\n",
       "       [0.3723006 ],\n",
       "       [0.33163131],\n",
       "       [0.29978308],\n",
       "       [0.48393649],\n",
       "       [0.3123229 ],\n",
       "       [0.27993008],\n",
       "       [0.48527836],\n",
       "       [0.37551849],\n",
       "       [0.41561105],\n",
       "       [0.47866758],\n",
       "       [0.34947924],\n",
       "       [0.3467846 ],\n",
       "       [0.4559907 ],\n",
       "       [0.45390603],\n",
       "       [0.30771272],\n",
       "       [0.30885046],\n",
       "       [0.3476767 ],\n",
       "       [0.48128314],\n",
       "       [0.30076973],\n",
       "       [0.48480267],\n",
       "       [0.35474658],\n",
       "       [0.3382248 ],\n",
       "       [0.27716788],\n",
       "       [0.48590988],\n",
       "       [0.36082986],\n",
       "       [0.31587869],\n",
       "       [0.4676837 ],\n",
       "       [0.339003  ],\n",
       "       [0.26086262],\n",
       "       [0.33272193],\n",
       "       [0.34598551],\n",
       "       [0.44381622],\n",
       "       [0.29745594],\n",
       "       [0.36330433],\n",
       "       [0.34021831],\n",
       "       [0.38995414],\n",
       "       [0.37673618],\n",
       "       [0.47822135],\n",
       "       [0.34144106],\n",
       "       [0.33914589],\n",
       "       [0.48588771],\n",
       "       [0.48484132],\n",
       "       [0.27180477]])"
      ]
     },
     "execution_count": 43,
     "metadata": {},
     "output_type": "execute_result"
    }
   ],
   "source": [
    "y_pred = clf.predict_proba(X_test)\n",
    "\n",
    "y_pred= y_pred[:,1].reshape(-1,1)\n",
    "\n",
    "y_pred"
   ]
  },
  {
   "cell_type": "code",
   "execution_count": 44,
   "id": "08ede4da",
   "metadata": {},
   "outputs": [
    {
     "data": {
      "text/plain": [
       "0.7017212645174731"
      ]
     },
     "execution_count": 44,
     "metadata": {},
     "output_type": "execute_result"
    }
   ],
   "source": [
    "roc_auc_score(y_test, y_pred)"
   ]
  },
  {
   "cell_type": "code",
   "execution_count": 86,
   "id": "74b76172",
   "metadata": {},
   "outputs": [
    {
     "data": {
      "image/png": "[encoded data removed]",
      "text/plain": [
       "<Figure size 720x576 with 1 Axes>"
      ]
     },
     "metadata": {
      "needs_background": "light"
     },
     "output_type": "display_data"
    }
   ],
   "source": [
    "fig, ax = plt.subplots(1, 1, figsize=(10, 8))\n",
    "plot_roc(\n",
    "    y_test, \n",
    "    y_pred, \n",
    "    'Target',\n",
    "    ax=ax\n",
    ")"
   ]
  },
  {
   "cell_type": "code",
   "execution_count": 88,
   "id": "9a1f1d78",
   "metadata": {},
   "outputs": [
    {
     "name": "stdout",
     "output_type": "stream",
     "text": [
      "Fitting 3 folds for each of 500 candidates, totalling 1500 fits\n"
     ]
    }
   ],
   "source": [
    "from sklearn.model_selection import GridSearchCV\n",
    "\n",
    "n_estimators = [100, 300, 500, 800, 1200]\n",
    "max_depth = [5, 8, 15, 25, 30]\n",
    "min_samples_split = [2, 5, 10, 15, 100]\n",
    "min_samples_leaf = [1, 2, 5, 10] \n",
    "\n",
    "hyperF = dict(n_estimators = n_estimators, max_depth = max_depth,  \n",
    "              min_samples_split = min_samples_split, \n",
    "             min_samples_leaf = min_samples_leaf)\n",
    "\n",
    "gridF = GridSearchCV(clf, hyperF, cv = 3, verbose = 1, \n",
    "                      n_jobs = -1)\n",
    "bestF = gridF.fit(X_train, y_train)"
   ]
  },
  {
   "cell_type": "code",
   "execution_count": 90,
   "id": "749dbaad",
   "metadata": {},
   "outputs": [
    {
     "data": {
      "text/plain": [
       "{'max_depth': 30,\n",
       " 'min_samples_leaf': 1,\n",
       " 'min_samples_split': 2,\n",
       " 'n_estimators': 300}"
      ]
     },
     "execution_count": 90,
     "metadata": {},
     "output_type": "execute_result"
    }
   ],
   "source": [
    "bestF.best_params_"
   ]
  },
  {
   "cell_type": "code",
   "execution_count": 91,
   "id": "6e53236f",
   "metadata": {},
   "outputs": [
    {
     "data": {
      "text/plain": [
       "0.9994422755158952"
      ]
     },
     "execution_count": 91,
     "metadata": {},
     "output_type": "execute_result"
    }
   ],
   "source": [
    "# find best model score\n",
    "bestF.score(X_train, y_train)"
   ]
  },
  {
   "cell_type": "code",
   "execution_count": 55,
   "id": "389deb1a",
   "metadata": {},
   "outputs": [
    {
     "name": "stdout",
     "output_type": "stream",
     "text": [
      "n_iterations: 3\n",
      "n_required_iterations: 3\n",
      "n_possible_iterations: 3\n",
      "min_resources_: 996\n",
      "max_resources_: 8965\n",
      "aggressive_elimination: False\n",
      "factor: 3\n",
      "----------\n",
      "iter: 0\n",
      "n_candidates: 12\n",
      "n_resources: 996\n",
      "Fitting 5 folds for each of 12 candidates, totalling 60 fits\n",
      "----------\n",
      "iter: 1\n",
      "n_candidates: 4\n",
      "n_resources: 2988\n",
      "Fitting 5 folds for each of 4 candidates, totalling 20 fits\n",
      "----------\n",
      "iter: 2\n",
      "n_candidates: 2\n",
      "n_resources: 8964\n",
      "Fitting 5 folds for each of 2 candidates, totalling 10 fits\n"
     ]
    }
   ],
   "source": [
    "# Optimization n_2\n",
    "from sklearn.experimental import enable_halving_search_cv\n",
    "from sklearn.model_selection import HalvingGridSearchCV\n",
    "from sklearn.model_selection import StratifiedKFold\n",
    "from sklearn.model_selection import RepeatedStratifiedKFold\n",
    "from imblearn.ensemble import BalancedRandomForestClassifier\n",
    "# parameter grid\n",
    "pgrid = {    \n",
    "    'max_depth' : [101],    \n",
    "    'min_samples_split' : [3,4,10],\n",
    "    'min_samples_leaf' : [1,2],\n",
    "    'class_weight': ['balanced','balanced_subsample']\n",
    "}\n",
    "\n",
    "# specifying the cv\n",
    "cv_skf = StratifiedKFold(n_splits=5, random_state=0, shuffle=True)\n",
    "\n",
    "# specifying the model \n",
    "rfgs = BalancedRandomForestClassifier(n_jobs=-1)\n",
    "\n",
    "\n",
    "\n",
    "# specify the grid search cv\n",
    "cv = HalvingGridSearchCV(estimator=rfgs,param_grid=pgrid,cv=cv_skf,n_jobs=-1,verbose=10, scoring='accuracy',random_state=0)\n",
    "\n",
    "cc= cv.fit(X_train,y_train)"
   ]
  },
  {
   "cell_type": "code",
   "execution_count": 56,
   "id": "bd55de57",
   "metadata": {},
   "outputs": [
    {
     "data": {
      "text/plain": [
       "{'class_weight': 'balanced_subsample',\n",
       " 'max_depth': 101,\n",
       " 'min_samples_leaf': 1,\n",
       " 'min_samples_split': 3}"
      ]
     },
     "execution_count": 56,
     "metadata": {},
     "output_type": "execute_result"
    }
   ],
   "source": [
    "cc.best_params_"
   ]
  },
  {
   "cell_type": "code",
   "execution_count": 58,
   "id": "5ad34c10",
   "metadata": {},
   "outputs": [
    {
     "data": {
      "text/html": [
       "<style>#sk-container-id-4 {color: black;background-color: white;}#sk-container-id-4 pre{padding: 0;}#sk-container-id-4 div.sk-toggleable {background-color: white;}#sk-container-id-4 label.sk-toggleable__label {cursor: pointer;display: block;width: 100%;margin-bottom: 0;padding: 0.3em;box-sizing: border-box;text-align: center;}#sk-container-id-4 label.sk-toggleable__label-arrow:before {content: \"▸\";float: left;margin-right: 0.25em;color: #696969;}#sk-container-id-4 label.sk-toggleable__label-arrow:hover:before {color: black;}#sk-container-id-4 div.sk-estimator:hover label.sk-toggleable__label-arrow:before {color: black;}#sk-container-id-4 div.sk-toggleable__content {max-height: 0;max-width: 0;overflow: hidden;text-align: left;background-color: #f0f8ff;}#sk-container-id-4 div.sk-toggleable__content pre {margin: 0.2em;color: black;border-radius: 0.25em;background-color: #f0f8ff;}#sk-container-id-4 input.sk-toggleable__control:checked~div.sk-toggleable__content {max-height: 200px;max-width: 100%;overflow: auto;}#sk-container-id-4 input.sk-toggleable__control:checked~label.sk-toggleable__label-arrow:before {content: \"▾\";}#sk-container-id-4 div.sk-estimator input.sk-toggleable__control:checked~label.sk-toggleable__label {background-color: #d4ebff;}#sk-container-id-4 div.sk-label input.sk-toggleable__control:checked~label.sk-toggleable__label {background-color: #d4ebff;}#sk-container-id-4 input.sk-hidden--visually {border: 0;clip: rect(1px 1px 1px 1px);clip: rect(1px, 1px, 1px, 1px);height: 1px;margin: -1px;overflow: hidden;padding: 0;position: absolute;width: 1px;}#sk-container-id-4 div.sk-estimator {font-family: monospace;background-color: #f0f8ff;border: 1px dotted black;border-radius: 0.25em;box-sizing: border-box;margin-bottom: 0.5em;}#sk-container-id-4 div.sk-estimator:hover {background-color: #d4ebff;}#sk-container-id-4 div.sk-parallel-item::after {content: \"\";width: 100%;border-bottom: 1px solid gray;flex-grow: 1;}#sk-container-id-4 div.sk-label:hover label.sk-toggleable__label {background-color: #d4ebff;}#sk-container-id-4 div.sk-serial::before {content: \"\";position: absolute;border-left: 1px solid gray;box-sizing: border-box;top: 0;bottom: 0;left: 50%;z-index: 0;}#sk-container-id-4 div.sk-serial {display: flex;flex-direction: column;align-items: center;background-color: white;padding-right: 0.2em;padding-left: 0.2em;position: relative;}#sk-container-id-4 div.sk-item {position: relative;z-index: 1;}#sk-container-id-4 div.sk-parallel {display: flex;align-items: stretch;justify-content: center;background-color: white;position: relative;}#sk-container-id-4 div.sk-item::before, #sk-container-id-4 div.sk-parallel-item::before {content: \"\";position: absolute;border-left: 1px solid gray;box-sizing: border-box;top: 0;bottom: 0;left: 50%;z-index: -1;}#sk-container-id-4 div.sk-parallel-item {display: flex;flex-direction: column;z-index: 1;position: relative;background-color: white;}#sk-container-id-4 div.sk-parallel-item:first-child::after {align-self: flex-end;width: 50%;}#sk-container-id-4 div.sk-parallel-item:last-child::after {align-self: flex-start;width: 50%;}#sk-container-id-4 div.sk-parallel-item:only-child::after {width: 0;}#sk-container-id-4 div.sk-dashed-wrapped {border: 1px dashed gray;margin: 0 0.4em 0.5em 0.4em;box-sizing: border-box;padding-bottom: 0.4em;background-color: white;}#sk-container-id-4 div.sk-label label {font-family: monospace;font-weight: bold;display: inline-block;line-height: 1.2em;}#sk-container-id-4 div.sk-label-container {text-align: center;}#sk-container-id-4 div.sk-container {/* jupyter's `normalize.less` sets `[hidden] { display: none; }` but bootstrap.min.css set `[hidden] { display: none !important; }` so we also need the `!important` here to be able to override the default hidden behavior on the sphinx rendered scikit-learn.org. See: https://github.com/scikit-learn/scikit-learn/issues/21755 */display: inline-block !important;position: relative;}#sk-container-id-4 div.sk-text-repr-fallback {display: none;}</style><div id=\"sk-container-id-4\" class=\"sk-top-container\"><div class=\"sk-text-repr-fallback\"><pre>RandomForestClassifier(class_weight=&#x27;balanced_subsample&#x27;, max_depth=101,\n",
       "                       min_samples_split=3, n_estimators=1000, random_state=68)</pre><b>In a Jupyter environment, please rerun this cell to show the HTML representation or trust the notebook. <br />On GitHub, the HTML representation is unable to render, please try loading this page with nbviewer.org.</b></div><div class=\"sk-container\" hidden><div class=\"sk-item\"><div class=\"sk-estimator sk-toggleable\"><input class=\"sk-toggleable__control sk-hidden--visually\" id=\"sk-estimator-id-6\" type=\"checkbox\" checked><label for=\"sk-estimator-id-6\" class=\"sk-toggleable__label sk-toggleable__label-arrow\">RandomForestClassifier</label><div class=\"sk-toggleable__content\"><pre>RandomForestClassifier(class_weight=&#x27;balanced_subsample&#x27;, max_depth=101,\n",
       "                       min_samples_split=3, n_estimators=1000, random_state=68)</pre></div></div></div></div></div>"
      ],
      "text/plain": [
       "RandomForestClassifier(class_weight='balanced_subsample', max_depth=101,\n",
       "                       min_samples_split=3, n_estimators=1000, random_state=68)"
      ]
     },
     "execution_count": 58,
     "metadata": {},
     "output_type": "execute_result"
    }
   ],
   "source": [
    "# Running the optimized randomforrest\n",
    "clf_optimized = RandomForestClassifier(max_depth=101, min_samples_leaf=1, n_estimators=1000, min_samples_split=3, random_state=68,\n",
    "                                      class_weight=\"balanced_subsample\")\n",
    "clf_optimized.fit(X_train, y_train)"
   ]
  },
  {
   "cell_type": "code",
   "execution_count": 59,
   "id": "f440359a",
   "metadata": {},
   "outputs": [
    {
     "data": {
      "text/plain": [
       "array([[0.47781035],\n",
       "       [0.21470239],\n",
       "       [0.31865789],\n",
       "       [0.22634013],\n",
       "       [0.53256391],\n",
       "       [0.40931774],\n",
       "       [0.16133115],\n",
       "       [0.53534148],\n",
       "       [0.06675019],\n",
       "       [0.16562102],\n",
       "       [0.11566015],\n",
       "       [0.35413294],\n",
       "       [0.66904267],\n",
       "       [0.25764581],\n",
       "       [0.66158557],\n",
       "       [0.06331111],\n",
       "       [0.25314214],\n",
       "       [0.49114483],\n",
       "       [0.43412373],\n",
       "       [0.25131745],\n",
       "       [0.12499953],\n",
       "       [0.06461501],\n",
       "       [0.71880435],\n",
       "       [0.19025042],\n",
       "       [0.87504068],\n",
       "       [0.58388149],\n",
       "       [0.21219333],\n",
       "       [0.36279107],\n",
       "       [0.74223456],\n",
       "       [0.14384646],\n",
       "       [0.12159161],\n",
       "       [0.61681778],\n",
       "       [0.13802103],\n",
       "       [0.5199808 ],\n",
       "       [0.19171416],\n",
       "       [0.75719052],\n",
       "       [0.20289034],\n",
       "       [0.35502882],\n",
       "       [0.45167658],\n",
       "       [0.1182791 ],\n",
       "       [0.47721735],\n",
       "       [0.65802203],\n",
       "       [0.24926837],\n",
       "       [0.07247558],\n",
       "       [0.80935973],\n",
       "       [0.37092421],\n",
       "       [0.401228  ],\n",
       "       [0.46509108],\n",
       "       [0.69275703],\n",
       "       [0.18612665],\n",
       "       [0.41489699],\n",
       "       [0.23921872],\n",
       "       [0.75003509],\n",
       "       [0.22680568],\n",
       "       [0.41856016],\n",
       "       [0.07956811],\n",
       "       [0.16163512],\n",
       "       [0.1067962 ],\n",
       "       [0.11940272],\n",
       "       [0.83529699],\n",
       "       [0.61659863],\n",
       "       [0.78234631],\n",
       "       [0.25632106],\n",
       "       [0.30411082],\n",
       "       [0.25678147],\n",
       "       [0.38941086],\n",
       "       [0.5284827 ],\n",
       "       [0.61010581],\n",
       "       [0.79875267],\n",
       "       [0.45858073],\n",
       "       [0.02891059],\n",
       "       [0.15010415],\n",
       "       [0.22175847],\n",
       "       [0.4811629 ],\n",
       "       [0.79517021],\n",
       "       [0.82379965],\n",
       "       [0.25163963],\n",
       "       [0.552425  ],\n",
       "       [0.36359067],\n",
       "       [0.29628907],\n",
       "       [0.31078417],\n",
       "       [0.31619963],\n",
       "       [0.14389052],\n",
       "       [0.05332592],\n",
       "       [0.37814864],\n",
       "       [0.15014922],\n",
       "       [0.65713371],\n",
       "       [0.27635952],\n",
       "       [0.07716369],\n",
       "       [0.33356542],\n",
       "       [0.18907409],\n",
       "       [0.29978062],\n",
       "       [0.26847371],\n",
       "       [0.29795513],\n",
       "       [0.25656163],\n",
       "       [0.1923729 ],\n",
       "       [0.8068236 ],\n",
       "       [0.22002549],\n",
       "       [0.70216345],\n",
       "       [0.71290712],\n",
       "       [0.24458804],\n",
       "       [0.13040402],\n",
       "       [0.18661007],\n",
       "       [0.67084336],\n",
       "       [0.88292987],\n",
       "       [0.68308915],\n",
       "       [0.20761954],\n",
       "       [0.77059138],\n",
       "       [0.21038716],\n",
       "       [0.14106372],\n",
       "       [0.08785537],\n",
       "       [0.65448033],\n",
       "       [0.29550891],\n",
       "       [0.08677602],\n",
       "       [0.16554623],\n",
       "       [0.03941578],\n",
       "       [0.84535016],\n",
       "       [0.75393256],\n",
       "       [0.30761245],\n",
       "       [0.60609645],\n",
       "       [0.58199395],\n",
       "       [0.51307834],\n",
       "       [0.28607191],\n",
       "       [0.25551901],\n",
       "       [0.75550136],\n",
       "       [0.15731642],\n",
       "       [0.35897141],\n",
       "       [0.2058983 ],\n",
       "       [0.27358375],\n",
       "       [0.43833431],\n",
       "       [0.0155    ],\n",
       "       [0.6906321 ],\n",
       "       [0.13799063],\n",
       "       [0.83742762],\n",
       "       [0.73628278],\n",
       "       [0.19979499],\n",
       "       [0.32716685],\n",
       "       [0.8371125 ],\n",
       "       [0.17011614],\n",
       "       [0.27066736],\n",
       "       [0.20818166],\n",
       "       [0.75757546],\n",
       "       [0.32994247],\n",
       "       [0.61578796],\n",
       "       [0.71294433],\n",
       "       [0.16063736],\n",
       "       [0.16133115],\n",
       "       [0.79753945],\n",
       "       [0.28540593],\n",
       "       [0.73036034],\n",
       "       [0.311752  ],\n",
       "       [0.68653947],\n",
       "       [0.19566248],\n",
       "       [0.73474642],\n",
       "       [0.26835929],\n",
       "       [0.925799  ],\n",
       "       [0.18585605],\n",
       "       [0.65179187],\n",
       "       [0.15172735],\n",
       "       [0.37427475],\n",
       "       [0.45955086],\n",
       "       [0.27848699],\n",
       "       [0.44025926],\n",
       "       [0.87165103],\n",
       "       [0.77508103],\n",
       "       [0.4580065 ],\n",
       "       [0.33704206],\n",
       "       [0.08482532],\n",
       "       [0.13592226],\n",
       "       [0.56428201],\n",
       "       [0.1735466 ],\n",
       "       [0.34807607],\n",
       "       [0.17893348],\n",
       "       [0.36866802],\n",
       "       [0.28437149],\n",
       "       [0.09436979],\n",
       "       [0.38574385],\n",
       "       [0.72818731],\n",
       "       [0.25393304],\n",
       "       [0.12760324],\n",
       "       [0.65724685],\n",
       "       [0.25957357],\n",
       "       [0.10844012],\n",
       "       [0.22522309],\n",
       "       [0.26381454],\n",
       "       [0.5820724 ],\n",
       "       [0.23521236],\n",
       "       [0.15260998],\n",
       "       [0.72681029],\n",
       "       [0.13880918],\n",
       "       [0.3486027 ],\n",
       "       [0.64356348],\n",
       "       [0.69372091],\n",
       "       [0.29343086],\n",
       "       [0.48674571],\n",
       "       [0.25193454],\n",
       "       [0.21942178],\n",
       "       [0.10499629],\n",
       "       [0.62303072],\n",
       "       [0.08123995],\n",
       "       [0.15314353],\n",
       "       [0.29601632],\n",
       "       [0.73464094],\n",
       "       [0.50480961],\n",
       "       [0.3027337 ],\n",
       "       [0.46870486],\n",
       "       [0.3182359 ],\n",
       "       [0.1561787 ],\n",
       "       [0.39709049],\n",
       "       [0.10551264],\n",
       "       [0.12661198],\n",
       "       [0.46728163],\n",
       "       [0.28374511],\n",
       "       [0.06713857],\n",
       "       [0.21990819],\n",
       "       [0.65142487],\n",
       "       [0.36713064],\n",
       "       [0.05280112],\n",
       "       [0.41306635],\n",
       "       [0.73545424],\n",
       "       [0.10224582],\n",
       "       [0.63289973],\n",
       "       [0.66760307],\n",
       "       [0.16298916],\n",
       "       [0.32813763],\n",
       "       [0.33182563],\n",
       "       [0.60872937],\n",
       "       [0.23082155],\n",
       "       [0.22152759],\n",
       "       [0.43425164],\n",
       "       [0.35824839],\n",
       "       [0.09383929],\n",
       "       [0.44322645],\n",
       "       [0.84330124],\n",
       "       [0.19628815],\n",
       "       [0.2358986 ],\n",
       "       [0.77402284],\n",
       "       [0.39492193],\n",
       "       [0.04807699],\n",
       "       [0.05597362],\n",
       "       [0.21057179],\n",
       "       [0.46203075],\n",
       "       [0.24179199],\n",
       "       [0.94482503],\n",
       "       [0.12788943],\n",
       "       [0.79926411],\n",
       "       [0.37019934],\n",
       "       [0.13908205],\n",
       "       [0.25418441],\n",
       "       [0.06042026],\n",
       "       [0.31222401],\n",
       "       [0.34274444],\n",
       "       [0.07648736],\n",
       "       [0.12881274],\n",
       "       [0.0519919 ],\n",
       "       [0.3709894 ],\n",
       "       [0.52986119],\n",
       "       [0.38145563],\n",
       "       [0.623321  ],\n",
       "       [0.55071391],\n",
       "       [0.28552637],\n",
       "       [0.08687071],\n",
       "       [0.6936434 ],\n",
       "       [0.1971366 ],\n",
       "       [0.6452787 ],\n",
       "       [0.33288147],\n",
       "       [0.42778445],\n",
       "       [0.46370519],\n",
       "       [0.14054072],\n",
       "       [0.18078228],\n",
       "       [0.78214413],\n",
       "       [0.63422523],\n",
       "       [0.61094465],\n",
       "       [0.67208204],\n",
       "       [0.16090104],\n",
       "       [0.42170059],\n",
       "       [0.62330748],\n",
       "       [0.2675437 ],\n",
       "       [0.07678843],\n",
       "       [0.34149593],\n",
       "       [0.09889607],\n",
       "       [0.42701824],\n",
       "       [0.34760909],\n",
       "       [0.44845201],\n",
       "       [0.63458414],\n",
       "       [0.81972909],\n",
       "       [0.51439509],\n",
       "       [0.41725631],\n",
       "       [0.078661  ],\n",
       "       [0.14578754],\n",
       "       [0.22581848],\n",
       "       [0.1687515 ],\n",
       "       [0.16764177],\n",
       "       [0.42488077],\n",
       "       [0.4600085 ],\n",
       "       [0.49165782],\n",
       "       [0.84789704],\n",
       "       [0.1850657 ],\n",
       "       [0.54275226],\n",
       "       [0.27398363],\n",
       "       [0.10148022],\n",
       "       [0.62497134],\n",
       "       [0.26188886],\n",
       "       [0.21600666],\n",
       "       [0.11858739],\n",
       "       [0.40755533],\n",
       "       [0.1324286 ],\n",
       "       [0.18068019],\n",
       "       [0.12069382],\n",
       "       [0.26332906],\n",
       "       [0.62732654],\n",
       "       [0.34772501],\n",
       "       [0.72513772],\n",
       "       [0.20253815],\n",
       "       [0.1569849 ],\n",
       "       [0.7160266 ],\n",
       "       [0.33645831],\n",
       "       [0.35388285],\n",
       "       [0.92141516],\n",
       "       [0.46701713],\n",
       "       [0.09968476],\n",
       "       [0.91784709],\n",
       "       [0.06012921],\n",
       "       [0.08740453],\n",
       "       [0.09360449],\n",
       "       [0.27269944],\n",
       "       [0.08721861],\n",
       "       [0.45052771],\n",
       "       [0.73676384],\n",
       "       [0.65002945],\n",
       "       [0.75743334],\n",
       "       [0.38206491],\n",
       "       [0.8660272 ],\n",
       "       [0.40883832],\n",
       "       [0.38747477],\n",
       "       [0.12725914],\n",
       "       [0.12363179],\n",
       "       [0.66567012],\n",
       "       [0.29556848],\n",
       "       [0.0892107 ],\n",
       "       [0.57113944],\n",
       "       [0.4935674 ],\n",
       "       [0.38100569],\n",
       "       [0.62063836],\n",
       "       [0.4758645 ],\n",
       "       [0.61920383],\n",
       "       [0.28383915],\n",
       "       [0.34242685],\n",
       "       [0.25922667],\n",
       "       [0.56200624],\n",
       "       [0.07867091],\n",
       "       [0.26499493],\n",
       "       [0.21518246],\n",
       "       [0.15344809],\n",
       "       [0.25970176],\n",
       "       [0.29538983],\n",
       "       [0.71412408],\n",
       "       [0.70310376],\n",
       "       [0.34685946],\n",
       "       [0.09427281],\n",
       "       [0.63659562],\n",
       "       [0.30168513],\n",
       "       [0.72356329],\n",
       "       [0.44286552],\n",
       "       [0.08215214],\n",
       "       [0.46670838],\n",
       "       [0.19535563],\n",
       "       [0.22059355],\n",
       "       [0.5398612 ],\n",
       "       [0.51091138],\n",
       "       [0.88611771],\n",
       "       [0.25960347],\n",
       "       [0.1716223 ],\n",
       "       [0.40588874],\n",
       "       [0.721904  ],\n",
       "       [0.18926826],\n",
       "       [0.1051847 ],\n",
       "       [0.38379669],\n",
       "       [0.52179458],\n",
       "       [0.04382283],\n",
       "       [0.49295734],\n",
       "       [0.1490879 ],\n",
       "       [0.33044023],\n",
       "       [0.23607471],\n",
       "       [0.18697891],\n",
       "       [0.08214058],\n",
       "       [0.31319991],\n",
       "       [0.26036475],\n",
       "       [0.40224895],\n",
       "       [0.13356372],\n",
       "       [0.07158594],\n",
       "       [0.44701005],\n",
       "       [0.48952123],\n",
       "       [0.68465818],\n",
       "       [0.08289504],\n",
       "       [0.74195725],\n",
       "       [0.09646042],\n",
       "       [0.61159455],\n",
       "       [0.21970322],\n",
       "       [0.41856016],\n",
       "       [0.12679309],\n",
       "       [0.28004226],\n",
       "       [0.36234927],\n",
       "       [0.22638472],\n",
       "       [0.61304956],\n",
       "       [0.15622529],\n",
       "       [0.3770035 ],\n",
       "       [0.44356023],\n",
       "       [0.07720737],\n",
       "       [0.59806637],\n",
       "       [0.05603707],\n",
       "       [0.65721008],\n",
       "       [0.65177204],\n",
       "       [0.18874905],\n",
       "       [0.63877362],\n",
       "       [0.19041899],\n",
       "       [0.17479911],\n",
       "       [0.72478118],\n",
       "       [0.53726054],\n",
       "       [0.58343605],\n",
       "       [0.29183109],\n",
       "       [0.52904153],\n",
       "       [0.18409849],\n",
       "       [0.43331751],\n",
       "       [0.11970107],\n",
       "       [0.15879023],\n",
       "       [0.81771602],\n",
       "       [0.6430199 ],\n",
       "       [0.20719095],\n",
       "       [0.10857542],\n",
       "       [0.44886087],\n",
       "       [0.52058514],\n",
       "       [0.27274791],\n",
       "       [0.86542895],\n",
       "       [0.14326199],\n",
       "       [0.50522435],\n",
       "       [0.74563441],\n",
       "       [0.26873705],\n",
       "       [0.18185656],\n",
       "       [0.09283067],\n",
       "       [0.67918649],\n",
       "       [0.67610726],\n",
       "       [0.35441845],\n",
       "       [0.23680012],\n",
       "       [0.90294983],\n",
       "       [0.34665145],\n",
       "       [0.14959397],\n",
       "       [0.48480384],\n",
       "       [0.47844956],\n",
       "       [0.43781713],\n",
       "       [0.18750888],\n",
       "       [0.64680137],\n",
       "       [0.45407563],\n",
       "       [0.37319838],\n",
       "       [0.25263623],\n",
       "       [0.109646  ],\n",
       "       [0.34721657],\n",
       "       [0.28202348],\n",
       "       [0.17805777],\n",
       "       [0.77514788],\n",
       "       [0.17093544],\n",
       "       [0.61627747],\n",
       "       [0.32286839],\n",
       "       [0.50225256],\n",
       "       [0.53381253],\n",
       "       [0.52616   ],\n",
       "       [0.54533107],\n",
       "       [0.81045974],\n",
       "       [0.5446116 ],\n",
       "       [0.1956991 ],\n",
       "       [0.01433946],\n",
       "       [0.27206758],\n",
       "       [0.612068  ],\n",
       "       [0.08855896],\n",
       "       [0.39279383],\n",
       "       [0.13469244],\n",
       "       [0.76024005],\n",
       "       [0.39156911],\n",
       "       [0.10602615],\n",
       "       [0.21114012],\n",
       "       [0.73123021],\n",
       "       [0.63440144],\n",
       "       [0.4928154 ],\n",
       "       [0.45692517],\n",
       "       [0.06673129],\n",
       "       [0.26361484],\n",
       "       [0.20422084],\n",
       "       [0.05309355],\n",
       "       [0.09921755],\n",
       "       [0.16324759],\n",
       "       [0.16908931],\n",
       "       [0.87134766],\n",
       "       [0.72836335],\n",
       "       [0.46701713],\n",
       "       [0.57912517],\n",
       "       [0.68282326],\n",
       "       [0.29208353],\n",
       "       [0.71004768],\n",
       "       [0.78394169],\n",
       "       [0.658845  ],\n",
       "       [0.15852578],\n",
       "       [0.22450562],\n",
       "       [0.63110983],\n",
       "       [0.29524021],\n",
       "       [0.18433113],\n",
       "       [0.34897104],\n",
       "       [0.33391911],\n",
       "       [0.1017888 ],\n",
       "       [0.23953305],\n",
       "       [0.43994542],\n",
       "       [0.56122775],\n",
       "       [0.12842415],\n",
       "       [0.50387977],\n",
       "       [0.25948205],\n",
       "       [0.23888773],\n",
       "       [0.20148911],\n",
       "       [0.61032802],\n",
       "       [0.77873346],\n",
       "       [0.28540593],\n",
       "       [0.27308984],\n",
       "       [0.04961174],\n",
       "       [0.24320619],\n",
       "       [0.32687314],\n",
       "       [0.79639745],\n",
       "       [0.13091123],\n",
       "       [0.2842939 ],\n",
       "       [0.69428736],\n",
       "       [0.74623838],\n",
       "       [0.17481881],\n",
       "       [0.23375434],\n",
       "       [0.19549745],\n",
       "       [0.29894463],\n",
       "       [0.08718931],\n",
       "       [0.92413984],\n",
       "       [0.63519554],\n",
       "       [0.63443222],\n",
       "       [0.74623838],\n",
       "       [0.08914857],\n",
       "       [0.13954407],\n",
       "       [0.60088099],\n",
       "       [0.04535573],\n",
       "       [0.56582156],\n",
       "       [0.290575  ],\n",
       "       [0.70571654],\n",
       "       [0.75463646],\n",
       "       [0.16366806],\n",
       "       [0.67388415],\n",
       "       [0.39351488],\n",
       "       [0.72941079],\n",
       "       [0.30542184],\n",
       "       [0.8031197 ],\n",
       "       [0.13133791],\n",
       "       [0.30874443],\n",
       "       [0.66016726],\n",
       "       [0.45451323],\n",
       "       [0.0188148 ],\n",
       "       [0.63353333],\n",
       "       [0.24924634],\n",
       "       [0.50045935],\n",
       "       [0.00931274],\n",
       "       [0.71258758],\n",
       "       [0.12049579],\n",
       "       [0.16582513],\n",
       "       [0.49755453],\n",
       "       [0.17823913],\n",
       "       [0.59925332],\n",
       "       [0.12395898],\n",
       "       [0.33437348],\n",
       "       [0.23306157],\n",
       "       [0.03072905],\n",
       "       [0.75351912],\n",
       "       [0.16786048],\n",
       "       [0.38496864],\n",
       "       [0.0986298 ],\n",
       "       [0.32141138],\n",
       "       [0.20332361],\n",
       "       [0.72277126],\n",
       "       [0.53550017],\n",
       "       [0.7187306 ],\n",
       "       [0.63253435],\n",
       "       [0.68962713],\n",
       "       [0.11813003],\n",
       "       [0.36153492],\n",
       "       [0.10950489],\n",
       "       [0.18926791],\n",
       "       [0.46849229],\n",
       "       [0.63096294],\n",
       "       [0.31213065],\n",
       "       [0.17268997],\n",
       "       [0.47914304],\n",
       "       [0.19809518],\n",
       "       [0.20403332],\n",
       "       [0.70528187],\n",
       "       [0.6475833 ],\n",
       "       [0.28268684],\n",
       "       [0.22304009],\n",
       "       [0.35620561],\n",
       "       [0.69811429],\n",
       "       [0.39846172],\n",
       "       [0.58251017],\n",
       "       [0.19010716],\n",
       "       [0.20154321],\n",
       "       [0.32365416],\n",
       "       [0.69955206],\n",
       "       [0.0960442 ],\n",
       "       [0.10063272],\n",
       "       [0.36763167],\n",
       "       [0.6581427 ],\n",
       "       [0.28492821],\n",
       "       [0.16827294],\n",
       "       [0.82451532],\n",
       "       [0.08515224],\n",
       "       [0.62052719],\n",
       "       [0.61832723],\n",
       "       [0.27253531],\n",
       "       [0.42587186],\n",
       "       [0.45365524],\n",
       "       [0.19685145],\n",
       "       [0.21818658],\n",
       "       [0.68370728],\n",
       "       [0.5089567 ],\n",
       "       [0.427908  ],\n",
       "       [0.33237381],\n",
       "       [0.58429   ],\n",
       "       [0.30136588],\n",
       "       [0.32489754],\n",
       "       [0.09930275],\n",
       "       [0.75393256],\n",
       "       [0.21651004],\n",
       "       [0.89875527],\n",
       "       [0.39952288],\n",
       "       [0.72275077],\n",
       "       [0.7852449 ],\n",
       "       [0.84350839],\n",
       "       [0.24164171],\n",
       "       [0.46521149],\n",
       "       [0.21947052],\n",
       "       [0.18164962],\n",
       "       [0.02933475],\n",
       "       [0.65358088],\n",
       "       [0.05939   ],\n",
       "       [0.17804368],\n",
       "       [0.6102857 ],\n",
       "       [0.22707913],\n",
       "       [0.74082437],\n",
       "       [0.06952465],\n",
       "       [0.40930836],\n",
       "       [0.69685548],\n",
       "       [0.23996168],\n",
       "       [0.40999464],\n",
       "       [0.38609137],\n",
       "       [0.65050123],\n",
       "       [0.17538283],\n",
       "       [0.46234244],\n",
       "       [0.37803291],\n",
       "       [0.79056438],\n",
       "       [0.12450885],\n",
       "       [0.4167655 ],\n",
       "       [0.60357782],\n",
       "       [0.52587221],\n",
       "       [0.07661142],\n",
       "       [0.12986448],\n",
       "       [0.07012007],\n",
       "       [0.2842111 ],\n",
       "       [0.74186503],\n",
       "       [0.18081103],\n",
       "       [0.11617156],\n",
       "       [0.38903745],\n",
       "       [0.23578444],\n",
       "       [0.74608992],\n",
       "       [0.37308106],\n",
       "       [0.05363299],\n",
       "       [0.16507815],\n",
       "       [0.30953287],\n",
       "       [0.27334875],\n",
       "       [0.20817084],\n",
       "       [0.19451632],\n",
       "       [0.63782906],\n",
       "       [0.17298382],\n",
       "       [0.26381126],\n",
       "       [0.17608997],\n",
       "       [0.78456005],\n",
       "       [0.26200175],\n",
       "       [0.36126761],\n",
       "       [0.24731397],\n",
       "       [0.43598853],\n",
       "       [0.40364311],\n",
       "       [0.29249405],\n",
       "       [0.33205843],\n",
       "       [0.33113936],\n",
       "       [0.17178067],\n",
       "       [0.20913273],\n",
       "       [0.40852481],\n",
       "       [0.07478441],\n",
       "       [0.19418855],\n",
       "       [0.78136969],\n",
       "       [0.09837993],\n",
       "       [0.37708814],\n",
       "       [0.17228027],\n",
       "       [0.38085039],\n",
       "       [0.71457934],\n",
       "       [0.11732219],\n",
       "       [0.36925993],\n",
       "       [0.45921631],\n",
       "       [0.15807237],\n",
       "       [0.60428948],\n",
       "       [0.67254424],\n",
       "       [0.1607431 ],\n",
       "       [0.58606894],\n",
       "       [0.44707891],\n",
       "       [0.81072506],\n",
       "       [0.91419615],\n",
       "       [0.10274613],\n",
       "       [0.12130234],\n",
       "       [0.27241937],\n",
       "       [0.05801208],\n",
       "       [0.13730985],\n",
       "       [0.46314557],\n",
       "       [0.69930853],\n",
       "       [0.29376122],\n",
       "       [0.78343986],\n",
       "       [0.6534867 ],\n",
       "       [0.11373765],\n",
       "       [0.36408467],\n",
       "       [0.39827751],\n",
       "       [0.15670507],\n",
       "       [0.21574809],\n",
       "       [0.19150842],\n",
       "       [0.68071115],\n",
       "       [0.90840028],\n",
       "       [0.49428534],\n",
       "       [0.12368043],\n",
       "       [0.77596027],\n",
       "       [0.25551758],\n",
       "       [0.34725329],\n",
       "       [0.13013737],\n",
       "       [0.6159768 ],\n",
       "       [0.30086314],\n",
       "       [0.33993943],\n",
       "       [0.17509659],\n",
       "       [0.59491974],\n",
       "       [0.73153131],\n",
       "       [0.25991433],\n",
       "       [0.11155628],\n",
       "       [0.64642303],\n",
       "       [0.72537048],\n",
       "       [0.21088762],\n",
       "       [0.90052807],\n",
       "       [0.20253815],\n",
       "       [0.86424645],\n",
       "       [0.24176722],\n",
       "       [0.30961177],\n",
       "       [0.17162666],\n",
       "       [0.3214486 ],\n",
       "       [0.66415216],\n",
       "       [0.59898119],\n",
       "       [0.22022265],\n",
       "       [0.65930097],\n",
       "       [0.25940972],\n",
       "       [0.2198568 ],\n",
       "       [0.15515501],\n",
       "       [0.32342371],\n",
       "       [0.67529508],\n",
       "       [0.45615292],\n",
       "       [0.4140842 ],\n",
       "       [0.0831568 ],\n",
       "       [0.22444809],\n",
       "       [0.24924946],\n",
       "       [0.15592377],\n",
       "       [0.28015592],\n",
       "       [0.30050672],\n",
       "       [0.66139854],\n",
       "       [0.29643771],\n",
       "       [0.12305734],\n",
       "       [0.65300768],\n",
       "       [0.28820868],\n",
       "       [0.83827201],\n",
       "       [0.21918565],\n",
       "       [0.12694593],\n",
       "       [0.31948164],\n",
       "       [0.40745992],\n",
       "       [0.79303149],\n",
       "       [0.33857787],\n",
       "       [0.18078228],\n",
       "       [0.16856206],\n",
       "       [0.53243954],\n",
       "       [0.52019384],\n",
       "       [0.11729491],\n",
       "       [0.5924835 ],\n",
       "       [0.30366811],\n",
       "       [0.4742823 ],\n",
       "       [0.04757426],\n",
       "       [0.28069764],\n",
       "       [0.58343605],\n",
       "       [0.57536999],\n",
       "       [0.57874278],\n",
       "       [0.69910445],\n",
       "       [0.7011127 ],\n",
       "       [0.4659693 ],\n",
       "       [0.17066026],\n",
       "       [0.44392344],\n",
       "       [0.65592954],\n",
       "       [0.79813366],\n",
       "       [0.34144609],\n",
       "       [0.02664104],\n",
       "       [0.42244381],\n",
       "       [0.77402284],\n",
       "       [0.30203063],\n",
       "       [0.65478759],\n",
       "       [0.77346284],\n",
       "       [0.65362582],\n",
       "       [0.18007551],\n",
       "       [0.65116587],\n",
       "       [0.19616851],\n",
       "       [0.20548158],\n",
       "       [0.73652016],\n",
       "       [0.16798394],\n",
       "       [0.18435134],\n",
       "       [0.27802515],\n",
       "       [0.48976891],\n",
       "       [0.24769771],\n",
       "       [0.92006069],\n",
       "       [0.16144545],\n",
       "       [0.56878297],\n",
       "       [0.37655961],\n",
       "       [0.10110432],\n",
       "       [0.14727294],\n",
       "       [0.28514076],\n",
       "       [0.31063856],\n",
       "       [0.37589152],\n",
       "       [0.91206715],\n",
       "       [0.26637873],\n",
       "       [0.59831527],\n",
       "       [0.58138613],\n",
       "       [0.66375564],\n",
       "       [0.21174178],\n",
       "       [0.46243828],\n",
       "       [0.61390593],\n",
       "       [0.85717592],\n",
       "       [0.83847346],\n",
       "       [0.8144361 ],\n",
       "       [0.30803378],\n",
       "       [0.72153766],\n",
       "       [0.14389052],\n",
       "       [0.47603169],\n",
       "       [0.80156835],\n",
       "       [0.31176012],\n",
       "       [0.25652845],\n",
       "       [0.61595853],\n",
       "       [0.26178083],\n",
       "       [0.39557082],\n",
       "       [0.3536151 ],\n",
       "       [0.17049678],\n",
       "       [0.48559719],\n",
       "       [0.58185572],\n",
       "       [0.19919344],\n",
       "       [0.35406766],\n",
       "       [0.46191515],\n",
       "       [0.36942237],\n",
       "       [0.16011569],\n",
       "       [0.51471554],\n",
       "       [0.27392518],\n",
       "       [0.25372224],\n",
       "       [0.21671716],\n",
       "       [0.51328901],\n",
       "       [0.22447017],\n",
       "       [0.10811368],\n",
       "       [0.33157584],\n",
       "       [0.13875609],\n",
       "       [0.10870549],\n",
       "       [0.09409005],\n",
       "       [0.4871646 ],\n",
       "       [0.5877263 ],\n",
       "       [0.62581643],\n",
       "       [0.55553998],\n",
       "       [0.0933807 ],\n",
       "       [0.23260175],\n",
       "       [0.48760805],\n",
       "       [0.17319313],\n",
       "       [0.18278   ],\n",
       "       [0.49600407],\n",
       "       [0.40720922],\n",
       "       [0.24276998],\n",
       "       [0.13703804],\n",
       "       [0.31262549],\n",
       "       [0.37848527],\n",
       "       [0.06320112],\n",
       "       [0.10684368],\n",
       "       [0.31657592],\n",
       "       [0.73132035],\n",
       "       [0.38698175],\n",
       "       [0.34944462],\n",
       "       [0.40734897],\n",
       "       [0.24377257],\n",
       "       [0.12456399],\n",
       "       [0.17702504],\n",
       "       [0.54946277],\n",
       "       [0.80383886],\n",
       "       [0.39599719],\n",
       "       [0.10369546],\n",
       "       [0.27586196],\n",
       "       [0.34851388],\n",
       "       [0.78689947],\n",
       "       [0.07610023],\n",
       "       [0.38523865],\n",
       "       [0.1722658 ],\n",
       "       [0.28053996],\n",
       "       [0.42325462],\n",
       "       [0.17985034],\n",
       "       [0.42257675],\n",
       "       [0.07453818],\n",
       "       [0.2607842 ],\n",
       "       [0.04953383],\n",
       "       [0.67099714],\n",
       "       [0.5585382 ],\n",
       "       [0.51848093],\n",
       "       [0.37248222],\n",
       "       [0.45707964],\n",
       "       [0.40656659],\n",
       "       [0.57684017],\n",
       "       [0.31128882],\n",
       "       [0.0908236 ],\n",
       "       [0.57808993],\n",
       "       [0.42230217],\n",
       "       [0.14534342],\n",
       "       [0.37839349],\n",
       "       [0.22967694],\n",
       "       [0.18259514],\n",
       "       [0.61271793],\n",
       "       [0.72525435],\n",
       "       [0.12077437],\n",
       "       [0.8065271 ],\n",
       "       [0.80660822],\n",
       "       [0.22939789],\n",
       "       [0.46553769],\n",
       "       [0.22390009],\n",
       "       [0.26149184],\n",
       "       [0.30270526],\n",
       "       [0.30772378],\n",
       "       [0.53473075],\n",
       "       [0.25003487],\n",
       "       [0.92721388],\n",
       "       [0.10106182],\n",
       "       [0.44248468],\n",
       "       [0.36335162],\n",
       "       [0.24196721],\n",
       "       [0.73204287],\n",
       "       [0.00725516],\n",
       "       [0.46152022],\n",
       "       [0.0715978 ],\n",
       "       [0.68443385],\n",
       "       [0.25705452],\n",
       "       [0.381574  ],\n",
       "       [0.32067105],\n",
       "       [0.74530694],\n",
       "       [0.44175791],\n",
       "       [0.21087309],\n",
       "       [0.73743183],\n",
       "       [0.35256356],\n",
       "       [0.20696861],\n",
       "       [0.33573222],\n",
       "       [0.40828572],\n",
       "       [0.36179122],\n",
       "       [0.53862208],\n",
       "       [0.25115679],\n",
       "       [0.45483514],\n",
       "       [0.29068272],\n",
       "       [0.7175455 ],\n",
       "       [0.39023681],\n",
       "       [0.08584647],\n",
       "       [0.17474546],\n",
       "       [0.5112299 ],\n",
       "       [0.21529071],\n",
       "       [0.86253706],\n",
       "       [0.25527068],\n",
       "       [0.73233604],\n",
       "       [0.10075796],\n",
       "       [0.11872963],\n",
       "       [0.35552749],\n",
       "       [0.72393133],\n",
       "       [0.68103468],\n",
       "       [0.20857643],\n",
       "       [0.17607759],\n",
       "       [0.26342084],\n",
       "       [0.68068148],\n",
       "       [0.75049282],\n",
       "       [0.07558879],\n",
       "       [0.82477629],\n",
       "       [0.05043979],\n",
       "       [0.55300845],\n",
       "       [0.52125384],\n",
       "       [0.53682716],\n",
       "       [0.65486642],\n",
       "       [0.222277  ],\n",
       "       [0.61859267],\n",
       "       [0.84786458],\n",
       "       [0.24827632]])"
      ]
     },
     "execution_count": 59,
     "metadata": {},
     "output_type": "execute_result"
    }
   ],
   "source": [
    "y_pred_o = clf_optimized.predict_proba(X_test)\n",
    "\n",
    "y_pred_o= y_pred_o[:,1].reshape(-1,1)\n",
    "\n",
    "y_pred_o"
   ]
  },
  {
   "cell_type": "code",
   "execution_count": 60,
   "id": "b0fde431",
   "metadata": {},
   "outputs": [
    {
     "data": {
      "text/plain": [
       "0.8192585455618633"
      ]
     },
     "execution_count": 60,
     "metadata": {},
     "output_type": "execute_result"
    }
   ],
   "source": [
    "roc_auc_score(y_test, y_pred_o)"
   ]
  },
  {
   "cell_type": "code",
   "execution_count": 71,
   "id": "da0f23f9",
   "metadata": {},
   "outputs": [
    {
     "data": {
      "image/png": "[encoded data removed]",
      "text/plain": [
       "<Figure size 720x576 with 1 Axes>"
      ]
     },
     "metadata": {
      "needs_background": "light"
     },
     "output_type": "display_data"
    }
   ],
   "source": [
    "fig, ax = plt.subplots(1, 1, figsize=(10, 8))\n",
    "plot_roc(\n",
    "    y_test, \n",
    "    y_pred_o, \n",
    "    'Target',\n",
    "    ax=ax\n",
    ")"
   ]
  },
  {
   "cell_type": "code",
   "execution_count": 61,
   "id": "6adaa980",
   "metadata": {},
   "outputs": [
    {
     "data": {
      "text/plain": [
       "4"
      ]
     },
     "execution_count": 61,
     "metadata": {},
     "output_type": "execute_result"
    }
   ],
   "source": [
    "# Stratified Shuffle Split\n",
    "from sklearn import preprocessing\n",
    "from sklearn.metrics import accuracy_score\n",
    "from sklearn.model_selection import StratifiedShuffleSplit\n",
    "X= df_dummies.drop(\"Target\", axis=1)\n",
    "\n",
    "# use StratifiedShuffleSplit()\n",
    "sss = StratifiedShuffleSplit(n_splits=4, test_size=0.5,\n",
    "                             random_state=0)\n",
    "sss.get_n_splits(X, y)"
   ]
  },
  {
   "cell_type": "code",
   "execution_count": 112,
   "id": "32191465",
   "metadata": {},
   "outputs": [
    {
     "data": {
      "text/html": [
       "<div>\n",
       "<style scoped>\n",
       "    .dataframe tbody tr th:only-of-type {\n",
       "        vertical-align: middle;\n",
       "    }\n",
       "\n",
       "    .dataframe tbody tr th {\n",
       "        vertical-align: top;\n",
       "    }\n",
       "\n",
       "    .dataframe thead th {\n",
       "        text-align: right;\n",
       "    }\n",
       "</style>\n",
       "<table border=\"1\" class=\"dataframe\">\n",
       "  <thead>\n",
       "    <tr style=\"text-align: right;\">\n",
       "      <th></th>\n",
       "      <th>dob pri dg</th>\n",
       "      <th>velicina_tumora (mm)</th>\n",
       "      <th>gradus</th>\n",
       "      <th>er</th>\n",
       "      <th>pr</th>\n",
       "      <th>her2</th>\n",
       "      <th>ki67</th>\n",
       "      <th>histoloski_tip_txt_Ca s apokrinom diferencijacijom</th>\n",
       "      <th>histoloski_tip_txt_Ca s medularnim karakteristikama</th>\n",
       "      <th>histoloski_tip_txt_NOS_invazivni</th>\n",
       "      <th>histoloski_tip_txt_drugi rijetki tipovi</th>\n",
       "      <th>histoloski_tip_txt_kribriformni invazivni</th>\n",
       "      <th>histoloski_tip_txt_lobularni invazivni</th>\n",
       "      <th>histoloski_tip_txt_metaplastični karcinom</th>\n",
       "      <th>histoloski_tip_txt_mikroinvazivni karcinom</th>\n",
       "      <th>histoloski_tip_txt_mikropapilarni invazivni karcinom</th>\n",
       "      <th>histoloski_tip_txt_mucinozni invazivni</th>\n",
       "      <th>histoloski_tip_txt_tubularni invazivni</th>\n",
       "    </tr>\n",
       "  </thead>\n",
       "  <tbody>\n",
       "    <tr>\n",
       "      <th>0</th>\n",
       "      <td>61.0</td>\n",
       "      <td>0.8</td>\n",
       "      <td>2.0</td>\n",
       "      <td>95.0</td>\n",
       "      <td>70.0</td>\n",
       "      <td>0.0</td>\n",
       "      <td>95.0</td>\n",
       "      <td>0</td>\n",
       "      <td>0</td>\n",
       "      <td>1</td>\n",
       "      <td>0</td>\n",
       "      <td>0</td>\n",
       "      <td>0</td>\n",
       "      <td>0</td>\n",
       "      <td>0</td>\n",
       "      <td>0</td>\n",
       "      <td>0</td>\n",
       "      <td>0</td>\n",
       "    </tr>\n",
       "    <tr>\n",
       "      <th>1</th>\n",
       "      <td>75.0</td>\n",
       "      <td>1.8</td>\n",
       "      <td>2.0</td>\n",
       "      <td>100.0</td>\n",
       "      <td>100.0</td>\n",
       "      <td>3.0</td>\n",
       "      <td>35.0</td>\n",
       "      <td>0</td>\n",
       "      <td>0</td>\n",
       "      <td>1</td>\n",
       "      <td>0</td>\n",
       "      <td>0</td>\n",
       "      <td>0</td>\n",
       "      <td>0</td>\n",
       "      <td>0</td>\n",
       "      <td>0</td>\n",
       "      <td>0</td>\n",
       "      <td>0</td>\n",
       "    </tr>\n",
       "    <tr>\n",
       "      <th>2</th>\n",
       "      <td>65.0</td>\n",
       "      <td>1.2</td>\n",
       "      <td>2.0</td>\n",
       "      <td>100.0</td>\n",
       "      <td>15.0</td>\n",
       "      <td>3.0</td>\n",
       "      <td>20.0</td>\n",
       "      <td>0</td>\n",
       "      <td>0</td>\n",
       "      <td>1</td>\n",
       "      <td>0</td>\n",
       "      <td>0</td>\n",
       "      <td>0</td>\n",
       "      <td>0</td>\n",
       "      <td>0</td>\n",
       "      <td>0</td>\n",
       "      <td>0</td>\n",
       "      <td>0</td>\n",
       "    </tr>\n",
       "    <tr>\n",
       "      <th>3</th>\n",
       "      <td>71.0</td>\n",
       "      <td>3.0</td>\n",
       "      <td>2.0</td>\n",
       "      <td>85.0</td>\n",
       "      <td>3.0</td>\n",
       "      <td>2.0</td>\n",
       "      <td>35.0</td>\n",
       "      <td>0</td>\n",
       "      <td>0</td>\n",
       "      <td>1</td>\n",
       "      <td>0</td>\n",
       "      <td>0</td>\n",
       "      <td>0</td>\n",
       "      <td>0</td>\n",
       "      <td>0</td>\n",
       "      <td>0</td>\n",
       "      <td>0</td>\n",
       "      <td>0</td>\n",
       "    </tr>\n",
       "    <tr>\n",
       "      <th>4</th>\n",
       "      <td>82.0</td>\n",
       "      <td>3.0</td>\n",
       "      <td>2.0</td>\n",
       "      <td>0.0</td>\n",
       "      <td>0.0</td>\n",
       "      <td>0.0</td>\n",
       "      <td>50.0</td>\n",
       "      <td>0</td>\n",
       "      <td>0</td>\n",
       "      <td>1</td>\n",
       "      <td>0</td>\n",
       "      <td>0</td>\n",
       "      <td>0</td>\n",
       "      <td>0</td>\n",
       "      <td>0</td>\n",
       "      <td>0</td>\n",
       "      <td>0</td>\n",
       "      <td>0</td>\n",
       "    </tr>\n",
       "    <tr>\n",
       "      <th>...</th>\n",
       "      <td>...</td>\n",
       "      <td>...</td>\n",
       "      <td>...</td>\n",
       "      <td>...</td>\n",
       "      <td>...</td>\n",
       "      <td>...</td>\n",
       "      <td>...</td>\n",
       "      <td>...</td>\n",
       "      <td>...</td>\n",
       "      <td>...</td>\n",
       "      <td>...</td>\n",
       "      <td>...</td>\n",
       "      <td>...</td>\n",
       "      <td>...</td>\n",
       "      <td>...</td>\n",
       "      <td>...</td>\n",
       "      <td>...</td>\n",
       "      <td>...</td>\n",
       "    </tr>\n",
       "    <tr>\n",
       "      <th>9957</th>\n",
       "      <td>43.0</td>\n",
       "      <td>0.5</td>\n",
       "      <td>2.0</td>\n",
       "      <td>100.0</td>\n",
       "      <td>35.0</td>\n",
       "      <td>1.0</td>\n",
       "      <td>42.0</td>\n",
       "      <td>0</td>\n",
       "      <td>0</td>\n",
       "      <td>1</td>\n",
       "      <td>0</td>\n",
       "      <td>0</td>\n",
       "      <td>0</td>\n",
       "      <td>0</td>\n",
       "      <td>0</td>\n",
       "      <td>0</td>\n",
       "      <td>0</td>\n",
       "      <td>0</td>\n",
       "    </tr>\n",
       "    <tr>\n",
       "      <th>9958</th>\n",
       "      <td>66.0</td>\n",
       "      <td>4.8</td>\n",
       "      <td>2.0</td>\n",
       "      <td>100.0</td>\n",
       "      <td>90.0</td>\n",
       "      <td>0.0</td>\n",
       "      <td>44.0</td>\n",
       "      <td>0</td>\n",
       "      <td>0</td>\n",
       "      <td>1</td>\n",
       "      <td>0</td>\n",
       "      <td>0</td>\n",
       "      <td>0</td>\n",
       "      <td>0</td>\n",
       "      <td>0</td>\n",
       "      <td>0</td>\n",
       "      <td>0</td>\n",
       "      <td>0</td>\n",
       "    </tr>\n",
       "    <tr>\n",
       "      <th>9959</th>\n",
       "      <td>57.0</td>\n",
       "      <td>0.8</td>\n",
       "      <td>2.0</td>\n",
       "      <td>25.0</td>\n",
       "      <td>25.0</td>\n",
       "      <td>1.0</td>\n",
       "      <td>34.0</td>\n",
       "      <td>0</td>\n",
       "      <td>0</td>\n",
       "      <td>1</td>\n",
       "      <td>0</td>\n",
       "      <td>0</td>\n",
       "      <td>0</td>\n",
       "      <td>0</td>\n",
       "      <td>0</td>\n",
       "      <td>0</td>\n",
       "      <td>0</td>\n",
       "      <td>0</td>\n",
       "    </tr>\n",
       "    <tr>\n",
       "      <th>9960</th>\n",
       "      <td>46.0</td>\n",
       "      <td>1.6</td>\n",
       "      <td>2.0</td>\n",
       "      <td>100.0</td>\n",
       "      <td>1.0</td>\n",
       "      <td>0.0</td>\n",
       "      <td>42.0</td>\n",
       "      <td>0</td>\n",
       "      <td>0</td>\n",
       "      <td>1</td>\n",
       "      <td>0</td>\n",
       "      <td>0</td>\n",
       "      <td>0</td>\n",
       "      <td>0</td>\n",
       "      <td>0</td>\n",
       "      <td>0</td>\n",
       "      <td>0</td>\n",
       "      <td>0</td>\n",
       "    </tr>\n",
       "    <tr>\n",
       "      <th>9961</th>\n",
       "      <td>43.0</td>\n",
       "      <td>1.5</td>\n",
       "      <td>3.0</td>\n",
       "      <td>0.0</td>\n",
       "      <td>0.0</td>\n",
       "      <td>3.0</td>\n",
       "      <td>85.0</td>\n",
       "      <td>0</td>\n",
       "      <td>0</td>\n",
       "      <td>1</td>\n",
       "      <td>0</td>\n",
       "      <td>0</td>\n",
       "      <td>0</td>\n",
       "      <td>0</td>\n",
       "      <td>0</td>\n",
       "      <td>0</td>\n",
       "      <td>0</td>\n",
       "      <td>0</td>\n",
       "    </tr>\n",
       "  </tbody>\n",
       "</table>\n",
       "<p>9962 rows × 18 columns</p>\n",
       "</div>"
      ],
      "text/plain": [
       "      dob pri dg  velicina_tumora (mm)  gradus     er     pr  her2  ki67  \\\n",
       "0           61.0                   0.8     2.0   95.0   70.0   0.0  95.0   \n",
       "1           75.0                   1.8     2.0  100.0  100.0   3.0  35.0   \n",
       "2           65.0                   1.2     2.0  100.0   15.0   3.0  20.0   \n",
       "3           71.0                   3.0     2.0   85.0    3.0   2.0  35.0   \n",
       "4           82.0                   3.0     2.0    0.0    0.0   0.0  50.0   \n",
       "...          ...                   ...     ...    ...    ...   ...   ...   \n",
       "9957        43.0                   0.5     2.0  100.0   35.0   1.0  42.0   \n",
       "9958        66.0                   4.8     2.0  100.0   90.0   0.0  44.0   \n",
       "9959        57.0                   0.8     2.0   25.0   25.0   1.0  34.0   \n",
       "9960        46.0                   1.6     2.0  100.0    1.0   0.0  42.0   \n",
       "9961        43.0                   1.5     3.0    0.0    0.0   3.0  85.0   \n",
       "\n",
       "      histoloski_tip_txt_Ca s apokrinom diferencijacijom  \\\n",
       "0                                                     0    \n",
       "1                                                     0    \n",
       "2                                                     0    \n",
       "3                                                     0    \n",
       "4                                                     0    \n",
       "...                                                 ...    \n",
       "9957                                                  0    \n",
       "9958                                                  0    \n",
       "9959                                                  0    \n",
       "9960                                                  0    \n",
       "9961                                                  0    \n",
       "\n",
       "      histoloski_tip_txt_Ca s medularnim karakteristikama  \\\n",
       "0                                                     0     \n",
       "1                                                     0     \n",
       "2                                                     0     \n",
       "3                                                     0     \n",
       "4                                                     0     \n",
       "...                                                 ...     \n",
       "9957                                                  0     \n",
       "9958                                                  0     \n",
       "9959                                                  0     \n",
       "9960                                                  0     \n",
       "9961                                                  0     \n",
       "\n",
       "      histoloski_tip_txt_NOS_invazivni  \\\n",
       "0                                    1   \n",
       "1                                    1   \n",
       "2                                    1   \n",
       "3                                    1   \n",
       "4                                    1   \n",
       "...                                ...   \n",
       "9957                                 1   \n",
       "9958                                 1   \n",
       "9959                                 1   \n",
       "9960                                 1   \n",
       "9961                                 1   \n",
       "\n",
       "      histoloski_tip_txt_drugi rijetki tipovi  \\\n",
       "0                                           0   \n",
       "1                                           0   \n",
       "2                                           0   \n",
       "3                                           0   \n",
       "4                                           0   \n",
       "...                                       ...   \n",
       "9957                                        0   \n",
       "9958                                        0   \n",
       "9959                                        0   \n",
       "9960                                        0   \n",
       "9961                                        0   \n",
       "\n",
       "      histoloski_tip_txt_kribriformni invazivni  \\\n",
       "0                                             0   \n",
       "1                                             0   \n",
       "2                                             0   \n",
       "3                                             0   \n",
       "4                                             0   \n",
       "...                                         ...   \n",
       "9957                                          0   \n",
       "9958                                          0   \n",
       "9959                                          0   \n",
       "9960                                          0   \n",
       "9961                                          0   \n",
       "\n",
       "      histoloski_tip_txt_lobularni invazivni  \\\n",
       "0                                          0   \n",
       "1                                          0   \n",
       "2                                          0   \n",
       "3                                          0   \n",
       "4                                          0   \n",
       "...                                      ...   \n",
       "9957                                       0   \n",
       "9958                                       0   \n",
       "9959                                       0   \n",
       "9960                                       0   \n",
       "9961                                       0   \n",
       "\n",
       "      histoloski_tip_txt_metaplastični karcinom  \\\n",
       "0                                             0   \n",
       "1                                             0   \n",
       "2                                             0   \n",
       "3                                             0   \n",
       "4                                             0   \n",
       "...                                         ...   \n",
       "9957                                          0   \n",
       "9958                                          0   \n",
       "9959                                          0   \n",
       "9960                                          0   \n",
       "9961                                          0   \n",
       "\n",
       "      histoloski_tip_txt_mikroinvazivni karcinom  \\\n",
       "0                                              0   \n",
       "1                                              0   \n",
       "2                                              0   \n",
       "3                                              0   \n",
       "4                                              0   \n",
       "...                                          ...   \n",
       "9957                                           0   \n",
       "9958                                           0   \n",
       "9959                                           0   \n",
       "9960                                           0   \n",
       "9961                                           0   \n",
       "\n",
       "      histoloski_tip_txt_mikropapilarni invazivni karcinom  \\\n",
       "0                                                     0      \n",
       "1                                                     0      \n",
       "2                                                     0      \n",
       "3                                                     0      \n",
       "4                                                     0      \n",
       "...                                                 ...      \n",
       "9957                                                  0      \n",
       "9958                                                  0      \n",
       "9959                                                  0      \n",
       "9960                                                  0      \n",
       "9961                                                  0      \n",
       "\n",
       "      histoloski_tip_txt_mucinozni invazivni  \\\n",
       "0                                          0   \n",
       "1                                          0   \n",
       "2                                          0   \n",
       "3                                          0   \n",
       "4                                          0   \n",
       "...                                      ...   \n",
       "9957                                       0   \n",
       "9958                                       0   \n",
       "9959                                       0   \n",
       "9960                                       0   \n",
       "9961                                       0   \n",
       "\n",
       "      histoloski_tip_txt_tubularni invazivni  \n",
       "0                                          0  \n",
       "1                                          0  \n",
       "2                                          0  \n",
       "3                                          0  \n",
       "4                                          0  \n",
       "...                                      ...  \n",
       "9957                                       0  \n",
       "9958                                       0  \n",
       "9959                                       0  \n",
       "9960                                       0  \n",
       "9961                                       0  \n",
       "\n",
       "[9962 rows x 18 columns]"
      ]
     },
     "execution_count": 112,
     "metadata": {},
     "output_type": "execute_result"
    }
   ],
   "source": [
    "X"
   ]
  },
  {
   "cell_type": "code",
   "execution_count": 115,
   "id": "923dd5d7",
   "metadata": {},
   "outputs": [
    {
     "ename": "KeyError",
     "evalue": "\"None of [Int64Index([5460, 4130, 5045, 6696, 4015, 9571, 2139, 9211, 6454, 1654,\\n            ...\\n            7677, 5260, 2767, 3910, 5687, 3015, 1039, 7994, 8198, 7234],\\n           dtype='int64', length=4981)] are in the [columns]\"",
     "output_type": "error",
     "traceback": [
      "\u001b[1;31m---------------------------------------------------------------------------\u001b[0m",
      "\u001b[1;31mKeyError\u001b[0m                                  Traceback (most recent call last)",
      "\u001b[1;32m<ipython-input-115-0dc7c5493cfa>\u001b[0m in \u001b[0;36m<module>\u001b[1;34m\u001b[0m\n\u001b[0;32m      4\u001b[0m \u001b[0mrf\u001b[0m \u001b[1;33m=\u001b[0m \u001b[0mRandomForestClassifier\u001b[0m\u001b[1;33m(\u001b[0m\u001b[0mn_estimators\u001b[0m\u001b[1;33m=\u001b[0m\u001b[1;36m40\u001b[0m\u001b[1;33m,\u001b[0m \u001b[0mmax_depth\u001b[0m\u001b[1;33m=\u001b[0m\u001b[1;36m7\u001b[0m\u001b[1;33m)\u001b[0m\u001b[1;33m\u001b[0m\u001b[1;33m\u001b[0m\u001b[0m\n\u001b[0;32m      5\u001b[0m \u001b[1;32mfor\u001b[0m \u001b[0mtrain_index\u001b[0m\u001b[1;33m,\u001b[0m \u001b[0mtest_index\u001b[0m \u001b[1;32min\u001b[0m \u001b[0msss\u001b[0m\u001b[1;33m.\u001b[0m\u001b[0msplit\u001b[0m\u001b[1;33m(\u001b[0m\u001b[0mX\u001b[0m\u001b[1;33m,\u001b[0m \u001b[0my\u001b[0m\u001b[1;33m)\u001b[0m\u001b[1;33m:\u001b[0m\u001b[1;33m\u001b[0m\u001b[1;33m\u001b[0m\u001b[0m\n\u001b[1;32m----> 6\u001b[1;33m     \u001b[0mX_train\u001b[0m\u001b[1;33m,\u001b[0m \u001b[0mX_test\u001b[0m \u001b[1;33m=\u001b[0m \u001b[0mX\u001b[0m\u001b[1;33m[\u001b[0m\u001b[0mtrain_index\u001b[0m\u001b[1;33m]\u001b[0m\u001b[1;33m,\u001b[0m \u001b[0mX\u001b[0m\u001b[1;33m[\u001b[0m\u001b[0mtest_index\u001b[0m\u001b[1;33m]\u001b[0m\u001b[1;33m\u001b[0m\u001b[1;33m\u001b[0m\u001b[0m\n\u001b[0m\u001b[0;32m      7\u001b[0m     \u001b[0my_train\u001b[0m\u001b[1;33m,\u001b[0m \u001b[0my_test\u001b[0m \u001b[1;33m=\u001b[0m \u001b[0my\u001b[0m\u001b[1;33m[\u001b[0m\u001b[0mtrain_index\u001b[0m\u001b[1;33m]\u001b[0m\u001b[1;33m,\u001b[0m \u001b[0my\u001b[0m\u001b[1;33m[\u001b[0m\u001b[0mtest_index\u001b[0m\u001b[1;33m]\u001b[0m\u001b[1;33m\u001b[0m\u001b[1;33m\u001b[0m\u001b[0m\n\u001b[0;32m      8\u001b[0m     \u001b[0mrf\u001b[0m\u001b[1;33m.\u001b[0m\u001b[0mfit\u001b[0m\u001b[1;33m(\u001b[0m\u001b[0mX_train\u001b[0m\u001b[1;33m,\u001b[0m \u001b[0my_train\u001b[0m\u001b[1;33m)\u001b[0m\u001b[1;33m\u001b[0m\u001b[1;33m\u001b[0m\u001b[0m\n",
      "\u001b[1;32m~\\anaconda3\\lib\\site-packages\\pandas\\core\\frame.py\u001b[0m in \u001b[0;36m__getitem__\u001b[1;34m(self, key)\u001b[0m\n\u001b[0;32m   3509\u001b[0m             \u001b[1;32mif\u001b[0m \u001b[0mis_iterator\u001b[0m\u001b[1;33m(\u001b[0m\u001b[0mkey\u001b[0m\u001b[1;33m)\u001b[0m\u001b[1;33m:\u001b[0m\u001b[1;33m\u001b[0m\u001b[1;33m\u001b[0m\u001b[0m\n\u001b[0;32m   3510\u001b[0m                 \u001b[0mkey\u001b[0m \u001b[1;33m=\u001b[0m \u001b[0mlist\u001b[0m\u001b[1;33m(\u001b[0m\u001b[0mkey\u001b[0m\u001b[1;33m)\u001b[0m\u001b[1;33m\u001b[0m\u001b[1;33m\u001b[0m\u001b[0m\n\u001b[1;32m-> 3511\u001b[1;33m             \u001b[0mindexer\u001b[0m \u001b[1;33m=\u001b[0m \u001b[0mself\u001b[0m\u001b[1;33m.\u001b[0m\u001b[0mcolumns\u001b[0m\u001b[1;33m.\u001b[0m\u001b[0m_get_indexer_strict\u001b[0m\u001b[1;33m(\u001b[0m\u001b[0mkey\u001b[0m\u001b[1;33m,\u001b[0m \u001b[1;34m\"columns\"\u001b[0m\u001b[1;33m)\u001b[0m\u001b[1;33m[\u001b[0m\u001b[1;36m1\u001b[0m\u001b[1;33m]\u001b[0m\u001b[1;33m\u001b[0m\u001b[1;33m\u001b[0m\u001b[0m\n\u001b[0m\u001b[0;32m   3512\u001b[0m \u001b[1;33m\u001b[0m\u001b[0m\n\u001b[0;32m   3513\u001b[0m         \u001b[1;31m# take() does not accept boolean indexers\u001b[0m\u001b[1;33m\u001b[0m\u001b[1;33m\u001b[0m\u001b[1;33m\u001b[0m\u001b[0m\n",
      "\u001b[1;32m~\\anaconda3\\lib\\site-packages\\pandas\\core\\indexes\\base.py\u001b[0m in \u001b[0;36m_get_indexer_strict\u001b[1;34m(self, key, axis_name)\u001b[0m\n\u001b[0;32m   5780\u001b[0m             \u001b[0mkeyarr\u001b[0m\u001b[1;33m,\u001b[0m \u001b[0mindexer\u001b[0m\u001b[1;33m,\u001b[0m \u001b[0mnew_indexer\u001b[0m \u001b[1;33m=\u001b[0m \u001b[0mself\u001b[0m\u001b[1;33m.\u001b[0m\u001b[0m_reindex_non_unique\u001b[0m\u001b[1;33m(\u001b[0m\u001b[0mkeyarr\u001b[0m\u001b[1;33m)\u001b[0m\u001b[1;33m\u001b[0m\u001b[1;33m\u001b[0m\u001b[0m\n\u001b[0;32m   5781\u001b[0m \u001b[1;33m\u001b[0m\u001b[0m\n\u001b[1;32m-> 5782\u001b[1;33m         \u001b[0mself\u001b[0m\u001b[1;33m.\u001b[0m\u001b[0m_raise_if_missing\u001b[0m\u001b[1;33m(\u001b[0m\u001b[0mkeyarr\u001b[0m\u001b[1;33m,\u001b[0m \u001b[0mindexer\u001b[0m\u001b[1;33m,\u001b[0m \u001b[0maxis_name\u001b[0m\u001b[1;33m)\u001b[0m\u001b[1;33m\u001b[0m\u001b[1;33m\u001b[0m\u001b[0m\n\u001b[0m\u001b[0;32m   5783\u001b[0m \u001b[1;33m\u001b[0m\u001b[0m\n\u001b[0;32m   5784\u001b[0m         \u001b[0mkeyarr\u001b[0m \u001b[1;33m=\u001b[0m \u001b[0mself\u001b[0m\u001b[1;33m.\u001b[0m\u001b[0mtake\u001b[0m\u001b[1;33m(\u001b[0m\u001b[0mindexer\u001b[0m\u001b[1;33m)\u001b[0m\u001b[1;33m\u001b[0m\u001b[1;33m\u001b[0m\u001b[0m\n",
      "\u001b[1;32m~\\anaconda3\\lib\\site-packages\\pandas\\core\\indexes\\base.py\u001b[0m in \u001b[0;36m_raise_if_missing\u001b[1;34m(self, key, indexer, axis_name)\u001b[0m\n\u001b[0;32m   5840\u001b[0m                 \u001b[1;32mif\u001b[0m \u001b[0muse_interval_msg\u001b[0m\u001b[1;33m:\u001b[0m\u001b[1;33m\u001b[0m\u001b[1;33m\u001b[0m\u001b[0m\n\u001b[0;32m   5841\u001b[0m                     \u001b[0mkey\u001b[0m \u001b[1;33m=\u001b[0m \u001b[0mlist\u001b[0m\u001b[1;33m(\u001b[0m\u001b[0mkey\u001b[0m\u001b[1;33m)\u001b[0m\u001b[1;33m\u001b[0m\u001b[1;33m\u001b[0m\u001b[0m\n\u001b[1;32m-> 5842\u001b[1;33m                 \u001b[1;32mraise\u001b[0m \u001b[0mKeyError\u001b[0m\u001b[1;33m(\u001b[0m\u001b[1;34mf\"None of [{key}] are in the [{axis_name}]\"\u001b[0m\u001b[1;33m)\u001b[0m\u001b[1;33m\u001b[0m\u001b[1;33m\u001b[0m\u001b[0m\n\u001b[0m\u001b[0;32m   5843\u001b[0m \u001b[1;33m\u001b[0m\u001b[0m\n\u001b[0;32m   5844\u001b[0m             \u001b[0mnot_found\u001b[0m \u001b[1;33m=\u001b[0m \u001b[0mlist\u001b[0m\u001b[1;33m(\u001b[0m\u001b[0mensure_index\u001b[0m\u001b[1;33m(\u001b[0m\u001b[0mkey\u001b[0m\u001b[1;33m)\u001b[0m\u001b[1;33m[\u001b[0m\u001b[0mmissing_mask\u001b[0m\u001b[1;33m.\u001b[0m\u001b[0mnonzero\u001b[0m\u001b[1;33m(\u001b[0m\u001b[1;33m)\u001b[0m\u001b[1;33m[\u001b[0m\u001b[1;36m0\u001b[0m\u001b[1;33m]\u001b[0m\u001b[1;33m]\u001b[0m\u001b[1;33m.\u001b[0m\u001b[0munique\u001b[0m\u001b[1;33m(\u001b[0m\u001b[1;33m)\u001b[0m\u001b[1;33m)\u001b[0m\u001b[1;33m\u001b[0m\u001b[1;33m\u001b[0m\u001b[0m\n",
      "\u001b[1;31mKeyError\u001b[0m: \"None of [Int64Index([5460, 4130, 5045, 6696, 4015, 9571, 2139, 9211, 6454, 1654,\\n            ...\\n            7677, 5260, 2767, 3910, 5687, 3015, 1039, 7994, 8198, 7234],\\n           dtype='int64', length=4981)] are in the [columns]\""
     ]
    }
   ],
   "source": [
    "scores = []\n",
    " \n",
    "rf = RandomForestClassifier(n_estimators=40, max_depth=7)\n",
    "for train_index, test_index in sss.split(X, y):\n",
    "    X_train, X_test = X[train_index], X[test_index]\n",
    "    y_train, y_test = y[train_index], y[test_index]\n",
    "    rf.fit(X_train, y_train)\n",
    "    pred = rf.predict(X_test)\n",
    "    scores.append(accuracy_score(y_test, pred))\n",
    " \n",
    "\n",
    "print(scores)"
   ]
  },
  {
   "cell_type": "code",
   "execution_count": 129,
   "id": "be9178fe",
   "metadata": {},
   "outputs": [],
   "source": [
    "df2 = df_c[df_c['histoloski_tip_txt'].isin(df_c['histoloski_tip_txt'].value_counts()[df_c['histoloski_tip_txt'].value_counts()>2].index)]"
   ]
  },
  {
   "cell_type": "code",
   "execution_count": 130,
   "id": "a4d3151c",
   "metadata": {},
   "outputs": [
    {
     "data": {
      "text/html": [
       "<div>\n",
       "<style scoped>\n",
       "    .dataframe tbody tr th:only-of-type {\n",
       "        vertical-align: middle;\n",
       "    }\n",
       "\n",
       "    .dataframe tbody tr th {\n",
       "        vertical-align: top;\n",
       "    }\n",
       "\n",
       "    .dataframe thead th {\n",
       "        text-align: right;\n",
       "    }\n",
       "</style>\n",
       "<table border=\"1\" class=\"dataframe\">\n",
       "  <thead>\n",
       "    <tr style=\"text-align: right;\">\n",
       "      <th></th>\n",
       "      <th>dob pri dg</th>\n",
       "      <th>velicina_tumora (mm)</th>\n",
       "      <th>histoloski_tip_txt</th>\n",
       "      <th>gradus</th>\n",
       "      <th>er</th>\n",
       "      <th>pr</th>\n",
       "      <th>her2</th>\n",
       "      <th>ki67</th>\n",
       "      <th>imunofenotip_txt</th>\n",
       "      <th>Target</th>\n",
       "    </tr>\n",
       "  </thead>\n",
       "  <tbody>\n",
       "    <tr>\n",
       "      <th>0</th>\n",
       "      <td>61.0</td>\n",
       "      <td>0.8</td>\n",
       "      <td>NOS_invazivni</td>\n",
       "      <td>2.0</td>\n",
       "      <td>95.0</td>\n",
       "      <td>70.0</td>\n",
       "      <td>0.0</td>\n",
       "      <td>95.0</td>\n",
       "      <td>luminal B</td>\n",
       "      <td>0</td>\n",
       "    </tr>\n",
       "    <tr>\n",
       "      <th>1</th>\n",
       "      <td>75.0</td>\n",
       "      <td>1.8</td>\n",
       "      <td>NOS_invazivni</td>\n",
       "      <td>2.0</td>\n",
       "      <td>100.0</td>\n",
       "      <td>100.0</td>\n",
       "      <td>3.0</td>\n",
       "      <td>35.0</td>\n",
       "      <td>Luminal B HER2poz</td>\n",
       "      <td>1</td>\n",
       "    </tr>\n",
       "    <tr>\n",
       "      <th>2</th>\n",
       "      <td>65.0</td>\n",
       "      <td>1.2</td>\n",
       "      <td>NOS_invazivni</td>\n",
       "      <td>2.0</td>\n",
       "      <td>100.0</td>\n",
       "      <td>15.0</td>\n",
       "      <td>3.0</td>\n",
       "      <td>20.0</td>\n",
       "      <td>Luminal B HER2poz</td>\n",
       "      <td>0</td>\n",
       "    </tr>\n",
       "    <tr>\n",
       "      <th>3</th>\n",
       "      <td>71.0</td>\n",
       "      <td>3.0</td>\n",
       "      <td>NOS_invazivni</td>\n",
       "      <td>2.0</td>\n",
       "      <td>85.0</td>\n",
       "      <td>3.0</td>\n",
       "      <td>2.0</td>\n",
       "      <td>35.0</td>\n",
       "      <td>luminal B</td>\n",
       "      <td>1</td>\n",
       "    </tr>\n",
       "    <tr>\n",
       "      <th>4</th>\n",
       "      <td>82.0</td>\n",
       "      <td>3.0</td>\n",
       "      <td>NOS_invazivni</td>\n",
       "      <td>2.0</td>\n",
       "      <td>0.0</td>\n",
       "      <td>0.0</td>\n",
       "      <td>0.0</td>\n",
       "      <td>50.0</td>\n",
       "      <td>trostruko negativni</td>\n",
       "      <td>1</td>\n",
       "    </tr>\n",
       "    <tr>\n",
       "      <th>...</th>\n",
       "      <td>...</td>\n",
       "      <td>...</td>\n",
       "      <td>...</td>\n",
       "      <td>...</td>\n",
       "      <td>...</td>\n",
       "      <td>...</td>\n",
       "      <td>...</td>\n",
       "      <td>...</td>\n",
       "      <td>...</td>\n",
       "      <td>...</td>\n",
       "    </tr>\n",
       "    <tr>\n",
       "      <th>9957</th>\n",
       "      <td>43.0</td>\n",
       "      <td>0.5</td>\n",
       "      <td>NOS_invazivni</td>\n",
       "      <td>2.0</td>\n",
       "      <td>100.0</td>\n",
       "      <td>35.0</td>\n",
       "      <td>1.0</td>\n",
       "      <td>42.0</td>\n",
       "      <td>luminal B</td>\n",
       "      <td>1</td>\n",
       "    </tr>\n",
       "    <tr>\n",
       "      <th>9958</th>\n",
       "      <td>66.0</td>\n",
       "      <td>4.8</td>\n",
       "      <td>NOS_invazivni</td>\n",
       "      <td>2.0</td>\n",
       "      <td>100.0</td>\n",
       "      <td>90.0</td>\n",
       "      <td>0.0</td>\n",
       "      <td>44.0</td>\n",
       "      <td>luminal B</td>\n",
       "      <td>1</td>\n",
       "    </tr>\n",
       "    <tr>\n",
       "      <th>9959</th>\n",
       "      <td>57.0</td>\n",
       "      <td>0.8</td>\n",
       "      <td>NOS_invazivni</td>\n",
       "      <td>2.0</td>\n",
       "      <td>25.0</td>\n",
       "      <td>25.0</td>\n",
       "      <td>1.0</td>\n",
       "      <td>34.0</td>\n",
       "      <td>luminal B</td>\n",
       "      <td>1</td>\n",
       "    </tr>\n",
       "    <tr>\n",
       "      <th>9960</th>\n",
       "      <td>46.0</td>\n",
       "      <td>1.6</td>\n",
       "      <td>NOS_invazivni</td>\n",
       "      <td>2.0</td>\n",
       "      <td>100.0</td>\n",
       "      <td>1.0</td>\n",
       "      <td>0.0</td>\n",
       "      <td>42.0</td>\n",
       "      <td>luminal B</td>\n",
       "      <td>1</td>\n",
       "    </tr>\n",
       "    <tr>\n",
       "      <th>9961</th>\n",
       "      <td>43.0</td>\n",
       "      <td>1.5</td>\n",
       "      <td>NOS_invazivni</td>\n",
       "      <td>3.0</td>\n",
       "      <td>0.0</td>\n",
       "      <td>0.0</td>\n",
       "      <td>3.0</td>\n",
       "      <td>85.0</td>\n",
       "      <td>HER2 pozitivni</td>\n",
       "      <td>0</td>\n",
       "    </tr>\n",
       "  </tbody>\n",
       "</table>\n",
       "<p>9962 rows × 10 columns</p>\n",
       "</div>"
      ],
      "text/plain": [
       "      dob pri dg  velicina_tumora (mm) histoloski_tip_txt  gradus     er  \\\n",
       "0           61.0                   0.8      NOS_invazivni     2.0   95.0   \n",
       "1           75.0                   1.8      NOS_invazivni     2.0  100.0   \n",
       "2           65.0                   1.2      NOS_invazivni     2.0  100.0   \n",
       "3           71.0                   3.0      NOS_invazivni     2.0   85.0   \n",
       "4           82.0                   3.0      NOS_invazivni     2.0    0.0   \n",
       "...          ...                   ...                ...     ...    ...   \n",
       "9957        43.0                   0.5      NOS_invazivni     2.0  100.0   \n",
       "9958        66.0                   4.8      NOS_invazivni     2.0  100.0   \n",
       "9959        57.0                   0.8      NOS_invazivni     2.0   25.0   \n",
       "9960        46.0                   1.6      NOS_invazivni     2.0  100.0   \n",
       "9961        43.0                   1.5      NOS_invazivni     3.0    0.0   \n",
       "\n",
       "         pr  her2  ki67     imunofenotip_txt  Target  \n",
       "0      70.0   0.0  95.0           luminal B        0  \n",
       "1     100.0   3.0  35.0    Luminal B HER2poz       1  \n",
       "2      15.0   3.0  20.0    Luminal B HER2poz       0  \n",
       "3       3.0   2.0  35.0           luminal B        1  \n",
       "4       0.0   0.0  50.0  trostruko negativni       1  \n",
       "...     ...   ...   ...                  ...     ...  \n",
       "9957   35.0   1.0  42.0           luminal B        1  \n",
       "9958   90.0   0.0  44.0           luminal B        1  \n",
       "9959   25.0   1.0  34.0           luminal B        1  \n",
       "9960    1.0   0.0  42.0           luminal B        1  \n",
       "9961    0.0   3.0  85.0       HER2 pozitivni       0  \n",
       "\n",
       "[9962 rows x 10 columns]"
      ]
     },
     "execution_count": 130,
     "metadata": {},
     "output_type": "execute_result"
    }
   ],
   "source": [
    "df2"
   ]
  },
  {
   "cell_type": "code",
   "execution_count": 127,
   "id": "a6c515f5",
   "metadata": {},
   "outputs": [
    {
     "name": "stderr",
     "output_type": "stream",
     "text": [
      "<ipython-input-127-e83e23ac2ba4>:1: SettingWithCopyWarning: \n",
      "A value is trying to be set on a copy of a slice from a DataFrame\n",
      "\n",
      "See the caveats in the documentation: https://pandas.pydata.org/pandas-docs/stable/user_guide/indexing.html#returning-a-view-versus-a-copy\n",
      "  df2.drop(\"Unnamed: 0\",axis=1,inplace=True)\n"
     ]
    }
   ],
   "source": [
    "df2.drop(\"Unnamed: 0\",axis=1,inplace=True)"
   ]
  },
  {
   "cell_type": "code",
   "execution_count": 137,
   "id": "cdf23b1a",
   "metadata": {},
   "outputs": [],
   "source": [
    "X2_train, X2_test, y2_train, y2_test = train_test_split(df2.drop(\"Target\",axis=1), y, test_size=0.15, random_state=42, stratify=df2['histoloski_tip_txt'])"
   ]
  },
  {
   "cell_type": "code",
   "execution_count": 138,
   "id": "2e57f15d",
   "metadata": {},
   "outputs": [],
   "source": [
    "# Picking categorical columns\n",
    "categorical_features_indices = np.where(X2_train.dtypes != float)[0]"
   ]
  },
  {
   "cell_type": "code",
   "execution_count": 139,
   "id": "35d74219",
   "metadata": {},
   "outputs": [],
   "source": [
    "train_dataset = cb.Pool(data=X2_train,\n",
    "                     label=y2_train,\n",
    "                     cat_features = categorical_features_indices) \n",
    "test_dataset = cb.Pool(X2_test, y2_test,cat_features = categorical_features_indices)"
   ]
  },
  {
   "cell_type": "code",
   "execution_count": 140,
   "id": "f294b6ec",
   "metadata": {},
   "outputs": [
    {
     "name": "stderr",
     "output_type": "stream",
     "text": [
      "\u001b[32m[I 2022-08-25 15:03:51,854]\u001b[0m A new study created in memory with name: no-name-1ddd9b52-7525-4fac-a9ad-7762469ffe6f\u001b[0m\n",
      "C:\\Users\\jvrdo\\anaconda3\\lib\\site-packages\\optuna\\distributions.py:560: UserWarning: The distribution is specified by [1, 10] and step=20, but the range is not divisible by `step`. It will be replaced by [1, 1].\n",
      "  warnings.warn(\n",
      "C:\\Users\\jvrdo\\anaconda3\\lib\\site-packages\\optuna\\distributions.py:560: UserWarning: The distribution is specified by [2, 10] and step=15, but the range is not divisible by `step`. It will be replaced by [2, 2].\n",
      "  warnings.warn(\n"
     ]
    },
    {
     "name": "stdout",
     "output_type": "stream",
     "text": [
      "Training on fold [0/5]\n",
      "\n",
      "bestTest = 0.6215220222\n",
      "bestIteration = 196\n",
      "\n",
      "Training on fold [1/5]\n",
      "\n",
      "bestTest = 0.6098802618\n",
      "bestIteration = 162\n",
      "\n",
      "Training on fold [2/5]\n",
      "\n",
      "bestTest = 0.6175037377\n",
      "bestIteration = 208\n",
      "\n",
      "Training on fold [3/5]\n",
      "\n",
      "bestTest = 0.6186409766\n",
      "bestIteration = 195\n",
      "\n",
      "Training on fold [4/5]\n"
     ]
    },
    {
     "name": "stderr",
     "output_type": "stream",
     "text": [
      "\u001b[32m[I 2022-08-25 15:03:53,571]\u001b[0m Trial 0 finished with value: 0.7159005904884227 and parameters: {'iterations': 500, 'learning_rate': 0.057128647369714236, 'random_strength': 1, 'bagging_temperature': 8, 'max_bin': 6, 'grow_policy': 'Depthwise', 'min_data_in_leaf': 1, 'max_depth': 2, 'l2_leaf_reg': 7.028437810203034e-06, 'one_hot_max_size': 500, 'auto_class_weights': 'Balanced'}. Best is trial 0 with value: 0.7159005904884227.\u001b[0m\n"
     ]
    },
    {
     "name": "stdout",
     "output_type": "stream",
     "text": [
      "\n",
      "bestTest = 0.6181869601\n",
      "bestIteration = 151\n",
      "\n",
      "Training on fold [0/5]\n"
     ]
    },
    {
     "name": "stderr",
     "output_type": "stream",
     "text": [
      "C:\\Users\\jvrdo\\anaconda3\\lib\\site-packages\\optuna\\distributions.py:560: UserWarning: The distribution is specified by [1, 10] and step=20, but the range is not divisible by `step`. It will be replaced by [1, 1].\n",
      "  warnings.warn(\n",
      "C:\\Users\\jvrdo\\anaconda3\\lib\\site-packages\\optuna\\distributions.py:560: UserWarning: The distribution is specified by [2, 10] and step=15, but the range is not divisible by `step`. It will be replaced by [2, 2].\n",
      "  warnings.warn(\n"
     ]
    },
    {
     "name": "stdout",
     "output_type": "stream",
     "text": [
      "\n",
      "bestTest = 0.6139754719\n",
      "bestIteration = 164\n",
      "\n",
      "Training on fold [1/5]\n",
      "\n",
      "bestTest = 0.596461673\n",
      "bestIteration = 383\n",
      "\n",
      "Training on fold [2/5]\n",
      "\n",
      "bestTest = 0.6085383265\n",
      "bestIteration = 276\n",
      "\n",
      "Training on fold [3/5]\n",
      "\n",
      "bestTest = 0.6120109593\n",
      "bestIteration = 232\n",
      "\n",
      "Training on fold [4/5]\n"
     ]
    },
    {
     "name": "stderr",
     "output_type": "stream",
     "text": [
      "\u001b[32m[I 2022-08-25 15:04:06,193]\u001b[0m Trial 1 finished with value: 0.7149907293221613 and parameters: {'iterations': 1500, 'learning_rate': 0.07847018132692062, 'random_strength': 9, 'bagging_temperature': 9, 'max_bin': 8, 'grow_policy': 'SymmetricTree', 'min_data_in_leaf': 1, 'max_depth': 2, 'l2_leaf_reg': 7.332581251077417e-08, 'one_hot_max_size': 12, 'auto_class_weights': 'SqrtBalanced'}. Best is trial 0 with value: 0.7159005904884227.\u001b[0m\n"
     ]
    },
    {
     "name": "stdout",
     "output_type": "stream",
     "text": [
      "\n",
      "bestTest = 0.6182154493\n",
      "bestIteration = 103\n",
      "\n",
      "Training on fold [0/5]\n"
     ]
    },
    {
     "name": "stderr",
     "output_type": "stream",
     "text": [
      "C:\\Users\\jvrdo\\anaconda3\\lib\\site-packages\\optuna\\distributions.py:560: UserWarning: The distribution is specified by [1, 10] and step=20, but the range is not divisible by `step`. It will be replaced by [1, 1].\n",
      "  warnings.warn(\n",
      "C:\\Users\\jvrdo\\anaconda3\\lib\\site-packages\\optuna\\distributions.py:560: UserWarning: The distribution is specified by [2, 10] and step=15, but the range is not divisible by `step`. It will be replaced by [2, 2].\n",
      "  warnings.warn(\n"
     ]
    },
    {
     "name": "stdout",
     "output_type": "stream",
     "text": [
      "\n",
      "bestTest = 0.6155195658\n",
      "bestIteration = 99\n",
      "\n",
      "Training on fold [1/5]\n",
      "\n",
      "bestTest = 0.6100424209\n",
      "bestIteration = 99\n",
      "\n",
      "Training on fold [2/5]\n",
      "\n",
      "bestTest = 0.6132906889\n",
      "bestIteration = 99\n",
      "\n",
      "Training on fold [3/5]\n",
      "\n",
      "bestTest = 0.6182771476\n",
      "bestIteration = 99\n",
      "\n",
      "Training on fold [4/5]\n"
     ]
    },
    {
     "name": "stderr",
     "output_type": "stream",
     "text": [
      "\u001b[32m[I 2022-08-25 15:04:11,343]\u001b[0m Trial 2 finished with value: 0.7108456465938179 and parameters: {'iterations': 100, 'learning_rate': 0.05741165300213927, 'random_strength': 4, 'bagging_temperature': 2, 'max_bin': 30, 'grow_policy': 'Depthwise', 'min_data_in_leaf': 1, 'max_depth': 2, 'l2_leaf_reg': 1.0192312448477406e-07, 'one_hot_max_size': 12, 'auto_class_weights': 'SqrtBalanced'}. Best is trial 0 with value: 0.7159005904884227.\u001b[0m\n"
     ]
    },
    {
     "name": "stdout",
     "output_type": "stream",
     "text": [
      "\n",
      "bestTest = 0.6171089161\n",
      "bestIteration = 96\n",
      "\n",
      "Training on fold [0/5]\n"
     ]
    },
    {
     "name": "stderr",
     "output_type": "stream",
     "text": [
      "C:\\Users\\jvrdo\\anaconda3\\lib\\site-packages\\optuna\\distributions.py:560: UserWarning: The distribution is specified by [1, 10] and step=20, but the range is not divisible by `step`. It will be replaced by [1, 1].\n",
      "  warnings.warn(\n",
      "C:\\Users\\jvrdo\\anaconda3\\lib\\site-packages\\optuna\\distributions.py:560: UserWarning: The distribution is specified by [2, 10] and step=15, but the range is not divisible by `step`. It will be replaced by [2, 2].\n",
      "  warnings.warn(\n"
     ]
    },
    {
     "name": "stdout",
     "output_type": "stream",
     "text": [
      "\n",
      "bestTest = 0.6141503379\n",
      "bestIteration = 398\n",
      "\n",
      "Training on fold [1/5]\n",
      "\n",
      "bestTest = 0.5963939351\n",
      "bestIteration = 988\n",
      "\n",
      "Training on fold [2/5]\n",
      "\n",
      "bestTest = 0.6069717656\n",
      "bestIteration = 767\n",
      "\n",
      "Training on fold [3/5]\n",
      "\n",
      "bestTest = 0.6069775903\n",
      "bestIteration = 894\n",
      "\n",
      "Training on fold [4/5]\n"
     ]
    },
    {
     "name": "stderr",
     "output_type": "stream",
     "text": [
      "\u001b[32m[I 2022-08-25 15:05:04,674]\u001b[0m Trial 3 finished with value: 0.7178048182073867 and parameters: {'iterations': 1300, 'learning_rate': 0.017134668541398907, 'random_strength': 2, 'bagging_temperature': 4, 'max_bin': 10, 'grow_policy': 'Lossguide', 'min_data_in_leaf': 1, 'max_depth': 2, 'l2_leaf_reg': 0.0405923233680353, 'one_hot_max_size': 10, 'auto_class_weights': 'SqrtBalanced'}. Best is trial 3 with value: 0.7178048182073867.\u001b[0m\n"
     ]
    },
    {
     "name": "stdout",
     "output_type": "stream",
     "text": [
      "\n",
      "bestTest = 0.6129311561\n",
      "bestIteration = 427\n",
      "\n",
      "Training on fold [0/5]\n"
     ]
    },
    {
     "name": "stderr",
     "output_type": "stream",
     "text": [
      "C:\\Users\\jvrdo\\anaconda3\\lib\\site-packages\\optuna\\distributions.py:560: UserWarning: The distribution is specified by [1, 10] and step=20, but the range is not divisible by `step`. It will be replaced by [1, 1].\n",
      "  warnings.warn(\n",
      "C:\\Users\\jvrdo\\anaconda3\\lib\\site-packages\\optuna\\distributions.py:560: UserWarning: The distribution is specified by [2, 10] and step=15, but the range is not divisible by `step`. It will be replaced by [2, 2].\n",
      "  warnings.warn(\n"
     ]
    },
    {
     "name": "stdout",
     "output_type": "stream",
     "text": [
      "\n",
      "bestTest = 0.6113168774\n",
      "bestIteration = 111\n",
      "\n",
      "Training on fold [1/5]\n",
      "\n",
      "bestTest = 0.5948993784\n",
      "bestIteration = 244\n",
      "\n",
      "Training on fold [2/5]\n",
      "\n",
      "bestTest = 0.6057662055\n",
      "bestIteration = 179\n",
      "\n",
      "Training on fold [3/5]\n",
      "\n",
      "bestTest = 0.6040889199\n",
      "bestIteration = 232\n",
      "\n",
      "Training on fold [4/5]\n"
     ]
    },
    {
     "name": "stderr",
     "output_type": "stream",
     "text": [
      "\u001b[32m[I 2022-08-25 15:05:06,284]\u001b[0m Trial 4 finished with value: 0.7205146508581486 and parameters: {'iterations': 1500, 'learning_rate': 0.08000727398765399, 'random_strength': 1, 'bagging_temperature': 2, 'max_bin': 10, 'grow_policy': 'Lossguide', 'min_data_in_leaf': 1, 'max_depth': 2, 'l2_leaf_reg': 0.005125688016017658, 'one_hot_max_size': 100, 'auto_class_weights': 'SqrtBalanced'}. Best is trial 4 with value: 0.7205146508581486.\u001b[0m\n"
     ]
    },
    {
     "name": "stdout",
     "output_type": "stream",
     "text": [
      "\n",
      "bestTest = 0.6093301428\n",
      "bestIteration = 123\n",
      "\n",
      "Training on fold [0/5]\n"
     ]
    },
    {
     "name": "stderr",
     "output_type": "stream",
     "text": [
      "C:\\Users\\jvrdo\\anaconda3\\lib\\site-packages\\optuna\\distributions.py:560: UserWarning: The distribution is specified by [1, 10] and step=20, but the range is not divisible by `step`. It will be replaced by [1, 1].\n",
      "  warnings.warn(\n",
      "C:\\Users\\jvrdo\\anaconda3\\lib\\site-packages\\optuna\\distributions.py:560: UserWarning: The distribution is specified by [2, 10] and step=15, but the range is not divisible by `step`. It will be replaced by [2, 2].\n",
      "  warnings.warn(\n"
     ]
    },
    {
     "name": "stdout",
     "output_type": "stream",
     "text": [
      "\n",
      "bestTest = 0.6222142195\n",
      "bestIteration = 51\n",
      "\n",
      "Training on fold [1/5]\n",
      "\n",
      "bestTest = 0.6046660688\n",
      "bestIteration = 102\n",
      "\n",
      "Training on fold [2/5]\n",
      "\n",
      "bestTest = 0.6144607332\n",
      "bestIteration = 81\n",
      "\n",
      "Training on fold [3/5]\n",
      "\n",
      "bestTest = 0.6147833222\n",
      "bestIteration = 100\n",
      "\n",
      "Training on fold [4/5]\n"
     ]
    },
    {
     "name": "stderr",
     "output_type": "stream",
     "text": [
      "\u001b[32m[I 2022-08-25 15:05:10,996]\u001b[0m Trial 5 finished with value: 0.718355279180274 and parameters: {'iterations': 700, 'learning_rate': 0.28840213091206046, 'random_strength': 8, 'bagging_temperature': 5, 'max_bin': 10, 'grow_policy': 'SymmetricTree', 'min_data_in_leaf': 1, 'max_depth': 2, 'l2_leaf_reg': 0.0006017458461802345, 'one_hot_max_size': 5, 'auto_class_weights': 'Balanced'}. Best is trial 4 with value: 0.7205146508581486.\u001b[0m\n"
     ]
    },
    {
     "name": "stdout",
     "output_type": "stream",
     "text": [
      "\n",
      "bestTest = 0.6196620006\n",
      "bestIteration = 56\n",
      "\n",
      "Training on fold [0/5]\n"
     ]
    },
    {
     "name": "stderr",
     "output_type": "stream",
     "text": [
      "C:\\Users\\jvrdo\\anaconda3\\lib\\site-packages\\optuna\\distributions.py:560: UserWarning: The distribution is specified by [1, 10] and step=20, but the range is not divisible by `step`. It will be replaced by [1, 1].\n",
      "  warnings.warn(\n",
      "C:\\Users\\jvrdo\\anaconda3\\lib\\site-packages\\optuna\\distributions.py:560: UserWarning: The distribution is specified by [2, 10] and step=15, but the range is not divisible by `step`. It will be replaced by [2, 2].\n",
      "  warnings.warn(\n"
     ]
    },
    {
     "name": "stdout",
     "output_type": "stream",
     "text": [
      "\n",
      "bestTest = 0.6139060771\n",
      "bestIteration = 85\n",
      "\n",
      "Training on fold [1/5]\n",
      "\n",
      "bestTest = 0.598578683\n",
      "bestIteration = 99\n",
      "\n",
      "Training on fold [2/5]\n",
      "\n",
      "bestTest = 0.6094861574\n",
      "bestIteration = 99\n",
      "\n",
      "Training on fold [3/5]\n",
      "\n",
      "bestTest = 0.6103667499\n",
      "bestIteration = 77\n",
      "\n",
      "Training on fold [4/5]\n"
     ]
    },
    {
     "name": "stderr",
     "output_type": "stream",
     "text": [
      "\u001b[32m[I 2022-08-25 15:05:17,509]\u001b[0m Trial 6 finished with value: 0.7162368300087208 and parameters: {'iterations': 100, 'learning_rate': 0.23343721639392573, 'random_strength': 7, 'bagging_temperature': 3, 'max_bin': 6, 'grow_policy': 'Lossguide', 'min_data_in_leaf': 1, 'max_depth': 2, 'l2_leaf_reg': 0.017682540913767256, 'one_hot_max_size': 10, 'auto_class_weights': 'SqrtBalanced'}. Best is trial 4 with value: 0.7205146508581486.\u001b[0m\n"
     ]
    },
    {
     "name": "stdout",
     "output_type": "stream",
     "text": [
      "\n",
      "bestTest = 0.6065048458\n",
      "bestIteration = 85\n",
      "\n",
      "Training on fold [0/5]\n",
      "\n",
      "bestTest = 0.6209952824\n",
      "bestIteration = 36\n",
      "\n",
      "Training on fold [1/5]\n"
     ]
    },
    {
     "name": "stderr",
     "output_type": "stream",
     "text": [
      "C:\\Users\\jvrdo\\anaconda3\\lib\\site-packages\\optuna\\distributions.py:560: UserWarning: The distribution is specified by [1, 10] and step=20, but the range is not divisible by `step`. It will be replaced by [1, 1].\n",
      "  warnings.warn(\n",
      "C:\\Users\\jvrdo\\anaconda3\\lib\\site-packages\\optuna\\distributions.py:560: UserWarning: The distribution is specified by [2, 10] and step=15, but the range is not divisible by `step`. It will be replaced by [2, 2].\n",
      "  warnings.warn(\n"
     ]
    },
    {
     "name": "stdout",
     "output_type": "stream",
     "text": [
      "\n",
      "bestTest = 0.6080488521\n",
      "bestIteration = 68\n",
      "\n",
      "Training on fold [2/5]\n",
      "\n",
      "bestTest = 0.6169469019\n",
      "bestIteration = 62\n",
      "\n",
      "Training on fold [3/5]\n"
     ]
    },
    {
     "name": "stderr",
     "output_type": "stream",
     "text": [
      "\u001b[32m[I 2022-08-25 15:05:18,148]\u001b[0m Trial 7 finished with value: 0.7158185798187108 and parameters: {'iterations': 100, 'learning_rate': 0.24377131327566987, 'random_strength': 2, 'bagging_temperature': 1, 'max_bin': 6, 'grow_policy': 'Depthwise', 'min_data_in_leaf': 1, 'max_depth': 2, 'l2_leaf_reg': 0.0009334767397996896, 'one_hot_max_size': 100, 'auto_class_weights': 'Balanced'}. Best is trial 4 with value: 0.7205146508581486.\u001b[0m\n"
     ]
    },
    {
     "name": "stdout",
     "output_type": "stream",
     "text": [
      "\n",
      "bestTest = 0.6184891813\n",
      "bestIteration = 79\n",
      "\n",
      "Training on fold [4/5]\n",
      "\n",
      "bestTest = 0.6161544475\n",
      "bestIteration = 51\n",
      "\n",
      "Training on fold [0/5]\n"
     ]
    },
    {
     "name": "stderr",
     "output_type": "stream",
     "text": [
      "C:\\Users\\jvrdo\\anaconda3\\lib\\site-packages\\optuna\\distributions.py:560: UserWarning: The distribution is specified by [1, 10] and step=20, but the range is not divisible by `step`. It will be replaced by [1, 1].\n",
      "  warnings.warn(\n",
      "C:\\Users\\jvrdo\\anaconda3\\lib\\site-packages\\optuna\\distributions.py:560: UserWarning: The distribution is specified by [2, 10] and step=15, but the range is not divisible by `step`. It will be replaced by [2, 2].\n",
      "  warnings.warn(\n"
     ]
    },
    {
     "name": "stdout",
     "output_type": "stream",
     "text": [
      "\n",
      "bestTest = 0.6243023771\n",
      "bestIteration = 71\n",
      "\n",
      "Training on fold [1/5]\n",
      "\n",
      "bestTest = 0.6049857703\n",
      "bestIteration = 240\n",
      "\n",
      "Training on fold [2/5]\n",
      "\n",
      "bestTest = 0.6152088947\n",
      "bestIteration = 151\n",
      "\n",
      "Training on fold [3/5]\n",
      "\n",
      "bestTest = 0.6165533821\n",
      "bestIteration = 226\n",
      "\n",
      "Training on fold [4/5]\n"
     ]
    },
    {
     "name": "stderr",
     "output_type": "stream",
     "text": [
      "\u001b[32m[I 2022-08-25 15:05:29,967]\u001b[0m Trial 8 finished with value: 0.7166524566101133 and parameters: {'iterations': 1300, 'learning_rate': 0.08026868780709238, 'random_strength': 1, 'bagging_temperature': 6, 'max_bin': 10, 'grow_policy': 'Lossguide', 'min_data_in_leaf': 1, 'max_depth': 2, 'l2_leaf_reg': 0.007620722139832508, 'one_hot_max_size': 5, 'auto_class_weights': 'Balanced'}. Best is trial 4 with value: 0.7205146508581486.\u001b[0m\n"
     ]
    },
    {
     "name": "stdout",
     "output_type": "stream",
     "text": [
      "\n",
      "bestTest = 0.6224146784\n",
      "bestIteration = 102\n",
      "\n",
      "Training on fold [0/5]\n"
     ]
    },
    {
     "name": "stderr",
     "output_type": "stream",
     "text": [
      "C:\\Users\\jvrdo\\anaconda3\\lib\\site-packages\\optuna\\distributions.py:560: UserWarning: The distribution is specified by [1, 10] and step=20, but the range is not divisible by `step`. It will be replaced by [1, 1].\n",
      "  warnings.warn(\n",
      "C:\\Users\\jvrdo\\anaconda3\\lib\\site-packages\\optuna\\distributions.py:560: UserWarning: The distribution is specified by [2, 10] and step=15, but the range is not divisible by `step`. It will be replaced by [2, 2].\n",
      "  warnings.warn(\n"
     ]
    },
    {
     "name": "stdout",
     "output_type": "stream",
     "text": [
      "\n",
      "bestTest = 0.6217775087\n",
      "bestIteration = 80\n",
      "\n",
      "Training on fold [1/5]\n",
      "\n",
      "bestTest = 0.6093594383\n",
      "bestIteration = 146\n",
      "\n",
      "Training on fold [2/5]\n",
      "\n",
      "bestTest = 0.6191367319\n",
      "bestIteration = 113\n",
      "\n",
      "Training on fold [3/5]\n",
      "\n",
      "bestTest = 0.6197269358\n",
      "bestIteration = 111\n",
      "\n",
      "Training on fold [4/5]\n"
     ]
    },
    {
     "name": "stderr",
     "output_type": "stream",
     "text": [
      "\u001b[32m[I 2022-08-25 15:05:38,422]\u001b[0m Trial 9 finished with value: 0.7141113557027532 and parameters: {'iterations': 1300, 'learning_rate': 0.13474573604398465, 'random_strength': 1, 'bagging_temperature': 3, 'max_bin': 6, 'grow_policy': 'Lossguide', 'min_data_in_leaf': 1, 'max_depth': 2, 'l2_leaf_reg': 41.08476065883486, 'one_hot_max_size': 12, 'auto_class_weights': 'Balanced'}. Best is trial 4 with value: 0.7205146508581486.\u001b[0m\n"
     ]
    },
    {
     "name": "stdout",
     "output_type": "stream",
     "text": [
      "\n",
      "bestTest = 0.6212259131\n",
      "bestIteration = 93\n",
      "\n",
      "Training on fold [0/5]\n"
     ]
    },
    {
     "name": "stderr",
     "output_type": "stream",
     "text": [
      "C:\\Users\\jvrdo\\anaconda3\\lib\\site-packages\\optuna\\distributions.py:560: UserWarning: The distribution is specified by [1, 10] and step=20, but the range is not divisible by `step`. It will be replaced by [1, 1].\n",
      "  warnings.warn(\n",
      "C:\\Users\\jvrdo\\anaconda3\\lib\\site-packages\\optuna\\distributions.py:560: UserWarning: The distribution is specified by [2, 10] and step=15, but the range is not divisible by `step`. It will be replaced by [2, 2].\n",
      "  warnings.warn(\n"
     ]
    },
    {
     "name": "stdout",
     "output_type": "stream",
     "text": [
      "\n",
      "bestTest = 0.6127169087\n",
      "bestIteration = 94\n",
      "\n",
      "Training on fold [1/5]\n",
      "\n",
      "bestTest = 0.5997761579\n",
      "bestIteration = 117\n",
      "\n",
      "Training on fold [2/5]\n",
      "\n",
      "bestTest = 0.6105707698\n",
      "bestIteration = 100\n",
      "\n",
      "Training on fold [3/5]\n"
     ]
    },
    {
     "name": "stderr",
     "output_type": "stream",
     "text": [
      "\u001b[32m[I 2022-08-25 15:05:39,520]\u001b[0m Trial 10 finished with value: 0.7144706934888324 and parameters: {'iterations': 200, 'learning_rate': 0.15347182690089853, 'random_strength': 5, 'bagging_temperature': 1, 'max_bin': 5, 'grow_policy': 'Lossguide', 'min_data_in_leaf': 1, 'max_depth': 2, 'l2_leaf_reg': 6.829171119690581, 'one_hot_max_size': 100, 'auto_class_weights': 'SqrtBalanced'}. Best is trial 4 with value: 0.7205146508581486.\u001b[0m\n"
     ]
    },
    {
     "name": "stdout",
     "output_type": "stream",
     "text": [
      "\n",
      "bestTest = 0.6123812475\n",
      "bestIteration = 106\n",
      "\n",
      "Training on fold [4/5]\n",
      "\n",
      "bestTest = 0.6112281958\n",
      "bestIteration = 64\n",
      "\n",
      "Training on fold [0/5]\n"
     ]
    },
    {
     "name": "stderr",
     "output_type": "stream",
     "text": [
      "C:\\Users\\jvrdo\\anaconda3\\lib\\site-packages\\optuna\\distributions.py:560: UserWarning: The distribution is specified by [1, 10] and step=20, but the range is not divisible by `step`. It will be replaced by [1, 1].\n",
      "  warnings.warn(\n",
      "C:\\Users\\jvrdo\\anaconda3\\lib\\site-packages\\optuna\\distributions.py:560: UserWarning: The distribution is specified by [2, 10] and step=15, but the range is not divisible by `step`. It will be replaced by [2, 2].\n",
      "  warnings.warn(\n"
     ]
    },
    {
     "name": "stdout",
     "output_type": "stream",
     "text": [
      "\n",
      "bestTest = 0.6197023257\n",
      "bestIteration = 47\n",
      "\n",
      "Training on fold [1/5]\n",
      "\n",
      "bestTest = 0.603070835\n",
      "bestIteration = 134\n",
      "\n",
      "Training on fold [2/5]\n",
      "\n",
      "bestTest = 0.6109430963\n",
      "bestIteration = 157\n",
      "\n",
      "Training on fold [3/5]\n",
      "\n"
     ]
    },
    {
     "name": "stderr",
     "output_type": "stream",
     "text": [
      "\u001b[32m[I 2022-08-25 15:05:40,448]\u001b[0m Trial 11 finished with value: 0.7194257927674949 and parameters: {'iterations': 700, 'learning_rate': 0.2935372857408073, 'random_strength': 10, 'bagging_temperature': 6, 'max_bin': 20, 'grow_policy': 'SymmetricTree', 'min_data_in_leaf': 1, 'max_depth': 2, 'l2_leaf_reg': 7.261999689269002e-05, 'one_hot_max_size': 1024, 'auto_class_weights': 'Balanced'}. Best is trial 4 with value: 0.7205146508581486.\u001b[0m\n"
     ]
    },
    {
     "name": "stdout",
     "output_type": "stream",
     "text": [
      "bestTest = 0.6127352571\n",
      "bestIteration = 103\n",
      "\n",
      "Training on fold [4/5]\n",
      "\n",
      "bestTest = 0.6187175332\n",
      "bestIteration = 49\n",
      "\n",
      "Training on fold [0/5]\n"
     ]
    },
    {
     "name": "stderr",
     "output_type": "stream",
     "text": [
      "C:\\Users\\jvrdo\\anaconda3\\lib\\site-packages\\optuna\\distributions.py:560: UserWarning: The distribution is specified by [1, 10] and step=20, but the range is not divisible by `step`. It will be replaced by [1, 1].\n",
      "  warnings.warn(\n",
      "C:\\Users\\jvrdo\\anaconda3\\lib\\site-packages\\optuna\\distributions.py:560: UserWarning: The distribution is specified by [2, 10] and step=15, but the range is not divisible by `step`. It will be replaced by [2, 2].\n",
      "  warnings.warn(\n"
     ]
    },
    {
     "name": "stdout",
     "output_type": "stream",
     "text": [
      "\n",
      "bestTest = 0.6152540632\n",
      "bestIteration = 51\n",
      "\n",
      "Training on fold [1/5]\n",
      "\n",
      "bestTest = 0.5960559374\n",
      "bestIteration = 125\n",
      "\n",
      "Training on fold [2/5]\n",
      "\n",
      "bestTest = 0.607207859\n",
      "bestIteration = 103\n",
      "\n",
      "Training on fold [3/5]\n"
     ]
    },
    {
     "name": "stderr",
     "output_type": "stream",
     "text": [
      "\u001b[32m[I 2022-08-25 15:05:41,389]\u001b[0m Trial 12 finished with value: 0.7183077175919428 and parameters: {'iterations': 700, 'learning_rate': 0.1592692839194838, 'random_strength': 10, 'bagging_temperature': 7, 'max_bin': 20, 'grow_policy': 'SymmetricTree', 'min_data_in_leaf': 1, 'max_depth': 2, 'l2_leaf_reg': 1.3569178646187832e-05, 'one_hot_max_size': 1024, 'auto_class_weights': 'SqrtBalanced'}. Best is trial 4 with value: 0.7205146508581486.\u001b[0m\n"
     ]
    },
    {
     "name": "stdout",
     "output_type": "stream",
     "text": [
      "\n",
      "bestTest = 0.6079827902\n",
      "bestIteration = 131\n",
      "\n",
      "Training on fold [4/5]\n",
      "\n",
      "bestTest = 0.609331039\n",
      "bestIteration = 91\n",
      "\n"
     ]
    },
    {
     "name": "stderr",
     "output_type": "stream",
     "text": [
      "C:\\Users\\jvrdo\\anaconda3\\lib\\site-packages\\optuna\\distributions.py:560: UserWarning: The distribution is specified by [1, 10] and step=20, but the range is not divisible by `step`. It will be replaced by [1, 1].\n",
      "  warnings.warn(\n",
      "C:\\Users\\jvrdo\\anaconda3\\lib\\site-packages\\optuna\\distributions.py:560: UserWarning: The distribution is specified by [2, 10] and step=15, but the range is not divisible by `step`. It will be replaced by [2, 2].\n",
      "  warnings.warn(\n"
     ]
    },
    {
     "name": "stdout",
     "output_type": "stream",
     "text": [
      "Training on fold [0/5]\n",
      "\n",
      "bestTest = 0.62048736\n",
      "bestIteration = 88\n",
      "\n",
      "Training on fold [1/5]\n",
      "\n",
      "bestTest = 0.6076906753\n",
      "bestIteration = 108\n",
      "\n",
      "Training on fold [2/5]\n",
      "\n",
      "bestTest = 0.6175913318\n",
      "bestIteration = 119\n",
      "\n",
      "Training on fold [3/5]\n",
      "\n"
     ]
    },
    {
     "name": "stderr",
     "output_type": "stream",
     "text": [
      "\u001b[32m[I 2022-08-25 15:05:42,361]\u001b[0m Trial 13 finished with value: 0.7170220708219907 and parameters: {'iterations': 1500, 'learning_rate': 0.18948088647938427, 'random_strength': 4, 'bagging_temperature': 0, 'max_bin': 4, 'grow_policy': 'SymmetricTree', 'min_data_in_leaf': 1, 'max_depth': 2, 'l2_leaf_reg': 0.6221070814409305, 'one_hot_max_size': 1024, 'auto_class_weights': 'Balanced'}. Best is trial 4 with value: 0.7205146508581486.\u001b[0m\n"
     ]
    },
    {
     "name": "stdout",
     "output_type": "stream",
     "text": [
      "bestTest = 0.6189663543\n",
      "bestIteration = 97\n",
      "\n",
      "Training on fold [4/5]\n",
      "\n",
      "bestTest = 0.6159775664\n",
      "bestIteration = 94\n",
      "\n"
     ]
    },
    {
     "name": "stderr",
     "output_type": "stream",
     "text": [
      "C:\\Users\\jvrdo\\anaconda3\\lib\\site-packages\\optuna\\distributions.py:560: UserWarning: The distribution is specified by [1, 10] and step=20, but the range is not divisible by `step`. It will be replaced by [1, 1].\n",
      "  warnings.warn(\n",
      "C:\\Users\\jvrdo\\anaconda3\\lib\\site-packages\\optuna\\distributions.py:560: UserWarning: The distribution is specified by [2, 10] and step=15, but the range is not divisible by `step`. It will be replaced by [2, 2].\n",
      "  warnings.warn(\n"
     ]
    },
    {
     "name": "stdout",
     "output_type": "stream",
     "text": [
      "Training on fold [0/5]\n",
      "\n",
      "bestTest = 0.6189869472\n",
      "bestIteration = 135\n",
      "\n",
      "Training on fold [1/5]\n",
      "\n",
      "bestTest = 0.6027894953\n",
      "bestIteration = 210\n",
      "\n",
      "Training on fold [2/5]\n",
      "\n",
      "bestTest = 0.6123170317\n",
      "bestIteration = 182\n",
      "\n",
      "Training on fold [3/5]\n",
      "\n",
      "bestTest = 0.611942402\n",
      "bestIteration = 229\n",
      "\n",
      "Training on fold [4/5]\n"
     ]
    },
    {
     "name": "stderr",
     "output_type": "stream",
     "text": [
      "\u001b[32m[I 2022-08-25 15:05:43,905]\u001b[0m Trial 14 finished with value: 0.7212784138432413 and parameters: {'iterations': 300, 'learning_rate': 0.11141445879846285, 'random_strength': 7, 'bagging_temperature': 10, 'max_bin': 20, 'grow_policy': 'SymmetricTree', 'min_data_in_leaf': 1, 'max_depth': 2, 'l2_leaf_reg': 3.9777317429405287e-05, 'one_hot_max_size': 100, 'auto_class_weights': 'Balanced'}. Best is trial 14 with value: 0.7212784138432413.\u001b[0m\n"
     ]
    },
    {
     "name": "stdout",
     "output_type": "stream",
     "text": [
      "\n",
      "bestTest = 0.6168980091\n",
      "bestIteration = 136\n",
      "\n",
      "Training on fold [0/5]\n"
     ]
    },
    {
     "name": "stderr",
     "output_type": "stream",
     "text": [
      "C:\\Users\\jvrdo\\anaconda3\\lib\\site-packages\\optuna\\distributions.py:560: UserWarning: The distribution is specified by [1, 10] and step=20, but the range is not divisible by `step`. It will be replaced by [1, 1].\n",
      "  warnings.warn(\n",
      "C:\\Users\\jvrdo\\anaconda3\\lib\\site-packages\\optuna\\distributions.py:560: UserWarning: The distribution is specified by [2, 10] and step=15, but the range is not divisible by `step`. It will be replaced by [2, 2].\n",
      "  warnings.warn(\n"
     ]
    },
    {
     "name": "stdout",
     "output_type": "stream",
     "text": [
      "\n",
      "bestTest = 0.610325444\n",
      "bestIteration = 116\n",
      "\n",
      "Training on fold [1/5]\n",
      "\n",
      "bestTest = 0.5946519288\n",
      "bestIteration = 187\n",
      "\n",
      "Training on fold [2/5]\n",
      "\n",
      "bestTest = 0.6067153362\n",
      "bestIteration = 121\n",
      "\n",
      "Training on fold [3/5]\n",
      "\n",
      "bestTest = 0.6095174094\n",
      "bestIteration = 152\n",
      "\n",
      "Training on fold [4/5]\n"
     ]
    },
    {
     "name": "stderr",
     "output_type": "stream",
     "text": [
      "\u001b[32m[I 2022-08-25 15:05:45,216]\u001b[0m Trial 15 finished with value: 0.7174968129688285 and parameters: {'iterations': 300, 'learning_rate': 0.11591619663425676, 'random_strength': 6, 'bagging_temperature': 10, 'max_bin': 20, 'grow_policy': 'Lossguide', 'min_data_in_leaf': 1, 'max_depth': 2, 'l2_leaf_reg': 3.5278469533528857e-06, 'one_hot_max_size': 100, 'auto_class_weights': 'SqrtBalanced'}. Best is trial 14 with value: 0.7212784138432413.\u001b[0m\n"
     ]
    },
    {
     "name": "stdout",
     "output_type": "stream",
     "text": [
      "\n",
      "bestTest = 0.6111937423\n",
      "bestIteration = 114\n",
      "\n",
      "Training on fold [0/5]\n"
     ]
    },
    {
     "name": "stderr",
     "output_type": "stream",
     "text": [
      "C:\\Users\\jvrdo\\anaconda3\\lib\\site-packages\\optuna\\distributions.py:560: UserWarning: The distribution is specified by [1, 10] and step=20, but the range is not divisible by `step`. It will be replaced by [1, 1].\n",
      "  warnings.warn(\n",
      "C:\\Users\\jvrdo\\anaconda3\\lib\\site-packages\\optuna\\distributions.py:560: UserWarning: The distribution is specified by [2, 10] and step=15, but the range is not divisible by `step`. It will be replaced by [2, 2].\n",
      "  warnings.warn(\n"
     ]
    },
    {
     "name": "stdout",
     "output_type": "stream",
     "text": [
      "\n",
      "bestTest = 0.6121890054\n",
      "bestIteration = 114\n",
      "\n",
      "Training on fold [1/5]\n",
      "\n",
      "bestTest = 0.5989624358\n",
      "bestIteration = 159\n",
      "\n",
      "Training on fold [2/5]\n",
      "\n",
      "bestTest = 0.6097990192\n",
      "bestIteration = 172\n",
      "\n",
      "Training on fold [3/5]\n",
      "\n",
      "bestTest = 0.613098078\n",
      "bestIteration = 125\n",
      "\n",
      "Training on fold [4/5]\n"
     ]
    },
    {
     "name": "stderr",
     "output_type": "stream",
     "text": [
      "\u001b[32m[I 2022-08-25 15:05:46,450]\u001b[0m Trial 16 finished with value: 0.7150652830070376 and parameters: {'iterations': 300, 'learning_rate': 0.11343401099847632, 'random_strength': 7, 'bagging_temperature': 10, 'max_bin': 4, 'grow_policy': 'SymmetricTree', 'min_data_in_leaf': 1, 'max_depth': 2, 'l2_leaf_reg': 0.18504855379850307, 'one_hot_max_size': 100, 'auto_class_weights': 'SqrtBalanced'}. Best is trial 14 with value: 0.7212784138432413.\u001b[0m\n"
     ]
    },
    {
     "name": "stdout",
     "output_type": "stream",
     "text": [
      "\n",
      "bestTest = 0.6099611577\n",
      "bestIteration = 118\n",
      "\n",
      "Training on fold [0/5]\n"
     ]
    },
    {
     "name": "stderr",
     "output_type": "stream",
     "text": [
      "C:\\Users\\jvrdo\\anaconda3\\lib\\site-packages\\optuna\\distributions.py:560: UserWarning: The distribution is specified by [1, 10] and step=20, but the range is not divisible by `step`. It will be replaced by [1, 1].\n",
      "  warnings.warn(\n",
      "C:\\Users\\jvrdo\\anaconda3\\lib\\site-packages\\optuna\\distributions.py:560: UserWarning: The distribution is specified by [2, 10] and step=15, but the range is not divisible by `step`. It will be replaced by [2, 2].\n",
      "  warnings.warn(\n"
     ]
    },
    {
     "name": "stdout",
     "output_type": "stream",
     "text": [
      "\n",
      "bestTest = 0.6240569902\n",
      "bestIteration = 515\n",
      "\n",
      "Training on fold [1/5]\n",
      "\n",
      "bestTest = 0.6085459364\n",
      "bestIteration = 999\n",
      "\n",
      "Training on fold [2/5]\n",
      "\n",
      "bestTest = 0.6170926513\n",
      "bestIteration = 916\n",
      "\n",
      "Training on fold [3/5]\n",
      "\n",
      "bestTest = 0.6184971542\n",
      "bestIteration = 999\n",
      "\n",
      "Training on fold [4/5]\n"
     ]
    },
    {
     "name": "stderr",
     "output_type": "stream",
     "text": [
      "\u001b[32m[I 2022-08-25 15:05:53,161]\u001b[0m Trial 17 finished with value: 0.7173350059531534 and parameters: {'iterations': 1000, 'learning_rate': 0.012273551132708102, 'random_strength': 4, 'bagging_temperature': 4, 'max_bin': 30, 'grow_policy': 'SymmetricTree', 'min_data_in_leaf': 1, 'max_depth': 2, 'l2_leaf_reg': 7.750418001412586e-05, 'one_hot_max_size': 100, 'auto_class_weights': 'Balanced'}. Best is trial 14 with value: 0.7212784138432413.\u001b[0m\n"
     ]
    },
    {
     "name": "stdout",
     "output_type": "stream",
     "text": [
      "\n",
      "bestTest = 0.6190364806\n",
      "bestIteration = 906\n",
      "\n",
      "Training on fold [0/5]\n",
      "\n"
     ]
    },
    {
     "name": "stderr",
     "output_type": "stream",
     "text": [
      "C:\\Users\\jvrdo\\anaconda3\\lib\\site-packages\\optuna\\distributions.py:560: UserWarning: The distribution is specified by [1, 10] and step=20, but the range is not divisible by `step`. It will be replaced by [1, 1].\n",
      "  warnings.warn(\n",
      "C:\\Users\\jvrdo\\anaconda3\\lib\\site-packages\\optuna\\distributions.py:560: UserWarning: The distribution is specified by [2, 10] and step=15, but the range is not divisible by `step`. It will be replaced by [2, 2].\n",
      "  warnings.warn(\n"
     ]
    },
    {
     "name": "stdout",
     "output_type": "stream",
     "text": [
      "bestTest = 0.6209368811\n",
      "bestIteration = 66\n",
      "\n",
      "Training on fold [1/5]\n",
      "\n",
      "bestTest = 0.6007751403\n",
      "bestIteration = 137\n",
      "\n",
      "Training on fold [2/5]\n",
      "\n",
      "bestTest = 0.6150519913\n",
      "bestIteration = 113\n",
      "\n",
      "Training on fold [3/5]\n",
      "\n"
     ]
    },
    {
     "name": "stderr",
     "output_type": "stream",
     "text": [
      "\u001b[32m[I 2022-08-25 15:05:54,168]\u001b[0m Trial 18 finished with value: 0.7195163649942978 and parameters: {'iterations': 1200, 'learning_rate': 0.19107100410531164, 'random_strength': 6, 'bagging_temperature': 0, 'max_bin': 8, 'grow_policy': 'Lossguide', 'min_data_in_leaf': 1, 'max_depth': 2, 'l2_leaf_reg': 1.291959873666151e-08, 'one_hot_max_size': 500, 'auto_class_weights': 'Balanced'}. Best is trial 14 with value: 0.7212784138432413.\u001b[0m\n"
     ]
    },
    {
     "name": "stdout",
     "output_type": "stream",
     "text": [
      "bestTest = 0.6202602941\n",
      "bestIteration = 84\n",
      "\n",
      "Training on fold [4/5]\n",
      "\n",
      "bestTest = 0.6159732267\n",
      "bestIteration = 67\n",
      "\n",
      "Training on fold [0/5]\n"
     ]
    },
    {
     "name": "stderr",
     "output_type": "stream",
     "text": [
      "C:\\Users\\jvrdo\\anaconda3\\lib\\site-packages\\optuna\\distributions.py:560: UserWarning: The distribution is specified by [1, 10] and step=20, but the range is not divisible by `step`. It will be replaced by [1, 1].\n",
      "  warnings.warn(\n",
      "C:\\Users\\jvrdo\\anaconda3\\lib\\site-packages\\optuna\\distributions.py:560: UserWarning: The distribution is specified by [2, 10] and step=15, but the range is not divisible by `step`. It will be replaced by [2, 2].\n",
      "  warnings.warn(\n"
     ]
    },
    {
     "name": "stdout",
     "output_type": "stream",
     "text": [
      "\n",
      "bestTest = 0.6138395787\n",
      "bestIteration = 106\n",
      "\n",
      "Training on fold [1/5]\n",
      "\n",
      "bestTest = 0.597599858\n",
      "bestIteration = 163\n",
      "\n",
      "Training on fold [2/5]\n",
      "\n",
      "bestTest = 0.609505731\n",
      "bestIteration = 157\n",
      "\n",
      "Training on fold [3/5]\n",
      "\n",
      "bestTest = 0.6095160621\n",
      "bestIteration = 173\n",
      "\n",
      "Training on fold [4/5]\n"
     ]
    },
    {
     "name": "stderr",
     "output_type": "stream",
     "text": [
      "\u001b[32m[I 2022-08-25 15:05:55,504]\u001b[0m Trial 19 finished with value: 0.715872616741569 and parameters: {'iterations': 1500, 'learning_rate': 0.09716474191462941, 'random_strength': 3, 'bagging_temperature': 8, 'max_bin': 5, 'grow_policy': 'Depthwise', 'min_data_in_leaf': 1, 'max_depth': 2, 'l2_leaf_reg': 5.689920572929397e-07, 'one_hot_max_size': 100, 'auto_class_weights': 'SqrtBalanced'}. Best is trial 14 with value: 0.7212784138432413.\u001b[0m\n"
     ]
    },
    {
     "name": "stdout",
     "output_type": "stream",
     "text": [
      "\n",
      "bestTest = 0.6094359821\n",
      "bestIteration = 118\n",
      "\n",
      "Training on fold [0/5]\n"
     ]
    },
    {
     "name": "stderr",
     "output_type": "stream",
     "text": [
      "C:\\Users\\jvrdo\\anaconda3\\lib\\site-packages\\optuna\\distributions.py:560: UserWarning: The distribution is specified by [1, 10] and step=20, but the range is not divisible by `step`. It will be replaced by [1, 1].\n",
      "  warnings.warn(\n",
      "C:\\Users\\jvrdo\\anaconda3\\lib\\site-packages\\optuna\\distributions.py:560: UserWarning: The distribution is specified by [2, 10] and step=15, but the range is not divisible by `step`. It will be replaced by [2, 2].\n",
      "  warnings.warn(\n"
     ]
    },
    {
     "name": "stdout",
     "output_type": "stream",
     "text": [
      "\n",
      "bestTest = 0.61686164\n",
      "bestIteration = 175\n",
      "\n",
      "Training on fold [1/5]\n",
      "\n",
      "bestTest = 0.5992722967\n",
      "bestIteration = 299\n",
      "\n",
      "Training on fold [2/5]\n",
      "\n",
      "bestTest = 0.6086908352\n",
      "bestIteration = 299\n",
      "\n",
      "Training on fold [3/5]\n",
      "\n",
      "bestTest = 0.6098992175\n",
      "bestIteration = 299\n",
      "\n",
      "Training on fold [4/5]\n"
     ]
    },
    {
     "name": "stderr",
     "output_type": "stream",
     "text": [
      "\u001b[32m[I 2022-08-25 15:05:57,856]\u001b[0m Trial 20 finished with value: 0.716840038238805 and parameters: {'iterations': 300, 'learning_rate': 0.04288338363789505, 'random_strength': 8, 'bagging_temperature': 2, 'max_bin': 10, 'grow_policy': 'Lossguide', 'min_data_in_leaf': 1, 'max_depth': 2, 'l2_leaf_reg': 0.0026554075773990056, 'one_hot_max_size': 100, 'auto_class_weights': 'SqrtBalanced'}. Best is trial 14 with value: 0.7212784138432413.\u001b[0m\n"
     ]
    },
    {
     "name": "stdout",
     "output_type": "stream",
     "text": [
      "\n",
      "bestTest = 0.6102163843\n",
      "bestIteration = 296\n",
      "\n",
      "Training on fold [0/5]\n",
      "\n",
      "bestTest = 0.6266921397\n",
      "bestIteration = 41\n",
      "\n",
      "Training on fold [1/5]\n"
     ]
    },
    {
     "name": "stderr",
     "output_type": "stream",
     "text": [
      "C:\\Users\\jvrdo\\anaconda3\\lib\\site-packages\\optuna\\distributions.py:560: UserWarning: The distribution is specified by [1, 10] and step=20, but the range is not divisible by `step`. It will be replaced by [1, 1].\n",
      "  warnings.warn(\n",
      "C:\\Users\\jvrdo\\anaconda3\\lib\\site-packages\\optuna\\distributions.py:560: UserWarning: The distribution is specified by [2, 10] and step=15, but the range is not divisible by `step`. It will be replaced by [2, 2].\n",
      "  warnings.warn(\n"
     ]
    },
    {
     "name": "stdout",
     "output_type": "stream",
     "text": [
      "\n",
      "bestTest = 0.6013316822\n",
      "bestIteration = 157\n",
      "\n",
      "Training on fold [2/5]\n",
      "\n",
      "bestTest = 0.6134829925\n",
      "bestIteration = 122\n",
      "\n",
      "Training on fold [3/5]\n",
      "\n",
      "bestTest = 0.6211994235\n",
      "bestIteration = 67\n",
      "\n",
      "Training on fold [4/5]\n"
     ]
    },
    {
     "name": "stderr",
     "output_type": "stream",
     "text": [
      "\u001b[32m[I 2022-08-25 15:05:58,806]\u001b[0m Trial 21 finished with value: 0.7165072226980829 and parameters: {'iterations': 1200, 'learning_rate': 0.19430736545157593, 'random_strength': 6, 'bagging_temperature': 0, 'max_bin': 8, 'grow_policy': 'Lossguide', 'min_data_in_leaf': 1, 'max_depth': 2, 'l2_leaf_reg': 1.8321928873421644e-08, 'one_hot_max_size': 500, 'auto_class_weights': 'Balanced'}. Best is trial 14 with value: 0.7212784138432413.\u001b[0m\n"
     ]
    },
    {
     "name": "stdout",
     "output_type": "stream",
     "text": [
      "\n",
      "bestTest = 0.6219447992\n",
      "bestIteration = 71\n",
      "\n",
      "Training on fold [0/5]\n",
      "\n",
      "bestTest = 0.6235923216\n",
      "bestIteration = 66\n",
      "\n",
      "Training on fold [1/5]\n"
     ]
    },
    {
     "name": "stderr",
     "output_type": "stream",
     "text": [
      "C:\\Users\\jvrdo\\anaconda3\\lib\\site-packages\\optuna\\distributions.py:560: UserWarning: The distribution is specified by [1, 10] and step=20, but the range is not divisible by `step`. It will be replaced by [1, 1].\n",
      "  warnings.warn(\n",
      "C:\\Users\\jvrdo\\anaconda3\\lib\\site-packages\\optuna\\distributions.py:560: UserWarning: The distribution is specified by [2, 10] and step=15, but the range is not divisible by `step`. It will be replaced by [2, 2].\n",
      "  warnings.warn(\n"
     ]
    },
    {
     "name": "stdout",
     "output_type": "stream",
     "text": [
      "\n",
      "bestTest = 0.6039982476\n",
      "bestIteration = 107\n",
      "\n",
      "Training on fold [2/5]\n",
      "\n",
      "bestTest = 0.6145787719\n",
      "bestIteration = 116\n",
      "\n",
      "Training on fold [3/5]\n",
      "\n",
      "bestTest = 0.6236154611\n",
      "bestIteration = 65\n",
      "\n",
      "Training on fold [4/5]\n"
     ]
    },
    {
     "name": "stderr",
     "output_type": "stream",
     "text": [
      "\u001b[32m[I 2022-08-25 15:05:59,754]\u001b[0m Trial 22 finished with value: 0.7179847461544675 and parameters: {'iterations': 1200, 'learning_rate': 0.1793060086846407, 'random_strength': 5, 'bagging_temperature': 1, 'max_bin': 8, 'grow_policy': 'Lossguide', 'min_data_in_leaf': 1, 'max_depth': 2, 'l2_leaf_reg': 0.00016129669660306907, 'one_hot_max_size': 500, 'auto_class_weights': 'Balanced'}. Best is trial 14 with value: 0.7212784138432413.\u001b[0m\n"
     ]
    },
    {
     "name": "stdout",
     "output_type": "stream",
     "text": [
      "\n",
      "bestTest = 0.6153530892\n",
      "bestIteration = 100\n",
      "\n",
      "Training on fold [0/5]\n",
      "\n",
      "bestTest = 0.6173971084\n"
     ]
    },
    {
     "name": "stderr",
     "output_type": "stream",
     "text": [
      "C:\\Users\\jvrdo\\anaconda3\\lib\\site-packages\\optuna\\distributions.py:560: UserWarning: The distribution is specified by [1, 10] and step=20, but the range is not divisible by `step`. It will be replaced by [1, 1].\n",
      "  warnings.warn(\n",
      "C:\\Users\\jvrdo\\anaconda3\\lib\\site-packages\\optuna\\distributions.py:560: UserWarning: The distribution is specified by [2, 10] and step=15, but the range is not divisible by `step`. It will be replaced by [2, 2].\n",
      "  warnings.warn(\n"
     ]
    },
    {
     "name": "stdout",
     "output_type": "stream",
     "text": [
      "bestIteration = 83\n",
      "\n",
      "Training on fold [1/5]\n",
      "\n",
      "bestTest = 0.6022689731\n",
      "bestIteration = 128\n",
      "\n",
      "Training on fold [2/5]\n",
      "\n",
      "bestTest = 0.6051149403\n",
      "bestIteration = 152\n",
      "\n",
      "Training on fold [3/5]\n",
      "\n",
      "bestTest = 0.6140568531\n",
      "bestIteration = 75\n"
     ]
    },
    {
     "name": "stderr",
     "output_type": "stream",
     "text": [
      "\u001b[32m[I 2022-08-25 15:06:00,821]\u001b[0m Trial 23 finished with value: 0.7220458135106365 and parameters: {'iterations': 1200, 'learning_rate': 0.2281582248033122, 'random_strength': 7, 'bagging_temperature': 0, 'max_bin': 20, 'grow_policy': 'Lossguide', 'min_data_in_leaf': 1, 'max_depth': 2, 'l2_leaf_reg': 8.779877777560969e-07, 'one_hot_max_size': 500, 'auto_class_weights': 'Balanced'}. Best is trial 23 with value: 0.7220458135106365.\u001b[0m\n"
     ]
    },
    {
     "name": "stdout",
     "output_type": "stream",
     "text": [
      "\n",
      "Training on fold [4/5]\n",
      "\n",
      "bestTest = 0.6172568741\n",
      "bestIteration = 74\n",
      "\n"
     ]
    },
    {
     "name": "stderr",
     "output_type": "stream",
     "text": [
      "C:\\Users\\jvrdo\\anaconda3\\lib\\site-packages\\optuna\\distributions.py:560: UserWarning: The distribution is specified by [1, 10] and step=20, but the range is not divisible by `step`. It will be replaced by [1, 1].\n",
      "  warnings.warn(\n",
      "C:\\Users\\jvrdo\\anaconda3\\lib\\site-packages\\optuna\\distributions.py:560: UserWarning: The distribution is specified by [2, 10] and step=15, but the range is not divisible by `step`. It will be replaced by [2, 2].\n",
      "  warnings.warn(\n"
     ]
    },
    {
     "name": "stdout",
     "output_type": "stream",
     "text": [
      "Training on fold [0/5]\n",
      "\n",
      "bestTest = 0.6214840126\n",
      "bestIteration = 60\n",
      "\n",
      "Training on fold [1/5]\n",
      "\n",
      "bestTest = 0.6021975144\n",
      "bestIteration = 85\n",
      "\n",
      "Training on fold [2/5]\n",
      "\n",
      "bestTest = 0.6149133033\n",
      "bestIteration = 96\n",
      "\n",
      "Training on fold [3/5]\n",
      "\n",
      "bestTest = 0.6166669392\n",
      "bestIteration = 74\n",
      "\n",
      "Training on fold [4/5]\n"
     ]
    },
    {
     "name": "stderr",
     "output_type": "stream",
     "text": [
      "\u001b[32m[I 2022-08-25 15:06:01,785]\u001b[0m Trial 24 finished with value: 0.7194290479927632 and parameters: {'iterations': 500, 'learning_rate': 0.22432777112507668, 'random_strength': 8, 'bagging_temperature': 2, 'max_bin': 20, 'grow_policy': 'Lossguide', 'min_data_in_leaf': 1, 'max_depth': 2, 'l2_leaf_reg': 1.8291099700275639e-06, 'one_hot_max_size': 500, 'auto_class_weights': 'Balanced'}. Best is trial 23 with value: 0.7220458135106365.\u001b[0m\n"
     ]
    },
    {
     "name": "stdout",
     "output_type": "stream",
     "text": [
      "\n",
      "bestTest = 0.6157744836\n",
      "bestIteration = 115\n",
      "\n",
      "Training on fold [0/5]\n"
     ]
    },
    {
     "name": "stderr",
     "output_type": "stream",
     "text": [
      "C:\\Users\\jvrdo\\anaconda3\\lib\\site-packages\\optuna\\distributions.py:560: UserWarning: The distribution is specified by [1, 10] and step=20, but the range is not divisible by `step`. It will be replaced by [1, 1].\n",
      "  warnings.warn(\n",
      "C:\\Users\\jvrdo\\anaconda3\\lib\\site-packages\\optuna\\distributions.py:560: UserWarning: The distribution is specified by [2, 10] and step=15, but the range is not divisible by `step`. It will be replaced by [2, 2].\n",
      "  warnings.warn(\n"
     ]
    },
    {
     "name": "stdout",
     "output_type": "stream",
     "text": [
      "\n",
      "bestTest = 0.6170818372\n",
      "bestIteration = 125\n",
      "\n",
      "Training on fold [1/5]\n",
      "\n",
      "bestTest = 0.6027131541\n",
      "bestIteration = 199\n",
      "\n",
      "Training on fold [2/5]\n",
      "\n",
      "bestTest = 0.6109043189\n",
      "bestIteration = 190\n",
      "\n",
      "Training on fold [3/5]\n",
      "\n",
      "bestTest = 0.6129728311\n",
      "bestIteration = 189\n",
      "\n",
      "Training on fold [4/5]\n",
      "\n"
     ]
    },
    {
     "name": "stderr",
     "output_type": "stream",
     "text": [
      "\u001b[32m[I 2022-08-25 15:06:03,225]\u001b[0m Trial 25 finished with value: 0.7207299202259799 and parameters: {'iterations': 200, 'learning_rate': 0.13066383046777963, 'random_strength': 7, 'bagging_temperature': 3, 'max_bin': 20, 'grow_policy': 'SymmetricTree', 'min_data_in_leaf': 1, 'max_depth': 2, 'l2_leaf_reg': 4.4690997388085776e-07, 'one_hot_max_size': 100, 'auto_class_weights': 'Balanced'}. Best is trial 23 with value: 0.7220458135106365.\u001b[0m\n"
     ]
    },
    {
     "name": "stdout",
     "output_type": "stream",
     "text": [
      "bestTest = 0.6184629489\n",
      "bestIteration = 96\n",
      "\n",
      "Training on fold [0/5]\n"
     ]
    },
    {
     "name": "stderr",
     "output_type": "stream",
     "text": [
      "C:\\Users\\jvrdo\\anaconda3\\lib\\site-packages\\optuna\\distributions.py:560: UserWarning: The distribution is specified by [1, 10] and step=20, but the range is not divisible by `step`. It will be replaced by [1, 1].\n",
      "  warnings.warn(\n",
      "C:\\Users\\jvrdo\\anaconda3\\lib\\site-packages\\optuna\\distributions.py:560: UserWarning: The distribution is specified by [2, 10] and step=15, but the range is not divisible by `step`. It will be replaced by [2, 2].\n",
      "  warnings.warn(\n"
     ]
    },
    {
     "name": "stdout",
     "output_type": "stream",
     "text": [
      "\n",
      "bestTest = 0.6283902267\n",
      "bestIteration = 51\n",
      "\n",
      "Training on fold [1/5]\n",
      "\n",
      "bestTest = 0.6054135718\n",
      "bestIteration = 197\n",
      "\n",
      "Training on fold [2/5]\n",
      "\n",
      "bestTest = 0.6161366268\n",
      "bestIteration = 123\n",
      "\n",
      "Training on fold [3/5]\n",
      "\n",
      "bestTest = 0.6175534694\n",
      "bestIteration = 157\n",
      "\n",
      "Training on fold [4/5]\n"
     ]
    },
    {
     "name": "stderr",
     "output_type": "stream",
     "text": [
      "\u001b[32m[I 2022-08-25 15:06:10,266]\u001b[0m Trial 26 finished with value: 0.7157142474886073 and parameters: {'iterations': 200, 'learning_rate': 0.125902758901557, 'random_strength': 7, 'bagging_temperature': 5, 'max_bin': 20, 'grow_policy': 'SymmetricTree', 'min_data_in_leaf': 1, 'max_depth': 2, 'l2_leaf_reg': 4.4242055364500485e-07, 'one_hot_max_size': 5, 'auto_class_weights': 'Balanced'}. Best is trial 23 with value: 0.7220458135106365.\u001b[0m\n"
     ]
    },
    {
     "name": "stdout",
     "output_type": "stream",
     "text": [
      "\n",
      "bestTest = 0.6209541158\n",
      "bestIteration = 103\n",
      "\n",
      "Training on fold [0/5]\n"
     ]
    },
    {
     "name": "stderr",
     "output_type": "stream",
     "text": [
      "C:\\Users\\jvrdo\\anaconda3\\lib\\site-packages\\optuna\\distributions.py:560: UserWarning: The distribution is specified by [1, 10] and step=20, but the range is not divisible by `step`. It will be replaced by [1, 1].\n",
      "  warnings.warn(\n",
      "C:\\Users\\jvrdo\\anaconda3\\lib\\site-packages\\optuna\\distributions.py:560: UserWarning: The distribution is specified by [2, 10] and step=15, but the range is not divisible by `step`. It will be replaced by [2, 2].\n",
      "  warnings.warn(\n"
     ]
    },
    {
     "name": "stdout",
     "output_type": "stream",
     "text": [
      "\n",
      "bestTest = 0.6189885383\n",
      "bestIteration = 54\n",
      "\n",
      "Training on fold [1/5]\n",
      "\n",
      "bestTest = 0.6064517141\n",
      "bestIteration = 96\n",
      "\n",
      "Training on fold [2/5]\n",
      "\n",
      "bestTest = 0.6130688696\n",
      "bestIteration = 134\n",
      "\n",
      "Training on fold [3/5]\n",
      "\n",
      "bestTest = 0.6175667216\n",
      "bestIteration = 81\n",
      "\n",
      "Training on fold [4/5]\n"
     ]
    },
    {
     "name": "stderr",
     "output_type": "stream",
     "text": [
      "\u001b[32m[I 2022-08-25 15:06:15,467]\u001b[0m Trial 27 finished with value: 0.7180208777764499 and parameters: {'iterations': 200, 'learning_rate': 0.26322302423191424, 'random_strength': 9, 'bagging_temperature': 4, 'max_bin': 20, 'grow_policy': 'SymmetricTree', 'min_data_in_leaf': 1, 'max_depth': 2, 'l2_leaf_reg': 1.553437273878652e-05, 'one_hot_max_size': 10, 'auto_class_weights': 'Balanced'}. Best is trial 23 with value: 0.7220458135106365.\u001b[0m\n"
     ]
    },
    {
     "name": "stdout",
     "output_type": "stream",
     "text": [
      "\n",
      "bestTest = 0.6193279527\n",
      "bestIteration = 87\n",
      "\n",
      "Training on fold [0/5]\n",
      "\n",
      "bestTest = 0.6205478387\n",
      "bestIteration = 57\n",
      "\n",
      "Training on fold [1/5]\n"
     ]
    },
    {
     "name": "stderr",
     "output_type": "stream",
     "text": [
      "C:\\Users\\jvrdo\\anaconda3\\lib\\site-packages\\optuna\\distributions.py:560: UserWarning: The distribution is specified by [1, 10] and step=20, but the range is not divisible by `step`. It will be replaced by [1, 1].\n",
      "  warnings.warn(\n",
      "C:\\Users\\jvrdo\\anaconda3\\lib\\site-packages\\optuna\\distributions.py:560: UserWarning: The distribution is specified by [2, 10] and step=15, but the range is not divisible by `step`. It will be replaced by [2, 2].\n",
      "  warnings.warn(\n"
     ]
    },
    {
     "name": "stdout",
     "output_type": "stream",
     "text": [
      "\n",
      "bestTest = 0.605874445\n",
      "bestIteration = 93\n",
      "\n",
      "Training on fold [2/5]\n",
      "\n",
      "bestTest = 0.6089363974\n",
      "bestIteration = 134\n",
      "\n",
      "Training on fold [3/5]\n",
      "\n",
      "bestTest = 0.6147701829\n",
      "bestIteration = 112\n",
      "\n"
     ]
    },
    {
     "name": "stderr",
     "output_type": "stream",
     "text": [
      "\u001b[32m[I 2022-08-25 15:06:16,359]\u001b[0m Trial 28 finished with value: 0.7199873947643441 and parameters: {'iterations': 1000, 'learning_rate': 0.21597241643033235, 'random_strength': 7, 'bagging_temperature': 6, 'max_bin': 20, 'grow_policy': 'SymmetricTree', 'min_data_in_leaf': 1, 'max_depth': 2, 'l2_leaf_reg': 5.605926172015728e-07, 'one_hot_max_size': 500, 'auto_class_weights': 'Balanced'}. Best is trial 23 with value: 0.7220458135106365.\u001b[0m\n"
     ]
    },
    {
     "name": "stdout",
     "output_type": "stream",
     "text": [
      "Training on fold [4/5]\n",
      "\n",
      "bestTest = 0.6172509296\n",
      "bestIteration = 74\n",
      "\n",
      "Training on fold [0/5]\n"
     ]
    },
    {
     "name": "stderr",
     "output_type": "stream",
     "text": [
      "C:\\Users\\jvrdo\\anaconda3\\lib\\site-packages\\optuna\\distributions.py:560: UserWarning: The distribution is specified by [1, 10] and step=20, but the range is not divisible by `step`. It will be replaced by [1, 1].\n",
      "  warnings.warn(\n",
      "C:\\Users\\jvrdo\\anaconda3\\lib\\site-packages\\optuna\\distributions.py:560: UserWarning: The distribution is specified by [2, 10] and step=15, but the range is not divisible by `step`. It will be replaced by [2, 2].\n",
      "  warnings.warn(\n"
     ]
    },
    {
     "name": "stdout",
     "output_type": "stream",
     "text": [
      "\n",
      "bestTest = 0.6229540127\n",
      "bestIteration = 80\n",
      "\n",
      "Training on fold [1/5]\n",
      "\n",
      "bestTest = 0.6022384124\n",
      "bestIteration = 190\n",
      "\n",
      "Training on fold [2/5]\n",
      "\n",
      "bestTest = 0.615093652\n",
      "bestIteration = 91\n",
      "\n",
      "Training on fold [3/5]\n",
      "\n",
      "bestTest = 0.6165049241\n",
      "bestIteration = 117\n",
      "\n",
      "Training on fold [4/5]\n"
     ]
    },
    {
     "name": "stderr",
     "output_type": "stream",
     "text": [
      "\u001b[32m[I 2022-08-25 15:06:17,487]\u001b[0m Trial 29 finished with value: 0.7169568222690182 and parameters: {'iterations': 500, 'learning_rate': 0.1672562435458063, 'random_strength': 9, 'bagging_temperature': 8, 'max_bin': 20, 'grow_policy': 'Depthwise', 'min_data_in_leaf': 1, 'max_depth': 2, 'l2_leaf_reg': 9.253357408565145e-06, 'one_hot_max_size': 500, 'auto_class_weights': 'Balanced'}. Best is trial 23 with value: 0.7220458135106365.\u001b[0m\n"
     ]
    },
    {
     "name": "stdout",
     "output_type": "stream",
     "text": [
      "\n",
      "bestTest = 0.6179231076\n",
      "bestIteration = 136\n",
      "\n",
      "Training on fold [0/5]\n",
      "\n",
      "bestTest = 0.6182409192\n"
     ]
    },
    {
     "name": "stderr",
     "output_type": "stream",
     "text": [
      "C:\\Users\\jvrdo\\anaconda3\\lib\\site-packages\\optuna\\distributions.py:560: UserWarning: The distribution is specified by [1, 10] and step=20, but the range is not divisible by `step`. It will be replaced by [1, 1].\n",
      "  warnings.warn(\n",
      "C:\\Users\\jvrdo\\anaconda3\\lib\\site-packages\\optuna\\distributions.py:560: UserWarning: The distribution is specified by [2, 10] and step=15, but the range is not divisible by `step`. It will be replaced by [2, 2].\n",
      "  warnings.warn(\n"
     ]
    },
    {
     "name": "stdout",
     "output_type": "stream",
     "text": [
      "bestIteration = 87\n",
      "\n",
      "Training on fold [1/5]\n",
      "\n",
      "bestTest = 0.6051774242\n",
      "bestIteration = 109\n",
      "\n",
      "Training on fold [2/5]\n",
      "\n",
      "bestTest = 0.6142806042\n",
      "bestIteration = 76\n",
      "\n",
      "Training on fold [3/5]\n"
     ]
    },
    {
     "name": "stderr",
     "output_type": "stream",
     "text": [
      "\u001b[32m[I 2022-08-25 15:06:18,291]\u001b[0m Trial 30 finished with value: 0.7180349760491649 and parameters: {'iterations': 1200, 'learning_rate': 0.20932018063531974, 'random_strength': 8, 'bagging_temperature': 9, 'max_bin': 20, 'grow_policy': 'SymmetricTree', 'min_data_in_leaf': 1, 'max_depth': 2, 'l2_leaf_reg': 2.1346123938994824e-07, 'one_hot_max_size': 100, 'auto_class_weights': 'Balanced'}. Best is trial 23 with value: 0.7220458135106365.\u001b[0m\n"
     ]
    },
    {
     "name": "stdout",
     "output_type": "stream",
     "text": [
      "\n",
      "bestTest = 0.6173520485\n",
      "bestIteration = 80\n",
      "\n",
      "Training on fold [4/5]\n",
      "\n",
      "bestTest = 0.6199637225\n",
      "bestIteration = 66\n",
      "\n",
      "Training on fold [0/5]\n"
     ]
    },
    {
     "name": "stderr",
     "output_type": "stream",
     "text": [
      "C:\\Users\\jvrdo\\anaconda3\\lib\\site-packages\\optuna\\distributions.py:560: UserWarning: The distribution is specified by [1, 10] and step=20, but the range is not divisible by `step`. It will be replaced by [1, 1].\n",
      "  warnings.warn(\n",
      "C:\\Users\\jvrdo\\anaconda3\\lib\\site-packages\\optuna\\distributions.py:560: UserWarning: The distribution is specified by [2, 10] and step=15, but the range is not divisible by `step`. It will be replaced by [2, 2].\n",
      "  warnings.warn(\n"
     ]
    },
    {
     "name": "stdout",
     "output_type": "stream",
     "text": [
      "\n",
      "bestTest = 0.6229587579\n",
      "bestIteration = 128\n",
      "\n",
      "Training on fold [1/5]\n",
      "\n",
      "bestTest = 0.6039838078\n",
      "bestIteration = 209\n",
      "\n",
      "Training on fold [2/5]\n",
      "\n",
      "bestTest = 0.6148863299\n",
      "bestIteration = 157\n",
      "\n",
      "Training on fold [3/5]\n",
      "\n",
      "bestTest = 0.6152767804\n",
      "bestIteration = 194\n",
      "\n",
      "Training on fold [4/5]\n"
     ]
    },
    {
     "name": "stderr",
     "output_type": "stream",
     "text": [
      "\u001b[32m[I 2022-08-25 15:06:19,862]\u001b[0m Trial 31 finished with value: 0.7186693177848789 and parameters: {'iterations': 1500, 'learning_rate': 0.0952909684875763, 'random_strength': 6, 'bagging_temperature': 3, 'max_bin': 10, 'grow_policy': 'SymmetricTree', 'min_data_in_leaf': 1, 'max_depth': 2, 'l2_leaf_reg': 2.73014003818662e-06, 'one_hot_max_size': 100, 'auto_class_weights': 'Balanced'}. Best is trial 23 with value: 0.7220458135106365.\u001b[0m\n"
     ]
    },
    {
     "name": "stdout",
     "output_type": "stream",
     "text": [
      "\n",
      "bestTest = 0.6167162304\n",
      "bestIteration = 178\n",
      "\n",
      "Training on fold [0/5]\n"
     ]
    },
    {
     "name": "stderr",
     "output_type": "stream",
     "text": [
      "C:\\Users\\jvrdo\\anaconda3\\lib\\site-packages\\optuna\\distributions.py:560: UserWarning: The distribution is specified by [1, 10] and step=20, but the range is not divisible by `step`. It will be replaced by [1, 1].\n",
      "  warnings.warn(\n",
      "C:\\Users\\jvrdo\\anaconda3\\lib\\site-packages\\optuna\\distributions.py:560: UserWarning: The distribution is specified by [2, 10] and step=15, but the range is not divisible by `step`. It will be replaced by [2, 2].\n",
      "  warnings.warn(\n"
     ]
    },
    {
     "name": "stdout",
     "output_type": "stream",
     "text": [
      "\n",
      "bestTest = 0.6190310603\n",
      "bestIteration = 121\n",
      "\n",
      "Training on fold [1/5]\n",
      "\n",
      "bestTest = 0.6007753471\n",
      "bestIteration = 182\n",
      "\n",
      "Training on fold [2/5]\n",
      "\n",
      "bestTest = 0.6135485412\n",
      "bestIteration = 111\n",
      "\n",
      "Training on fold [3/5]\n",
      "\n",
      "bestTest = 0.6154508938\n",
      "bestIteration = 150\n",
      "\n",
      "Training on fold [4/5]\n"
     ]
    },
    {
     "name": "stderr",
     "output_type": "stream",
     "text": [
      "\u001b[32m[I 2022-08-25 15:06:21,205]\u001b[0m Trial 32 finished with value: 0.7203315030291735 and parameters: {'iterations': 300, 'learning_rate': 0.135912044475973, 'random_strength': 5, 'bagging_temperature': 1, 'max_bin': 20, 'grow_policy': 'Lossguide', 'min_data_in_leaf': 1, 'max_depth': 2, 'l2_leaf_reg': 2.7778146262018323e-05, 'one_hot_max_size': 100, 'auto_class_weights': 'Balanced'}. Best is trial 23 with value: 0.7220458135106365.\u001b[0m\n"
     ]
    },
    {
     "name": "stdout",
     "output_type": "stream",
     "text": [
      "\n",
      "bestTest = 0.615324807\n",
      "bestIteration = 132\n",
      "\n",
      "Training on fold [0/5]\n"
     ]
    },
    {
     "name": "stderr",
     "output_type": "stream",
     "text": [
      "C:\\Users\\jvrdo\\anaconda3\\lib\\site-packages\\optuna\\distributions.py:560: UserWarning: The distribution is specified by [1, 10] and step=20, but the range is not divisible by `step`. It will be replaced by [1, 1].\n",
      "  warnings.warn(\n",
      "C:\\Users\\jvrdo\\anaconda3\\lib\\site-packages\\optuna\\distributions.py:560: UserWarning: The distribution is specified by [2, 10] and step=15, but the range is not divisible by `step`. It will be replaced by [2, 2].\n",
      "  warnings.warn(\n"
     ]
    },
    {
     "name": "stdout",
     "output_type": "stream",
     "text": [
      "\n",
      "bestTest = 0.6104017457\n",
      "bestIteration = 156\n",
      "\n",
      "Training on fold [1/5]\n",
      "\n",
      "bestTest = 0.5955679756\n",
      "bestIteration = 197\n",
      "\n",
      "Training on fold [2/5]\n",
      "\n",
      "bestTest = 0.6052263064\n",
      "bestIteration = 198\n",
      "\n",
      "Training on fold [3/5]\n",
      "\n",
      "bestTest = 0.606638962\n",
      "bestIteration = 198\n",
      "\n",
      "Training on fold [4/5]\n"
     ]
    },
    {
     "name": "stderr",
     "output_type": "stream",
     "text": [
      "\u001b[32m[I 2022-08-25 15:06:22,740]\u001b[0m Trial 33 finished with value: 0.718716076913762 and parameters: {'iterations': 200, 'learning_rate': 0.08886739877911005, 'random_strength': 7, 'bagging_temperature': 2, 'max_bin': 30, 'grow_policy': 'Depthwise', 'min_data_in_leaf': 1, 'max_depth': 2, 'l2_leaf_reg': 0.0002520913376016333, 'one_hot_max_size': 100, 'auto_class_weights': 'SqrtBalanced'}. Best is trial 23 with value: 0.7220458135106365.\u001b[0m\n"
     ]
    },
    {
     "name": "stdout",
     "output_type": "stream",
     "text": [
      "\n",
      "bestTest = 0.6101614716\n",
      "bestIteration = 132\n",
      "\n",
      "Training on fold [0/5]\n"
     ]
    },
    {
     "name": "stderr",
     "output_type": "stream",
     "text": [
      "C:\\Users\\jvrdo\\anaconda3\\lib\\site-packages\\optuna\\distributions.py:560: UserWarning: The distribution is specified by [1, 10] and step=20, but the range is not divisible by `step`. It will be replaced by [1, 1].\n",
      "  warnings.warn(\n",
      "C:\\Users\\jvrdo\\anaconda3\\lib\\site-packages\\optuna\\distributions.py:560: UserWarning: The distribution is specified by [2, 10] and step=15, but the range is not divisible by `step`. It will be replaced by [2, 2].\n",
      "  warnings.warn(\n"
     ]
    },
    {
     "name": "stdout",
     "output_type": "stream",
     "text": [
      "\n",
      "bestTest = 0.6186408827\n",
      "bestIteration = 291\n",
      "\n",
      "Training on fold [1/5]\n",
      "\n",
      "bestTest = 0.6042617546\n",
      "bestIteration = 444\n",
      "\n",
      "Training on fold [2/5]\n",
      "\n",
      "bestTest = 0.6198577796\n",
      "bestIteration = 188\n",
      "\n",
      "Training on fold [3/5]\n",
      "\n",
      "bestTest = 0.6123496575\n",
      "bestIteration = 453\n",
      "\n",
      "Training on fold [4/5]\n"
     ]
    },
    {
     "name": "stderr",
     "output_type": "stream",
     "text": [
      "\u001b[32m[I 2022-08-25 15:06:40,168]\u001b[0m Trial 34 finished with value: 0.7188209600956285 and parameters: {'iterations': 1500, 'learning_rate': 0.054565097816069635, 'random_strength': 8, 'bagging_temperature': 3, 'max_bin': 20, 'grow_policy': 'SymmetricTree', 'min_data_in_leaf': 1, 'max_depth': 2, 'l2_leaf_reg': 7.08329817011457e-08, 'one_hot_max_size': 12, 'auto_class_weights': 'Balanced'}. Best is trial 23 with value: 0.7220458135106365.\u001b[0m\n"
     ]
    },
    {
     "name": "stdout",
     "output_type": "stream",
     "text": [
      "\n",
      "bestTest = 0.6191677208\n",
      "bestIteration = 307\n",
      "\n",
      "Training on fold [0/5]\n"
     ]
    },
    {
     "name": "stderr",
     "output_type": "stream",
     "text": [
      "C:\\Users\\jvrdo\\anaconda3\\lib\\site-packages\\optuna\\distributions.py:560: UserWarning: The distribution is specified by [1, 10] and step=20, but the range is not divisible by `step`. It will be replaced by [1, 1].\n",
      "  warnings.warn(\n",
      "C:\\Users\\jvrdo\\anaconda3\\lib\\site-packages\\optuna\\distributions.py:560: UserWarning: The distribution is specified by [2, 10] and step=15, but the range is not divisible by `step`. It will be replaced by [2, 2].\n",
      "  warnings.warn(\n"
     ]
    },
    {
     "name": "stdout",
     "output_type": "stream",
     "text": [
      "\n",
      "bestTest = 0.610750577\n",
      "bestIteration = 187\n",
      "\n",
      "Training on fold [1/5]\n",
      "\n",
      "bestTest = 0.5991189302\n",
      "bestIteration = 199\n",
      "\n",
      "Training on fold [2/5]\n",
      "\n",
      "bestTest = 0.6067409566\n",
      "bestIteration = 198\n",
      "\n",
      "Training on fold [3/5]\n",
      "\n",
      "bestTest = 0.6089388224\n",
      "bestIteration = 199\n",
      "\n",
      "Training on fold [4/5]\n"
     ]
    },
    {
     "name": "stderr",
     "output_type": "stream",
     "text": [
      "\u001b[32m[I 2022-08-25 15:06:41,886]\u001b[0m Trial 35 finished with value: 0.7187981655122251 and parameters: {'iterations': 200, 'learning_rate': 0.06000649018192929, 'random_strength': 3, 'bagging_temperature': 2, 'max_bin': 10, 'grow_policy': 'Lossguide', 'min_data_in_leaf': 1, 'max_depth': 2, 'l2_leaf_reg': 0.0025862528733863483, 'one_hot_max_size': 100, 'auto_class_weights': 'SqrtBalanced'}. Best is trial 23 with value: 0.7220458135106365.\u001b[0m\n"
     ]
    },
    {
     "name": "stdout",
     "output_type": "stream",
     "text": [
      "\n",
      "bestTest = 0.608242251\n",
      "bestIteration = 182\n",
      "\n",
      "Training on fold [0/5]\n"
     ]
    },
    {
     "name": "stderr",
     "output_type": "stream",
     "text": [
      "C:\\Users\\jvrdo\\anaconda3\\lib\\site-packages\\optuna\\distributions.py:560: UserWarning: The distribution is specified by [1, 10] and step=20, but the range is not divisible by `step`. It will be replaced by [1, 1].\n",
      "  warnings.warn(\n",
      "C:\\Users\\jvrdo\\anaconda3\\lib\\site-packages\\optuna\\distributions.py:560: UserWarning: The distribution is specified by [2, 10] and step=15, but the range is not divisible by `step`. It will be replaced by [2, 2].\n",
      "  warnings.warn(\n"
     ]
    },
    {
     "name": "stdout",
     "output_type": "stream",
     "text": [
      "\n",
      "bestTest = 0.6222655095\n",
      "bestIteration = 156\n",
      "\n",
      "Training on fold [1/5]\n",
      "\n",
      "bestTest = 0.606273737\n",
      "bestIteration = 230\n",
      "\n",
      "Training on fold [2/5]\n",
      "\n",
      "bestTest = 0.6196224521\n",
      "bestIteration = 178\n",
      "\n",
      "Training on fold [3/5]\n",
      "\n",
      "bestTest = 0.6209306816\n",
      "bestIteration = 160\n",
      "\n",
      "Training on fold [4/5]\n"
     ]
    },
    {
     "name": "stderr",
     "output_type": "stream",
     "text": [
      "\u001b[32m[I 2022-08-25 15:06:50,300]\u001b[0m Trial 36 finished with value: 0.7135307388280078 and parameters: {'iterations': 1200, 'learning_rate': 0.10696121327644253, 'random_strength': 6, 'bagging_temperature': 5, 'max_bin': 4, 'grow_policy': 'SymmetricTree', 'min_data_in_leaf': 1, 'max_depth': 2, 'l2_leaf_reg': 4.052251182082311e-08, 'one_hot_max_size': 10, 'auto_class_weights': 'Balanced'}. Best is trial 23 with value: 0.7220458135106365.\u001b[0m\n"
     ]
    },
    {
     "name": "stdout",
     "output_type": "stream",
     "text": [
      "\n",
      "bestTest = 0.6248055295\n",
      "bestIteration = 65\n",
      "\n",
      "Training on fold [0/5]\n"
     ]
    },
    {
     "name": "stderr",
     "output_type": "stream",
     "text": [
      "C:\\Users\\jvrdo\\anaconda3\\lib\\site-packages\\optuna\\distributions.py:560: UserWarning: The distribution is specified by [1, 10] and step=20, but the range is not divisible by `step`. It will be replaced by [1, 1].\n",
      "  warnings.warn(\n",
      "C:\\Users\\jvrdo\\anaconda3\\lib\\site-packages\\optuna\\distributions.py:560: UserWarning: The distribution is specified by [2, 10] and step=15, but the range is not divisible by `step`. It will be replaced by [2, 2].\n",
      "  warnings.warn(\n"
     ]
    },
    {
     "name": "stdout",
     "output_type": "stream",
     "text": [
      "\n",
      "bestTest = 0.6120914702\n",
      "bestIteration = 111\n",
      "\n",
      "Training on fold [1/5]\n",
      "\n",
      "bestTest = 0.5977151283\n",
      "bestIteration = 132\n",
      "\n",
      "Training on fold [2/5]\n",
      "\n",
      "bestTest = 0.6074633435\n",
      "bestIteration = 111\n",
      "\n",
      "Training on fold [3/5]\n",
      "\n",
      "bestTest = 0.6101549207\n",
      "bestIteration = 114\n",
      "\n",
      "Training on fold [4/5]\n"
     ]
    },
    {
     "name": "stderr",
     "output_type": "stream",
     "text": [
      "\u001b[32m[I 2022-08-25 15:06:58,682]\u001b[0m Trial 37 finished with value: 0.7164252770310089 and parameters: {'iterations': 300, 'learning_rate': 0.14117442238674857, 'random_strength': 7, 'bagging_temperature': 1, 'max_bin': 10, 'grow_policy': 'Lossguide', 'min_data_in_leaf': 1, 'max_depth': 2, 'l2_leaf_reg': 0.04598194406053206, 'one_hot_max_size': 12, 'auto_class_weights': 'SqrtBalanced'}. Best is trial 23 with value: 0.7220458135106365.\u001b[0m\n"
     ]
    },
    {
     "name": "stdout",
     "output_type": "stream",
     "text": [
      "\n",
      "bestTest = 0.6119521701\n",
      "bestIteration = 103\n",
      "\n",
      "Training on fold [0/5]\n"
     ]
    },
    {
     "name": "stderr",
     "output_type": "stream",
     "text": [
      "C:\\Users\\jvrdo\\anaconda3\\lib\\site-packages\\optuna\\distributions.py:560: UserWarning: The distribution is specified by [1, 10] and step=20, but the range is not divisible by `step`. It will be replaced by [1, 1].\n",
      "  warnings.warn(\n",
      "C:\\Users\\jvrdo\\anaconda3\\lib\\site-packages\\optuna\\distributions.py:560: UserWarning: The distribution is specified by [2, 10] and step=15, but the range is not divisible by `step`. It will be replaced by [2, 2].\n",
      "  warnings.warn(\n"
     ]
    },
    {
     "name": "stdout",
     "output_type": "stream",
     "text": [
      "\n",
      "bestTest = 0.6226631262\n",
      "bestIteration = 490\n",
      "\n",
      "Training on fold [1/5]\n",
      "\n",
      "bestTest = 0.6096928408\n",
      "bestIteration = 660\n",
      "\n",
      "Training on fold [2/5]\n",
      "\n",
      "bestTest = 0.6183565466\n",
      "bestIteration = 529\n",
      "\n",
      "Training on fold [3/5]\n",
      "\n",
      "bestTest = 0.6214461505\n",
      "bestIteration = 531\n",
      "\n",
      "Training on fold [4/5]\n"
     ]
    },
    {
     "name": "stderr",
     "output_type": "stream",
     "text": [
      "\u001b[32m[I 2022-08-25 15:07:25,364]\u001b[0m Trial 38 finished with value: 0.7138664116554487 and parameters: {'iterations': 1500, 'learning_rate': 0.028315734859821556, 'random_strength': 9, 'bagging_temperature': 4, 'max_bin': 5, 'grow_policy': 'Depthwise', 'min_data_in_leaf': 1, 'max_depth': 2, 'l2_leaf_reg': 1.3153557693339244e-06, 'one_hot_max_size': 5, 'auto_class_weights': 'Balanced'}. Best is trial 23 with value: 0.7220458135106365.\u001b[0m\n"
     ]
    },
    {
     "name": "stdout",
     "output_type": "stream",
     "text": [
      "\n",
      "bestTest = 0.6226145963\n",
      "bestIteration = 480\n",
      "\n",
      "Training on fold [0/5]\n"
     ]
    },
    {
     "name": "stderr",
     "output_type": "stream",
     "text": [
      "C:\\Users\\jvrdo\\anaconda3\\lib\\site-packages\\optuna\\distributions.py:560: UserWarning: The distribution is specified by [1, 10] and step=20, but the range is not divisible by `step`. It will be replaced by [1, 1].\n",
      "  warnings.warn(\n",
      "C:\\Users\\jvrdo\\anaconda3\\lib\\site-packages\\optuna\\distributions.py:560: UserWarning: The distribution is specified by [2, 10] and step=15, but the range is not divisible by `step`. It will be replaced by [2, 2].\n",
      "  warnings.warn(\n"
     ]
    },
    {
     "name": "stdout",
     "output_type": "stream",
     "text": [
      "\n",
      "bestTest = 0.6159879799\n",
      "bestIteration = 99\n",
      "\n",
      "Training on fold [1/5]\n",
      "\n",
      "bestTest = 0.6059566862\n",
      "bestIteration = 99\n",
      "\n",
      "Training on fold [2/5]\n",
      "\n",
      "bestTest = 0.6140265583\n",
      "bestIteration = 99\n",
      "\n",
      "Training on fold [3/5]\n",
      "\n",
      "bestTest = 0.6167496572\n",
      "bestIteration = 98\n",
      "\n",
      "Training on fold [4/5]\n"
     ]
    },
    {
     "name": "stderr",
     "output_type": "stream",
     "text": [
      "\u001b[32m[I 2022-08-25 15:07:26,231]\u001b[0m Trial 39 finished with value: 0.7111544423216488 and parameters: {'iterations': 100, 'learning_rate': 0.07543163565339313, 'random_strength': 2, 'bagging_temperature': 0, 'max_bin': 6, 'grow_policy': 'SymmetricTree', 'min_data_in_leaf': 1, 'max_depth': 2, 'l2_leaf_reg': 0.0006197641080588051, 'one_hot_max_size': 100, 'auto_class_weights': 'SqrtBalanced'}. Best is trial 23 with value: 0.7220458135106365.\u001b[0m\n"
     ]
    },
    {
     "name": "stdout",
     "output_type": "stream",
     "text": [
      "\n",
      "bestTest = 0.6127402672\n",
      "bestIteration = 98\n",
      "\n",
      "Training on fold [0/5]\n",
      "\n",
      "bestTest = 0.6204015412\n",
      "bestIteration = 49\n",
      "\n",
      "Training on fold [1/5]\n"
     ]
    },
    {
     "name": "stderr",
     "output_type": "stream",
     "text": [
      "C:\\Users\\jvrdo\\anaconda3\\lib\\site-packages\\optuna\\distributions.py:560: UserWarning: The distribution is specified by [1, 10] and step=20, but the range is not divisible by `step`. It will be replaced by [1, 1].\n",
      "  warnings.warn(\n",
      "C:\\Users\\jvrdo\\anaconda3\\lib\\site-packages\\optuna\\distributions.py:560: UserWarning: The distribution is specified by [2, 10] and step=15, but the range is not divisible by `step`. It will be replaced by [2, 2].\n",
      "  warnings.warn(\n"
     ]
    },
    {
     "name": "stdout",
     "output_type": "stream",
     "text": [
      "\n",
      "bestTest = 0.6068633653\n",
      "bestIteration = 66\n",
      "\n",
      "Training on fold [2/5]\n",
      "\n",
      "bestTest = 0.6127623016\n",
      "bestIteration = 62\n",
      "\n",
      "Training on fold [3/5]\n",
      "\n",
      "bestTest = 0.6179691767\n",
      "bestIteration = 53\n",
      "\n",
      "Training on fold [4/5]\n"
     ]
    },
    {
     "name": "stderr",
     "output_type": "stream",
     "text": [
      "\u001b[32m[I 2022-08-25 15:07:27,005]\u001b[0m Trial 40 finished with value: 0.7181534907122464 and parameters: {'iterations': 1300, 'learning_rate': 0.2732868088303132, 'random_strength': 5, 'bagging_temperature': 3, 'max_bin': 30, 'grow_policy': 'Lossguide', 'min_data_in_leaf': 1, 'max_depth': 2, 'l2_leaf_reg': 3.602565029092028e-05, 'one_hot_max_size': 100, 'auto_class_weights': 'Balanced'}. Best is trial 23 with value: 0.7220458135106365.\u001b[0m\n"
     ]
    },
    {
     "name": "stdout",
     "output_type": "stream",
     "text": [
      "\n",
      "bestTest = 0.6162790355\n",
      "bestIteration = 100\n",
      "\n",
      "Training on fold [0/5]\n"
     ]
    },
    {
     "name": "stderr",
     "output_type": "stream",
     "text": [
      "C:\\Users\\jvrdo\\anaconda3\\lib\\site-packages\\optuna\\distributions.py:560: UserWarning: The distribution is specified by [1, 10] and step=20, but the range is not divisible by `step`. It will be replaced by [1, 1].\n",
      "  warnings.warn(\n",
      "C:\\Users\\jvrdo\\anaconda3\\lib\\site-packages\\optuna\\distributions.py:560: UserWarning: The distribution is specified by [2, 10] and step=15, but the range is not divisible by `step`. It will be replaced by [2, 2].\n",
      "  warnings.warn(\n"
     ]
    },
    {
     "name": "stdout",
     "output_type": "stream",
     "text": [
      "\n",
      "bestTest = 0.6196448108\n",
      "bestIteration = 97\n",
      "\n",
      "Training on fold [1/5]\n",
      "\n",
      "bestTest = 0.6021930997\n",
      "bestIteration = 197\n",
      "\n",
      "Training on fold [2/5]\n",
      "\n",
      "bestTest = 0.6115666002\n",
      "bestIteration = 158\n",
      "\n",
      "Training on fold [3/5]\n",
      "\n",
      "bestTest = 0.6150809893\n",
      "bestIteration = 130\n",
      "\n",
      "Training on fold [4/5]\n",
      "\n"
     ]
    },
    {
     "name": "stderr",
     "output_type": "stream",
     "text": [
      "\u001b[32m[I 2022-08-25 15:07:28,290]\u001b[0m Trial 41 finished with value: 0.7187891453808086 and parameters: {'iterations': 300, 'learning_rate': 0.1383131454438664, 'random_strength': 3, 'bagging_temperature': 1, 'max_bin': 20, 'grow_policy': 'Lossguide', 'min_data_in_leaf': 1, 'max_depth': 2, 'l2_leaf_reg': 3.6417985505147005e-05, 'one_hot_max_size': 100, 'auto_class_weights': 'Balanced'}. Best is trial 23 with value: 0.7220458135106365.\u001b[0m\n"
     ]
    },
    {
     "name": "stdout",
     "output_type": "stream",
     "text": [
      "bestTest = 0.6193561867\n",
      "bestIteration = 86\n",
      "\n",
      "Training on fold [0/5]\n",
      "\n",
      "bestTest = 0.6184262023\n",
      "bestIteration = 67\n",
      "\n",
      "Training on fold [1/5]\n"
     ]
    },
    {
     "name": "stderr",
     "output_type": "stream",
     "text": [
      "C:\\Users\\jvrdo\\anaconda3\\lib\\site-packages\\optuna\\distributions.py:560: UserWarning: The distribution is specified by [1, 10] and step=20, but the range is not divisible by `step`. It will be replaced by [1, 1].\n",
      "  warnings.warn(\n",
      "C:\\Users\\jvrdo\\anaconda3\\lib\\site-packages\\optuna\\distributions.py:560: UserWarning: The distribution is specified by [2, 10] and step=15, but the range is not divisible by `step`. It will be replaced by [2, 2].\n",
      "  warnings.warn(\n"
     ]
    },
    {
     "name": "stdout",
     "output_type": "stream",
     "text": [
      "\n",
      "bestTest = 0.604793699\n",
      "bestIteration = 110\n",
      "\n",
      "Training on fold [2/5]\n",
      "\n",
      "bestTest = 0.6091213845\n",
      "bestIteration = 153\n",
      "\n",
      "Training on fold [3/5]\n",
      "\n",
      "bestTest = 0.6166056467\n",
      "bestIteration = 122\n",
      "\n",
      "Training on fold [4/5]\n"
     ]
    },
    {
     "name": "stderr",
     "output_type": "stream",
     "text": [
      "\u001b[32m[I 2022-08-25 15:07:29,423]\u001b[0m Trial 42 finished with value: 0.7205493762088114 and parameters: {'iterations': 300, 'learning_rate': 0.12534455519928545, 'random_strength': 1, 'bagging_temperature': 2, 'max_bin': 20, 'grow_policy': 'Lossguide', 'min_data_in_leaf': 1, 'max_depth': 2, 'l2_leaf_reg': 6.442574976032874e-06, 'one_hot_max_size': 100, 'auto_class_weights': 'Balanced'}. Best is trial 23 with value: 0.7220458135106365.\u001b[0m\n"
     ]
    },
    {
     "name": "stdout",
     "output_type": "stream",
     "text": [
      "\n",
      "bestTest = 0.6151657891\n",
      "bestIteration = 105\n",
      "\n",
      "Training on fold [0/5]\n"
     ]
    },
    {
     "name": "stderr",
     "output_type": "stream",
     "text": [
      "C:\\Users\\jvrdo\\anaconda3\\lib\\site-packages\\optuna\\distributions.py:560: UserWarning: The distribution is specified by [1, 10] and step=20, but the range is not divisible by `step`. It will be replaced by [1, 1].\n",
      "  warnings.warn(\n",
      "C:\\Users\\jvrdo\\anaconda3\\lib\\site-packages\\optuna\\distributions.py:560: UserWarning: The distribution is specified by [2, 10] and step=15, but the range is not divisible by `step`. It will be replaced by [2, 2].\n",
      "  warnings.warn(\n"
     ]
    },
    {
     "name": "stdout",
     "output_type": "stream",
     "text": [
      "\n",
      "bestTest = 0.6175151664\n",
      "bestIteration = 150\n",
      "\n",
      "Training on fold [1/5]\n",
      "\n",
      "bestTest = 0.602963936\n",
      "bestIteration = 259\n",
      "\n",
      "Training on fold [2/5]\n",
      "\n",
      "bestTest = 0.6127682778\n",
      "bestIteration = 156\n",
      "\n",
      "Training on fold [3/5]\n",
      "\n",
      "bestTest = 0.6158764681\n",
      "bestIteration = 141\n",
      "\n",
      "Training on fold [4/5]\n"
     ]
    },
    {
     "name": "stderr",
     "output_type": "stream",
     "text": [
      "\u001b[32m[I 2022-08-25 15:07:30,974]\u001b[0m Trial 43 finished with value: 0.7196232987725797 and parameters: {'iterations': 300, 'learning_rate': 0.07068715635507385, 'random_strength': 1, 'bagging_temperature': 3, 'max_bin': 20, 'grow_policy': 'Lossguide', 'min_data_in_leaf': 1, 'max_depth': 2, 'l2_leaf_reg': 7.129476723966923e-06, 'one_hot_max_size': 100, 'auto_class_weights': 'Balanced'}. Best is trial 23 with value: 0.7220458135106365.\u001b[0m\n"
     ]
    },
    {
     "name": "stdout",
     "output_type": "stream",
     "text": [
      "\n",
      "bestTest = 0.6208676073\n",
      "bestIteration = 116\n",
      "\n",
      "Training on fold [0/5]\n",
      "\n",
      "bestTest = 0.6186573237\n",
      "bestIteration = 62\n",
      "\n",
      "Training on fold [1/5]\n"
     ]
    },
    {
     "name": "stderr",
     "output_type": "stream",
     "text": [
      "C:\\Users\\jvrdo\\anaconda3\\lib\\site-packages\\optuna\\distributions.py:560: UserWarning: The distribution is specified by [1, 10] and step=20, but the range is not divisible by `step`. It will be replaced by [1, 1].\n",
      "  warnings.warn(\n",
      "C:\\Users\\jvrdo\\anaconda3\\lib\\site-packages\\optuna\\distributions.py:560: UserWarning: The distribution is specified by [2, 10] and step=15, but the range is not divisible by `step`. It will be replaced by [2, 2].\n",
      "  warnings.warn(\n"
     ]
    },
    {
     "name": "stdout",
     "output_type": "stream",
     "text": [
      "\n",
      "bestTest = 0.6060111443\n",
      "bestIteration = 120\n",
      "\n",
      "Training on fold [2/5]\n",
      "\n",
      "bestTest = 0.6113985922\n",
      "bestIteration = 131\n",
      "\n",
      "Training on fold [3/5]\n",
      "\n",
      "bestTest = 0.6193111692\n",
      "bestIteration = 83\n",
      "\n",
      "Training on fold [4/5]\n"
     ]
    },
    {
     "name": "stderr",
     "output_type": "stream",
     "text": [
      "\u001b[32m[I 2022-08-25 15:07:31,976]\u001b[0m Trial 44 finished with value: 0.7179591738866178 and parameters: {'iterations': 300, 'learning_rate': 0.1219963829929096, 'random_strength': 1, 'bagging_temperature': 2, 'max_bin': 20, 'grow_policy': 'Lossguide', 'min_data_in_leaf': 1, 'max_depth': 2, 'l2_leaf_reg': 2.1314145027629686e-07, 'one_hot_max_size': 1024, 'auto_class_weights': 'Balanced'}. Best is trial 23 with value: 0.7220458135106365.\u001b[0m\n"
     ]
    },
    {
     "name": "stdout",
     "output_type": "stream",
     "text": [
      "\n",
      "bestTest = 0.6195304358\n",
      "bestIteration = 86\n",
      "\n",
      "Training on fold [0/5]\n"
     ]
    },
    {
     "name": "stderr",
     "output_type": "stream",
     "text": [
      "C:\\Users\\jvrdo\\anaconda3\\lib\\site-packages\\optuna\\distributions.py:560: UserWarning: The distribution is specified by [1, 10] and step=20, but the range is not divisible by `step`. It will be replaced by [1, 1].\n",
      "  warnings.warn(\n",
      "C:\\Users\\jvrdo\\anaconda3\\lib\\site-packages\\optuna\\distributions.py:560: UserWarning: The distribution is specified by [2, 10] and step=15, but the range is not divisible by `step`. It will be replaced by [2, 2].\n",
      "  warnings.warn(\n"
     ]
    },
    {
     "name": "stdout",
     "output_type": "stream",
     "text": [
      "\n",
      "bestTest = 0.6200060152\n",
      "bestIteration = 99\n",
      "\n",
      "Training on fold [1/5]\n",
      "\n",
      "bestTest = 0.6065041778\n",
      "bestIteration = 94\n",
      "\n",
      "Training on fold [2/5]\n",
      "\n",
      "bestTest = 0.6143169414\n",
      "bestIteration = 99\n",
      "\n",
      "Training on fold [3/5]\n",
      "\n",
      "bestTest = 0.6158677361\n",
      "bestIteration = 99\n",
      "\n",
      "Training on fold [4/5]\n"
     ]
    },
    {
     "name": "stderr",
     "output_type": "stream",
     "text": [
      "\u001b[32m[I 2022-08-25 15:07:38,684]\u001b[0m Trial 45 finished with value: 0.7178846194830135 and parameters: {'iterations': 100, 'learning_rate': 0.1516444808024213, 'random_strength': 2, 'bagging_temperature': 9, 'max_bin': 20, 'grow_policy': 'Lossguide', 'min_data_in_leaf': 1, 'max_depth': 2, 'l2_leaf_reg': 0.0002426834108448411, 'one_hot_max_size': 10, 'auto_class_weights': 'Balanced'}. Best is trial 23 with value: 0.7220458135106365.\u001b[0m\n"
     ]
    },
    {
     "name": "stdout",
     "output_type": "stream",
     "text": [
      "\n",
      "bestTest = 0.6179661691\n",
      "bestIteration = 88\n",
      "\n",
      "Training on fold [0/5]\n",
      "\n",
      "bestTest = 0.6211269073\n",
      "bestIteration = 67\n",
      "\n",
      "Training on fold [1/5]\n"
     ]
    },
    {
     "name": "stderr",
     "output_type": "stream",
     "text": [
      "C:\\Users\\jvrdo\\anaconda3\\lib\\site-packages\\optuna\\distributions.py:560: UserWarning: The distribution is specified by [1, 10] and step=20, but the range is not divisible by `step`. It will be replaced by [1, 1].\n",
      "  warnings.warn(\n",
      "C:\\Users\\jvrdo\\anaconda3\\lib\\site-packages\\optuna\\distributions.py:560: UserWarning: The distribution is specified by [2, 10] and step=15, but the range is not divisible by `step`. It will be replaced by [2, 2].\n",
      "  warnings.warn(\n"
     ]
    },
    {
     "name": "stdout",
     "output_type": "stream",
     "text": [
      "\n",
      "bestTest = 0.6031670664\n",
      "bestIteration = 187\n",
      "\n",
      "Training on fold [2/5]\n",
      "\n",
      "bestTest = 0.6140152349\n",
      "bestIteration = 157\n",
      "\n",
      "Training on fold [3/5]\n",
      "\n",
      "bestTest = 0.6129563716\n",
      "bestIteration = 166\n",
      "\n",
      "Training on fold [4/5]\n"
     ]
    },
    {
     "name": "stderr",
     "output_type": "stream",
     "text": [
      "\u001b[32m[I 2022-08-25 15:07:40,030]\u001b[0m Trial 46 finished with value: 0.7203297529162354 and parameters: {'iterations': 700, 'learning_rate': 0.10384790938648972, 'random_strength': 1, 'bagging_temperature': 7, 'max_bin': 10, 'grow_policy': 'Lossguide', 'min_data_in_leaf': 1, 'max_depth': 2, 'l2_leaf_reg': 0.001690935483164808, 'one_hot_max_size': 100, 'auto_class_weights': 'Balanced'}. Best is trial 23 with value: 0.7220458135106365.\u001b[0m\n"
     ]
    },
    {
     "name": "stdout",
     "output_type": "stream",
     "text": [
      "\n",
      "bestTest = 0.6177156296\n",
      "bestIteration = 150\n",
      "\n",
      "Training on fold [0/5]\n"
     ]
    },
    {
     "name": "stderr",
     "output_type": "stream",
     "text": [
      "C:\\Users\\jvrdo\\anaconda3\\lib\\site-packages\\optuna\\distributions.py:560: UserWarning: The distribution is specified by [1, 10] and step=20, but the range is not divisible by `step`. It will be replaced by [1, 1].\n",
      "  warnings.warn(\n",
      "C:\\Users\\jvrdo\\anaconda3\\lib\\site-packages\\optuna\\distributions.py:560: UserWarning: The distribution is specified by [2, 10] and step=15, but the range is not divisible by `step`. It will be replaced by [2, 2].\n",
      "  warnings.warn(\n"
     ]
    },
    {
     "name": "stdout",
     "output_type": "stream",
     "text": [
      "\n",
      "bestTest = 0.6140104545\n",
      "bestIteration = 77\n",
      "\n",
      "Training on fold [1/5]\n",
      "\n",
      "bestTest = 0.6007759109\n",
      "bestIteration = 91\n",
      "\n",
      "Training on fold [2/5]\n",
      "\n",
      "bestTest = 0.6115792664\n",
      "bestIteration = 67\n",
      "\n",
      "Training on fold [3/5]\n",
      "\n",
      "bestTest = 0.6129998529\n",
      "bestIteration = 97\n",
      "\n",
      "Training on fold [4/5]\n"
     ]
    },
    {
     "name": "stderr",
     "output_type": "stream",
     "text": [
      "\u001b[32m[I 2022-08-25 15:07:45,068]\u001b[0m Trial 47 finished with value: 0.7143685214856053 and parameters: {'iterations': 1000, 'learning_rate': 0.1637451547185867, 'random_strength': 2, 'bagging_temperature': 4, 'max_bin': 6, 'grow_policy': 'SymmetricTree', 'min_data_in_leaf': 1, 'max_depth': 2, 'l2_leaf_reg': 0.0059570869513723285, 'one_hot_max_size': 5, 'auto_class_weights': 'SqrtBalanced'}. Best is trial 23 with value: 0.7220458135106365.\u001b[0m\n"
     ]
    },
    {
     "name": "stdout",
     "output_type": "stream",
     "text": [
      "\n",
      "bestTest = 0.610120608\n",
      "bestIteration = 98\n",
      "\n",
      "Training on fold [0/5]\n"
     ]
    },
    {
     "name": "stderr",
     "output_type": "stream",
     "text": [
      "C:\\Users\\jvrdo\\anaconda3\\lib\\site-packages\\optuna\\distributions.py:560: UserWarning: The distribution is specified by [1, 10] and step=20, but the range is not divisible by `step`. It will be replaced by [1, 1].\n",
      "  warnings.warn(\n",
      "C:\\Users\\jvrdo\\anaconda3\\lib\\site-packages\\optuna\\distributions.py:560: UserWarning: The distribution is specified by [2, 10] and step=15, but the range is not divisible by `step`. It will be replaced by [2, 2].\n",
      "  warnings.warn(\n"
     ]
    },
    {
     "name": "stdout",
     "output_type": "stream",
     "text": [
      "\n",
      "bestTest = 0.6179203644\n",
      "bestIteration = 84\n",
      "\n",
      "Training on fold [1/5]\n",
      "\n",
      "bestTest = 0.6072335955\n",
      "bestIteration = 74\n",
      "\n",
      "Training on fold [2/5]\n",
      "\n",
      "bestTest = 0.611953055\n",
      "bestIteration = 145\n",
      "\n",
      "Training on fold [3/5]\n",
      "\n",
      "bestTest = 0.6169004338\n",
      "bestIteration = 74\n",
      "\n",
      "Training on fold [4/5]\n"
     ]
    },
    {
     "name": "stderr",
     "output_type": "stream",
     "text": [
      "\u001b[32m[I 2022-08-25 15:07:51,691]\u001b[0m Trial 48 finished with value: 0.7166150958852049 and parameters: {'iterations': 200, 'learning_rate': 0.24757135067855032, 'random_strength': 8, 'bagging_temperature': 1, 'max_bin': 20, 'grow_policy': 'Lossguide', 'min_data_in_leaf': 1, 'max_depth': 2, 'l2_leaf_reg': 0.0451978942573358, 'one_hot_max_size': 12, 'auto_class_weights': 'Balanced'}. Best is trial 23 with value: 0.7220458135106365.\u001b[0m\n"
     ]
    },
    {
     "name": "stdout",
     "output_type": "stream",
     "text": [
      "\n",
      "bestTest = 0.6221429928\n",
      "bestIteration = 60\n",
      "\n",
      "Training on fold [0/5]\n"
     ]
    },
    {
     "name": "stderr",
     "output_type": "stream",
     "text": [
      "C:\\Users\\jvrdo\\anaconda3\\lib\\site-packages\\optuna\\distributions.py:560: UserWarning: The distribution is specified by [1, 10] and step=20, but the range is not divisible by `step`. It will be replaced by [1, 1].\n",
      "  warnings.warn(\n",
      "C:\\Users\\jvrdo\\anaconda3\\lib\\site-packages\\optuna\\distributions.py:560: UserWarning: The distribution is specified by [2, 10] and step=15, but the range is not divisible by `step`. It will be replaced by [2, 2].\n",
      "  warnings.warn(\n"
     ]
    },
    {
     "name": "stdout",
     "output_type": "stream",
     "text": [
      "\n",
      "bestTest = 0.6119925823\n",
      "bestIteration = 159\n",
      "\n",
      "Training on fold [1/5]\n",
      "\n",
      "bestTest = 0.6000667331\n",
      "bestIteration = 205\n",
      "\n",
      "Training on fold [2/5]\n",
      "\n",
      "bestTest = 0.6095281692\n",
      "bestIteration = 189\n",
      "\n",
      "Training on fold [3/5]\n",
      "\n",
      "bestTest = 0.6115098348\n",
      "bestIteration = 188\n",
      "\n",
      "Training on fold [4/5]\n"
     ]
    },
    {
     "name": "stderr",
     "output_type": "stream",
     "text": [
      "\u001b[32m[I 2022-08-25 15:07:53,196]\u001b[0m Trial 49 finished with value: 0.7150267632862066 and parameters: {'iterations': 500, 'learning_rate': 0.08539295390300083, 'random_strength': 7, 'bagging_temperature': 2, 'max_bin': 5, 'grow_policy': 'SymmetricTree', 'min_data_in_leaf': 1, 'max_depth': 2, 'l2_leaf_reg': 4.397048926569344e-06, 'one_hot_max_size': 100, 'auto_class_weights': 'SqrtBalanced'}. Best is trial 23 with value: 0.7220458135106365.\u001b[0m\n"
     ]
    },
    {
     "name": "stdout",
     "output_type": "stream",
     "text": [
      "\n",
      "bestTest = 0.6107998852\n",
      "bestIteration = 146\n",
      "\n",
      "Training on fold [0/5]\n",
      "\n",
      "bestTest = 0.6230692538\n",
      "bestIteration = 65\n",
      "\n",
      "Training on fold [1/5]\n"
     ]
    },
    {
     "name": "stderr",
     "output_type": "stream",
     "text": [
      "C:\\Users\\jvrdo\\anaconda3\\lib\\site-packages\\optuna\\distributions.py:560: UserWarning: The distribution is specified by [1, 10] and step=20, but the range is not divisible by `step`. It will be replaced by [1, 1].\n",
      "  warnings.warn(\n",
      "C:\\Users\\jvrdo\\anaconda3\\lib\\site-packages\\optuna\\distributions.py:560: UserWarning: The distribution is specified by [2, 10] and step=15, but the range is not divisible by `step`. It will be replaced by [2, 2].\n",
      "  warnings.warn(\n"
     ]
    },
    {
     "name": "stdout",
     "output_type": "stream",
     "text": [
      "\n",
      "bestTest = 0.6100032021\n",
      "bestIteration = 110\n",
      "\n",
      "Training on fold [2/5]\n",
      "\n",
      "bestTest = 0.6175774508\n",
      "bestIteration = 159\n",
      "\n",
      "Training on fold [3/5]\n"
     ]
    },
    {
     "name": "stderr",
     "output_type": "stream",
     "text": [
      "\u001b[32m[I 2022-08-25 15:07:54,260]\u001b[0m Trial 50 finished with value: 0.7148592460193074 and parameters: {'iterations': 1300, 'learning_rate': 0.12561023686263054, 'random_strength': 4, 'bagging_temperature': 0, 'max_bin': 4, 'grow_policy': 'Depthwise', 'min_data_in_leaf': 1, 'max_depth': 2, 'l2_leaf_reg': 1.1632004908606715e-06, 'one_hot_max_size': 500, 'auto_class_weights': 'Balanced'}. Best is trial 23 with value: 0.7220458135106365.\u001b[0m\n"
     ]
    },
    {
     "name": "stdout",
     "output_type": "stream",
     "text": [
      "\n",
      "bestTest = 0.6174835432\n",
      "bestIteration = 143\n",
      "\n",
      "Training on fold [4/5]\n",
      "\n",
      "bestTest = 0.6201891123\n",
      "bestIteration = 85\n",
      "\n"
     ]
    },
    {
     "name": "stderr",
     "output_type": "stream",
     "text": [
      "C:\\Users\\jvrdo\\anaconda3\\lib\\site-packages\\optuna\\distributions.py:560: UserWarning: The distribution is specified by [1, 10] and step=20, but the range is not divisible by `step`. It will be replaced by [1, 1].\n",
      "  warnings.warn(\n",
      "C:\\Users\\jvrdo\\anaconda3\\lib\\site-packages\\optuna\\distributions.py:560: UserWarning: The distribution is specified by [2, 10] and step=15, but the range is not divisible by `step`. It will be replaced by [2, 2].\n",
      "  warnings.warn(\n"
     ]
    },
    {
     "name": "stdout",
     "output_type": "stream",
     "text": [
      "Training on fold [0/5]\n",
      "\n",
      "bestTest = 0.6182848224\n",
      "bestIteration = 98\n",
      "\n",
      "Training on fold [1/5]\n",
      "\n",
      "bestTest = 0.6022926923\n",
      "bestIteration = 152\n",
      "\n",
      "Training on fold [2/5]\n",
      "\n",
      "bestTest = 0.611346587\n",
      "bestIteration = 180\n",
      "\n",
      "Training on fold [3/5]\n",
      "\n",
      "bestTest = 0.6120432029\n",
      "bestIteration = 154\n",
      "\n",
      "Training on fold [4/5]\n"
     ]
    },
    {
     "name": "stderr",
     "output_type": "stream",
     "text": [
      "\u001b[32m[I 2022-08-25 15:07:55,609]\u001b[0m Trial 51 finished with value: 0.721137298029147 and parameters: {'iterations': 300, 'learning_rate': 0.13874545502198335, 'random_strength': 5, 'bagging_temperature': 1, 'max_bin': 20, 'grow_policy': 'Lossguide', 'min_data_in_leaf': 1, 'max_depth': 2, 'l2_leaf_reg': 2.620206847839601e-05, 'one_hot_max_size': 100, 'auto_class_weights': 'Balanced'}. Best is trial 23 with value: 0.7220458135106365.\u001b[0m\n"
     ]
    },
    {
     "name": "stdout",
     "output_type": "stream",
     "text": [
      "\n",
      "bestTest = 0.6180761553\n",
      "bestIteration = 120\n",
      "\n",
      "Training on fold [0/5]\n",
      "\n",
      "bestTest = 0.6215758719\n",
      "bestIteration = 56\n",
      "\n",
      "Training on fold [1/5]\n"
     ]
    },
    {
     "name": "stderr",
     "output_type": "stream",
     "text": [
      "C:\\Users\\jvrdo\\anaconda3\\lib\\site-packages\\optuna\\distributions.py:560: UserWarning: The distribution is specified by [1, 10] and step=20, but the range is not divisible by `step`. It will be replaced by [1, 1].\n",
      "  warnings.warn(\n",
      "C:\\Users\\jvrdo\\anaconda3\\lib\\site-packages\\optuna\\distributions.py:560: UserWarning: The distribution is specified by [2, 10] and step=15, but the range is not divisible by `step`. It will be replaced by [2, 2].\n",
      "  warnings.warn(\n"
     ]
    },
    {
     "name": "stdout",
     "output_type": "stream",
     "text": [
      "\n",
      "bestTest = 0.6036922779\n",
      "bestIteration = 114\n",
      "\n",
      "Training on fold [2/5]\n",
      "\n",
      "bestTest = 0.6135516192\n",
      "bestIteration = 116\n",
      "\n",
      "Training on fold [3/5]\n",
      "\n"
     ]
    },
    {
     "name": "stderr",
     "output_type": "stream",
     "text": [
      "\u001b[32m[I 2022-08-25 15:07:56,522]\u001b[0m Trial 52 finished with value: 0.7186937289264952 and parameters: {'iterations': 300, 'learning_rate': 0.14590127648098777, 'random_strength': 2, 'bagging_temperature': 1, 'max_bin': 20, 'grow_policy': 'Lossguide', 'min_data_in_leaf': 1, 'max_depth': 2, 'l2_leaf_reg': 7.496985228005741e-05, 'one_hot_max_size': 100, 'auto_class_weights': 'Balanced'}. Best is trial 23 with value: 0.7220458135106365.\u001b[0m\n"
     ]
    },
    {
     "name": "stdout",
     "output_type": "stream",
     "text": [
      "bestTest = 0.6155852617\n",
      "bestIteration = 91\n",
      "\n",
      "Training on fold [4/5]\n",
      "\n",
      "bestTest = 0.6190827909\n",
      "bestIteration = 61\n",
      "\n",
      "Training on fold [0/5]\n"
     ]
    },
    {
     "name": "stderr",
     "output_type": "stream",
     "text": [
      "C:\\Users\\jvrdo\\anaconda3\\lib\\site-packages\\optuna\\distributions.py:560: UserWarning: The distribution is specified by [1, 10] and step=20, but the range is not divisible by `step`. It will be replaced by [1, 1].\n",
      "  warnings.warn(\n",
      "C:\\Users\\jvrdo\\anaconda3\\lib\\site-packages\\optuna\\distributions.py:560: UserWarning: The distribution is specified by [2, 10] and step=15, but the range is not divisible by `step`. It will be replaced by [2, 2].\n",
      "  warnings.warn(\n"
     ]
    },
    {
     "name": "stdout",
     "output_type": "stream",
     "text": [
      "\n",
      "bestTest = 0.6176777193\n",
      "bestIteration = 70\n",
      "\n",
      "Training on fold [1/5]\n",
      "\n",
      "bestTest = 0.606806674\n",
      "bestIteration = 73\n",
      "\n",
      "Training on fold [2/5]\n",
      "\n",
      "bestTest = 0.6120302376\n",
      "bestIteration = 76\n",
      "\n",
      "Training on fold [3/5]\n",
      "\n",
      "bestTest = 0.6155035287\n",
      "bestIteration = 87\n",
      "\n",
      "Training on fold [4/5]\n"
     ]
    },
    {
     "name": "stderr",
     "output_type": "stream",
     "text": [
      "\u001b[32m[I 2022-08-25 15:07:57,330]\u001b[0m Trial 53 finished with value: 0.7192310444131441 and parameters: {'iterations': 300, 'learning_rate': 0.1734134662351204, 'random_strength': 1, 'bagging_temperature': 0, 'max_bin': 20, 'grow_policy': 'Lossguide', 'min_data_in_leaf': 1, 'max_depth': 2, 'l2_leaf_reg': 1.597256730672762e-07, 'one_hot_max_size': 100, 'auto_class_weights': 'Balanced'}. Best is trial 23 with value: 0.7220458135106365.\u001b[0m\n"
     ]
    },
    {
     "name": "stdout",
     "output_type": "stream",
     "text": [
      "\n",
      "bestTest = 0.617714915\n",
      "bestIteration = 65\n",
      "\n",
      "Training on fold [0/5]\n"
     ]
    },
    {
     "name": "stderr",
     "output_type": "stream",
     "text": [
      "C:\\Users\\jvrdo\\anaconda3\\lib\\site-packages\\optuna\\distributions.py:560: UserWarning: The distribution is specified by [1, 10] and step=20, but the range is not divisible by `step`. It will be replaced by [1, 1].\n",
      "  warnings.warn(\n",
      "C:\\Users\\jvrdo\\anaconda3\\lib\\site-packages\\optuna\\distributions.py:560: UserWarning: The distribution is specified by [2, 10] and step=15, but the range is not divisible by `step`. It will be replaced by [2, 2].\n",
      "  warnings.warn(\n"
     ]
    },
    {
     "name": "stdout",
     "output_type": "stream",
     "text": [
      "\n",
      "bestTest = 0.6195254852\n",
      "bestIteration = 107\n",
      "\n",
      "Training on fold [1/5]\n",
      "\n",
      "bestTest = 0.6039739018\n",
      "bestIteration = 153\n",
      "\n",
      "Training on fold [2/5]\n",
      "\n",
      "bestTest = 0.609210075\n",
      "bestIteration = 201\n",
      "\n",
      "Training on fold [3/5]\n",
      "\n",
      "bestTest = 0.6149575417\n",
      "bestIteration = 164\n",
      "\n",
      "Training on fold [4/5]\n"
     ]
    },
    {
     "name": "stderr",
     "output_type": "stream",
     "text": [
      "\u001b[32m[I 2022-08-25 15:07:58,703]\u001b[0m Trial 54 finished with value: 0.7201576567679996 and parameters: {'iterations': 300, 'learning_rate': 0.11711936280127144, 'random_strength': 6, 'bagging_temperature': 2, 'max_bin': 20, 'grow_policy': 'Lossguide', 'min_data_in_leaf': 1, 'max_depth': 2, 'l2_leaf_reg': 0.0081647054278967, 'one_hot_max_size': 100, 'auto_class_weights': 'Balanced'}. Best is trial 23 with value: 0.7220458135106365.\u001b[0m\n"
     ]
    },
    {
     "name": "stdout",
     "output_type": "stream",
     "text": [
      "\n",
      "bestTest = 0.6189401737\n",
      "bestIteration = 114\n",
      "\n",
      "Training on fold [0/5]\n"
     ]
    },
    {
     "name": "stderr",
     "output_type": "stream",
     "text": [
      "C:\\Users\\jvrdo\\anaconda3\\lib\\site-packages\\optuna\\distributions.py:560: UserWarning: The distribution is specified by [1, 10] and step=20, but the range is not divisible by `step`. It will be replaced by [1, 1].\n",
      "  warnings.warn(\n",
      "C:\\Users\\jvrdo\\anaconda3\\lib\\site-packages\\optuna\\distributions.py:560: UserWarning: The distribution is specified by [2, 10] and step=15, but the range is not divisible by `step`. It will be replaced by [2, 2].\n",
      "  warnings.warn(\n"
     ]
    },
    {
     "name": "stdout",
     "output_type": "stream",
     "text": [
      "\n",
      "bestTest = 0.6219134363\n",
      "bestIteration = 104\n",
      "\n",
      "Training on fold [1/5]\n",
      "\n",
      "bestTest = 0.6023210535\n",
      "bestIteration = 206\n",
      "\n",
      "Training on fold [2/5]\n",
      "\n",
      "bestTest = 0.6151675412\n",
      "bestIteration = 146\n",
      "\n",
      "Training on fold [3/5]\n",
      "\n",
      "bestTest = 0.6201211806\n",
      "bestIteration = 144\n",
      "\n",
      "Training on fold [4/5]\n"
     ]
    },
    {
     "name": "stderr",
     "output_type": "stream",
     "text": [
      "\u001b[32m[I 2022-08-25 15:08:00,071]\u001b[0m Trial 55 finished with value: 0.7187135424169614 and parameters: {'iterations': 1500, 'learning_rate': 0.10546843868374452, 'random_strength': 3, 'bagging_temperature': 1, 'max_bin': 8, 'grow_policy': 'Lossguide', 'min_data_in_leaf': 1, 'max_depth': 2, 'l2_leaf_reg': 0.7084361539668538, 'one_hot_max_size': 1024, 'auto_class_weights': 'Balanced'}. Best is trial 23 with value: 0.7220458135106365.\u001b[0m\n"
     ]
    },
    {
     "name": "stdout",
     "output_type": "stream",
     "text": [
      "\n",
      "bestTest = 0.6179393414\n",
      "bestIteration = 116\n",
      "\n",
      "Training on fold [0/5]\n",
      "\n"
     ]
    },
    {
     "name": "stderr",
     "output_type": "stream",
     "text": [
      "C:\\Users\\jvrdo\\anaconda3\\lib\\site-packages\\optuna\\distributions.py:560: UserWarning: The distribution is specified by [1, 10] and step=20, but the range is not divisible by `step`. It will be replaced by [1, 1].\n",
      "  warnings.warn(\n",
      "C:\\Users\\jvrdo\\anaconda3\\lib\\site-packages\\optuna\\distributions.py:560: UserWarning: The distribution is specified by [2, 10] and step=15, but the range is not divisible by `step`. It will be replaced by [2, 2].\n",
      "  warnings.warn(\n"
     ]
    },
    {
     "name": "stdout",
     "output_type": "stream",
     "text": [
      "bestTest = 0.6216984516\n",
      "bestIteration = 94\n",
      "\n",
      "Training on fold [1/5]\n",
      "\n",
      "bestTest = 0.6050808493\n",
      "bestIteration = 138\n",
      "\n",
      "Training on fold [2/5]\n",
      "\n",
      "bestTest = 0.6149851583\n",
      "bestIteration = 118\n",
      "\n",
      "Training on fold [3/5]\n",
      "\n",
      "bestTest = 0.6119998546\n",
      "bestIteration = 172\n",
      "\n",
      "Training on fold [4/5]\n"
     ]
    },
    {
     "name": "stderr",
     "output_type": "stream",
     "text": [
      "\u001b[32m[I 2022-08-25 15:08:01,387]\u001b[0m Trial 56 finished with value: 0.7193303231783705 and parameters: {'iterations': 1200, 'learning_rate': 0.1316894766394945, 'random_strength': 7, 'bagging_temperature': 0, 'max_bin': 10, 'grow_policy': 'Lossguide', 'min_data_in_leaf': 1, 'max_depth': 2, 'l2_leaf_reg': 1.9266886118242505e-05, 'one_hot_max_size': 100, 'auto_class_weights': 'Balanced'}. Best is trial 23 with value: 0.7220458135106365.\u001b[0m\n"
     ]
    },
    {
     "name": "stdout",
     "output_type": "stream",
     "text": [
      "\n",
      "bestTest = 0.6173014648\n",
      "bestIteration = 169\n",
      "\n",
      "Training on fold [0/5]\n",
      "\n",
      "bestTest = 0.609916242\n"
     ]
    },
    {
     "name": "stderr",
     "output_type": "stream",
     "text": [
      "C:\\Users\\jvrdo\\anaconda3\\lib\\site-packages\\optuna\\distributions.py:560: UserWarning: The distribution is specified by [1, 10] and step=20, but the range is not divisible by `step`. It will be replaced by [1, 1].\n",
      "  warnings.warn(\n",
      "C:\\Users\\jvrdo\\anaconda3\\lib\\site-packages\\optuna\\distributions.py:560: UserWarning: The distribution is specified by [2, 10] and step=15, but the range is not divisible by `step`. It will be replaced by [2, 2].\n",
      "  warnings.warn(\n"
     ]
    },
    {
     "name": "stdout",
     "output_type": "stream",
     "text": [
      "bestIteration = 83\n",
      "\n",
      "Training on fold [1/5]\n",
      "\n",
      "bestTest = 0.5973036026\n",
      "bestIteration = 128\n",
      "\n",
      "Training on fold [2/5]\n",
      "\n",
      "bestTest = 0.6030083461\n",
      "bestIteration = 137\n",
      "\n",
      "Training on fold [3/5]\n",
      "\n",
      "bestTest = 0.60658617\n",
      "bestIteration = 139\n",
      "\n",
      "Training on fold [4/5]\n"
     ]
    },
    {
     "name": "stderr",
     "output_type": "stream",
     "text": [
      "\u001b[32m[I 2022-08-25 15:08:02,568]\u001b[0m Trial 57 finished with value: 0.7190240410586645 and parameters: {'iterations': 300, 'learning_rate': 0.1552011421270624, 'random_strength': 8, 'bagging_temperature': 2, 'max_bin': 20, 'grow_policy': 'Lossguide', 'min_data_in_leaf': 1, 'max_depth': 2, 'l2_leaf_reg': 5.954624320923752e-06, 'one_hot_max_size': 100, 'auto_class_weights': 'SqrtBalanced'}. Best is trial 23 with value: 0.7220458135106365.\u001b[0m\n"
     ]
    },
    {
     "name": "stdout",
     "output_type": "stream",
     "text": [
      "\n",
      "bestTest = 0.6100159144\n",
      "bestIteration = 112\n",
      "\n",
      "Training on fold [0/5]\n"
     ]
    },
    {
     "name": "stderr",
     "output_type": "stream",
     "text": [
      "C:\\Users\\jvrdo\\anaconda3\\lib\\site-packages\\optuna\\distributions.py:560: UserWarning: The distribution is specified by [1, 10] and step=20, but the range is not divisible by `step`. It will be replaced by [1, 1].\n",
      "  warnings.warn(\n",
      "C:\\Users\\jvrdo\\anaconda3\\lib\\site-packages\\optuna\\distributions.py:560: UserWarning: The distribution is specified by [2, 10] and step=15, but the range is not divisible by `step`. It will be replaced by [2, 2].\n",
      "  warnings.warn(\n"
     ]
    },
    {
     "name": "stdout",
     "output_type": "stream",
     "text": [
      "\n",
      "bestTest = 0.6187210363\n",
      "bestIteration = 183\n",
      "\n",
      "Training on fold [1/5]\n",
      "\n",
      "bestTest = 0.6019574942\n",
      "bestIteration = 253\n",
      "\n",
      "Training on fold [2/5]\n",
      "\n",
      "bestTest = 0.6112551211\n",
      "bestIteration = 272\n",
      "\n",
      "Training on fold [3/5]\n",
      "\n",
      "bestTest = 0.6276880998\n",
      "bestIteration = 81\n",
      "\n",
      "Training on fold [4/5]\n"
     ]
    },
    {
     "name": "stderr",
     "output_type": "stream",
     "text": [
      "\u001b[32m[I 2022-08-25 15:08:04,119]\u001b[0m Trial 58 finished with value: 0.7179633217603618 and parameters: {'iterations': 700, 'learning_rate': 0.09453624500782312, 'random_strength': 10, 'bagging_temperature': 3, 'max_bin': 20, 'grow_policy': 'SymmetricTree', 'min_data_in_leaf': 1, 'max_depth': 2, 'l2_leaf_reg': 8.125850397367681e-07, 'one_hot_max_size': 500, 'auto_class_weights': 'Balanced'}. Best is trial 23 with value: 0.7220458135106365.\u001b[0m\n"
     ]
    },
    {
     "name": "stdout",
     "output_type": "stream",
     "text": [
      "\n",
      "bestTest = 0.6183723693\n",
      "bestIteration = 142\n",
      "\n",
      "Training on fold [0/5]\n"
     ]
    },
    {
     "name": "stderr",
     "output_type": "stream",
     "text": [
      "C:\\Users\\jvrdo\\anaconda3\\lib\\site-packages\\optuna\\distributions.py:560: UserWarning: The distribution is specified by [1, 10] and step=20, but the range is not divisible by `step`. It will be replaced by [1, 1].\n",
      "  warnings.warn(\n",
      "C:\\Users\\jvrdo\\anaconda3\\lib\\site-packages\\optuna\\distributions.py:560: UserWarning: The distribution is specified by [2, 10] and step=15, but the range is not divisible by `step`. It will be replaced by [2, 2].\n",
      "  warnings.warn(\n"
     ]
    },
    {
     "name": "stdout",
     "output_type": "stream",
     "text": [
      "\n",
      "bestTest = 0.6192693955\n",
      "bestIteration = 106\n",
      "\n",
      "Training on fold [1/5]\n",
      "\n",
      "bestTest = 0.6026220285\n",
      "bestIteration = 124\n",
      "\n",
      "Training on fold [2/5]\n",
      "\n",
      "bestTest = 0.6123430167\n",
      "bestIteration = 113\n",
      "\n",
      "Training on fold [3/5]\n",
      "\n",
      "bestTest = 0.6143737524\n",
      "bestIteration = 115\n",
      "\n",
      "Training on fold [4/5]\n",
      "\n"
     ]
    },
    {
     "name": "stderr",
     "output_type": "stream",
     "text": [
      "\u001b[32m[I 2022-08-25 15:08:05,226]\u001b[0m Trial 59 finished with value: 0.7203153690504658 and parameters: {'iterations': 1200, 'learning_rate': 0.1796758996202173, 'random_strength': 9, 'bagging_temperature': 7, 'max_bin': 20, 'grow_policy': 'Lossguide', 'min_data_in_leaf': 1, 'max_depth': 2, 'l2_leaf_reg': 2.1616291256103837e-06, 'one_hot_max_size': 100, 'auto_class_weights': 'Balanced'}. Best is trial 23 with value: 0.7220458135106365.\u001b[0m\n"
     ]
    },
    {
     "name": "stdout",
     "output_type": "stream",
     "text": [
      "bestTest = 0.6189814657\n",
      "bestIteration = 91\n",
      "\n",
      "Training on fold [0/5]\n",
      "\n",
      "bestTest = 0.6095685908\n"
     ]
    },
    {
     "name": "stderr",
     "output_type": "stream",
     "text": [
      "C:\\Users\\jvrdo\\anaconda3\\lib\\site-packages\\optuna\\distributions.py:560: UserWarning: The distribution is specified by [1, 10] and step=20, but the range is not divisible by `step`. It will be replaced by [1, 1].\n",
      "  warnings.warn(\n",
      "C:\\Users\\jvrdo\\anaconda3\\lib\\site-packages\\optuna\\distributions.py:560: UserWarning: The distribution is specified by [2, 10] and step=15, but the range is not divisible by `step`. It will be replaced by [2, 2].\n",
      "  warnings.warn(\n"
     ]
    },
    {
     "name": "stdout",
     "output_type": "stream",
     "text": [
      "bestIteration = 91\n",
      "\n",
      "Training on fold [1/5]\n",
      "\n",
      "bestTest = 0.5951109001\n",
      "bestIteration = 127\n",
      "\n",
      "Training on fold [2/5]\n",
      "\n",
      "bestTest = 0.5994596321\n",
      "bestIteration = 144\n",
      "\n",
      "Training on fold [3/5]\n",
      "\n",
      "bestTest = 0.6106512047\n",
      "bestIteration = 81\n",
      "\n",
      "Training on fold [4/5]\n"
     ]
    },
    {
     "name": "stderr",
     "output_type": "stream",
     "text": [
      "\u001b[32m[I 2022-08-25 15:08:06,153]\u001b[0m Trial 60 finished with value: 0.718194983228015 and parameters: {'iterations': 200, 'learning_rate': 0.2039636946284325, 'random_strength': 6, 'bagging_temperature': 10, 'max_bin': 30, 'grow_policy': 'SymmetricTree', 'min_data_in_leaf': 1, 'max_depth': 2, 'l2_leaf_reg': 0.00015858380378066796, 'one_hot_max_size': 500, 'auto_class_weights': 'SqrtBalanced'}. Best is trial 23 with value: 0.7220458135106365.\u001b[0m\n"
     ]
    },
    {
     "name": "stdout",
     "output_type": "stream",
     "text": [
      "\n",
      "bestTest = 0.6117475502\n",
      "bestIteration = 50\n",
      "\n",
      "Training on fold [0/5]\n"
     ]
    },
    {
     "name": "stderr",
     "output_type": "stream",
     "text": [
      "C:\\Users\\jvrdo\\anaconda3\\lib\\site-packages\\optuna\\distributions.py:560: UserWarning: The distribution is specified by [1, 10] and step=20, but the range is not divisible by `step`. It will be replaced by [1, 1].\n",
      "  warnings.warn(\n",
      "C:\\Users\\jvrdo\\anaconda3\\lib\\site-packages\\optuna\\distributions.py:560: UserWarning: The distribution is specified by [2, 10] and step=15, but the range is not divisible by `step`. It will be replaced by [2, 2].\n",
      "  warnings.warn(\n"
     ]
    },
    {
     "name": "stdout",
     "output_type": "stream",
     "text": [
      "\n",
      "bestTest = 0.6181459466\n",
      "bestIteration = 100\n",
      "\n",
      "Training on fold [1/5]\n",
      "\n",
      "bestTest = 0.603097278\n",
      "bestIteration = 147\n",
      "\n",
      "Training on fold [2/5]\n",
      "\n",
      "bestTest = 0.6114531857\n",
      "bestIteration = 147\n",
      "\n",
      "Training on fold [3/5]\n",
      "\n",
      "bestTest = 0.6161168464\n",
      "bestIteration = 110\n",
      "\n",
      "Training on fold [4/5]\n",
      "\n",
      "bestTest = 0.6202174437\n"
     ]
    },
    {
     "name": "stderr",
     "output_type": "stream",
     "text": [
      "\u001b[32m[I 2022-08-25 15:08:07,308]\u001b[0m Trial 61 finished with value: 0.7197459580589871 and parameters: {'iterations': 300, 'learning_rate': 0.131373539383895, 'random_strength': 5, 'bagging_temperature': 1, 'max_bin': 20, 'grow_policy': 'Lossguide', 'min_data_in_leaf': 1, 'max_depth': 2, 'l2_leaf_reg': 2.81188668019836e-05, 'one_hot_max_size': 100, 'auto_class_weights': 'Balanced'}. Best is trial 23 with value: 0.7220458135106365.\u001b[0m\n"
     ]
    },
    {
     "name": "stdout",
     "output_type": "stream",
     "text": [
      "bestIteration = 92\n",
      "\n",
      "Training on fold [0/5]\n",
      "\n",
      "bestTest = 0.6207305801\n"
     ]
    },
    {
     "name": "stderr",
     "output_type": "stream",
     "text": [
      "C:\\Users\\jvrdo\\anaconda3\\lib\\site-packages\\optuna\\distributions.py:560: UserWarning: The distribution is specified by [1, 10] and step=20, but the range is not divisible by `step`. It will be replaced by [1, 1].\n",
      "  warnings.warn(\n",
      "C:\\Users\\jvrdo\\anaconda3\\lib\\site-packages\\optuna\\distributions.py:560: UserWarning: The distribution is specified by [2, 10] and step=15, but the range is not divisible by `step`. It will be replaced by [2, 2].\n",
      "  warnings.warn(\n"
     ]
    },
    {
     "name": "stdout",
     "output_type": "stream",
     "text": [
      "bestIteration = 85\n",
      "\n",
      "Training on fold [1/5]\n",
      "\n",
      "bestTest = 0.6049666442\n",
      "bestIteration = 159\n",
      "\n",
      "Training on fold [2/5]\n",
      "\n",
      "bestTest = 0.6118490153\n",
      "bestIteration = 132\n",
      "\n",
      "Training on fold [3/5]\n",
      "\n",
      "bestTest = 0.6162311756\n",
      "bestIteration = 118\n",
      "\n",
      "Training on fold [4/5]\n",
      "\n",
      "bestTest = 0.6177225741\n",
      "bestIteration = 103\n",
      "\n"
     ]
    },
    {
     "name": "stderr",
     "output_type": "stream",
     "text": [
      "\u001b[32m[I 2022-08-25 15:08:08,451]\u001b[0m Trial 62 finished with value: 0.7184721775908136 and parameters: {'iterations': 300, 'learning_rate': 0.14294194948920697, 'random_strength': 4, 'bagging_temperature': 1, 'max_bin': 20, 'grow_policy': 'Lossguide', 'min_data_in_leaf': 1, 'max_depth': 2, 'l2_leaf_reg': 1.2687118973302327e-05, 'one_hot_max_size': 100, 'auto_class_weights': 'Balanced'}. Best is trial 23 with value: 0.7220458135106365.\u001b[0m\n",
      "C:\\Users\\jvrdo\\anaconda3\\lib\\site-packages\\optuna\\distributions.py:560: UserWarning: The distribution is specified by [1, 10] and step=20, but the range is not divisible by `step`. It will be replaced by [1, 1].\n",
      "  warnings.warn(\n",
      "C:\\Users\\jvrdo\\anaconda3\\lib\\site-packages\\optuna\\distributions.py:560: UserWarning: The distribution is specified by [2, 10] and step=15, but the range is not divisible by `step`. It will be replaced by [2, 2].\n",
      "  warnings.warn(\n"
     ]
    },
    {
     "name": "stdout",
     "output_type": "stream",
     "text": [
      "Training on fold [0/5]\n",
      "\n",
      "bestTest = 0.6202274434\n",
      "bestIteration = 86\n",
      "\n",
      "Training on fold [1/5]\n",
      "\n",
      "bestTest = 0.6058134426\n",
      "bestIteration = 129\n",
      "\n",
      "Training on fold [2/5]\n",
      "\n",
      "bestTest = 0.6155602212\n",
      "bestIteration = 112\n",
      "\n",
      "Training on fold [3/5]\n"
     ]
    },
    {
     "name": "stderr",
     "output_type": "stream",
     "text": [
      "\u001b[32m[I 2022-08-25 15:08:09,543]\u001b[0m Trial 63 finished with value: 0.7173381032783033 and parameters: {'iterations': 300, 'learning_rate': 0.11727917617762428, 'random_strength': 5, 'bagging_temperature': 0, 'max_bin': 20, 'grow_policy': 'Lossguide', 'min_data_in_leaf': 1, 'max_depth': 2, 'l2_leaf_reg': 0.00045317102307760844, 'one_hot_max_size': 100, 'auto_class_weights': 'Balanced'}. Best is trial 23 with value: 0.7220458135106365.\u001b[0m\n"
     ]
    },
    {
     "name": "stdout",
     "output_type": "stream",
     "text": [
      "\n",
      "bestTest = 0.616819376\n",
      "bestIteration = 151\n",
      "\n",
      "Training on fold [4/5]\n",
      "\n",
      "bestTest = 0.6202288262\n",
      "bestIteration = 88\n",
      "\n"
     ]
    },
    {
     "name": "stderr",
     "output_type": "stream",
     "text": [
      "C:\\Users\\jvrdo\\anaconda3\\lib\\site-packages\\optuna\\distributions.py:560: UserWarning: The distribution is specified by [1, 10] and step=20, but the range is not divisible by `step`. It will be replaced by [1, 1].\n",
      "  warnings.warn(\n",
      "C:\\Users\\jvrdo\\anaconda3\\lib\\site-packages\\optuna\\distributions.py:560: UserWarning: The distribution is specified by [2, 10] and step=15, but the range is not divisible by `step`. It will be replaced by [2, 2].\n",
      "  warnings.warn(\n"
     ]
    },
    {
     "name": "stdout",
     "output_type": "stream",
     "text": [
      "Training on fold [0/5]\n",
      "\n",
      "bestTest = 0.6220466071\n",
      "bestIteration = 100\n",
      "\n",
      "Training on fold [1/5]\n",
      "\n",
      "bestTest = 0.6041354265\n",
      "bestIteration = 182\n",
      "\n",
      "Training on fold [2/5]\n",
      "\n",
      "bestTest = 0.6143544278\n",
      "bestIteration = 132\n",
      "\n",
      "Training on fold [3/5]\n",
      "\n",
      "bestTest = 0.619903502\n",
      "bestIteration = 134\n",
      "\n",
      "Training on fold [4/5]\n"
     ]
    },
    {
     "name": "stderr",
     "output_type": "stream",
     "text": [
      "\u001b[32m[I 2022-08-25 15:08:10,817]\u001b[0m Trial 64 finished with value: 0.7172704353493365 and parameters: {'iterations': 300, 'learning_rate': 0.10878849235582465, 'random_strength': 4, 'bagging_temperature': 2, 'max_bin': 20, 'grow_policy': 'Lossguide', 'min_data_in_leaf': 1, 'max_depth': 2, 'l2_leaf_reg': 7.266617242925066e-05, 'one_hot_max_size': 100, 'auto_class_weights': 'Balanced'}. Best is trial 23 with value: 0.7220458135106365.\u001b[0m\n"
     ]
    },
    {
     "name": "stdout",
     "output_type": "stream",
     "text": [
      "\n",
      "bestTest = 0.6180507476\n",
      "bestIteration = 109\n",
      "\n",
      "Training on fold [0/5]\n"
     ]
    },
    {
     "name": "stderr",
     "output_type": "stream",
     "text": [
      "C:\\Users\\jvrdo\\anaconda3\\lib\\site-packages\\optuna\\distributions.py:560: UserWarning: The distribution is specified by [1, 10] and step=20, but the range is not divisible by `step`. It will be replaced by [1, 1].\n",
      "  warnings.warn(\n",
      "C:\\Users\\jvrdo\\anaconda3\\lib\\site-packages\\optuna\\distributions.py:560: UserWarning: The distribution is specified by [2, 10] and step=15, but the range is not divisible by `step`. It will be replaced by [2, 2].\n",
      "  warnings.warn(\n"
     ]
    },
    {
     "name": "stdout",
     "output_type": "stream",
     "text": [
      "\n",
      "bestTest = 0.6196772884\n",
      "bestIteration = 97\n",
      "\n",
      "Training on fold [1/5]\n",
      "\n",
      "bestTest = 0.6046461397\n",
      "bestIteration = 111\n",
      "\n",
      "Training on fold [2/5]\n",
      "\n",
      "bestTest = 0.6085944261\n",
      "bestIteration = 148\n",
      "\n",
      "Training on fold [3/5]\n",
      "\n",
      "bestTest = 0.6173887598\n",
      "bestIteration = 89\n",
      "\n"
     ]
    },
    {
     "name": "stderr",
     "output_type": "stream",
     "text": [
      "\u001b[32m[I 2022-08-25 15:08:11,835]\u001b[0m Trial 65 finished with value: 0.7181472324395228 and parameters: {'iterations': 1500, 'learning_rate': 0.1596445816007474, 'random_strength': 6, 'bagging_temperature': 1, 'max_bin': 20, 'grow_policy': 'Lossguide', 'min_data_in_leaf': 1, 'max_depth': 2, 'l2_leaf_reg': 2.5617104001035917e-06, 'one_hot_max_size': 100, 'auto_class_weights': 'Balanced'}. Best is trial 23 with value: 0.7220458135106365.\u001b[0m\n"
     ]
    },
    {
     "name": "stdout",
     "output_type": "stream",
     "text": [
      "Training on fold [4/5]\n",
      "\n",
      "bestTest = 0.6259492614\n",
      "bestIteration = 35\n",
      "\n",
      "Training on fold [0/5]\n"
     ]
    },
    {
     "name": "stderr",
     "output_type": "stream",
     "text": [
      "C:\\Users\\jvrdo\\anaconda3\\lib\\site-packages\\optuna\\distributions.py:560: UserWarning: The distribution is specified by [1, 10] and step=20, but the range is not divisible by `step`. It will be replaced by [1, 1].\n",
      "  warnings.warn(\n",
      "C:\\Users\\jvrdo\\anaconda3\\lib\\site-packages\\optuna\\distributions.py:560: UserWarning: The distribution is specified by [2, 10] and step=15, but the range is not divisible by `step`. It will be replaced by [2, 2].\n",
      "  warnings.warn(\n"
     ]
    },
    {
     "name": "stdout",
     "output_type": "stream",
     "text": [
      "\n",
      "bestTest = 0.6214637363\n",
      "bestIteration = 201\n",
      "\n",
      "Training on fold [1/5]\n",
      "\n",
      "bestTest = 0.6067895177\n",
      "bestIteration = 294\n",
      "\n",
      "Training on fold [2/5]\n",
      "\n",
      "bestTest = 0.6196613522\n",
      "bestIteration = 211\n",
      "\n",
      "Training on fold [3/5]\n",
      "\n",
      "bestTest = 0.6208347782\n",
      "bestIteration = 194\n",
      "\n",
      "Training on fold [4/5]\n"
     ]
    },
    {
     "name": "stderr",
     "output_type": "stream",
     "text": [
      "\u001b[32m[I 2022-08-25 15:08:13,880]\u001b[0m Trial 66 finished with value: 0.7157387997438424 and parameters: {'iterations': 300, 'learning_rate': 0.06757684557343586, 'random_strength': 7, 'bagging_temperature': 2, 'max_bin': 6, 'grow_policy': 'Depthwise', 'min_data_in_leaf': 1, 'max_depth': 2, 'l2_leaf_reg': 3.907539171381104e-07, 'one_hot_max_size': 1024, 'auto_class_weights': 'Balanced'}. Best is trial 23 with value: 0.7220458135106365.\u001b[0m\n"
     ]
    },
    {
     "name": "stdout",
     "output_type": "stream",
     "text": [
      "\n",
      "bestTest = 0.6161792596\n",
      "bestIteration = 263\n",
      "\n",
      "Training on fold [0/5]\n"
     ]
    },
    {
     "name": "stderr",
     "output_type": "stream",
     "text": [
      "C:\\Users\\jvrdo\\anaconda3\\lib\\site-packages\\optuna\\distributions.py:560: UserWarning: The distribution is specified by [1, 10] and step=20, but the range is not divisible by `step`. It will be replaced by [1, 1].\n",
      "  warnings.warn(\n",
      "C:\\Users\\jvrdo\\anaconda3\\lib\\site-packages\\optuna\\distributions.py:560: UserWarning: The distribution is specified by [2, 10] and step=15, but the range is not divisible by `step`. It will be replaced by [2, 2].\n",
      "  warnings.warn(\n"
     ]
    },
    {
     "name": "stdout",
     "output_type": "stream",
     "text": [
      "\n",
      "bestTest = 0.6210263117\n",
      "bestIteration = 163\n",
      "\n",
      "Training on fold [1/5]\n",
      "\n",
      "bestTest = 0.604800819\n",
      "bestIteration = 236\n",
      "\n",
      "Training on fold [2/5]\n",
      "\n",
      "bestTest = 0.6156136503\n",
      "bestIteration = 235\n",
      "\n",
      "Training on fold [3/5]\n",
      "\n",
      "bestTest = 0.6150116953\n",
      "bestIteration = 226\n",
      "\n",
      "Training on fold [4/5]\n"
     ]
    },
    {
     "name": "stderr",
     "output_type": "stream",
     "text": [
      "\u001b[32m[I 2022-08-25 15:08:25,023]\u001b[0m Trial 67 finished with value: 0.7189379174711703 and parameters: {'iterations': 1000, 'learning_rate': 0.08049943049235912, 'random_strength': 5, 'bagging_temperature': 6, 'max_bin': 10, 'grow_policy': 'SymmetricTree', 'min_data_in_leaf': 1, 'max_depth': 2, 'l2_leaf_reg': 0.0011310217629922391, 'one_hot_max_size': 10, 'auto_class_weights': 'Balanced'}. Best is trial 23 with value: 0.7220458135106365.\u001b[0m\n"
     ]
    },
    {
     "name": "stdout",
     "output_type": "stream",
     "text": [
      "\n",
      "bestTest = 0.6181206051\n",
      "bestIteration = 166\n",
      "\n",
      "Training on fold [0/5]\n"
     ]
    },
    {
     "name": "stderr",
     "output_type": "stream",
     "text": [
      "C:\\Users\\jvrdo\\anaconda3\\lib\\site-packages\\optuna\\distributions.py:560: UserWarning: The distribution is specified by [1, 10] and step=20, but the range is not divisible by `step`. It will be replaced by [1, 1].\n",
      "  warnings.warn(\n",
      "C:\\Users\\jvrdo\\anaconda3\\lib\\site-packages\\optuna\\distributions.py:560: UserWarning: The distribution is specified by [2, 10] and step=15, but the range is not divisible by `step`. It will be replaced by [2, 2].\n",
      "  warnings.warn(\n"
     ]
    },
    {
     "name": "stdout",
     "output_type": "stream",
     "text": [
      "\n",
      "bestTest = 0.6242521518\n",
      "bestIteration = 110\n",
      "\n",
      "Training on fold [1/5]\n",
      "\n",
      "bestTest = 0.6074338572\n",
      "bestIteration = 165\n",
      "\n",
      "Training on fold [2/5]\n",
      "\n",
      "bestTest = 0.614676995\n",
      "bestIteration = 124\n",
      "\n",
      "Training on fold [3/5]\n",
      "\n",
      "bestTest = 0.621574589\n",
      "bestIteration = 141\n",
      "\n",
      "Training on fold [4/5]\n"
     ]
    },
    {
     "name": "stderr",
     "output_type": "stream",
     "text": [
      "\u001b[32m[I 2022-08-25 15:08:35,161]\u001b[0m Trial 68 finished with value: 0.7169157440439486 and parameters: {'iterations': 500, 'learning_rate': 0.1285234577471152, 'random_strength': 5, 'bagging_temperature': 3, 'max_bin': 8, 'grow_policy': 'Lossguide', 'min_data_in_leaf': 1, 'max_depth': 2, 'l2_leaf_reg': 4.727015283527086e-06, 'one_hot_max_size': 5, 'auto_class_weights': 'Balanced'}. Best is trial 23 with value: 0.7220458135106365.\u001b[0m\n"
     ]
    },
    {
     "name": "stdout",
     "output_type": "stream",
     "text": [
      "\n",
      "bestTest = 0.6191708235\n",
      "bestIteration = 138\n",
      "\n",
      "Training on fold [0/5]\n"
     ]
    },
    {
     "name": "stderr",
     "output_type": "stream",
     "text": [
      "C:\\Users\\jvrdo\\anaconda3\\lib\\site-packages\\optuna\\distributions.py:560: UserWarning: The distribution is specified by [1, 10] and step=20, but the range is not divisible by `step`. It will be replaced by [1, 1].\n",
      "  warnings.warn(\n",
      "C:\\Users\\jvrdo\\anaconda3\\lib\\site-packages\\optuna\\distributions.py:560: UserWarning: The distribution is specified by [2, 10] and step=15, but the range is not divisible by `step`. It will be replaced by [2, 2].\n",
      "  warnings.warn(\n"
     ]
    },
    {
     "name": "stdout",
     "output_type": "stream",
     "text": [
      "\n",
      "bestTest = 0.6135755865\n",
      "bestIteration = 123\n",
      "\n",
      "Training on fold [1/5]\n",
      "\n",
      "bestTest = 0.5979557621\n",
      "bestIteration = 210\n",
      "\n",
      "Training on fold [2/5]\n",
      "\n",
      "bestTest = 0.6090715063\n",
      "bestIteration = 156\n",
      "\n",
      "Training on fold [3/5]\n",
      "\n",
      "bestTest = 0.6113559073\n",
      "bestIteration = 161\n",
      "\n",
      "Training on fold [4/5]\n"
     ]
    },
    {
     "name": "stderr",
     "output_type": "stream",
     "text": [
      "\u001b[32m[I 2022-08-25 15:08:36,512]\u001b[0m Trial 69 finished with value: 0.7160558686521556 and parameters: {'iterations': 1200, 'learning_rate': 0.09974777641170043, 'random_strength': 7, 'bagging_temperature': 0, 'max_bin': 4, 'grow_policy': 'SymmetricTree', 'min_data_in_leaf': 1, 'max_depth': 2, 'l2_leaf_reg': 2.5796059703578568e-08, 'one_hot_max_size': 100, 'auto_class_weights': 'SqrtBalanced'}. Best is trial 23 with value: 0.7220458135106365.\u001b[0m\n"
     ]
    },
    {
     "name": "stdout",
     "output_type": "stream",
     "text": [
      "\n",
      "bestTest = 0.6082424279\n",
      "bestIteration = 123\n",
      "\n",
      "Training on fold [0/5]\n"
     ]
    },
    {
     "name": "stderr",
     "output_type": "stream",
     "text": [
      "C:\\Users\\jvrdo\\anaconda3\\lib\\site-packages\\optuna\\distributions.py:560: UserWarning: The distribution is specified by [1, 10] and step=20, but the range is not divisible by `step`. It will be replaced by [1, 1].\n",
      "  warnings.warn(\n",
      "C:\\Users\\jvrdo\\anaconda3\\lib\\site-packages\\optuna\\distributions.py:560: UserWarning: The distribution is specified by [2, 10] and step=15, but the range is not divisible by `step`. It will be replaced by [2, 2].\n",
      "  warnings.warn(\n"
     ]
    },
    {
     "name": "stdout",
     "output_type": "stream",
     "text": [
      "\n",
      "bestTest = 0.6266345048\n",
      "bestIteration = 151\n",
      "\n",
      "Training on fold [1/5]\n",
      "\n",
      "bestTest = 0.6156278489\n",
      "bestIteration = 199\n",
      "\n",
      "Training on fold [2/5]\n",
      "\n",
      "bestTest = 0.6224264473\n",
      "bestIteration = 199\n",
      "\n",
      "Training on fold [3/5]\n",
      "\n",
      "bestTest = 0.6229688606\n",
      "bestIteration = 198\n",
      "\n",
      "Training on fold [4/5]\n"
     ]
    },
    {
     "name": "stderr",
     "output_type": "stream",
     "text": [
      "\u001b[32m[I 2022-08-25 15:08:49,257]\u001b[0m Trial 70 finished with value: 0.7110879173714345 and parameters: {'iterations': 200, 'learning_rate': 0.0468475053968106, 'random_strength': 6, 'bagging_temperature': 1, 'max_bin': 5, 'grow_policy': 'Lossguide', 'min_data_in_leaf': 1, 'max_depth': 2, 'l2_leaf_reg': 5.888209897512965e-08, 'one_hot_max_size': 12, 'auto_class_weights': 'Balanced'}. Best is trial 23 with value: 0.7220458135106365.\u001b[0m\n"
     ]
    },
    {
     "name": "stdout",
     "output_type": "stream",
     "text": [
      "\n",
      "bestTest = 0.6228774436\n",
      "bestIteration = 198\n",
      "\n",
      "Training on fold [0/5]\n",
      "\n",
      "bestTest = 0.621775765\n",
      "bestIteration = 59\n",
      "\n",
      "Training on fold [1/5]\n"
     ]
    },
    {
     "name": "stderr",
     "output_type": "stream",
     "text": [
      "C:\\Users\\jvrdo\\anaconda3\\lib\\site-packages\\optuna\\distributions.py:560: UserWarning: The distribution is specified by [1, 10] and step=20, but the range is not divisible by `step`. It will be replaced by [1, 1].\n",
      "  warnings.warn(\n",
      "C:\\Users\\jvrdo\\anaconda3\\lib\\site-packages\\optuna\\distributions.py:560: UserWarning: The distribution is specified by [2, 10] and step=15, but the range is not divisible by `step`. It will be replaced by [2, 2].\n",
      "  warnings.warn(\n"
     ]
    },
    {
     "name": "stdout",
     "output_type": "stream",
     "text": [
      "\n",
      "bestTest = 0.6044926647\n",
      "bestIteration = 151\n",
      "\n",
      "Training on fold [2/5]\n",
      "\n",
      "bestTest = 0.6142010244\n",
      "bestIteration = 110\n",
      "\n",
      "Training on fold [3/5]\n"
     ]
    },
    {
     "name": "stderr",
     "output_type": "stream",
     "text": [
      "\u001b[32m[I 2022-08-25 15:08:50,336]\u001b[0m Trial 71 finished with value: 0.7196875470476183 and parameters: {'iterations': 700, 'learning_rate': 0.10196394861649329, 'random_strength': 1, 'bagging_temperature': 7, 'max_bin': 10, 'grow_policy': 'Lossguide', 'min_data_in_leaf': 1, 'max_depth': 2, 'l2_leaf_reg': 0.0013853838849419743, 'one_hot_max_size': 100, 'auto_class_weights': 'Balanced'}. Best is trial 23 with value: 0.7220458135106365.\u001b[0m\n"
     ]
    },
    {
     "name": "stdout",
     "output_type": "stream",
     "text": [
      "\n",
      "bestTest = 0.6140658064\n",
      "bestIteration = 149\n",
      "\n",
      "Training on fold [4/5]\n",
      "\n",
      "bestTest = 0.6193135509\n",
      "bestIteration = 61\n",
      "\n",
      "Training on fold [0/5]\n"
     ]
    },
    {
     "name": "stderr",
     "output_type": "stream",
     "text": [
      "C:\\Users\\jvrdo\\anaconda3\\lib\\site-packages\\optuna\\distributions.py:560: UserWarning: The distribution is specified by [1, 10] and step=20, but the range is not divisible by `step`. It will be replaced by [1, 1].\n",
      "  warnings.warn(\n",
      "C:\\Users\\jvrdo\\anaconda3\\lib\\site-packages\\optuna\\distributions.py:560: UserWarning: The distribution is specified by [2, 10] and step=15, but the range is not divisible by `step`. It will be replaced by [2, 2].\n",
      "  warnings.warn(\n"
     ]
    },
    {
     "name": "stdout",
     "output_type": "stream",
     "text": [
      "\n",
      "bestTest = 0.621338087\n",
      "bestIteration = 27\n",
      "\n",
      "Training on fold [1/5]\n",
      "\n",
      "bestTest = 0.6019073747\n",
      "bestIteration = 50\n",
      "\n",
      "Training on fold [2/5]\n",
      "\n",
      "bestTest = 0.6126229662\n",
      "bestIteration = 54\n",
      "\n",
      "Training on fold [3/5]\n",
      "\n"
     ]
    },
    {
     "name": "stderr",
     "output_type": "stream",
     "text": [
      "\u001b[32m[I 2022-08-25 15:08:50,967]\u001b[0m Trial 72 finished with value: 0.7192373546350865 and parameters: {'iterations': 700, 'learning_rate': 0.2993301267636733, 'random_strength': 1, 'bagging_temperature': 8, 'max_bin': 10, 'grow_policy': 'Lossguide', 'min_data_in_leaf': 1, 'max_depth': 2, 'l2_leaf_reg': 0.1074432722617089, 'one_hot_max_size': 100, 'auto_class_weights': 'Balanced'}. Best is trial 23 with value: 0.7220458135106365.\u001b[0m\n"
     ]
    },
    {
     "name": "stdout",
     "output_type": "stream",
     "text": [
      "bestTest = 0.6138125885\n",
      "bestIteration = 94\n",
      "\n",
      "Training on fold [4/5]\n",
      "\n",
      "bestTest = 0.620495803\n",
      "bestIteration = 22\n",
      "\n",
      "Training on fold [0/5]\n"
     ]
    },
    {
     "name": "stderr",
     "output_type": "stream",
     "text": [
      "C:\\Users\\jvrdo\\anaconda3\\lib\\site-packages\\optuna\\distributions.py:560: UserWarning: The distribution is specified by [1, 10] and step=20, but the range is not divisible by `step`. It will be replaced by [1, 1].\n",
      "  warnings.warn(\n",
      "C:\\Users\\jvrdo\\anaconda3\\lib\\site-packages\\optuna\\distributions.py:560: UserWarning: The distribution is specified by [2, 10] and step=15, but the range is not divisible by `step`. It will be replaced by [2, 2].\n",
      "  warnings.warn(\n"
     ]
    },
    {
     "name": "stdout",
     "output_type": "stream",
     "text": [
      "\n",
      "bestTest = 0.6208894419\n",
      "bestIteration = 115\n",
      "\n",
      "Training on fold [1/5]\n",
      "\n",
      "bestTest = 0.6036671448\n",
      "bestIteration = 172\n",
      "\n",
      "Training on fold [2/5]\n",
      "\n",
      "bestTest = 0.616530545\n",
      "bestIteration = 110\n",
      "\n",
      "Training on fold [3/5]\n",
      "\n",
      "bestTest = 0.6151291415\n",
      "bestIteration = 141\n",
      "\n",
      "Training on fold [4/5]\n"
     ]
    },
    {
     "name": "stderr",
     "output_type": "stream",
     "text": [
      "\u001b[32m[I 2022-08-25 15:08:52,306]\u001b[0m Trial 73 finished with value: 0.7191654475376655 and parameters: {'iterations': 700, 'learning_rate': 0.11079251873141639, 'random_strength': 2, 'bagging_temperature': 5, 'max_bin': 10, 'grow_policy': 'Lossguide', 'min_data_in_leaf': 1, 'max_depth': 2, 'l2_leaf_reg': 0.0021059134015388547, 'one_hot_max_size': 100, 'auto_class_weights': 'Balanced'}. Best is trial 23 with value: 0.7220458135106365.\u001b[0m\n"
     ]
    },
    {
     "name": "stdout",
     "output_type": "stream",
     "text": [
      "\n",
      "bestTest = 0.6180374697\n",
      "bestIteration = 139\n",
      "\n",
      "Training on fold [0/5]\n"
     ]
    },
    {
     "name": "stderr",
     "output_type": "stream",
     "text": [
      "C:\\Users\\jvrdo\\anaconda3\\lib\\site-packages\\optuna\\distributions.py:560: UserWarning: The distribution is specified by [1, 10] and step=20, but the range is not divisible by `step`. It will be replaced by [1, 1].\n",
      "  warnings.warn(\n",
      "C:\\Users\\jvrdo\\anaconda3\\lib\\site-packages\\optuna\\distributions.py:560: UserWarning: The distribution is specified by [2, 10] and step=15, but the range is not divisible by `step`. It will be replaced by [2, 2].\n",
      "  warnings.warn(\n"
     ]
    },
    {
     "name": "stdout",
     "output_type": "stream",
     "text": [
      "\n",
      "bestTest = 0.6217506175\n",
      "bestIteration = 92\n",
      "\n",
      "Training on fold [1/5]\n",
      "\n",
      "bestTest = 0.6030712366\n",
      "bestIteration = 208\n",
      "\n",
      "Training on fold [2/5]\n",
      "\n",
      "bestTest = 0.6127558184\n",
      "bestIteration = 222\n",
      "\n",
      "Training on fold [3/5]\n",
      "\n",
      "bestTest = 0.6183952884\n",
      "bestIteration = 106\n",
      "\n",
      "Training on fold [4/5]\n"
     ]
    },
    {
     "name": "stderr",
     "output_type": "stream",
     "text": [
      "\u001b[32m[I 2022-08-25 15:08:53,827]\u001b[0m Trial 74 finished with value: 0.7191996603821573 and parameters: {'iterations': 700, 'learning_rate': 0.08550248270031036, 'random_strength': 1, 'bagging_temperature': 2, 'max_bin': 10, 'grow_policy': 'Lossguide', 'min_data_in_leaf': 1, 'max_depth': 2, 'l2_leaf_reg': 0.0001329161929074311, 'one_hot_max_size': 100, 'auto_class_weights': 'Balanced'}. Best is trial 23 with value: 0.7220458135106365.\u001b[0m\n"
     ]
    },
    {
     "name": "stdout",
     "output_type": "stream",
     "text": [
      "\n",
      "bestTest = 0.6184547026\n",
      "bestIteration = 149\n",
      "\n",
      "Training on fold [0/5]\n",
      "\n",
      "bestTest = 0.6198232872\n",
      "bestIteration = 68\n",
      "\n",
      "Training on fold [1/5]\n"
     ]
    },
    {
     "name": "stderr",
     "output_type": "stream",
     "text": [
      "C:\\Users\\jvrdo\\anaconda3\\lib\\site-packages\\optuna\\distributions.py:560: UserWarning: The distribution is specified by [1, 10] and step=20, but the range is not divisible by `step`. It will be replaced by [1, 1].\n",
      "  warnings.warn(\n",
      "C:\\Users\\jvrdo\\anaconda3\\lib\\site-packages\\optuna\\distributions.py:560: UserWarning: The distribution is specified by [2, 10] and step=15, but the range is not divisible by `step`. It will be replaced by [2, 2].\n",
      "  warnings.warn(\n"
     ]
    },
    {
     "name": "stdout",
     "output_type": "stream",
     "text": [
      "\n",
      "bestTest = 0.604589505\n",
      "bestIteration = 98\n",
      "\n",
      "Training on fold [2/5]\n",
      "\n",
      "bestTest = 0.6121182436\n",
      "bestIteration = 97\n",
      "\n",
      "Training on fold [3/5]\n",
      "\n",
      "bestTest = 0.6167065431\n"
     ]
    },
    {
     "name": "stderr",
     "output_type": "stream",
     "text": [
      "\u001b[32m[I 2022-08-25 15:08:54,711]\u001b[0m Trial 75 finished with value: 0.7183993949750966 and parameters: {'iterations': 100, 'learning_rate': 0.1386866419513502, 'random_strength': 1, 'bagging_temperature': 6, 'max_bin': 20, 'grow_policy': 'Lossguide', 'min_data_in_leaf': 1, 'max_depth': 2, 'l2_leaf_reg': 0.009598224316721325, 'one_hot_max_size': 500, 'auto_class_weights': 'Balanced'}. Best is trial 23 with value: 0.7220458135106365.\u001b[0m\n"
     ]
    },
    {
     "name": "stdout",
     "output_type": "stream",
     "text": [
      "bestIteration = 98\n",
      "\n",
      "Training on fold [4/5]\n",
      "\n",
      "bestTest = 0.6198363453\n",
      "bestIteration = 60\n",
      "\n",
      "Training on fold [0/5]\n"
     ]
    },
    {
     "name": "stderr",
     "output_type": "stream",
     "text": [
      "C:\\Users\\jvrdo\\anaconda3\\lib\\site-packages\\optuna\\distributions.py:560: UserWarning: The distribution is specified by [1, 10] and step=20, but the range is not divisible by `step`. It will be replaced by [1, 1].\n",
      "  warnings.warn(\n",
      "C:\\Users\\jvrdo\\anaconda3\\lib\\site-packages\\optuna\\distributions.py:560: UserWarning: The distribution is specified by [2, 10] and step=15, but the range is not divisible by `step`. It will be replaced by [2, 2].\n",
      "  warnings.warn(\n"
     ]
    },
    {
     "name": "stdout",
     "output_type": "stream",
     "text": [
      "\n",
      "bestTest = 0.6211755765\n",
      "bestIteration = 116\n",
      "\n",
      "Training on fold [1/5]\n",
      "\n",
      "bestTest = 0.6026723817\n",
      "bestIteration = 173\n",
      "\n",
      "Training on fold [2/5]\n",
      "\n",
      "bestTest = 0.6173439388\n",
      "bestIteration = 116\n",
      "\n",
      "Training on fold [3/5]\n",
      "\n",
      "bestTest = 0.6113185059\n",
      "bestIteration = 229\n",
      "\n",
      "Training on fold [4/5]\n",
      "\n"
     ]
    },
    {
     "name": "stderr",
     "output_type": "stream",
     "text": [
      "\u001b[32m[I 2022-08-25 15:08:56,108]\u001b[0m Trial 76 finished with value: 0.7194054943130908 and parameters: {'iterations': 1500, 'learning_rate': 0.11944069737572266, 'random_strength': 8, 'bagging_temperature': 9, 'max_bin': 10, 'grow_policy': 'Lossguide', 'min_data_in_leaf': 1, 'max_depth': 2, 'l2_leaf_reg': 0.00045289397194614775, 'one_hot_max_size': 100, 'auto_class_weights': 'Balanced'}. Best is trial 23 with value: 0.7220458135106365.\u001b[0m\n"
     ]
    },
    {
     "name": "stdout",
     "output_type": "stream",
     "text": [
      "bestTest = 0.6183254772\n",
      "bestIteration = 102\n",
      "\n",
      "Training on fold [0/5]\n"
     ]
    },
    {
     "name": "stderr",
     "output_type": "stream",
     "text": [
      "C:\\Users\\jvrdo\\anaconda3\\lib\\site-packages\\optuna\\distributions.py:560: UserWarning: The distribution is specified by [1, 10] and step=20, but the range is not divisible by `step`. It will be replaced by [1, 1].\n",
      "  warnings.warn(\n",
      "C:\\Users\\jvrdo\\anaconda3\\lib\\site-packages\\optuna\\distributions.py:560: UserWarning: The distribution is specified by [2, 10] and step=15, but the range is not divisible by `step`. It will be replaced by [2, 2].\n",
      "  warnings.warn(\n"
     ]
    },
    {
     "name": "stdout",
     "output_type": "stream",
     "text": [
      "\n",
      "bestTest = 0.6100592534\n",
      "bestIteration = 120\n",
      "\n",
      "Training on fold [1/5]\n",
      "\n",
      "bestTest = 0.5940841626\n",
      "bestIteration = 174\n",
      "\n",
      "Training on fold [2/5]\n",
      "\n",
      "bestTest = 0.6067894415\n",
      "bestIteration = 136\n",
      "\n",
      "Training on fold [3/5]\n"
     ]
    },
    {
     "name": "stderr",
     "output_type": "stream",
     "text": [
      "\u001b[32m[I 2022-08-25 15:08:57,421]\u001b[0m Trial 77 finished with value: 0.7192898044842935 and parameters: {'iterations': 300, 'learning_rate': 0.1479436952887113, 'random_strength': 3, 'bagging_temperature': 7, 'max_bin': 20, 'grow_policy': 'SymmetricTree', 'min_data_in_leaf': 1, 'max_depth': 2, 'l2_leaf_reg': 76.4313570273877, 'one_hot_max_size': 100, 'auto_class_weights': 'SqrtBalanced'}. Best is trial 23 with value: 0.7220458135106365.\u001b[0m\n"
     ]
    },
    {
     "name": "stdout",
     "output_type": "stream",
     "text": [
      "\n",
      "bestTest = 0.6091816447\n",
      "bestIteration = 138\n",
      "\n",
      "Training on fold [4/5]\n",
      "\n",
      "bestTest = 0.6107108223\n",
      "bestIteration = 74\n",
      "\n"
     ]
    },
    {
     "name": "stderr",
     "output_type": "stream",
     "text": [
      "C:\\Users\\jvrdo\\anaconda3\\lib\\site-packages\\optuna\\distributions.py:560: UserWarning: The distribution is specified by [1, 10] and step=20, but the range is not divisible by `step`. It will be replaced by [1, 1].\n",
      "  warnings.warn(\n",
      "C:\\Users\\jvrdo\\anaconda3\\lib\\site-packages\\optuna\\distributions.py:560: UserWarning: The distribution is specified by [2, 10] and step=15, but the range is not divisible by `step`. It will be replaced by [2, 2].\n",
      "  warnings.warn(\n"
     ]
    },
    {
     "name": "stdout",
     "output_type": "stream",
     "text": [
      "Training on fold [0/5]\n",
      "\n",
      "bestTest = 0.6206648827\n",
      "bestIteration = 110\n",
      "\n",
      "Training on fold [1/5]\n",
      "\n",
      "bestTest = 0.6044262841\n",
      "bestIteration = 180\n",
      "\n",
      "Training on fold [2/5]\n",
      "\n",
      "bestTest = 0.6110692902\n",
      "bestIteration = 207\n",
      "\n",
      "Training on fold [3/5]\n",
      "\n",
      "bestTest = 0.6164317212\n",
      "bestIteration = 139\n",
      "\n",
      "Training on fold [4/5]\n"
     ]
    },
    {
     "name": "stderr",
     "output_type": "stream",
     "text": [
      "\u001b[32m[I 2022-08-25 15:08:58,832]\u001b[0m Trial 78 finished with value: 0.7186952558790891 and parameters: {'iterations': 300, 'learning_rate': 0.09263870837688895, 'random_strength': 2, 'bagging_temperature': 9, 'max_bin': 20, 'grow_policy': 'Depthwise', 'min_data_in_leaf': 1, 'max_depth': 2, 'l2_leaf_reg': 0.024385213255498462, 'one_hot_max_size': 100, 'auto_class_weights': 'Balanced'}. Best is trial 23 with value: 0.7220458135106365.\u001b[0m\n"
     ]
    },
    {
     "name": "stdout",
     "output_type": "stream",
     "text": [
      "\n",
      "bestTest = 0.619920932\n",
      "bestIteration = 125\n",
      "\n",
      "Training on fold [0/5]\n",
      "\n",
      "bestTest = 0.619375326\n",
      "bestIteration = 38\n",
      "\n",
      "Training on fold [1/5]\n"
     ]
    },
    {
     "name": "stderr",
     "output_type": "stream",
     "text": [
      "C:\\Users\\jvrdo\\anaconda3\\lib\\site-packages\\optuna\\distributions.py:560: UserWarning: The distribution is specified by [1, 10] and step=20, but the range is not divisible by `step`. It will be replaced by [1, 1].\n",
      "  warnings.warn(\n",
      "C:\\Users\\jvrdo\\anaconda3\\lib\\site-packages\\optuna\\distributions.py:560: UserWarning: The distribution is specified by [2, 10] and step=15, but the range is not divisible by `step`. It will be replaced by [2, 2].\n",
      "  warnings.warn(\n"
     ]
    },
    {
     "name": "stdout",
     "output_type": "stream",
     "text": [
      "\n",
      "bestTest = 0.6036153576\n",
      "bestIteration = 149\n",
      "\n",
      "Training on fold [2/5]\n",
      "\n",
      "bestTest = 0.6151768641\n",
      "bestIteration = 43\n",
      "\n",
      "Training on fold [3/5]\n"
     ]
    },
    {
     "name": "stderr",
     "output_type": "stream",
     "text": [
      "\u001b[32m[I 2022-08-25 15:08:59,683]\u001b[0m Trial 79 finished with value: 0.7183285691811415 and parameters: {'iterations': 200, 'learning_rate': 0.17223733313062067, 'random_strength': 1, 'bagging_temperature': 8, 'max_bin': 30, 'grow_policy': 'Lossguide', 'min_data_in_leaf': 1, 'max_depth': 2, 'l2_leaf_reg': 0.004352663871496403, 'one_hot_max_size': 100, 'auto_class_weights': 'Balanced'}. Best is trial 23 with value: 0.7220458135106365.\u001b[0m\n"
     ]
    },
    {
     "name": "stdout",
     "output_type": "stream",
     "text": [
      "\n",
      "bestTest = 0.6124588535\n",
      "bestIteration = 98\n",
      "\n",
      "Training on fold [4/5]\n",
      "\n",
      "bestTest = 0.6206276576\n",
      "bestIteration = 62\n",
      "\n",
      "Training on fold [0/5]\n"
     ]
    },
    {
     "name": "stderr",
     "output_type": "stream",
     "text": [
      "C:\\Users\\jvrdo\\anaconda3\\lib\\site-packages\\optuna\\distributions.py:560: UserWarning: The distribution is specified by [1, 10] and step=20, but the range is not divisible by `step`. It will be replaced by [1, 1].\n",
      "  warnings.warn(\n",
      "C:\\Users\\jvrdo\\anaconda3\\lib\\site-packages\\optuna\\distributions.py:560: UserWarning: The distribution is specified by [2, 10] and step=15, but the range is not divisible by `step`. It will be replaced by [2, 2].\n",
      "  warnings.warn(\n"
     ]
    },
    {
     "name": "stdout",
     "output_type": "stream",
     "text": [
      "\n",
      "bestTest = 0.6189524527\n",
      "bestIteration = 113\n",
      "\n",
      "Training on fold [1/5]\n",
      "\n",
      "bestTest = 0.6004931527\n",
      "bestIteration = 240\n",
      "\n",
      "Training on fold [2/5]\n",
      "\n",
      "bestTest = 0.613890097\n",
      "bestIteration = 156\n",
      "\n",
      "Training on fold [3/5]\n",
      "\n",
      "bestTest = 0.6125150959\n",
      "bestIteration = 155\n",
      "\n",
      "Training on fold [4/5]\n"
     ]
    },
    {
     "name": "stderr",
     "output_type": "stream",
     "text": [
      "\u001b[32m[I 2022-08-25 15:09:01,088]\u001b[0m Trial 80 finished with value: 0.7204234965409032 and parameters: {'iterations': 1300, 'learning_rate': 0.13367487886466242, 'random_strength': 7, 'bagging_temperature': 3, 'max_bin': 20, 'grow_policy': 'SymmetricTree', 'min_data_in_leaf': 1, 'max_depth': 2, 'l2_leaf_reg': 4.312316039562147e-05, 'one_hot_max_size': 500, 'auto_class_weights': 'Balanced'}. Best is trial 23 with value: 0.7220458135106365.\u001b[0m\n"
     ]
    },
    {
     "name": "stdout",
     "output_type": "stream",
     "text": [
      "\n",
      "bestTest = 0.6200220385\n",
      "bestIteration = 120\n",
      "\n",
      "Training on fold [0/5]\n",
      "\n",
      "bestTest = 0.6205751825\n"
     ]
    },
    {
     "name": "stderr",
     "output_type": "stream",
     "text": [
      "C:\\Users\\jvrdo\\anaconda3\\lib\\site-packages\\optuna\\distributions.py:560: UserWarning: The distribution is specified by [1, 10] and step=20, but the range is not divisible by `step`. It will be replaced by [1, 1].\n",
      "  warnings.warn(\n",
      "C:\\Users\\jvrdo\\anaconda3\\lib\\site-packages\\optuna\\distributions.py:560: UserWarning: The distribution is specified by [2, 10] and step=15, but the range is not divisible by `step`. It will be replaced by [2, 2].\n",
      "  warnings.warn(\n"
     ]
    },
    {
     "name": "stdout",
     "output_type": "stream",
     "text": [
      "bestIteration = 106\n",
      "\n",
      "Training on fold [1/5]\n",
      "\n",
      "bestTest = 0.6016964176\n",
      "bestIteration = 151\n",
      "\n",
      "Training on fold [2/5]\n",
      "\n",
      "bestTest = 0.612795757\n",
      "bestIteration = 135\n",
      "\n",
      "Training on fold [3/5]\n",
      "\n",
      "bestTest = 0.6155905495\n",
      "bestIteration = 143\n",
      "\n",
      "Training on fold [4/5]\n"
     ]
    },
    {
     "name": "stderr",
     "output_type": "stream",
     "text": [
      "\u001b[32m[I 2022-08-25 15:09:02,348]\u001b[0m Trial 81 finished with value: 0.7196779032723374 and parameters: {'iterations': 1200, 'learning_rate': 0.13609156090245902, 'random_strength': 7, 'bagging_temperature': 4, 'max_bin': 20, 'grow_policy': 'SymmetricTree', 'min_data_in_leaf': 1, 'max_depth': 2, 'l2_leaf_reg': 3.773093132064411e-05, 'one_hot_max_size': 500, 'auto_class_weights': 'Balanced'}. Best is trial 23 with value: 0.7220458135106365.\u001b[0m\n"
     ]
    },
    {
     "name": "stdout",
     "output_type": "stream",
     "text": [
      "\n",
      "bestTest = 0.6175020255\n",
      "bestIteration = 152\n",
      "\n",
      "Training on fold [0/5]\n"
     ]
    },
    {
     "name": "stderr",
     "output_type": "stream",
     "text": [
      "C:\\Users\\jvrdo\\anaconda3\\lib\\site-packages\\optuna\\distributions.py:560: UserWarning: The distribution is specified by [1, 10] and step=20, but the range is not divisible by `step`. It will be replaced by [1, 1].\n",
      "  warnings.warn(\n",
      "C:\\Users\\jvrdo\\anaconda3\\lib\\site-packages\\optuna\\distributions.py:560: UserWarning: The distribution is specified by [2, 10] and step=15, but the range is not divisible by `step`. It will be replaced by [2, 2].\n",
      "  warnings.warn(\n"
     ]
    },
    {
     "name": "stdout",
     "output_type": "stream",
     "text": [
      "\n",
      "bestTest = 0.6185978033\n",
      "bestIteration = 129\n",
      "\n",
      "Training on fold [1/5]\n",
      "\n",
      "bestTest = 0.6026928593\n",
      "bestIteration = 192\n",
      "\n",
      "Training on fold [2/5]\n",
      "\n",
      "bestTest = 0.610098914\n",
      "bestIteration = 242\n",
      "\n",
      "Training on fold [3/5]\n",
      "\n",
      "bestTest = 0.6149877258\n",
      "bestIteration = 170\n",
      "\n",
      "Training on fold [4/5]\n"
     ]
    },
    {
     "name": "stderr",
     "output_type": "stream",
     "text": [
      "\u001b[32m[I 2022-08-25 15:09:04,064]\u001b[0m Trial 82 finished with value: 0.7211206535823049 and parameters: {'iterations': 1300, 'learning_rate': 0.12625194816166244, 'random_strength': 7, 'bagging_temperature': 3, 'max_bin': 20, 'grow_policy': 'SymmetricTree', 'min_data_in_leaf': 1, 'max_depth': 2, 'l2_leaf_reg': 1.2869639551363245e-05, 'one_hot_max_size': 500, 'auto_class_weights': 'Balanced'}. Best is trial 23 with value: 0.7220458135106365.\u001b[0m\n"
     ]
    },
    {
     "name": "stdout",
     "output_type": "stream",
     "text": [
      "\n",
      "bestTest = 0.6155113656\n",
      "bestIteration = 191\n",
      "\n",
      "Training on fold [0/5]\n",
      "\n",
      "bestTest = 0.6191645501\n",
      "bestIteration = 95\n",
      "\n"
     ]
    },
    {
     "name": "stderr",
     "output_type": "stream",
     "text": [
      "C:\\Users\\jvrdo\\anaconda3\\lib\\site-packages\\optuna\\distributions.py:560: UserWarning: The distribution is specified by [1, 10] and step=20, but the range is not divisible by `step`. It will be replaced by [1, 1].\n",
      "  warnings.warn(\n",
      "C:\\Users\\jvrdo\\anaconda3\\lib\\site-packages\\optuna\\distributions.py:560: UserWarning: The distribution is specified by [2, 10] and step=15, but the range is not divisible by `step`. It will be replaced by [2, 2].\n",
      "  warnings.warn(\n"
     ]
    },
    {
     "name": "stdout",
     "output_type": "stream",
     "text": [
      "Training on fold [1/5]\n",
      "\n",
      "bestTest = 0.6019129957\n",
      "bestIteration = 177\n",
      "\n",
      "Training on fold [2/5]\n",
      "\n",
      "bestTest = 0.6100385452\n",
      "bestIteration = 203\n",
      "\n",
      "Training on fold [3/5]\n",
      "\n",
      "bestTest = 0.6193336677\n",
      "bestIteration = 89\n",
      "\n",
      "Training on fold [4/5]\n"
     ]
    },
    {
     "name": "stderr",
     "output_type": "stream",
     "text": [
      "\u001b[32m[I 2022-08-25 15:09:05,251]\u001b[0m Trial 83 finished with value: 0.7192275368852753 and parameters: {'iterations': 1300, 'learning_rate': 0.151331908453742, 'random_strength': 7, 'bagging_temperature': 3, 'max_bin': 20, 'grow_policy': 'SymmetricTree', 'min_data_in_leaf': 1, 'max_depth': 2, 'l2_leaf_reg': 1.0059766521271999e-05, 'one_hot_max_size': 500, 'auto_class_weights': 'Balanced'}. Best is trial 23 with value: 0.7220458135106365.\u001b[0m\n"
     ]
    },
    {
     "name": "stdout",
     "output_type": "stream",
     "text": [
      "\n",
      "bestTest = 0.6199452439\n",
      "bestIteration = 88\n",
      "\n",
      "Training on fold [0/5]\n"
     ]
    },
    {
     "name": "stderr",
     "output_type": "stream",
     "text": [
      "C:\\Users\\jvrdo\\anaconda3\\lib\\site-packages\\optuna\\distributions.py:560: UserWarning: The distribution is specified by [1, 10] and step=20, but the range is not divisible by `step`. It will be replaced by [1, 1].\n",
      "  warnings.warn(\n",
      "C:\\Users\\jvrdo\\anaconda3\\lib\\site-packages\\optuna\\distributions.py:560: UserWarning: The distribution is specified by [2, 10] and step=15, but the range is not divisible by `step`. It will be replaced by [2, 2].\n",
      "  warnings.warn(\n"
     ]
    },
    {
     "name": "stdout",
     "output_type": "stream",
     "text": [
      "\n",
      "bestTest = 0.6208962814\n",
      "bestIteration = 108\n",
      "\n",
      "Training on fold [1/5]\n",
      "\n",
      "bestTest = 0.603317582\n",
      "bestIteration = 170\n",
      "\n",
      "Training on fold [2/5]\n",
      "\n",
      "bestTest = 0.610957868\n",
      "bestIteration = 193\n",
      "\n",
      "Training on fold [3/5]\n",
      "\n",
      "bestTest = 0.6131232108\n",
      "bestIteration = 174\n",
      "\n",
      "Training on fold [4/5]\n"
     ]
    },
    {
     "name": "stderr",
     "output_type": "stream",
     "text": [
      "\u001b[32m[I 2022-08-25 15:09:06,681]\u001b[0m Trial 84 finished with value: 0.7204181396192396 and parameters: {'iterations': 1300, 'learning_rate': 0.12974314559508676, 'random_strength': 8, 'bagging_temperature': 3, 'max_bin': 20, 'grow_policy': 'SymmetricTree', 'min_data_in_leaf': 1, 'max_depth': 2, 'l2_leaf_reg': 2.0506479925251205e-05, 'one_hot_max_size': 500, 'auto_class_weights': 'Balanced'}. Best is trial 23 with value: 0.7220458135106365.\u001b[0m\n"
     ]
    },
    {
     "name": "stdout",
     "output_type": "stream",
     "text": [
      "\n",
      "bestTest = 0.6161724255\n",
      "bestIteration = 181\n",
      "\n",
      "Training on fold [0/5]\n"
     ]
    },
    {
     "name": "stderr",
     "output_type": "stream",
     "text": [
      "C:\\Users\\jvrdo\\anaconda3\\lib\\site-packages\\optuna\\distributions.py:560: UserWarning: The distribution is specified by [1, 10] and step=20, but the range is not divisible by `step`. It will be replaced by [1, 1].\n",
      "  warnings.warn(\n",
      "C:\\Users\\jvrdo\\anaconda3\\lib\\site-packages\\optuna\\distributions.py:560: UserWarning: The distribution is specified by [2, 10] and step=15, but the range is not divisible by `step`. It will be replaced by [2, 2].\n",
      "  warnings.warn(\n"
     ]
    },
    {
     "name": "stdout",
     "output_type": "stream",
     "text": [
      "\n",
      "bestTest = 0.61805059\n",
      "bestIteration = 133\n",
      "\n",
      "Training on fold [1/5]\n",
      "\n",
      "bestTest = 0.6010866113\n",
      "bestIteration = 215\n",
      "\n",
      "Training on fold [2/5]\n",
      "\n",
      "bestTest = 0.6136755921\n",
      "bestIteration = 147\n",
      "\n",
      "Training on fold [3/5]\n",
      "\n",
      "bestTest = 0.6153274755\n",
      "bestIteration = 154\n",
      "\n",
      "Training on fold [4/5]\n"
     ]
    },
    {
     "name": "stderr",
     "output_type": "stream",
     "text": [
      "\u001b[32m[I 2022-08-25 15:09:08,101]\u001b[0m Trial 85 finished with value: 0.7203545151852062 and parameters: {'iterations': 1300, 'learning_rate': 0.1235888240122646, 'random_strength': 8, 'bagging_temperature': 4, 'max_bin': 20, 'grow_policy': 'SymmetricTree', 'min_data_in_leaf': 1, 'max_depth': 2, 'l2_leaf_reg': 2.105256266206731e-05, 'one_hot_max_size': 500, 'auto_class_weights': 'Balanced'}. Best is trial 23 with value: 0.7220458135106365.\u001b[0m\n"
     ]
    },
    {
     "name": "stdout",
     "output_type": "stream",
     "text": [
      "\n",
      "bestTest = 0.61599379\n",
      "bestIteration = 161\n",
      "\n",
      "Training on fold [0/5]\n"
     ]
    },
    {
     "name": "stderr",
     "output_type": "stream",
     "text": [
      "C:\\Users\\jvrdo\\anaconda3\\lib\\site-packages\\optuna\\distributions.py:560: UserWarning: The distribution is specified by [1, 10] and step=20, but the range is not divisible by `step`. It will be replaced by [1, 1].\n",
      "  warnings.warn(\n",
      "C:\\Users\\jvrdo\\anaconda3\\lib\\site-packages\\optuna\\distributions.py:560: UserWarning: The distribution is specified by [2, 10] and step=15, but the range is not divisible by `step`. It will be replaced by [2, 2].\n",
      "  warnings.warn(\n"
     ]
    },
    {
     "name": "stdout",
     "output_type": "stream",
     "text": [
      "\n",
      "bestTest = 0.6199563691\n",
      "bestIteration = 110\n",
      "\n",
      "Training on fold [1/5]\n",
      "\n",
      "bestTest = 0.6046470897\n",
      "bestIteration = 149\n",
      "\n",
      "Training on fold [2/5]\n",
      "\n",
      "bestTest = 0.6128746403\n",
      "bestIteration = 162\n",
      "\n",
      "Training on fold [3/5]\n",
      "\n",
      "bestTest = 0.6133298334\n",
      "bestIteration = 218\n",
      "\n",
      "Training on fold [4/5]\n"
     ]
    },
    {
     "name": "stderr",
     "output_type": "stream",
     "text": [
      "\u001b[32m[I 2022-08-25 15:09:09,466]\u001b[0m Trial 86 finished with value: 0.7198389690024134 and parameters: {'iterations': 1300, 'learning_rate': 0.12775932618770242, 'random_strength': 7, 'bagging_temperature': 3, 'max_bin': 20, 'grow_policy': 'SymmetricTree', 'min_data_in_leaf': 1, 'max_depth': 2, 'l2_leaf_reg': 3.365383424021022e-07, 'one_hot_max_size': 500, 'auto_class_weights': 'Balanced'}. Best is trial 23 with value: 0.7220458135106365.\u001b[0m\n"
     ]
    },
    {
     "name": "stdout",
     "output_type": "stream",
     "text": [
      "\n",
      "bestTest = 0.6167296695\n",
      "bestIteration = 153\n",
      "\n",
      "Training on fold [0/5]\n"
     ]
    },
    {
     "name": "stderr",
     "output_type": "stream",
     "text": [
      "C:\\Users\\jvrdo\\anaconda3\\lib\\site-packages\\optuna\\distributions.py:560: UserWarning: The distribution is specified by [1, 10] and step=20, but the range is not divisible by `step`. It will be replaced by [1, 1].\n",
      "  warnings.warn(\n",
      "C:\\Users\\jvrdo\\anaconda3\\lib\\site-packages\\optuna\\distributions.py:560: UserWarning: The distribution is specified by [2, 10] and step=15, but the range is not divisible by `step`. It will be replaced by [2, 2].\n",
      "  warnings.warn(\n"
     ]
    },
    {
     "name": "stdout",
     "output_type": "stream",
     "text": [
      "\n",
      "bestTest = 0.6088657179\n",
      "bestIteration = 143\n",
      "\n",
      "Training on fold [1/5]\n",
      "\n",
      "bestTest = 0.5950614818\n",
      "bestIteration = 204\n",
      "\n",
      "Training on fold [2/5]\n",
      "\n",
      "bestTest = 0.6063211813\n",
      "bestIteration = 133\n",
      "\n",
      "Training on fold [3/5]\n",
      "\n",
      "bestTest = 0.6094104977\n",
      "bestIteration = 134\n",
      "\n",
      "Training on fold [4/5]\n"
     ]
    },
    {
     "name": "stderr",
     "output_type": "stream",
     "text": [
      "\u001b[32m[I 2022-08-25 15:09:10,758]\u001b[0m Trial 87 finished with value: 0.7188951530701869 and parameters: {'iterations': 1300, 'learning_rate': 0.11659731820969714, 'random_strength': 8, 'bagging_temperature': 3, 'max_bin': 20, 'grow_policy': 'SymmetricTree', 'min_data_in_leaf': 1, 'max_depth': 2, 'l2_leaf_reg': 4.645875296998156e-05, 'one_hot_max_size': 500, 'auto_class_weights': 'SqrtBalanced'}. Best is trial 23 with value: 0.7220458135106365.\u001b[0m\n"
     ]
    },
    {
     "name": "stdout",
     "output_type": "stream",
     "text": [
      "\n",
      "bestTest = 0.6092849807\n",
      "bestIteration = 116\n",
      "\n",
      "Training on fold [0/5]\n",
      "\n",
      "bestTest = 0.6188717104\n"
     ]
    },
    {
     "name": "stderr",
     "output_type": "stream",
     "text": [
      "C:\\Users\\jvrdo\\anaconda3\\lib\\site-packages\\optuna\\distributions.py:560: UserWarning: The distribution is specified by [1, 10] and step=20, but the range is not divisible by `step`. It will be replaced by [1, 1].\n",
      "  warnings.warn(\n",
      "C:\\Users\\jvrdo\\anaconda3\\lib\\site-packages\\optuna\\distributions.py:560: UserWarning: The distribution is specified by [2, 10] and step=15, but the range is not divisible by `step`. It will be replaced by [2, 2].\n",
      "  warnings.warn(\n"
     ]
    },
    {
     "name": "stdout",
     "output_type": "stream",
     "text": [
      "bestIteration = 103\n",
      "\n",
      "Training on fold [1/5]\n",
      "\n",
      "bestTest = 0.6009788498\n",
      "bestIteration = 255\n",
      "\n",
      "Training on fold [2/5]\n",
      "\n",
      "bestTest = 0.613079992\n",
      "bestIteration = 149\n",
      "\n",
      "Training on fold [3/5]\n"
     ]
    },
    {
     "name": "stderr",
     "output_type": "stream",
     "text": [
      "\u001b[32m[I 2022-08-25 15:09:12,094]\u001b[0m Trial 88 finished with value: 0.7197052877300207 and parameters: {'iterations': 1300, 'learning_rate': 0.14645419677487043, 'random_strength': 9, 'bagging_temperature': 3, 'max_bin': 20, 'grow_policy': 'SymmetricTree', 'min_data_in_leaf': 1, 'max_depth': 2, 'l2_leaf_reg': 1.3972103611329938e-06, 'one_hot_max_size': 500, 'auto_class_weights': 'Balanced'}. Best is trial 23 with value: 0.7220458135106365.\u001b[0m\n"
     ]
    },
    {
     "name": "stdout",
     "output_type": "stream",
     "text": [
      "\n",
      "bestTest = 0.6156353773\n",
      "bestIteration = 147\n",
      "\n",
      "Training on fold [4/5]\n",
      "\n",
      "bestTest = 0.6173545333\n",
      "bestIteration = 87\n",
      "\n"
     ]
    },
    {
     "name": "stderr",
     "output_type": "stream",
     "text": [
      "C:\\Users\\jvrdo\\anaconda3\\lib\\site-packages\\optuna\\distributions.py:560: UserWarning: The distribution is specified by [1, 10] and step=20, but the range is not divisible by `step`. It will be replaced by [1, 1].\n",
      "  warnings.warn(\n",
      "C:\\Users\\jvrdo\\anaconda3\\lib\\site-packages\\optuna\\distributions.py:560: UserWarning: The distribution is specified by [2, 10] and step=15, but the range is not divisible by `step`. It will be replaced by [2, 2].\n",
      "  warnings.warn(\n"
     ]
    },
    {
     "name": "stdout",
     "output_type": "stream",
     "text": [
      "Training on fold [0/5]\n",
      "\n",
      "bestTest = 0.6181580152\n",
      "bestIteration = 84\n",
      "\n",
      "Training on fold [1/5]\n",
      "\n",
      "bestTest = 0.6029532073\n",
      "bestIteration = 141\n",
      "\n",
      "Training on fold [2/5]\n",
      "\n",
      "bestTest = 0.6093358211\n",
      "bestIteration = 146\n",
      "\n",
      "Training on fold [3/5]\n",
      "\n",
      "bestTest = 0.6163963357\n",
      "bestIteration = 113\n",
      "\n",
      "Training on fold [4/5]\n",
      "\n"
     ]
    },
    {
     "name": "stderr",
     "output_type": "stream",
     "text": [
      "\u001b[32m[I 2022-08-25 15:09:13,198]\u001b[0m Trial 89 finished with value: 0.720038263041294 and parameters: {'iterations': 1300, 'learning_rate': 0.1572082886546649, 'random_strength': 8, 'bagging_temperature': 4, 'max_bin': 20, 'grow_policy': 'SymmetricTree', 'min_data_in_leaf': 1, 'max_depth': 2, 'l2_leaf_reg': 7.56397922016433e-07, 'one_hot_max_size': 500, 'auto_class_weights': 'Balanced'}. Best is trial 23 with value: 0.7220458135106365.\u001b[0m\n"
     ]
    },
    {
     "name": "stdout",
     "output_type": "stream",
     "text": [
      "bestTest = 0.6191085634\n",
      "bestIteration = 105\n",
      "\n",
      "Training on fold [0/5]\n"
     ]
    },
    {
     "name": "stderr",
     "output_type": "stream",
     "text": [
      "C:\\Users\\jvrdo\\anaconda3\\lib\\site-packages\\optuna\\distributions.py:560: UserWarning: The distribution is specified by [1, 10] and step=20, but the range is not divisible by `step`. It will be replaced by [1, 1].\n",
      "  warnings.warn(\n",
      "C:\\Users\\jvrdo\\anaconda3\\lib\\site-packages\\optuna\\distributions.py:560: UserWarning: The distribution is specified by [2, 10] and step=15, but the range is not divisible by `step`. It will be replaced by [2, 2].\n",
      "  warnings.warn(\n"
     ]
    },
    {
     "name": "stdout",
     "output_type": "stream",
     "text": [
      "\n",
      "bestTest = 0.6310112572\n",
      "bestIteration = 1299\n",
      "\n",
      "Training on fold [1/5]\n",
      "\n",
      "bestTest = 0.6267108492\n",
      "bestIteration = 1299\n",
      "\n",
      "Training on fold [2/5]\n",
      "\n",
      "bestTest = 0.6323067926\n",
      "bestIteration = 1299\n",
      "\n",
      "Training on fold [3/5]\n",
      "\n",
      "bestTest = 0.6337660042\n",
      "bestIteration = 1299\n",
      "\n",
      "Training on fold [4/5]\n"
     ]
    },
    {
     "name": "stderr",
     "output_type": "stream",
     "text": [
      "\u001b[32m[I 2022-08-25 15:09:23,141]\u001b[0m Trial 90 finished with value: 0.7070451324756903 and parameters: {'iterations': 1300, 'learning_rate': 0.002943867894803609, 'random_strength': 7, 'bagging_temperature': 2, 'max_bin': 6, 'grow_policy': 'SymmetricTree', 'min_data_in_leaf': 1, 'max_depth': 2, 'l2_leaf_reg': 3.574508086607521e-06, 'one_hot_max_size': 500, 'auto_class_weights': 'Balanced'}. Best is trial 23 with value: 0.7220458135106365.\u001b[0m\n"
     ]
    },
    {
     "name": "stdout",
     "output_type": "stream",
     "text": [
      "\n",
      "bestTest = 0.6303221126\n",
      "bestIteration = 1299\n",
      "\n",
      "Training on fold [0/5]\n"
     ]
    },
    {
     "name": "stderr",
     "output_type": "stream",
     "text": [
      "C:\\Users\\jvrdo\\anaconda3\\lib\\site-packages\\optuna\\distributions.py:560: UserWarning: The distribution is specified by [1, 10] and step=20, but the range is not divisible by `step`. It will be replaced by [1, 1].\n",
      "  warnings.warn(\n",
      "C:\\Users\\jvrdo\\anaconda3\\lib\\site-packages\\optuna\\distributions.py:560: UserWarning: The distribution is specified by [2, 10] and step=15, but the range is not divisible by `step`. It will be replaced by [2, 2].\n",
      "  warnings.warn(\n"
     ]
    },
    {
     "name": "stdout",
     "output_type": "stream",
     "text": [
      "\n",
      "bestTest = 0.6168359184\n",
      "bestIteration = 127\n",
      "\n",
      "Training on fold [1/5]\n",
      "\n",
      "bestTest = 0.6024746657\n",
      "bestIteration = 178\n",
      "\n",
      "Training on fold [2/5]\n",
      "\n",
      "bestTest = 0.6095040466\n",
      "bestIteration = 174\n",
      "\n",
      "Training on fold [3/5]\n",
      "\n",
      "bestTest = 0.6136239861\n",
      "bestIteration = 162\n",
      "\n",
      "Training on fold [4/5]\n"
     ]
    },
    {
     "name": "stderr",
     "output_type": "stream",
     "text": [
      "\u001b[32m[I 2022-08-25 15:09:24,533]\u001b[0m Trial 91 finished with value: 0.7222766107025115 and parameters: {'iterations': 1300, 'learning_rate': 0.12358713426879825, 'random_strength': 8, 'bagging_temperature': 4, 'max_bin': 20, 'grow_policy': 'SymmetricTree', 'min_data_in_leaf': 1, 'max_depth': 2, 'l2_leaf_reg': 1.553685954296995e-05, 'one_hot_max_size': 500, 'auto_class_weights': 'Balanced'}. Best is trial 91 with value: 0.7222766107025115.\u001b[0m\n"
     ]
    },
    {
     "name": "stdout",
     "output_type": "stream",
     "text": [
      "\n",
      "bestTest = 0.615615015\n",
      "bestIteration = 150\n",
      "\n",
      "Training on fold [0/5]\n"
     ]
    },
    {
     "name": "stderr",
     "output_type": "stream",
     "text": [
      "C:\\Users\\jvrdo\\anaconda3\\lib\\site-packages\\optuna\\distributions.py:560: UserWarning: The distribution is specified by [1, 10] and step=20, but the range is not divisible by `step`. It will be replaced by [1, 1].\n",
      "  warnings.warn(\n",
      "C:\\Users\\jvrdo\\anaconda3\\lib\\site-packages\\optuna\\distributions.py:560: UserWarning: The distribution is specified by [2, 10] and step=15, but the range is not divisible by `step`. It will be replaced by [2, 2].\n",
      "  warnings.warn(\n"
     ]
    },
    {
     "name": "stdout",
     "output_type": "stream",
     "text": [
      "\n",
      "bestTest = 0.6177613497\n",
      "bestIteration = 147\n",
      "\n",
      "Training on fold [1/5]\n",
      "\n",
      "bestTest = 0.6044107511\n",
      "bestIteration = 172\n",
      "\n",
      "Training on fold [2/5]\n",
      "\n",
      "bestTest = 0.6149192227\n",
      "bestIteration = 156\n",
      "\n",
      "Training on fold [3/5]\n",
      "\n",
      "bestTest = 0.6165028151\n",
      "bestIteration = 143\n",
      "\n",
      "Training on fold [4/5]\n"
     ]
    },
    {
     "name": "stderr",
     "output_type": "stream",
     "text": [
      "\u001b[32m[I 2022-08-25 15:09:25,906]\u001b[0m Trial 92 finished with value: 0.7193399344929741 and parameters: {'iterations': 1300, 'learning_rate': 0.1104325629578234, 'random_strength': 9, 'bagging_temperature': 4, 'max_bin': 20, 'grow_policy': 'SymmetricTree', 'min_data_in_leaf': 1, 'max_depth': 2, 'l2_leaf_reg': 7.101764879646042e-06, 'one_hot_max_size': 500, 'auto_class_weights': 'Balanced'}. Best is trial 91 with value: 0.7222766107025115.\u001b[0m\n"
     ]
    },
    {
     "name": "stdout",
     "output_type": "stream",
     "text": [
      "\n",
      "bestTest = 0.6179962663\n",
      "bestIteration = 164\n",
      "\n",
      "Training on fold [0/5]\n",
      "\n",
      "bestTest = 0.6223055474\n",
      "bestIteration = 62\n",
      "\n",
      "Training on fold [1/5]\n"
     ]
    },
    {
     "name": "stderr",
     "output_type": "stream",
     "text": [
      "C:\\Users\\jvrdo\\anaconda3\\lib\\site-packages\\optuna\\distributions.py:560: UserWarning: The distribution is specified by [1, 10] and step=20, but the range is not divisible by `step`. It will be replaced by [1, 1].\n",
      "  warnings.warn(\n",
      "C:\\Users\\jvrdo\\anaconda3\\lib\\site-packages\\optuna\\distributions.py:560: UserWarning: The distribution is specified by [2, 10] and step=15, but the range is not divisible by `step`. It will be replaced by [2, 2].\n",
      "  warnings.warn(\n"
     ]
    },
    {
     "name": "stdout",
     "output_type": "stream",
     "text": [
      "\n",
      "bestTest = 0.6038747\n",
      "bestIteration = 94\n",
      "\n",
      "Training on fold [2/5]\n",
      "\n",
      "bestTest = 0.6092111405\n",
      "bestIteration = 127\n",
      "\n",
      "Training on fold [3/5]\n",
      "\n",
      "bestTest = 0.6138887132\n",
      "bestIteration = 87\n",
      "\n",
      "Training on fold [4/5]\n"
     ]
    },
    {
     "name": "stderr",
     "output_type": "stream",
     "text": [
      "\u001b[32m[I 2022-08-25 15:09:26,824]\u001b[0m Trial 93 finished with value: 0.7202678175039484 and parameters: {'iterations': 1300, 'learning_rate': 0.23549032801039738, 'random_strength': 8, 'bagging_temperature': 3, 'max_bin': 20, 'grow_policy': 'SymmetricTree', 'min_data_in_leaf': 1, 'max_depth': 2, 'l2_leaf_reg': 1.5505162492659825e-05, 'one_hot_max_size': 500, 'auto_class_weights': 'Balanced'}. Best is trial 91 with value: 0.7222766107025115.\u001b[0m\n"
     ]
    },
    {
     "name": "stdout",
     "output_type": "stream",
     "text": [
      "\n",
      "bestTest = 0.6144412949\n",
      "bestIteration = 97\n",
      "\n",
      "Training on fold [0/5]\n",
      "\n",
      "bestTest = 0.6234567924\n",
      "bestIteration = 72\n",
      "\n",
      "Training on fold [1/5]\n"
     ]
    },
    {
     "name": "stderr",
     "output_type": "stream",
     "text": [
      "C:\\Users\\jvrdo\\anaconda3\\lib\\site-packages\\optuna\\distributions.py:560: UserWarning: The distribution is specified by [1, 10] and step=20, but the range is not divisible by `step`. It will be replaced by [1, 1].\n",
      "  warnings.warn(\n",
      "C:\\Users\\jvrdo\\anaconda3\\lib\\site-packages\\optuna\\distributions.py:560: UserWarning: The distribution is specified by [2, 10] and step=15, but the range is not divisible by `step`. It will be replaced by [2, 2].\n",
      "  warnings.warn(\n"
     ]
    },
    {
     "name": "stdout",
     "output_type": "stream",
     "text": [
      "\n",
      "bestTest = 0.6047157666\n",
      "bestIteration = 137\n",
      "\n",
      "Training on fold [2/5]\n",
      "\n",
      "bestTest = 0.6094231112\n",
      "bestIteration = 139\n",
      "\n",
      "Training on fold [3/5]\n",
      "\n",
      "bestTest = 0.6155594252\n",
      "bestIteration = 121\n",
      "\n",
      "Training on fold [4/5]\n"
     ]
    },
    {
     "name": "stderr",
     "output_type": "stream",
     "text": [
      "\u001b[32m[I 2022-08-25 15:09:28,003]\u001b[0m Trial 94 finished with value: 0.7208039728951741 and parameters: {'iterations': 1300, 'learning_rate': 0.13844047035396936, 'random_strength': 8, 'bagging_temperature': 4, 'max_bin': 20, 'grow_policy': 'SymmetricTree', 'min_data_in_leaf': 1, 'max_depth': 2, 'l2_leaf_reg': 5.2959610914494955e-05, 'one_hot_max_size': 500, 'auto_class_weights': 'Balanced'}. Best is trial 91 with value: 0.7222766107025115.\u001b[0m\n"
     ]
    },
    {
     "name": "stdout",
     "output_type": "stream",
     "text": [
      "\n",
      "bestTest = 0.6153090403\n",
      "bestIteration = 182\n",
      "\n",
      "Training on fold [0/5]\n",
      "\n"
     ]
    },
    {
     "name": "stderr",
     "output_type": "stream",
     "text": [
      "C:\\Users\\jvrdo\\anaconda3\\lib\\site-packages\\optuna\\distributions.py:560: UserWarning: The distribution is specified by [1, 10] and step=20, but the range is not divisible by `step`. It will be replaced by [1, 1].\n",
      "  warnings.warn(\n",
      "C:\\Users\\jvrdo\\anaconda3\\lib\\site-packages\\optuna\\distributions.py:560: UserWarning: The distribution is specified by [2, 10] and step=15, but the range is not divisible by `step`. It will be replaced by [2, 2].\n",
      "  warnings.warn(\n"
     ]
    },
    {
     "name": "stdout",
     "output_type": "stream",
     "text": [
      "bestTest = 0.6198132208\n",
      "bestIteration = 89\n",
      "\n",
      "Training on fold [1/5]\n",
      "\n",
      "bestTest = 0.6022221086\n",
      "bestIteration = 167\n",
      "\n",
      "Training on fold [2/5]\n",
      "\n",
      "bestTest = 0.6126772402\n",
      "bestIteration = 135\n",
      "\n",
      "Training on fold [3/5]\n",
      "\n",
      "bestTest = 0.6158416838\n",
      "bestIteration = 113\n",
      "\n",
      "Training on fold [4/5]\n"
     ]
    },
    {
     "name": "stderr",
     "output_type": "stream",
     "text": [
      "\u001b[32m[I 2022-08-25 15:09:29,164]\u001b[0m Trial 95 finished with value: 0.720295830249408 and parameters: {'iterations': 1300, 'learning_rate': 0.14119050518441673, 'random_strength': 7, 'bagging_temperature': 5, 'max_bin': 20, 'grow_policy': 'SymmetricTree', 'min_data_in_leaf': 1, 'max_depth': 2, 'l2_leaf_reg': 0.00024371376042970223, 'one_hot_max_size': 500, 'auto_class_weights': 'Balanced'}. Best is trial 91 with value: 0.7222766107025115.\u001b[0m\n"
     ]
    },
    {
     "name": "stdout",
     "output_type": "stream",
     "text": [
      "\n",
      "bestTest = 0.6163641473\n",
      "bestIteration = 136\n",
      "\n",
      "Training on fold [0/5]\n",
      "\n"
     ]
    },
    {
     "name": "stderr",
     "output_type": "stream",
     "text": [
      "C:\\Users\\jvrdo\\anaconda3\\lib\\site-packages\\optuna\\distributions.py:560: UserWarning: The distribution is specified by [1, 10] and step=20, but the range is not divisible by `step`. It will be replaced by [1, 1].\n",
      "  warnings.warn(\n",
      "C:\\Users\\jvrdo\\anaconda3\\lib\\site-packages\\optuna\\distributions.py:560: UserWarning: The distribution is specified by [2, 10] and step=15, but the range is not divisible by `step`. It will be replaced by [2, 2].\n",
      "  warnings.warn(\n"
     ]
    },
    {
     "name": "stdout",
     "output_type": "stream",
     "text": [
      "bestTest = 0.6115764473\n",
      "bestIteration = 92\n",
      "\n",
      "Training on fold [1/5]\n",
      "\n",
      "bestTest = 0.5992344022\n",
      "bestIteration = 118\n",
      "\n",
      "Training on fold [2/5]\n",
      "\n",
      "bestTest = 0.6109593432\n",
      "bestIteration = 75\n",
      "\n",
      "Training on fold [3/5]\n",
      "\n",
      "bestTest = 0.610069616\n",
      "bestIteration = 115\n",
      "\n",
      "Training on fold [4/5]\n",
      "\n"
     ]
    },
    {
     "name": "stderr",
     "output_type": "stream",
     "text": [
      "\u001b[32m[I 2022-08-25 15:09:30,140]\u001b[0m Trial 96 finished with value: 0.7155578495482822 and parameters: {'iterations': 1300, 'learning_rate': 0.16573101662779477, 'random_strength': 6, 'bagging_temperature': 5, 'max_bin': 4, 'grow_policy': 'SymmetricTree', 'min_data_in_leaf': 1, 'max_depth': 2, 'l2_leaf_reg': 9.688042576938367e-06, 'one_hot_max_size': 500, 'auto_class_weights': 'SqrtBalanced'}. Best is trial 91 with value: 0.7222766107025115.\u001b[0m\n"
     ]
    },
    {
     "name": "stdout",
     "output_type": "stream",
     "text": [
      "bestTest = 0.6086801381\n",
      "bestIteration = 92\n",
      "\n",
      "Training on fold [0/5]\n"
     ]
    },
    {
     "name": "stderr",
     "output_type": "stream",
     "text": [
      "C:\\Users\\jvrdo\\anaconda3\\lib\\site-packages\\optuna\\distributions.py:560: UserWarning: The distribution is specified by [1, 10] and step=20, but the range is not divisible by `step`. It will be replaced by [1, 1].\n",
      "  warnings.warn(\n",
      "C:\\Users\\jvrdo\\anaconda3\\lib\\site-packages\\optuna\\distributions.py:560: UserWarning: The distribution is specified by [2, 10] and step=15, but the range is not divisible by `step`. It will be replaced by [2, 2].\n",
      "  warnings.warn(\n"
     ]
    },
    {
     "name": "stdout",
     "output_type": "stream",
     "text": [
      "\n",
      "bestTest = 0.6221695358\n",
      "bestIteration = 137\n",
      "\n",
      "Training on fold [1/5]\n",
      "\n",
      "bestTest = 0.6099148917\n",
      "bestIteration = 136\n",
      "\n",
      "Training on fold [2/5]\n",
      "\n",
      "bestTest = 0.6179531861\n",
      "bestIteration = 124\n",
      "\n",
      "Training on fold [3/5]\n",
      "\n",
      "bestTest = 0.6280187581\n",
      "bestIteration = 50\n",
      "\n",
      "Training on fold [4/5]\n"
     ]
    },
    {
     "name": "stderr",
     "output_type": "stream",
     "text": [
      "\u001b[32m[I 2022-08-25 15:09:36,557]\u001b[0m Trial 97 finished with value: 0.7124765167521208 and parameters: {'iterations': 1500, 'learning_rate': 0.12176702092116816, 'random_strength': 7, 'bagging_temperature': 4, 'max_bin': 5, 'grow_policy': 'SymmetricTree', 'min_data_in_leaf': 1, 'max_depth': 2, 'l2_leaf_reg': 0.00010793081016990647, 'one_hot_max_size': 10, 'auto_class_weights': 'Balanced'}. Best is trial 91 with value: 0.7222766107025115.\u001b[0m\n"
     ]
    },
    {
     "name": "stdout",
     "output_type": "stream",
     "text": [
      "\n",
      "bestTest = 0.6205385942\n",
      "bestIteration = 126\n",
      "\n",
      "Training on fold [0/5]\n"
     ]
    },
    {
     "name": "stderr",
     "output_type": "stream",
     "text": [
      "C:\\Users\\jvrdo\\anaconda3\\lib\\site-packages\\optuna\\distributions.py:560: UserWarning: The distribution is specified by [1, 10] and step=20, but the range is not divisible by `step`. It will be replaced by [1, 1].\n",
      "  warnings.warn(\n",
      "C:\\Users\\jvrdo\\anaconda3\\lib\\site-packages\\optuna\\distributions.py:560: UserWarning: The distribution is specified by [2, 10] and step=15, but the range is not divisible by `step`. It will be replaced by [2, 2].\n",
      "  warnings.warn(\n"
     ]
    },
    {
     "name": "stdout",
     "output_type": "stream",
     "text": [
      "\n",
      "bestTest = 0.6171868435\n",
      "bestIteration = 118\n",
      "\n",
      "Training on fold [1/5]\n",
      "\n",
      "bestTest = 0.6027747683\n",
      "bestIteration = 182\n",
      "\n",
      "Training on fold [2/5]\n",
      "\n",
      "bestTest = 0.611534211\n",
      "bestIteration = 175\n",
      "\n",
      "Training on fold [3/5]\n",
      "\n",
      "bestTest = 0.6163138809\n",
      "bestIteration = 130\n",
      "\n",
      "Training on fold [4/5]\n"
     ]
    },
    {
     "name": "stderr",
     "output_type": "stream",
     "text": [
      "\u001b[32m[I 2022-08-25 15:09:37,906]\u001b[0m Trial 98 finished with value: 0.720271250270369 and parameters: {'iterations': 1300, 'learning_rate': 0.13484218114649876, 'random_strength': 8, 'bagging_temperature': 4, 'max_bin': 20, 'grow_policy': 'SymmetricTree', 'min_data_in_leaf': 1, 'max_depth': 2, 'l2_leaf_reg': 4.2996839510477126e-05, 'one_hot_max_size': 500, 'auto_class_weights': 'Balanced'}. Best is trial 91 with value: 0.7222766107025115.\u001b[0m\n"
     ]
    },
    {
     "name": "stdout",
     "output_type": "stream",
     "text": [
      "\n",
      "bestTest = 0.6172429249\n",
      "bestIteration = 141\n",
      "\n",
      "Training on fold [0/5]\n"
     ]
    },
    {
     "name": "stderr",
     "output_type": "stream",
     "text": [
      "C:\\Users\\jvrdo\\anaconda3\\lib\\site-packages\\optuna\\distributions.py:560: UserWarning: The distribution is specified by [1, 10] and step=20, but the range is not divisible by `step`. It will be replaced by [1, 1].\n",
      "  warnings.warn(\n",
      "C:\\Users\\jvrdo\\anaconda3\\lib\\site-packages\\optuna\\distributions.py:560: UserWarning: The distribution is specified by [2, 10] and step=15, but the range is not divisible by `step`. It will be replaced by [2, 2].\n",
      "  warnings.warn(\n"
     ]
    },
    {
     "name": "stdout",
     "output_type": "stream",
     "text": [
      "\n",
      "bestTest = 0.6272796544\n",
      "bestIteration = 49\n",
      "\n",
      "Training on fold [1/5]\n",
      "\n",
      "bestTest = 0.6253934138\n",
      "bestIteration = 13\n",
      "\n",
      "Training on fold [2/5]\n",
      "\n",
      "bestTest = 0.618423393\n",
      "bestIteration = 75\n",
      "\n",
      "Training on fold [3/5]\n",
      "\n",
      "bestTest = 0.619853762\n",
      "bestIteration = 107\n",
      "\n",
      "Training on fold [4/5]\n"
     ]
    },
    {
     "name": "stderr",
     "output_type": "stream",
     "text": [
      "\u001b[32m[I 2022-08-25 15:09:41,902]\u001b[0m Trial 99 finished with value: 0.7110258247163938 and parameters: {'iterations': 1000, 'learning_rate': 0.2799501589171144, 'random_strength': 7, 'bagging_temperature': 2, 'max_bin': 8, 'grow_policy': 'SymmetricTree', 'min_data_in_leaf': 1, 'max_depth': 2, 'l2_leaf_reg': 6.440832769751818e-05, 'one_hot_max_size': 5, 'auto_class_weights': 'Balanced'}. Best is trial 91 with value: 0.7222766107025115.\u001b[0m\n"
     ]
    },
    {
     "name": "stdout",
     "output_type": "stream",
     "text": [
      "\n",
      "bestTest = 0.621907675\n",
      "bestIteration = 65\n",
      "\n",
      "Training on fold [0/5]\n"
     ]
    },
    {
     "name": "stderr",
     "output_type": "stream",
     "text": [
      "C:\\Users\\jvrdo\\anaconda3\\lib\\site-packages\\optuna\\distributions.py:560: UserWarning: The distribution is specified by [1, 10] and step=20, but the range is not divisible by `step`. It will be replaced by [1, 1].\n",
      "  warnings.warn(\n",
      "C:\\Users\\jvrdo\\anaconda3\\lib\\site-packages\\optuna\\distributions.py:560: UserWarning: The distribution is specified by [2, 10] and step=15, but the range is not divisible by `step`. It will be replaced by [2, 2].\n",
      "  warnings.warn(\n"
     ]
    },
    {
     "name": "stdout",
     "output_type": "stream",
     "text": [
      "\n",
      "bestTest = 0.6175508995\n",
      "bestIteration = 460\n",
      "\n",
      "Training on fold [1/5]\n",
      "\n",
      "bestTest = 0.6062173079\n",
      "bestIteration = 497\n",
      "\n",
      "Training on fold [2/5]\n",
      "\n",
      "bestTest = 0.6153246564\n",
      "bestIteration = 499\n",
      "\n",
      "Training on fold [3/5]\n",
      "\n",
      "bestTest = 0.6171426241\n",
      "bestIteration = 497\n",
      "\n",
      "Training on fold [4/5]\n"
     ]
    },
    {
     "name": "stderr",
     "output_type": "stream",
     "text": [
      "\u001b[32m[I 2022-08-25 15:09:45,562]\u001b[0m Trial 100 finished with value: 0.7192056655996655 and parameters: {'iterations': 500, 'learning_rate': 0.0317368078919848, 'random_strength': 6, 'bagging_temperature': 4, 'max_bin': 20, 'grow_policy': 'SymmetricTree', 'min_data_in_leaf': 1, 'max_depth': 2, 'l2_leaf_reg': 3.057033030132362e-06, 'one_hot_max_size': 1024, 'auto_class_weights': 'Balanced'}. Best is trial 91 with value: 0.7222766107025115.\u001b[0m\n"
     ]
    },
    {
     "name": "stdout",
     "output_type": "stream",
     "text": [
      "\n",
      "bestTest = 0.618294492\n",
      "bestIteration = 423\n",
      "\n",
      "Training on fold [0/5]\n"
     ]
    },
    {
     "name": "stderr",
     "output_type": "stream",
     "text": [
      "C:\\Users\\jvrdo\\anaconda3\\lib\\site-packages\\optuna\\distributions.py:560: UserWarning: The distribution is specified by [1, 10] and step=20, but the range is not divisible by `step`. It will be replaced by [1, 1].\n",
      "  warnings.warn(\n",
      "C:\\Users\\jvrdo\\anaconda3\\lib\\site-packages\\optuna\\distributions.py:560: UserWarning: The distribution is specified by [2, 10] and step=15, but the range is not divisible by `step`. It will be replaced by [2, 2].\n",
      "  warnings.warn(\n"
     ]
    },
    {
     "name": "stdout",
     "output_type": "stream",
     "text": [
      "\n",
      "bestTest = 0.6174225456\n",
      "bestIteration = 152\n",
      "\n",
      "Training on fold [1/5]\n",
      "\n",
      "bestTest = 0.604986573\n",
      "bestIteration = 143\n",
      "\n",
      "Training on fold [2/5]\n",
      "\n",
      "bestTest = 0.6195231461\n",
      "bestIteration = 111\n",
      "\n",
      "Training on fold [3/5]\n",
      "\n",
      "bestTest = 0.6149255151\n",
      "bestIteration = 188\n",
      "\n",
      "Training on fold [4/5]\n"
     ]
    },
    {
     "name": "stderr",
     "output_type": "stream",
     "text": [
      "\u001b[32m[I 2022-08-25 15:09:46,805]\u001b[0m Trial 101 finished with value: 0.7186910037964278 and parameters: {'iterations': 1300, 'learning_rate': 0.11429479372306552, 'random_strength': 8, 'bagging_temperature': 3, 'max_bin': 20, 'grow_policy': 'SymmetricTree', 'min_data_in_leaf': 1, 'max_depth': 2, 'l2_leaf_reg': 1.5936816573379465e-05, 'one_hot_max_size': 500, 'auto_class_weights': 'Balanced'}. Best is trial 91 with value: 0.7222766107025115.\u001b[0m\n"
     ]
    },
    {
     "name": "stdout",
     "output_type": "stream",
     "text": [
      "\n",
      "bestTest = 0.6185099289\n",
      "bestIteration = 120\n",
      "\n",
      "Training on fold [0/5]\n"
     ]
    },
    {
     "name": "stderr",
     "output_type": "stream",
     "text": [
      "C:\\Users\\jvrdo\\anaconda3\\lib\\site-packages\\optuna\\distributions.py:560: UserWarning: The distribution is specified by [1, 10] and step=20, but the range is not divisible by `step`. It will be replaced by [1, 1].\n",
      "  warnings.warn(\n",
      "C:\\Users\\jvrdo\\anaconda3\\lib\\site-packages\\optuna\\distributions.py:560: UserWarning: The distribution is specified by [2, 10] and step=15, but the range is not divisible by `step`. It will be replaced by [2, 2].\n",
      "  warnings.warn(\n"
     ]
    },
    {
     "name": "stdout",
     "output_type": "stream",
     "text": [
      "\n",
      "bestTest = 0.6167590621\n",
      "bestIteration = 123\n",
      "\n",
      "Training on fold [1/5]\n",
      "\n",
      "bestTest = 0.6030945783\n",
      "bestIteration = 160\n",
      "\n",
      "Training on fold [2/5]\n",
      "\n",
      "bestTest = 0.6159998166\n",
      "bestIteration = 119\n",
      "\n",
      "Training on fold [3/5]\n",
      "\n",
      "bestTest = 0.6173308688\n",
      "bestIteration = 117\n",
      "\n",
      "Training on fold [4/5]\n",
      "\n",
      "bestTest = 0.6204455576\n"
     ]
    },
    {
     "name": "stderr",
     "output_type": "stream",
     "text": [
      "\u001b[32m[I 2022-08-25 15:09:47,912]\u001b[0m Trial 102 finished with value: 0.7188356543630465 and parameters: {'iterations': 1300, 'learning_rate': 0.13206300631492926, 'random_strength': 8, 'bagging_temperature': 3, 'max_bin': 20, 'grow_policy': 'SymmetricTree', 'min_data_in_leaf': 1, 'max_depth': 2, 'l2_leaf_reg': 2.3593562990711192e-05, 'one_hot_max_size': 500, 'auto_class_weights': 'Balanced'}. Best is trial 91 with value: 0.7222766107025115.\u001b[0m\n"
     ]
    },
    {
     "name": "stdout",
     "output_type": "stream",
     "text": [
      "bestIteration = 107\n",
      "\n",
      "Training on fold [0/5]\n"
     ]
    },
    {
     "name": "stderr",
     "output_type": "stream",
     "text": [
      "C:\\Users\\jvrdo\\anaconda3\\lib\\site-packages\\optuna\\distributions.py:560: UserWarning: The distribution is specified by [1, 10] and step=20, but the range is not divisible by `step`. It will be replaced by [1, 1].\n",
      "  warnings.warn(\n",
      "C:\\Users\\jvrdo\\anaconda3\\lib\\site-packages\\optuna\\distributions.py:560: UserWarning: The distribution is specified by [2, 10] and step=15, but the range is not divisible by `step`. It will be replaced by [2, 2].\n",
      "  warnings.warn(\n"
     ]
    },
    {
     "name": "stdout",
     "output_type": "stream",
     "text": [
      "\n",
      "bestTest = 0.6195306027\n",
      "bestIteration = 116\n",
      "\n",
      "Training on fold [1/5]\n",
      "\n",
      "bestTest = 0.604260515\n",
      "bestIteration = 154\n",
      "\n",
      "Training on fold [2/5]\n",
      "\n",
      "bestTest = 0.6133462107\n",
      "bestIteration = 146\n",
      "\n",
      "Training on fold [3/5]\n",
      "\n",
      "bestTest = 0.6132839832\n",
      "bestIteration = 139\n",
      "\n",
      "Training on fold [4/5]\n"
     ]
    },
    {
     "name": "stderr",
     "output_type": "stream",
     "text": [
      "\u001b[32m[I 2022-08-25 15:09:49,104]\u001b[0m Trial 103 finished with value: 0.7200477750791625 and parameters: {'iterations': 1300, 'learning_rate': 0.12741813743224661, 'random_strength': 9, 'bagging_temperature': 3, 'max_bin': 20, 'grow_policy': 'SymmetricTree', 'min_data_in_leaf': 1, 'max_depth': 2, 'l2_leaf_reg': 1.2211962291079962e-07, 'one_hot_max_size': 500, 'auto_class_weights': 'Balanced'}. Best is trial 91 with value: 0.7222766107025115.\u001b[0m\n"
     ]
    },
    {
     "name": "stdout",
     "output_type": "stream",
     "text": [
      "\n",
      "bestTest = 0.6157783117\n",
      "bestIteration = 120\n",
      "\n",
      "Training on fold [0/5]\n"
     ]
    },
    {
     "name": "stderr",
     "output_type": "stream",
     "text": [
      "C:\\Users\\jvrdo\\anaconda3\\lib\\site-packages\\optuna\\distributions.py:560: UserWarning: The distribution is specified by [1, 10] and step=20, but the range is not divisible by `step`. It will be replaced by [1, 1].\n",
      "  warnings.warn(\n",
      "C:\\Users\\jvrdo\\anaconda3\\lib\\site-packages\\optuna\\distributions.py:560: UserWarning: The distribution is specified by [2, 10] and step=15, but the range is not divisible by `step`. It will be replaced by [2, 2].\n",
      "  warnings.warn(\n"
     ]
    },
    {
     "name": "stdout",
     "output_type": "stream",
     "text": [
      "\n",
      "bestTest = 0.6166724586\n",
      "bestIteration = 139\n",
      "\n",
      "Training on fold [1/5]\n",
      "\n",
      "bestTest = 0.6019299165\n",
      "bestIteration = 188\n",
      "\n",
      "Training on fold [2/5]\n",
      "\n",
      "bestTest = 0.6138452185\n",
      "bestIteration = 156\n",
      "\n",
      "Training on fold [3/5]\n",
      "\n",
      "bestTest = 0.6162828102\n",
      "bestIteration = 137\n",
      "\n",
      "Training on fold [4/5]\n"
     ]
    },
    {
     "name": "stderr",
     "output_type": "stream",
     "text": [
      "\u001b[32m[I 2022-08-25 15:09:57,114]\u001b[0m Trial 104 finished with value: 0.7198128904565289 and parameters: {'iterations': 200, 'learning_rate': 0.15037580222868072, 'random_strength': 8, 'bagging_temperature': 2, 'max_bin': 20, 'grow_policy': 'SymmetricTree', 'min_data_in_leaf': 1, 'max_depth': 2, 'l2_leaf_reg': 1.5906866257402381e-06, 'one_hot_max_size': 12, 'auto_class_weights': 'Balanced'}. Best is trial 91 with value: 0.7222766107025115.\u001b[0m\n"
     ]
    },
    {
     "name": "stdout",
     "output_type": "stream",
     "text": [
      "\n",
      "bestTest = 0.6181871984\n",
      "bestIteration = 114\n",
      "\n",
      "Training on fold [0/5]\n",
      "\n",
      "bestTest = 0.6221414348\n",
      "bestIteration = 66\n",
      "\n",
      "Training on fold [1/5]\n"
     ]
    },
    {
     "name": "stderr",
     "output_type": "stream",
     "text": [
      "C:\\Users\\jvrdo\\anaconda3\\lib\\site-packages\\optuna\\distributions.py:560: UserWarning: The distribution is specified by [1, 10] and step=20, but the range is not divisible by `step`. It will be replaced by [1, 1].\n",
      "  warnings.warn(\n",
      "C:\\Users\\jvrdo\\anaconda3\\lib\\site-packages\\optuna\\distributions.py:560: UserWarning: The distribution is specified by [2, 10] and step=15, but the range is not divisible by `step`. It will be replaced by [2, 2].\n",
      "  warnings.warn(\n"
     ]
    },
    {
     "name": "stdout",
     "output_type": "stream",
     "text": [
      "\n",
      "bestTest = 0.6043284439\n",
      "bestIteration = 112\n",
      "\n",
      "Training on fold [2/5]\n",
      "\n",
      "bestTest = 0.6067018868\n",
      "bestIteration = 129\n",
      "\n",
      "Training on fold [3/5]\n",
      "\n",
      "bestTest = 0.616788105\n",
      "bestIteration = 63\n",
      "\n",
      "Training on fold [4/5]\n"
     ]
    },
    {
     "name": "stderr",
     "output_type": "stream",
     "text": [
      "\u001b[32m[I 2022-08-25 15:09:58,052]\u001b[0m Trial 105 finished with value: 0.7204541530591249 and parameters: {'iterations': 1200, 'learning_rate': 0.2588991899315088, 'random_strength': 7, 'bagging_temperature': 3, 'max_bin': 20, 'grow_policy': 'SymmetricTree', 'min_data_in_leaf': 1, 'max_depth': 2, 'l2_leaf_reg': 0.0006765305819560027, 'one_hot_max_size': 500, 'auto_class_weights': 'Balanced'}. Best is trial 91 with value: 0.7222766107025115.\u001b[0m\n"
     ]
    },
    {
     "name": "stdout",
     "output_type": "stream",
     "text": [
      "\n",
      "bestTest = 0.6153518288\n",
      "bestIteration = 100\n",
      "\n",
      "Training on fold [0/5]\n",
      "\n",
      "bestTest = 0.6113189607\n",
      "bestIteration = 64\n",
      "\n",
      "Training on fold [1/5]\n"
     ]
    },
    {
     "name": "stderr",
     "output_type": "stream",
     "text": [
      "C:\\Users\\jvrdo\\anaconda3\\lib\\site-packages\\optuna\\distributions.py:560: UserWarning: The distribution is specified by [1, 10] and step=20, but the range is not divisible by `step`. It will be replaced by [1, 1].\n",
      "  warnings.warn(\n",
      "C:\\Users\\jvrdo\\anaconda3\\lib\\site-packages\\optuna\\distributions.py:560: UserWarning: The distribution is specified by [2, 10] and step=15, but the range is not divisible by `step`. It will be replaced by [2, 2].\n",
      "  warnings.warn(\n"
     ]
    },
    {
     "name": "stdout",
     "output_type": "stream",
     "text": [
      "\n",
      "bestTest = 0.5938529677\n",
      "bestIteration = 121\n",
      "\n",
      "Training on fold [2/5]\n",
      "\n",
      "bestTest = 0.6010922909\n",
      "bestIteration = 149\n",
      "\n",
      "Training on fold [3/5]\n",
      "\n",
      "bestTest = 0.6089483193\n",
      "bestIteration = 89\n",
      "\n",
      "Training on fold [4/5]\n"
     ]
    },
    {
     "name": "stderr",
     "output_type": "stream",
     "text": [
      "\u001b[32m[I 2022-08-25 15:09:58,999]\u001b[0m Trial 106 finished with value: 0.7199100425203124 and parameters: {'iterations': 1200, 'learning_rate': 0.2573995162389836, 'random_strength': 7, 'bagging_temperature': 5, 'max_bin': 20, 'grow_policy': 'SymmetricTree', 'min_data_in_leaf': 1, 'max_depth': 2, 'l2_leaf_reg': 0.00010110521647930821, 'one_hot_max_size': 500, 'auto_class_weights': 'SqrtBalanced'}. Best is trial 91 with value: 0.7222766107025115.\u001b[0m\n"
     ]
    },
    {
     "name": "stdout",
     "output_type": "stream",
     "text": [
      "\n",
      "bestTest = 0.6086529851\n",
      "bestIteration = 65\n",
      "\n",
      "Training on fold [0/5]\n",
      "\n",
      "bestTest = 0.6224578699\n",
      "bestIteration = 61\n",
      "\n",
      "Training on fold [1/5]\n"
     ]
    },
    {
     "name": "stderr",
     "output_type": "stream",
     "text": [
      "C:\\Users\\jvrdo\\anaconda3\\lib\\site-packages\\optuna\\distributions.py:560: UserWarning: The distribution is specified by [1, 10] and step=20, but the range is not divisible by `step`. It will be replaced by [1, 1].\n",
      "  warnings.warn(\n",
      "C:\\Users\\jvrdo\\anaconda3\\lib\\site-packages\\optuna\\distributions.py:560: UserWarning: The distribution is specified by [2, 10] and step=15, but the range is not divisible by `step`. It will be replaced by [2, 2].\n",
      "  warnings.warn(\n"
     ]
    },
    {
     "name": "stdout",
     "output_type": "stream",
     "text": [
      "\n",
      "bestTest = 0.600900326\n",
      "bestIteration = 126\n",
      "\n",
      "Training on fold [2/5]\n",
      "\n",
      "bestTest = 0.6113990917\n",
      "bestIteration = 101\n",
      "\n",
      "Training on fold [3/5]\n",
      "\n",
      "bestTest = 0.6137253798\n",
      "bestIteration = 80\n",
      "\n",
      "Training on fold [4/5]\n"
     ]
    },
    {
     "name": "stderr",
     "output_type": "stream",
     "text": [
      "\u001b[32m[I 2022-08-25 15:09:59,965]\u001b[0m Trial 107 finished with value: 0.7199265202497387 and parameters: {'iterations': 1200, 'learning_rate': 0.24553557493663977, 'random_strength': 7, 'bagging_temperature': 2, 'max_bin': 20, 'grow_policy': 'Depthwise', 'min_data_in_leaf': 1, 'max_depth': 2, 'l2_leaf_reg': 0.00030811472598893814, 'one_hot_max_size': 500, 'auto_class_weights': 'Balanced'}. Best is trial 91 with value: 0.7222766107025115.\u001b[0m\n"
     ]
    },
    {
     "name": "stdout",
     "output_type": "stream",
     "text": [
      "\n",
      "bestTest = 0.6177085445\n",
      "bestIteration = 100\n",
      "\n",
      "Training on fold [0/5]\n",
      "\n",
      "bestTest = 0.6184217683\n",
      "bestIteration = 75\n",
      "\n",
      "Training on fold [1/5]\n"
     ]
    },
    {
     "name": "stderr",
     "output_type": "stream",
     "text": [
      "C:\\Users\\jvrdo\\anaconda3\\lib\\site-packages\\optuna\\distributions.py:560: UserWarning: The distribution is specified by [1, 10] and step=20, but the range is not divisible by `step`. It will be replaced by [1, 1].\n",
      "  warnings.warn(\n",
      "C:\\Users\\jvrdo\\anaconda3\\lib\\site-packages\\optuna\\distributions.py:560: UserWarning: The distribution is specified by [2, 10] and step=15, but the range is not divisible by `step`. It will be replaced by [2, 2].\n",
      "  warnings.warn(\n"
     ]
    },
    {
     "name": "stdout",
     "output_type": "stream",
     "text": [
      "\n",
      "bestTest = 0.6046835341\n",
      "bestIteration = 102\n",
      "\n",
      "Training on fold [2/5]\n",
      "\n",
      "bestTest = 0.6135070622\n",
      "bestIteration = 72\n",
      "\n",
      "Training on fold [3/5]\n"
     ]
    },
    {
     "name": "stderr",
     "output_type": "stream",
     "text": [
      "\u001b[32m[I 2022-08-25 15:10:00,845]\u001b[0m Trial 108 finished with value: 0.7180928606503304 and parameters: {'iterations': 1200, 'learning_rate': 0.22912404474581186, 'random_strength': 6, 'bagging_temperature': 4, 'max_bin': 30, 'grow_policy': 'SymmetricTree', 'min_data_in_leaf': 1, 'max_depth': 2, 'l2_leaf_reg': 5.224613181304641e-06, 'one_hot_max_size': 500, 'auto_class_weights': 'Balanced'}. Best is trial 91 with value: 0.7222766107025115.\u001b[0m\n"
     ]
    },
    {
     "name": "stdout",
     "output_type": "stream",
     "text": [
      "\n",
      "bestTest = 0.6137547068\n",
      "bestIteration = 129\n",
      "\n",
      "Training on fold [4/5]\n",
      "\n",
      "bestTest = 0.6190857002\n",
      "bestIteration = 59\n",
      "\n",
      "Training on fold [0/5]\n"
     ]
    },
    {
     "name": "stderr",
     "output_type": "stream",
     "text": [
      "C:\\Users\\jvrdo\\anaconda3\\lib\\site-packages\\optuna\\distributions.py:560: UserWarning: The distribution is specified by [1, 10] and step=20, but the range is not divisible by `step`. It will be replaced by [1, 1].\n",
      "  warnings.warn(\n",
      "C:\\Users\\jvrdo\\anaconda3\\lib\\site-packages\\optuna\\distributions.py:560: UserWarning: The distribution is specified by [2, 10] and step=15, but the range is not divisible by `step`. It will be replaced by [2, 2].\n",
      "  warnings.warn(\n"
     ]
    },
    {
     "name": "stdout",
     "output_type": "stream",
     "text": [
      "\n",
      "bestTest = 0.6180422981\n",
      "bestIteration = 77\n",
      "\n",
      "Training on fold [1/5]\n",
      "\n",
      "bestTest = 0.6023451109\n",
      "bestIteration = 92\n",
      "\n",
      "Training on fold [2/5]\n",
      "\n",
      "bestTest = 0.6126629863\n",
      "bestIteration = 99\n",
      "\n",
      "Training on fold [3/5]\n",
      "\n",
      "bestTest = 0.613536515\n",
      "bestIteration = 97\n",
      "\n",
      "Training on fold [4/5]\n"
     ]
    },
    {
     "name": "stderr",
     "output_type": "stream",
     "text": [
      "\u001b[32m[I 2022-08-25 15:10:05,554]\u001b[0m Trial 109 finished with value: 0.7203403390876911 and parameters: {'iterations': 100, 'learning_rate': 0.25955939060315514, 'random_strength': 7, 'bagging_temperature': 3, 'max_bin': 20, 'grow_policy': 'SymmetricTree', 'min_data_in_leaf': 1, 'max_depth': 2, 'l2_leaf_reg': 5.410289437148969e-05, 'one_hot_max_size': 10, 'auto_class_weights': 'Balanced'}. Best is trial 91 with value: 0.7222766107025115.\u001b[0m\n"
     ]
    },
    {
     "name": "stdout",
     "output_type": "stream",
     "text": [
      "\n",
      "bestTest = 0.6204472966\n",
      "bestIteration = 60\n",
      "\n",
      "Training on fold [0/5]\n",
      "\n",
      "bestTest = 0.6183441981\n",
      "bestIteration = 82\n",
      "\n",
      "Training on fold [1/5]\n"
     ]
    },
    {
     "name": "stderr",
     "output_type": "stream",
     "text": [
      "C:\\Users\\jvrdo\\anaconda3\\lib\\site-packages\\optuna\\distributions.py:560: UserWarning: The distribution is specified by [1, 10] and step=20, but the range is not divisible by `step`. It will be replaced by [1, 1].\n",
      "  warnings.warn(\n",
      "C:\\Users\\jvrdo\\anaconda3\\lib\\site-packages\\optuna\\distributions.py:560: UserWarning: The distribution is specified by [2, 10] and step=15, but the range is not divisible by `step`. It will be replaced by [2, 2].\n",
      "  warnings.warn(\n"
     ]
    },
    {
     "name": "stdout",
     "output_type": "stream",
     "text": [
      "\n",
      "bestTest = 0.6041769387\n",
      "bestIteration = 106\n",
      "\n",
      "Training on fold [2/5]\n",
      "\n",
      "bestTest = 0.6095774634\n",
      "bestIteration = 158\n",
      "\n",
      "Training on fold [3/5]\n"
     ]
    },
    {
     "name": "stderr",
     "output_type": "stream",
     "text": [
      "\u001b[32m[I 2022-08-25 15:10:06,571]\u001b[0m Trial 110 finished with value: 0.7198174497696433 and parameters: {'iterations': 1200, 'learning_rate': 0.19817859125455412, 'random_strength': 7, 'bagging_temperature': 2, 'max_bin': 20, 'grow_policy': 'SymmetricTree', 'min_data_in_leaf': 1, 'max_depth': 2, 'l2_leaf_reg': 0.000781070969858976, 'one_hot_max_size': 500, 'auto_class_weights': 'Balanced'}. Best is trial 91 with value: 0.7222766107025115.\u001b[0m\n"
     ]
    },
    {
     "name": "stdout",
     "output_type": "stream",
     "text": [
      "\n",
      "bestTest = 0.6143224595\n",
      "bestIteration = 136\n",
      "\n",
      "Training on fold [4/5]\n",
      "\n",
      "bestTest = 0.6191072426\n",
      "bestIteration = 60\n",
      "\n",
      "Training on fold [0/5]\n"
     ]
    },
    {
     "name": "stderr",
     "output_type": "stream",
     "text": [
      "C:\\Users\\jvrdo\\anaconda3\\lib\\site-packages\\optuna\\distributions.py:560: UserWarning: The distribution is specified by [1, 10] and step=20, but the range is not divisible by `step`. It will be replaced by [1, 1].\n",
      "  warnings.warn(\n",
      "C:\\Users\\jvrdo\\anaconda3\\lib\\site-packages\\optuna\\distributions.py:560: UserWarning: The distribution is specified by [2, 10] and step=15, but the range is not divisible by `step`. It will be replaced by [2, 2].\n",
      "  warnings.warn(\n"
     ]
    },
    {
     "name": "stdout",
     "output_type": "stream",
     "text": [
      "\n",
      "bestTest = 0.6212012031\n",
      "bestIteration = 50\n",
      "\n",
      "Training on fold [1/5]\n",
      "\n",
      "bestTest = 0.6017201314\n",
      "bestIteration = 92\n",
      "\n",
      "Training on fold [2/5]\n",
      "\n",
      "bestTest = 0.61344187\n",
      "bestIteration = 78\n",
      "\n",
      "Training on fold [3/5]\n"
     ]
    },
    {
     "name": "stderr",
     "output_type": "stream",
     "text": [
      "\u001b[32m[I 2022-08-25 15:10:07,274]\u001b[0m Trial 111 finished with value: 0.7176845122976419 and parameters: {'iterations': 1500, 'learning_rate': 0.27441511221690895, 'random_strength': 8, 'bagging_temperature': 3, 'max_bin': 20, 'grow_policy': 'SymmetricTree', 'min_data_in_leaf': 1, 'max_depth': 2, 'l2_leaf_reg': 9.251308978885717e-06, 'one_hot_max_size': 500, 'auto_class_weights': 'Balanced'}. Best is trial 91 with value: 0.7222766107025115.\u001b[0m\n"
     ]
    },
    {
     "name": "stdout",
     "output_type": "stream",
     "text": [
      "\n",
      "bestTest = 0.6183202805\n",
      "bestIteration = 58\n",
      "\n",
      "Training on fold [4/5]\n",
      "\n",
      "bestTest = 0.6196676964\n",
      "bestIteration = 42\n",
      "\n",
      "Training on fold [0/5]\n"
     ]
    },
    {
     "name": "stderr",
     "output_type": "stream",
     "text": [
      "C:\\Users\\jvrdo\\anaconda3\\lib\\site-packages\\optuna\\distributions.py:560: UserWarning: The distribution is specified by [1, 10] and step=20, but the range is not divisible by `step`. It will be replaced by [1, 1].\n",
      "  warnings.warn(\n",
      "C:\\Users\\jvrdo\\anaconda3\\lib\\site-packages\\optuna\\distributions.py:560: UserWarning: The distribution is specified by [2, 10] and step=15, but the range is not divisible by `step`. It will be replaced by [2, 2].\n",
      "  warnings.warn(\n"
     ]
    },
    {
     "name": "stdout",
     "output_type": "stream",
     "text": [
      "\n",
      "bestTest = 0.6193902255\n",
      "bestIteration = 125\n",
      "\n",
      "Training on fold [1/5]\n",
      "\n",
      "bestTest = 0.6054770842\n",
      "bestIteration = 151\n",
      "\n",
      "Training on fold [2/5]\n",
      "\n",
      "bestTest = 0.6122694436\n",
      "bestIteration = 150\n",
      "\n",
      "Training on fold [3/5]\n",
      "\n",
      "bestTest = 0.617043043\n",
      "bestIteration = 131\n",
      "\n",
      "Training on fold [4/5]\n",
      "\n",
      "bestTest = 0.6201065464\n"
     ]
    },
    {
     "name": "stderr",
     "output_type": "stream",
     "text": [
      "\u001b[32m[I 2022-08-25 15:10:08,494]\u001b[0m Trial 112 finished with value: 0.7181600276378005 and parameters: {'iterations': 1300, 'learning_rate': 0.13888232551694904, 'random_strength': 9, 'bagging_temperature': 3, 'max_bin': 20, 'grow_policy': 'SymmetricTree', 'min_data_in_leaf': 1, 'max_depth': 2, 'l2_leaf_reg': 2.4238552656364903e-05, 'one_hot_max_size': 500, 'auto_class_weights': 'Balanced'}. Best is trial 91 with value: 0.7222766107025115.\u001b[0m\n"
     ]
    },
    {
     "name": "stdout",
     "output_type": "stream",
     "text": [
      "bestIteration = 96\n",
      "\n",
      "Training on fold [0/5]\n",
      "\n",
      "bestTest = 0.623179465\n",
      "bestIteration = 33\n",
      "\n",
      "Training on fold [1/5]\n"
     ]
    },
    {
     "name": "stderr",
     "output_type": "stream",
     "text": [
      "C:\\Users\\jvrdo\\anaconda3\\lib\\site-packages\\optuna\\distributions.py:560: UserWarning: The distribution is specified by [1, 10] and step=20, but the range is not divisible by `step`. It will be replaced by [1, 1].\n",
      "  warnings.warn(\n",
      "C:\\Users\\jvrdo\\anaconda3\\lib\\site-packages\\optuna\\distributions.py:560: UserWarning: The distribution is specified by [2, 10] and step=15, but the range is not divisible by `step`. It will be replaced by [2, 2].\n",
      "  warnings.warn(\n"
     ]
    },
    {
     "name": "stdout",
     "output_type": "stream",
     "text": [
      "\n",
      "bestTest = 0.6036466461\n",
      "bestIteration = 120\n",
      "\n",
      "Training on fold [2/5]\n",
      "\n",
      "bestTest = 0.6098794475\n",
      "bestIteration = 113\n",
      "\n",
      "Training on fold [3/5]\n",
      "\n",
      "bestTest = 0.6184294733\n",
      "bestIteration = 83\n",
      "\n",
      "Training on fold [4/5]\n"
     ]
    },
    {
     "name": "stderr",
     "output_type": "stream",
     "text": [
      "\u001b[32m[I 2022-08-25 15:10:09,384]\u001b[0m Trial 113 finished with value: 0.7202946754930417 and parameters: {'iterations': 300, 'learning_rate': 0.21778256392539178, 'random_strength': 6, 'bagging_temperature': 2, 'max_bin': 20, 'grow_policy': 'SymmetricTree', 'min_data_in_leaf': 1, 'max_depth': 2, 'l2_leaf_reg': 0.0036717770329197275, 'one_hot_max_size': 500, 'auto_class_weights': 'Balanced'}. Best is trial 91 with value: 0.7222766107025115.\u001b[0m\n"
     ]
    },
    {
     "name": "stdout",
     "output_type": "stream",
     "text": [
      "\n",
      "bestTest = 0.6135302569\n",
      "bestIteration = 88\n",
      "\n",
      "Training on fold [0/5]\n",
      "\n",
      "bestTest = 0.6178597663\n",
      "bestIteration = 102\n"
     ]
    },
    {
     "name": "stderr",
     "output_type": "stream",
     "text": [
      "C:\\Users\\jvrdo\\anaconda3\\lib\\site-packages\\optuna\\distributions.py:560: UserWarning: The distribution is specified by [1, 10] and step=20, but the range is not divisible by `step`. It will be replaced by [1, 1].\n",
      "  warnings.warn(\n",
      "C:\\Users\\jvrdo\\anaconda3\\lib\\site-packages\\optuna\\distributions.py:560: UserWarning: The distribution is specified by [2, 10] and step=15, but the range is not divisible by `step`. It will be replaced by [2, 2].\n",
      "  warnings.warn(\n"
     ]
    },
    {
     "name": "stdout",
     "output_type": "stream",
     "text": [
      "\n",
      "Training on fold [1/5]\n",
      "\n",
      "bestTest = 0.6035060761\n",
      "bestIteration = 178\n",
      "\n",
      "Training on fold [2/5]\n",
      "\n",
      "bestTest = 0.6117830364\n",
      "bestIteration = 143\n",
      "\n",
      "Training on fold [3/5]\n",
      "\n",
      "bestTest = 0.6180951333\n",
      "bestIteration = 108\n",
      "\n",
      "Training on fold [4/5]\n"
     ]
    },
    {
     "name": "stderr",
     "output_type": "stream",
     "text": [
      "\u001b[32m[I 2022-08-25 15:10:10,613]\u001b[0m Trial 114 finished with value: 0.7195108681020201 and parameters: {'iterations': 1300, 'learning_rate': 0.14377003882945605, 'random_strength': 8, 'bagging_temperature': 4, 'max_bin': 20, 'grow_policy': 'SymmetricTree', 'min_data_in_leaf': 1, 'max_depth': 2, 'l2_leaf_reg': 0.00018400154948037623, 'one_hot_max_size': 500, 'auto_class_weights': 'Balanced'}. Best is trial 91 with value: 0.7222766107025115.\u001b[0m\n"
     ]
    },
    {
     "name": "stdout",
     "output_type": "stream",
     "text": [
      "\n",
      "bestTest = 0.6168255449\n",
      "bestIteration = 150\n",
      "\n",
      "Training on fold [0/5]\n"
     ]
    },
    {
     "name": "stderr",
     "output_type": "stream",
     "text": [
      "C:\\Users\\jvrdo\\anaconda3\\lib\\site-packages\\optuna\\distributions.py:560: UserWarning: The distribution is specified by [1, 10] and step=20, but the range is not divisible by `step`. It will be replaced by [1, 1].\n",
      "  warnings.warn(\n",
      "C:\\Users\\jvrdo\\anaconda3\\lib\\site-packages\\optuna\\distributions.py:560: UserWarning: The distribution is specified by [2, 10] and step=15, but the range is not divisible by `step`. It will be replaced by [2, 2].\n",
      "  warnings.warn(\n"
     ]
    },
    {
     "name": "stdout",
     "output_type": "stream",
     "text": [
      "\n",
      "bestTest = 0.617924302\n",
      "bestIteration = 101\n",
      "\n",
      "Training on fold [1/5]\n",
      "\n",
      "bestTest = 0.6064330872\n",
      "bestIteration = 119\n",
      "\n",
      "Training on fold [2/5]\n",
      "\n",
      "bestTest = 0.6100136022\n",
      "bestIteration = 166\n",
      "\n",
      "Training on fold [3/5]\n",
      "\n",
      "bestTest = 0.6149683098\n",
      "bestIteration = 153\n",
      "\n",
      "Training on fold [4/5]\n"
     ]
    },
    {
     "name": "stderr",
     "output_type": "stream",
     "text": [
      "\u001b[32m[I 2022-08-25 15:10:17,533]\u001b[0m Trial 115 finished with value: 0.7200275371877227 and parameters: {'iterations': 200, 'learning_rate': 0.1846311867542568, 'random_strength': 7, 'bagging_temperature': 1, 'max_bin': 20, 'grow_policy': 'SymmetricTree', 'min_data_in_leaf': 1, 'max_depth': 2, 'l2_leaf_reg': 9.728493127586503e-07, 'one_hot_max_size': 5, 'auto_class_weights': 'Balanced'}. Best is trial 91 with value: 0.7222766107025115.\u001b[0m\n"
     ]
    },
    {
     "name": "stdout",
     "output_type": "stream",
     "text": [
      "\n",
      "bestTest = 0.6211647289\n",
      "bestIteration = 78\n",
      "\n",
      "Training on fold [0/5]\n"
     ]
    },
    {
     "name": "stderr",
     "output_type": "stream",
     "text": [
      "C:\\Users\\jvrdo\\anaconda3\\lib\\site-packages\\optuna\\distributions.py:560: UserWarning: The distribution is specified by [1, 10] and step=20, but the range is not divisible by `step`. It will be replaced by [1, 1].\n",
      "  warnings.warn(\n",
      "C:\\Users\\jvrdo\\anaconda3\\lib\\site-packages\\optuna\\distributions.py:560: UserWarning: The distribution is specified by [2, 10] and step=15, but the range is not divisible by `step`. It will be replaced by [2, 2].\n",
      "  warnings.warn(\n"
     ]
    },
    {
     "name": "stdout",
     "output_type": "stream",
     "text": [
      "\n",
      "bestTest = 0.6203433325\n",
      "bestIteration = 119\n",
      "\n",
      "Training on fold [1/5]\n",
      "\n",
      "bestTest = 0.6055907048\n",
      "bestIteration = 239\n",
      "\n",
      "Training on fold [2/5]\n",
      "\n",
      "bestTest = 0.6185259333\n",
      "bestIteration = 156\n",
      "\n",
      "Training on fold [3/5]\n",
      "\n",
      "bestTest = 0.6221297651\n",
      "bestIteration = 113\n",
      "\n",
      "Training on fold [4/5]\n"
     ]
    },
    {
     "name": "stderr",
     "output_type": "stream",
     "text": [
      "\u001b[32m[I 2022-08-25 15:10:18,873]\u001b[0m Trial 116 finished with value: 0.7156842026715508 and parameters: {'iterations': 1200, 'learning_rate': 0.1223725259831712, 'random_strength': 8, 'bagging_temperature': 3, 'max_bin': 6, 'grow_policy': 'SymmetricTree', 'min_data_in_leaf': 1, 'max_depth': 2, 'l2_leaf_reg': 1.4066727699613365e-05, 'one_hot_max_size': 1024, 'auto_class_weights': 'Balanced'}. Best is trial 91 with value: 0.7222766107025115.\u001b[0m\n"
     ]
    },
    {
     "name": "stdout",
     "output_type": "stream",
     "text": [
      "\n",
      "bestTest = 0.6175443379\n",
      "bestIteration = 118\n",
      "\n",
      "Training on fold [0/5]\n"
     ]
    },
    {
     "name": "stderr",
     "output_type": "stream",
     "text": [
      "C:\\Users\\jvrdo\\anaconda3\\lib\\site-packages\\optuna\\distributions.py:560: UserWarning: The distribution is specified by [1, 10] and step=20, but the range is not divisible by `step`. It will be replaced by [1, 1].\n",
      "  warnings.warn(\n",
      "C:\\Users\\jvrdo\\anaconda3\\lib\\site-packages\\optuna\\distributions.py:560: UserWarning: The distribution is specified by [2, 10] and step=15, but the range is not divisible by `step`. It will be replaced by [2, 2].\n",
      "  warnings.warn(\n"
     ]
    },
    {
     "name": "stdout",
     "output_type": "stream",
     "text": [
      "\n",
      "bestTest = 0.609061172\n",
      "bestIteration = 151\n",
      "\n",
      "Training on fold [1/5]\n",
      "\n",
      "bestTest = 0.5940715727\n",
      "bestIteration = 249\n",
      "\n",
      "Training on fold [2/5]\n",
      "\n",
      "bestTest = 0.6045246919\n",
      "bestIteration = 149\n",
      "\n",
      "Training on fold [3/5]\n",
      "\n",
      "bestTest = 0.6108588191\n",
      "bestIteration = 137\n",
      "\n",
      "Training on fold [4/5]\n"
     ]
    },
    {
     "name": "stderr",
     "output_type": "stream",
     "text": [
      "\u001b[32m[I 2022-08-25 15:10:20,367]\u001b[0m Trial 117 finished with value: 0.7194204171350911 and parameters: {'iterations': 300, 'learning_rate': 0.10381926401502017, 'random_strength': 7, 'bagging_temperature': 0, 'max_bin': 20, 'grow_policy': 'SymmetricTree', 'min_data_in_leaf': 1, 'max_depth': 2, 'l2_leaf_reg': 2.315247075804975e-07, 'one_hot_max_size': 500, 'auto_class_weights': 'SqrtBalanced'}. Best is trial 91 with value: 0.7222766107025115.\u001b[0m\n"
     ]
    },
    {
     "name": "stdout",
     "output_type": "stream",
     "text": [
      "\n",
      "bestTest = 0.6106255659\n",
      "bestIteration = 124\n",
      "\n",
      "Training on fold [0/5]\n"
     ]
    },
    {
     "name": "stderr",
     "output_type": "stream",
     "text": [
      "C:\\Users\\jvrdo\\anaconda3\\lib\\site-packages\\optuna\\distributions.py:560: UserWarning: The distribution is specified by [1, 10] and step=20, but the range is not divisible by `step`. It will be replaced by [1, 1].\n",
      "  warnings.warn(\n",
      "C:\\Users\\jvrdo\\anaconda3\\lib\\site-packages\\optuna\\distributions.py:560: UserWarning: The distribution is specified by [2, 10] and step=15, but the range is not divisible by `step`. It will be replaced by [2, 2].\n",
      "  warnings.warn(\n"
     ]
    },
    {
     "name": "stdout",
     "output_type": "stream",
     "text": [
      "\n",
      "bestTest = 0.6266354603\n",
      "bestIteration = 90\n",
      "\n",
      "Training on fold [1/5]\n",
      "\n",
      "bestTest = 0.60802988\n",
      "bestIteration = 131\n",
      "\n",
      "Training on fold [2/5]\n",
      "\n",
      "bestTest = 0.6174297149\n",
      "bestIteration = 110\n",
      "\n",
      "Training on fold [3/5]\n",
      "\n",
      "bestTest = 0.6190913158\n",
      "bestIteration = 112\n",
      "\n",
      "Training on fold [4/5]\n"
     ]
    },
    {
     "name": "stderr",
     "output_type": "stream",
     "text": [
      "\u001b[32m[I 2022-08-25 15:10:26,580]\u001b[0m Trial 118 finished with value: 0.7130794000837282 and parameters: {'iterations': 1300, 'learning_rate': 0.15930658370470946, 'random_strength': 8, 'bagging_temperature': 3, 'max_bin': 5, 'grow_policy': 'Depthwise', 'min_data_in_leaf': 1, 'max_depth': 2, 'l2_leaf_reg': 2.2999493806427334e-06, 'one_hot_max_size': 12, 'auto_class_weights': 'Balanced'}. Best is trial 91 with value: 0.7222766107025115.\u001b[0m\n"
     ]
    },
    {
     "name": "stdout",
     "output_type": "stream",
     "text": [
      "\n",
      "bestTest = 0.6213507797\n",
      "bestIteration = 122\n",
      "\n",
      "Training on fold [0/5]\n"
     ]
    },
    {
     "name": "stderr",
     "output_type": "stream",
     "text": [
      "C:\\Users\\jvrdo\\anaconda3\\lib\\site-packages\\optuna\\distributions.py:560: UserWarning: The distribution is specified by [1, 10] and step=20, but the range is not divisible by `step`. It will be replaced by [1, 1].\n",
      "  warnings.warn(\n",
      "C:\\Users\\jvrdo\\anaconda3\\lib\\site-packages\\optuna\\distributions.py:560: UserWarning: The distribution is specified by [2, 10] and step=15, but the range is not divisible by `step`. It will be replaced by [2, 2].\n",
      "  warnings.warn(\n"
     ]
    },
    {
     "name": "stdout",
     "output_type": "stream",
     "text": [
      "\n",
      "bestTest = 0.6243180446\n",
      "bestIteration = 105\n",
      "\n",
      "Training on fold [1/5]\n",
      "\n",
      "bestTest = 0.6053958974\n",
      "bestIteration = 125\n",
      "\n",
      "Training on fold [2/5]\n",
      "\n",
      "bestTest = 0.6182562771\n",
      "bestIteration = 91\n",
      "\n",
      "Training on fold [3/5]\n",
      "\n",
      "bestTest = 0.6197016793\n",
      "bestIteration = 141\n",
      "\n",
      "Training on fold [4/5]\n"
     ]
    },
    {
     "name": "stderr",
     "output_type": "stream",
     "text": [
      "\u001b[32m[I 2022-08-25 15:10:27,812]\u001b[0m Trial 119 finished with value: 0.7163003897492224 and parameters: {'iterations': 1500, 'learning_rate': 0.13214239881713338, 'random_strength': 7, 'bagging_temperature': 2, 'max_bin': 8, 'grow_policy': 'Lossguide', 'min_data_in_leaf': 1, 'max_depth': 2, 'l2_leaf_reg': 8.745801299148859, 'one_hot_max_size': 100, 'auto_class_weights': 'Balanced'}. Best is trial 91 with value: 0.7222766107025115.\u001b[0m\n"
     ]
    },
    {
     "name": "stdout",
     "output_type": "stream",
     "text": [
      "\n",
      "bestTest = 0.6202727252\n",
      "bestIteration = 101\n",
      "\n",
      "Training on fold [0/5]\n"
     ]
    },
    {
     "name": "stderr",
     "output_type": "stream",
     "text": [
      "C:\\Users\\jvrdo\\anaconda3\\lib\\site-packages\\optuna\\distributions.py:560: UserWarning: The distribution is specified by [1, 10] and step=20, but the range is not divisible by `step`. It will be replaced by [1, 1].\n",
      "  warnings.warn(\n",
      "C:\\Users\\jvrdo\\anaconda3\\lib\\site-packages\\optuna\\distributions.py:560: UserWarning: The distribution is specified by [2, 10] and step=15, but the range is not divisible by `step`. It will be replaced by [2, 2].\n",
      "  warnings.warn(\n"
     ]
    },
    {
     "name": "stdout",
     "output_type": "stream",
     "text": [
      "\n",
      "bestTest = 0.6182741235\n",
      "bestIteration = 159\n",
      "\n",
      "Training on fold [1/5]\n",
      "\n",
      "bestTest = 0.6048220123\n",
      "bestIteration = 173\n",
      "\n",
      "Training on fold [2/5]\n",
      "\n",
      "bestTest = 0.6131294703\n",
      "bestIteration = 186\n",
      "\n",
      "Training on fold [3/5]\n",
      "\n",
      "bestTest = 0.6139548881\n",
      "bestIteration = 205\n",
      "\n",
      "Training on fold [4/5]\n"
     ]
    },
    {
     "name": "stderr",
     "output_type": "stream",
     "text": [
      "\u001b[32m[I 2022-08-25 15:10:29,379]\u001b[0m Trial 120 finished with value: 0.7203551569067161 and parameters: {'iterations': 1000, 'learning_rate': 0.11303227574828943, 'random_strength': 9, 'bagging_temperature': 3, 'max_bin': 20, 'grow_policy': 'SymmetricTree', 'min_data_in_leaf': 1, 'max_depth': 2, 'l2_leaf_reg': 2.8523621554574212e-05, 'one_hot_max_size': 100, 'auto_class_weights': 'Balanced'}. Best is trial 91 with value: 0.7222766107025115.\u001b[0m\n"
     ]
    },
    {
     "name": "stdout",
     "output_type": "stream",
     "text": [
      "\n",
      "bestTest = 0.6147599981\n",
      "bestIteration = 182\n",
      "\n",
      "Training on fold [0/5]\n"
     ]
    },
    {
     "name": "stderr",
     "output_type": "stream",
     "text": [
      "C:\\Users\\jvrdo\\anaconda3\\lib\\site-packages\\optuna\\distributions.py:560: UserWarning: The distribution is specified by [1, 10] and step=20, but the range is not divisible by `step`. It will be replaced by [1, 1].\n",
      "  warnings.warn(\n",
      "C:\\Users\\jvrdo\\anaconda3\\lib\\site-packages\\optuna\\distributions.py:560: UserWarning: The distribution is specified by [2, 10] and step=15, but the range is not divisible by `step`. It will be replaced by [2, 2].\n",
      "  warnings.warn(\n"
     ]
    },
    {
     "name": "stdout",
     "output_type": "stream",
     "text": [
      "\n",
      "bestTest = 0.6194014719\n",
      "bestIteration = 156\n",
      "\n",
      "Training on fold [1/5]\n",
      "\n",
      "bestTest = 0.6039678127\n",
      "bestIteration = 175\n",
      "\n",
      "Training on fold [2/5]\n",
      "\n",
      "bestTest = 0.6118459476\n",
      "bestIteration = 178\n",
      "\n",
      "Training on fold [3/5]\n",
      "\n",
      "bestTest = 0.6148389793\n",
      "bestIteration = 204\n",
      "\n",
      "Training on fold [4/5]\n"
     ]
    },
    {
     "name": "stderr",
     "output_type": "stream",
     "text": [
      "\u001b[32m[I 2022-08-25 15:10:30,900]\u001b[0m Trial 121 finished with value: 0.7205080034563877 and parameters: {'iterations': 1000, 'learning_rate': 0.11215582016036435, 'random_strength': 9, 'bagging_temperature': 3, 'max_bin': 20, 'grow_policy': 'SymmetricTree', 'min_data_in_leaf': 1, 'max_depth': 2, 'l2_leaf_reg': 3.758211227692787e-05, 'one_hot_max_size': 100, 'auto_class_weights': 'Balanced'}. Best is trial 91 with value: 0.7222766107025115.\u001b[0m\n"
     ]
    },
    {
     "name": "stdout",
     "output_type": "stream",
     "text": [
      "\n",
      "bestTest = 0.6170287035\n",
      "bestIteration = 151\n",
      "\n",
      "Training on fold [0/5]\n"
     ]
    },
    {
     "name": "stderr",
     "output_type": "stream",
     "text": [
      "C:\\Users\\jvrdo\\anaconda3\\lib\\site-packages\\optuna\\distributions.py:560: UserWarning: The distribution is specified by [1, 10] and step=20, but the range is not divisible by `step`. It will be replaced by [1, 1].\n",
      "  warnings.warn(\n",
      "C:\\Users\\jvrdo\\anaconda3\\lib\\site-packages\\optuna\\distributions.py:560: UserWarning: The distribution is specified by [2, 10] and step=15, but the range is not divisible by `step`. It will be replaced by [2, 2].\n",
      "  warnings.warn(\n"
     ]
    },
    {
     "name": "stdout",
     "output_type": "stream",
     "text": [
      "\n",
      "bestTest = 0.6196687384\n",
      "bestIteration = 114\n",
      "\n",
      "Training on fold [1/5]\n",
      "\n",
      "bestTest = 0.6015750384\n",
      "bestIteration = 265\n",
      "\n",
      "Training on fold [2/5]\n",
      "\n",
      "bestTest = 0.6155069914\n",
      "bestIteration = 138\n",
      "\n",
      "Training on fold [3/5]\n",
      "\n",
      "bestTest = 0.6130057703\n",
      "bestIteration = 153\n",
      "\n",
      "Training on fold [4/5]\n"
     ]
    },
    {
     "name": "stderr",
     "output_type": "stream",
     "text": [
      "\u001b[32m[I 2022-08-25 15:10:32,318]\u001b[0m Trial 122 finished with value: 0.7195595765981805 and parameters: {'iterations': 1000, 'learning_rate': 0.1254290406104064, 'random_strength': 9, 'bagging_temperature': 4, 'max_bin': 20, 'grow_policy': 'SymmetricTree', 'min_data_in_leaf': 1, 'max_depth': 2, 'l2_leaf_reg': 7.392084849419753e-05, 'one_hot_max_size': 100, 'auto_class_weights': 'Balanced'}. Best is trial 91 with value: 0.7222766107025115.\u001b[0m\n"
     ]
    },
    {
     "name": "stdout",
     "output_type": "stream",
     "text": [
      "\n",
      "bestTest = 0.6174275792\n",
      "bestIteration = 121\n",
      "\n",
      "Training on fold [0/5]\n"
     ]
    },
    {
     "name": "stderr",
     "output_type": "stream",
     "text": [
      "C:\\Users\\jvrdo\\anaconda3\\lib\\site-packages\\optuna\\distributions.py:560: UserWarning: The distribution is specified by [1, 10] and step=20, but the range is not divisible by `step`. It will be replaced by [1, 1].\n",
      "  warnings.warn(\n",
      "C:\\Users\\jvrdo\\anaconda3\\lib\\site-packages\\optuna\\distributions.py:560: UserWarning: The distribution is specified by [2, 10] and step=15, but the range is not divisible by `step`. It will be replaced by [2, 2].\n",
      "  warnings.warn(\n"
     ]
    },
    {
     "name": "stdout",
     "output_type": "stream",
     "text": [
      "\n",
      "bestTest = 0.6168320183\n",
      "bestIteration = 162\n",
      "\n",
      "Training on fold [1/5]\n",
      "\n",
      "bestTest = 0.6046582606\n",
      "bestIteration = 209\n",
      "\n",
      "Training on fold [2/5]\n",
      "\n",
      "bestTest = 0.6152322352\n",
      "bestIteration = 131\n",
      "\n",
      "Training on fold [3/5]\n",
      "\n",
      "bestTest = 0.6180084794\n",
      "bestIteration = 171\n",
      "\n",
      "Training on fold [4/5]\n"
     ]
    },
    {
     "name": "stderr",
     "output_type": "stream",
     "text": [
      "\u001b[32m[I 2022-08-25 15:10:33,796]\u001b[0m Trial 123 finished with value: 0.7191759043561732 and parameters: {'iterations': 1000, 'learning_rate': 0.09761022930898841, 'random_strength': 7, 'bagging_temperature': 3, 'max_bin': 20, 'grow_policy': 'SymmetricTree', 'min_data_in_leaf': 1, 'max_depth': 2, 'l2_leaf_reg': 0.011361132016334197, 'one_hot_max_size': 100, 'auto_class_weights': 'Balanced'}. Best is trial 91 with value: 0.7222766107025115.\u001b[0m\n"
     ]
    },
    {
     "name": "stdout",
     "output_type": "stream",
     "text": [
      "\n",
      "bestTest = 0.6183293816\n",
      "bestIteration = 148\n",
      "\n",
      "Training on fold [0/5]\n"
     ]
    },
    {
     "name": "stderr",
     "output_type": "stream",
     "text": [
      "C:\\Users\\jvrdo\\anaconda3\\lib\\site-packages\\optuna\\distributions.py:560: UserWarning: The distribution is specified by [1, 10] and step=20, but the range is not divisible by `step`. It will be replaced by [1, 1].\n",
      "  warnings.warn(\n",
      "C:\\Users\\jvrdo\\anaconda3\\lib\\site-packages\\optuna\\distributions.py:560: UserWarning: The distribution is specified by [2, 10] and step=15, but the range is not divisible by `step`. It will be replaced by [2, 2].\n",
      "  warnings.warn(\n"
     ]
    },
    {
     "name": "stdout",
     "output_type": "stream",
     "text": [
      "\n",
      "bestTest = 0.6212753085\n",
      "bestIteration = 130\n",
      "\n",
      "Training on fold [1/5]\n",
      "\n",
      "bestTest = 0.6060818668\n",
      "bestIteration = 183\n",
      "\n",
      "Training on fold [2/5]\n",
      "\n",
      "bestTest = 0.6192811626\n",
      "bestIteration = 127\n",
      "\n",
      "Training on fold [3/5]\n",
      "\n",
      "bestTest = 0.6210751101\n",
      "bestIteration = 141\n",
      "\n",
      "Training on fold [4/5]\n"
     ]
    },
    {
     "name": "stderr",
     "output_type": "stream",
     "text": [
      "\u001b[32m[I 2022-08-25 15:10:35,153]\u001b[0m Trial 124 finished with value: 0.7151834547569627 and parameters: {'iterations': 1000, 'learning_rate': 0.11807112481450296, 'random_strength': 9, 'bagging_temperature': 3, 'max_bin': 4, 'grow_policy': 'SymmetricTree', 'min_data_in_leaf': 1, 'max_depth': 2, 'l2_leaf_reg': 5.408059967339835e-06, 'one_hot_max_size': 100, 'auto_class_weights': 'Balanced'}. Best is trial 91 with value: 0.7222766107025115.\u001b[0m\n"
     ]
    },
    {
     "name": "stdout",
     "output_type": "stream",
     "text": [
      "\n",
      "bestTest = 0.6167600595\n",
      "bestIteration = 177\n",
      "\n",
      "Training on fold [0/5]\n"
     ]
    },
    {
     "name": "stderr",
     "output_type": "stream",
     "text": [
      "C:\\Users\\jvrdo\\anaconda3\\lib\\site-packages\\optuna\\distributions.py:560: UserWarning: The distribution is specified by [1, 10] and step=20, but the range is not divisible by `step`. It will be replaced by [1, 1].\n",
      "  warnings.warn(\n",
      "C:\\Users\\jvrdo\\anaconda3\\lib\\site-packages\\optuna\\distributions.py:560: UserWarning: The distribution is specified by [2, 10] and step=15, but the range is not divisible by `step`. It will be replaced by [2, 2].\n",
      "  warnings.warn(\n"
     ]
    },
    {
     "name": "stdout",
     "output_type": "stream",
     "text": [
      "\n",
      "bestTest = 0.6166086684\n",
      "bestIteration = 151\n",
      "\n",
      "Training on fold [1/5]\n",
      "\n",
      "bestTest = 0.6057476823\n",
      "bestIteration = 165\n",
      "\n",
      "Training on fold [2/5]\n",
      "\n",
      "bestTest = 0.6125654865\n",
      "bestIteration = 184\n",
      "\n",
      "Training on fold [3/5]\n",
      "\n",
      "bestTest = 0.6144898243\n",
      "bestIteration = 178\n",
      "\n",
      "Training on fold [4/5]\n"
     ]
    },
    {
     "name": "stderr",
     "output_type": "stream",
     "text": [
      "\u001b[32m[I 2022-08-25 15:10:36,583]\u001b[0m Trial 125 finished with value: 0.7198996038556966 and parameters: {'iterations': 300, 'learning_rate': 0.1069060830088928, 'random_strength': 10, 'bagging_temperature': 10, 'max_bin': 20, 'grow_policy': 'SymmetricTree', 'min_data_in_leaf': 1, 'max_depth': 2, 'l2_leaf_reg': 0.00010085063787689422, 'one_hot_max_size': 100, 'auto_class_weights': 'Balanced'}. Best is trial 91 with value: 0.7222766107025115.\u001b[0m\n"
     ]
    },
    {
     "name": "stdout",
     "output_type": "stream",
     "text": [
      "\n",
      "bestTest = 0.6196033648\n",
      "bestIteration = 131\n",
      "\n",
      "Training on fold [0/5]\n"
     ]
    },
    {
     "name": "stderr",
     "output_type": "stream",
     "text": [
      "C:\\Users\\jvrdo\\anaconda3\\lib\\site-packages\\optuna\\distributions.py:560: UserWarning: The distribution is specified by [1, 10] and step=20, but the range is not divisible by `step`. It will be replaced by [1, 1].\n",
      "  warnings.warn(\n",
      "C:\\Users\\jvrdo\\anaconda3\\lib\\site-packages\\optuna\\distributions.py:560: UserWarning: The distribution is specified by [2, 10] and step=15, but the range is not divisible by `step`. It will be replaced by [2, 2].\n",
      "  warnings.warn(\n"
     ]
    },
    {
     "name": "stdout",
     "output_type": "stream",
     "text": [
      "\n",
      "bestTest = 0.6173716195\n",
      "bestIteration = 107\n",
      "\n",
      "Training on fold [1/5]\n",
      "\n",
      "bestTest = 0.6043922832\n",
      "bestIteration = 173\n",
      "\n",
      "Training on fold [2/5]\n",
      "\n",
      "bestTest = 0.6109056991\n",
      "bestIteration = 188\n",
      "\n",
      "Training on fold [3/5]\n",
      "\n",
      "bestTest = 0.6124368517\n",
      "bestIteration = 189\n",
      "\n",
      "Training on fold [4/5]\n",
      "\n"
     ]
    },
    {
     "name": "stderr",
     "output_type": "stream",
     "text": [
      "\u001b[32m[I 2022-08-25 15:10:38,009]\u001b[0m Trial 126 finished with value: 0.7205664717880874 and parameters: {'iterations': 1300, 'learning_rate': 0.13558144880515124, 'random_strength': 10, 'bagging_temperature': 1, 'max_bin': 20, 'grow_policy': 'Lossguide', 'min_data_in_leaf': 1, 'max_depth': 2, 'l2_leaf_reg': 4.552092204951563e-05, 'one_hot_max_size': 500, 'auto_class_weights': 'Balanced'}. Best is trial 91 with value: 0.7222766107025115.\u001b[0m\n"
     ]
    },
    {
     "name": "stdout",
     "output_type": "stream",
     "text": [
      "bestTest = 0.6189550619\n",
      "bestIteration = 95\n",
      "\n",
      "Training on fold [0/5]\n"
     ]
    },
    {
     "name": "stderr",
     "output_type": "stream",
     "text": [
      "C:\\Users\\jvrdo\\anaconda3\\lib\\site-packages\\optuna\\distributions.py:560: UserWarning: The distribution is specified by [1, 10] and step=20, but the range is not divisible by `step`. It will be replaced by [1, 1].\n",
      "  warnings.warn(\n",
      "C:\\Users\\jvrdo\\anaconda3\\lib\\site-packages\\optuna\\distributions.py:560: UserWarning: The distribution is specified by [2, 10] and step=15, but the range is not divisible by `step`. It will be replaced by [2, 2].\n",
      "  warnings.warn(\n"
     ]
    },
    {
     "name": "stdout",
     "output_type": "stream",
     "text": [
      "\n",
      "bestTest = 0.6204100835\n",
      "bestIteration = 147\n",
      "\n",
      "Training on fold [1/5]\n",
      "\n",
      "bestTest = 0.6022856635\n",
      "bestIteration = 291\n",
      "\n",
      "Training on fold [2/5]\n",
      "\n",
      "bestTest = 0.6119308528\n",
      "bestIteration = 212\n",
      "\n",
      "Training on fold [3/5]\n",
      "\n",
      "bestTest = 0.6160535976\n",
      "bestIteration = 210\n",
      "\n",
      "Training on fold [4/5]\n"
     ]
    },
    {
     "name": "stderr",
     "output_type": "stream",
     "text": [
      "\u001b[32m[I 2022-08-25 15:10:39,939]\u001b[0m Trial 127 finished with value: 0.7199334411653906 and parameters: {'iterations': 500, 'learning_rate': 0.08857089297512852, 'random_strength': 10, 'bagging_temperature': 1, 'max_bin': 20, 'grow_policy': 'Lossguide', 'min_data_in_leaf': 1, 'max_depth': 2, 'l2_leaf_reg': 3.568475082855187e-05, 'one_hot_max_size': 100, 'auto_class_weights': 'Balanced'}. Best is trial 91 with value: 0.7222766107025115.\u001b[0m\n"
     ]
    },
    {
     "name": "stdout",
     "output_type": "stream",
     "text": [
      "\n",
      "bestTest = 0.6170674732\n",
      "bestIteration = 189\n",
      "\n",
      "Training on fold [0/5]\n"
     ]
    },
    {
     "name": "stderr",
     "output_type": "stream",
     "text": [
      "C:\\Users\\jvrdo\\anaconda3\\lib\\site-packages\\optuna\\distributions.py:560: UserWarning: The distribution is specified by [1, 10] and step=20, but the range is not divisible by `step`. It will be replaced by [1, 1].\n",
      "  warnings.warn(\n",
      "C:\\Users\\jvrdo\\anaconda3\\lib\\site-packages\\optuna\\distributions.py:560: UserWarning: The distribution is specified by [2, 10] and step=15, but the range is not divisible by `step`. It will be replaced by [2, 2].\n",
      "  warnings.warn(\n"
     ]
    },
    {
     "name": "stdout",
     "output_type": "stream",
     "text": [
      "\n",
      "bestTest = 0.6088283842\n",
      "bestIteration = 107\n",
      "\n",
      "Training on fold [1/5]\n",
      "\n",
      "bestTest = 0.5930391161\n",
      "bestIteration = 176\n",
      "\n",
      "Training on fold [2/5]\n",
      "\n",
      "bestTest = 0.6041489044\n",
      "bestIteration = 148\n",
      "\n",
      "Training on fold [3/5]\n",
      "\n",
      "bestTest = 0.6089846416\n",
      "bestIteration = 118\n",
      "\n",
      "Training on fold [4/5]\n",
      "\n"
     ]
    },
    {
     "name": "stderr",
     "output_type": "stream",
     "text": [
      "\u001b[32m[I 2022-08-25 15:10:41,244]\u001b[0m Trial 128 finished with value: 0.7193325059731094 and parameters: {'iterations': 1200, 'learning_rate': 0.13644889739375288, 'random_strength': 10, 'bagging_temperature': 1, 'max_bin': 20, 'grow_policy': 'Lossguide', 'min_data_in_leaf': 1, 'max_depth': 2, 'l2_leaf_reg': 0.00034221711715886076, 'one_hot_max_size': 500, 'auto_class_weights': 'SqrtBalanced'}. Best is trial 91 with value: 0.7222766107025115.\u001b[0m\n"
     ]
    },
    {
     "name": "stdout",
     "output_type": "stream",
     "text": [
      "bestTest = 0.6100875895\n",
      "bestIteration = 92\n",
      "\n",
      "Training on fold [0/5]\n"
     ]
    },
    {
     "name": "stderr",
     "output_type": "stream",
     "text": [
      "C:\\Users\\jvrdo\\anaconda3\\lib\\site-packages\\optuna\\distributions.py:560: UserWarning: The distribution is specified by [1, 10] and step=20, but the range is not divisible by `step`. It will be replaced by [1, 1].\n",
      "  warnings.warn(\n",
      "C:\\Users\\jvrdo\\anaconda3\\lib\\site-packages\\optuna\\distributions.py:560: UserWarning: The distribution is specified by [2, 10] and step=15, but the range is not divisible by `step`. It will be replaced by [2, 2].\n",
      "  warnings.warn(\n"
     ]
    },
    {
     "name": "stdout",
     "output_type": "stream",
     "text": [
      "\n",
      "bestTest = 0.6196654807\n",
      "bestIteration = 199\n",
      "\n",
      "Training on fold [1/5]\n",
      "\n",
      "bestTest = 0.6080785234\n",
      "bestIteration = 199\n",
      "\n",
      "Training on fold [2/5]\n",
      "\n",
      "bestTest = 0.6163945135\n",
      "bestIteration = 197\n",
      "\n",
      "Training on fold [3/5]\n",
      "\n",
      "bestTest = 0.6198516481\n",
      "bestIteration = 198\n",
      "\n",
      "Training on fold [4/5]\n"
     ]
    },
    {
     "name": "stderr",
     "output_type": "stream",
     "text": [
      "\u001b[32m[I 2022-08-25 15:10:43,067]\u001b[0m Trial 129 finished with value: 0.717050478324501 and parameters: {'iterations': 200, 'learning_rate': 0.0659444869623559, 'random_strength': 10, 'bagging_temperature': 0, 'max_bin': 20, 'grow_policy': 'Lossguide', 'min_data_in_leaf': 1, 'max_depth': 2, 'l2_leaf_reg': 0.00016487982477026336, 'one_hot_max_size': 100, 'auto_class_weights': 'Balanced'}. Best is trial 91 with value: 0.7222766107025115.\u001b[0m\n"
     ]
    },
    {
     "name": "stdout",
     "output_type": "stream",
     "text": [
      "\n",
      "bestTest = 0.6205263301\n",
      "bestIteration = 199\n",
      "\n",
      "Training on fold [0/5]\n"
     ]
    },
    {
     "name": "stderr",
     "output_type": "stream",
     "text": [
      "C:\\Users\\jvrdo\\anaconda3\\lib\\site-packages\\optuna\\distributions.py:560: UserWarning: The distribution is specified by [1, 10] and step=20, but the range is not divisible by `step`. It will be replaced by [1, 1].\n",
      "  warnings.warn(\n",
      "C:\\Users\\jvrdo\\anaconda3\\lib\\site-packages\\optuna\\distributions.py:560: UserWarning: The distribution is specified by [2, 10] and step=15, but the range is not divisible by `step`. It will be replaced by [2, 2].\n",
      "  warnings.warn(\n"
     ]
    },
    {
     "name": "stdout",
     "output_type": "stream",
     "text": [
      "\n",
      "bestTest = 0.6208269655\n",
      "bestIteration = 99\n",
      "\n",
      "Training on fold [1/5]\n",
      "\n",
      "bestTest = 0.6059307581\n",
      "bestIteration = 99\n",
      "\n",
      "Training on fold [2/5]\n",
      "\n",
      "bestTest = 0.6166644573\n",
      "bestIteration = 99\n",
      "\n",
      "Training on fold [3/5]\n",
      "\n",
      "bestTest = 0.616407079\n",
      "bestIteration = 98\n",
      "\n",
      "Training on fold [4/5]\n",
      "\n",
      "bestTest = 0.6188405784\n",
      "bestIteration = 87\n",
      "\n"
     ]
    },
    {
     "name": "stderr",
     "output_type": "stream",
     "text": [
      "\u001b[32m[I 2022-08-25 15:10:44,049]\u001b[0m Trial 130 finished with value: 0.7177604073656835 and parameters: {'iterations': 100, 'learning_rate': 0.15103173937486047, 'random_strength': 10, 'bagging_temperature': 2, 'max_bin': 10, 'grow_policy': 'Lossguide', 'min_data_in_leaf': 1, 'max_depth': 2, 'l2_leaf_reg': 6.019879755863398e-07, 'one_hot_max_size': 500, 'auto_class_weights': 'Balanced'}. Best is trial 91 with value: 0.7222766107025115.\u001b[0m\n",
      "C:\\Users\\jvrdo\\anaconda3\\lib\\site-packages\\optuna\\distributions.py:560: UserWarning: The distribution is specified by [1, 10] and step=20, but the range is not divisible by `step`. It will be replaced by [1, 1].\n",
      "  warnings.warn(\n",
      "C:\\Users\\jvrdo\\anaconda3\\lib\\site-packages\\optuna\\distributions.py:560: UserWarning: The distribution is specified by [2, 10] and step=15, but the range is not divisible by `step`. It will be replaced by [2, 2].\n",
      "  warnings.warn(\n"
     ]
    },
    {
     "name": "stdout",
     "output_type": "stream",
     "text": [
      "Training on fold [0/5]\n",
      "\n",
      "bestTest = 0.6207102357\n",
      "bestIteration = 98\n",
      "\n",
      "Training on fold [1/5]\n",
      "\n",
      "bestTest = 0.6049254249\n",
      "bestIteration = 132\n",
      "\n",
      "Training on fold [2/5]\n",
      "\n",
      "bestTest = 0.6119454093\n",
      "bestIteration = 153\n",
      "\n",
      "Training on fold [3/5]\n",
      "\n",
      "bestTest = 0.6117159446\n",
      "bestIteration = 184\n",
      "\n",
      "Training on fold [4/5]\n",
      "\n",
      "bestTest = 0.6205156676\n"
     ]
    },
    {
     "name": "stderr",
     "output_type": "stream",
     "text": [
      "\u001b[32m[I 2022-08-25 15:10:45,368]\u001b[0m Trial 131 finished with value: 0.7187046132303931 and parameters: {'iterations': 1300, 'learning_rate': 0.1427015048190604, 'random_strength': 9, 'bagging_temperature': 4, 'max_bin': 20, 'grow_policy': 'Lossguide', 'min_data_in_leaf': 1, 'max_depth': 2, 'l2_leaf_reg': 5.407079369377561e-05, 'one_hot_max_size': 500, 'auto_class_weights': 'Balanced'}. Best is trial 91 with value: 0.7222766107025115.\u001b[0m\n"
     ]
    },
    {
     "name": "stdout",
     "output_type": "stream",
     "text": [
      "bestIteration = 91\n",
      "\n",
      "Training on fold [0/5]\n"
     ]
    },
    {
     "name": "stderr",
     "output_type": "stream",
     "text": [
      "C:\\Users\\jvrdo\\anaconda3\\lib\\site-packages\\optuna\\distributions.py:560: UserWarning: The distribution is specified by [1, 10] and step=20, but the range is not divisible by `step`. It will be replaced by [1, 1].\n",
      "  warnings.warn(\n",
      "C:\\Users\\jvrdo\\anaconda3\\lib\\site-packages\\optuna\\distributions.py:560: UserWarning: The distribution is specified by [2, 10] and step=15, but the range is not divisible by `step`. It will be replaced by [2, 2].\n",
      "  warnings.warn(\n"
     ]
    },
    {
     "name": "stdout",
     "output_type": "stream",
     "text": [
      "\n",
      "bestTest = 0.6168875156\n",
      "bestIteration = 126\n",
      "\n",
      "Training on fold [1/5]\n",
      "\n",
      "bestTest = 0.6012372376\n",
      "bestIteration = 179\n",
      "\n",
      "Training on fold [2/5]\n",
      "\n",
      "bestTest = 0.6109535699\n",
      "bestIteration = 153\n",
      "\n",
      "Training on fold [3/5]\n",
      "\n",
      "bestTest = 0.6156438191\n",
      "bestIteration = 125\n",
      "\n",
      "Training on fold [4/5]\n"
     ]
    },
    {
     "name": "stderr",
     "output_type": "stream",
     "text": [
      "\u001b[32m[I 2022-08-25 15:10:46,753]\u001b[0m Trial 132 finished with value: 0.7206253338650319 and parameters: {'iterations': 1300, 'learning_rate': 0.1291421786022387, 'random_strength': 7, 'bagging_temperature': 2, 'max_bin': 20, 'grow_policy': 'Lossguide', 'min_data_in_leaf': 1, 'max_depth': 2, 'l2_leaf_reg': 1.2900812095916511e-05, 'one_hot_max_size': 500, 'auto_class_weights': 'Balanced'}. Best is trial 91 with value: 0.7222766107025115.\u001b[0m\n"
     ]
    },
    {
     "name": "stdout",
     "output_type": "stream",
     "text": [
      "\n",
      "bestTest = 0.6198240496\n",
      "bestIteration = 127\n",
      "\n",
      "Training on fold [0/5]\n"
     ]
    },
    {
     "name": "stderr",
     "output_type": "stream",
     "text": [
      "C:\\Users\\jvrdo\\anaconda3\\lib\\site-packages\\optuna\\distributions.py:560: UserWarning: The distribution is specified by [1, 10] and step=20, but the range is not divisible by `step`. It will be replaced by [1, 1].\n",
      "  warnings.warn(\n",
      "C:\\Users\\jvrdo\\anaconda3\\lib\\site-packages\\optuna\\distributions.py:560: UserWarning: The distribution is specified by [2, 10] and step=15, but the range is not divisible by `step`. It will be replaced by [2, 2].\n",
      "  warnings.warn(\n"
     ]
    },
    {
     "name": "stdout",
     "output_type": "stream",
     "text": [
      "\n",
      "bestTest = 0.6195059181\n",
      "bestIteration = 103\n",
      "\n",
      "Training on fold [1/5]\n",
      "\n",
      "bestTest = 0.6011293109\n",
      "bestIteration = 194\n",
      "\n",
      "Training on fold [2/5]\n",
      "\n",
      "bestTest = 0.6131664898\n",
      "bestIteration = 133\n",
      "\n",
      "Training on fold [3/5]\n",
      "\n",
      "bestTest = 0.6172228619\n",
      "bestIteration = 127\n",
      "\n",
      "Training on fold [4/5]\n"
     ]
    },
    {
     "name": "stderr",
     "output_type": "stream",
     "text": [
      "\u001b[32m[I 2022-08-25 15:10:48,131]\u001b[0m Trial 133 finished with value: 0.7192079900712822 and parameters: {'iterations': 1300, 'learning_rate': 0.12124123146289184, 'random_strength': 7, 'bagging_temperature': 2, 'max_bin': 20, 'grow_policy': 'Lossguide', 'min_data_in_leaf': 1, 'max_depth': 2, 'l2_leaf_reg': 1.090032845543601e-05, 'one_hot_max_size': 500, 'auto_class_weights': 'Balanced'}. Best is trial 91 with value: 0.7222766107025115.\u001b[0m\n"
     ]
    },
    {
     "name": "stdout",
     "output_type": "stream",
     "text": [
      "\n",
      "bestTest = 0.6190323714\n",
      "bestIteration = 127\n",
      "\n",
      "Training on fold [0/5]\n"
     ]
    },
    {
     "name": "stderr",
     "output_type": "stream",
     "text": [
      "C:\\Users\\jvrdo\\anaconda3\\lib\\site-packages\\optuna\\distributions.py:560: UserWarning: The distribution is specified by [1, 10] and step=20, but the range is not divisible by `step`. It will be replaced by [1, 1].\n",
      "  warnings.warn(\n",
      "C:\\Users\\jvrdo\\anaconda3\\lib\\site-packages\\optuna\\distributions.py:560: UserWarning: The distribution is specified by [2, 10] and step=15, but the range is not divisible by `step`. It will be replaced by [2, 2].\n",
      "  warnings.warn(\n"
     ]
    },
    {
     "name": "stdout",
     "output_type": "stream",
     "text": [
      "\n",
      "bestTest = 0.6148828664\n",
      "bestIteration = 158\n",
      "\n",
      "Training on fold [1/5]\n",
      "\n",
      "bestTest = 0.6062157616\n",
      "bestIteration = 149\n",
      "\n",
      "Training on fold [2/5]\n",
      "\n",
      "bestTest = 0.6132344511\n",
      "bestIteration = 136\n",
      "\n",
      "Training on fold [3/5]\n",
      "\n",
      "bestTest = 0.6183148016\n",
      "bestIteration = 133\n",
      "\n",
      "Training on fold [4/5]\n"
     ]
    },
    {
     "name": "stderr",
     "output_type": "stream",
     "text": [
      "\u001b[32m[I 2022-08-25 15:10:49,505]\u001b[0m Trial 134 finished with value: 0.7187746355453098 and parameters: {'iterations': 1300, 'learning_rate': 0.11161816525740832, 'random_strength': 6, 'bagging_temperature': 1, 'max_bin': 20, 'grow_policy': 'Lossguide', 'min_data_in_leaf': 1, 'max_depth': 2, 'l2_leaf_reg': 7.4942310137263756e-06, 'one_hot_max_size': 500, 'auto_class_weights': 'Balanced'}. Best is trial 91 with value: 0.7222766107025115.\u001b[0m\n"
     ]
    },
    {
     "name": "stdout",
     "output_type": "stream",
     "text": [
      "\n",
      "bestTest = 0.6204322988\n",
      "bestIteration = 106\n",
      "\n",
      "Training on fold [0/5]\n"
     ]
    },
    {
     "name": "stderr",
     "output_type": "stream",
     "text": [
      "C:\\Users\\jvrdo\\anaconda3\\lib\\site-packages\\optuna\\distributions.py:560: UserWarning: The distribution is specified by [1, 10] and step=20, but the range is not divisible by `step`. It will be replaced by [1, 1].\n",
      "  warnings.warn(\n",
      "C:\\Users\\jvrdo\\anaconda3\\lib\\site-packages\\optuna\\distributions.py:560: UserWarning: The distribution is specified by [2, 10] and step=15, but the range is not divisible by `step`. It will be replaced by [2, 2].\n",
      "  warnings.warn(\n"
     ]
    },
    {
     "name": "stdout",
     "output_type": "stream",
     "text": [
      "\n",
      "bestTest = 0.6175138293\n",
      "bestIteration = 223\n",
      "\n",
      "Training on fold [1/5]\n",
      "\n",
      "bestTest = 0.604226943\n",
      "bestIteration = 230\n",
      "\n",
      "Training on fold [2/5]\n",
      "\n",
      "bestTest = 0.613284002\n",
      "bestIteration = 203\n",
      "\n",
      "Training on fold [3/5]\n",
      "\n",
      "bestTest = 0.6165790835\n",
      "bestIteration = 219\n",
      "\n",
      "Training on fold [4/5]\n"
     ]
    },
    {
     "name": "stderr",
     "output_type": "stream",
     "text": [
      "\u001b[32m[I 2022-08-25 15:10:51,395]\u001b[0m Trial 135 finished with value: 0.7190138233146364 and parameters: {'iterations': 1300, 'learning_rate': 0.07696078172167074, 'random_strength': 7, 'bagging_temperature': 2, 'max_bin': 20, 'grow_policy': 'Lossguide', 'min_data_in_leaf': 1, 'max_depth': 2, 'l2_leaf_reg': 1.5597261444573435e-05, 'one_hot_max_size': 500, 'auto_class_weights': 'Balanced'}. Best is trial 91 with value: 0.7222766107025115.\u001b[0m\n"
     ]
    },
    {
     "name": "stdout",
     "output_type": "stream",
     "text": [
      "\n",
      "bestTest = 0.6213226557\n",
      "bestIteration = 140\n",
      "\n",
      "Training on fold [0/5]\n"
     ]
    },
    {
     "name": "stderr",
     "output_type": "stream",
     "text": [
      "C:\\Users\\jvrdo\\anaconda3\\lib\\site-packages\\optuna\\distributions.py:560: UserWarning: The distribution is specified by [1, 10] and step=20, but the range is not divisible by `step`. It will be replaced by [1, 1].\n",
      "  warnings.warn(\n",
      "C:\\Users\\jvrdo\\anaconda3\\lib\\site-packages\\optuna\\distributions.py:560: UserWarning: The distribution is specified by [2, 10] and step=15, but the range is not divisible by `step`. It will be replaced by [2, 2].\n",
      "  warnings.warn(\n"
     ]
    },
    {
     "name": "stdout",
     "output_type": "stream",
     "text": [
      "\n",
      "bestTest = 0.6190780964\n",
      "bestIteration = 116\n",
      "\n",
      "Training on fold [1/5]\n",
      "\n",
      "bestTest = 0.6026039783\n",
      "bestIteration = 167\n",
      "\n",
      "Training on fold [2/5]\n",
      "\n",
      "bestTest = 0.6121463134\n",
      "bestIteration = 177\n",
      "\n",
      "Training on fold [3/5]\n",
      "\n",
      "bestTest = 0.6162201812\n",
      "bestIteration = 133\n",
      "\n",
      "Training on fold [4/5]\n"
     ]
    },
    {
     "name": "stderr",
     "output_type": "stream",
     "text": [
      "\u001b[32m[I 2022-08-25 15:10:52,969]\u001b[0m Trial 136 finished with value: 0.7197724139196604 and parameters: {'iterations': 300, 'learning_rate': 0.13133284744375143, 'random_strength': 7, 'bagging_temperature': 1, 'max_bin': 30, 'grow_policy': 'Lossguide', 'min_data_in_leaf': 1, 'max_depth': 2, 'l2_leaf_reg': 3.393373314580178e-05, 'one_hot_max_size': 100, 'auto_class_weights': 'Balanced'}. Best is trial 91 with value: 0.7222766107025115.\u001b[0m\n"
     ]
    },
    {
     "name": "stdout",
     "output_type": "stream",
     "text": [
      "\n",
      "bestTest = 0.6164012706\n",
      "bestIteration = 165\n",
      "\n",
      "Training on fold [0/5]\n",
      "\n",
      "bestTest = 0.6218200636\n",
      "bestIteration = 47\n",
      "\n",
      "Training on fold [1/5]\n"
     ]
    },
    {
     "name": "stderr",
     "output_type": "stream",
     "text": [
      "C:\\Users\\jvrdo\\anaconda3\\lib\\site-packages\\optuna\\distributions.py:560: UserWarning: The distribution is specified by [1, 10] and step=20, but the range is not divisible by `step`. It will be replaced by [1, 1].\n",
      "  warnings.warn(\n",
      "C:\\Users\\jvrdo\\anaconda3\\lib\\site-packages\\optuna\\distributions.py:560: UserWarning: The distribution is specified by [2, 10] and step=15, but the range is not divisible by `step`. It will be replaced by [2, 2].\n",
      "  warnings.warn(\n"
     ]
    },
    {
     "name": "stdout",
     "output_type": "stream",
     "text": [
      "\n",
      "bestTest = 0.6023316767\n",
      "bestIteration = 76\n",
      "\n",
      "Training on fold [2/5]\n",
      "\n",
      "bestTest = 0.6144694645\n",
      "bestIteration = 55\n",
      "\n",
      "Training on fold [3/5]\n"
     ]
    },
    {
     "name": "stderr",
     "output_type": "stream",
     "text": [
      "\u001b[32m[I 2022-08-25 15:10:53,727]\u001b[0m Trial 137 finished with value: 0.7189164922269093 and parameters: {'iterations': 1300, 'learning_rate': 0.2891888437310802, 'random_strength': 6, 'bagging_temperature': 2, 'max_bin': 20, 'grow_policy': 'Lossguide', 'min_data_in_leaf': 1, 'max_depth': 2, 'l2_leaf_reg': 9.343155107635465e-05, 'one_hot_max_size': 500, 'auto_class_weights': 'Balanced'}. Best is trial 91 with value: 0.7222766107025115.\u001b[0m\n"
     ]
    },
    {
     "name": "stdout",
     "output_type": "stream",
     "text": [
      "\n",
      "bestTest = 0.6142446329\n",
      "bestIteration = 68\n",
      "\n",
      "Training on fold [4/5]\n",
      "\n",
      "bestTest = 0.6149113824\n",
      "bestIteration = 65\n",
      "\n",
      "Training on fold [0/5]\n"
     ]
    },
    {
     "name": "stderr",
     "output_type": "stream",
     "text": [
      "C:\\Users\\jvrdo\\anaconda3\\lib\\site-packages\\optuna\\distributions.py:560: UserWarning: The distribution is specified by [1, 10] and step=20, but the range is not divisible by `step`. It will be replaced by [1, 1].\n",
      "  warnings.warn(\n",
      "C:\\Users\\jvrdo\\anaconda3\\lib\\site-packages\\optuna\\distributions.py:560: UserWarning: The distribution is specified by [2, 10] and step=15, but the range is not divisible by `step`. It will be replaced by [2, 2].\n",
      "  warnings.warn(\n"
     ]
    },
    {
     "name": "stdout",
     "output_type": "stream",
     "text": [
      "\n",
      "bestTest = 0.6192174346\n",
      "bestIteration = 110\n",
      "\n",
      "Training on fold [1/5]\n",
      "\n",
      "bestTest = 0.6032181875\n",
      "bestIteration = 221\n",
      "\n",
      "Training on fold [2/5]\n",
      "\n",
      "bestTest = 0.6133175162\n",
      "bestIteration = 139\n",
      "\n",
      "Training on fold [3/5]\n",
      "\n",
      "bestTest = 0.6119104588\n",
      "bestIteration = 229\n",
      "\n",
      "Training on fold [4/5]\n"
     ]
    },
    {
     "name": "stderr",
     "output_type": "stream",
     "text": [
      "\u001b[32m[I 2022-08-25 15:11:05,326]\u001b[0m Trial 138 finished with value: 0.7199644936633476 and parameters: {'iterations': 1500, 'learning_rate': 0.12593379743470068, 'random_strength': 7, 'bagging_temperature': 0, 'max_bin': 20, 'grow_policy': 'Lossguide', 'min_data_in_leaf': 1, 'max_depth': 2, 'l2_leaf_reg': 3.749107671724036e-06, 'one_hot_max_size': 10, 'auto_class_weights': 'Balanced'}. Best is trial 91 with value: 0.7222766107025115.\u001b[0m\n"
     ]
    },
    {
     "name": "stdout",
     "output_type": "stream",
     "text": [
      "\n",
      "bestTest = 0.6198063368\n",
      "bestIteration = 120\n",
      "\n",
      "Training on fold [0/5]\n"
     ]
    },
    {
     "name": "stderr",
     "output_type": "stream",
     "text": [
      "C:\\Users\\jvrdo\\anaconda3\\lib\\site-packages\\optuna\\distributions.py:560: UserWarning: The distribution is specified by [1, 10] and step=20, but the range is not divisible by `step`. It will be replaced by [1, 1].\n",
      "  warnings.warn(\n",
      "C:\\Users\\jvrdo\\anaconda3\\lib\\site-packages\\optuna\\distributions.py:560: UserWarning: The distribution is specified by [2, 10] and step=15, but the range is not divisible by `step`. It will be replaced by [2, 2].\n",
      "  warnings.warn(\n"
     ]
    },
    {
     "name": "stdout",
     "output_type": "stream",
     "text": [
      "\n",
      "bestTest = 0.6072290297\n",
      "bestIteration = 119\n",
      "\n",
      "Training on fold [1/5]\n",
      "\n",
      "bestTest = 0.5971081936\n",
      "bestIteration = 117\n",
      "\n",
      "Training on fold [2/5]\n",
      "\n",
      "bestTest = 0.6020415215\n",
      "bestIteration = 150\n",
      "\n",
      "Training on fold [3/5]\n"
     ]
    },
    {
     "name": "stderr",
     "output_type": "stream",
     "text": [
      "\u001b[32m[I 2022-08-25 15:11:06,595]\u001b[0m Trial 139 finished with value: 0.7197599261769106 and parameters: {'iterations': 300, 'learning_rate': 0.13819875339657467, 'random_strength': 6, 'bagging_temperature': 1, 'max_bin': 20, 'grow_policy': 'Lossguide', 'min_data_in_leaf': 1, 'max_depth': 2, 'l2_leaf_reg': 0.0005262453767084958, 'one_hot_max_size': 100, 'auto_class_weights': 'SqrtBalanced'}. Best is trial 91 with value: 0.7222766107025115.\u001b[0m\n"
     ]
    },
    {
     "name": "stdout",
     "output_type": "stream",
     "text": [
      "\n",
      "bestTest = 0.6036418879\n",
      "bestIteration = 181\n",
      "\n",
      "Training on fold [4/5]\n",
      "\n",
      "bestTest = 0.6110134291\n",
      "bestIteration = 82\n",
      "\n"
     ]
    },
    {
     "name": "stderr",
     "output_type": "stream",
     "text": [
      "C:\\Users\\jvrdo\\anaconda3\\lib\\site-packages\\optuna\\distributions.py:560: UserWarning: The distribution is specified by [1, 10] and step=20, but the range is not divisible by `step`. It will be replaced by [1, 1].\n",
      "  warnings.warn(\n",
      "C:\\Users\\jvrdo\\anaconda3\\lib\\site-packages\\optuna\\distributions.py:560: UserWarning: The distribution is specified by [2, 10] and step=15, but the range is not divisible by `step`. It will be replaced by [2, 2].\n",
      "  warnings.warn(\n"
     ]
    },
    {
     "name": "stdout",
     "output_type": "stream",
     "text": [
      "Training on fold [0/5]\n",
      "\n",
      "bestTest = 0.6184060524\n",
      "bestIteration = 79\n",
      "\n",
      "Training on fold [1/5]\n",
      "\n",
      "bestTest = 0.6013377216\n",
      "bestIteration = 196\n",
      "\n",
      "Training on fold [2/5]\n",
      "\n",
      "bestTest = 0.61284989\n",
      "bestIteration = 116\n",
      "\n",
      "Training on fold [3/5]\n",
      "\n",
      "bestTest = 0.6122919063\n",
      "bestIteration = 114\n",
      "\n",
      "Training on fold [4/5]\n"
     ]
    },
    {
     "name": "stderr",
     "output_type": "stream",
     "text": [
      "\u001b[32m[I 2022-08-25 15:11:07,858]\u001b[0m Trial 140 finished with value: 0.720618746106245 and parameters: {'iterations': 1300, 'learning_rate': 0.15518171385730328, 'random_strength': 3, 'bagging_temperature': 3, 'max_bin': 20, 'grow_policy': 'Lossguide', 'min_data_in_leaf': 1, 'max_depth': 2, 'l2_leaf_reg': 2.2078411406248804e-05, 'one_hot_max_size': 500, 'auto_class_weights': 'Balanced'}. Best is trial 91 with value: 0.7222766107025115.\u001b[0m\n"
     ]
    },
    {
     "name": "stdout",
     "output_type": "stream",
     "text": [
      "\n",
      "bestTest = 0.616424278\n",
      "bestIteration = 111\n",
      "\n",
      "Training on fold [0/5]\n",
      "\n"
     ]
    },
    {
     "name": "stderr",
     "output_type": "stream",
     "text": [
      "C:\\Users\\jvrdo\\anaconda3\\lib\\site-packages\\optuna\\distributions.py:560: UserWarning: The distribution is specified by [1, 10] and step=20, but the range is not divisible by `step`. It will be replaced by [1, 1].\n",
      "  warnings.warn(\n",
      "C:\\Users\\jvrdo\\anaconda3\\lib\\site-packages\\optuna\\distributions.py:560: UserWarning: The distribution is specified by [2, 10] and step=15, but the range is not divisible by `step`. It will be replaced by [2, 2].\n",
      "  warnings.warn(\n"
     ]
    },
    {
     "name": "stdout",
     "output_type": "stream",
     "text": [
      "bestTest = 0.6198449467\n",
      "bestIteration = 82\n",
      "\n",
      "Training on fold [1/5]\n",
      "\n",
      "bestTest = 0.6035131986\n",
      "bestIteration = 111\n",
      "\n",
      "Training on fold [2/5]\n",
      "\n",
      "bestTest = 0.6086644582\n",
      "bestIteration = 166\n",
      "\n",
      "Training on fold [3/5]\n",
      "\n",
      "bestTest = 0.6174479164\n",
      "bestIteration = 95\n",
      "\n",
      "Training on fold [4/5]\n"
     ]
    },
    {
     "name": "stderr",
     "output_type": "stream",
     "text": [
      "\u001b[32m[I 2022-08-25 15:11:09,044]\u001b[0m Trial 141 finished with value: 0.7190521996344668 and parameters: {'iterations': 1300, 'learning_rate': 0.14713119775474043, 'random_strength': 3, 'bagging_temperature': 3, 'max_bin': 20, 'grow_policy': 'Lossguide', 'min_data_in_leaf': 1, 'max_depth': 2, 'l2_leaf_reg': 5.4209677126423083e-05, 'one_hot_max_size': 500, 'auto_class_weights': 'Balanced'}. Best is trial 91 with value: 0.7222766107025115.\u001b[0m\n"
     ]
    },
    {
     "name": "stdout",
     "output_type": "stream",
     "text": [
      "\n",
      "bestTest = 0.6201738489\n",
      "bestIteration = 100\n",
      "\n",
      "Training on fold [0/5]\n"
     ]
    },
    {
     "name": "stderr",
     "output_type": "stream",
     "text": [
      "C:\\Users\\jvrdo\\anaconda3\\lib\\site-packages\\optuna\\distributions.py:560: UserWarning: The distribution is specified by [1, 10] and step=20, but the range is not divisible by `step`. It will be replaced by [1, 1].\n",
      "  warnings.warn(\n",
      "C:\\Users\\jvrdo\\anaconda3\\lib\\site-packages\\optuna\\distributions.py:560: UserWarning: The distribution is specified by [2, 10] and step=15, but the range is not divisible by `step`. It will be replaced by [2, 2].\n",
      "  warnings.warn(\n"
     ]
    },
    {
     "name": "stdout",
     "output_type": "stream",
     "text": [
      "\n",
      "bestTest = 0.6178816647\n",
      "bestIteration = 129\n",
      "\n",
      "Training on fold [1/5]\n",
      "\n",
      "bestTest = 0.6035154237\n",
      "bestIteration = 140\n",
      "\n",
      "Training on fold [2/5]\n",
      "\n",
      "bestTest = 0.6105662822\n",
      "bestIteration = 172\n",
      "\n",
      "Training on fold [3/5]\n",
      "\n",
      "bestTest = 0.6163021401\n",
      "bestIteration = 154\n",
      "\n",
      "Training on fold [4/5]\n"
     ]
    },
    {
     "name": "stderr",
     "output_type": "stream",
     "text": [
      "\u001b[32m[I 2022-08-25 15:11:10,397]\u001b[0m Trial 142 finished with value: 0.7192197761248722 and parameters: {'iterations': 1300, 'learning_rate': 0.11592103921176453, 'random_strength': 4, 'bagging_temperature': 3, 'max_bin': 20, 'grow_policy': 'Lossguide', 'min_data_in_leaf': 1, 'max_depth': 2, 'l2_leaf_reg': 2.7518252978242256e-05, 'one_hot_max_size': 500, 'auto_class_weights': 'Balanced'}. Best is trial 91 with value: 0.7222766107025115.\u001b[0m\n"
     ]
    },
    {
     "name": "stdout",
     "output_type": "stream",
     "text": [
      "\n",
      "bestTest = 0.6187627668\n",
      "bestIteration = 99\n",
      "\n",
      "Training on fold [0/5]\n",
      "\n",
      "bestTest = 0.6181160536\n",
      "bestIteration = 62\n",
      "\n",
      "Training on fold [1/5]\n"
     ]
    },
    {
     "name": "stderr",
     "output_type": "stream",
     "text": [
      "C:\\Users\\jvrdo\\anaconda3\\lib\\site-packages\\optuna\\distributions.py:560: UserWarning: The distribution is specified by [1, 10] and step=20, but the range is not divisible by `step`. It will be replaced by [1, 1].\n",
      "  warnings.warn(\n",
      "C:\\Users\\jvrdo\\anaconda3\\lib\\site-packages\\optuna\\distributions.py:560: UserWarning: The distribution is specified by [2, 10] and step=15, but the range is not divisible by `step`. It will be replaced by [2, 2].\n",
      "  warnings.warn(\n"
     ]
    },
    {
     "name": "stdout",
     "output_type": "stream",
     "text": [
      "\n",
      "bestTest = 0.6035807649\n",
      "bestIteration = 64\n",
      "\n",
      "Training on fold [2/5]\n",
      "\n",
      "bestTest = 0.6126042076\n",
      "bestIteration = 90\n",
      "\n",
      "Training on fold [3/5]\n",
      "\n",
      "bestTest = 0.6154034893\n",
      "bestIteration = 71\n",
      "\n",
      "Training on fold [4/5]\n"
     ]
    },
    {
     "name": "stderr",
     "output_type": "stream",
     "text": [
      "\u001b[32m[I 2022-08-25 15:11:11,146]\u001b[0m Trial 143 finished with value: 0.7187392505106616 and parameters: {'iterations': 1300, 'learning_rate': 0.23599639199134226, 'random_strength': 2, 'bagging_temperature': 4, 'max_bin': 20, 'grow_policy': 'Lossguide', 'min_data_in_leaf': 1, 'max_depth': 2, 'l2_leaf_reg': 1.7158244757137518e-05, 'one_hot_max_size': 500, 'auto_class_weights': 'Balanced'}. Best is trial 91 with value: 0.7222766107025115.\u001b[0m\n"
     ]
    },
    {
     "name": "stdout",
     "output_type": "stream",
     "text": [
      "\n",
      "bestTest = 0.6200920184\n",
      "bestIteration = 29\n",
      "\n",
      "Training on fold [0/5]\n",
      "\n",
      "bestTest = 0.6199056748\n"
     ]
    },
    {
     "name": "stderr",
     "output_type": "stream",
     "text": [
      "C:\\Users\\jvrdo\\anaconda3\\lib\\site-packages\\optuna\\distributions.py:560: UserWarning: The distribution is specified by [1, 10] and step=20, but the range is not divisible by `step`. It will be replaced by [1, 1].\n",
      "  warnings.warn(\n",
      "C:\\Users\\jvrdo\\anaconda3\\lib\\site-packages\\optuna\\distributions.py:560: UserWarning: The distribution is specified by [2, 10] and step=15, but the range is not divisible by `step`. It will be replaced by [2, 2].\n",
      "  warnings.warn(\n"
     ]
    },
    {
     "name": "stdout",
     "output_type": "stream",
     "text": [
      "bestIteration = 74\n",
      "\n",
      "Training on fold [1/5]\n",
      "\n",
      "bestTest = 0.6031425039\n",
      "bestIteration = 125\n",
      "\n",
      "Training on fold [2/5]\n",
      "\n",
      "bestTest = 0.6097222041\n",
      "bestIteration = 136\n",
      "\n",
      "Training on fold [3/5]\n",
      "\n",
      "bestTest = 0.618544692\n",
      "bestIteration = 69\n",
      "\n",
      "Training on fold [4/5]\n"
     ]
    },
    {
     "name": "stderr",
     "output_type": "stream",
     "text": [
      "\u001b[32m[I 2022-08-25 15:11:12,199]\u001b[0m Trial 144 finished with value: 0.7198131017701113 and parameters: {'iterations': 1300, 'learning_rate': 0.13464810001220046, 'random_strength': 1, 'bagging_temperature': 2, 'max_bin': 20, 'grow_policy': 'Lossguide', 'min_data_in_leaf': 1, 'max_depth': 2, 'l2_leaf_reg': 9.384798222148798e-06, 'one_hot_max_size': 500, 'auto_class_weights': 'Balanced'}. Best is trial 91 with value: 0.7222766107025115.\u001b[0m\n"
     ]
    },
    {
     "name": "stdout",
     "output_type": "stream",
     "text": [
      "\n",
      "bestTest = 0.617584691\n",
      "bestIteration = 77\n",
      "\n",
      "Training on fold [0/5]\n"
     ]
    },
    {
     "name": "stderr",
     "output_type": "stream",
     "text": [
      "C:\\Users\\jvrdo\\anaconda3\\lib\\site-packages\\optuna\\distributions.py:560: UserWarning: The distribution is specified by [1, 10] and step=20, but the range is not divisible by `step`. It will be replaced by [1, 1].\n",
      "  warnings.warn(\n",
      "C:\\Users\\jvrdo\\anaconda3\\lib\\site-packages\\optuna\\distributions.py:560: UserWarning: The distribution is specified by [2, 10] and step=15, but the range is not divisible by `step`. It will be replaced by [2, 2].\n",
      "  warnings.warn(\n"
     ]
    },
    {
     "name": "stdout",
     "output_type": "stream",
     "text": [
      "\n",
      "bestTest = 0.6185371782\n",
      "bestIteration = 98\n",
      "\n",
      "Training on fold [1/5]\n",
      "\n",
      "bestTest = 0.6034992601\n",
      "bestIteration = 158\n",
      "\n",
      "Training on fold [2/5]\n",
      "\n",
      "bestTest = 0.6158880238\n",
      "bestIteration = 89\n",
      "\n",
      "Training on fold [3/5]\n",
      "\n",
      "bestTest = 0.615536016\n",
      "bestIteration = 97\n",
      "\n",
      "Training on fold [4/5]\n"
     ]
    },
    {
     "name": "stderr",
     "output_type": "stream",
     "text": [
      "\u001b[32m[I 2022-08-25 15:11:13,452]\u001b[0m Trial 145 finished with value: 0.7200869376601574 and parameters: {'iterations': 1200, 'learning_rate': 0.15552829909397364, 'random_strength': 7, 'bagging_temperature': 3, 'max_bin': 20, 'grow_policy': 'Lossguide', 'min_data_in_leaf': 1, 'max_depth': 2, 'l2_leaf_reg': 0.01875401741027351, 'one_hot_max_size': 500, 'auto_class_weights': 'Balanced'}. Best is trial 91 with value: 0.7222766107025115.\u001b[0m\n"
     ]
    },
    {
     "name": "stdout",
     "output_type": "stream",
     "text": [
      "\n",
      "bestTest = 0.6159865344\n",
      "bestIteration = 136\n",
      "\n",
      "Training on fold [0/5]\n",
      "\n",
      "bestTest = 0.62154738\n",
      "bestIteration = 78\n",
      "\n"
     ]
    },
    {
     "name": "stderr",
     "output_type": "stream",
     "text": [
      "C:\\Users\\jvrdo\\anaconda3\\lib\\site-packages\\optuna\\distributions.py:560: UserWarning: The distribution is specified by [1, 10] and step=20, but the range is not divisible by `step`. It will be replaced by [1, 1].\n",
      "  warnings.warn(\n",
      "C:\\Users\\jvrdo\\anaconda3\\lib\\site-packages\\optuna\\distributions.py:560: UserWarning: The distribution is specified by [2, 10] and step=15, but the range is not divisible by `step`. It will be replaced by [2, 2].\n",
      "  warnings.warn(\n"
     ]
    },
    {
     "name": "stdout",
     "output_type": "stream",
     "text": [
      "Training on fold [1/5]\n",
      "\n",
      "bestTest = 0.6035411985\n",
      "bestIteration = 203\n",
      "\n",
      "Training on fold [2/5]\n",
      "\n",
      "bestTest = 0.6132672672\n",
      "bestIteration = 152\n",
      "\n",
      "Training on fold [3/5]\n",
      "\n",
      "bestTest = 0.6104581114\n",
      "bestIteration = 207\n",
      "\n",
      "Training on fold [4/5]\n"
     ]
    },
    {
     "name": "stderr",
     "output_type": "stream",
     "text": [
      "\u001b[32m[I 2022-08-25 15:11:14,949]\u001b[0m Trial 146 finished with value: 0.7212277571910402 and parameters: {'iterations': 1300, 'learning_rate': 0.1216101435308454, 'random_strength': 2, 'bagging_temperature': 3, 'max_bin': 10, 'grow_policy': 'Depthwise', 'min_data_in_leaf': 1, 'max_depth': 2, 'l2_leaf_reg': 0.0001491190214681079, 'one_hot_max_size': 100, 'auto_class_weights': 'Balanced'}. Best is trial 91 with value: 0.7222766107025115.\u001b[0m\n"
     ]
    },
    {
     "name": "stdout",
     "output_type": "stream",
     "text": [
      "\n",
      "bestTest = 0.6161730231\n",
      "bestIteration = 144\n",
      "\n",
      "Training on fold [0/5]\n"
     ]
    },
    {
     "name": "stderr",
     "output_type": "stream",
     "text": [
      "C:\\Users\\jvrdo\\anaconda3\\lib\\site-packages\\optuna\\distributions.py:560: UserWarning: The distribution is specified by [1, 10] and step=20, but the range is not divisible by `step`. It will be replaced by [1, 1].\n",
      "  warnings.warn(\n",
      "C:\\Users\\jvrdo\\anaconda3\\lib\\site-packages\\optuna\\distributions.py:560: UserWarning: The distribution is specified by [2, 10] and step=15, but the range is not divisible by `step`. It will be replaced by [2, 2].\n",
      "  warnings.warn(\n"
     ]
    },
    {
     "name": "stdout",
     "output_type": "stream",
     "text": [
      "\n",
      "bestTest = 0.6209444857\n",
      "bestIteration = 106\n",
      "\n",
      "Training on fold [1/5]\n",
      "\n",
      "bestTest = 0.6016536067\n",
      "bestIteration = 173\n",
      "\n",
      "Training on fold [2/5]\n",
      "\n",
      "bestTest = 0.6146953412\n",
      "bestIteration = 161\n",
      "\n",
      "Training on fold [3/5]\n"
     ]
    },
    {
     "name": "stderr",
     "output_type": "stream",
     "text": [
      "\u001b[32m[I 2022-08-25 15:11:16,229]\u001b[0m Trial 147 finished with value: 0.7190394228501878 and parameters: {'iterations': 1000, 'learning_rate': 0.1021638162743064, 'random_strength': 2, 'bagging_temperature': 2, 'max_bin': 10, 'grow_policy': 'Depthwise', 'min_data_in_leaf': 1, 'max_depth': 2, 'l2_leaf_reg': 0.0009813683959586602, 'one_hot_max_size': 100, 'auto_class_weights': 'Balanced'}. Best is trial 91 with value: 0.7222766107025115.\u001b[0m\n"
     ]
    },
    {
     "name": "stdout",
     "output_type": "stream",
     "text": [
      "\n",
      "bestTest = 0.6141923568\n",
      "bestIteration = 163\n",
      "\n",
      "Training on fold [4/5]\n",
      "\n",
      "bestTest = 0.6223850356\n",
      "bestIteration = 59\n",
      "\n",
      "Training on fold [0/5]\n"
     ]
    },
    {
     "name": "stderr",
     "output_type": "stream",
     "text": [
      "C:\\Users\\jvrdo\\anaconda3\\lib\\site-packages\\optuna\\distributions.py:560: UserWarning: The distribution is specified by [1, 10] and step=20, but the range is not divisible by `step`. It will be replaced by [1, 1].\n",
      "  warnings.warn(\n",
      "C:\\Users\\jvrdo\\anaconda3\\lib\\site-packages\\optuna\\distributions.py:560: UserWarning: The distribution is specified by [2, 10] and step=15, but the range is not divisible by `step`. It will be replaced by [2, 2].\n",
      "  warnings.warn(\n"
     ]
    },
    {
     "name": "stdout",
     "output_type": "stream",
     "text": [
      "\n",
      "bestTest = 0.6198519151\n",
      "bestIteration = 41\n",
      "\n",
      "Training on fold [1/5]\n",
      "\n",
      "bestTest = 0.6038894016\n",
      "bestIteration = 79\n",
      "\n",
      "Training on fold [2/5]\n",
      "\n",
      "bestTest = 0.6142842453\n",
      "bestIteration = 40\n",
      "\n",
      "Training on fold [3/5]\n",
      "\n",
      "bestTest = 0.6102246247\n",
      "bestIteration = 102\n",
      "\n"
     ]
    },
    {
     "name": "stderr",
     "output_type": "stream",
     "text": [
      "\u001b[32m[I 2022-08-25 15:11:16,946]\u001b[0m Trial 148 finished with value: 0.7208179328456094 and parameters: {'iterations': 200, 'learning_rate': 0.25132201756872286, 'random_strength': 2, 'bagging_temperature': 4, 'max_bin': 10, 'grow_policy': 'Depthwise', 'min_data_in_leaf': 1, 'max_depth': 2, 'l2_leaf_reg': 0.00013068375890148376, 'one_hot_max_size': 100, 'auto_class_weights': 'Balanced'}. Best is trial 91 with value: 0.7222766107025115.\u001b[0m\n"
     ]
    },
    {
     "name": "stdout",
     "output_type": "stream",
     "text": [
      "Training on fold [4/5]\n",
      "\n",
      "bestTest = 0.620056142\n",
      "bestIteration = 49\n",
      "\n",
      "Training on fold [0/5]\n"
     ]
    },
    {
     "name": "stderr",
     "output_type": "stream",
     "text": [
      "C:\\Users\\jvrdo\\anaconda3\\lib\\site-packages\\optuna\\distributions.py:560: UserWarning: The distribution is specified by [1, 10] and step=20, but the range is not divisible by `step`. It will be replaced by [1, 1].\n",
      "  warnings.warn(\n",
      "C:\\Users\\jvrdo\\anaconda3\\lib\\site-packages\\optuna\\distributions.py:560: UserWarning: The distribution is specified by [2, 10] and step=15, but the range is not divisible by `step`. It will be replaced by [2, 2].\n",
      "  warnings.warn(\n"
     ]
    },
    {
     "name": "stdout",
     "output_type": "stream",
     "text": [
      "\n",
      "bestTest = 0.620272519\n",
      "bestIteration = 199\n",
      "\n",
      "Training on fold [1/5]\n",
      "\n",
      "bestTest = 0.6086767748\n",
      "bestIteration = 199\n",
      "\n",
      "Training on fold [2/5]\n",
      "\n",
      "bestTest = 0.6174345099\n",
      "bestIteration = 198\n",
      "\n",
      "Training on fold [3/5]\n",
      "\n",
      "bestTest = 0.6193039658\n",
      "bestIteration = 199\n",
      "\n",
      "Training on fold [4/5]\n"
     ]
    },
    {
     "name": "stderr",
     "output_type": "stream",
     "text": [
      "\u001b[32m[I 2022-08-25 15:11:18,678]\u001b[0m Trial 149 finished with value: 0.7176970698598121 and parameters: {'iterations': 200, 'learning_rate': 0.05270350587413929, 'random_strength': 3, 'bagging_temperature': 5, 'max_bin': 10, 'grow_policy': 'Depthwise', 'min_data_in_leaf': 1, 'max_depth': 2, 'l2_leaf_reg': 0.0001763451573729274, 'one_hot_max_size': 100, 'auto_class_weights': 'Balanced'}. Best is trial 91 with value: 0.7222766107025115.\u001b[0m\n"
     ]
    },
    {
     "name": "stdout",
     "output_type": "stream",
     "text": [
      "\n",
      "bestTest = 0.6188823032\n",
      "bestIteration = 199\n",
      "\n"
     ]
    }
   ],
   "source": [
    "sampler = optuna.samplers.TPESampler(seed=5)  # Make the sampler behave in a deterministic way.\n",
    "study = optuna.create_study(direction=\"maximize\", sampler=sampler)\n",
    "study.optimize(objective, n_trials=150)"
   ]
  },
  {
   "cell_type": "code",
   "execution_count": null,
   "id": "0abe43f0",
   "metadata": {},
   "outputs": [],
   "source": []
  }
 ],
 "metadata": {
  "kernelspec": {
   "display_name": "Python 3",
   "language": "python",
   "name": "python3"
  },
  "language_info": {
   "codemirror_mode": {
    "name": "ipython",
    "version": 3
   },
   "file_extension": ".py",
   "mimetype": "text/x-python",
   "name": "python",
   "nbconvert_exporter": "python",
   "pygments_lexer": "ipython3",
   "version": "3.8.8"
  }
 },
 "nbformat": 4,
 "nbformat_minor": 5
}
